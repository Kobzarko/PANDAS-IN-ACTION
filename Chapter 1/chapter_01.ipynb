{
 "cells": [
  {
   "cell_type": "markdown",
   "id": "c88a807e",
   "metadata": {},
   "source": [
    "#### Import data"
   ]
  },
  {
   "cell_type": "code",
   "execution_count": 1,
   "id": "721d6786",
   "metadata": {},
   "outputs": [],
   "source": [
    "import pandas as pd"
   ]
  },
  {
   "cell_type": "code",
   "execution_count": 3,
   "id": "0dc3d58c",
   "metadata": {},
   "outputs": [],
   "source": [
    "file = '/Users/ypushiev/Learning/PANDAS IN ACTION/Chapter 1/Data/movies.csv'"
   ]
  },
  {
   "cell_type": "code",
   "execution_count": 4,
   "id": "2cbfc8ac",
   "metadata": {},
   "outputs": [
    {
     "data": {
      "application/vnd.microsoft.datawrangler.viewer.v0+json": {
       "columns": [
        {
         "name": "index",
         "rawType": "int64",
         "type": "integer"
        },
        {
         "name": "Rank",
         "rawType": "int64",
         "type": "integer"
        },
        {
         "name": "Title",
         "rawType": "object",
         "type": "string"
        },
        {
         "name": "Studio",
         "rawType": "object",
         "type": "string"
        },
        {
         "name": "Gross",
         "rawType": "object",
         "type": "string"
        },
        {
         "name": "Year",
         "rawType": "int64",
         "type": "integer"
        }
       ],
       "ref": "deaca48f-66fb-4d67-8da5-95f27e9a5199",
       "rows": [
        [
         "0",
         "1",
         "Avengers: Endgame",
         "Buena Vista",
         "$2,796.30 ",
         "2019"
        ],
        [
         "1",
         "2",
         "Avatar",
         "Fox",
         "$2,789.70 ",
         "2009"
        ],
        [
         "2",
         "3",
         "Titanic",
         "Paramount",
         "$2,187.50 ",
         "1997"
        ],
        [
         "3",
         "4",
         "Star Wars: The Force Awakens",
         "Buena Vista",
         "$2,068.20 ",
         "2015"
        ],
        [
         "4",
         "5",
         "Avengers: Infinity War",
         "Buena Vista",
         "$2,048.40 ",
         "2018"
        ],
        [
         "5",
         "6",
         "Jurassic World",
         "Universal",
         "$1,671.70 ",
         "2015"
        ],
        [
         "6",
         "7",
         "Marvel's The Avengers",
         "Buena Vista",
         "$1,518.80 ",
         "2012"
        ],
        [
         "7",
         "8",
         "Furious 7",
         "Universal",
         "$1,516.00 ",
         "2015"
        ],
        [
         "8",
         "9",
         "Avengers: Age of Ultron",
         "Buena Vista",
         "$1,405.40 ",
         "2015"
        ],
        [
         "9",
         "10",
         "Black Panther",
         "Buena Vista",
         "$1,346.90 ",
         "2018"
        ],
        [
         "10",
         "11",
         "Harry Potter and the Deathly Hallows Part 2",
         "Warner Brothers",
         "$1,341.70 ",
         "2011"
        ],
        [
         "11",
         "12",
         "Star Wars: The Last Jedi",
         "Buena Vista",
         "$1,332.50 ",
         "2017"
        ],
        [
         "12",
         "13",
         "Jurassic World: Fallen Kingdom",
         "Universal",
         "$1,309.50 ",
         "2018"
        ],
        [
         "13",
         "14",
         "Frozen",
         "Buena Vista",
         "$1,276.50 ",
         "2013"
        ],
        [
         "14",
         "15",
         "Beauty and the Beast",
         "Buena Vista",
         "$1,263.50 ",
         "2017"
        ],
        [
         "15",
         "16",
         "Incredibles 2",
         "Buena Vista",
         "$1,242.80 ",
         "2018"
        ],
        [
         "16",
         "17",
         "The Fate of the Furious",
         "Universal",
         "$1,236.00 ",
         "2017"
        ],
        [
         "17",
         "18",
         "Iron Man 3",
         "Buena Vista",
         "$1,214.80 ",
         "2013"
        ],
        [
         "18",
         "19",
         "Minions",
         "Universal",
         "$1,159.40 ",
         "2015"
        ],
        [
         "19",
         "20",
         "Captain America: Civil War",
         "Buena Vista",
         "$1,153.30 ",
         "2016"
        ],
        [
         "20",
         "21",
         "Aquaman",
         "Warner Brothers",
         "$1,148.00 ",
         "2018"
        ],
        [
         "21",
         "22",
         "Captain Marvel",
         "Buena Vista",
         "$1,128.30 ",
         "2019"
        ],
        [
         "22",
         "23",
         "Transformers: Dark of the Moon",
         "Paramount",
         "$1,123.80 ",
         "2011"
        ],
        [
         "23",
         "24",
         "The Lord of the Rings: The Return of the King",
         "New Line",
         "$1,119.90 ",
         "2003"
        ],
        [
         "24",
         "25",
         "Skyfall",
         "Sony",
         "$1,108.60 ",
         "2012"
        ],
        [
         "25",
         "26",
         "Transformers: Age of Extinction",
         "Paramount",
         "$1,104.10 ",
         "2014"
        ],
        [
         "26",
         "27",
         "The Dark Knight Rises",
         "Warner Brothers",
         "$1,084.90 ",
         "2012"
        ],
        [
         "27",
         "28",
         "Toy Story 3",
         "Buena Vista",
         "$1,067.00 ",
         "2010"
        ],
        [
         "28",
         "29",
         "Pirates of the Caribbean: Dead Man's Chest",
         "Buena Vista",
         "$1,066.20 ",
         "2006"
        ],
        [
         "29",
         "30",
         "Rogue One: A Star Wars Story",
         "Buena Vista",
         "$1,056.10 ",
         "2016"
        ],
        [
         "30",
         "31",
         "Pirates of the Caribbean: On Stranger Tides",
         "Buena Vista",
         "$1,045.70 ",
         "2011"
        ],
        [
         "31",
         "32",
         "Despicable Me 3",
         "Universal",
         "$1,034.80 ",
         "2017"
        ],
        [
         "32",
         "33",
         "Jurassic Park",
         "Universal",
         "$1,029.50 ",
         "1993"
        ],
        [
         "33",
         "34",
         "Finding Dory",
         "Buena Vista",
         "$1,028.60 ",
         "2016"
        ],
        [
         "34",
         "35",
         "Star Wars: Episode I - The Phantom Menace",
         "Fox",
         "$1,027.00 ",
         "1999"
        ],
        [
         "35",
         "36",
         "Alice in Wonderland",
         "Buena Vista",
         "$1,025.50 ",
         "2010"
        ],
        [
         "36",
         "37",
         "Zootopia",
         "Buena Vista",
         "$1,023.80 ",
         "2016"
        ],
        [
         "37",
         "38",
         "The Hobbit: An Unexpected Journey",
         "Warner Brothers",
         "$1,021.10 ",
         "2012"
        ],
        [
         "38",
         "39",
         "The Dark Knight",
         "Warner Brothers",
         "$1,004.90 ",
         "2008"
        ],
        [
         "39",
         "40",
         "Harry Potter and the Sorcerer's Stone",
         "Warner Brothers",
         "$975.10 ",
         "2001"
        ],
        [
         "40",
         "41",
         "Despicable Me 2",
         "Universal",
         "$970.80 ",
         "2013"
        ],
        [
         "41",
         "42",
         "The Lion King",
         "Buena Vista",
         "$968.50 ",
         "1994"
        ],
        [
         "42",
         "43",
         "The Jungle Book",
         "Buena Vista",
         "$966.60 ",
         "2016"
        ],
        [
         "43",
         "44",
         "Pirates of the Caribbean: At World's End",
         "Buena Vista",
         "$963.40 ",
         "2007"
        ],
        [
         "44",
         "45",
         "Jumanji: Welcome to the Jungle",
         "Sony",
         "$962.10 ",
         "2017"
        ],
        [
         "45",
         "46",
         "Harry Potter and the Deathly Hallows Part 1",
         "Warner Brothers",
         "$960.40 ",
         "2010"
        ],
        [
         "46",
         "47",
         "The Hobbit: The Desolation of Smaug",
         "Warner Brothers",
         "$958.40 ",
         "2013"
        ],
        [
         "47",
         "48",
         "The Hobbit: The Battle of the Five Armies",
         "Warner Brothers",
         "$956.00 ",
         "2014"
        ],
        [
         "48",
         "49",
         "Finding Nemo",
         "Buena Vista",
         "$940.30 ",
         "2003"
        ],
        [
         "49",
         "50",
         "Harry Potter and the Order of the Phoenix",
         "Warner Brothers",
         "$940.00 ",
         "2007"
        ]
       ],
       "shape": {
        "columns": 5,
        "rows": 782
       }
      },
      "text/html": [
       "<div>\n",
       "<style scoped>\n",
       "    .dataframe tbody tr th:only-of-type {\n",
       "        vertical-align: middle;\n",
       "    }\n",
       "\n",
       "    .dataframe tbody tr th {\n",
       "        vertical-align: top;\n",
       "    }\n",
       "\n",
       "    .dataframe thead th {\n",
       "        text-align: right;\n",
       "    }\n",
       "</style>\n",
       "<table border=\"1\" class=\"dataframe\">\n",
       "  <thead>\n",
       "    <tr style=\"text-align: right;\">\n",
       "      <th></th>\n",
       "      <th>Rank</th>\n",
       "      <th>Title</th>\n",
       "      <th>Studio</th>\n",
       "      <th>Gross</th>\n",
       "      <th>Year</th>\n",
       "    </tr>\n",
       "  </thead>\n",
       "  <tbody>\n",
       "    <tr>\n",
       "      <th>0</th>\n",
       "      <td>1</td>\n",
       "      <td>Avengers: Endgame</td>\n",
       "      <td>Buena Vista</td>\n",
       "      <td>$2,796.30</td>\n",
       "      <td>2019</td>\n",
       "    </tr>\n",
       "    <tr>\n",
       "      <th>1</th>\n",
       "      <td>2</td>\n",
       "      <td>Avatar</td>\n",
       "      <td>Fox</td>\n",
       "      <td>$2,789.70</td>\n",
       "      <td>2009</td>\n",
       "    </tr>\n",
       "    <tr>\n",
       "      <th>2</th>\n",
       "      <td>3</td>\n",
       "      <td>Titanic</td>\n",
       "      <td>Paramount</td>\n",
       "      <td>$2,187.50</td>\n",
       "      <td>1997</td>\n",
       "    </tr>\n",
       "    <tr>\n",
       "      <th>3</th>\n",
       "      <td>4</td>\n",
       "      <td>Star Wars: The Force Awakens</td>\n",
       "      <td>Buena Vista</td>\n",
       "      <td>$2,068.20</td>\n",
       "      <td>2015</td>\n",
       "    </tr>\n",
       "    <tr>\n",
       "      <th>4</th>\n",
       "      <td>5</td>\n",
       "      <td>Avengers: Infinity War</td>\n",
       "      <td>Buena Vista</td>\n",
       "      <td>$2,048.40</td>\n",
       "      <td>2018</td>\n",
       "    </tr>\n",
       "    <tr>\n",
       "      <th>...</th>\n",
       "      <td>...</td>\n",
       "      <td>...</td>\n",
       "      <td>...</td>\n",
       "      <td>...</td>\n",
       "      <td>...</td>\n",
       "    </tr>\n",
       "    <tr>\n",
       "      <th>777</th>\n",
       "      <td>778</td>\n",
       "      <td>Yogi Bear</td>\n",
       "      <td>Warner Brothers</td>\n",
       "      <td>$201.60</td>\n",
       "      <td>2010</td>\n",
       "    </tr>\n",
       "    <tr>\n",
       "      <th>778</th>\n",
       "      <td>779</td>\n",
       "      <td>Garfield: The Movie</td>\n",
       "      <td>Fox</td>\n",
       "      <td>$200.80</td>\n",
       "      <td>2004</td>\n",
       "    </tr>\n",
       "    <tr>\n",
       "      <th>779</th>\n",
       "      <td>780</td>\n",
       "      <td>Cats &amp; Dogs</td>\n",
       "      <td>Warner Brothers</td>\n",
       "      <td>$200.70</td>\n",
       "      <td>2001</td>\n",
       "    </tr>\n",
       "    <tr>\n",
       "      <th>780</th>\n",
       "      <td>781</td>\n",
       "      <td>The Hunt for Red October</td>\n",
       "      <td>Paramount</td>\n",
       "      <td>$200.50</td>\n",
       "      <td>1990</td>\n",
       "    </tr>\n",
       "    <tr>\n",
       "      <th>781</th>\n",
       "      <td>782</td>\n",
       "      <td>Valkyrie</td>\n",
       "      <td>MGM</td>\n",
       "      <td>$200.30</td>\n",
       "      <td>2008</td>\n",
       "    </tr>\n",
       "  </tbody>\n",
       "</table>\n",
       "<p>782 rows × 5 columns</p>\n",
       "</div>"
      ],
      "text/plain": [
       "     Rank                         Title           Studio       Gross  Year\n",
       "0       1             Avengers: Endgame      Buena Vista  $2,796.30   2019\n",
       "1       2                        Avatar              Fox  $2,789.70   2009\n",
       "2       3                       Titanic        Paramount  $2,187.50   1997\n",
       "3       4  Star Wars: The Force Awakens      Buena Vista  $2,068.20   2015\n",
       "4       5        Avengers: Infinity War      Buena Vista  $2,048.40   2018\n",
       "..    ...                           ...              ...         ...   ...\n",
       "777   778                     Yogi Bear  Warner Brothers    $201.60   2010\n",
       "778   779           Garfield: The Movie              Fox    $200.80   2004\n",
       "779   780                   Cats & Dogs  Warner Brothers    $200.70   2001\n",
       "780   781      The Hunt for Red October        Paramount    $200.50   1990\n",
       "781   782                      Valkyrie              MGM    $200.30   2008\n",
       "\n",
       "[782 rows x 5 columns]"
      ]
     },
     "execution_count": 4,
     "metadata": {},
     "output_type": "execute_result"
    }
   ],
   "source": [
    "pd.read_csv(file)"
   ]
  },
  {
   "cell_type": "markdown",
   "id": "f1842300",
   "metadata": {},
   "source": [
    "#### Manipulating a DataFrame"
   ]
  },
  {
   "cell_type": "markdown",
   "id": "49efa149",
   "metadata": {},
   "source": [
    "Use the Title column as Index"
   ]
  },
  {
   "cell_type": "code",
   "execution_count": 7,
   "id": "6d7da78a",
   "metadata": {},
   "outputs": [],
   "source": [
    "movies = pd.read_csv(file, index_col='Title')"
   ]
  },
  {
   "cell_type": "markdown",
   "id": "0b83f0c7",
   "metadata": {},
   "source": [
    "First five records"
   ]
  },
  {
   "cell_type": "code",
   "execution_count": 10,
   "id": "2bb1a2a9",
   "metadata": {},
   "outputs": [
    {
     "data": {
      "application/vnd.microsoft.datawrangler.viewer.v0+json": {
       "columns": [
        {
         "name": "Title",
         "rawType": "object",
         "type": "string"
        },
        {
         "name": "Rank",
         "rawType": "int64",
         "type": "integer"
        },
        {
         "name": "Studio",
         "rawType": "object",
         "type": "string"
        },
        {
         "name": "Gross",
         "rawType": "object",
         "type": "string"
        },
        {
         "name": "Year",
         "rawType": "int64",
         "type": "integer"
        }
       ],
       "ref": "d5500291-8d93-4808-89ec-bee720041eb8",
       "rows": [
        [
         "Avengers: Endgame",
         "1",
         "Buena Vista",
         "$2,796.30 ",
         "2019"
        ],
        [
         "Avatar",
         "2",
         "Fox",
         "$2,789.70 ",
         "2009"
        ],
        [
         "Titanic",
         "3",
         "Paramount",
         "$2,187.50 ",
         "1997"
        ],
        [
         "Star Wars: The Force Awakens",
         "4",
         "Buena Vista",
         "$2,068.20 ",
         "2015"
        ],
        [
         "Avengers: Infinity War",
         "5",
         "Buena Vista",
         "$2,048.40 ",
         "2018"
        ]
       ],
       "shape": {
        "columns": 4,
        "rows": 5
       }
      },
      "text/html": [
       "<div>\n",
       "<style scoped>\n",
       "    .dataframe tbody tr th:only-of-type {\n",
       "        vertical-align: middle;\n",
       "    }\n",
       "\n",
       "    .dataframe tbody tr th {\n",
       "        vertical-align: top;\n",
       "    }\n",
       "\n",
       "    .dataframe thead th {\n",
       "        text-align: right;\n",
       "    }\n",
       "</style>\n",
       "<table border=\"1\" class=\"dataframe\">\n",
       "  <thead>\n",
       "    <tr style=\"text-align: right;\">\n",
       "      <th></th>\n",
       "      <th>Rank</th>\n",
       "      <th>Studio</th>\n",
       "      <th>Gross</th>\n",
       "      <th>Year</th>\n",
       "    </tr>\n",
       "    <tr>\n",
       "      <th>Title</th>\n",
       "      <th></th>\n",
       "      <th></th>\n",
       "      <th></th>\n",
       "      <th></th>\n",
       "    </tr>\n",
       "  </thead>\n",
       "  <tbody>\n",
       "    <tr>\n",
       "      <th>Avengers: Endgame</th>\n",
       "      <td>1</td>\n",
       "      <td>Buena Vista</td>\n",
       "      <td>$2,796.30</td>\n",
       "      <td>2019</td>\n",
       "    </tr>\n",
       "    <tr>\n",
       "      <th>Avatar</th>\n",
       "      <td>2</td>\n",
       "      <td>Fox</td>\n",
       "      <td>$2,789.70</td>\n",
       "      <td>2009</td>\n",
       "    </tr>\n",
       "    <tr>\n",
       "      <th>Titanic</th>\n",
       "      <td>3</td>\n",
       "      <td>Paramount</td>\n",
       "      <td>$2,187.50</td>\n",
       "      <td>1997</td>\n",
       "    </tr>\n",
       "    <tr>\n",
       "      <th>Star Wars: The Force Awakens</th>\n",
       "      <td>4</td>\n",
       "      <td>Buena Vista</td>\n",
       "      <td>$2,068.20</td>\n",
       "      <td>2015</td>\n",
       "    </tr>\n",
       "    <tr>\n",
       "      <th>Avengers: Infinity War</th>\n",
       "      <td>5</td>\n",
       "      <td>Buena Vista</td>\n",
       "      <td>$2,048.40</td>\n",
       "      <td>2018</td>\n",
       "    </tr>\n",
       "  </tbody>\n",
       "</table>\n",
       "</div>"
      ],
      "text/plain": [
       "                              Rank       Studio       Gross  Year\n",
       "Title                                                            \n",
       "Avengers: Endgame                1  Buena Vista  $2,796.30   2019\n",
       "Avatar                           2          Fox  $2,789.70   2009\n",
       "Titanic                          3    Paramount  $2,187.50   1997\n",
       "Star Wars: The Force Awakens     4  Buena Vista  $2,068.20   2015\n",
       "Avengers: Infinity War           5  Buena Vista  $2,048.40   2018"
      ]
     },
     "execution_count": 10,
     "metadata": {},
     "output_type": "execute_result"
    }
   ],
   "source": [
    "movies.head()"
   ]
  },
  {
   "cell_type": "markdown",
   "id": "046ea297",
   "metadata": {},
   "source": [
    "Last five records"
   ]
  },
  {
   "cell_type": "code",
   "execution_count": 9,
   "id": "d01c219b",
   "metadata": {},
   "outputs": [
    {
     "data": {
      "application/vnd.microsoft.datawrangler.viewer.v0+json": {
       "columns": [
        {
         "name": "Title",
         "rawType": "object",
         "type": "string"
        },
        {
         "name": "Rank",
         "rawType": "int64",
         "type": "integer"
        },
        {
         "name": "Studio",
         "rawType": "object",
         "type": "string"
        },
        {
         "name": "Gross",
         "rawType": "object",
         "type": "string"
        },
        {
         "name": "Year",
         "rawType": "int64",
         "type": "integer"
        }
       ],
       "ref": "1093d397-c7c2-4a0d-9928-8c7bc97894c3",
       "rows": [
        [
         "Yogi Bear",
         "778",
         "Warner Brothers",
         "$201.60 ",
         "2010"
        ],
        [
         "Garfield: The Movie",
         "779",
         "Fox",
         "$200.80 ",
         "2004"
        ],
        [
         "Cats & Dogs",
         "780",
         "Warner Brothers",
         "$200.70 ",
         "2001"
        ],
        [
         "The Hunt for Red October",
         "781",
         "Paramount",
         "$200.50 ",
         "1990"
        ],
        [
         "Valkyrie",
         "782",
         "MGM",
         "$200.30 ",
         "2008"
        ]
       ],
       "shape": {
        "columns": 4,
        "rows": 5
       }
      },
      "text/html": [
       "<div>\n",
       "<style scoped>\n",
       "    .dataframe tbody tr th:only-of-type {\n",
       "        vertical-align: middle;\n",
       "    }\n",
       "\n",
       "    .dataframe tbody tr th {\n",
       "        vertical-align: top;\n",
       "    }\n",
       "\n",
       "    .dataframe thead th {\n",
       "        text-align: right;\n",
       "    }\n",
       "</style>\n",
       "<table border=\"1\" class=\"dataframe\">\n",
       "  <thead>\n",
       "    <tr style=\"text-align: right;\">\n",
       "      <th></th>\n",
       "      <th>Rank</th>\n",
       "      <th>Studio</th>\n",
       "      <th>Gross</th>\n",
       "      <th>Year</th>\n",
       "    </tr>\n",
       "    <tr>\n",
       "      <th>Title</th>\n",
       "      <th></th>\n",
       "      <th></th>\n",
       "      <th></th>\n",
       "      <th></th>\n",
       "    </tr>\n",
       "  </thead>\n",
       "  <tbody>\n",
       "    <tr>\n",
       "      <th>Yogi Bear</th>\n",
       "      <td>778</td>\n",
       "      <td>Warner Brothers</td>\n",
       "      <td>$201.60</td>\n",
       "      <td>2010</td>\n",
       "    </tr>\n",
       "    <tr>\n",
       "      <th>Garfield: The Movie</th>\n",
       "      <td>779</td>\n",
       "      <td>Fox</td>\n",
       "      <td>$200.80</td>\n",
       "      <td>2004</td>\n",
       "    </tr>\n",
       "    <tr>\n",
       "      <th>Cats &amp; Dogs</th>\n",
       "      <td>780</td>\n",
       "      <td>Warner Brothers</td>\n",
       "      <td>$200.70</td>\n",
       "      <td>2001</td>\n",
       "    </tr>\n",
       "    <tr>\n",
       "      <th>The Hunt for Red October</th>\n",
       "      <td>781</td>\n",
       "      <td>Paramount</td>\n",
       "      <td>$200.50</td>\n",
       "      <td>1990</td>\n",
       "    </tr>\n",
       "    <tr>\n",
       "      <th>Valkyrie</th>\n",
       "      <td>782</td>\n",
       "      <td>MGM</td>\n",
       "      <td>$200.30</td>\n",
       "      <td>2008</td>\n",
       "    </tr>\n",
       "  </tbody>\n",
       "</table>\n",
       "</div>"
      ],
      "text/plain": [
       "                          Rank           Studio     Gross  Year\n",
       "Title                                                          \n",
       "Yogi Bear                  778  Warner Brothers  $201.60   2010\n",
       "Garfield: The Movie        779              Fox  $200.80   2004\n",
       "Cats & Dogs                780  Warner Brothers  $200.70   2001\n",
       "The Hunt for Red October   781        Paramount  $200.50   1990\n",
       "Valkyrie                   782              MGM  $200.30   2008"
      ]
     },
     "execution_count": 9,
     "metadata": {},
     "output_type": "execute_result"
    }
   ],
   "source": [
    "movies.tail()"
   ]
  },
  {
   "cell_type": "markdown",
   "id": "44da228b",
   "metadata": {},
   "source": [
    "How many records in movies dataframe"
   ]
  },
  {
   "cell_type": "code",
   "execution_count": 11,
   "id": "4e148a99",
   "metadata": {},
   "outputs": [
    {
     "data": {
      "text/plain": [
       "782"
      ]
     },
     "execution_count": 11,
     "metadata": {},
     "output_type": "execute_result"
    }
   ],
   "source": [
    "len(movies)"
   ]
  },
  {
   "cell_type": "markdown",
   "id": "21cb7e3f",
   "metadata": {},
   "source": [
    "How many records and columns in the dataframe"
   ]
  },
  {
   "cell_type": "code",
   "execution_count": 12,
   "id": "6ab57ca6",
   "metadata": {},
   "outputs": [
    {
     "data": {
      "text/plain": [
       "(782, 4)"
      ]
     },
     "execution_count": 12,
     "metadata": {},
     "output_type": "execute_result"
    }
   ],
   "source": [
    "movies.shape"
   ]
  },
  {
   "cell_type": "markdown",
   "id": "f7d55fde",
   "metadata": {},
   "source": [
    "How many ceils in df"
   ]
  },
  {
   "cell_type": "code",
   "execution_count": 13,
   "id": "19da2835",
   "metadata": {},
   "outputs": [
    {
     "data": {
      "text/plain": [
       "3128"
      ]
     },
     "execution_count": 13,
     "metadata": {},
     "output_type": "execute_result"
    }
   ],
   "source": [
    "movies.size"
   ]
  },
  {
   "cell_type": "markdown",
   "id": "ad9a3720",
   "metadata": {},
   "source": [
    "Types of columns"
   ]
  },
  {
   "cell_type": "code",
   "execution_count": 14,
   "id": "9e068e38",
   "metadata": {},
   "outputs": [
    {
     "data": {
      "application/vnd.microsoft.datawrangler.viewer.v0+json": {
       "columns": [
        {
         "name": "index",
         "rawType": "object",
         "type": "string"
        },
        {
         "name": "0",
         "rawType": "object",
         "type": "unknown"
        }
       ],
       "ref": "042df629-04c8-406b-a1fd-487b4b8f3099",
       "rows": [
        [
         "Rank",
         "int64"
        ],
        [
         "Studio",
         "object"
        ],
        [
         "Gross",
         "object"
        ],
        [
         "Year",
         "int64"
        ]
       ],
       "shape": {
        "columns": 1,
        "rows": 4
       }
      },
      "text/plain": [
       "Rank       int64\n",
       "Studio    object\n",
       "Gross     object\n",
       "Year       int64\n",
       "dtype: object"
      ]
     },
     "execution_count": 14,
     "metadata": {},
     "output_type": "execute_result"
    }
   ],
   "source": [
    "movies.dtypes"
   ]
  },
  {
   "cell_type": "markdown",
   "id": "4d431385",
   "metadata": {},
   "source": [
    "Find a 500 row in the df"
   ]
  },
  {
   "cell_type": "code",
   "execution_count": 16,
   "id": "87e489db",
   "metadata": {},
   "outputs": [
    {
     "data": {
      "application/vnd.microsoft.datawrangler.viewer.v0+json": {
       "columns": [
        {
         "name": "index",
         "rawType": "object",
         "type": "string"
        },
        {
         "name": "Maze Runner: The Death Cure",
         "rawType": "object",
         "type": "unknown"
        }
       ],
       "ref": "9449fe58-a572-4ade-a3a8-887bbcea5d60",
       "rows": [
        [
         "Rank",
         "500"
        ],
        [
         "Studio",
         "Fox"
        ],
        [
         "Gross",
         "$288.30 "
        ],
        [
         "Year",
         "2018"
        ]
       ],
       "shape": {
        "columns": 1,
        "rows": 4
       }
      },
      "text/plain": [
       "Rank           500\n",
       "Studio         Fox\n",
       "Gross     $288.30 \n",
       "Year          2018\n",
       "Name: Maze Runner: The Death Cure, dtype: object"
      ]
     },
     "execution_count": 16,
     "metadata": {},
     "output_type": "execute_result"
    }
   ],
   "source": [
    "movies.iloc[499]"
   ]
  },
  {
   "cell_type": "markdown",
   "id": "0e0ffaea",
   "metadata": {},
   "source": [
    "Find data about Forrest Gump movie."
   ]
  },
  {
   "cell_type": "code",
   "execution_count": 17,
   "id": "082bbf7f",
   "metadata": {},
   "outputs": [
    {
     "data": {
      "application/vnd.microsoft.datawrangler.viewer.v0+json": {
       "columns": [
        {
         "name": "index",
         "rawType": "object",
         "type": "string"
        },
        {
         "name": "Forrest Gump",
         "rawType": "object",
         "type": "unknown"
        }
       ],
       "ref": "591b2af1-5bef-4aac-8bd6-913810e44607",
       "rows": [
        [
         "Rank",
         "119"
        ],
        [
         "Studio",
         "Paramount"
        ],
        [
         "Gross",
         "$677.90 "
        ],
        [
         "Year",
         "1994"
        ]
       ],
       "shape": {
        "columns": 1,
        "rows": 4
       }
      },
      "text/plain": [
       "Rank            119\n",
       "Studio    Paramount\n",
       "Gross      $677.90 \n",
       "Year           1994\n",
       "Name: Forrest Gump, dtype: object"
      ]
     },
     "execution_count": 17,
     "metadata": {},
     "output_type": "execute_result"
    }
   ],
   "source": [
    "movies.loc['Forrest Gump']"
   ]
  },
  {
   "cell_type": "markdown",
   "id": "7da1d1a8",
   "metadata": {},
   "source": [
    "Find last five new movies"
   ]
  },
  {
   "cell_type": "code",
   "execution_count": 19,
   "id": "6c0c4836",
   "metadata": {},
   "outputs": [
    {
     "data": {
      "application/vnd.microsoft.datawrangler.viewer.v0+json": {
       "columns": [
        {
         "name": "Title",
         "rawType": "object",
         "type": "string"
        },
        {
         "name": "Rank",
         "rawType": "int64",
         "type": "integer"
        },
        {
         "name": "Studio",
         "rawType": "object",
         "type": "string"
        },
        {
         "name": "Gross",
         "rawType": "object",
         "type": "string"
        },
        {
         "name": "Year",
         "rawType": "int64",
         "type": "integer"
        }
       ],
       "ref": "f42cbb49-2396-4d38-bf0c-5d5cd6144db8",
       "rows": [
        [
         "Avengers: Endgame",
         "1",
         "Buena Vista",
         "$2,796.30 ",
         "2019"
        ],
        [
         "John Wick: Chapter 3 - Parabellum",
         "458",
         "Lionsgate",
         "$304.70 ",
         "2019"
        ],
        [
         "The Wandering Earth",
         "114",
         "China Film Corporation",
         "$699.80 ",
         "2019"
        ],
        [
         "Toy Story 4",
         "198",
         "Buena Vista",
         "$519.80 ",
         "2019"
        ],
        [
         "How to Train Your Dragon: The Hidden World",
         "199",
         "Universal",
         "$519.80 ",
         "2019"
        ]
       ],
       "shape": {
        "columns": 4,
        "rows": 5
       }
      },
      "text/html": [
       "<div>\n",
       "<style scoped>\n",
       "    .dataframe tbody tr th:only-of-type {\n",
       "        vertical-align: middle;\n",
       "    }\n",
       "\n",
       "    .dataframe tbody tr th {\n",
       "        vertical-align: top;\n",
       "    }\n",
       "\n",
       "    .dataframe thead th {\n",
       "        text-align: right;\n",
       "    }\n",
       "</style>\n",
       "<table border=\"1\" class=\"dataframe\">\n",
       "  <thead>\n",
       "    <tr style=\"text-align: right;\">\n",
       "      <th></th>\n",
       "      <th>Rank</th>\n",
       "      <th>Studio</th>\n",
       "      <th>Gross</th>\n",
       "      <th>Year</th>\n",
       "    </tr>\n",
       "    <tr>\n",
       "      <th>Title</th>\n",
       "      <th></th>\n",
       "      <th></th>\n",
       "      <th></th>\n",
       "      <th></th>\n",
       "    </tr>\n",
       "  </thead>\n",
       "  <tbody>\n",
       "    <tr>\n",
       "      <th>Avengers: Endgame</th>\n",
       "      <td>1</td>\n",
       "      <td>Buena Vista</td>\n",
       "      <td>$2,796.30</td>\n",
       "      <td>2019</td>\n",
       "    </tr>\n",
       "    <tr>\n",
       "      <th>John Wick: Chapter 3 - Parabellum</th>\n",
       "      <td>458</td>\n",
       "      <td>Lionsgate</td>\n",
       "      <td>$304.70</td>\n",
       "      <td>2019</td>\n",
       "    </tr>\n",
       "    <tr>\n",
       "      <th>The Wandering Earth</th>\n",
       "      <td>114</td>\n",
       "      <td>China Film Corporation</td>\n",
       "      <td>$699.80</td>\n",
       "      <td>2019</td>\n",
       "    </tr>\n",
       "    <tr>\n",
       "      <th>Toy Story 4</th>\n",
       "      <td>198</td>\n",
       "      <td>Buena Vista</td>\n",
       "      <td>$519.80</td>\n",
       "      <td>2019</td>\n",
       "    </tr>\n",
       "    <tr>\n",
       "      <th>How to Train Your Dragon: The Hidden World</th>\n",
       "      <td>199</td>\n",
       "      <td>Universal</td>\n",
       "      <td>$519.80</td>\n",
       "      <td>2019</td>\n",
       "    </tr>\n",
       "  </tbody>\n",
       "</table>\n",
       "</div>"
      ],
      "text/plain": [
       "                                            Rank                  Studio  \\\n",
       "Title                                                                      \n",
       "Avengers: Endgame                              1             Buena Vista   \n",
       "John Wick: Chapter 3 - Parabellum            458               Lionsgate   \n",
       "The Wandering Earth                          114  China Film Corporation   \n",
       "Toy Story 4                                  198             Buena Vista   \n",
       "How to Train Your Dragon: The Hidden World   199               Universal   \n",
       "\n",
       "                                                 Gross  Year  \n",
       "Title                                                         \n",
       "Avengers: Endgame                           $2,796.30   2019  \n",
       "John Wick: Chapter 3 - Parabellum             $304.70   2019  \n",
       "The Wandering Earth                           $699.80   2019  \n",
       "Toy Story 4                                   $519.80   2019  \n",
       "How to Train Your Dragon: The Hidden World    $519.80   2019  "
      ]
     },
     "execution_count": 19,
     "metadata": {},
     "output_type": "execute_result"
    }
   ],
   "source": [
    "movies.sort_values(by='Year', ascending=False).head()"
   ]
  },
  {
   "cell_type": "markdown",
   "id": "df7d77bd",
   "metadata": {},
   "source": [
    "Sort movies by a couple columns"
   ]
  },
  {
   "cell_type": "code",
   "execution_count": 20,
   "id": "e04403e8",
   "metadata": {},
   "outputs": [
    {
     "data": {
      "application/vnd.microsoft.datawrangler.viewer.v0+json": {
       "columns": [
        {
         "name": "Title",
         "rawType": "object",
         "type": "string"
        },
        {
         "name": "Rank",
         "rawType": "int64",
         "type": "integer"
        },
        {
         "name": "Studio",
         "rawType": "object",
         "type": "string"
        },
        {
         "name": "Gross",
         "rawType": "object",
         "type": "string"
        },
        {
         "name": "Year",
         "rawType": "int64",
         "type": "integer"
        }
       ],
       "ref": "fc8b9ce9-a61f-4e86-854b-69d6c80c034e",
       "rows": [
        [
         "The Blair Witch Project",
         "588",
         "Artisan",
         "$248.60 ",
         "1999"
        ],
        [
         "101 Dalmatians",
         "708",
         "Buena Vista",
         "$215.90 ",
         "1961"
        ],
        [
         "The Jungle Book",
         "755",
         "Buena Vista",
         "$205.80 ",
         "1967"
        ],
        [
         "Who Framed Roger Rabbit",
         "410",
         "Buena Vista",
         "$329.80 ",
         "1988"
        ],
        [
         "Dead Poets Society",
         "636",
         "Buena Vista",
         "$235.90 ",
         "1989"
        ]
       ],
       "shape": {
        "columns": 4,
        "rows": 5
       }
      },
      "text/html": [
       "<div>\n",
       "<style scoped>\n",
       "    .dataframe tbody tr th:only-of-type {\n",
       "        vertical-align: middle;\n",
       "    }\n",
       "\n",
       "    .dataframe tbody tr th {\n",
       "        vertical-align: top;\n",
       "    }\n",
       "\n",
       "    .dataframe thead th {\n",
       "        text-align: right;\n",
       "    }\n",
       "</style>\n",
       "<table border=\"1\" class=\"dataframe\">\n",
       "  <thead>\n",
       "    <tr style=\"text-align: right;\">\n",
       "      <th></th>\n",
       "      <th>Rank</th>\n",
       "      <th>Studio</th>\n",
       "      <th>Gross</th>\n",
       "      <th>Year</th>\n",
       "    </tr>\n",
       "    <tr>\n",
       "      <th>Title</th>\n",
       "      <th></th>\n",
       "      <th></th>\n",
       "      <th></th>\n",
       "      <th></th>\n",
       "    </tr>\n",
       "  </thead>\n",
       "  <tbody>\n",
       "    <tr>\n",
       "      <th>The Blair Witch Project</th>\n",
       "      <td>588</td>\n",
       "      <td>Artisan</td>\n",
       "      <td>$248.60</td>\n",
       "      <td>1999</td>\n",
       "    </tr>\n",
       "    <tr>\n",
       "      <th>101 Dalmatians</th>\n",
       "      <td>708</td>\n",
       "      <td>Buena Vista</td>\n",
       "      <td>$215.90</td>\n",
       "      <td>1961</td>\n",
       "    </tr>\n",
       "    <tr>\n",
       "      <th>The Jungle Book</th>\n",
       "      <td>755</td>\n",
       "      <td>Buena Vista</td>\n",
       "      <td>$205.80</td>\n",
       "      <td>1967</td>\n",
       "    </tr>\n",
       "    <tr>\n",
       "      <th>Who Framed Roger Rabbit</th>\n",
       "      <td>410</td>\n",
       "      <td>Buena Vista</td>\n",
       "      <td>$329.80</td>\n",
       "      <td>1988</td>\n",
       "    </tr>\n",
       "    <tr>\n",
       "      <th>Dead Poets Society</th>\n",
       "      <td>636</td>\n",
       "      <td>Buena Vista</td>\n",
       "      <td>$235.90</td>\n",
       "      <td>1989</td>\n",
       "    </tr>\n",
       "  </tbody>\n",
       "</table>\n",
       "</div>"
      ],
      "text/plain": [
       "                         Rank       Studio     Gross  Year\n",
       "Title                                                     \n",
       "The Blair Witch Project   588      Artisan  $248.60   1999\n",
       "101 Dalmatians            708  Buena Vista  $215.90   1961\n",
       "The Jungle Book           755  Buena Vista  $205.80   1967\n",
       "Who Framed Roger Rabbit   410  Buena Vista  $329.80   1988\n",
       "Dead Poets Society        636  Buena Vista  $235.90   1989"
      ]
     },
     "execution_count": 20,
     "metadata": {},
     "output_type": "execute_result"
    }
   ],
   "source": [
    "movies.sort_values(by=['Studio','Year']).head()"
   ]
  },
  {
   "cell_type": "markdown",
   "id": "74a412dd",
   "metadata": {},
   "source": [
    "Sort by index"
   ]
  },
  {
   "cell_type": "code",
   "execution_count": 22,
   "id": "70fc9abe",
   "metadata": {},
   "outputs": [
    {
     "data": {
      "application/vnd.microsoft.datawrangler.viewer.v0+json": {
       "columns": [
        {
         "name": "Title",
         "rawType": "object",
         "type": "string"
        },
        {
         "name": "Rank",
         "rawType": "int64",
         "type": "integer"
        },
        {
         "name": "Studio",
         "rawType": "object",
         "type": "string"
        },
        {
         "name": "Gross",
         "rawType": "object",
         "type": "string"
        },
        {
         "name": "Year",
         "rawType": "int64",
         "type": "integer"
        }
       ],
       "ref": "7dcc09cd-1667-4a75-a8ff-059da9def151",
       "rows": [
        [
         "10,000 B.C.",
         "536",
         "Warner Brothers",
         "$269.80 ",
         "2008"
        ],
        [
         "101 Dalmatians",
         "708",
         "Buena Vista",
         "$215.90 ",
         "1961"
        ],
        [
         "101 Dalmatians",
         "425",
         "Buena Vista",
         "$320.70 ",
         "1996"
        ],
        [
         "2 Fast 2 Furious",
         "632",
         "Universal",
         "$236.40 ",
         "2003"
        ],
        [
         "2012",
         "93",
         "Sony",
         "$769.70 ",
         "2009"
        ]
       ],
       "shape": {
        "columns": 4,
        "rows": 5
       }
      },
      "text/html": [
       "<div>\n",
       "<style scoped>\n",
       "    .dataframe tbody tr th:only-of-type {\n",
       "        vertical-align: middle;\n",
       "    }\n",
       "\n",
       "    .dataframe tbody tr th {\n",
       "        vertical-align: top;\n",
       "    }\n",
       "\n",
       "    .dataframe thead th {\n",
       "        text-align: right;\n",
       "    }\n",
       "</style>\n",
       "<table border=\"1\" class=\"dataframe\">\n",
       "  <thead>\n",
       "    <tr style=\"text-align: right;\">\n",
       "      <th></th>\n",
       "      <th>Rank</th>\n",
       "      <th>Studio</th>\n",
       "      <th>Gross</th>\n",
       "      <th>Year</th>\n",
       "    </tr>\n",
       "    <tr>\n",
       "      <th>Title</th>\n",
       "      <th></th>\n",
       "      <th></th>\n",
       "      <th></th>\n",
       "      <th></th>\n",
       "    </tr>\n",
       "  </thead>\n",
       "  <tbody>\n",
       "    <tr>\n",
       "      <th>10,000 B.C.</th>\n",
       "      <td>536</td>\n",
       "      <td>Warner Brothers</td>\n",
       "      <td>$269.80</td>\n",
       "      <td>2008</td>\n",
       "    </tr>\n",
       "    <tr>\n",
       "      <th>101 Dalmatians</th>\n",
       "      <td>708</td>\n",
       "      <td>Buena Vista</td>\n",
       "      <td>$215.90</td>\n",
       "      <td>1961</td>\n",
       "    </tr>\n",
       "    <tr>\n",
       "      <th>101 Dalmatians</th>\n",
       "      <td>425</td>\n",
       "      <td>Buena Vista</td>\n",
       "      <td>$320.70</td>\n",
       "      <td>1996</td>\n",
       "    </tr>\n",
       "    <tr>\n",
       "      <th>2 Fast 2 Furious</th>\n",
       "      <td>632</td>\n",
       "      <td>Universal</td>\n",
       "      <td>$236.40</td>\n",
       "      <td>2003</td>\n",
       "    </tr>\n",
       "    <tr>\n",
       "      <th>2012</th>\n",
       "      <td>93</td>\n",
       "      <td>Sony</td>\n",
       "      <td>$769.70</td>\n",
       "      <td>2009</td>\n",
       "    </tr>\n",
       "  </tbody>\n",
       "</table>\n",
       "</div>"
      ],
      "text/plain": [
       "                  Rank           Studio     Gross  Year\n",
       "Title                                                  \n",
       "10,000 B.C.        536  Warner Brothers  $269.80   2008\n",
       "101 Dalmatians     708      Buena Vista  $215.90   1961\n",
       "101 Dalmatians     425      Buena Vista  $320.70   1996\n",
       "2 Fast 2 Furious   632        Universal  $236.40   2003\n",
       "2012                93             Sony  $769.70   2009"
      ]
     },
     "execution_count": 22,
     "metadata": {},
     "output_type": "execute_result"
    }
   ],
   "source": [
    "movies.sort_index().head()"
   ]
  },
  {
   "cell_type": "markdown",
   "id": "2cbd3012",
   "metadata": {},
   "source": [
    "#### Counting values in a Series"
   ]
  },
  {
   "cell_type": "markdown",
   "id": "3513ecbf",
   "metadata": {},
   "source": [
    "Retrieve Studio column"
   ]
  },
  {
   "cell_type": "code",
   "execution_count": 23,
   "id": "3d23c547",
   "metadata": {},
   "outputs": [
    {
     "data": {
      "application/vnd.microsoft.datawrangler.viewer.v0+json": {
       "columns": [
        {
         "name": "Title",
         "rawType": "object",
         "type": "string"
        },
        {
         "name": "Studio",
         "rawType": "object",
         "type": "string"
        }
       ],
       "ref": "3e0b4924-ced9-477a-b3c6-d77775c44b10",
       "rows": [
        [
         "Avengers: Endgame",
         "Buena Vista"
        ],
        [
         "Avatar",
         "Fox"
        ],
        [
         "Titanic",
         "Paramount"
        ],
        [
         "Star Wars: The Force Awakens",
         "Buena Vista"
        ],
        [
         "Avengers: Infinity War",
         "Buena Vista"
        ],
        [
         "Jurassic World",
         "Universal"
        ],
        [
         "Marvel's The Avengers",
         "Buena Vista"
        ],
        [
         "Furious 7",
         "Universal"
        ],
        [
         "Avengers: Age of Ultron",
         "Buena Vista"
        ],
        [
         "Black Panther",
         "Buena Vista"
        ],
        [
         "Harry Potter and the Deathly Hallows Part 2",
         "Warner Brothers"
        ],
        [
         "Star Wars: The Last Jedi",
         "Buena Vista"
        ],
        [
         "Jurassic World: Fallen Kingdom",
         "Universal"
        ],
        [
         "Frozen",
         "Buena Vista"
        ],
        [
         "Beauty and the Beast",
         "Buena Vista"
        ],
        [
         "Incredibles 2",
         "Buena Vista"
        ],
        [
         "The Fate of the Furious",
         "Universal"
        ],
        [
         "Iron Man 3",
         "Buena Vista"
        ],
        [
         "Minions",
         "Universal"
        ],
        [
         "Captain America: Civil War",
         "Buena Vista"
        ],
        [
         "Aquaman",
         "Warner Brothers"
        ],
        [
         "Captain Marvel",
         "Buena Vista"
        ],
        [
         "Transformers: Dark of the Moon",
         "Paramount"
        ],
        [
         "The Lord of the Rings: The Return of the King",
         "New Line"
        ],
        [
         "Skyfall",
         "Sony"
        ],
        [
         "Transformers: Age of Extinction",
         "Paramount"
        ],
        [
         "The Dark Knight Rises",
         "Warner Brothers"
        ],
        [
         "Toy Story 3",
         "Buena Vista"
        ],
        [
         "Pirates of the Caribbean: Dead Man's Chest",
         "Buena Vista"
        ],
        [
         "Rogue One: A Star Wars Story",
         "Buena Vista"
        ],
        [
         "Pirates of the Caribbean: On Stranger Tides",
         "Buena Vista"
        ],
        [
         "Despicable Me 3",
         "Universal"
        ],
        [
         "Jurassic Park",
         "Universal"
        ],
        [
         "Finding Dory",
         "Buena Vista"
        ],
        [
         "Star Wars: Episode I - The Phantom Menace",
         "Fox"
        ],
        [
         "Alice in Wonderland",
         "Buena Vista"
        ],
        [
         "Zootopia",
         "Buena Vista"
        ],
        [
         "The Hobbit: An Unexpected Journey",
         "Warner Brothers"
        ],
        [
         "The Dark Knight",
         "Warner Brothers"
        ],
        [
         "Harry Potter and the Sorcerer's Stone",
         "Warner Brothers"
        ],
        [
         "Despicable Me 2",
         "Universal"
        ],
        [
         "The Lion King",
         "Buena Vista"
        ],
        [
         "The Jungle Book",
         "Buena Vista"
        ],
        [
         "Pirates of the Caribbean: At World's End",
         "Buena Vista"
        ],
        [
         "Jumanji: Welcome to the Jungle",
         "Sony"
        ],
        [
         "Harry Potter and the Deathly Hallows Part 1",
         "Warner Brothers"
        ],
        [
         "The Hobbit: The Desolation of Smaug",
         "Warner Brothers"
        ],
        [
         "The Hobbit: The Battle of the Five Armies",
         "Warner Brothers"
        ],
        [
         "Finding Nemo",
         "Buena Vista"
        ],
        [
         "Harry Potter and the Order of the Phoenix",
         "Warner Brothers"
        ]
       ],
       "shape": {
        "columns": 1,
        "rows": 782
       }
      },
      "text/plain": [
       "Title\n",
       "Avengers: Endgame                   Buena Vista\n",
       "Avatar                                      Fox\n",
       "Titanic                               Paramount\n",
       "Star Wars: The Force Awakens        Buena Vista\n",
       "Avengers: Infinity War              Buena Vista\n",
       "                                     ...       \n",
       "Yogi Bear                       Warner Brothers\n",
       "Garfield: The Movie                         Fox\n",
       "Cats & Dogs                     Warner Brothers\n",
       "The Hunt for Red October              Paramount\n",
       "Valkyrie                                    MGM\n",
       "Name: Studio, Length: 782, dtype: object"
      ]
     },
     "execution_count": 23,
     "metadata": {},
     "output_type": "execute_result"
    }
   ],
   "source": [
    "movies['Studio']"
   ]
  },
  {
   "cell_type": "markdown",
   "id": "b8bb4a14",
   "metadata": {},
   "source": [
    "Ten more successful studios"
   ]
  },
  {
   "cell_type": "code",
   "execution_count": 24,
   "id": "6eae648e",
   "metadata": {},
   "outputs": [
    {
     "data": {
      "application/vnd.microsoft.datawrangler.viewer.v0+json": {
       "columns": [
        {
         "name": "Studio",
         "rawType": "object",
         "type": "string"
        },
        {
         "name": "count",
         "rawType": "int64",
         "type": "integer"
        }
       ],
       "ref": "bf1a91cb-a3ad-44a3-9d74-1dc367df69db",
       "rows": [
        [
         "Warner Brothers",
         "132"
        ],
        [
         "Buena Vista",
         "125"
        ],
        [
         "Fox",
         "117"
        ],
        [
         "Universal",
         "109"
        ],
        [
         "Sony",
         "86"
        ],
        [
         "Paramount",
         "76"
        ],
        [
         "Dreamworks",
         "27"
        ],
        [
         "Lionsgate",
         "21"
        ],
        [
         "New Line",
         "16"
        ],
        [
         "MGM",
         "11"
        ]
       ],
       "shape": {
        "columns": 1,
        "rows": 10
       }
      },
      "text/plain": [
       "Studio\n",
       "Warner Brothers    132\n",
       "Buena Vista        125\n",
       "Fox                117\n",
       "Universal          109\n",
       "Sony                86\n",
       "Paramount           76\n",
       "Dreamworks          27\n",
       "Lionsgate           21\n",
       "New Line            16\n",
       "MGM                 11\n",
       "Name: count, dtype: int64"
      ]
     },
     "execution_count": 24,
     "metadata": {},
     "output_type": "execute_result"
    }
   ],
   "source": [
    "movies['Studio'].value_counts().head(10)"
   ]
  },
  {
   "cell_type": "markdown",
   "id": "453c2ec1",
   "metadata": {},
   "source": [
    "#### Filtering a Column by One or More Criteria"
   ]
  },
  {
   "cell_type": "markdown",
   "id": "4dd186e3",
   "metadata": {},
   "source": [
    "Movies that were released by Universal Studios."
   ]
  },
  {
   "cell_type": "code",
   "execution_count": 32,
   "id": "fd1e7986",
   "metadata": {},
   "outputs": [
    {
     "data": {
      "application/vnd.microsoft.datawrangler.viewer.v0+json": {
       "columns": [
        {
         "name": "Title",
         "rawType": "object",
         "type": "string"
        },
        {
         "name": "Rank",
         "rawType": "int64",
         "type": "integer"
        },
        {
         "name": "Studio",
         "rawType": "object",
         "type": "string"
        },
        {
         "name": "Gross",
         "rawType": "object",
         "type": "string"
        },
        {
         "name": "Year",
         "rawType": "int64",
         "type": "integer"
        }
       ],
       "ref": "5f563fa7-aa74-407d-ad44-375cccad2130",
       "rows": [
        [
         "Jurassic World",
         "6",
         "Universal",
         "$1,671.70 ",
         "2015"
        ],
        [
         "Furious 7",
         "8",
         "Universal",
         "$1,516.00 ",
         "2015"
        ],
        [
         "Jurassic World: Fallen Kingdom",
         "13",
         "Universal",
         "$1,309.50 ",
         "2018"
        ],
        [
         "The Fate of the Furious",
         "17",
         "Universal",
         "$1,236.00 ",
         "2017"
        ],
        [
         "Minions",
         "19",
         "Universal",
         "$1,159.40 ",
         "2015"
        ],
        [
         "Despicable Me 3",
         "32",
         "Universal",
         "$1,034.80 ",
         "2017"
        ],
        [
         "Jurassic Park",
         "33",
         "Universal",
         "$1,029.50 ",
         "1993"
        ],
        [
         "Despicable Me 2",
         "41",
         "Universal",
         "$970.80 ",
         "2013"
        ],
        [
         "The Secret Life of Pets",
         "63",
         "Universal",
         "$875.50 ",
         "2016"
        ],
        [
         "E.T.: The Extra-Terrestrial",
         "84",
         "Universal",
         "$792.90 ",
         "1982"
        ],
        [
         "Fast & Furious 6",
         "86",
         "Universal",
         "$788.70 ",
         "2013"
        ],
        [
         "Sing",
         "134",
         "Universal",
         "$634.20 ",
         "2016"
        ],
        [
         "Fast Five",
         "138",
         "Universal",
         "$626.10 ",
         "2011"
        ],
        [
         "The Lost World: Jurassic Park",
         "146",
         "Universal",
         "$618.60 ",
         "1997"
        ],
        [
         "Mamma Mia!",
         "148",
         "Universal",
         "$609.90 ",
         "2008"
        ],
        [
         "Fifty Shades of Grey",
         "165",
         "Universal",
         "$571.00 ",
         "2015"
        ],
        [
         "King Kong",
         "172",
         "Universal",
         "$550.50 ",
         "2005"
        ],
        [
         "Ted",
         "173",
         "Universal",
         "$549.40 ",
         "2012"
        ],
        [
         "Despicable Me",
         "181",
         "Universal",
         "$543.10 ",
         "2010"
        ],
        [
         "How to Train Your Dragon: The Hidden World",
         "199",
         "Universal",
         "$519.80 ",
         "2019"
        ],
        [
         "Meet the Fockers",
         "201",
         "Universal",
         "$516.60 ",
         "2004"
        ],
        [
         "Dr. Seuss' The Grinch",
         "202",
         "Universal",
         "$511.60 ",
         "2018"
        ],
        [
         "Bruce Almighty",
         "216",
         "Universal",
         "$484.60 ",
         "2003"
        ],
        [
         "Jaws",
         "228",
         "Universal",
         "$470.70 ",
         "1975"
        ],
        [
         "Lucy",
         "235",
         "Universal",
         "$463.40 ",
         "2014"
        ],
        [
         "The Bourne Ultimatum",
         "249",
         "Universal",
         "$442.80 ",
         "2007"
        ],
        [
         "Les Miserables",
         "251",
         "Universal",
         "$441.80 ",
         "2012"
        ],
        [
         "Warcraft",
         "257",
         "Universal",
         "$433.70 ",
         "2016"
        ],
        [
         "The Mummy Returns",
         "259",
         "Universal",
         "$433.00 ",
         "2001"
        ],
        [
         "The Mummy",
         "270",
         "Universal",
         "$415.90 ",
         "1999"
        ],
        [
         "Jason Bourne",
         "272",
         "Universal",
         "$415.50 ",
         "2016"
        ],
        [
         "The Mummy",
         "282",
         "Universal",
         "$409.20 ",
         "2017"
        ],
        [
         "The Mummy: Tomb of the Dragon Emperor",
         "289",
         "Universal",
         "$401.10 ",
         "2008"
        ],
        [
         "Snow White and the Huntsman",
         "292",
         "Universal",
         "$396.60 ",
         "2012"
        ],
        [
         "Mamma Mia! Here We Go Again",
         "294",
         "Universal",
         "$395.00 ",
         "2018"
        ],
        [
         "Fifty Shades Darker",
         "309",
         "Universal",
         "$381.50 ",
         "2017"
        ],
        [
         "Back to the Future",
         "311",
         "Universal",
         "$381.10 ",
         "1985"
        ],
        [
         "Fifty Shades Freed",
         "327",
         "Universal",
         "$371.90 ",
         "2018"
        ],
        [
         "Jurassic Park III",
         "334",
         "Universal",
         "$368.80 ",
         "2001"
        ],
        [
         "Notting Hill",
         "341",
         "Universal",
         "$363.90 ",
         "1999"
        ],
        [
         "Fast and Furious",
         "344",
         "Universal",
         "$363.20 ",
         "2009"
        ],
        [
         "Apollo 13",
         "360",
         "Universal",
         "$355.20 ",
         "1995"
        ],
        [
         "Dr. Seuss' The Lorax",
         "378",
         "Universal",
         "$348.80 ",
         "2012"
        ],
        [
         "How the Grinch Stole Christmas",
         "387",
         "Universal",
         "$345.10 ",
         "2000"
        ],
        [
         "The Flintstones",
         "390",
         "Universal",
         "$341.60 ",
         "1994"
        ],
        [
         "Wanted",
         "391",
         "Universal",
         "$341.40 ",
         "2008"
        ],
        [
         "The Great Wall",
         "400",
         "Universal",
         "$334.90 ",
         "2017"
        ],
        [
         "Back to the Future Part II",
         "406",
         "Universal",
         "$332.00 ",
         "1989"
        ],
        [
         "Meet the Parents",
         "409",
         "Universal",
         "$330.40 ",
         "2000"
        ],
        [
         "Schindler's List",
         "420",
         "Universal",
         "$322.10 ",
         "1993"
        ]
       ],
       "shape": {
        "columns": 4,
        "rows": 109
       }
      },
      "text/html": [
       "<div>\n",
       "<style scoped>\n",
       "    .dataframe tbody tr th:only-of-type {\n",
       "        vertical-align: middle;\n",
       "    }\n",
       "\n",
       "    .dataframe tbody tr th {\n",
       "        vertical-align: top;\n",
       "    }\n",
       "\n",
       "    .dataframe thead th {\n",
       "        text-align: right;\n",
       "    }\n",
       "</style>\n",
       "<table border=\"1\" class=\"dataframe\">\n",
       "  <thead>\n",
       "    <tr style=\"text-align: right;\">\n",
       "      <th></th>\n",
       "      <th>Rank</th>\n",
       "      <th>Studio</th>\n",
       "      <th>Gross</th>\n",
       "      <th>Year</th>\n",
       "    </tr>\n",
       "    <tr>\n",
       "      <th>Title</th>\n",
       "      <th></th>\n",
       "      <th></th>\n",
       "      <th></th>\n",
       "      <th></th>\n",
       "    </tr>\n",
       "  </thead>\n",
       "  <tbody>\n",
       "    <tr>\n",
       "      <th>Jurassic World</th>\n",
       "      <td>6</td>\n",
       "      <td>Universal</td>\n",
       "      <td>$1,671.70</td>\n",
       "      <td>2015</td>\n",
       "    </tr>\n",
       "    <tr>\n",
       "      <th>Furious 7</th>\n",
       "      <td>8</td>\n",
       "      <td>Universal</td>\n",
       "      <td>$1,516.00</td>\n",
       "      <td>2015</td>\n",
       "    </tr>\n",
       "    <tr>\n",
       "      <th>Jurassic World: Fallen Kingdom</th>\n",
       "      <td>13</td>\n",
       "      <td>Universal</td>\n",
       "      <td>$1,309.50</td>\n",
       "      <td>2018</td>\n",
       "    </tr>\n",
       "    <tr>\n",
       "      <th>The Fate of the Furious</th>\n",
       "      <td>17</td>\n",
       "      <td>Universal</td>\n",
       "      <td>$1,236.00</td>\n",
       "      <td>2017</td>\n",
       "    </tr>\n",
       "    <tr>\n",
       "      <th>Minions</th>\n",
       "      <td>19</td>\n",
       "      <td>Universal</td>\n",
       "      <td>$1,159.40</td>\n",
       "      <td>2015</td>\n",
       "    </tr>\n",
       "    <tr>\n",
       "      <th>...</th>\n",
       "      <td>...</td>\n",
       "      <td>...</td>\n",
       "      <td>...</td>\n",
       "      <td>...</td>\n",
       "    </tr>\n",
       "    <tr>\n",
       "      <th>The Break-Up</th>\n",
       "      <td>763</td>\n",
       "      <td>Universal</td>\n",
       "      <td>$205.00</td>\n",
       "      <td>2006</td>\n",
       "    </tr>\n",
       "    <tr>\n",
       "      <th>Everest</th>\n",
       "      <td>766</td>\n",
       "      <td>Universal</td>\n",
       "      <td>$203.40</td>\n",
       "      <td>2015</td>\n",
       "    </tr>\n",
       "    <tr>\n",
       "      <th>Patch Adams</th>\n",
       "      <td>772</td>\n",
       "      <td>Universal</td>\n",
       "      <td>$202.30</td>\n",
       "      <td>1998</td>\n",
       "    </tr>\n",
       "    <tr>\n",
       "      <th>Kindergarten Cop</th>\n",
       "      <td>775</td>\n",
       "      <td>Universal</td>\n",
       "      <td>$202.00</td>\n",
       "      <td>1990</td>\n",
       "    </tr>\n",
       "    <tr>\n",
       "      <th>Straight Outta Compton</th>\n",
       "      <td>776</td>\n",
       "      <td>Universal</td>\n",
       "      <td>$201.60</td>\n",
       "      <td>2015</td>\n",
       "    </tr>\n",
       "  </tbody>\n",
       "</table>\n",
       "<p>109 rows × 4 columns</p>\n",
       "</div>"
      ],
      "text/plain": [
       "                                Rank     Studio       Gross  Year\n",
       "Title                                                            \n",
       "Jurassic World                     6  Universal  $1,671.70   2015\n",
       "Furious 7                          8  Universal  $1,516.00   2015\n",
       "Jurassic World: Fallen Kingdom    13  Universal  $1,309.50   2018\n",
       "The Fate of the Furious           17  Universal  $1,236.00   2017\n",
       "Minions                           19  Universal  $1,159.40   2015\n",
       "...                              ...        ...         ...   ...\n",
       "The Break-Up                     763  Universal    $205.00   2006\n",
       "Everest                          766  Universal    $203.40   2015\n",
       "Patch Adams                      772  Universal    $202.30   1998\n",
       "Kindergarten Cop                 775  Universal    $202.00   1990\n",
       "Straight Outta Compton           776  Universal    $201.60   2015\n",
       "\n",
       "[109 rows x 4 columns]"
      ]
     },
     "execution_count": 32,
     "metadata": {},
     "output_type": "execute_result"
    }
   ],
   "source": [
    "movies[movies['Studio'] == 'Universal']"
   ]
  },
  {
   "cell_type": "markdown",
   "id": "ccd7cb20",
   "metadata": {},
   "source": [
    "Movies that were released by Universal Studios. Using a variable"
   ]
  },
  {
   "cell_type": "code",
   "execution_count": 36,
   "id": "98960bf4",
   "metadata": {},
   "outputs": [
    {
     "data": {
      "application/vnd.microsoft.datawrangler.viewer.v0+json": {
       "columns": [
        {
         "name": "Title",
         "rawType": "object",
         "type": "string"
        },
        {
         "name": "Rank",
         "rawType": "int64",
         "type": "integer"
        },
        {
         "name": "Studio",
         "rawType": "object",
         "type": "string"
        },
        {
         "name": "Gross",
         "rawType": "object",
         "type": "string"
        },
        {
         "name": "Year",
         "rawType": "int64",
         "type": "integer"
        }
       ],
       "ref": "0839c017-1a69-4707-b9e0-9f50171e98aa",
       "rows": [
        [
         "Jurassic World",
         "6",
         "Universal",
         "$1,671.70 ",
         "2015"
        ],
        [
         "Furious 7",
         "8",
         "Universal",
         "$1,516.00 ",
         "2015"
        ],
        [
         "Jurassic World: Fallen Kingdom",
         "13",
         "Universal",
         "$1,309.50 ",
         "2018"
        ],
        [
         "The Fate of the Furious",
         "17",
         "Universal",
         "$1,236.00 ",
         "2017"
        ],
        [
         "Minions",
         "19",
         "Universal",
         "$1,159.40 ",
         "2015"
        ]
       ],
       "shape": {
        "columns": 4,
        "rows": 5
       }
      },
      "text/html": [
       "<div>\n",
       "<style scoped>\n",
       "    .dataframe tbody tr th:only-of-type {\n",
       "        vertical-align: middle;\n",
       "    }\n",
       "\n",
       "    .dataframe tbody tr th {\n",
       "        vertical-align: top;\n",
       "    }\n",
       "\n",
       "    .dataframe thead th {\n",
       "        text-align: right;\n",
       "    }\n",
       "</style>\n",
       "<table border=\"1\" class=\"dataframe\">\n",
       "  <thead>\n",
       "    <tr style=\"text-align: right;\">\n",
       "      <th></th>\n",
       "      <th>Rank</th>\n",
       "      <th>Studio</th>\n",
       "      <th>Gross</th>\n",
       "      <th>Year</th>\n",
       "    </tr>\n",
       "    <tr>\n",
       "      <th>Title</th>\n",
       "      <th></th>\n",
       "      <th></th>\n",
       "      <th></th>\n",
       "      <th></th>\n",
       "    </tr>\n",
       "  </thead>\n",
       "  <tbody>\n",
       "    <tr>\n",
       "      <th>Jurassic World</th>\n",
       "      <td>6</td>\n",
       "      <td>Universal</td>\n",
       "      <td>$1,671.70</td>\n",
       "      <td>2015</td>\n",
       "    </tr>\n",
       "    <tr>\n",
       "      <th>Furious 7</th>\n",
       "      <td>8</td>\n",
       "      <td>Universal</td>\n",
       "      <td>$1,516.00</td>\n",
       "      <td>2015</td>\n",
       "    </tr>\n",
       "    <tr>\n",
       "      <th>Jurassic World: Fallen Kingdom</th>\n",
       "      <td>13</td>\n",
       "      <td>Universal</td>\n",
       "      <td>$1,309.50</td>\n",
       "      <td>2018</td>\n",
       "    </tr>\n",
       "    <tr>\n",
       "      <th>The Fate of the Furious</th>\n",
       "      <td>17</td>\n",
       "      <td>Universal</td>\n",
       "      <td>$1,236.00</td>\n",
       "      <td>2017</td>\n",
       "    </tr>\n",
       "    <tr>\n",
       "      <th>Minions</th>\n",
       "      <td>19</td>\n",
       "      <td>Universal</td>\n",
       "      <td>$1,159.40</td>\n",
       "      <td>2015</td>\n",
       "    </tr>\n",
       "  </tbody>\n",
       "</table>\n",
       "</div>"
      ],
      "text/plain": [
       "                                Rank     Studio       Gross  Year\n",
       "Title                                                            \n",
       "Jurassic World                     6  Universal  $1,671.70   2015\n",
       "Furious 7                          8  Universal  $1,516.00   2015\n",
       "Jurassic World: Fallen Kingdom    13  Universal  $1,309.50   2018\n",
       "The Fate of the Furious           17  Universal  $1,236.00   2017\n",
       "Minions                           19  Universal  $1,159.40   2015"
      ]
     },
     "execution_count": 36,
     "metadata": {},
     "output_type": "execute_result"
    }
   ],
   "source": [
    "released_by_universal = (movies['Studio'] == 'Universal')\n",
    "movies[released_by_universal].head()"
   ]
  },
  {
   "cell_type": "markdown",
   "id": "381da871",
   "metadata": {},
   "source": [
    "Movies that were released by Universal Studios and released in 2015"
   ]
  },
  {
   "cell_type": "code",
   "execution_count": 37,
   "id": "03ed68d2",
   "metadata": {},
   "outputs": [
    {
     "data": {
      "application/vnd.microsoft.datawrangler.viewer.v0+json": {
       "columns": [
        {
         "name": "Title",
         "rawType": "object",
         "type": "string"
        },
        {
         "name": "Rank",
         "rawType": "int64",
         "type": "integer"
        },
        {
         "name": "Studio",
         "rawType": "object",
         "type": "string"
        },
        {
         "name": "Gross",
         "rawType": "object",
         "type": "string"
        },
        {
         "name": "Year",
         "rawType": "int64",
         "type": "integer"
        }
       ],
       "ref": "f3398f33-f0f7-48cf-b1aa-27db10a06556",
       "rows": [
        [
         "Jurassic World",
         "6",
         "Universal",
         "$1,671.70 ",
         "2015"
        ],
        [
         "Furious 7",
         "8",
         "Universal",
         "$1,516.00 ",
         "2015"
        ],
        [
         "Minions",
         "19",
         "Universal",
         "$1,159.40 ",
         "2015"
        ],
        [
         "Fifty Shades of Grey",
         "165",
         "Universal",
         "$571.00 ",
         "2015"
        ],
        [
         "Pitch Perfect 2",
         "504",
         "Universal",
         "$287.50 ",
         "2015"
        ]
       ],
       "shape": {
        "columns": 4,
        "rows": 5
       }
      },
      "text/html": [
       "<div>\n",
       "<style scoped>\n",
       "    .dataframe tbody tr th:only-of-type {\n",
       "        vertical-align: middle;\n",
       "    }\n",
       "\n",
       "    .dataframe tbody tr th {\n",
       "        vertical-align: top;\n",
       "    }\n",
       "\n",
       "    .dataframe thead th {\n",
       "        text-align: right;\n",
       "    }\n",
       "</style>\n",
       "<table border=\"1\" class=\"dataframe\">\n",
       "  <thead>\n",
       "    <tr style=\"text-align: right;\">\n",
       "      <th></th>\n",
       "      <th>Rank</th>\n",
       "      <th>Studio</th>\n",
       "      <th>Gross</th>\n",
       "      <th>Year</th>\n",
       "    </tr>\n",
       "    <tr>\n",
       "      <th>Title</th>\n",
       "      <th></th>\n",
       "      <th></th>\n",
       "      <th></th>\n",
       "      <th></th>\n",
       "    </tr>\n",
       "  </thead>\n",
       "  <tbody>\n",
       "    <tr>\n",
       "      <th>Jurassic World</th>\n",
       "      <td>6</td>\n",
       "      <td>Universal</td>\n",
       "      <td>$1,671.70</td>\n",
       "      <td>2015</td>\n",
       "    </tr>\n",
       "    <tr>\n",
       "      <th>Furious 7</th>\n",
       "      <td>8</td>\n",
       "      <td>Universal</td>\n",
       "      <td>$1,516.00</td>\n",
       "      <td>2015</td>\n",
       "    </tr>\n",
       "    <tr>\n",
       "      <th>Minions</th>\n",
       "      <td>19</td>\n",
       "      <td>Universal</td>\n",
       "      <td>$1,159.40</td>\n",
       "      <td>2015</td>\n",
       "    </tr>\n",
       "    <tr>\n",
       "      <th>Fifty Shades of Grey</th>\n",
       "      <td>165</td>\n",
       "      <td>Universal</td>\n",
       "      <td>$571.00</td>\n",
       "      <td>2015</td>\n",
       "    </tr>\n",
       "    <tr>\n",
       "      <th>Pitch Perfect 2</th>\n",
       "      <td>504</td>\n",
       "      <td>Universal</td>\n",
       "      <td>$287.50</td>\n",
       "      <td>2015</td>\n",
       "    </tr>\n",
       "  </tbody>\n",
       "</table>\n",
       "</div>"
      ],
      "text/plain": [
       "                      Rank     Studio       Gross  Year\n",
       "Title                                                  \n",
       "Jurassic World           6  Universal  $1,671.70   2015\n",
       "Furious 7                8  Universal  $1,516.00   2015\n",
       "Minions                 19  Universal  $1,159.40   2015\n",
       "Fifty Shades of Grey   165  Universal    $571.00   2015\n",
       "Pitch Perfect 2        504  Universal    $287.50   2015"
      ]
     },
     "execution_count": 37,
     "metadata": {},
     "output_type": "execute_result"
    }
   ],
   "source": [
    "released_by_universal = (movies['Studio'] == 'Universal')\n",
    "released_in_2015 = (movies['Year'] == 2015)\n",
    "movies[released_by_universal & released_in_2015].head()"
   ]
  },
  {
   "cell_type": "markdown",
   "id": "a56a440f",
   "metadata": {},
   "source": [
    "Movies released by Universal Studios OR released in 2015"
   ]
  },
  {
   "cell_type": "code",
   "execution_count": 39,
   "id": "d64b92ba",
   "metadata": {},
   "outputs": [
    {
     "data": {
      "application/vnd.microsoft.datawrangler.viewer.v0+json": {
       "columns": [
        {
         "name": "Title",
         "rawType": "object",
         "type": "string"
        },
        {
         "name": "Rank",
         "rawType": "int64",
         "type": "integer"
        },
        {
         "name": "Studio",
         "rawType": "object",
         "type": "string"
        },
        {
         "name": "Gross",
         "rawType": "object",
         "type": "string"
        },
        {
         "name": "Year",
         "rawType": "int64",
         "type": "integer"
        }
       ],
       "ref": "15db3611-3aaf-4292-9cb5-9da94e37d836",
       "rows": [
        [
         "Star Wars: The Force Awakens",
         "4",
         "Buena Vista",
         "$2,068.20 ",
         "2015"
        ],
        [
         "Jurassic World",
         "6",
         "Universal",
         "$1,671.70 ",
         "2015"
        ],
        [
         "Furious 7",
         "8",
         "Universal",
         "$1,516.00 ",
         "2015"
        ],
        [
         "Avengers: Age of Ultron",
         "9",
         "Buena Vista",
         "$1,405.40 ",
         "2015"
        ],
        [
         "Jurassic World: Fallen Kingdom",
         "13",
         "Universal",
         "$1,309.50 ",
         "2018"
        ]
       ],
       "shape": {
        "columns": 4,
        "rows": 5
       }
      },
      "text/html": [
       "<div>\n",
       "<style scoped>\n",
       "    .dataframe tbody tr th:only-of-type {\n",
       "        vertical-align: middle;\n",
       "    }\n",
       "\n",
       "    .dataframe tbody tr th {\n",
       "        vertical-align: top;\n",
       "    }\n",
       "\n",
       "    .dataframe thead th {\n",
       "        text-align: right;\n",
       "    }\n",
       "</style>\n",
       "<table border=\"1\" class=\"dataframe\">\n",
       "  <thead>\n",
       "    <tr style=\"text-align: right;\">\n",
       "      <th></th>\n",
       "      <th>Rank</th>\n",
       "      <th>Studio</th>\n",
       "      <th>Gross</th>\n",
       "      <th>Year</th>\n",
       "    </tr>\n",
       "    <tr>\n",
       "      <th>Title</th>\n",
       "      <th></th>\n",
       "      <th></th>\n",
       "      <th></th>\n",
       "      <th></th>\n",
       "    </tr>\n",
       "  </thead>\n",
       "  <tbody>\n",
       "    <tr>\n",
       "      <th>Star Wars: The Force Awakens</th>\n",
       "      <td>4</td>\n",
       "      <td>Buena Vista</td>\n",
       "      <td>$2,068.20</td>\n",
       "      <td>2015</td>\n",
       "    </tr>\n",
       "    <tr>\n",
       "      <th>Jurassic World</th>\n",
       "      <td>6</td>\n",
       "      <td>Universal</td>\n",
       "      <td>$1,671.70</td>\n",
       "      <td>2015</td>\n",
       "    </tr>\n",
       "    <tr>\n",
       "      <th>Furious 7</th>\n",
       "      <td>8</td>\n",
       "      <td>Universal</td>\n",
       "      <td>$1,516.00</td>\n",
       "      <td>2015</td>\n",
       "    </tr>\n",
       "    <tr>\n",
       "      <th>Avengers: Age of Ultron</th>\n",
       "      <td>9</td>\n",
       "      <td>Buena Vista</td>\n",
       "      <td>$1,405.40</td>\n",
       "      <td>2015</td>\n",
       "    </tr>\n",
       "    <tr>\n",
       "      <th>Jurassic World: Fallen Kingdom</th>\n",
       "      <td>13</td>\n",
       "      <td>Universal</td>\n",
       "      <td>$1,309.50</td>\n",
       "      <td>2018</td>\n",
       "    </tr>\n",
       "  </tbody>\n",
       "</table>\n",
       "</div>"
      ],
      "text/plain": [
       "                                Rank       Studio       Gross  Year\n",
       "Title                                                              \n",
       "Star Wars: The Force Awakens       4  Buena Vista  $2,068.20   2015\n",
       "Jurassic World                     6    Universal  $1,671.70   2015\n",
       "Furious 7                          8    Universal  $1,516.00   2015\n",
       "Avengers: Age of Ultron            9  Buena Vista  $1,405.40   2015\n",
       "Jurassic World: Fallen Kingdom    13    Universal  $1,309.50   2018"
      ]
     },
     "execution_count": 39,
     "metadata": {},
     "output_type": "execute_result"
    }
   ],
   "source": [
    "released_by_universal = (movies['Studio'] == 'Universal')\n",
    "released_in_2015 = (movies['Year'] == 2015)\n",
    "movies[released_by_universal | released_in_2015].head()"
   ]
  },
  {
   "cell_type": "markdown",
   "id": "418858c1",
   "metadata": {},
   "source": [
    "Movies released before 1975"
   ]
  },
  {
   "cell_type": "code",
   "execution_count": 44,
   "id": "fdee0841",
   "metadata": {},
   "outputs": [
    {
     "data": {
      "application/vnd.microsoft.datawrangler.viewer.v0+json": {
       "columns": [
        {
         "name": "Title",
         "rawType": "object",
         "type": "string"
        },
        {
         "name": "Rank",
         "rawType": "int64",
         "type": "integer"
        },
        {
         "name": "Studio",
         "rawType": "object",
         "type": "string"
        },
        {
         "name": "Gross",
         "rawType": "object",
         "type": "string"
        },
        {
         "name": "Year",
         "rawType": "int64",
         "type": "integer"
        }
       ],
       "ref": "eabf22f7-70f5-42b8-8bf6-c7aeddd5f966",
       "rows": [
        [
         "The Exorcist",
         "252",
         "Warner Brothers",
         "$441.30 ",
         "1973"
        ],
        [
         "Gone with the Wind",
         "288",
         "MGM",
         "$402.40 ",
         "1939"
        ],
        [
         "Bambi",
         "540",
         "RKO",
         "$267.40 ",
         "1942"
        ],
        [
         "The Godfather",
         "604",
         "Paramount",
         "$245.10 ",
         "1972"
        ],
        [
         "101 Dalmatians",
         "708",
         "Buena Vista",
         "$215.90 ",
         "1961"
        ]
       ],
       "shape": {
        "columns": 4,
        "rows": 5
       }
      },
      "text/html": [
       "<div>\n",
       "<style scoped>\n",
       "    .dataframe tbody tr th:only-of-type {\n",
       "        vertical-align: middle;\n",
       "    }\n",
       "\n",
       "    .dataframe tbody tr th {\n",
       "        vertical-align: top;\n",
       "    }\n",
       "\n",
       "    .dataframe thead th {\n",
       "        text-align: right;\n",
       "    }\n",
       "</style>\n",
       "<table border=\"1\" class=\"dataframe\">\n",
       "  <thead>\n",
       "    <tr style=\"text-align: right;\">\n",
       "      <th></th>\n",
       "      <th>Rank</th>\n",
       "      <th>Studio</th>\n",
       "      <th>Gross</th>\n",
       "      <th>Year</th>\n",
       "    </tr>\n",
       "    <tr>\n",
       "      <th>Title</th>\n",
       "      <th></th>\n",
       "      <th></th>\n",
       "      <th></th>\n",
       "      <th></th>\n",
       "    </tr>\n",
       "  </thead>\n",
       "  <tbody>\n",
       "    <tr>\n",
       "      <th>The Exorcist</th>\n",
       "      <td>252</td>\n",
       "      <td>Warner Brothers</td>\n",
       "      <td>$441.30</td>\n",
       "      <td>1973</td>\n",
       "    </tr>\n",
       "    <tr>\n",
       "      <th>Gone with the Wind</th>\n",
       "      <td>288</td>\n",
       "      <td>MGM</td>\n",
       "      <td>$402.40</td>\n",
       "      <td>1939</td>\n",
       "    </tr>\n",
       "    <tr>\n",
       "      <th>Bambi</th>\n",
       "      <td>540</td>\n",
       "      <td>RKO</td>\n",
       "      <td>$267.40</td>\n",
       "      <td>1942</td>\n",
       "    </tr>\n",
       "    <tr>\n",
       "      <th>The Godfather</th>\n",
       "      <td>604</td>\n",
       "      <td>Paramount</td>\n",
       "      <td>$245.10</td>\n",
       "      <td>1972</td>\n",
       "    </tr>\n",
       "    <tr>\n",
       "      <th>101 Dalmatians</th>\n",
       "      <td>708</td>\n",
       "      <td>Buena Vista</td>\n",
       "      <td>$215.90</td>\n",
       "      <td>1961</td>\n",
       "    </tr>\n",
       "  </tbody>\n",
       "</table>\n",
       "</div>"
      ],
      "text/plain": [
       "                    Rank           Studio     Gross  Year\n",
       "Title                                                    \n",
       "The Exorcist         252  Warner Brothers  $441.30   1973\n",
       "Gone with the Wind   288              MGM  $402.40   1939\n",
       "Bambi                540              RKO  $267.40   1942\n",
       "The Godfather        604        Paramount  $245.10   1972\n",
       "101 Dalmatians       708      Buena Vista  $215.90   1961"
      ]
     },
     "execution_count": 44,
     "metadata": {},
     "output_type": "execute_result"
    }
   ],
   "source": [
    "before_1975 = (movies['Year'] < 1975)\n",
    "movies[before_1975].head()"
   ]
  },
  {
   "cell_type": "markdown",
   "id": "9c001195",
   "metadata": {},
   "source": [
    "Movies released between 1983 and 1986"
   ]
  },
  {
   "cell_type": "code",
   "execution_count": 47,
   "id": "d3aeaaef",
   "metadata": {},
   "outputs": [
    {
     "data": {
      "application/vnd.microsoft.datawrangler.viewer.v0+json": {
       "columns": [
        {
         "name": "Title",
         "rawType": "object",
         "type": "string"
        },
        {
         "name": "Rank",
         "rawType": "int64",
         "type": "integer"
        },
        {
         "name": "Studio",
         "rawType": "object",
         "type": "string"
        },
        {
         "name": "Gross",
         "rawType": "object",
         "type": "string"
        },
        {
         "name": "Year",
         "rawType": "int64",
         "type": "integer"
        }
       ],
       "ref": "d06fe08c-cb45-48e0-a26b-6cb353efc6b3",
       "rows": [
        [
         "E.T.: The Extra-Terrestrial",
         "84",
         "Universal",
         "$792.90 ",
         "1982"
        ],
        [
         "Star Wars",
         "91",
         "Fox",
         "$775.40 ",
         "1977"
        ],
        [
         "The Empire Strikes Back",
         "184",
         "Fox",
         "$538.40 ",
         "1980"
        ],
        [
         "Return of the Jedi",
         "222",
         "Fox",
         "$475.10 ",
         "1983"
        ],
        [
         "Jaws",
         "228",
         "Universal",
         "$470.70 ",
         "1975"
        ]
       ],
       "shape": {
        "columns": 4,
        "rows": 5
       }
      },
      "text/html": [
       "<div>\n",
       "<style scoped>\n",
       "    .dataframe tbody tr th:only-of-type {\n",
       "        vertical-align: middle;\n",
       "    }\n",
       "\n",
       "    .dataframe tbody tr th {\n",
       "        vertical-align: top;\n",
       "    }\n",
       "\n",
       "    .dataframe thead th {\n",
       "        text-align: right;\n",
       "    }\n",
       "</style>\n",
       "<table border=\"1\" class=\"dataframe\">\n",
       "  <thead>\n",
       "    <tr style=\"text-align: right;\">\n",
       "      <th></th>\n",
       "      <th>Rank</th>\n",
       "      <th>Studio</th>\n",
       "      <th>Gross</th>\n",
       "      <th>Year</th>\n",
       "    </tr>\n",
       "    <tr>\n",
       "      <th>Title</th>\n",
       "      <th></th>\n",
       "      <th></th>\n",
       "      <th></th>\n",
       "      <th></th>\n",
       "    </tr>\n",
       "  </thead>\n",
       "  <tbody>\n",
       "    <tr>\n",
       "      <th>E.T.: The Extra-Terrestrial</th>\n",
       "      <td>84</td>\n",
       "      <td>Universal</td>\n",
       "      <td>$792.90</td>\n",
       "      <td>1982</td>\n",
       "    </tr>\n",
       "    <tr>\n",
       "      <th>Star Wars</th>\n",
       "      <td>91</td>\n",
       "      <td>Fox</td>\n",
       "      <td>$775.40</td>\n",
       "      <td>1977</td>\n",
       "    </tr>\n",
       "    <tr>\n",
       "      <th>The Empire Strikes Back</th>\n",
       "      <td>184</td>\n",
       "      <td>Fox</td>\n",
       "      <td>$538.40</td>\n",
       "      <td>1980</td>\n",
       "    </tr>\n",
       "    <tr>\n",
       "      <th>Return of the Jedi</th>\n",
       "      <td>222</td>\n",
       "      <td>Fox</td>\n",
       "      <td>$475.10</td>\n",
       "      <td>1983</td>\n",
       "    </tr>\n",
       "    <tr>\n",
       "      <th>Jaws</th>\n",
       "      <td>228</td>\n",
       "      <td>Universal</td>\n",
       "      <td>$470.70</td>\n",
       "      <td>1975</td>\n",
       "    </tr>\n",
       "  </tbody>\n",
       "</table>\n",
       "</div>"
      ],
      "text/plain": [
       "                             Rank     Studio     Gross  Year\n",
       "Title                                                       \n",
       "E.T.: The Extra-Terrestrial    84  Universal  $792.90   1982\n",
       "Star Wars                      91        Fox  $775.40   1977\n",
       "The Empire Strikes Back       184        Fox  $538.40   1980\n",
       "Return of the Jedi            222        Fox  $475.10   1983\n",
       "Jaws                          228  Universal  $470.70   1975"
      ]
     },
     "execution_count": 47,
     "metadata": {},
     "output_type": "execute_result"
    }
   ],
   "source": [
    "mid_80s = (movies['Year'].between(1975,1986))\n",
    "movies[mid_80s].head()"
   ]
  },
  {
   "cell_type": "markdown",
   "id": "71f70d4e",
   "metadata": {},
   "source": [
    "Find movies with a name like '%dark%'. Using index, string lowercase and search with string contains."
   ]
  },
  {
   "cell_type": "code",
   "execution_count": 50,
   "id": "23c0ffcf",
   "metadata": {},
   "outputs": [
    {
     "data": {
      "application/vnd.microsoft.datawrangler.viewer.v0+json": {
       "columns": [
        {
         "name": "Title",
         "rawType": "object",
         "type": "string"
        },
        {
         "name": "Rank",
         "rawType": "int64",
         "type": "integer"
        },
        {
         "name": "Studio",
         "rawType": "object",
         "type": "string"
        },
        {
         "name": "Gross",
         "rawType": "object",
         "type": "string"
        },
        {
         "name": "Year",
         "rawType": "int64",
         "type": "integer"
        }
       ],
       "ref": "70ebb88c-7ac6-4a05-b0ce-93bc636083ca",
       "rows": [
        [
         "Transformers: Dark of the Moon",
         "23",
         "Paramount",
         "$1,123.80 ",
         "2011"
        ],
        [
         "The Dark Knight Rises",
         "27",
         "Warner Brothers",
         "$1,084.90 ",
         "2012"
        ],
        [
         "The Dark Knight",
         "39",
         "Warner Brothers",
         "$1,004.90 ",
         "2008"
        ],
        [
         "Thor: The Dark World",
         "132",
         "Buena Vista",
         "$644.60 ",
         "2013"
        ],
        [
         "Star Trek Into Darkness",
         "232",
         "Paramount",
         "$467.40 ",
         "2013"
        ]
       ],
       "shape": {
        "columns": 4,
        "rows": 5
       }
      },
      "text/html": [
       "<div>\n",
       "<style scoped>\n",
       "    .dataframe tbody tr th:only-of-type {\n",
       "        vertical-align: middle;\n",
       "    }\n",
       "\n",
       "    .dataframe tbody tr th {\n",
       "        vertical-align: top;\n",
       "    }\n",
       "\n",
       "    .dataframe thead th {\n",
       "        text-align: right;\n",
       "    }\n",
       "</style>\n",
       "<table border=\"1\" class=\"dataframe\">\n",
       "  <thead>\n",
       "    <tr style=\"text-align: right;\">\n",
       "      <th></th>\n",
       "      <th>Rank</th>\n",
       "      <th>Studio</th>\n",
       "      <th>Gross</th>\n",
       "      <th>Year</th>\n",
       "    </tr>\n",
       "    <tr>\n",
       "      <th>Title</th>\n",
       "      <th></th>\n",
       "      <th></th>\n",
       "      <th></th>\n",
       "      <th></th>\n",
       "    </tr>\n",
       "  </thead>\n",
       "  <tbody>\n",
       "    <tr>\n",
       "      <th>Transformers: Dark of the Moon</th>\n",
       "      <td>23</td>\n",
       "      <td>Paramount</td>\n",
       "      <td>$1,123.80</td>\n",
       "      <td>2011</td>\n",
       "    </tr>\n",
       "    <tr>\n",
       "      <th>The Dark Knight Rises</th>\n",
       "      <td>27</td>\n",
       "      <td>Warner Brothers</td>\n",
       "      <td>$1,084.90</td>\n",
       "      <td>2012</td>\n",
       "    </tr>\n",
       "    <tr>\n",
       "      <th>The Dark Knight</th>\n",
       "      <td>39</td>\n",
       "      <td>Warner Brothers</td>\n",
       "      <td>$1,004.90</td>\n",
       "      <td>2008</td>\n",
       "    </tr>\n",
       "    <tr>\n",
       "      <th>Thor: The Dark World</th>\n",
       "      <td>132</td>\n",
       "      <td>Buena Vista</td>\n",
       "      <td>$644.60</td>\n",
       "      <td>2013</td>\n",
       "    </tr>\n",
       "    <tr>\n",
       "      <th>Star Trek Into Darkness</th>\n",
       "      <td>232</td>\n",
       "      <td>Paramount</td>\n",
       "      <td>$467.40</td>\n",
       "      <td>2013</td>\n",
       "    </tr>\n",
       "  </tbody>\n",
       "</table>\n",
       "</div>"
      ],
      "text/plain": [
       "                                Rank           Studio       Gross  Year\n",
       "Title                                                                  \n",
       "Transformers: Dark of the Moon    23        Paramount  $1,123.80   2011\n",
       "The Dark Knight Rises             27  Warner Brothers  $1,084.90   2012\n",
       "The Dark Knight                   39  Warner Brothers  $1,004.90   2008\n",
       "Thor: The Dark World             132      Buena Vista    $644.60   2013\n",
       "Star Trek Into Darkness          232        Paramount    $467.40   2013"
      ]
     },
     "execution_count": 50,
     "metadata": {},
     "output_type": "execute_result"
    }
   ],
   "source": [
    "has_dark_in_title = movies.index.str.lower().str.contains('dark')\n",
    "movies[has_dark_in_title].head()"
   ]
  },
  {
   "cell_type": "markdown",
   "id": "f6f14411",
   "metadata": {},
   "source": [
    "#### Grouping Data"
   ]
  },
  {
   "cell_type": "markdown",
   "id": "dca5a357",
   "metadata": {},
   "source": [
    "Find studios with the highest gross"
   ]
  },
  {
   "cell_type": "code",
   "execution_count": null,
   "id": "2920485e",
   "metadata": {},
   "outputs": [],
   "source": [
    "movies[\"Gross\"] = (\n",
    "    movies[\"Gross\"]\n",
    "    .str.replace(\"$\", \"\", regex = False)\n",
    "    .str.replace(\",\", \"\", regex = False)\n",
    "    .astype(float)\n",
    ")"
   ]
  },
  {
   "cell_type": "code",
   "execution_count": 74,
   "id": "acc14b9e",
   "metadata": {},
   "outputs": [
    {
     "data": {
      "application/vnd.microsoft.datawrangler.viewer.v0+json": {
       "columns": [
        {
         "name": "Title",
         "rawType": "object",
         "type": "string"
        },
        {
         "name": "Gross",
         "rawType": "float64",
         "type": "float"
        }
       ],
       "ref": "e4dabe19-6218-41a9-934e-c0aa11705e8e",
       "rows": [
        [
         "Avengers: Endgame",
         "2796.3"
        ],
        [
         "Avatar",
         "2789.7"
        ],
        [
         "Titanic",
         "2187.5"
        ],
        [
         "Star Wars: The Force Awakens",
         "2068.2"
        ],
        [
         "Avengers: Infinity War",
         "2048.4"
        ]
       ],
       "shape": {
        "columns": 1,
        "rows": 5
       }
      },
      "text/plain": [
       "Title\n",
       "Avengers: Endgame               2796.3\n",
       "Avatar                          2789.7\n",
       "Titanic                         2187.5\n",
       "Star Wars: The Force Awakens    2068.2\n",
       "Avengers: Infinity War          2048.4\n",
       "Name: Gross, dtype: float64"
      ]
     },
     "execution_count": 74,
     "metadata": {},
     "output_type": "execute_result"
    }
   ],
   "source": [
    "movies[\"Gross\"].head()"
   ]
  },
  {
   "cell_type": "code",
   "execution_count": 70,
   "id": "9e9c038d",
   "metadata": {},
   "outputs": [
    {
     "data": {
      "application/vnd.microsoft.datawrangler.viewer.v0+json": {
       "columns": [
        {
         "name": "index",
         "rawType": "object",
         "type": "string"
        },
        {
         "name": "0",
         "rawType": "object",
         "type": "unknown"
        }
       ],
       "ref": "76f4a412-e7ca-45a1-82ff-69c5fae3d7dc",
       "rows": [
        [
         "Rank",
         "int64"
        ],
        [
         "Studio",
         "object"
        ],
        [
         "Gross",
         "float64"
        ],
        [
         "Year",
         "int64"
        ]
       ],
       "shape": {
        "columns": 1,
        "rows": 4
       }
      },
      "text/plain": [
       "Rank        int64\n",
       "Studio     object\n",
       "Gross     float64\n",
       "Year        int64\n",
       "dtype: object"
      ]
     },
     "execution_count": 70,
     "metadata": {},
     "output_type": "execute_result"
    }
   ],
   "source": [
    "movies.dtypes"
   ]
  },
  {
   "cell_type": "markdown",
   "id": "56871067",
   "metadata": {},
   "source": [
    "Find mean value for all movies by Gross"
   ]
  },
  {
   "cell_type": "code",
   "execution_count": 76,
   "id": "9172bc80",
   "metadata": {},
   "outputs": [
    {
     "data": {
      "text/plain": [
       "439.03"
      ]
     },
     "execution_count": 76,
     "metadata": {},
     "output_type": "execute_result"
    }
   ],
   "source": [
    "movies['Gross'].mean().__round__(2)"
   ]
  },
  {
   "cell_type": "markdown",
   "id": "1ac41075",
   "metadata": {},
   "source": [
    "Count movies group by Studios"
   ]
  },
  {
   "cell_type": "code",
   "execution_count": null,
   "id": "cbe00d87",
   "metadata": {},
   "outputs": [
    {
     "data": {
      "application/vnd.microsoft.datawrangler.viewer.v0+json": {
       "columns": [
        {
         "name": "Studio",
         "rawType": "object",
         "type": "string"
        },
        {
         "name": "Gross",
         "rawType": "int64",
         "type": "integer"
        }
       ],
       "ref": "c50e1b14-aef0-4167-9c4a-2e4cb048e2d9",
       "rows": [
        [
         "Artisan",
         "1"
        ],
        [
         "Buena Vista",
         "125"
        ],
        [
         "CL",
         "1"
        ],
        [
         "China Film Corporation",
         "1"
        ],
        [
         "Columbia",
         "5"
        ]
       ],
       "shape": {
        "columns": 1,
        "rows": 5
       }
      },
      "text/plain": [
       "Studio\n",
       "Artisan                     1\n",
       "Buena Vista               125\n",
       "CL                          1\n",
       "China Film Corporation      1\n",
       "Columbia                    5\n",
       "Name: Gross, dtype: int64"
      ]
     },
     "execution_count": 82,
     "metadata": {},
     "output_type": "execute_result"
    }
   ],
   "source": [
    "studios = movies.groupby('Studio')\n",
    "# count of movies per studio\n",
    "studios['Gross'].count().head()"
   ]
  },
  {
   "cell_type": "markdown",
   "id": "0621d89f",
   "metadata": {},
   "source": [
    "Sort number of movies by values "
   ]
  },
  {
   "cell_type": "code",
   "execution_count": 84,
   "id": "e2fd3396",
   "metadata": {},
   "outputs": [
    {
     "data": {
      "application/vnd.microsoft.datawrangler.viewer.v0+json": {
       "columns": [
        {
         "name": "Studio",
         "rawType": "object",
         "type": "string"
        },
        {
         "name": "Gross",
         "rawType": "int64",
         "type": "integer"
        }
       ],
       "ref": "1827bd5c-d1d7-4b72-99cd-cc1d6d823f4c",
       "rows": [
        [
         "Warner Brothers",
         "132"
        ],
        [
         "Buena Vista",
         "125"
        ],
        [
         "Fox",
         "117"
        ],
        [
         "Universal",
         "109"
        ],
        [
         "Sony",
         "86"
        ]
       ],
       "shape": {
        "columns": 1,
        "rows": 5
       }
      },
      "text/plain": [
       "Studio\n",
       "Warner Brothers    132\n",
       "Buena Vista        125\n",
       "Fox                117\n",
       "Universal          109\n",
       "Sony                86\n",
       "Name: Gross, dtype: int64"
      ]
     },
     "execution_count": 84,
     "metadata": {},
     "output_type": "execute_result"
    }
   ],
   "source": [
    "studios['Gross'].count().sort_values(ascending=False).head()"
   ]
  },
  {
   "cell_type": "markdown",
   "id": "b7abfd77",
   "metadata": {},
   "source": [
    "Summarize all values by Gross for all studios"
   ]
  },
  {
   "cell_type": "code",
   "execution_count": 86,
   "id": "513c9be4",
   "metadata": {},
   "outputs": [
    {
     "data": {
      "application/vnd.microsoft.datawrangler.viewer.v0+json": {
       "columns": [
        {
         "name": "Studio",
         "rawType": "object",
         "type": "string"
        },
        {
         "name": "Gross",
         "rawType": "float64",
         "type": "float"
        }
       ],
       "ref": "18b63af1-fc33-40f2-b904-f6863a58afaa",
       "rows": [
        [
         "Buena Vista",
         "73585.0"
        ],
        [
         "Warner Brothers",
         "58643.8"
        ],
        [
         "Fox",
         "50420.8"
        ],
        [
         "Universal",
         "44302.3"
        ],
        [
         "Sony",
         "32822.5"
        ]
       ],
       "shape": {
        "columns": 1,
        "rows": 5
       }
      },
      "text/plain": [
       "Studio\n",
       "Buena Vista        73585.0\n",
       "Warner Brothers    58643.8\n",
       "Fox                50420.8\n",
       "Universal          44302.3\n",
       "Sony               32822.5\n",
       "Name: Gross, dtype: float64"
      ]
     },
     "execution_count": 86,
     "metadata": {},
     "output_type": "execute_result"
    }
   ],
   "source": [
    "studios['Gross'].sum().sort_values(ascending=False).head()"
   ]
  }
 ],
 "metadata": {
  "kernelspec": {
   "display_name": "base",
   "language": "python",
   "name": "python3"
  },
  "language_info": {
   "codemirror_mode": {
    "name": "ipython",
    "version": 3
   },
   "file_extension": ".py",
   "mimetype": "text/x-python",
   "name": "python",
   "nbconvert_exporter": "python",
   "pygments_lexer": "ipython3",
   "version": "3.12.2"
  }
 },
 "nbformat": 4,
 "nbformat_minor": 5
}
