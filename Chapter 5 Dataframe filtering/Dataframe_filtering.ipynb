{
 "cells": [
  {
   "cell_type": "markdown",
   "id": "5ce976bc",
   "metadata": {},
   "source": [
    "### Optimizing A Data Set for Memory Usage"
   ]
  },
  {
   "cell_type": "code",
   "execution_count": 1,
   "id": "9a9d866d",
   "metadata": {},
   "outputs": [],
   "source": [
    "import pandas as pd"
   ]
  },
  {
   "cell_type": "code",
   "execution_count": 2,
   "id": "fe9365cd",
   "metadata": {},
   "outputs": [],
   "source": [
    "employees_data = '/Users/ypushiev/Learning/PANDAS IN ACTION/Chapter 5 Dataframe filtering/Data/employees.csv'"
   ]
  },
  {
   "cell_type": "code",
   "execution_count": 3,
   "id": "e8064dc1",
   "metadata": {},
   "outputs": [
    {
     "data": {
      "application/vnd.microsoft.datawrangler.viewer.v0+json": {
       "columns": [
        {
         "name": "index",
         "rawType": "object",
         "type": "string"
        },
        {
         "name": "0",
         "rawType": "int64",
         "type": "integer"
        }
       ],
       "ref": "1cba96a8-153a-4e9d-ac60-ac8e25a3bbe1",
       "rows": [
        [
         "First Name",
         "68"
        ],
        [
         "Gender",
         "147"
        ],
        [
         "Start Date",
         "2"
        ],
        [
         "Salary",
         "2"
        ],
        [
         "Mgmt",
         "68"
        ],
        [
         "Team",
         "44"
        ]
       ],
       "shape": {
        "columns": 1,
        "rows": 6
       }
      },
      "text/plain": [
       "First Name     68\n",
       "Gender        147\n",
       "Start Date      2\n",
       "Salary          2\n",
       "Mgmt           68\n",
       "Team           44\n",
       "dtype: int64"
      ]
     },
     "execution_count": 3,
     "metadata": {},
     "output_type": "execute_result"
    }
   ],
   "source": [
    "pd.read_csv(employees_data).isna().sum()"
   ]
  },
  {
   "cell_type": "code",
   "execution_count": 4,
   "id": "04693b2d",
   "metadata": {},
   "outputs": [
    {
     "name": "stderr",
     "output_type": "stream",
     "text": [
      "/var/folders/pg/x6kyk1l92fj8q4332g1j8rnw0000gp/T/ipykernel_35948/4257891297.py:1: UserWarning: Could not infer format, so each element will be parsed individually, falling back to `dateutil`. To ensure parsing is consistent and as-expected, please specify a format.\n",
      "  df_employees = pd.read_csv(employees_data, parse_dates = ['Start Date'])\n"
     ]
    }
   ],
   "source": [
    "df_employees = pd.read_csv(employees_data, parse_dates = ['Start Date'])"
   ]
  },
  {
   "cell_type": "code",
   "execution_count": 5,
   "id": "78931af4",
   "metadata": {},
   "outputs": [],
   "source": [
    "df_employees['Start Date'] = pd.to_datetime(df_employees['Start Date'], format='%Y-%m-%d')"
   ]
  },
  {
   "cell_type": "code",
   "execution_count": 6,
   "id": "33c301ac",
   "metadata": {},
   "outputs": [
    {
     "name": "stdout",
     "output_type": "stream",
     "text": [
      "<class 'pandas.core.frame.DataFrame'>\n",
      "RangeIndex: 1001 entries, 0 to 1000\n",
      "Data columns (total 6 columns):\n",
      " #   Column      Non-Null Count  Dtype         \n",
      "---  ------      --------------  -----         \n",
      " 0   First Name  933 non-null    object        \n",
      " 1   Gender      854 non-null    object        \n",
      " 2   Start Date  999 non-null    datetime64[ns]\n",
      " 3   Salary      999 non-null    float64       \n",
      " 4   Mgmt        933 non-null    object        \n",
      " 5   Team        957 non-null    object        \n",
      "dtypes: datetime64[ns](1), float64(1), object(4)\n",
      "memory usage: 47.1+ KB\n"
     ]
    }
   ],
   "source": [
    "df_employees.info()"
   ]
  },
  {
   "cell_type": "markdown",
   "id": "fa8babd1",
   "metadata": {},
   "source": [
    "**memory usage: 47.1+ KB**"
   ]
  },
  {
   "cell_type": "code",
   "execution_count": 7,
   "id": "8e90a185",
   "metadata": {},
   "outputs": [
    {
     "data": {
      "application/vnd.microsoft.datawrangler.viewer.v0+json": {
       "columns": [
        {
         "name": "index",
         "rawType": "int64",
         "type": "integer"
        },
        {
         "name": "First Name",
         "rawType": "object",
         "type": "string"
        },
        {
         "name": "Gender",
         "rawType": "object",
         "type": "unknown"
        },
        {
         "name": "Start Date",
         "rawType": "datetime64[ns]",
         "type": "datetime"
        },
        {
         "name": "Salary",
         "rawType": "float64",
         "type": "float"
        },
        {
         "name": "Mgmt",
         "rawType": "object",
         "type": "unknown"
        },
        {
         "name": "Team",
         "rawType": "object",
         "type": "unknown"
        }
       ],
       "ref": "759bad53-d227-407e-a4eb-71e4f54c57f4",
       "rows": [
        [
         "0",
         "Douglas",
         "Male",
         "1993-08-06 00:00:00",
         null,
         "True",
         "Marketing"
        ],
        [
         "1",
         "Thomas",
         "Male",
         "1996-03-31 00:00:00",
         "61933.0",
         "True",
         null
        ],
        [
         "2",
         "Maria",
         "Female",
         null,
         "130590.0",
         "False",
         "Finance"
        ],
        [
         "3",
         "Jerry",
         null,
         "2005-03-04 00:00:00",
         "138705.0",
         "True",
         "Finance"
        ],
        [
         "4",
         "Larry",
         "Male",
         "1998-01-24 00:00:00",
         "101004.0",
         "True",
         "IT"
        ]
       ],
       "shape": {
        "columns": 6,
        "rows": 5
       }
      },
      "text/html": [
       "<div>\n",
       "<style scoped>\n",
       "    .dataframe tbody tr th:only-of-type {\n",
       "        vertical-align: middle;\n",
       "    }\n",
       "\n",
       "    .dataframe tbody tr th {\n",
       "        vertical-align: top;\n",
       "    }\n",
       "\n",
       "    .dataframe thead th {\n",
       "        text-align: right;\n",
       "    }\n",
       "</style>\n",
       "<table border=\"1\" class=\"dataframe\">\n",
       "  <thead>\n",
       "    <tr style=\"text-align: right;\">\n",
       "      <th></th>\n",
       "      <th>First Name</th>\n",
       "      <th>Gender</th>\n",
       "      <th>Start Date</th>\n",
       "      <th>Salary</th>\n",
       "      <th>Mgmt</th>\n",
       "      <th>Team</th>\n",
       "    </tr>\n",
       "  </thead>\n",
       "  <tbody>\n",
       "    <tr>\n",
       "      <th>0</th>\n",
       "      <td>Douglas</td>\n",
       "      <td>Male</td>\n",
       "      <td>1993-08-06</td>\n",
       "      <td>NaN</td>\n",
       "      <td>True</td>\n",
       "      <td>Marketing</td>\n",
       "    </tr>\n",
       "    <tr>\n",
       "      <th>1</th>\n",
       "      <td>Thomas</td>\n",
       "      <td>Male</td>\n",
       "      <td>1996-03-31</td>\n",
       "      <td>61933.0</td>\n",
       "      <td>True</td>\n",
       "      <td>NaN</td>\n",
       "    </tr>\n",
       "    <tr>\n",
       "      <th>2</th>\n",
       "      <td>Maria</td>\n",
       "      <td>Female</td>\n",
       "      <td>NaT</td>\n",
       "      <td>130590.0</td>\n",
       "      <td>False</td>\n",
       "      <td>Finance</td>\n",
       "    </tr>\n",
       "    <tr>\n",
       "      <th>3</th>\n",
       "      <td>Jerry</td>\n",
       "      <td>NaN</td>\n",
       "      <td>2005-03-04</td>\n",
       "      <td>138705.0</td>\n",
       "      <td>True</td>\n",
       "      <td>Finance</td>\n",
       "    </tr>\n",
       "    <tr>\n",
       "      <th>4</th>\n",
       "      <td>Larry</td>\n",
       "      <td>Male</td>\n",
       "      <td>1998-01-24</td>\n",
       "      <td>101004.0</td>\n",
       "      <td>True</td>\n",
       "      <td>IT</td>\n",
       "    </tr>\n",
       "  </tbody>\n",
       "</table>\n",
       "</div>"
      ],
      "text/plain": [
       "  First Name  Gender Start Date    Salary   Mgmt       Team\n",
       "0    Douglas    Male 1993-08-06       NaN   True  Marketing\n",
       "1     Thomas    Male 1996-03-31   61933.0   True        NaN\n",
       "2      Maria  Female        NaT  130590.0  False    Finance\n",
       "3      Jerry     NaN 2005-03-04  138705.0   True    Finance\n",
       "4      Larry    Male 1998-01-24  101004.0   True         IT"
      ]
     },
     "execution_count": 7,
     "metadata": {},
     "output_type": "execute_result"
    }
   ],
   "source": [
    "df_employees.head()"
   ]
  },
  {
   "cell_type": "markdown",
   "id": "8dd71cde",
   "metadata": {},
   "source": [
    "**Convert datetime into the object to cut the time from the data**"
   ]
  },
  {
   "cell_type": "code",
   "execution_count": 8,
   "id": "2d984e5e",
   "metadata": {},
   "outputs": [],
   "source": [
    "df_employees['Start Date'] = df_employees['Start Date'].dt.strftime('%Y-%m-%d')"
   ]
  },
  {
   "cell_type": "code",
   "execution_count": 9,
   "id": "c32e73f7",
   "metadata": {},
   "outputs": [
    {
     "name": "stdout",
     "output_type": "stream",
     "text": [
      "<class 'pandas.core.frame.DataFrame'>\n",
      "RangeIndex: 1001 entries, 0 to 1000\n",
      "Data columns (total 6 columns):\n",
      " #   Column      Non-Null Count  Dtype  \n",
      "---  ------      --------------  -----  \n",
      " 0   First Name  933 non-null    object \n",
      " 1   Gender      854 non-null    object \n",
      " 2   Start Date  999 non-null    object \n",
      " 3   Salary      999 non-null    float64\n",
      " 4   Mgmt        933 non-null    object \n",
      " 5   Team        957 non-null    object \n",
      "dtypes: float64(1), object(5)\n",
      "memory usage: 47.1+ KB\n"
     ]
    }
   ],
   "source": [
    "df_employees.info()"
   ]
  },
  {
   "cell_type": "markdown",
   "id": "877c8e67",
   "metadata": {},
   "source": [
    "**memory usage: 47.1+ KB**"
   ]
  },
  {
   "cell_type": "markdown",
   "id": "7c670910",
   "metadata": {},
   "source": [
    "### Converting Data Types with the astype Method"
   ]
  },
  {
   "cell_type": "code",
   "execution_count": 10,
   "id": "8ba5d9f1",
   "metadata": {},
   "outputs": [
    {
     "data": {
      "application/vnd.microsoft.datawrangler.viewer.v0+json": {
       "columns": [
        {
         "name": "index",
         "rawType": "int64",
         "type": "integer"
        },
        {
         "name": "Mgmt",
         "rawType": "bool",
         "type": "boolean"
        }
       ],
       "ref": "17101df3-83c5-407c-8723-c8b8f875eda0",
       "rows": [
        [
         "996",
         "False"
        ],
        [
         "997",
         "False"
        ],
        [
         "998",
         "False"
        ],
        [
         "999",
         "True"
        ],
        [
         "1000",
         "True"
        ]
       ],
       "shape": {
        "columns": 1,
        "rows": 5
       }
      },
      "text/plain": [
       "996     False\n",
       "997     False\n",
       "998     False\n",
       "999      True\n",
       "1000     True\n",
       "Name: Mgmt, dtype: bool"
      ]
     },
     "execution_count": 10,
     "metadata": {},
     "output_type": "execute_result"
    }
   ],
   "source": [
    "df_employees['Mgmt'].astype('bool').tail()"
   ]
  },
  {
   "cell_type": "markdown",
   "id": "4b5eb0ac",
   "metadata": {},
   "source": [
    "**Convert object type into the bool type and see results in the size**"
   ]
  },
  {
   "cell_type": "code",
   "execution_count": 11,
   "id": "2818513b",
   "metadata": {},
   "outputs": [],
   "source": [
    "df_employees['Mgmt'] = df_employees['Mgmt'].astype('bool')"
   ]
  },
  {
   "cell_type": "code",
   "execution_count": 12,
   "id": "84e7e519",
   "metadata": {},
   "outputs": [
    {
     "name": "stdout",
     "output_type": "stream",
     "text": [
      "<class 'pandas.core.frame.DataFrame'>\n",
      "RangeIndex: 1001 entries, 0 to 1000\n",
      "Data columns (total 6 columns):\n",
      " #   Column      Non-Null Count  Dtype  \n",
      "---  ------      --------------  -----  \n",
      " 0   First Name  933 non-null    object \n",
      " 1   Gender      854 non-null    object \n",
      " 2   Start Date  999 non-null    object \n",
      " 3   Salary      999 non-null    float64\n",
      " 4   Mgmt        1001 non-null   bool   \n",
      " 5   Team        957 non-null    object \n",
      "dtypes: bool(1), float64(1), object(4)\n",
      "memory usage: 40.2+ KB\n"
     ]
    }
   ],
   "source": [
    "df_employees.info()"
   ]
  },
  {
   "cell_type": "markdown",
   "id": "851b89c9",
   "metadata": {},
   "source": [
    "**memory usage: 40.2+ KB**"
   ]
  },
  {
   "cell_type": "markdown",
   "id": "2df438ab",
   "metadata": {},
   "source": [
    "### Convert into the integer type"
   ]
  },
  {
   "cell_type": "markdown",
   "id": "5d6b45a7",
   "metadata": {},
   "source": [
    "**The Salary column contains NaN values**"
   ]
  },
  {
   "cell_type": "code",
   "execution_count": 13,
   "id": "8719f531",
   "metadata": {},
   "outputs": [
    {
     "data": {
      "text/plain": [
       "2"
      ]
     },
     "execution_count": 13,
     "metadata": {},
     "output_type": "execute_result"
    }
   ],
   "source": [
    "df_employees['Salary'].isna().sum()"
   ]
  },
  {
   "cell_type": "markdown",
   "id": "3d161a13",
   "metadata": {},
   "source": [
    "**Replace NaN values by 0**"
   ]
  },
  {
   "cell_type": "code",
   "execution_count": 14,
   "id": "b6d9996c",
   "metadata": {},
   "outputs": [],
   "source": [
    "df_employees['Salary']= df_employees['Salary'].fillna(0)"
   ]
  },
  {
   "cell_type": "code",
   "execution_count": 15,
   "id": "9850051a",
   "metadata": {},
   "outputs": [],
   "source": [
    "df_employees['Salary']=df_employees['Salary'].astype('int')"
   ]
  },
  {
   "cell_type": "code",
   "execution_count": 16,
   "id": "9f18a480",
   "metadata": {},
   "outputs": [
    {
     "data": {
      "application/vnd.microsoft.datawrangler.viewer.v0+json": {
       "columns": [
        {
         "name": "index",
         "rawType": "int64",
         "type": "integer"
        },
        {
         "name": "Salary",
         "rawType": "int64",
         "type": "integer"
        }
       ],
       "ref": "7650ea23-8194-40dc-a228-81b51d1b4ac5",
       "rows": [
        [
         "0",
         "0"
        ],
        [
         "1",
         "61933"
        ],
        [
         "2",
         "130590"
        ],
        [
         "3",
         "138705"
        ],
        [
         "4",
         "101004"
        ]
       ],
       "shape": {
        "columns": 1,
        "rows": 5
       }
      },
      "text/plain": [
       "0         0\n",
       "1     61933\n",
       "2    130590\n",
       "3    138705\n",
       "4    101004\n",
       "Name: Salary, dtype: int64"
      ]
     },
     "execution_count": 16,
     "metadata": {},
     "output_type": "execute_result"
    }
   ],
   "source": [
    "df_employees['Salary'].head()"
   ]
  },
  {
   "cell_type": "code",
   "execution_count": 17,
   "id": "ff81cef5",
   "metadata": {},
   "outputs": [
    {
     "name": "stdout",
     "output_type": "stream",
     "text": [
      "<class 'pandas.core.frame.DataFrame'>\n",
      "RangeIndex: 1001 entries, 0 to 1000\n",
      "Data columns (total 6 columns):\n",
      " #   Column      Non-Null Count  Dtype \n",
      "---  ------      --------------  ----- \n",
      " 0   First Name  933 non-null    object\n",
      " 1   Gender      854 non-null    object\n",
      " 2   Start Date  999 non-null    object\n",
      " 3   Salary      1001 non-null   int64 \n",
      " 4   Mgmt        1001 non-null   bool  \n",
      " 5   Team        957 non-null    object\n",
      "dtypes: bool(1), int64(1), object(4)\n",
      "memory usage: 40.2+ KB\n"
     ]
    }
   ],
   "source": [
    "df_employees.info()"
   ]
  },
  {
   "cell_type": "markdown",
   "id": "0622ec25",
   "metadata": {},
   "source": [
    "**The memory might be reduced more using INT32**"
   ]
  },
  {
   "cell_type": "markdown",
   "id": "63803698",
   "metadata": {},
   "source": [
    "**Check max value**"
   ]
  },
  {
   "cell_type": "code",
   "execution_count": 18,
   "id": "c3e09ebd",
   "metadata": {},
   "outputs": [
    {
     "data": {
      "text/plain": [
       "149908"
      ]
     },
     "execution_count": 18,
     "metadata": {},
     "output_type": "execute_result"
    }
   ],
   "source": [
    "df_employees['Salary'].max()"
   ]
  },
  {
   "cell_type": "code",
   "execution_count": 19,
   "id": "e60a6eaa",
   "metadata": {},
   "outputs": [],
   "source": [
    "df_employees['Salary']=df_employees['Salary'].astype('int32')"
   ]
  },
  {
   "cell_type": "code",
   "execution_count": 20,
   "id": "6a5aae2c",
   "metadata": {},
   "outputs": [
    {
     "name": "stdout",
     "output_type": "stream",
     "text": [
      "<class 'pandas.core.frame.DataFrame'>\n",
      "RangeIndex: 1001 entries, 0 to 1000\n",
      "Data columns (total 6 columns):\n",
      " #   Column      Non-Null Count  Dtype \n",
      "---  ------      --------------  ----- \n",
      " 0   First Name  933 non-null    object\n",
      " 1   Gender      854 non-null    object\n",
      " 2   Start Date  999 non-null    object\n",
      " 3   Salary      1001 non-null   int32 \n",
      " 4   Mgmt        1001 non-null   bool  \n",
      " 5   Team        957 non-null    object\n",
      "dtypes: bool(1), int32(1), object(4)\n",
      "memory usage: 36.3+ KB\n"
     ]
    }
   ],
   "source": [
    "df_employees.info()"
   ]
  },
  {
   "cell_type": "code",
   "execution_count": 21,
   "id": "e7207039",
   "metadata": {},
   "outputs": [
    {
     "data": {
      "text/plain": [
       "149908"
      ]
     },
     "execution_count": 21,
     "metadata": {},
     "output_type": "execute_result"
    }
   ],
   "source": [
    "df_employees['Salary'].max()"
   ]
  },
  {
   "cell_type": "code",
   "execution_count": 22,
   "id": "dc192180",
   "metadata": {},
   "outputs": [
    {
     "data": {
      "application/vnd.microsoft.datawrangler.viewer.v0+json": {
       "columns": [
        {
         "name": "index",
         "rawType": "int64",
         "type": "integer"
        },
        {
         "name": "Salary",
         "rawType": "int32",
         "type": "integer"
        }
       ],
       "ref": "2bd3245b-53e7-452e-b5ad-c4a06a2c89dd",
       "rows": [
        [
         "0",
         "0"
        ],
        [
         "1",
         "61933"
        ],
        [
         "2",
         "130590"
        ],
        [
         "3",
         "138705"
        ],
        [
         "4",
         "101004"
        ]
       ],
       "shape": {
        "columns": 1,
        "rows": 5
       }
      },
      "text/plain": [
       "0         0\n",
       "1     61933\n",
       "2    130590\n",
       "3    138705\n",
       "4    101004\n",
       "Name: Salary, dtype: int32"
      ]
     },
     "execution_count": 22,
     "metadata": {},
     "output_type": "execute_result"
    }
   ],
   "source": [
    "df_employees['Salary'].head()"
   ]
  },
  {
   "cell_type": "markdown",
   "id": "2fc1f636",
   "metadata": {},
   "source": [
    "**memory usage: 36.3+ KB**"
   ]
  },
  {
   "cell_type": "markdown",
   "id": "3721fd02",
   "metadata": {},
   "source": [
    "### Convert into categorical type"
   ]
  },
  {
   "cell_type": "markdown",
   "id": "1d8dd908",
   "metadata": {},
   "source": [
    "**Check unique values in the Dataframe** "
   ]
  },
  {
   "cell_type": "code",
   "execution_count": 23,
   "id": "ccfb1205",
   "metadata": {},
   "outputs": [
    {
     "data": {
      "application/vnd.microsoft.datawrangler.viewer.v0+json": {
       "columns": [
        {
         "name": "index",
         "rawType": "object",
         "type": "string"
        },
        {
         "name": "0",
         "rawType": "int64",
         "type": "integer"
        }
       ],
       "ref": "d6a82ada-0dd7-4c51-b22d-2ffd5e9b53c3",
       "rows": [
        [
         "First Name",
         "200"
        ],
        [
         "Gender",
         "2"
        ],
        [
         "Start Date",
         "971"
        ],
        [
         "Salary",
         "995"
        ],
        [
         "Mgmt",
         "2"
        ],
        [
         "Team",
         "10"
        ]
       ],
       "shape": {
        "columns": 1,
        "rows": 6
       }
      },
      "text/plain": [
       "First Name    200\n",
       "Gender          2\n",
       "Start Date    971\n",
       "Salary        995\n",
       "Mgmt            2\n",
       "Team           10\n",
       "dtype: int64"
      ]
     },
     "execution_count": 23,
     "metadata": {},
     "output_type": "execute_result"
    }
   ],
   "source": [
    "df_employees.nunique()"
   ]
  },
  {
   "cell_type": "markdown",
   "id": "1145146d",
   "metadata": {},
   "source": [
    "**The Gender column contains only 2 unique values** "
   ]
  },
  {
   "cell_type": "code",
   "execution_count": 24,
   "id": "3fc99d4c",
   "metadata": {},
   "outputs": [
    {
     "data": {
      "application/vnd.microsoft.datawrangler.viewer.v0+json": {
       "columns": [
        {
         "name": "index",
         "rawType": "int64",
         "type": "integer"
        },
        {
         "name": "Gender",
         "rawType": "category",
         "type": "unknown"
        }
       ],
       "ref": "23095c0d-a4ce-4f0c-a809-d6680d400919",
       "rows": [
        [
         "0",
         "Male"
        ],
        [
         "1",
         "Male"
        ],
        [
         "2",
         "Female"
        ],
        [
         "3",
         null
        ],
        [
         "4",
         "Male"
        ]
       ],
       "shape": {
        "columns": 1,
        "rows": 5
       }
      },
      "text/plain": [
       "0      Male\n",
       "1      Male\n",
       "2    Female\n",
       "3       NaN\n",
       "4      Male\n",
       "Name: Gender, dtype: category\n",
       "Categories (2, object): ['Female', 'Male']"
      ]
     },
     "execution_count": 24,
     "metadata": {},
     "output_type": "execute_result"
    }
   ],
   "source": [
    "df_employees['Gender'].astype('category').head()"
   ]
  },
  {
   "cell_type": "code",
   "execution_count": 25,
   "id": "ddbc0f81",
   "metadata": {},
   "outputs": [],
   "source": [
    "df_employees['Gender'] = df_employees['Gender'].astype('category')"
   ]
  },
  {
   "cell_type": "markdown",
   "id": "2c6cffab",
   "metadata": {},
   "source": [
    "**Convert Team column type**"
   ]
  },
  {
   "cell_type": "code",
   "execution_count": 26,
   "id": "dbb68d96",
   "metadata": {},
   "outputs": [],
   "source": [
    "df_employees['Team'] = df_employees['Team'].astype('category')"
   ]
  },
  {
   "cell_type": "code",
   "execution_count": 27,
   "id": "fe273c10",
   "metadata": {},
   "outputs": [
    {
     "name": "stdout",
     "output_type": "stream",
     "text": [
      "<class 'pandas.core.frame.DataFrame'>\n",
      "RangeIndex: 1001 entries, 0 to 1000\n",
      "Data columns (total 6 columns):\n",
      " #   Column      Non-Null Count  Dtype   \n",
      "---  ------      --------------  -----   \n",
      " 0   First Name  933 non-null    object  \n",
      " 1   Gender      854 non-null    category\n",
      " 2   Start Date  999 non-null    object  \n",
      " 3   Salary      1001 non-null   int32   \n",
      " 4   Mgmt        1001 non-null   bool    \n",
      " 5   Team        957 non-null    category\n",
      "dtypes: bool(1), category(2), int32(1), object(2)\n",
      "memory usage: 23.1+ KB\n"
     ]
    }
   ],
   "source": [
    "df_employees.info()"
   ]
  },
  {
   "cell_type": "markdown",
   "id": "acf78053",
   "metadata": {},
   "source": [
    "**memory usage: 23.1+ KB**"
   ]
  },
  {
   "cell_type": "markdown",
   "id": "57a9cb8d",
   "metadata": {},
   "source": [
    "**The Dataframe size has been decreased from 47.1+ KB to 23.1+ KB approximately 50%**"
   ]
  },
  {
   "cell_type": "markdown",
   "id": "978a3ce4",
   "metadata": {},
   "source": [
    "### Filtering by a Single Condition"
   ]
  },
  {
   "cell_type": "code",
   "execution_count": 28,
   "id": "de40d133",
   "metadata": {},
   "outputs": [
    {
     "data": {
      "text/plain": [
       "True"
      ]
     },
     "execution_count": 28,
     "metadata": {},
     "output_type": "execute_result"
    }
   ],
   "source": [
    "\"Maria\" == \"Maria\""
   ]
  },
  {
   "cell_type": "code",
   "execution_count": 29,
   "id": "e00a7289",
   "metadata": {},
   "outputs": [
    {
     "data": {
      "text/plain": [
       "False"
      ]
     },
     "execution_count": 29,
     "metadata": {},
     "output_type": "execute_result"
    }
   ],
   "source": [
    "\"Maria\" == \"Taylor\""
   ]
  },
  {
   "cell_type": "markdown",
   "id": "486f0ab4",
   "metadata": {},
   "source": [
    "**Check the column First Name**"
   ]
  },
  {
   "cell_type": "code",
   "execution_count": 30,
   "id": "31bcc72c",
   "metadata": {},
   "outputs": [
    {
     "data": {
      "application/vnd.microsoft.datawrangler.viewer.v0+json": {
       "columns": [
        {
         "name": "index",
         "rawType": "int64",
         "type": "integer"
        },
        {
         "name": "First Name",
         "rawType": "bool",
         "type": "boolean"
        }
       ],
       "ref": "bbaacef3-8899-4526-ae71-c8a9b9195c11",
       "rows": [
        [
         "0",
         "False"
        ],
        [
         "1",
         "False"
        ],
        [
         "2",
         "True"
        ],
        [
         "3",
         "False"
        ],
        [
         "4",
         "False"
        ],
        [
         "5",
         "False"
        ],
        [
         "6",
         "False"
        ],
        [
         "7",
         "False"
        ],
        [
         "8",
         "False"
        ],
        [
         "9",
         "False"
        ],
        [
         "10",
         "False"
        ],
        [
         "11",
         "False"
        ],
        [
         "12",
         "False"
        ],
        [
         "13",
         "False"
        ],
        [
         "14",
         "False"
        ],
        [
         "15",
         "False"
        ],
        [
         "16",
         "False"
        ],
        [
         "17",
         "False"
        ],
        [
         "18",
         "False"
        ],
        [
         "19",
         "False"
        ],
        [
         "20",
         "False"
        ],
        [
         "21",
         "False"
        ],
        [
         "22",
         "False"
        ],
        [
         "23",
         "False"
        ],
        [
         "24",
         "False"
        ],
        [
         "25",
         "False"
        ],
        [
         "26",
         "False"
        ],
        [
         "27",
         "False"
        ],
        [
         "28",
         "False"
        ],
        [
         "29",
         "False"
        ],
        [
         "30",
         "False"
        ],
        [
         "31",
         "False"
        ],
        [
         "32",
         "False"
        ],
        [
         "33",
         "False"
        ],
        [
         "34",
         "False"
        ],
        [
         "35",
         "False"
        ],
        [
         "36",
         "False"
        ],
        [
         "37",
         "False"
        ],
        [
         "38",
         "False"
        ],
        [
         "39",
         "False"
        ],
        [
         "40",
         "False"
        ],
        [
         "41",
         "False"
        ],
        [
         "42",
         "False"
        ],
        [
         "43",
         "False"
        ],
        [
         "44",
         "False"
        ],
        [
         "45",
         "False"
        ],
        [
         "46",
         "False"
        ],
        [
         "47",
         "False"
        ],
        [
         "48",
         "False"
        ],
        [
         "49",
         "False"
        ]
       ],
       "shape": {
        "columns": 1,
        "rows": 1001
       }
      },
      "text/plain": [
       "0       False\n",
       "1       False\n",
       "2        True\n",
       "3       False\n",
       "4       False\n",
       "        ...  \n",
       "996     False\n",
       "997     False\n",
       "998     False\n",
       "999     False\n",
       "1000    False\n",
       "Name: First Name, Length: 1001, dtype: bool"
      ]
     },
     "execution_count": 30,
     "metadata": {},
     "output_type": "execute_result"
    }
   ],
   "source": [
    "df_employees[\"First Name\"] == \"Maria\""
   ]
  },
  {
   "cell_type": "markdown",
   "id": "6a599f4c",
   "metadata": {},
   "source": [
    "**Select rows where \"First Name\" == \"Maria\"**"
   ]
  },
  {
   "cell_type": "code",
   "execution_count": 31,
   "id": "4708d2f6",
   "metadata": {},
   "outputs": [
    {
     "data": {
      "application/vnd.microsoft.datawrangler.viewer.v0+json": {
       "columns": [
        {
         "name": "index",
         "rawType": "int64",
         "type": "integer"
        },
        {
         "name": "First Name",
         "rawType": "object",
         "type": "string"
        },
        {
         "name": "Gender",
         "rawType": "category",
         "type": "unknown"
        },
        {
         "name": "Start Date",
         "rawType": "object",
         "type": "unknown"
        },
        {
         "name": "Salary",
         "rawType": "int32",
         "type": "integer"
        },
        {
         "name": "Mgmt",
         "rawType": "bool",
         "type": "boolean"
        },
        {
         "name": "Team",
         "rawType": "category",
         "type": "unknown"
        }
       ],
       "ref": "9d7da420-1f77-4a65-8fda-32de1ea4189e",
       "rows": [
        [
         "2",
         "Maria",
         "Female",
         null,
         "130590",
         "False",
         "Finance"
        ],
        [
         "198",
         "Maria",
         "Female",
         "1990-12-27",
         "36067",
         "True",
         "Product"
        ],
        [
         "815",
         "Maria",
         null,
         "1986-01-18",
         "106562",
         "False",
         "HR"
        ],
        [
         "844",
         "Maria",
         null,
         "1985-06-19",
         "148857",
         "False",
         "Legal"
        ],
        [
         "936",
         "Maria",
         "Female",
         "2003-03-14",
         "96250",
         "False",
         "Business Dev"
        ],
        [
         "984",
         "Maria",
         "Female",
         "2011-10-15",
         "43455",
         "False",
         "Engineering"
        ]
       ],
       "shape": {
        "columns": 6,
        "rows": 6
       }
      },
      "text/html": [
       "<div>\n",
       "<style scoped>\n",
       "    .dataframe tbody tr th:only-of-type {\n",
       "        vertical-align: middle;\n",
       "    }\n",
       "\n",
       "    .dataframe tbody tr th {\n",
       "        vertical-align: top;\n",
       "    }\n",
       "\n",
       "    .dataframe thead th {\n",
       "        text-align: right;\n",
       "    }\n",
       "</style>\n",
       "<table border=\"1\" class=\"dataframe\">\n",
       "  <thead>\n",
       "    <tr style=\"text-align: right;\">\n",
       "      <th></th>\n",
       "      <th>First Name</th>\n",
       "      <th>Gender</th>\n",
       "      <th>Start Date</th>\n",
       "      <th>Salary</th>\n",
       "      <th>Mgmt</th>\n",
       "      <th>Team</th>\n",
       "    </tr>\n",
       "  </thead>\n",
       "  <tbody>\n",
       "    <tr>\n",
       "      <th>2</th>\n",
       "      <td>Maria</td>\n",
       "      <td>Female</td>\n",
       "      <td>NaN</td>\n",
       "      <td>130590</td>\n",
       "      <td>False</td>\n",
       "      <td>Finance</td>\n",
       "    </tr>\n",
       "    <tr>\n",
       "      <th>198</th>\n",
       "      <td>Maria</td>\n",
       "      <td>Female</td>\n",
       "      <td>1990-12-27</td>\n",
       "      <td>36067</td>\n",
       "      <td>True</td>\n",
       "      <td>Product</td>\n",
       "    </tr>\n",
       "    <tr>\n",
       "      <th>815</th>\n",
       "      <td>Maria</td>\n",
       "      <td>NaN</td>\n",
       "      <td>1986-01-18</td>\n",
       "      <td>106562</td>\n",
       "      <td>False</td>\n",
       "      <td>HR</td>\n",
       "    </tr>\n",
       "    <tr>\n",
       "      <th>844</th>\n",
       "      <td>Maria</td>\n",
       "      <td>NaN</td>\n",
       "      <td>1985-06-19</td>\n",
       "      <td>148857</td>\n",
       "      <td>False</td>\n",
       "      <td>Legal</td>\n",
       "    </tr>\n",
       "    <tr>\n",
       "      <th>936</th>\n",
       "      <td>Maria</td>\n",
       "      <td>Female</td>\n",
       "      <td>2003-03-14</td>\n",
       "      <td>96250</td>\n",
       "      <td>False</td>\n",
       "      <td>Business Dev</td>\n",
       "    </tr>\n",
       "    <tr>\n",
       "      <th>984</th>\n",
       "      <td>Maria</td>\n",
       "      <td>Female</td>\n",
       "      <td>2011-10-15</td>\n",
       "      <td>43455</td>\n",
       "      <td>False</td>\n",
       "      <td>Engineering</td>\n",
       "    </tr>\n",
       "  </tbody>\n",
       "</table>\n",
       "</div>"
      ],
      "text/plain": [
       "    First Name  Gender  Start Date  Salary   Mgmt          Team\n",
       "2        Maria  Female         NaN  130590  False       Finance\n",
       "198      Maria  Female  1990-12-27   36067   True       Product\n",
       "815      Maria     NaN  1986-01-18  106562  False            HR\n",
       "844      Maria     NaN  1985-06-19  148857  False         Legal\n",
       "936      Maria  Female  2003-03-14   96250  False  Business Dev\n",
       "984      Maria  Female  2011-10-15   43455  False   Engineering"
      ]
     },
     "execution_count": 31,
     "metadata": {},
     "output_type": "execute_result"
    }
   ],
   "source": [
    "df_employees[df_employees[\"First Name\"] == \"Maria\"]"
   ]
  },
  {
   "cell_type": "markdown",
   "id": "098406fd",
   "metadata": {},
   "source": [
    "**Create a filter for Dataframe**"
   ]
  },
  {
   "cell_type": "code",
   "execution_count": 32,
   "id": "259cfebc",
   "metadata": {},
   "outputs": [
    {
     "data": {
      "application/vnd.microsoft.datawrangler.viewer.v0+json": {
       "columns": [
        {
         "name": "index",
         "rawType": "int64",
         "type": "integer"
        },
        {
         "name": "First Name",
         "rawType": "object",
         "type": "string"
        },
        {
         "name": "Gender",
         "rawType": "category",
         "type": "unknown"
        },
        {
         "name": "Start Date",
         "rawType": "object",
         "type": "unknown"
        },
        {
         "name": "Salary",
         "rawType": "int32",
         "type": "integer"
        },
        {
         "name": "Mgmt",
         "rawType": "bool",
         "type": "boolean"
        },
        {
         "name": "Team",
         "rawType": "category",
         "type": "unknown"
        }
       ],
       "ref": "74158cf4-d2a6-4068-9c81-4187c84eace4",
       "rows": [
        [
         "2",
         "Maria",
         "Female",
         null,
         "130590",
         "False",
         "Finance"
        ],
        [
         "198",
         "Maria",
         "Female",
         "1990-12-27",
         "36067",
         "True",
         "Product"
        ],
        [
         "815",
         "Maria",
         null,
         "1986-01-18",
         "106562",
         "False",
         "HR"
        ],
        [
         "844",
         "Maria",
         null,
         "1985-06-19",
         "148857",
         "False",
         "Legal"
        ],
        [
         "936",
         "Maria",
         "Female",
         "2003-03-14",
         "96250",
         "False",
         "Business Dev"
        ],
        [
         "984",
         "Maria",
         "Female",
         "2011-10-15",
         "43455",
         "False",
         "Engineering"
        ]
       ],
       "shape": {
        "columns": 6,
        "rows": 6
       }
      },
      "text/html": [
       "<div>\n",
       "<style scoped>\n",
       "    .dataframe tbody tr th:only-of-type {\n",
       "        vertical-align: middle;\n",
       "    }\n",
       "\n",
       "    .dataframe tbody tr th {\n",
       "        vertical-align: top;\n",
       "    }\n",
       "\n",
       "    .dataframe thead th {\n",
       "        text-align: right;\n",
       "    }\n",
       "</style>\n",
       "<table border=\"1\" class=\"dataframe\">\n",
       "  <thead>\n",
       "    <tr style=\"text-align: right;\">\n",
       "      <th></th>\n",
       "      <th>First Name</th>\n",
       "      <th>Gender</th>\n",
       "      <th>Start Date</th>\n",
       "      <th>Salary</th>\n",
       "      <th>Mgmt</th>\n",
       "      <th>Team</th>\n",
       "    </tr>\n",
       "  </thead>\n",
       "  <tbody>\n",
       "    <tr>\n",
       "      <th>2</th>\n",
       "      <td>Maria</td>\n",
       "      <td>Female</td>\n",
       "      <td>NaN</td>\n",
       "      <td>130590</td>\n",
       "      <td>False</td>\n",
       "      <td>Finance</td>\n",
       "    </tr>\n",
       "    <tr>\n",
       "      <th>198</th>\n",
       "      <td>Maria</td>\n",
       "      <td>Female</td>\n",
       "      <td>1990-12-27</td>\n",
       "      <td>36067</td>\n",
       "      <td>True</td>\n",
       "      <td>Product</td>\n",
       "    </tr>\n",
       "    <tr>\n",
       "      <th>815</th>\n",
       "      <td>Maria</td>\n",
       "      <td>NaN</td>\n",
       "      <td>1986-01-18</td>\n",
       "      <td>106562</td>\n",
       "      <td>False</td>\n",
       "      <td>HR</td>\n",
       "    </tr>\n",
       "    <tr>\n",
       "      <th>844</th>\n",
       "      <td>Maria</td>\n",
       "      <td>NaN</td>\n",
       "      <td>1985-06-19</td>\n",
       "      <td>148857</td>\n",
       "      <td>False</td>\n",
       "      <td>Legal</td>\n",
       "    </tr>\n",
       "    <tr>\n",
       "      <th>936</th>\n",
       "      <td>Maria</td>\n",
       "      <td>Female</td>\n",
       "      <td>2003-03-14</td>\n",
       "      <td>96250</td>\n",
       "      <td>False</td>\n",
       "      <td>Business Dev</td>\n",
       "    </tr>\n",
       "    <tr>\n",
       "      <th>984</th>\n",
       "      <td>Maria</td>\n",
       "      <td>Female</td>\n",
       "      <td>2011-10-15</td>\n",
       "      <td>43455</td>\n",
       "      <td>False</td>\n",
       "      <td>Engineering</td>\n",
       "    </tr>\n",
       "  </tbody>\n",
       "</table>\n",
       "</div>"
      ],
      "text/plain": [
       "    First Name  Gender  Start Date  Salary   Mgmt          Team\n",
       "2        Maria  Female         NaN  130590  False       Finance\n",
       "198      Maria  Female  1990-12-27   36067   True       Product\n",
       "815      Maria     NaN  1986-01-18  106562  False            HR\n",
       "844      Maria     NaN  1985-06-19  148857  False         Legal\n",
       "936      Maria  Female  2003-03-14   96250  False  Business Dev\n",
       "984      Maria  Female  2011-10-15   43455  False   Engineering"
      ]
     },
     "execution_count": 32,
     "metadata": {},
     "output_type": "execute_result"
    }
   ],
   "source": [
    "marias = df_employees[\"First Name\"] == \"Maria\"\n",
    "df_employees[marias]"
   ]
  },
  {
   "cell_type": "markdown",
   "id": "2544207a",
   "metadata": {},
   "source": [
    "**Create a filter and find Top 5 Salary > 100000**"
   ]
  },
  {
   "cell_type": "code",
   "execution_count": 33,
   "id": "56f104b6",
   "metadata": {},
   "outputs": [
    {
     "data": {
      "application/vnd.microsoft.datawrangler.viewer.v0+json": {
       "columns": [
        {
         "name": "index",
         "rawType": "int64",
         "type": "integer"
        },
        {
         "name": "First Name",
         "rawType": "object",
         "type": "unknown"
        },
        {
         "name": "Gender",
         "rawType": "category",
         "type": "unknown"
        },
        {
         "name": "Start Date",
         "rawType": "object",
         "type": "string"
        },
        {
         "name": "Salary",
         "rawType": "int32",
         "type": "integer"
        },
        {
         "name": "Mgmt",
         "rawType": "bool",
         "type": "boolean"
        },
        {
         "name": "Team",
         "rawType": "category",
         "type": "unknown"
        }
       ],
       "ref": "9fb0b176-7698-49c6-857e-141675e03564",
       "rows": [
        [
         "644",
         "Katherine",
         "Female",
         "1996-08-13",
         "149908",
         "False",
         "Finance"
        ],
        [
         "429",
         "Rose",
         "Female",
         "2015-05-28",
         "149903",
         "False",
         "HR"
        ],
        [
         "828",
         "Cynthia",
         "Female",
         "2006-07-12",
         "149684",
         "False",
         "Product"
        ],
        [
         "186",
         null,
         "Female",
         "2005-02-23",
         "149654",
         "True",
         "Sales"
        ],
        [
         "160",
         "Kathy",
         "Female",
         "2000-03-18",
         "149563",
         "True",
         "Finance"
        ]
       ],
       "shape": {
        "columns": 6,
        "rows": 5
       }
      },
      "text/html": [
       "<div>\n",
       "<style scoped>\n",
       "    .dataframe tbody tr th:only-of-type {\n",
       "        vertical-align: middle;\n",
       "    }\n",
       "\n",
       "    .dataframe tbody tr th {\n",
       "        vertical-align: top;\n",
       "    }\n",
       "\n",
       "    .dataframe thead th {\n",
       "        text-align: right;\n",
       "    }\n",
       "</style>\n",
       "<table border=\"1\" class=\"dataframe\">\n",
       "  <thead>\n",
       "    <tr style=\"text-align: right;\">\n",
       "      <th></th>\n",
       "      <th>First Name</th>\n",
       "      <th>Gender</th>\n",
       "      <th>Start Date</th>\n",
       "      <th>Salary</th>\n",
       "      <th>Mgmt</th>\n",
       "      <th>Team</th>\n",
       "    </tr>\n",
       "  </thead>\n",
       "  <tbody>\n",
       "    <tr>\n",
       "      <th>644</th>\n",
       "      <td>Katherine</td>\n",
       "      <td>Female</td>\n",
       "      <td>1996-08-13</td>\n",
       "      <td>149908</td>\n",
       "      <td>False</td>\n",
       "      <td>Finance</td>\n",
       "    </tr>\n",
       "    <tr>\n",
       "      <th>429</th>\n",
       "      <td>Rose</td>\n",
       "      <td>Female</td>\n",
       "      <td>2015-05-28</td>\n",
       "      <td>149903</td>\n",
       "      <td>False</td>\n",
       "      <td>HR</td>\n",
       "    </tr>\n",
       "    <tr>\n",
       "      <th>828</th>\n",
       "      <td>Cynthia</td>\n",
       "      <td>Female</td>\n",
       "      <td>2006-07-12</td>\n",
       "      <td>149684</td>\n",
       "      <td>False</td>\n",
       "      <td>Product</td>\n",
       "    </tr>\n",
       "    <tr>\n",
       "      <th>186</th>\n",
       "      <td>NaN</td>\n",
       "      <td>Female</td>\n",
       "      <td>2005-02-23</td>\n",
       "      <td>149654</td>\n",
       "      <td>True</td>\n",
       "      <td>Sales</td>\n",
       "    </tr>\n",
       "    <tr>\n",
       "      <th>160</th>\n",
       "      <td>Kathy</td>\n",
       "      <td>Female</td>\n",
       "      <td>2000-03-18</td>\n",
       "      <td>149563</td>\n",
       "      <td>True</td>\n",
       "      <td>Finance</td>\n",
       "    </tr>\n",
       "  </tbody>\n",
       "</table>\n",
       "</div>"
      ],
      "text/plain": [
       "    First Name  Gender  Start Date  Salary   Mgmt     Team\n",
       "644  Katherine  Female  1996-08-13  149908  False  Finance\n",
       "429       Rose  Female  2015-05-28  149903  False       HR\n",
       "828    Cynthia  Female  2006-07-12  149684  False  Product\n",
       "186        NaN  Female  2005-02-23  149654   True    Sales\n",
       "160      Kathy  Female  2000-03-18  149563   True  Finance"
      ]
     },
     "execution_count": 33,
     "metadata": {},
     "output_type": "execute_result"
    }
   ],
   "source": [
    "high_earners = df_employees[\"Salary\"] > 100000\n",
    "df_employees[high_earners].sort_values(by=\"Salary\", ascending=False).head()"
   ]
  },
  {
   "cell_type": "markdown",
   "id": "a68b2659",
   "metadata": {},
   "source": [
    "### Filtering by Multiple Conditions"
   ]
  },
  {
   "cell_type": "markdown",
   "id": "1bad3808",
   "metadata": {},
   "source": [
    "#### Condition and - &"
   ]
  },
  {
   "cell_type": "markdown",
   "id": "d491e9d0",
   "metadata": {},
   "source": [
    "**First condition**"
   ]
  },
  {
   "cell_type": "code",
   "execution_count": 34,
   "id": "986611ab",
   "metadata": {},
   "outputs": [],
   "source": [
    "is_female = df_employees['Gender'] == 'Female'"
   ]
  },
  {
   "cell_type": "markdown",
   "id": "c7e00040",
   "metadata": {},
   "source": [
    "**Second condiotion**"
   ]
  },
  {
   "cell_type": "code",
   "execution_count": 35,
   "id": "92751ec6",
   "metadata": {},
   "outputs": [],
   "source": [
    "in_biz_dev = df_employees['Team'] == \"Business Dev\""
   ]
  },
  {
   "cell_type": "markdown",
   "id": "7aa11341",
   "metadata": {},
   "source": [
    "**Find only women from the Business Development team**"
   ]
  },
  {
   "cell_type": "code",
   "execution_count": 36,
   "id": "925fd97b",
   "metadata": {},
   "outputs": [
    {
     "data": {
      "application/vnd.microsoft.datawrangler.viewer.v0+json": {
       "columns": [
        {
         "name": "index",
         "rawType": "int64",
         "type": "integer"
        },
        {
         "name": "First Name",
         "rawType": "object",
         "type": "string"
        },
        {
         "name": "Gender",
         "rawType": "category",
         "type": "unknown"
        },
        {
         "name": "Start Date",
         "rawType": "object",
         "type": "string"
        },
        {
         "name": "Salary",
         "rawType": "int32",
         "type": "integer"
        },
        {
         "name": "Mgmt",
         "rawType": "bool",
         "type": "boolean"
        },
        {
         "name": "Team",
         "rawType": "category",
         "type": "unknown"
        }
       ],
       "ref": "a02675d3-591d-4036-a1e6-3ad466e56c18",
       "rows": [
        [
         "9",
         "Frances",
         "Female",
         "2002-08-08",
         "139852",
         "True",
         "Business Dev"
        ],
        [
         "33",
         "Jean",
         "Female",
         "1993-12-18",
         "119082",
         "False",
         "Business Dev"
        ],
        [
         "36",
         "Rachel",
         "Female",
         "2009-02-16",
         "142032",
         "False",
         "Business Dev"
        ],
        [
         "38",
         "Stephanie",
         "Female",
         "1986-09-13",
         "36844",
         "True",
         "Business Dev"
        ],
        [
         "61",
         "Denise",
         "Female",
         "2001-11-06",
         "106862",
         "False",
         "Business Dev"
        ]
       ],
       "shape": {
        "columns": 6,
        "rows": 5
       }
      },
      "text/html": [
       "<div>\n",
       "<style scoped>\n",
       "    .dataframe tbody tr th:only-of-type {\n",
       "        vertical-align: middle;\n",
       "    }\n",
       "\n",
       "    .dataframe tbody tr th {\n",
       "        vertical-align: top;\n",
       "    }\n",
       "\n",
       "    .dataframe thead th {\n",
       "        text-align: right;\n",
       "    }\n",
       "</style>\n",
       "<table border=\"1\" class=\"dataframe\">\n",
       "  <thead>\n",
       "    <tr style=\"text-align: right;\">\n",
       "      <th></th>\n",
       "      <th>First Name</th>\n",
       "      <th>Gender</th>\n",
       "      <th>Start Date</th>\n",
       "      <th>Salary</th>\n",
       "      <th>Mgmt</th>\n",
       "      <th>Team</th>\n",
       "    </tr>\n",
       "  </thead>\n",
       "  <tbody>\n",
       "    <tr>\n",
       "      <th>9</th>\n",
       "      <td>Frances</td>\n",
       "      <td>Female</td>\n",
       "      <td>2002-08-08</td>\n",
       "      <td>139852</td>\n",
       "      <td>True</td>\n",
       "      <td>Business Dev</td>\n",
       "    </tr>\n",
       "    <tr>\n",
       "      <th>33</th>\n",
       "      <td>Jean</td>\n",
       "      <td>Female</td>\n",
       "      <td>1993-12-18</td>\n",
       "      <td>119082</td>\n",
       "      <td>False</td>\n",
       "      <td>Business Dev</td>\n",
       "    </tr>\n",
       "    <tr>\n",
       "      <th>36</th>\n",
       "      <td>Rachel</td>\n",
       "      <td>Female</td>\n",
       "      <td>2009-02-16</td>\n",
       "      <td>142032</td>\n",
       "      <td>False</td>\n",
       "      <td>Business Dev</td>\n",
       "    </tr>\n",
       "    <tr>\n",
       "      <th>38</th>\n",
       "      <td>Stephanie</td>\n",
       "      <td>Female</td>\n",
       "      <td>1986-09-13</td>\n",
       "      <td>36844</td>\n",
       "      <td>True</td>\n",
       "      <td>Business Dev</td>\n",
       "    </tr>\n",
       "    <tr>\n",
       "      <th>61</th>\n",
       "      <td>Denise</td>\n",
       "      <td>Female</td>\n",
       "      <td>2001-11-06</td>\n",
       "      <td>106862</td>\n",
       "      <td>False</td>\n",
       "      <td>Business Dev</td>\n",
       "    </tr>\n",
       "  </tbody>\n",
       "</table>\n",
       "</div>"
      ],
      "text/plain": [
       "   First Name  Gender  Start Date  Salary   Mgmt          Team\n",
       "9     Frances  Female  2002-08-08  139852   True  Business Dev\n",
       "33       Jean  Female  1993-12-18  119082  False  Business Dev\n",
       "36     Rachel  Female  2009-02-16  142032  False  Business Dev\n",
       "38  Stephanie  Female  1986-09-13   36844   True  Business Dev\n",
       "61     Denise  Female  2001-11-06  106862  False  Business Dev"
      ]
     },
     "execution_count": 36,
     "metadata": {},
     "output_type": "execute_result"
    }
   ],
   "source": [
    "df_employees[is_female & in_biz_dev].head()"
   ]
  },
  {
   "cell_type": "code",
   "execution_count": 37,
   "id": "4512bdd1",
   "metadata": {},
   "outputs": [],
   "source": [
    "is_manager = df_employees[\"Mgmt\"]"
   ]
  },
  {
   "cell_type": "markdown",
   "id": "71c53158",
   "metadata": {},
   "source": [
    "**Add more conditionals**"
   ]
  },
  {
   "cell_type": "code",
   "execution_count": 38,
   "id": "522e4bfd",
   "metadata": {},
   "outputs": [
    {
     "data": {
      "application/vnd.microsoft.datawrangler.viewer.v0+json": {
       "columns": [
        {
         "name": "index",
         "rawType": "int64",
         "type": "integer"
        },
        {
         "name": "First Name",
         "rawType": "object",
         "type": "string"
        },
        {
         "name": "Gender",
         "rawType": "category",
         "type": "unknown"
        },
        {
         "name": "Start Date",
         "rawType": "object",
         "type": "string"
        },
        {
         "name": "Salary",
         "rawType": "int32",
         "type": "integer"
        },
        {
         "name": "Mgmt",
         "rawType": "bool",
         "type": "boolean"
        },
        {
         "name": "Team",
         "rawType": "category",
         "type": "unknown"
        }
       ],
       "ref": "142ba421-dc52-46e9-8a1f-14b6ee225ea9",
       "rows": [
        [
         "9",
         "Frances",
         "Female",
         "2002-08-08",
         "139852",
         "True",
         "Business Dev"
        ],
        [
         "38",
         "Stephanie",
         "Female",
         "1986-09-13",
         "36844",
         "True",
         "Business Dev"
        ],
        [
         "66",
         "Nancy",
         "Female",
         "2012-12-15",
         "125250",
         "True",
         "Business Dev"
        ],
        [
         "92",
         "Linda",
         "Female",
         "2000-05-25",
         "119009",
         "True",
         "Business Dev"
        ],
        [
         "111",
         "Bonnie",
         "Female",
         "1999-12-17",
         "42153",
         "True",
         "Business Dev"
        ]
       ],
       "shape": {
        "columns": 6,
        "rows": 5
       }
      },
      "text/html": [
       "<div>\n",
       "<style scoped>\n",
       "    .dataframe tbody tr th:only-of-type {\n",
       "        vertical-align: middle;\n",
       "    }\n",
       "\n",
       "    .dataframe tbody tr th {\n",
       "        vertical-align: top;\n",
       "    }\n",
       "\n",
       "    .dataframe thead th {\n",
       "        text-align: right;\n",
       "    }\n",
       "</style>\n",
       "<table border=\"1\" class=\"dataframe\">\n",
       "  <thead>\n",
       "    <tr style=\"text-align: right;\">\n",
       "      <th></th>\n",
       "      <th>First Name</th>\n",
       "      <th>Gender</th>\n",
       "      <th>Start Date</th>\n",
       "      <th>Salary</th>\n",
       "      <th>Mgmt</th>\n",
       "      <th>Team</th>\n",
       "    </tr>\n",
       "  </thead>\n",
       "  <tbody>\n",
       "    <tr>\n",
       "      <th>9</th>\n",
       "      <td>Frances</td>\n",
       "      <td>Female</td>\n",
       "      <td>2002-08-08</td>\n",
       "      <td>139852</td>\n",
       "      <td>True</td>\n",
       "      <td>Business Dev</td>\n",
       "    </tr>\n",
       "    <tr>\n",
       "      <th>38</th>\n",
       "      <td>Stephanie</td>\n",
       "      <td>Female</td>\n",
       "      <td>1986-09-13</td>\n",
       "      <td>36844</td>\n",
       "      <td>True</td>\n",
       "      <td>Business Dev</td>\n",
       "    </tr>\n",
       "    <tr>\n",
       "      <th>66</th>\n",
       "      <td>Nancy</td>\n",
       "      <td>Female</td>\n",
       "      <td>2012-12-15</td>\n",
       "      <td>125250</td>\n",
       "      <td>True</td>\n",
       "      <td>Business Dev</td>\n",
       "    </tr>\n",
       "    <tr>\n",
       "      <th>92</th>\n",
       "      <td>Linda</td>\n",
       "      <td>Female</td>\n",
       "      <td>2000-05-25</td>\n",
       "      <td>119009</td>\n",
       "      <td>True</td>\n",
       "      <td>Business Dev</td>\n",
       "    </tr>\n",
       "    <tr>\n",
       "      <th>111</th>\n",
       "      <td>Bonnie</td>\n",
       "      <td>Female</td>\n",
       "      <td>1999-12-17</td>\n",
       "      <td>42153</td>\n",
       "      <td>True</td>\n",
       "      <td>Business Dev</td>\n",
       "    </tr>\n",
       "  </tbody>\n",
       "</table>\n",
       "</div>"
      ],
      "text/plain": [
       "    First Name  Gender  Start Date  Salary  Mgmt          Team\n",
       "9      Frances  Female  2002-08-08  139852  True  Business Dev\n",
       "38   Stephanie  Female  1986-09-13   36844  True  Business Dev\n",
       "66       Nancy  Female  2012-12-15  125250  True  Business Dev\n",
       "92       Linda  Female  2000-05-25  119009  True  Business Dev\n",
       "111     Bonnie  Female  1999-12-17   42153  True  Business Dev"
      ]
     },
     "execution_count": 38,
     "metadata": {},
     "output_type": "execute_result"
    }
   ],
   "source": [
    "df_employees[is_female & in_biz_dev & is_manager].head()"
   ]
  },
  {
   "cell_type": "markdown",
   "id": "8cd6e3ab",
   "metadata": {},
   "source": [
    "#### Condiotional OR - |"
   ]
  },
  {
   "cell_type": "markdown",
   "id": "3221ac06",
   "metadata": {},
   "source": [
    "**Find employees with a salary lower than 40000 or a start date later than 2015-01-01**"
   ]
  },
  {
   "cell_type": "code",
   "execution_count": 39,
   "id": "88cef561",
   "metadata": {},
   "outputs": [],
   "source": [
    "earning_below_40k = df_employees[\"Salary\"] < 40000\n",
    "started_after_2015 = df_employees[\"Start Date\"] > \"2015-01-01\""
   ]
  },
  {
   "cell_type": "code",
   "execution_count": 41,
   "id": "27ae12c9",
   "metadata": {},
   "outputs": [
    {
     "data": {
      "application/vnd.microsoft.datawrangler.viewer.v0+json": {
       "columns": [
        {
         "name": "index",
         "rawType": "int64",
         "type": "integer"
        },
        {
         "name": "First Name",
         "rawType": "object",
         "type": "unknown"
        },
        {
         "name": "Gender",
         "rawType": "category",
         "type": "unknown"
        },
        {
         "name": "Start Date",
         "rawType": "object",
         "type": "unknown"
        },
        {
         "name": "Salary",
         "rawType": "int32",
         "type": "integer"
        },
        {
         "name": "Mgmt",
         "rawType": "bool",
         "type": "boolean"
        },
        {
         "name": "Team",
         "rawType": "category",
         "type": "unknown"
        }
       ],
       "ref": "bcf44321-68fa-4e7f-81c8-bdce805ea17e",
       "rows": [
        [
         "958",
         "Gloria",
         "Female",
         "1987-10-24",
         "39833",
         "False",
         "Engineering"
        ],
        [
         "964",
         "Bruce",
         "Male",
         "1980-05-07",
         "35802",
         "True",
         "Sales"
        ],
        [
         "967",
         "Thomas",
         "Male",
         "2016-03-12",
         "105681",
         "False",
         "Engineering"
        ],
        [
         "989",
         "Justin",
         null,
         "1991-02-10",
         "38344",
         "False",
         "Legal"
        ],
        [
         "1000",
         null,
         null,
         null,
         "0",
         "True",
         null
        ]
       ],
       "shape": {
        "columns": 6,
        "rows": 5
       }
      },
      "text/html": [
       "<div>\n",
       "<style scoped>\n",
       "    .dataframe tbody tr th:only-of-type {\n",
       "        vertical-align: middle;\n",
       "    }\n",
       "\n",
       "    .dataframe tbody tr th {\n",
       "        vertical-align: top;\n",
       "    }\n",
       "\n",
       "    .dataframe thead th {\n",
       "        text-align: right;\n",
       "    }\n",
       "</style>\n",
       "<table border=\"1\" class=\"dataframe\">\n",
       "  <thead>\n",
       "    <tr style=\"text-align: right;\">\n",
       "      <th></th>\n",
       "      <th>First Name</th>\n",
       "      <th>Gender</th>\n",
       "      <th>Start Date</th>\n",
       "      <th>Salary</th>\n",
       "      <th>Mgmt</th>\n",
       "      <th>Team</th>\n",
       "    </tr>\n",
       "  </thead>\n",
       "  <tbody>\n",
       "    <tr>\n",
       "      <th>958</th>\n",
       "      <td>Gloria</td>\n",
       "      <td>Female</td>\n",
       "      <td>1987-10-24</td>\n",
       "      <td>39833</td>\n",
       "      <td>False</td>\n",
       "      <td>Engineering</td>\n",
       "    </tr>\n",
       "    <tr>\n",
       "      <th>964</th>\n",
       "      <td>Bruce</td>\n",
       "      <td>Male</td>\n",
       "      <td>1980-05-07</td>\n",
       "      <td>35802</td>\n",
       "      <td>True</td>\n",
       "      <td>Sales</td>\n",
       "    </tr>\n",
       "    <tr>\n",
       "      <th>967</th>\n",
       "      <td>Thomas</td>\n",
       "      <td>Male</td>\n",
       "      <td>2016-03-12</td>\n",
       "      <td>105681</td>\n",
       "      <td>False</td>\n",
       "      <td>Engineering</td>\n",
       "    </tr>\n",
       "    <tr>\n",
       "      <th>989</th>\n",
       "      <td>Justin</td>\n",
       "      <td>NaN</td>\n",
       "      <td>1991-02-10</td>\n",
       "      <td>38344</td>\n",
       "      <td>False</td>\n",
       "      <td>Legal</td>\n",
       "    </tr>\n",
       "    <tr>\n",
       "      <th>1000</th>\n",
       "      <td>NaN</td>\n",
       "      <td>NaN</td>\n",
       "      <td>NaN</td>\n",
       "      <td>0</td>\n",
       "      <td>True</td>\n",
       "      <td>NaN</td>\n",
       "    </tr>\n",
       "  </tbody>\n",
       "</table>\n",
       "</div>"
      ],
      "text/plain": [
       "     First Name  Gender  Start Date  Salary   Mgmt         Team\n",
       "958      Gloria  Female  1987-10-24   39833  False  Engineering\n",
       "964       Bruce    Male  1980-05-07   35802   True        Sales\n",
       "967      Thomas    Male  2016-03-12  105681  False  Engineering\n",
       "989      Justin     NaN  1991-02-10   38344  False        Legal\n",
       "1000        NaN     NaN         NaN       0   True          NaN"
      ]
     },
     "execution_count": 41,
     "metadata": {},
     "output_type": "execute_result"
    }
   ],
   "source": [
    "df_employees[earning_below_40k | started_after_2015].tail()"
   ]
  },
  {
   "cell_type": "markdown",
   "id": "1806aa15",
   "metadata": {},
   "source": [
    "### Logical rejection (~)"
   ]
  },
  {
   "cell_type": "markdown",
   "id": "ddfec727",
   "metadata": {},
   "source": [
    "#### Two same results with different ways of solving"
   ]
  },
  {
   "cell_type": "markdown",
   "id": "402f6bb8",
   "metadata": {},
   "source": [
    "**Salary lower than 100000 - strict conditional**"
   ]
  },
  {
   "cell_type": "code",
   "execution_count": 44,
   "id": "42a578f6",
   "metadata": {},
   "outputs": [
    {
     "data": {
      "application/vnd.microsoft.datawrangler.viewer.v0+json": {
       "columns": [
        {
         "name": "index",
         "rawType": "int64",
         "type": "integer"
        },
        {
         "name": "First Name",
         "rawType": "object",
         "type": "unknown"
        },
        {
         "name": "Gender",
         "rawType": "category",
         "type": "unknown"
        },
        {
         "name": "Start Date",
         "rawType": "object",
         "type": "string"
        },
        {
         "name": "Salary",
         "rawType": "int32",
         "type": "integer"
        },
        {
         "name": "Mgmt",
         "rawType": "bool",
         "type": "boolean"
        },
        {
         "name": "Team",
         "rawType": "category",
         "type": "unknown"
        }
       ],
       "ref": "a5cb416b-15f8-4c9a-8e2d-ce188c741fcd",
       "rows": [
        [
         "0",
         "Douglas",
         "Male",
         "1993-08-06",
         "0",
         "True",
         "Marketing"
        ],
        [
         "1",
         "Thomas",
         "Male",
         "1996-03-31",
         "61933",
         "True",
         null
        ],
        [
         "6",
         "Ruby",
         "Female",
         "1987-08-17",
         "65476",
         "True",
         "Product"
        ],
        [
         "7",
         null,
         "Female",
         "2015-07-20",
         "45906",
         "True",
         "Finance"
        ],
        [
         "8",
         "Angela",
         "Female",
         "2005-11-22",
         "95570",
         "True",
         "Engineering"
        ]
       ],
       "shape": {
        "columns": 6,
        "rows": 5
       }
      },
      "text/html": [
       "<div>\n",
       "<style scoped>\n",
       "    .dataframe tbody tr th:only-of-type {\n",
       "        vertical-align: middle;\n",
       "    }\n",
       "\n",
       "    .dataframe tbody tr th {\n",
       "        vertical-align: top;\n",
       "    }\n",
       "\n",
       "    .dataframe thead th {\n",
       "        text-align: right;\n",
       "    }\n",
       "</style>\n",
       "<table border=\"1\" class=\"dataframe\">\n",
       "  <thead>\n",
       "    <tr style=\"text-align: right;\">\n",
       "      <th></th>\n",
       "      <th>First Name</th>\n",
       "      <th>Gender</th>\n",
       "      <th>Start Date</th>\n",
       "      <th>Salary</th>\n",
       "      <th>Mgmt</th>\n",
       "      <th>Team</th>\n",
       "    </tr>\n",
       "  </thead>\n",
       "  <tbody>\n",
       "    <tr>\n",
       "      <th>0</th>\n",
       "      <td>Douglas</td>\n",
       "      <td>Male</td>\n",
       "      <td>1993-08-06</td>\n",
       "      <td>0</td>\n",
       "      <td>True</td>\n",
       "      <td>Marketing</td>\n",
       "    </tr>\n",
       "    <tr>\n",
       "      <th>1</th>\n",
       "      <td>Thomas</td>\n",
       "      <td>Male</td>\n",
       "      <td>1996-03-31</td>\n",
       "      <td>61933</td>\n",
       "      <td>True</td>\n",
       "      <td>NaN</td>\n",
       "    </tr>\n",
       "    <tr>\n",
       "      <th>6</th>\n",
       "      <td>Ruby</td>\n",
       "      <td>Female</td>\n",
       "      <td>1987-08-17</td>\n",
       "      <td>65476</td>\n",
       "      <td>True</td>\n",
       "      <td>Product</td>\n",
       "    </tr>\n",
       "    <tr>\n",
       "      <th>7</th>\n",
       "      <td>NaN</td>\n",
       "      <td>Female</td>\n",
       "      <td>2015-07-20</td>\n",
       "      <td>45906</td>\n",
       "      <td>True</td>\n",
       "      <td>Finance</td>\n",
       "    </tr>\n",
       "    <tr>\n",
       "      <th>8</th>\n",
       "      <td>Angela</td>\n",
       "      <td>Female</td>\n",
       "      <td>2005-11-22</td>\n",
       "      <td>95570</td>\n",
       "      <td>True</td>\n",
       "      <td>Engineering</td>\n",
       "    </tr>\n",
       "  </tbody>\n",
       "</table>\n",
       "</div>"
      ],
      "text/plain": [
       "  First Name  Gender  Start Date  Salary  Mgmt         Team\n",
       "0    Douglas    Male  1993-08-06       0  True    Marketing\n",
       "1     Thomas    Male  1996-03-31   61933  True          NaN\n",
       "6       Ruby  Female  1987-08-17   65476  True      Product\n",
       "7        NaN  Female  2015-07-20   45906  True      Finance\n",
       "8     Angela  Female  2005-11-22   95570  True  Engineering"
      ]
     },
     "execution_count": 44,
     "metadata": {},
     "output_type": "execute_result"
    }
   ],
   "source": [
    "df_employees[df_employees[\"Salary\"] < 100000].head()"
   ]
  },
  {
   "cell_type": "markdown",
   "id": "1e0e6a5d",
   "metadata": {},
   "source": [
    "**Using logical rejection**"
   ]
  },
  {
   "cell_type": "code",
   "execution_count": 45,
   "id": "ced0f5d1",
   "metadata": {},
   "outputs": [
    {
     "data": {
      "application/vnd.microsoft.datawrangler.viewer.v0+json": {
       "columns": [
        {
         "name": "index",
         "rawType": "int64",
         "type": "integer"
        },
        {
         "name": "First Name",
         "rawType": "object",
         "type": "unknown"
        },
        {
         "name": "Gender",
         "rawType": "category",
         "type": "unknown"
        },
        {
         "name": "Start Date",
         "rawType": "object",
         "type": "string"
        },
        {
         "name": "Salary",
         "rawType": "int32",
         "type": "integer"
        },
        {
         "name": "Mgmt",
         "rawType": "bool",
         "type": "boolean"
        },
        {
         "name": "Team",
         "rawType": "category",
         "type": "unknown"
        }
       ],
       "ref": "4ad04f8f-5f6b-421f-b7c1-cb1a0c181aec",
       "rows": [
        [
         "0",
         "Douglas",
         "Male",
         "1993-08-06",
         "0",
         "True",
         "Marketing"
        ],
        [
         "1",
         "Thomas",
         "Male",
         "1996-03-31",
         "61933",
         "True",
         null
        ],
        [
         "6",
         "Ruby",
         "Female",
         "1987-08-17",
         "65476",
         "True",
         "Product"
        ],
        [
         "7",
         null,
         "Female",
         "2015-07-20",
         "45906",
         "True",
         "Finance"
        ],
        [
         "8",
         "Angela",
         "Female",
         "2005-11-22",
         "95570",
         "True",
         "Engineering"
        ]
       ],
       "shape": {
        "columns": 6,
        "rows": 5
       }
      },
      "text/html": [
       "<div>\n",
       "<style scoped>\n",
       "    .dataframe tbody tr th:only-of-type {\n",
       "        vertical-align: middle;\n",
       "    }\n",
       "\n",
       "    .dataframe tbody tr th {\n",
       "        vertical-align: top;\n",
       "    }\n",
       "\n",
       "    .dataframe thead th {\n",
       "        text-align: right;\n",
       "    }\n",
       "</style>\n",
       "<table border=\"1\" class=\"dataframe\">\n",
       "  <thead>\n",
       "    <tr style=\"text-align: right;\">\n",
       "      <th></th>\n",
       "      <th>First Name</th>\n",
       "      <th>Gender</th>\n",
       "      <th>Start Date</th>\n",
       "      <th>Salary</th>\n",
       "      <th>Mgmt</th>\n",
       "      <th>Team</th>\n",
       "    </tr>\n",
       "  </thead>\n",
       "  <tbody>\n",
       "    <tr>\n",
       "      <th>0</th>\n",
       "      <td>Douglas</td>\n",
       "      <td>Male</td>\n",
       "      <td>1993-08-06</td>\n",
       "      <td>0</td>\n",
       "      <td>True</td>\n",
       "      <td>Marketing</td>\n",
       "    </tr>\n",
       "    <tr>\n",
       "      <th>1</th>\n",
       "      <td>Thomas</td>\n",
       "      <td>Male</td>\n",
       "      <td>1996-03-31</td>\n",
       "      <td>61933</td>\n",
       "      <td>True</td>\n",
       "      <td>NaN</td>\n",
       "    </tr>\n",
       "    <tr>\n",
       "      <th>6</th>\n",
       "      <td>Ruby</td>\n",
       "      <td>Female</td>\n",
       "      <td>1987-08-17</td>\n",
       "      <td>65476</td>\n",
       "      <td>True</td>\n",
       "      <td>Product</td>\n",
       "    </tr>\n",
       "    <tr>\n",
       "      <th>7</th>\n",
       "      <td>NaN</td>\n",
       "      <td>Female</td>\n",
       "      <td>2015-07-20</td>\n",
       "      <td>45906</td>\n",
       "      <td>True</td>\n",
       "      <td>Finance</td>\n",
       "    </tr>\n",
       "    <tr>\n",
       "      <th>8</th>\n",
       "      <td>Angela</td>\n",
       "      <td>Female</td>\n",
       "      <td>2005-11-22</td>\n",
       "      <td>95570</td>\n",
       "      <td>True</td>\n",
       "      <td>Engineering</td>\n",
       "    </tr>\n",
       "  </tbody>\n",
       "</table>\n",
       "</div>"
      ],
      "text/plain": [
       "  First Name  Gender  Start Date  Salary  Mgmt         Team\n",
       "0    Douglas    Male  1993-08-06       0  True    Marketing\n",
       "1     Thomas    Male  1996-03-31   61933  True          NaN\n",
       "6       Ruby  Female  1987-08-17   65476  True      Product\n",
       "7        NaN  Female  2015-07-20   45906  True      Finance\n",
       "8     Angela  Female  2005-11-22   95570  True  Engineering"
      ]
     },
     "execution_count": 45,
     "metadata": {},
     "output_type": "execute_result"
    }
   ],
   "source": [
    "df_employees[~(df_employees[\"Salary\"] >= 100000)].head()"
   ]
  },
  {
   "cell_type": "markdown",
   "id": "72a751c4",
   "metadata": {},
   "source": [
    "### Methods for boolean results"
   ]
  },
  {
   "cell_type": "markdown",
   "id": "d84cd936",
   "metadata": {},
   "source": [
    "**Operation ==**"
   ]
  },
  {
   "cell_type": "code",
   "execution_count": 47,
   "id": "b0b37f84",
   "metadata": {},
   "outputs": [
    {
     "data": {
      "application/vnd.microsoft.datawrangler.viewer.v0+json": {
       "columns": [
        {
         "name": "index",
         "rawType": "int64",
         "type": "integer"
        },
        {
         "name": "Team",
         "rawType": "bool",
         "type": "boolean"
        }
       ],
       "ref": "88710248-c940-4ea9-bc16-cec8035548af",
       "rows": [
        [
         "0",
         "True"
        ]
       ],
       "shape": {
        "columns": 1,
        "rows": 1
       }
      },
      "text/plain": [
       "0    True\n",
       "Name: Team, dtype: bool"
      ]
     },
     "execution_count": 47,
     "metadata": {},
     "output_type": "execute_result"
    }
   ],
   "source": [
    "df_employees[\"Team\"].eq(\"Marketing\").head(1)"
   ]
  },
  {
   "cell_type": "markdown",
   "id": "d673bcf1",
   "metadata": {},
   "source": [
    "**Operation !=**"
   ]
  },
  {
   "cell_type": "code",
   "execution_count": 48,
   "id": "a0c127e7",
   "metadata": {},
   "outputs": [
    {
     "data": {
      "application/vnd.microsoft.datawrangler.viewer.v0+json": {
       "columns": [
        {
         "name": "index",
         "rawType": "int64",
         "type": "integer"
        },
        {
         "name": "Team",
         "rawType": "bool",
         "type": "boolean"
        }
       ],
       "ref": "747a9d64-95ae-4a8a-a99e-c922eab0f393",
       "rows": [
        [
         "0",
         "False"
        ]
       ],
       "shape": {
        "columns": 1,
        "rows": 1
       }
      },
      "text/plain": [
       "0    False\n",
       "Name: Team, dtype: bool"
      ]
     },
     "execution_count": 48,
     "metadata": {},
     "output_type": "execute_result"
    }
   ],
   "source": [
    "df_employees[\"Team\"].ne(\"Marketing\").head(1)"
   ]
  },
  {
   "cell_type": "markdown",
   "id": "a18b50d7",
   "metadata": {},
   "source": [
    "**Operation <**"
   ]
  },
  {
   "cell_type": "code",
   "execution_count": 50,
   "id": "ff3e3f6a",
   "metadata": {},
   "outputs": [
    {
     "data": {
      "application/vnd.microsoft.datawrangler.viewer.v0+json": {
       "columns": [
        {
         "name": "index",
         "rawType": "int64",
         "type": "integer"
        },
        {
         "name": "Salary",
         "rawType": "bool",
         "type": "boolean"
        }
       ],
       "ref": "f2ed93fc-68c3-4bce-8e8a-046e619d5281",
       "rows": [
        [
         "0",
         "True"
        ]
       ],
       "shape": {
        "columns": 1,
        "rows": 1
       }
      },
      "text/plain": [
       "0    True\n",
       "Name: Salary, dtype: bool"
      ]
     },
     "execution_count": 50,
     "metadata": {},
     "output_type": "execute_result"
    }
   ],
   "source": [
    "df_employees[\"Salary\"].lt(100000).head(1)"
   ]
  },
  {
   "cell_type": "markdown",
   "id": "b1af72c3",
   "metadata": {},
   "source": [
    "**Operation <=**"
   ]
  },
  {
   "cell_type": "code",
   "execution_count": 52,
   "id": "45450655",
   "metadata": {},
   "outputs": [
    {
     "data": {
      "application/vnd.microsoft.datawrangler.viewer.v0+json": {
       "columns": [
        {
         "name": "index",
         "rawType": "int64",
         "type": "integer"
        },
        {
         "name": "Salary",
         "rawType": "bool",
         "type": "boolean"
        }
       ],
       "ref": "6ada4286-f50f-499b-90cf-e8ff2a822c62",
       "rows": [
        [
         "0",
         "True"
        ]
       ],
       "shape": {
        "columns": 1,
        "rows": 1
       }
      },
      "text/plain": [
       "0    True\n",
       "Name: Salary, dtype: bool"
      ]
     },
     "execution_count": 52,
     "metadata": {},
     "output_type": "execute_result"
    }
   ],
   "source": [
    "df_employees[\"Salary\"].le(100000).head(1)"
   ]
  },
  {
   "cell_type": "markdown",
   "id": "744a0cb7",
   "metadata": {},
   "source": [
    "**Operation >**"
   ]
  },
  {
   "cell_type": "code",
   "execution_count": 51,
   "id": "a6e80d37",
   "metadata": {},
   "outputs": [
    {
     "data": {
      "application/vnd.microsoft.datawrangler.viewer.v0+json": {
       "columns": [
        {
         "name": "index",
         "rawType": "int64",
         "type": "integer"
        },
        {
         "name": "Salary",
         "rawType": "bool",
         "type": "boolean"
        }
       ],
       "ref": "950c680a-fe12-409c-ad8f-71e12ebfdbc5",
       "rows": [
        [
         "0",
         "False"
        ]
       ],
       "shape": {
        "columns": 1,
        "rows": 1
       }
      },
      "text/plain": [
       "0    False\n",
       "Name: Salary, dtype: bool"
      ]
     },
     "execution_count": 51,
     "metadata": {},
     "output_type": "execute_result"
    }
   ],
   "source": [
    "df_employees[\"Salary\"].gt(100000).head(1)"
   ]
  },
  {
   "cell_type": "markdown",
   "id": "7e8494f5",
   "metadata": {},
   "source": [
    "**Operation >=**"
   ]
  },
  {
   "cell_type": "code",
   "execution_count": 53,
   "id": "e02ea147",
   "metadata": {},
   "outputs": [
    {
     "data": {
      "application/vnd.microsoft.datawrangler.viewer.v0+json": {
       "columns": [
        {
         "name": "index",
         "rawType": "int64",
         "type": "integer"
        },
        {
         "name": "Salary",
         "rawType": "bool",
         "type": "boolean"
        }
       ],
       "ref": "cec3b680-bec9-4c7f-ae65-fbca5df81f7d",
       "rows": [
        [
         "0",
         "False"
        ]
       ],
       "shape": {
        "columns": 1,
        "rows": 1
       }
      },
      "text/plain": [
       "0    False\n",
       "Name: Salary, dtype: bool"
      ]
     },
     "execution_count": 53,
     "metadata": {},
     "output_type": "execute_result"
    }
   ],
   "source": [
    "df_employees[\"Salary\"].ge(100000).head(1)"
   ]
  },
  {
   "cell_type": "markdown",
   "id": "9055a0e1",
   "metadata": {},
   "source": [
    "### Filtering by Condition"
   ]
  },
  {
   "cell_type": "markdown",
   "id": "6a2b14cd",
   "metadata": {},
   "source": [
    "#### The isin Method"
   ]
  },
  {
   "cell_type": "code",
   "execution_count": 56,
   "id": "7f3345ea",
   "metadata": {},
   "outputs": [
    {
     "data": {
      "application/vnd.microsoft.datawrangler.viewer.v0+json": {
       "columns": [
        {
         "name": "index",
         "rawType": "int64",
         "type": "integer"
        },
        {
         "name": "First Name",
         "rawType": "object",
         "type": "string"
        },
        {
         "name": "Gender",
         "rawType": "category",
         "type": "unknown"
        },
        {
         "name": "Start Date",
         "rawType": "object",
         "type": "string"
        },
        {
         "name": "Salary",
         "rawType": "int32",
         "type": "integer"
        },
        {
         "name": "Mgmt",
         "rawType": "bool",
         "type": "boolean"
        },
        {
         "name": "Team",
         "rawType": "category",
         "type": "unknown"
        }
       ],
       "ref": "09df407b-f306-4556-952e-0c840c7f29fc",
       "rows": [
        [
         "0",
         "Douglas",
         "Male",
         "1993-08-06",
         "0",
         "True",
         "Marketing"
        ],
        [
         "5",
         "Dennis",
         "Male",
         "1987-04-18",
         "115163",
         "False",
         "Legal"
        ],
        [
         "11",
         "Julie",
         "Female",
         "1997-10-26",
         "102508",
         "True",
         "Legal"
        ],
        [
         "13",
         "Gary",
         "Male",
         "2008-01-27",
         "109831",
         "False",
         "Sales"
        ],
        [
         "20",
         "Lois",
         null,
         "1995-04-22",
         "64714",
         "True",
         "Legal"
        ]
       ],
       "shape": {
        "columns": 6,
        "rows": 5
       }
      },
      "text/html": [
       "<div>\n",
       "<style scoped>\n",
       "    .dataframe tbody tr th:only-of-type {\n",
       "        vertical-align: middle;\n",
       "    }\n",
       "\n",
       "    .dataframe tbody tr th {\n",
       "        vertical-align: top;\n",
       "    }\n",
       "\n",
       "    .dataframe thead th {\n",
       "        text-align: right;\n",
       "    }\n",
       "</style>\n",
       "<table border=\"1\" class=\"dataframe\">\n",
       "  <thead>\n",
       "    <tr style=\"text-align: right;\">\n",
       "      <th></th>\n",
       "      <th>First Name</th>\n",
       "      <th>Gender</th>\n",
       "      <th>Start Date</th>\n",
       "      <th>Salary</th>\n",
       "      <th>Mgmt</th>\n",
       "      <th>Team</th>\n",
       "    </tr>\n",
       "  </thead>\n",
       "  <tbody>\n",
       "    <tr>\n",
       "      <th>0</th>\n",
       "      <td>Douglas</td>\n",
       "      <td>Male</td>\n",
       "      <td>1993-08-06</td>\n",
       "      <td>0</td>\n",
       "      <td>True</td>\n",
       "      <td>Marketing</td>\n",
       "    </tr>\n",
       "    <tr>\n",
       "      <th>5</th>\n",
       "      <td>Dennis</td>\n",
       "      <td>Male</td>\n",
       "      <td>1987-04-18</td>\n",
       "      <td>115163</td>\n",
       "      <td>False</td>\n",
       "      <td>Legal</td>\n",
       "    </tr>\n",
       "    <tr>\n",
       "      <th>11</th>\n",
       "      <td>Julie</td>\n",
       "      <td>Female</td>\n",
       "      <td>1997-10-26</td>\n",
       "      <td>102508</td>\n",
       "      <td>True</td>\n",
       "      <td>Legal</td>\n",
       "    </tr>\n",
       "    <tr>\n",
       "      <th>13</th>\n",
       "      <td>Gary</td>\n",
       "      <td>Male</td>\n",
       "      <td>2008-01-27</td>\n",
       "      <td>109831</td>\n",
       "      <td>False</td>\n",
       "      <td>Sales</td>\n",
       "    </tr>\n",
       "    <tr>\n",
       "      <th>20</th>\n",
       "      <td>Lois</td>\n",
       "      <td>NaN</td>\n",
       "      <td>1995-04-22</td>\n",
       "      <td>64714</td>\n",
       "      <td>True</td>\n",
       "      <td>Legal</td>\n",
       "    </tr>\n",
       "  </tbody>\n",
       "</table>\n",
       "</div>"
      ],
      "text/plain": [
       "   First Name  Gender  Start Date  Salary   Mgmt       Team\n",
       "0     Douglas    Male  1993-08-06       0   True  Marketing\n",
       "5      Dennis    Male  1987-04-18  115163  False      Legal\n",
       "11      Julie  Female  1997-10-26  102508   True      Legal\n",
       "13       Gary    Male  2008-01-27  109831  False      Sales\n",
       "20       Lois     NaN  1995-04-22   64714   True      Legal"
      ]
     },
     "execution_count": 56,
     "metadata": {},
     "output_type": "execute_result"
    }
   ],
   "source": [
    "all_star_teams = [\"Sales\", \"Legal\", \"Marketing\"]\n",
    "is_in_all_star_teams = df_employees[\"Team\"].isin(all_star_teams)\n",
    "df_employees[is_in_all_star_teams].head()"
   ]
  },
  {
   "cell_type": "markdown",
   "id": "542d48f0",
   "metadata": {},
   "source": [
    "#### The between Method"
   ]
  },
  {
   "cell_type": "code",
   "execution_count": 61,
   "id": "bdd1c746",
   "metadata": {},
   "outputs": [
    {
     "data": {
      "application/vnd.microsoft.datawrangler.viewer.v0+json": {
       "columns": [
        {
         "name": "index",
         "rawType": "int64",
         "type": "integer"
        },
        {
         "name": "First Name",
         "rawType": "object",
         "type": "unknown"
        },
        {
         "name": "Team",
         "rawType": "category",
         "type": "unknown"
        },
        {
         "name": "Salary",
         "rawType": "int32",
         "type": "integer"
        }
       ],
       "ref": "351488ea-1c4e-4aeb-bbf2-b8d4135b7636",
       "rows": [
        [
         "821",
         null,
         "Distribution",
         "80399"
        ],
        [
         "865",
         "Karen",
         "Legal",
         "80633"
        ],
        [
         "360",
         "Susan",
         "Sales",
         "80688"
        ],
        [
         "104",
         "John",
         "Marketing",
         "80740"
        ],
        [
         "542",
         "Amanda",
         "Distribution",
         "80803"
        ]
       ],
       "shape": {
        "columns": 3,
        "rows": 5
       }
      },
      "text/html": [
       "<div>\n",
       "<style scoped>\n",
       "    .dataframe tbody tr th:only-of-type {\n",
       "        vertical-align: middle;\n",
       "    }\n",
       "\n",
       "    .dataframe tbody tr th {\n",
       "        vertical-align: top;\n",
       "    }\n",
       "\n",
       "    .dataframe thead th {\n",
       "        text-align: right;\n",
       "    }\n",
       "</style>\n",
       "<table border=\"1\" class=\"dataframe\">\n",
       "  <thead>\n",
       "    <tr style=\"text-align: right;\">\n",
       "      <th></th>\n",
       "      <th>First Name</th>\n",
       "      <th>Team</th>\n",
       "      <th>Salary</th>\n",
       "    </tr>\n",
       "  </thead>\n",
       "  <tbody>\n",
       "    <tr>\n",
       "      <th>821</th>\n",
       "      <td>NaN</td>\n",
       "      <td>Distribution</td>\n",
       "      <td>80399</td>\n",
       "    </tr>\n",
       "    <tr>\n",
       "      <th>865</th>\n",
       "      <td>Karen</td>\n",
       "      <td>Legal</td>\n",
       "      <td>80633</td>\n",
       "    </tr>\n",
       "    <tr>\n",
       "      <th>360</th>\n",
       "      <td>Susan</td>\n",
       "      <td>Sales</td>\n",
       "      <td>80688</td>\n",
       "    </tr>\n",
       "    <tr>\n",
       "      <th>104</th>\n",
       "      <td>John</td>\n",
       "      <td>Marketing</td>\n",
       "      <td>80740</td>\n",
       "    </tr>\n",
       "    <tr>\n",
       "      <th>542</th>\n",
       "      <td>Amanda</td>\n",
       "      <td>Distribution</td>\n",
       "      <td>80803</td>\n",
       "    </tr>\n",
       "  </tbody>\n",
       "</table>\n",
       "</div>"
      ],
      "text/plain": [
       "    First Name          Team  Salary\n",
       "821        NaN  Distribution   80399\n",
       "865      Karen         Legal   80633\n",
       "360      Susan         Sales   80688\n",
       "104       John     Marketing   80740\n",
       "542     Amanda  Distribution   80803"
      ]
     },
     "execution_count": 61,
     "metadata": {},
     "output_type": "execute_result"
    }
   ],
   "source": [
    "between_80k_and_90k = df_employees[\"Salary\"].between(80000, 90000)\n",
    "df_employees[['First Name','Team','Salary']][between_80k_and_90k].sort_values(by=\"Salary\").head()"
   ]
  },
  {
   "cell_type": "markdown",
   "id": "789434d6",
   "metadata": {},
   "source": [
    "**Using for datetime type**"
   ]
  },
  {
   "cell_type": "code",
   "execution_count": 62,
   "id": "5300753f",
   "metadata": {},
   "outputs": [
    {
     "data": {
      "application/vnd.microsoft.datawrangler.viewer.v0+json": {
       "columns": [
        {
         "name": "index",
         "rawType": "int64",
         "type": "integer"
        },
        {
         "name": "First Name",
         "rawType": "object",
         "type": "string"
        },
        {
         "name": "Gender",
         "rawType": "category",
         "type": "unknown"
        },
        {
         "name": "Start Date",
         "rawType": "object",
         "type": "string"
        },
        {
         "name": "Salary",
         "rawType": "int32",
         "type": "integer"
        },
        {
         "name": "Mgmt",
         "rawType": "bool",
         "type": "boolean"
        },
        {
         "name": "Team",
         "rawType": "category",
         "type": "unknown"
        }
       ],
       "ref": "27f9c175-1edd-45f2-b86f-0a11a8887a17",
       "rows": [
        [
         "5",
         "Dennis",
         "Male",
         "1987-04-18",
         "115163",
         "False",
         "Legal"
        ],
        [
         "6",
         "Ruby",
         "Female",
         "1987-08-17",
         "65476",
         "True",
         "Product"
        ],
        [
         "10",
         "Louise",
         "Female",
         "1980-08-12",
         "63241",
         "True",
         null
        ],
        [
         "12",
         "Brandon",
         "Male",
         "1980-12-01",
         "112807",
         "True",
         "HR"
        ],
        [
         "17",
         "Shawn",
         "Male",
         "1986-12-07",
         "111737",
         "False",
         "Product"
        ]
       ],
       "shape": {
        "columns": 6,
        "rows": 5
       }
      },
      "text/html": [
       "<div>\n",
       "<style scoped>\n",
       "    .dataframe tbody tr th:only-of-type {\n",
       "        vertical-align: middle;\n",
       "    }\n",
       "\n",
       "    .dataframe tbody tr th {\n",
       "        vertical-align: top;\n",
       "    }\n",
       "\n",
       "    .dataframe thead th {\n",
       "        text-align: right;\n",
       "    }\n",
       "</style>\n",
       "<table border=\"1\" class=\"dataframe\">\n",
       "  <thead>\n",
       "    <tr style=\"text-align: right;\">\n",
       "      <th></th>\n",
       "      <th>First Name</th>\n",
       "      <th>Gender</th>\n",
       "      <th>Start Date</th>\n",
       "      <th>Salary</th>\n",
       "      <th>Mgmt</th>\n",
       "      <th>Team</th>\n",
       "    </tr>\n",
       "  </thead>\n",
       "  <tbody>\n",
       "    <tr>\n",
       "      <th>5</th>\n",
       "      <td>Dennis</td>\n",
       "      <td>Male</td>\n",
       "      <td>1987-04-18</td>\n",
       "      <td>115163</td>\n",
       "      <td>False</td>\n",
       "      <td>Legal</td>\n",
       "    </tr>\n",
       "    <tr>\n",
       "      <th>6</th>\n",
       "      <td>Ruby</td>\n",
       "      <td>Female</td>\n",
       "      <td>1987-08-17</td>\n",
       "      <td>65476</td>\n",
       "      <td>True</td>\n",
       "      <td>Product</td>\n",
       "    </tr>\n",
       "    <tr>\n",
       "      <th>10</th>\n",
       "      <td>Louise</td>\n",
       "      <td>Female</td>\n",
       "      <td>1980-08-12</td>\n",
       "      <td>63241</td>\n",
       "      <td>True</td>\n",
       "      <td>NaN</td>\n",
       "    </tr>\n",
       "    <tr>\n",
       "      <th>12</th>\n",
       "      <td>Brandon</td>\n",
       "      <td>Male</td>\n",
       "      <td>1980-12-01</td>\n",
       "      <td>112807</td>\n",
       "      <td>True</td>\n",
       "      <td>HR</td>\n",
       "    </tr>\n",
       "    <tr>\n",
       "      <th>17</th>\n",
       "      <td>Shawn</td>\n",
       "      <td>Male</td>\n",
       "      <td>1986-12-07</td>\n",
       "      <td>111737</td>\n",
       "      <td>False</td>\n",
       "      <td>Product</td>\n",
       "    </tr>\n",
       "  </tbody>\n",
       "</table>\n",
       "</div>"
      ],
      "text/plain": [
       "   First Name  Gender  Start Date  Salary   Mgmt     Team\n",
       "5      Dennis    Male  1987-04-18  115163  False    Legal\n",
       "6        Ruby  Female  1987-08-17   65476   True  Product\n",
       "10     Louise  Female  1980-08-12   63241   True      NaN\n",
       "12    Brandon    Male  1980-12-01  112807   True       HR\n",
       "17      Shawn    Male  1986-12-07  111737  False  Product"
      ]
     },
     "execution_count": 62,
     "metadata": {},
     "output_type": "execute_result"
    }
   ],
   "source": [
    "eighties_folk = df_employees[\"Start Date\"].between(\n",
    "left = \"1980-01-01\",\n",
    "right = \"1990-01-01\"\n",
    ")\n",
    "df_employees[eighties_folk].head()"
   ]
  },
  {
   "cell_type": "markdown",
   "id": "13928848",
   "metadata": {},
   "source": [
    "**Using for string type**"
   ]
  },
  {
   "cell_type": "code",
   "execution_count": 63,
   "id": "76421867",
   "metadata": {},
   "outputs": [
    {
     "data": {
      "application/vnd.microsoft.datawrangler.viewer.v0+json": {
       "columns": [
        {
         "name": "index",
         "rawType": "int64",
         "type": "integer"
        },
        {
         "name": "First Name",
         "rawType": "object",
         "type": "string"
        },
        {
         "name": "Gender",
         "rawType": "category",
         "type": "unknown"
        },
        {
         "name": "Start Date",
         "rawType": "object",
         "type": "string"
        },
        {
         "name": "Salary",
         "rawType": "int32",
         "type": "integer"
        },
        {
         "name": "Mgmt",
         "rawType": "bool",
         "type": "boolean"
        },
        {
         "name": "Team",
         "rawType": "category",
         "type": "unknown"
        }
       ],
       "ref": "390ead08-e619-4d33-9ac8-286c26dfea12",
       "rows": [
        [
         "6",
         "Ruby",
         "Female",
         "1987-08-17",
         "65476",
         "True",
         "Product"
        ],
        [
         "36",
         "Rachel",
         "Female",
         "2009-02-16",
         "142032",
         "False",
         "Business Dev"
        ],
        [
         "45",
         "Roger",
         "Male",
         "1980-04-17",
         "88010",
         "True",
         "Sales"
        ],
        [
         "67",
         "Rachel",
         "Female",
         "1999-08-16",
         "51178",
         "True",
         "Finance"
        ],
        [
         "78",
         "Robin",
         "Female",
         "1983-06-04",
         "114797",
         "True",
         "Sales"
        ]
       ],
       "shape": {
        "columns": 6,
        "rows": 5
       }
      },
      "text/html": [
       "<div>\n",
       "<style scoped>\n",
       "    .dataframe tbody tr th:only-of-type {\n",
       "        vertical-align: middle;\n",
       "    }\n",
       "\n",
       "    .dataframe tbody tr th {\n",
       "        vertical-align: top;\n",
       "    }\n",
       "\n",
       "    .dataframe thead th {\n",
       "        text-align: right;\n",
       "    }\n",
       "</style>\n",
       "<table border=\"1\" class=\"dataframe\">\n",
       "  <thead>\n",
       "    <tr style=\"text-align: right;\">\n",
       "      <th></th>\n",
       "      <th>First Name</th>\n",
       "      <th>Gender</th>\n",
       "      <th>Start Date</th>\n",
       "      <th>Salary</th>\n",
       "      <th>Mgmt</th>\n",
       "      <th>Team</th>\n",
       "    </tr>\n",
       "  </thead>\n",
       "  <tbody>\n",
       "    <tr>\n",
       "      <th>6</th>\n",
       "      <td>Ruby</td>\n",
       "      <td>Female</td>\n",
       "      <td>1987-08-17</td>\n",
       "      <td>65476</td>\n",
       "      <td>True</td>\n",
       "      <td>Product</td>\n",
       "    </tr>\n",
       "    <tr>\n",
       "      <th>36</th>\n",
       "      <td>Rachel</td>\n",
       "      <td>Female</td>\n",
       "      <td>2009-02-16</td>\n",
       "      <td>142032</td>\n",
       "      <td>False</td>\n",
       "      <td>Business Dev</td>\n",
       "    </tr>\n",
       "    <tr>\n",
       "      <th>45</th>\n",
       "      <td>Roger</td>\n",
       "      <td>Male</td>\n",
       "      <td>1980-04-17</td>\n",
       "      <td>88010</td>\n",
       "      <td>True</td>\n",
       "      <td>Sales</td>\n",
       "    </tr>\n",
       "    <tr>\n",
       "      <th>67</th>\n",
       "      <td>Rachel</td>\n",
       "      <td>Female</td>\n",
       "      <td>1999-08-16</td>\n",
       "      <td>51178</td>\n",
       "      <td>True</td>\n",
       "      <td>Finance</td>\n",
       "    </tr>\n",
       "    <tr>\n",
       "      <th>78</th>\n",
       "      <td>Robin</td>\n",
       "      <td>Female</td>\n",
       "      <td>1983-06-04</td>\n",
       "      <td>114797</td>\n",
       "      <td>True</td>\n",
       "      <td>Sales</td>\n",
       "    </tr>\n",
       "  </tbody>\n",
       "</table>\n",
       "</div>"
      ],
      "text/plain": [
       "   First Name  Gender  Start Date  Salary   Mgmt          Team\n",
       "6        Ruby  Female  1987-08-17   65476   True       Product\n",
       "36     Rachel  Female  2009-02-16  142032  False  Business Dev\n",
       "45      Roger    Male  1980-04-17   88010   True         Sales\n",
       "67     Rachel  Female  1999-08-16   51178   True       Finance\n",
       "78      Robin  Female  1983-06-04  114797   True         Sales"
      ]
     },
     "execution_count": 63,
     "metadata": {},
     "output_type": "execute_result"
    }
   ],
   "source": [
    "name_starts_with_r = df_employees[\"First Name\"].between(\"R\", \"S\")\n",
    "df_employees[name_starts_with_r].head()"
   ]
  },
  {
   "cell_type": "markdown",
   "id": "0d6ee0d7",
   "metadata": {},
   "source": [
    "### The isna and notna Methods"
   ]
  },
  {
   "cell_type": "markdown",
   "id": "437094f3",
   "metadata": {},
   "source": [
    "**isna method finds all NaN values from specific column**"
   ]
  },
  {
   "cell_type": "code",
   "execution_count": 66,
   "id": "dab6feca",
   "metadata": {},
   "outputs": [
    {
     "data": {
      "application/vnd.microsoft.datawrangler.viewer.v0+json": {
       "columns": [
        {
         "name": "index",
         "rawType": "int64",
         "type": "integer"
        },
        {
         "name": "First Name",
         "rawType": "object",
         "type": "unknown"
        },
        {
         "name": "Gender",
         "rawType": "category",
         "type": "unknown"
        },
        {
         "name": "Team",
         "rawType": "category",
         "type": "unknown"
        }
       ],
       "ref": "99937724-4967-42f0-9ce8-6d6ae7abe0fc",
       "rows": [
        [
         "1",
         "Thomas",
         "Male",
         null
        ],
        [
         "10",
         "Louise",
         "Female",
         null
        ],
        [
         "23",
         null,
         "Male",
         null
        ],
        [
         "32",
         null,
         "Male",
         null
        ],
        [
         "91",
         "James",
         null,
         null
        ]
       ],
       "shape": {
        "columns": 3,
        "rows": 5
       }
      },
      "text/html": [
       "<div>\n",
       "<style scoped>\n",
       "    .dataframe tbody tr th:only-of-type {\n",
       "        vertical-align: middle;\n",
       "    }\n",
       "\n",
       "    .dataframe tbody tr th {\n",
       "        vertical-align: top;\n",
       "    }\n",
       "\n",
       "    .dataframe thead th {\n",
       "        text-align: right;\n",
       "    }\n",
       "</style>\n",
       "<table border=\"1\" class=\"dataframe\">\n",
       "  <thead>\n",
       "    <tr style=\"text-align: right;\">\n",
       "      <th></th>\n",
       "      <th>First Name</th>\n",
       "      <th>Gender</th>\n",
       "      <th>Team</th>\n",
       "    </tr>\n",
       "  </thead>\n",
       "  <tbody>\n",
       "    <tr>\n",
       "      <th>1</th>\n",
       "      <td>Thomas</td>\n",
       "      <td>Male</td>\n",
       "      <td>NaN</td>\n",
       "    </tr>\n",
       "    <tr>\n",
       "      <th>10</th>\n",
       "      <td>Louise</td>\n",
       "      <td>Female</td>\n",
       "      <td>NaN</td>\n",
       "    </tr>\n",
       "    <tr>\n",
       "      <th>23</th>\n",
       "      <td>NaN</td>\n",
       "      <td>Male</td>\n",
       "      <td>NaN</td>\n",
       "    </tr>\n",
       "    <tr>\n",
       "      <th>32</th>\n",
       "      <td>NaN</td>\n",
       "      <td>Male</td>\n",
       "      <td>NaN</td>\n",
       "    </tr>\n",
       "    <tr>\n",
       "      <th>91</th>\n",
       "      <td>James</td>\n",
       "      <td>NaN</td>\n",
       "      <td>NaN</td>\n",
       "    </tr>\n",
       "  </tbody>\n",
       "</table>\n",
       "</div>"
      ],
      "text/plain": [
       "   First Name  Gender Team\n",
       "1      Thomas    Male  NaN\n",
       "10     Louise  Female  NaN\n",
       "23        NaN    Male  NaN\n",
       "32        NaN    Male  NaN\n",
       "91      James     NaN  NaN"
      ]
     },
     "execution_count": 66,
     "metadata": {},
     "output_type": "execute_result"
    }
   ],
   "source": [
    "no_team = df_employees[\"Team\"].isna()\n",
    "df_employees[['First Name','Gender','Team']][no_team].head()"
   ]
  },
  {
   "cell_type": "markdown",
   "id": "c5324994",
   "metadata": {},
   "source": [
    "**notna method returns only True values in the \"First Name\" column**"
   ]
  },
  {
   "cell_type": "code",
   "execution_count": 69,
   "id": "96d224d3",
   "metadata": {},
   "outputs": [
    {
     "data": {
      "application/vnd.microsoft.datawrangler.viewer.v0+json": {
       "columns": [
        {
         "name": "index",
         "rawType": "int64",
         "type": "integer"
        },
        {
         "name": "First Name",
         "rawType": "object",
         "type": "string"
        },
        {
         "name": "Gender",
         "rawType": "category",
         "type": "unknown"
        },
        {
         "name": "Team",
         "rawType": "category",
         "type": "unknown"
        }
       ],
       "ref": "c8ee4f8d-6eed-497e-b66c-3d9b5f353217",
       "rows": [
        [
         "0",
         "Douglas",
         "Male",
         "Marketing"
        ],
        [
         "1",
         "Thomas",
         "Male",
         null
        ],
        [
         "2",
         "Maria",
         "Female",
         "Finance"
        ],
        [
         "3",
         "Jerry",
         null,
         "Finance"
        ],
        [
         "4",
         "Larry",
         "Male",
         "IT"
        ]
       ],
       "shape": {
        "columns": 3,
        "rows": 5
       }
      },
      "text/html": [
       "<div>\n",
       "<style scoped>\n",
       "    .dataframe tbody tr th:only-of-type {\n",
       "        vertical-align: middle;\n",
       "    }\n",
       "\n",
       "    .dataframe tbody tr th {\n",
       "        vertical-align: top;\n",
       "    }\n",
       "\n",
       "    .dataframe thead th {\n",
       "        text-align: right;\n",
       "    }\n",
       "</style>\n",
       "<table border=\"1\" class=\"dataframe\">\n",
       "  <thead>\n",
       "    <tr style=\"text-align: right;\">\n",
       "      <th></th>\n",
       "      <th>First Name</th>\n",
       "      <th>Gender</th>\n",
       "      <th>Team</th>\n",
       "    </tr>\n",
       "  </thead>\n",
       "  <tbody>\n",
       "    <tr>\n",
       "      <th>0</th>\n",
       "      <td>Douglas</td>\n",
       "      <td>Male</td>\n",
       "      <td>Marketing</td>\n",
       "    </tr>\n",
       "    <tr>\n",
       "      <th>1</th>\n",
       "      <td>Thomas</td>\n",
       "      <td>Male</td>\n",
       "      <td>NaN</td>\n",
       "    </tr>\n",
       "    <tr>\n",
       "      <th>2</th>\n",
       "      <td>Maria</td>\n",
       "      <td>Female</td>\n",
       "      <td>Finance</td>\n",
       "    </tr>\n",
       "    <tr>\n",
       "      <th>3</th>\n",
       "      <td>Jerry</td>\n",
       "      <td>NaN</td>\n",
       "      <td>Finance</td>\n",
       "    </tr>\n",
       "    <tr>\n",
       "      <th>4</th>\n",
       "      <td>Larry</td>\n",
       "      <td>Male</td>\n",
       "      <td>IT</td>\n",
       "    </tr>\n",
       "  </tbody>\n",
       "</table>\n",
       "</div>"
      ],
      "text/plain": [
       "  First Name  Gender       Team\n",
       "0    Douglas    Male  Marketing\n",
       "1     Thomas    Male        NaN\n",
       "2      Maria  Female    Finance\n",
       "3      Jerry     NaN    Finance\n",
       "4      Larry    Male         IT"
      ]
     },
     "execution_count": 69,
     "metadata": {},
     "output_type": "execute_result"
    }
   ],
   "source": [
    "has_name = df_employees[\"First Name\"].notna()\n",
    "df_employees[['First Name','Gender','Team']][has_name].head()"
   ]
  },
  {
   "cell_type": "markdown",
   "id": "37daa08c",
   "metadata": {},
   "source": [
    "**Count only True values**"
   ]
  },
  {
   "cell_type": "code",
   "execution_count": 75,
   "id": "55c64506",
   "metadata": {},
   "outputs": [
    {
     "data": {
      "application/vnd.microsoft.datawrangler.viewer.v0+json": {
       "columns": [
        {
         "name": "index",
         "rawType": "object",
         "type": "string"
        },
        {
         "name": "0",
         "rawType": "int64",
         "type": "integer"
        }
       ],
       "ref": "661b5990-0cc0-4637-af2c-3a086d36ae26",
       "rows": [
        [
         "Salary",
         "1001"
        ],
        [
         "Mgmt",
         "1001"
        ],
        [
         "Start Date",
         "999"
        ],
        [
         "Team",
         "957"
        ],
        [
         "First Name",
         "933"
        ],
        [
         "Gender",
         "854"
        ]
       ],
       "shape": {
        "columns": 1,
        "rows": 6
       }
      },
      "text/plain": [
       "Salary        1001\n",
       "Mgmt          1001\n",
       "Start Date     999\n",
       "Team           957\n",
       "First Name     933\n",
       "Gender         854\n",
       "dtype: int64"
      ]
     },
     "execution_count": 75,
     "metadata": {},
     "output_type": "execute_result"
    }
   ],
   "source": [
    "df_employees.notna().sum().sort_values(ascending=False)"
   ]
  },
  {
   "cell_type": "markdown",
   "id": "e8c7df1c",
   "metadata": {},
   "source": [
    "**Count only NaN values**"
   ]
  },
  {
   "cell_type": "code",
   "execution_count": 74,
   "id": "c0534877",
   "metadata": {},
   "outputs": [
    {
     "data": {
      "application/vnd.microsoft.datawrangler.viewer.v0+json": {
       "columns": [
        {
         "name": "index",
         "rawType": "object",
         "type": "string"
        },
        {
         "name": "0",
         "rawType": "int64",
         "type": "integer"
        }
       ],
       "ref": "2db9a8ba-35cc-49b4-98f4-13d91de15f0e",
       "rows": [
        [
         "Gender",
         "147"
        ],
        [
         "First Name",
         "68"
        ],
        [
         "Team",
         "44"
        ],
        [
         "Start Date",
         "2"
        ],
        [
         "Salary",
         "0"
        ],
        [
         "Mgmt",
         "0"
        ]
       ],
       "shape": {
        "columns": 1,
        "rows": 6
       }
      },
      "text/plain": [
       "Gender        147\n",
       "First Name     68\n",
       "Team           44\n",
       "Start Date      2\n",
       "Salary          0\n",
       "Mgmt            0\n",
       "dtype: int64"
      ]
     },
     "execution_count": 74,
     "metadata": {},
     "output_type": "execute_result"
    }
   ],
   "source": [
    "df_employees.isna().sum().sort_values(ascending=False)"
   ]
  },
  {
   "cell_type": "markdown",
   "id": "6c24377d",
   "metadata": {},
   "source": [
    "### Dealing with Null Values"
   ]
  },
  {
   "cell_type": "code",
   "execution_count": 77,
   "id": "9f2e492b",
   "metadata": {},
   "outputs": [
    {
     "name": "stderr",
     "output_type": "stream",
     "text": [
      "/var/folders/pg/x6kyk1l92fj8q4332g1j8rnw0000gp/T/ipykernel_35948/883899616.py:1: UserWarning: Could not infer format, so each element will be parsed individually, falling back to `dateutil`. To ensure parsing is consistent and as-expected, please specify a format.\n",
      "  df_dealna = pd.read_csv(employees_data, parse_dates = ['Start Date'])\n"
     ]
    }
   ],
   "source": [
    "df_dealna = pd.read_csv(employees_data, parse_dates = ['Start Date'])"
   ]
  },
  {
   "cell_type": "code",
   "execution_count": 79,
   "id": "87ad99b1",
   "metadata": {},
   "outputs": [
    {
     "name": "stdout",
     "output_type": "stream",
     "text": [
      "<class 'pandas.core.frame.DataFrame'>\n",
      "RangeIndex: 1001 entries, 0 to 1000\n",
      "Data columns (total 6 columns):\n",
      " #   Column      Non-Null Count  Dtype         \n",
      "---  ------      --------------  -----         \n",
      " 0   First Name  933 non-null    object        \n",
      " 1   Gender      854 non-null    object        \n",
      " 2   Start Date  999 non-null    datetime64[ns]\n",
      " 3   Salary      999 non-null    float64       \n",
      " 4   Mgmt        933 non-null    object        \n",
      " 5   Team        957 non-null    object        \n",
      "dtypes: datetime64[ns](1), float64(1), object(4)\n",
      "memory usage: 47.1+ KB\n"
     ]
    }
   ],
   "source": [
    "df_dealna.info()"
   ]
  },
  {
   "cell_type": "markdown",
   "id": "f73ed119",
   "metadata": {},
   "source": [
    "#### dropna method will remove all rows where NaN values exist"
   ]
  },
  {
   "cell_type": "code",
   "execution_count": 81,
   "id": "ea9502f7",
   "metadata": {},
   "outputs": [
    {
     "data": {
      "application/vnd.microsoft.datawrangler.viewer.v0+json": {
       "columns": [
        {
         "name": "index",
         "rawType": "object",
         "type": "string"
        },
        {
         "name": "0",
         "rawType": "int64",
         "type": "integer"
        }
       ],
       "ref": "2045b405-2a83-497c-a99a-18fe54701546",
       "rows": [
        [
         "First Name",
         "0"
        ],
        [
         "Gender",
         "0"
        ],
        [
         "Start Date",
         "0"
        ],
        [
         "Salary",
         "0"
        ],
        [
         "Mgmt",
         "0"
        ],
        [
         "Team",
         "0"
        ]
       ],
       "shape": {
        "columns": 1,
        "rows": 6
       }
      },
      "text/plain": [
       "First Name    0\n",
       "Gender        0\n",
       "Start Date    0\n",
       "Salary        0\n",
       "Mgmt          0\n",
       "Team          0\n",
       "dtype: int64"
      ]
     },
     "execution_count": 81,
     "metadata": {},
     "output_type": "execute_result"
    }
   ],
   "source": [
    "df_dealna.dropna().isnull().sum()"
   ]
  },
  {
   "cell_type": "markdown",
   "id": "68b955a2",
   "metadata": {},
   "source": [
    "**Dropna(how = 'all') removes only rows where all values are NaN**"
   ]
  },
  {
   "cell_type": "code",
   "execution_count": 84,
   "id": "5164e376",
   "metadata": {},
   "outputs": [
    {
     "data": {
      "text/plain": [
       "(1001, 6)"
      ]
     },
     "execution_count": 84,
     "metadata": {},
     "output_type": "execute_result"
    }
   ],
   "source": [
    "df_dealna.shape\n"
   ]
  },
  {
   "cell_type": "code",
   "execution_count": 85,
   "id": "c041812d",
   "metadata": {},
   "outputs": [
    {
     "data": {
      "text/plain": [
       "(1000, 6)"
      ]
     },
     "execution_count": 85,
     "metadata": {},
     "output_type": "execute_result"
    }
   ],
   "source": [
    "drop_how = df_dealna.dropna(how='all')\n",
    "drop_how.shape"
   ]
  },
  {
   "cell_type": "markdown",
   "id": "01f6a75d",
   "metadata": {},
   "source": [
    "**Drop NaN values in the specific column**"
   ]
  },
  {
   "cell_type": "code",
   "execution_count": 89,
   "id": "f65afd46",
   "metadata": {},
   "outputs": [
    {
     "data": {
      "application/vnd.microsoft.datawrangler.viewer.v0+json": {
       "columns": [
        {
         "name": "index",
         "rawType": "int64",
         "type": "integer"
        },
        {
         "name": "First Name",
         "rawType": "object",
         "type": "string"
        },
        {
         "name": "Gender",
         "rawType": "object",
         "type": "string"
        },
        {
         "name": "Start Date",
         "rawType": "datetime64[ns]",
         "type": "datetime"
        },
        {
         "name": "Salary",
         "rawType": "float64",
         "type": "float"
        },
        {
         "name": "Mgmt",
         "rawType": "object",
         "type": "unknown"
        },
        {
         "name": "Team",
         "rawType": "object",
         "type": "unknown"
        }
       ],
       "ref": "af26e06e-f69c-43be-bc05-442ad04155bc",
       "rows": [
        [
         "0",
         "Douglas",
         "Male",
         "1993-08-06 00:00:00",
         null,
         "True",
         "Marketing"
        ],
        [
         "1",
         "Thomas",
         "Male",
         "1996-03-31 00:00:00",
         "61933.0",
         "True",
         null
        ],
        [
         "2",
         "Maria",
         "Female",
         null,
         "130590.0",
         "False",
         "Finance"
        ],
        [
         "4",
         "Larry",
         "Male",
         "1998-01-24 00:00:00",
         "101004.0",
         "True",
         "IT"
        ],
        [
         "5",
         "Dennis",
         "Male",
         "1987-04-18 00:00:00",
         "115163.0",
         "False",
         "Legal"
        ]
       ],
       "shape": {
        "columns": 6,
        "rows": 5
       }
      },
      "text/html": [
       "<div>\n",
       "<style scoped>\n",
       "    .dataframe tbody tr th:only-of-type {\n",
       "        vertical-align: middle;\n",
       "    }\n",
       "\n",
       "    .dataframe tbody tr th {\n",
       "        vertical-align: top;\n",
       "    }\n",
       "\n",
       "    .dataframe thead th {\n",
       "        text-align: right;\n",
       "    }\n",
       "</style>\n",
       "<table border=\"1\" class=\"dataframe\">\n",
       "  <thead>\n",
       "    <tr style=\"text-align: right;\">\n",
       "      <th></th>\n",
       "      <th>First Name</th>\n",
       "      <th>Gender</th>\n",
       "      <th>Start Date</th>\n",
       "      <th>Salary</th>\n",
       "      <th>Mgmt</th>\n",
       "      <th>Team</th>\n",
       "    </tr>\n",
       "  </thead>\n",
       "  <tbody>\n",
       "    <tr>\n",
       "      <th>0</th>\n",
       "      <td>Douglas</td>\n",
       "      <td>Male</td>\n",
       "      <td>1993-08-06</td>\n",
       "      <td>NaN</td>\n",
       "      <td>True</td>\n",
       "      <td>Marketing</td>\n",
       "    </tr>\n",
       "    <tr>\n",
       "      <th>1</th>\n",
       "      <td>Thomas</td>\n",
       "      <td>Male</td>\n",
       "      <td>1996-03-31</td>\n",
       "      <td>61933.0</td>\n",
       "      <td>True</td>\n",
       "      <td>NaN</td>\n",
       "    </tr>\n",
       "    <tr>\n",
       "      <th>2</th>\n",
       "      <td>Maria</td>\n",
       "      <td>Female</td>\n",
       "      <td>NaT</td>\n",
       "      <td>130590.0</td>\n",
       "      <td>False</td>\n",
       "      <td>Finance</td>\n",
       "    </tr>\n",
       "    <tr>\n",
       "      <th>4</th>\n",
       "      <td>Larry</td>\n",
       "      <td>Male</td>\n",
       "      <td>1998-01-24</td>\n",
       "      <td>101004.0</td>\n",
       "      <td>True</td>\n",
       "      <td>IT</td>\n",
       "    </tr>\n",
       "    <tr>\n",
       "      <th>5</th>\n",
       "      <td>Dennis</td>\n",
       "      <td>Male</td>\n",
       "      <td>1987-04-18</td>\n",
       "      <td>115163.0</td>\n",
       "      <td>False</td>\n",
       "      <td>Legal</td>\n",
       "    </tr>\n",
       "  </tbody>\n",
       "</table>\n",
       "</div>"
      ],
      "text/plain": [
       "  First Name  Gender Start Date    Salary   Mgmt       Team\n",
       "0    Douglas    Male 1993-08-06       NaN   True  Marketing\n",
       "1     Thomas    Male 1996-03-31   61933.0   True        NaN\n",
       "2      Maria  Female        NaT  130590.0  False    Finance\n",
       "4      Larry    Male 1998-01-24  101004.0   True         IT\n",
       "5     Dennis    Male 1987-04-18  115163.0  False      Legal"
      ]
     },
     "execution_count": 89,
     "metadata": {},
     "output_type": "execute_result"
    }
   ],
   "source": [
    "df_dealna.dropna(subset=['Gender']).head()"
   ]
  },
  {
   "cell_type": "markdown",
   "id": "8685682f",
   "metadata": {},
   "source": [
    "**Cleaning a few columns**"
   ]
  },
  {
   "cell_type": "code",
   "execution_count": 91,
   "id": "f2df4250",
   "metadata": {},
   "outputs": [
    {
     "data": {
      "application/vnd.microsoft.datawrangler.viewer.v0+json": {
       "columns": [
        {
         "name": "index",
         "rawType": "object",
         "type": "string"
        },
        {
         "name": "0",
         "rawType": "int64",
         "type": "integer"
        }
       ],
       "ref": "eba8485a-61a9-4278-96fa-b825c778d92c",
       "rows": [
        [
         "First Name",
         "52"
        ],
        [
         "Gender",
         "0"
        ],
        [
         "Start Date",
         "1"
        ],
        [
         "Salary",
         "0"
        ],
        [
         "Mgmt",
         "52"
        ],
        [
         "Team",
         "0"
        ]
       ],
       "shape": {
        "columns": 1,
        "rows": 6
       }
      },
      "text/plain": [
       "First Name    52\n",
       "Gender         0\n",
       "Start Date     1\n",
       "Salary         0\n",
       "Mgmt          52\n",
       "Team           0\n",
       "dtype: int64"
      ]
     },
     "execution_count": 91,
     "metadata": {},
     "output_type": "execute_result"
    }
   ],
   "source": [
    "df_dealna.dropna(subset=['Team','Salary','Gender']).isnull().sum()"
   ]
  },
  {
   "cell_type": "markdown",
   "id": "777878fe",
   "metadata": {},
   "source": [
    "**The thresh parameter allows you to set a minimum number of non-empty values\n",
    "in line**"
   ]
  },
  {
   "cell_type": "code",
   "execution_count": null,
   "id": "06f6b16b",
   "metadata": {},
   "outputs": [
    {
     "data": {
      "application/vnd.microsoft.datawrangler.viewer.v0+json": {
       "columns": [
        {
         "name": "index",
         "rawType": "int64",
         "type": "integer"
        },
        {
         "name": "First Name",
         "rawType": "object",
         "type": "string"
        },
        {
         "name": "Gender",
         "rawType": "object",
         "type": "string"
        },
        {
         "name": "Start Date",
         "rawType": "datetime64[ns]",
         "type": "datetime"
        },
        {
         "name": "Salary",
         "rawType": "float64",
         "type": "float"
        },
        {
         "name": "Mgmt",
         "rawType": "object",
         "type": "unknown"
        },
        {
         "name": "Team",
         "rawType": "object",
         "type": "string"
        }
       ],
       "ref": "6fc46510-2590-4c75-834a-ac66b12cb8d2",
       "rows": [
        [
         "4",
         "Larry",
         "Male",
         "1998-01-24 00:00:00",
         "101004.0",
         "True",
         "IT"
        ],
        [
         "5",
         "Dennis",
         "Male",
         "1987-04-18 00:00:00",
         "115163.0",
         "False",
         "Legal"
        ],
        [
         "6",
         "Ruby",
         "Female",
         "1987-08-17 00:00:00",
         "65476.0",
         "True",
         "Product"
        ],
        [
         "8",
         "Angela",
         "Female",
         "2005-11-22 00:00:00",
         "95570.0",
         "True",
         "Engineering"
        ],
        [
         "9",
         "Frances",
         "Female",
         "2002-08-08 00:00:00",
         "139852.0",
         "True",
         "Business Dev"
        ]
       ],
       "shape": {
        "columns": 6,
        "rows": 5
       }
      },
      "text/html": [
       "<div>\n",
       "<style scoped>\n",
       "    .dataframe tbody tr th:only-of-type {\n",
       "        vertical-align: middle;\n",
       "    }\n",
       "\n",
       "    .dataframe tbody tr th {\n",
       "        vertical-align: top;\n",
       "    }\n",
       "\n",
       "    .dataframe thead th {\n",
       "        text-align: right;\n",
       "    }\n",
       "</style>\n",
       "<table border=\"1\" class=\"dataframe\">\n",
       "  <thead>\n",
       "    <tr style=\"text-align: right;\">\n",
       "      <th></th>\n",
       "      <th>First Name</th>\n",
       "      <th>Gender</th>\n",
       "      <th>Start Date</th>\n",
       "      <th>Salary</th>\n",
       "      <th>Mgmt</th>\n",
       "      <th>Team</th>\n",
       "    </tr>\n",
       "  </thead>\n",
       "  <tbody>\n",
       "    <tr>\n",
       "      <th>4</th>\n",
       "      <td>Larry</td>\n",
       "      <td>Male</td>\n",
       "      <td>1998-01-24</td>\n",
       "      <td>101004.0</td>\n",
       "      <td>True</td>\n",
       "      <td>IT</td>\n",
       "    </tr>\n",
       "    <tr>\n",
       "      <th>5</th>\n",
       "      <td>Dennis</td>\n",
       "      <td>Male</td>\n",
       "      <td>1987-04-18</td>\n",
       "      <td>115163.0</td>\n",
       "      <td>False</td>\n",
       "      <td>Legal</td>\n",
       "    </tr>\n",
       "    <tr>\n",
       "      <th>6</th>\n",
       "      <td>Ruby</td>\n",
       "      <td>Female</td>\n",
       "      <td>1987-08-17</td>\n",
       "      <td>65476.0</td>\n",
       "      <td>True</td>\n",
       "      <td>Product</td>\n",
       "    </tr>\n",
       "    <tr>\n",
       "      <th>8</th>\n",
       "      <td>Angela</td>\n",
       "      <td>Female</td>\n",
       "      <td>2005-11-22</td>\n",
       "      <td>95570.0</td>\n",
       "      <td>True</td>\n",
       "      <td>Engineering</td>\n",
       "    </tr>\n",
       "    <tr>\n",
       "      <th>9</th>\n",
       "      <td>Frances</td>\n",
       "      <td>Female</td>\n",
       "      <td>2002-08-08</td>\n",
       "      <td>139852.0</td>\n",
       "      <td>True</td>\n",
       "      <td>Business Dev</td>\n",
       "    </tr>\n",
       "  </tbody>\n",
       "</table>\n",
       "</div>"
      ],
      "text/plain": [
       "  First Name  Gender Start Date    Salary   Mgmt          Team\n",
       "4      Larry    Male 1998-01-24  101004.0   True            IT\n",
       "5     Dennis    Male 1987-04-18  115163.0  False         Legal\n",
       "6       Ruby  Female 1987-08-17   65476.0   True       Product\n",
       "8     Angela  Female 2005-11-22   95570.0   True   Engineering\n",
       "9    Frances  Female 2002-08-08  139852.0   True  Business Dev"
      ]
     },
     "execution_count": 102,
     "metadata": {},
     "output_type": "execute_result"
    }
   ],
   "source": [
    "# Returns all True values because of thresh=6 and Dataframe has only 6 columns\n",
    "df_dealna.dropna(thresh=6).head()"
   ]
  },
  {
   "cell_type": "code",
   "execution_count": null,
   "id": "b7703621",
   "metadata": {},
   "outputs": [
    {
     "data": {
      "application/vnd.microsoft.datawrangler.viewer.v0+json": {
       "columns": [
        {
         "name": "index",
         "rawType": "int64",
         "type": "integer"
        },
        {
         "name": "First Name",
         "rawType": "object",
         "type": "string"
        },
        {
         "name": "Gender",
         "rawType": "object",
         "type": "unknown"
        },
        {
         "name": "Start Date",
         "rawType": "datetime64[ns]",
         "type": "datetime"
        },
        {
         "name": "Salary",
         "rawType": "float64",
         "type": "float"
        },
        {
         "name": "Mgmt",
         "rawType": "object",
         "type": "unknown"
        },
        {
         "name": "Team",
         "rawType": "object",
         "type": "unknown"
        }
       ],
       "ref": "f577d7d8-6a30-4927-a67e-2cabdca8bc26",
       "rows": [
        [
         "0",
         "Douglas",
         "Male",
         "1993-08-06 00:00:00",
         null,
         "True",
         "Marketing"
        ],
        [
         "1",
         "Thomas",
         "Male",
         "1996-03-31 00:00:00",
         "61933.0",
         "True",
         null
        ],
        [
         "2",
         "Maria",
         "Female",
         null,
         "130590.0",
         "False",
         "Finance"
        ],
        [
         "3",
         "Jerry",
         null,
         "2005-03-04 00:00:00",
         "138705.0",
         "True",
         "Finance"
        ],
        [
         "4",
         "Larry",
         "Male",
         "1998-01-24 00:00:00",
         "101004.0",
         "True",
         "IT"
        ]
       ],
       "shape": {
        "columns": 6,
        "rows": 5
       }
      },
      "text/html": [
       "<div>\n",
       "<style scoped>\n",
       "    .dataframe tbody tr th:only-of-type {\n",
       "        vertical-align: middle;\n",
       "    }\n",
       "\n",
       "    .dataframe tbody tr th {\n",
       "        vertical-align: top;\n",
       "    }\n",
       "\n",
       "    .dataframe thead th {\n",
       "        text-align: right;\n",
       "    }\n",
       "</style>\n",
       "<table border=\"1\" class=\"dataframe\">\n",
       "  <thead>\n",
       "    <tr style=\"text-align: right;\">\n",
       "      <th></th>\n",
       "      <th>First Name</th>\n",
       "      <th>Gender</th>\n",
       "      <th>Start Date</th>\n",
       "      <th>Salary</th>\n",
       "      <th>Mgmt</th>\n",
       "      <th>Team</th>\n",
       "    </tr>\n",
       "  </thead>\n",
       "  <tbody>\n",
       "    <tr>\n",
       "      <th>0</th>\n",
       "      <td>Douglas</td>\n",
       "      <td>Male</td>\n",
       "      <td>1993-08-06</td>\n",
       "      <td>NaN</td>\n",
       "      <td>True</td>\n",
       "      <td>Marketing</td>\n",
       "    </tr>\n",
       "    <tr>\n",
       "      <th>1</th>\n",
       "      <td>Thomas</td>\n",
       "      <td>Male</td>\n",
       "      <td>1996-03-31</td>\n",
       "      <td>61933.0</td>\n",
       "      <td>True</td>\n",
       "      <td>NaN</td>\n",
       "    </tr>\n",
       "    <tr>\n",
       "      <th>2</th>\n",
       "      <td>Maria</td>\n",
       "      <td>Female</td>\n",
       "      <td>NaT</td>\n",
       "      <td>130590.0</td>\n",
       "      <td>False</td>\n",
       "      <td>Finance</td>\n",
       "    </tr>\n",
       "    <tr>\n",
       "      <th>3</th>\n",
       "      <td>Jerry</td>\n",
       "      <td>NaN</td>\n",
       "      <td>2005-03-04</td>\n",
       "      <td>138705.0</td>\n",
       "      <td>True</td>\n",
       "      <td>Finance</td>\n",
       "    </tr>\n",
       "    <tr>\n",
       "      <th>4</th>\n",
       "      <td>Larry</td>\n",
       "      <td>Male</td>\n",
       "      <td>1998-01-24</td>\n",
       "      <td>101004.0</td>\n",
       "      <td>True</td>\n",
       "      <td>IT</td>\n",
       "    </tr>\n",
       "  </tbody>\n",
       "</table>\n",
       "</div>"
      ],
      "text/plain": [
       "  First Name  Gender Start Date    Salary   Mgmt       Team\n",
       "0    Douglas    Male 1993-08-06       NaN   True  Marketing\n",
       "1     Thomas    Male 1996-03-31   61933.0   True        NaN\n",
       "2      Maria  Female        NaT  130590.0  False    Finance\n",
       "3      Jerry     NaN 2005-03-04  138705.0   True    Finance\n",
       "4      Larry    Male 1998-01-24  101004.0   True         IT"
      ]
     },
     "execution_count": 103,
     "metadata": {},
     "output_type": "execute_result"
    }
   ],
   "source": [
    "# returns all rows with at least 4 non-NA values\n",
    "df_dealna.dropna(thresh=4).head()"
   ]
  }
 ],
 "metadata": {
  "kernelspec": {
   "display_name": "base",
   "language": "python",
   "name": "python3"
  },
  "language_info": {
   "codemirror_mode": {
    "name": "ipython",
    "version": 3
   },
   "file_extension": ".py",
   "mimetype": "text/x-python",
   "name": "python",
   "nbconvert_exporter": "python",
   "pygments_lexer": "ipython3",
   "version": "3.12.2"
  }
 },
 "nbformat": 4,
 "nbformat_minor": 5
}
