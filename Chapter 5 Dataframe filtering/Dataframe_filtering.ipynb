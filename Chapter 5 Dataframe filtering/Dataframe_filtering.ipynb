{
 "cells": [
  {
   "cell_type": "markdown",
   "id": "5ce976bc",
   "metadata": {},
   "source": [
    "### Optimizing A Data Set for Memory Usage"
   ]
  },
  {
   "cell_type": "code",
   "execution_count": 5,
   "id": "9a9d866d",
   "metadata": {},
   "outputs": [],
   "source": [
    "import pandas as pd"
   ]
  },
  {
   "cell_type": "code",
   "execution_count": 6,
   "id": "fe9365cd",
   "metadata": {},
   "outputs": [],
   "source": [
    "employees_data = '/Users/ypushiev/Learning/PANDAS IN ACTION/Chapter 5 Dataframe filtering/Data/employees.csv'"
   ]
  },
  {
   "cell_type": "code",
   "execution_count": 7,
   "id": "e8064dc1",
   "metadata": {},
   "outputs": [
    {
     "data": {
      "application/vnd.microsoft.datawrangler.viewer.v0+json": {
       "columns": [
        {
         "name": "index",
         "rawType": "object",
         "type": "string"
        },
        {
         "name": "0",
         "rawType": "int64",
         "type": "integer"
        }
       ],
       "ref": "17189466-b85d-47f2-a668-1737ad2002c0",
       "rows": [
        [
         "First Name",
         "68"
        ],
        [
         "Gender",
         "147"
        ],
        [
         "Start Date",
         "2"
        ],
        [
         "Salary",
         "2"
        ],
        [
         "Mgmt",
         "68"
        ],
        [
         "Team",
         "44"
        ]
       ],
       "shape": {
        "columns": 1,
        "rows": 6
       }
      },
      "text/plain": [
       "First Name     68\n",
       "Gender        147\n",
       "Start Date      2\n",
       "Salary          2\n",
       "Mgmt           68\n",
       "Team           44\n",
       "dtype: int64"
      ]
     },
     "execution_count": 7,
     "metadata": {},
     "output_type": "execute_result"
    }
   ],
   "source": [
    "pd.read_csv(employees_data).isna().sum()"
   ]
  },
  {
   "cell_type": "code",
   "execution_count": 44,
   "id": "04693b2d",
   "metadata": {},
   "outputs": [
    {
     "name": "stderr",
     "output_type": "stream",
     "text": [
      "/var/folders/pg/x6kyk1l92fj8q4332g1j8rnw0000gp/T/ipykernel_81492/4257891297.py:1: UserWarning: Could not infer format, so each element will be parsed individually, falling back to `dateutil`. To ensure parsing is consistent and as-expected, please specify a format.\n",
      "  df_employees = pd.read_csv(employees_data, parse_dates = ['Start Date'])\n"
     ]
    }
   ],
   "source": [
    "df_employees = pd.read_csv(employees_data, parse_dates = ['Start Date'])"
   ]
  },
  {
   "cell_type": "code",
   "execution_count": 45,
   "id": "78931af4",
   "metadata": {},
   "outputs": [],
   "source": [
    "df_employees['Start Date'] = pd.to_datetime(df_employees['Start Date'], format='%Y-%m-%d')"
   ]
  },
  {
   "cell_type": "code",
   "execution_count": 46,
   "id": "33c301ac",
   "metadata": {},
   "outputs": [
    {
     "name": "stdout",
     "output_type": "stream",
     "text": [
      "<class 'pandas.core.frame.DataFrame'>\n",
      "RangeIndex: 1001 entries, 0 to 1000\n",
      "Data columns (total 6 columns):\n",
      " #   Column      Non-Null Count  Dtype         \n",
      "---  ------      --------------  -----         \n",
      " 0   First Name  933 non-null    object        \n",
      " 1   Gender      854 non-null    object        \n",
      " 2   Start Date  999 non-null    datetime64[ns]\n",
      " 3   Salary      999 non-null    float64       \n",
      " 4   Mgmt        933 non-null    object        \n",
      " 5   Team        957 non-null    object        \n",
      "dtypes: datetime64[ns](1), float64(1), object(4)\n",
      "memory usage: 47.1+ KB\n"
     ]
    }
   ],
   "source": [
    "df_employees.info()"
   ]
  },
  {
   "cell_type": "markdown",
   "id": "fa8babd1",
   "metadata": {},
   "source": [
    "**memory usage: 47.1+ KB**"
   ]
  },
  {
   "cell_type": "code",
   "execution_count": 47,
   "id": "8e90a185",
   "metadata": {},
   "outputs": [
    {
     "data": {
      "application/vnd.microsoft.datawrangler.viewer.v0+json": {
       "columns": [
        {
         "name": "index",
         "rawType": "int64",
         "type": "integer"
        },
        {
         "name": "First Name",
         "rawType": "object",
         "type": "string"
        },
        {
         "name": "Gender",
         "rawType": "object",
         "type": "unknown"
        },
        {
         "name": "Start Date",
         "rawType": "datetime64[ns]",
         "type": "datetime"
        },
        {
         "name": "Salary",
         "rawType": "float64",
         "type": "float"
        },
        {
         "name": "Mgmt",
         "rawType": "object",
         "type": "unknown"
        },
        {
         "name": "Team",
         "rawType": "object",
         "type": "unknown"
        }
       ],
       "ref": "1df5d853-2170-4f24-84bf-c576a5eeaceb",
       "rows": [
        [
         "0",
         "Douglas",
         "Male",
         "1993-08-06 00:00:00",
         null,
         "True",
         "Marketing"
        ],
        [
         "1",
         "Thomas",
         "Male",
         "1996-03-31 00:00:00",
         "61933.0",
         "True",
         null
        ],
        [
         "2",
         "Maria",
         "Female",
         null,
         "130590.0",
         "False",
         "Finance"
        ],
        [
         "3",
         "Jerry",
         null,
         "2005-03-04 00:00:00",
         "138705.0",
         "True",
         "Finance"
        ],
        [
         "4",
         "Larry",
         "Male",
         "1998-01-24 00:00:00",
         "101004.0",
         "True",
         "IT"
        ]
       ],
       "shape": {
        "columns": 6,
        "rows": 5
       }
      },
      "text/html": [
       "<div>\n",
       "<style scoped>\n",
       "    .dataframe tbody tr th:only-of-type {\n",
       "        vertical-align: middle;\n",
       "    }\n",
       "\n",
       "    .dataframe tbody tr th {\n",
       "        vertical-align: top;\n",
       "    }\n",
       "\n",
       "    .dataframe thead th {\n",
       "        text-align: right;\n",
       "    }\n",
       "</style>\n",
       "<table border=\"1\" class=\"dataframe\">\n",
       "  <thead>\n",
       "    <tr style=\"text-align: right;\">\n",
       "      <th></th>\n",
       "      <th>First Name</th>\n",
       "      <th>Gender</th>\n",
       "      <th>Start Date</th>\n",
       "      <th>Salary</th>\n",
       "      <th>Mgmt</th>\n",
       "      <th>Team</th>\n",
       "    </tr>\n",
       "  </thead>\n",
       "  <tbody>\n",
       "    <tr>\n",
       "      <th>0</th>\n",
       "      <td>Douglas</td>\n",
       "      <td>Male</td>\n",
       "      <td>1993-08-06</td>\n",
       "      <td>NaN</td>\n",
       "      <td>True</td>\n",
       "      <td>Marketing</td>\n",
       "    </tr>\n",
       "    <tr>\n",
       "      <th>1</th>\n",
       "      <td>Thomas</td>\n",
       "      <td>Male</td>\n",
       "      <td>1996-03-31</td>\n",
       "      <td>61933.0</td>\n",
       "      <td>True</td>\n",
       "      <td>NaN</td>\n",
       "    </tr>\n",
       "    <tr>\n",
       "      <th>2</th>\n",
       "      <td>Maria</td>\n",
       "      <td>Female</td>\n",
       "      <td>NaT</td>\n",
       "      <td>130590.0</td>\n",
       "      <td>False</td>\n",
       "      <td>Finance</td>\n",
       "    </tr>\n",
       "    <tr>\n",
       "      <th>3</th>\n",
       "      <td>Jerry</td>\n",
       "      <td>NaN</td>\n",
       "      <td>2005-03-04</td>\n",
       "      <td>138705.0</td>\n",
       "      <td>True</td>\n",
       "      <td>Finance</td>\n",
       "    </tr>\n",
       "    <tr>\n",
       "      <th>4</th>\n",
       "      <td>Larry</td>\n",
       "      <td>Male</td>\n",
       "      <td>1998-01-24</td>\n",
       "      <td>101004.0</td>\n",
       "      <td>True</td>\n",
       "      <td>IT</td>\n",
       "    </tr>\n",
       "  </tbody>\n",
       "</table>\n",
       "</div>"
      ],
      "text/plain": [
       "  First Name  Gender Start Date    Salary   Mgmt       Team\n",
       "0    Douglas    Male 1993-08-06       NaN   True  Marketing\n",
       "1     Thomas    Male 1996-03-31   61933.0   True        NaN\n",
       "2      Maria  Female        NaT  130590.0  False    Finance\n",
       "3      Jerry     NaN 2005-03-04  138705.0   True    Finance\n",
       "4      Larry    Male 1998-01-24  101004.0   True         IT"
      ]
     },
     "execution_count": 47,
     "metadata": {},
     "output_type": "execute_result"
    }
   ],
   "source": [
    "df_employees.head()"
   ]
  },
  {
   "cell_type": "markdown",
   "id": "8dd71cde",
   "metadata": {},
   "source": [
    "**Convert datetime into the object to cut the time from the data**"
   ]
  },
  {
   "cell_type": "code",
   "execution_count": 48,
   "id": "2d984e5e",
   "metadata": {},
   "outputs": [],
   "source": [
    "df_employees['Start Date'] = df_employees['Start Date'].dt.strftime('%Y-%m-%d')"
   ]
  },
  {
   "cell_type": "code",
   "execution_count": 49,
   "id": "c32e73f7",
   "metadata": {},
   "outputs": [
    {
     "name": "stdout",
     "output_type": "stream",
     "text": [
      "<class 'pandas.core.frame.DataFrame'>\n",
      "RangeIndex: 1001 entries, 0 to 1000\n",
      "Data columns (total 6 columns):\n",
      " #   Column      Non-Null Count  Dtype  \n",
      "---  ------      --------------  -----  \n",
      " 0   First Name  933 non-null    object \n",
      " 1   Gender      854 non-null    object \n",
      " 2   Start Date  999 non-null    object \n",
      " 3   Salary      999 non-null    float64\n",
      " 4   Mgmt        933 non-null    object \n",
      " 5   Team        957 non-null    object \n",
      "dtypes: float64(1), object(5)\n",
      "memory usage: 47.1+ KB\n"
     ]
    }
   ],
   "source": [
    "df_employees.info()"
   ]
  },
  {
   "cell_type": "markdown",
   "id": "877c8e67",
   "metadata": {},
   "source": [
    "**memory usage: 47.1+ KB**"
   ]
  },
  {
   "cell_type": "markdown",
   "id": "7c670910",
   "metadata": {},
   "source": [
    "### Converting Data Types with the astype Method"
   ]
  },
  {
   "cell_type": "code",
   "execution_count": 50,
   "id": "8ba5d9f1",
   "metadata": {},
   "outputs": [
    {
     "data": {
      "application/vnd.microsoft.datawrangler.viewer.v0+json": {
       "columns": [
        {
         "name": "index",
         "rawType": "int64",
         "type": "integer"
        },
        {
         "name": "Mgmt",
         "rawType": "bool",
         "type": "boolean"
        }
       ],
       "ref": "c446d516-d17a-4d57-8de7-d4a3516bbf23",
       "rows": [
        [
         "996",
         "False"
        ],
        [
         "997",
         "False"
        ],
        [
         "998",
         "False"
        ],
        [
         "999",
         "True"
        ],
        [
         "1000",
         "True"
        ]
       ],
       "shape": {
        "columns": 1,
        "rows": 5
       }
      },
      "text/plain": [
       "996     False\n",
       "997     False\n",
       "998     False\n",
       "999      True\n",
       "1000     True\n",
       "Name: Mgmt, dtype: bool"
      ]
     },
     "execution_count": 50,
     "metadata": {},
     "output_type": "execute_result"
    }
   ],
   "source": [
    "df_employees['Mgmt'].astype('bool').tail()"
   ]
  },
  {
   "cell_type": "markdown",
   "id": "4b5eb0ac",
   "metadata": {},
   "source": [
    "**Convert object type into the bool type and see results in the size**"
   ]
  },
  {
   "cell_type": "code",
   "execution_count": 51,
   "id": "2818513b",
   "metadata": {},
   "outputs": [],
   "source": [
    "df_employees['Mgmt'] = df_employees['Mgmt'].astype('bool')"
   ]
  },
  {
   "cell_type": "code",
   "execution_count": 52,
   "id": "84e7e519",
   "metadata": {},
   "outputs": [
    {
     "name": "stdout",
     "output_type": "stream",
     "text": [
      "<class 'pandas.core.frame.DataFrame'>\n",
      "RangeIndex: 1001 entries, 0 to 1000\n",
      "Data columns (total 6 columns):\n",
      " #   Column      Non-Null Count  Dtype  \n",
      "---  ------      --------------  -----  \n",
      " 0   First Name  933 non-null    object \n",
      " 1   Gender      854 non-null    object \n",
      " 2   Start Date  999 non-null    object \n",
      " 3   Salary      999 non-null    float64\n",
      " 4   Mgmt        1001 non-null   bool   \n",
      " 5   Team        957 non-null    object \n",
      "dtypes: bool(1), float64(1), object(4)\n",
      "memory usage: 40.2+ KB\n"
     ]
    }
   ],
   "source": [
    "df_employees.info()"
   ]
  },
  {
   "cell_type": "markdown",
   "id": "851b89c9",
   "metadata": {},
   "source": [
    "**memory usage: 40.2+ KB**"
   ]
  },
  {
   "cell_type": "markdown",
   "id": "2df438ab",
   "metadata": {},
   "source": [
    "### Convert into the integer type"
   ]
  },
  {
   "cell_type": "markdown",
   "id": "5d6b45a7",
   "metadata": {},
   "source": [
    "**The Salary column contains NaN values**"
   ]
  },
  {
   "cell_type": "code",
   "execution_count": 53,
   "id": "8719f531",
   "metadata": {},
   "outputs": [
    {
     "data": {
      "text/plain": [
       "2"
      ]
     },
     "execution_count": 53,
     "metadata": {},
     "output_type": "execute_result"
    }
   ],
   "source": [
    "df_employees['Salary'].isna().sum()"
   ]
  },
  {
   "cell_type": "markdown",
   "id": "3d161a13",
   "metadata": {},
   "source": [
    "**Replace NaN values by 0**"
   ]
  },
  {
   "cell_type": "code",
   "execution_count": 54,
   "id": "b6d9996c",
   "metadata": {},
   "outputs": [],
   "source": [
    "df_employees['Salary']= df_employees['Salary'].fillna(0)"
   ]
  },
  {
   "cell_type": "code",
   "execution_count": 56,
   "id": "9850051a",
   "metadata": {},
   "outputs": [],
   "source": [
    "df_employees['Salary']=df_employees['Salary'].astype('int')"
   ]
  },
  {
   "cell_type": "code",
   "execution_count": 57,
   "id": "9f18a480",
   "metadata": {},
   "outputs": [
    {
     "data": {
      "application/vnd.microsoft.datawrangler.viewer.v0+json": {
       "columns": [
        {
         "name": "index",
         "rawType": "int64",
         "type": "integer"
        },
        {
         "name": "Salary",
         "rawType": "int64",
         "type": "integer"
        }
       ],
       "ref": "fe6ebcf4-06e2-4349-9bf4-2e5c0dabd1b0",
       "rows": [
        [
         "0",
         "0"
        ],
        [
         "1",
         "61933"
        ],
        [
         "2",
         "130590"
        ],
        [
         "3",
         "138705"
        ],
        [
         "4",
         "101004"
        ]
       ],
       "shape": {
        "columns": 1,
        "rows": 5
       }
      },
      "text/plain": [
       "0         0\n",
       "1     61933\n",
       "2    130590\n",
       "3    138705\n",
       "4    101004\n",
       "Name: Salary, dtype: int64"
      ]
     },
     "execution_count": 57,
     "metadata": {},
     "output_type": "execute_result"
    }
   ],
   "source": [
    "df_employees['Salary'].head()"
   ]
  },
  {
   "cell_type": "code",
   "execution_count": 37,
   "id": "ff81cef5",
   "metadata": {},
   "outputs": [
    {
     "name": "stdout",
     "output_type": "stream",
     "text": [
      "<class 'pandas.core.frame.DataFrame'>\n",
      "RangeIndex: 1001 entries, 0 to 1000\n",
      "Data columns (total 6 columns):\n",
      " #   Column      Non-Null Count  Dtype \n",
      "---  ------      --------------  ----- \n",
      " 0   First Name  933 non-null    object\n",
      " 1   Gender      854 non-null    object\n",
      " 2   Start Date  999 non-null    object\n",
      " 3   Salary      1001 non-null   int64 \n",
      " 4   Mgmt        1001 non-null   bool  \n",
      " 5   Team        957 non-null    object\n",
      "dtypes: bool(1), int64(1), object(4)\n",
      "memory usage: 40.2+ KB\n"
     ]
    }
   ],
   "source": [
    "df_employees.info()"
   ]
  },
  {
   "cell_type": "markdown",
   "id": "0622ec25",
   "metadata": {},
   "source": [
    "**The memory might be reduced more using INT32**"
   ]
  },
  {
   "cell_type": "markdown",
   "id": "63803698",
   "metadata": {},
   "source": [
    "**Check max value**"
   ]
  },
  {
   "cell_type": "code",
   "execution_count": 65,
   "id": "c3e09ebd",
   "metadata": {},
   "outputs": [
    {
     "data": {
      "text/plain": [
       "149908"
      ]
     },
     "execution_count": 65,
     "metadata": {},
     "output_type": "execute_result"
    }
   ],
   "source": [
    "df_employees['Salary'].max()"
   ]
  },
  {
   "cell_type": "code",
   "execution_count": 59,
   "id": "e60a6eaa",
   "metadata": {},
   "outputs": [],
   "source": [
    "df_employees['Salary']=df_employees['Salary'].astype('int32')"
   ]
  },
  {
   "cell_type": "code",
   "execution_count": 60,
   "id": "6a5aae2c",
   "metadata": {},
   "outputs": [
    {
     "name": "stdout",
     "output_type": "stream",
     "text": [
      "<class 'pandas.core.frame.DataFrame'>\n",
      "RangeIndex: 1001 entries, 0 to 1000\n",
      "Data columns (total 6 columns):\n",
      " #   Column      Non-Null Count  Dtype \n",
      "---  ------      --------------  ----- \n",
      " 0   First Name  933 non-null    object\n",
      " 1   Gender      854 non-null    object\n",
      " 2   Start Date  999 non-null    object\n",
      " 3   Salary      1001 non-null   int32 \n",
      " 4   Mgmt        1001 non-null   bool  \n",
      " 5   Team        957 non-null    object\n",
      "dtypes: bool(1), int32(1), object(4)\n",
      "memory usage: 36.3+ KB\n"
     ]
    }
   ],
   "source": [
    "df_employees.info()"
   ]
  },
  {
   "cell_type": "code",
   "execution_count": 66,
   "id": "e7207039",
   "metadata": {},
   "outputs": [
    {
     "data": {
      "text/plain": [
       "149908"
      ]
     },
     "execution_count": 66,
     "metadata": {},
     "output_type": "execute_result"
    }
   ],
   "source": [
    "df_employees['Salary'].max()"
   ]
  },
  {
   "cell_type": "code",
   "execution_count": 61,
   "id": "dc192180",
   "metadata": {},
   "outputs": [
    {
     "data": {
      "application/vnd.microsoft.datawrangler.viewer.v0+json": {
       "columns": [
        {
         "name": "index",
         "rawType": "int64",
         "type": "integer"
        },
        {
         "name": "Salary",
         "rawType": "int32",
         "type": "integer"
        }
       ],
       "ref": "eafde434-d930-443a-ac6e-2512c45833b7",
       "rows": [
        [
         "0",
         "0"
        ],
        [
         "1",
         "61933"
        ],
        [
         "2",
         "130590"
        ],
        [
         "3",
         "138705"
        ],
        [
         "4",
         "101004"
        ]
       ],
       "shape": {
        "columns": 1,
        "rows": 5
       }
      },
      "text/plain": [
       "0         0\n",
       "1     61933\n",
       "2    130590\n",
       "3    138705\n",
       "4    101004\n",
       "Name: Salary, dtype: int32"
      ]
     },
     "execution_count": 61,
     "metadata": {},
     "output_type": "execute_result"
    }
   ],
   "source": [
    "df_employees['Salary'].head()"
   ]
  },
  {
   "cell_type": "markdown",
   "id": "2fc1f636",
   "metadata": {},
   "source": [
    "**memory usage: 36.3+ KB**"
   ]
  },
  {
   "cell_type": "markdown",
   "id": "3721fd02",
   "metadata": {},
   "source": [
    "### Convert into categorical type"
   ]
  },
  {
   "cell_type": "markdown",
   "id": "1d8dd908",
   "metadata": {},
   "source": [
    "**Check unique values in the Dataframe** "
   ]
  },
  {
   "cell_type": "code",
   "execution_count": 67,
   "id": "ccfb1205",
   "metadata": {},
   "outputs": [
    {
     "data": {
      "application/vnd.microsoft.datawrangler.viewer.v0+json": {
       "columns": [
        {
         "name": "index",
         "rawType": "object",
         "type": "string"
        },
        {
         "name": "0",
         "rawType": "int64",
         "type": "integer"
        }
       ],
       "ref": "0c209507-d1fe-438b-8967-3f6ad9e1c95b",
       "rows": [
        [
         "First Name",
         "200"
        ],
        [
         "Gender",
         "2"
        ],
        [
         "Start Date",
         "971"
        ],
        [
         "Salary",
         "995"
        ],
        [
         "Mgmt",
         "2"
        ],
        [
         "Team",
         "10"
        ]
       ],
       "shape": {
        "columns": 1,
        "rows": 6
       }
      },
      "text/plain": [
       "First Name    200\n",
       "Gender          2\n",
       "Start Date    971\n",
       "Salary        995\n",
       "Mgmt            2\n",
       "Team           10\n",
       "dtype: int64"
      ]
     },
     "execution_count": 67,
     "metadata": {},
     "output_type": "execute_result"
    }
   ],
   "source": [
    "df_employees.nunique()"
   ]
  },
  {
   "cell_type": "markdown",
   "id": "1145146d",
   "metadata": {},
   "source": [
    "**The Gender column contains only 2 unique values** "
   ]
  },
  {
   "cell_type": "code",
   "execution_count": 69,
   "id": "3fc99d4c",
   "metadata": {},
   "outputs": [
    {
     "data": {
      "application/vnd.microsoft.datawrangler.viewer.v0+json": {
       "columns": [
        {
         "name": "index",
         "rawType": "int64",
         "type": "integer"
        },
        {
         "name": "Gender",
         "rawType": "category",
         "type": "unknown"
        }
       ],
       "ref": "727db6f3-a4e4-4fa4-943b-9e4d4d8b90c8",
       "rows": [
        [
         "0",
         "Male"
        ],
        [
         "1",
         "Male"
        ],
        [
         "2",
         "Female"
        ],
        [
         "3",
         null
        ],
        [
         "4",
         "Male"
        ]
       ],
       "shape": {
        "columns": 1,
        "rows": 5
       }
      },
      "text/plain": [
       "0      Male\n",
       "1      Male\n",
       "2    Female\n",
       "3       NaN\n",
       "4      Male\n",
       "Name: Gender, dtype: category\n",
       "Categories (2, object): ['Female', 'Male']"
      ]
     },
     "execution_count": 69,
     "metadata": {},
     "output_type": "execute_result"
    }
   ],
   "source": [
    "df_employees['Gender'].astype('category').head()"
   ]
  },
  {
   "cell_type": "code",
   "execution_count": 70,
   "id": "ddbc0f81",
   "metadata": {},
   "outputs": [],
   "source": [
    "df_employees['Gender'] = df_employees['Gender'].astype('category')"
   ]
  },
  {
   "cell_type": "markdown",
   "id": "2c6cffab",
   "metadata": {},
   "source": [
    "**Convert Team column type**"
   ]
  },
  {
   "cell_type": "code",
   "execution_count": 73,
   "id": "dbb68d96",
   "metadata": {},
   "outputs": [],
   "source": [
    "df_employees['Team'] = df_employees['Team'].astype('category')"
   ]
  },
  {
   "cell_type": "code",
   "execution_count": 74,
   "id": "fe273c10",
   "metadata": {},
   "outputs": [
    {
     "name": "stdout",
     "output_type": "stream",
     "text": [
      "<class 'pandas.core.frame.DataFrame'>\n",
      "RangeIndex: 1001 entries, 0 to 1000\n",
      "Data columns (total 6 columns):\n",
      " #   Column      Non-Null Count  Dtype   \n",
      "---  ------      --------------  -----   \n",
      " 0   First Name  933 non-null    object  \n",
      " 1   Gender      854 non-null    category\n",
      " 2   Start Date  999 non-null    object  \n",
      " 3   Salary      1001 non-null   int32   \n",
      " 4   Mgmt        1001 non-null   bool    \n",
      " 5   Team        957 non-null    category\n",
      "dtypes: bool(1), category(2), int32(1), object(2)\n",
      "memory usage: 23.1+ KB\n"
     ]
    }
   ],
   "source": [
    "df_employees.info()"
   ]
  },
  {
   "cell_type": "markdown",
   "id": "acf78053",
   "metadata": {},
   "source": [
    "**memory usage: 23.1+ KB**"
   ]
  },
  {
   "cell_type": "markdown",
   "id": "57a9cb8d",
   "metadata": {},
   "source": [
    "**The Dataframe size has been decreased from 47.1+ KB to 23.1+ KB approximately 50%**"
   ]
  },
  {
   "cell_type": "markdown",
   "id": "978a3ce4",
   "metadata": {},
   "source": [
    "### Filtering by a Single Condition"
   ]
  },
  {
   "cell_type": "code",
   "execution_count": 83,
   "id": "de40d133",
   "metadata": {},
   "outputs": [
    {
     "data": {
      "text/plain": [
       "True"
      ]
     },
     "execution_count": 83,
     "metadata": {},
     "output_type": "execute_result"
    }
   ],
   "source": [
    "\"Maria\" == \"Maria\""
   ]
  },
  {
   "cell_type": "code",
   "execution_count": 84,
   "id": "e00a7289",
   "metadata": {},
   "outputs": [
    {
     "data": {
      "text/plain": [
       "False"
      ]
     },
     "execution_count": 84,
     "metadata": {},
     "output_type": "execute_result"
    }
   ],
   "source": [
    "\"Maria\" == \"Taylor\""
   ]
  },
  {
   "cell_type": "markdown",
   "id": "486f0ab4",
   "metadata": {},
   "source": [
    "**Check the column First Name**"
   ]
  },
  {
   "cell_type": "code",
   "execution_count": 85,
   "id": "31bcc72c",
   "metadata": {},
   "outputs": [
    {
     "data": {
      "application/vnd.microsoft.datawrangler.viewer.v0+json": {
       "columns": [
        {
         "name": "index",
         "rawType": "int64",
         "type": "integer"
        },
        {
         "name": "First Name",
         "rawType": "bool",
         "type": "boolean"
        }
       ],
       "ref": "6895d002-8f7a-4f81-aee9-798687565208",
       "rows": [
        [
         "0",
         "False"
        ],
        [
         "1",
         "False"
        ],
        [
         "2",
         "True"
        ],
        [
         "3",
         "False"
        ],
        [
         "4",
         "False"
        ],
        [
         "5",
         "False"
        ],
        [
         "6",
         "False"
        ],
        [
         "7",
         "False"
        ],
        [
         "8",
         "False"
        ],
        [
         "9",
         "False"
        ],
        [
         "10",
         "False"
        ],
        [
         "11",
         "False"
        ],
        [
         "12",
         "False"
        ],
        [
         "13",
         "False"
        ],
        [
         "14",
         "False"
        ],
        [
         "15",
         "False"
        ],
        [
         "16",
         "False"
        ],
        [
         "17",
         "False"
        ],
        [
         "18",
         "False"
        ],
        [
         "19",
         "False"
        ],
        [
         "20",
         "False"
        ],
        [
         "21",
         "False"
        ],
        [
         "22",
         "False"
        ],
        [
         "23",
         "False"
        ],
        [
         "24",
         "False"
        ],
        [
         "25",
         "False"
        ],
        [
         "26",
         "False"
        ],
        [
         "27",
         "False"
        ],
        [
         "28",
         "False"
        ],
        [
         "29",
         "False"
        ],
        [
         "30",
         "False"
        ],
        [
         "31",
         "False"
        ],
        [
         "32",
         "False"
        ],
        [
         "33",
         "False"
        ],
        [
         "34",
         "False"
        ],
        [
         "35",
         "False"
        ],
        [
         "36",
         "False"
        ],
        [
         "37",
         "False"
        ],
        [
         "38",
         "False"
        ],
        [
         "39",
         "False"
        ],
        [
         "40",
         "False"
        ],
        [
         "41",
         "False"
        ],
        [
         "42",
         "False"
        ],
        [
         "43",
         "False"
        ],
        [
         "44",
         "False"
        ],
        [
         "45",
         "False"
        ],
        [
         "46",
         "False"
        ],
        [
         "47",
         "False"
        ],
        [
         "48",
         "False"
        ],
        [
         "49",
         "False"
        ]
       ],
       "shape": {
        "columns": 1,
        "rows": 1001
       }
      },
      "text/plain": [
       "0       False\n",
       "1       False\n",
       "2        True\n",
       "3       False\n",
       "4       False\n",
       "        ...  \n",
       "996     False\n",
       "997     False\n",
       "998     False\n",
       "999     False\n",
       "1000    False\n",
       "Name: First Name, Length: 1001, dtype: bool"
      ]
     },
     "execution_count": 85,
     "metadata": {},
     "output_type": "execute_result"
    }
   ],
   "source": [
    "df_employees[\"First Name\"] == \"Maria\""
   ]
  },
  {
   "cell_type": "markdown",
   "id": "6a599f4c",
   "metadata": {},
   "source": [
    "**Select rows where \"First Name\" == \"Maria\"**"
   ]
  },
  {
   "cell_type": "code",
   "execution_count": 86,
   "id": "4708d2f6",
   "metadata": {},
   "outputs": [
    {
     "data": {
      "application/vnd.microsoft.datawrangler.viewer.v0+json": {
       "columns": [
        {
         "name": "index",
         "rawType": "int64",
         "type": "integer"
        },
        {
         "name": "First Name",
         "rawType": "object",
         "type": "string"
        },
        {
         "name": "Gender",
         "rawType": "category",
         "type": "unknown"
        },
        {
         "name": "Start Date",
         "rawType": "object",
         "type": "unknown"
        },
        {
         "name": "Salary",
         "rawType": "int32",
         "type": "integer"
        },
        {
         "name": "Mgmt",
         "rawType": "bool",
         "type": "boolean"
        },
        {
         "name": "Team",
         "rawType": "category",
         "type": "unknown"
        }
       ],
       "ref": "20133d6c-7662-4ecf-9a67-ba1b29212fda",
       "rows": [
        [
         "2",
         "Maria",
         "Female",
         null,
         "130590",
         "False",
         "Finance"
        ],
        [
         "198",
         "Maria",
         "Female",
         "1990-12-27",
         "36067",
         "True",
         "Product"
        ],
        [
         "815",
         "Maria",
         null,
         "1986-01-18",
         "106562",
         "False",
         "HR"
        ],
        [
         "844",
         "Maria",
         null,
         "1985-06-19",
         "148857",
         "False",
         "Legal"
        ],
        [
         "936",
         "Maria",
         "Female",
         "2003-03-14",
         "96250",
         "False",
         "Business Dev"
        ],
        [
         "984",
         "Maria",
         "Female",
         "2011-10-15",
         "43455",
         "False",
         "Engineering"
        ]
       ],
       "shape": {
        "columns": 6,
        "rows": 6
       }
      },
      "text/html": [
       "<div>\n",
       "<style scoped>\n",
       "    .dataframe tbody tr th:only-of-type {\n",
       "        vertical-align: middle;\n",
       "    }\n",
       "\n",
       "    .dataframe tbody tr th {\n",
       "        vertical-align: top;\n",
       "    }\n",
       "\n",
       "    .dataframe thead th {\n",
       "        text-align: right;\n",
       "    }\n",
       "</style>\n",
       "<table border=\"1\" class=\"dataframe\">\n",
       "  <thead>\n",
       "    <tr style=\"text-align: right;\">\n",
       "      <th></th>\n",
       "      <th>First Name</th>\n",
       "      <th>Gender</th>\n",
       "      <th>Start Date</th>\n",
       "      <th>Salary</th>\n",
       "      <th>Mgmt</th>\n",
       "      <th>Team</th>\n",
       "    </tr>\n",
       "  </thead>\n",
       "  <tbody>\n",
       "    <tr>\n",
       "      <th>2</th>\n",
       "      <td>Maria</td>\n",
       "      <td>Female</td>\n",
       "      <td>NaN</td>\n",
       "      <td>130590</td>\n",
       "      <td>False</td>\n",
       "      <td>Finance</td>\n",
       "    </tr>\n",
       "    <tr>\n",
       "      <th>198</th>\n",
       "      <td>Maria</td>\n",
       "      <td>Female</td>\n",
       "      <td>1990-12-27</td>\n",
       "      <td>36067</td>\n",
       "      <td>True</td>\n",
       "      <td>Product</td>\n",
       "    </tr>\n",
       "    <tr>\n",
       "      <th>815</th>\n",
       "      <td>Maria</td>\n",
       "      <td>NaN</td>\n",
       "      <td>1986-01-18</td>\n",
       "      <td>106562</td>\n",
       "      <td>False</td>\n",
       "      <td>HR</td>\n",
       "    </tr>\n",
       "    <tr>\n",
       "      <th>844</th>\n",
       "      <td>Maria</td>\n",
       "      <td>NaN</td>\n",
       "      <td>1985-06-19</td>\n",
       "      <td>148857</td>\n",
       "      <td>False</td>\n",
       "      <td>Legal</td>\n",
       "    </tr>\n",
       "    <tr>\n",
       "      <th>936</th>\n",
       "      <td>Maria</td>\n",
       "      <td>Female</td>\n",
       "      <td>2003-03-14</td>\n",
       "      <td>96250</td>\n",
       "      <td>False</td>\n",
       "      <td>Business Dev</td>\n",
       "    </tr>\n",
       "    <tr>\n",
       "      <th>984</th>\n",
       "      <td>Maria</td>\n",
       "      <td>Female</td>\n",
       "      <td>2011-10-15</td>\n",
       "      <td>43455</td>\n",
       "      <td>False</td>\n",
       "      <td>Engineering</td>\n",
       "    </tr>\n",
       "  </tbody>\n",
       "</table>\n",
       "</div>"
      ],
      "text/plain": [
       "    First Name  Gender  Start Date  Salary   Mgmt          Team\n",
       "2        Maria  Female         NaN  130590  False       Finance\n",
       "198      Maria  Female  1990-12-27   36067   True       Product\n",
       "815      Maria     NaN  1986-01-18  106562  False            HR\n",
       "844      Maria     NaN  1985-06-19  148857  False         Legal\n",
       "936      Maria  Female  2003-03-14   96250  False  Business Dev\n",
       "984      Maria  Female  2011-10-15   43455  False   Engineering"
      ]
     },
     "execution_count": 86,
     "metadata": {},
     "output_type": "execute_result"
    }
   ],
   "source": [
    "df_employees[df_employees[\"First Name\"] == \"Maria\"]"
   ]
  },
  {
   "cell_type": "markdown",
   "id": "098406fd",
   "metadata": {},
   "source": [
    "**Create a filter for Dataframe**"
   ]
  },
  {
   "cell_type": "code",
   "execution_count": 87,
   "id": "259cfebc",
   "metadata": {},
   "outputs": [
    {
     "data": {
      "application/vnd.microsoft.datawrangler.viewer.v0+json": {
       "columns": [
        {
         "name": "index",
         "rawType": "int64",
         "type": "integer"
        },
        {
         "name": "First Name",
         "rawType": "object",
         "type": "string"
        },
        {
         "name": "Gender",
         "rawType": "category",
         "type": "unknown"
        },
        {
         "name": "Start Date",
         "rawType": "object",
         "type": "unknown"
        },
        {
         "name": "Salary",
         "rawType": "int32",
         "type": "integer"
        },
        {
         "name": "Mgmt",
         "rawType": "bool",
         "type": "boolean"
        },
        {
         "name": "Team",
         "rawType": "category",
         "type": "unknown"
        }
       ],
       "ref": "750f7804-20ec-45b6-933b-e9b802a4fb25",
       "rows": [
        [
         "2",
         "Maria",
         "Female",
         null,
         "130590",
         "False",
         "Finance"
        ],
        [
         "198",
         "Maria",
         "Female",
         "1990-12-27",
         "36067",
         "True",
         "Product"
        ],
        [
         "815",
         "Maria",
         null,
         "1986-01-18",
         "106562",
         "False",
         "HR"
        ],
        [
         "844",
         "Maria",
         null,
         "1985-06-19",
         "148857",
         "False",
         "Legal"
        ],
        [
         "936",
         "Maria",
         "Female",
         "2003-03-14",
         "96250",
         "False",
         "Business Dev"
        ],
        [
         "984",
         "Maria",
         "Female",
         "2011-10-15",
         "43455",
         "False",
         "Engineering"
        ]
       ],
       "shape": {
        "columns": 6,
        "rows": 6
       }
      },
      "text/html": [
       "<div>\n",
       "<style scoped>\n",
       "    .dataframe tbody tr th:only-of-type {\n",
       "        vertical-align: middle;\n",
       "    }\n",
       "\n",
       "    .dataframe tbody tr th {\n",
       "        vertical-align: top;\n",
       "    }\n",
       "\n",
       "    .dataframe thead th {\n",
       "        text-align: right;\n",
       "    }\n",
       "</style>\n",
       "<table border=\"1\" class=\"dataframe\">\n",
       "  <thead>\n",
       "    <tr style=\"text-align: right;\">\n",
       "      <th></th>\n",
       "      <th>First Name</th>\n",
       "      <th>Gender</th>\n",
       "      <th>Start Date</th>\n",
       "      <th>Salary</th>\n",
       "      <th>Mgmt</th>\n",
       "      <th>Team</th>\n",
       "    </tr>\n",
       "  </thead>\n",
       "  <tbody>\n",
       "    <tr>\n",
       "      <th>2</th>\n",
       "      <td>Maria</td>\n",
       "      <td>Female</td>\n",
       "      <td>NaN</td>\n",
       "      <td>130590</td>\n",
       "      <td>False</td>\n",
       "      <td>Finance</td>\n",
       "    </tr>\n",
       "    <tr>\n",
       "      <th>198</th>\n",
       "      <td>Maria</td>\n",
       "      <td>Female</td>\n",
       "      <td>1990-12-27</td>\n",
       "      <td>36067</td>\n",
       "      <td>True</td>\n",
       "      <td>Product</td>\n",
       "    </tr>\n",
       "    <tr>\n",
       "      <th>815</th>\n",
       "      <td>Maria</td>\n",
       "      <td>NaN</td>\n",
       "      <td>1986-01-18</td>\n",
       "      <td>106562</td>\n",
       "      <td>False</td>\n",
       "      <td>HR</td>\n",
       "    </tr>\n",
       "    <tr>\n",
       "      <th>844</th>\n",
       "      <td>Maria</td>\n",
       "      <td>NaN</td>\n",
       "      <td>1985-06-19</td>\n",
       "      <td>148857</td>\n",
       "      <td>False</td>\n",
       "      <td>Legal</td>\n",
       "    </tr>\n",
       "    <tr>\n",
       "      <th>936</th>\n",
       "      <td>Maria</td>\n",
       "      <td>Female</td>\n",
       "      <td>2003-03-14</td>\n",
       "      <td>96250</td>\n",
       "      <td>False</td>\n",
       "      <td>Business Dev</td>\n",
       "    </tr>\n",
       "    <tr>\n",
       "      <th>984</th>\n",
       "      <td>Maria</td>\n",
       "      <td>Female</td>\n",
       "      <td>2011-10-15</td>\n",
       "      <td>43455</td>\n",
       "      <td>False</td>\n",
       "      <td>Engineering</td>\n",
       "    </tr>\n",
       "  </tbody>\n",
       "</table>\n",
       "</div>"
      ],
      "text/plain": [
       "    First Name  Gender  Start Date  Salary   Mgmt          Team\n",
       "2        Maria  Female         NaN  130590  False       Finance\n",
       "198      Maria  Female  1990-12-27   36067   True       Product\n",
       "815      Maria     NaN  1986-01-18  106562  False            HR\n",
       "844      Maria     NaN  1985-06-19  148857  False         Legal\n",
       "936      Maria  Female  2003-03-14   96250  False  Business Dev\n",
       "984      Maria  Female  2011-10-15   43455  False   Engineering"
      ]
     },
     "execution_count": 87,
     "metadata": {},
     "output_type": "execute_result"
    }
   ],
   "source": [
    "marias = df_employees[\"First Name\"] == \"Maria\"\n",
    "df_employees[marias]"
   ]
  },
  {
   "cell_type": "markdown",
   "id": "2544207a",
   "metadata": {},
   "source": [
    "**Create a filter and find Top 5 Salary > 100000**"
   ]
  },
  {
   "cell_type": "code",
   "execution_count": 88,
   "id": "56f104b6",
   "metadata": {},
   "outputs": [
    {
     "data": {
      "application/vnd.microsoft.datawrangler.viewer.v0+json": {
       "columns": [
        {
         "name": "index",
         "rawType": "int64",
         "type": "integer"
        },
        {
         "name": "First Name",
         "rawType": "object",
         "type": "unknown"
        },
        {
         "name": "Gender",
         "rawType": "category",
         "type": "unknown"
        },
        {
         "name": "Start Date",
         "rawType": "object",
         "type": "string"
        },
        {
         "name": "Salary",
         "rawType": "int32",
         "type": "integer"
        },
        {
         "name": "Mgmt",
         "rawType": "bool",
         "type": "boolean"
        },
        {
         "name": "Team",
         "rawType": "category",
         "type": "unknown"
        }
       ],
       "ref": "1a86d977-afc6-4819-99e1-a587248eb25b",
       "rows": [
        [
         "644",
         "Katherine",
         "Female",
         "1996-08-13",
         "149908",
         "False",
         "Finance"
        ],
        [
         "429",
         "Rose",
         "Female",
         "2015-05-28",
         "149903",
         "False",
         "HR"
        ],
        [
         "828",
         "Cynthia",
         "Female",
         "2006-07-12",
         "149684",
         "False",
         "Product"
        ],
        [
         "186",
         null,
         "Female",
         "2005-02-23",
         "149654",
         "True",
         "Sales"
        ],
        [
         "160",
         "Kathy",
         "Female",
         "2000-03-18",
         "149563",
         "True",
         "Finance"
        ]
       ],
       "shape": {
        "columns": 6,
        "rows": 5
       }
      },
      "text/html": [
       "<div>\n",
       "<style scoped>\n",
       "    .dataframe tbody tr th:only-of-type {\n",
       "        vertical-align: middle;\n",
       "    }\n",
       "\n",
       "    .dataframe tbody tr th {\n",
       "        vertical-align: top;\n",
       "    }\n",
       "\n",
       "    .dataframe thead th {\n",
       "        text-align: right;\n",
       "    }\n",
       "</style>\n",
       "<table border=\"1\" class=\"dataframe\">\n",
       "  <thead>\n",
       "    <tr style=\"text-align: right;\">\n",
       "      <th></th>\n",
       "      <th>First Name</th>\n",
       "      <th>Gender</th>\n",
       "      <th>Start Date</th>\n",
       "      <th>Salary</th>\n",
       "      <th>Mgmt</th>\n",
       "      <th>Team</th>\n",
       "    </tr>\n",
       "  </thead>\n",
       "  <tbody>\n",
       "    <tr>\n",
       "      <th>644</th>\n",
       "      <td>Katherine</td>\n",
       "      <td>Female</td>\n",
       "      <td>1996-08-13</td>\n",
       "      <td>149908</td>\n",
       "      <td>False</td>\n",
       "      <td>Finance</td>\n",
       "    </tr>\n",
       "    <tr>\n",
       "      <th>429</th>\n",
       "      <td>Rose</td>\n",
       "      <td>Female</td>\n",
       "      <td>2015-05-28</td>\n",
       "      <td>149903</td>\n",
       "      <td>False</td>\n",
       "      <td>HR</td>\n",
       "    </tr>\n",
       "    <tr>\n",
       "      <th>828</th>\n",
       "      <td>Cynthia</td>\n",
       "      <td>Female</td>\n",
       "      <td>2006-07-12</td>\n",
       "      <td>149684</td>\n",
       "      <td>False</td>\n",
       "      <td>Product</td>\n",
       "    </tr>\n",
       "    <tr>\n",
       "      <th>186</th>\n",
       "      <td>NaN</td>\n",
       "      <td>Female</td>\n",
       "      <td>2005-02-23</td>\n",
       "      <td>149654</td>\n",
       "      <td>True</td>\n",
       "      <td>Sales</td>\n",
       "    </tr>\n",
       "    <tr>\n",
       "      <th>160</th>\n",
       "      <td>Kathy</td>\n",
       "      <td>Female</td>\n",
       "      <td>2000-03-18</td>\n",
       "      <td>149563</td>\n",
       "      <td>True</td>\n",
       "      <td>Finance</td>\n",
       "    </tr>\n",
       "  </tbody>\n",
       "</table>\n",
       "</div>"
      ],
      "text/plain": [
       "    First Name  Gender  Start Date  Salary   Mgmt     Team\n",
       "644  Katherine  Female  1996-08-13  149908  False  Finance\n",
       "429       Rose  Female  2015-05-28  149903  False       HR\n",
       "828    Cynthia  Female  2006-07-12  149684  False  Product\n",
       "186        NaN  Female  2005-02-23  149654   True    Sales\n",
       "160      Kathy  Female  2000-03-18  149563   True  Finance"
      ]
     },
     "execution_count": 88,
     "metadata": {},
     "output_type": "execute_result"
    }
   ],
   "source": [
    "high_earners = df_employees[\"Salary\"] > 100000\n",
    "df_employees[high_earners].sort_values(by=\"Salary\", ascending=False).head()"
   ]
  },
  {
   "cell_type": "markdown",
   "id": "a68b2659",
   "metadata": {},
   "source": [
    "### Filtering by Multiple Conditions"
   ]
  },
  {
   "cell_type": "markdown",
   "id": "1bad3808",
   "metadata": {},
   "source": [
    "#### Condition and - &"
   ]
  },
  {
   "cell_type": "markdown",
   "id": "d491e9d0",
   "metadata": {},
   "source": [
    "**First condition**"
   ]
  },
  {
   "cell_type": "code",
   "execution_count": 89,
   "id": "986611ab",
   "metadata": {},
   "outputs": [],
   "source": [
    "is_female = df_employees['Gender'] == 'Female'"
   ]
  },
  {
   "cell_type": "markdown",
   "id": "c7e00040",
   "metadata": {},
   "source": [
    "**Second condiotion**"
   ]
  },
  {
   "cell_type": "code",
   "execution_count": 92,
   "id": "92751ec6",
   "metadata": {},
   "outputs": [],
   "source": [
    "in_biz_dev = df_employees['Team'] == \"Business Dev\""
   ]
  },
  {
   "cell_type": "markdown",
   "id": "7aa11341",
   "metadata": {},
   "source": [
    "**Find only women from the Business Development team**"
   ]
  },
  {
   "cell_type": "code",
   "execution_count": 94,
   "id": "925fd97b",
   "metadata": {},
   "outputs": [
    {
     "data": {
      "application/vnd.microsoft.datawrangler.viewer.v0+json": {
       "columns": [
        {
         "name": "index",
         "rawType": "int64",
         "type": "integer"
        },
        {
         "name": "First Name",
         "rawType": "object",
         "type": "string"
        },
        {
         "name": "Gender",
         "rawType": "category",
         "type": "unknown"
        },
        {
         "name": "Start Date",
         "rawType": "object",
         "type": "string"
        },
        {
         "name": "Salary",
         "rawType": "int32",
         "type": "integer"
        },
        {
         "name": "Mgmt",
         "rawType": "bool",
         "type": "boolean"
        },
        {
         "name": "Team",
         "rawType": "category",
         "type": "unknown"
        }
       ],
       "ref": "a7f4b36e-f15d-4d57-88d1-65dc4b69b878",
       "rows": [
        [
         "9",
         "Frances",
         "Female",
         "2002-08-08",
         "139852",
         "True",
         "Business Dev"
        ],
        [
         "33",
         "Jean",
         "Female",
         "1993-12-18",
         "119082",
         "False",
         "Business Dev"
        ],
        [
         "36",
         "Rachel",
         "Female",
         "2009-02-16",
         "142032",
         "False",
         "Business Dev"
        ],
        [
         "38",
         "Stephanie",
         "Female",
         "1986-09-13",
         "36844",
         "True",
         "Business Dev"
        ],
        [
         "61",
         "Denise",
         "Female",
         "2001-11-06",
         "106862",
         "False",
         "Business Dev"
        ]
       ],
       "shape": {
        "columns": 6,
        "rows": 5
       }
      },
      "text/html": [
       "<div>\n",
       "<style scoped>\n",
       "    .dataframe tbody tr th:only-of-type {\n",
       "        vertical-align: middle;\n",
       "    }\n",
       "\n",
       "    .dataframe tbody tr th {\n",
       "        vertical-align: top;\n",
       "    }\n",
       "\n",
       "    .dataframe thead th {\n",
       "        text-align: right;\n",
       "    }\n",
       "</style>\n",
       "<table border=\"1\" class=\"dataframe\">\n",
       "  <thead>\n",
       "    <tr style=\"text-align: right;\">\n",
       "      <th></th>\n",
       "      <th>First Name</th>\n",
       "      <th>Gender</th>\n",
       "      <th>Start Date</th>\n",
       "      <th>Salary</th>\n",
       "      <th>Mgmt</th>\n",
       "      <th>Team</th>\n",
       "    </tr>\n",
       "  </thead>\n",
       "  <tbody>\n",
       "    <tr>\n",
       "      <th>9</th>\n",
       "      <td>Frances</td>\n",
       "      <td>Female</td>\n",
       "      <td>2002-08-08</td>\n",
       "      <td>139852</td>\n",
       "      <td>True</td>\n",
       "      <td>Business Dev</td>\n",
       "    </tr>\n",
       "    <tr>\n",
       "      <th>33</th>\n",
       "      <td>Jean</td>\n",
       "      <td>Female</td>\n",
       "      <td>1993-12-18</td>\n",
       "      <td>119082</td>\n",
       "      <td>False</td>\n",
       "      <td>Business Dev</td>\n",
       "    </tr>\n",
       "    <tr>\n",
       "      <th>36</th>\n",
       "      <td>Rachel</td>\n",
       "      <td>Female</td>\n",
       "      <td>2009-02-16</td>\n",
       "      <td>142032</td>\n",
       "      <td>False</td>\n",
       "      <td>Business Dev</td>\n",
       "    </tr>\n",
       "    <tr>\n",
       "      <th>38</th>\n",
       "      <td>Stephanie</td>\n",
       "      <td>Female</td>\n",
       "      <td>1986-09-13</td>\n",
       "      <td>36844</td>\n",
       "      <td>True</td>\n",
       "      <td>Business Dev</td>\n",
       "    </tr>\n",
       "    <tr>\n",
       "      <th>61</th>\n",
       "      <td>Denise</td>\n",
       "      <td>Female</td>\n",
       "      <td>2001-11-06</td>\n",
       "      <td>106862</td>\n",
       "      <td>False</td>\n",
       "      <td>Business Dev</td>\n",
       "    </tr>\n",
       "  </tbody>\n",
       "</table>\n",
       "</div>"
      ],
      "text/plain": [
       "   First Name  Gender  Start Date  Salary   Mgmt          Team\n",
       "9     Frances  Female  2002-08-08  139852   True  Business Dev\n",
       "33       Jean  Female  1993-12-18  119082  False  Business Dev\n",
       "36     Rachel  Female  2009-02-16  142032  False  Business Dev\n",
       "38  Stephanie  Female  1986-09-13   36844   True  Business Dev\n",
       "61     Denise  Female  2001-11-06  106862  False  Business Dev"
      ]
     },
     "execution_count": 94,
     "metadata": {},
     "output_type": "execute_result"
    }
   ],
   "source": [
    "df_employees[is_female & in_biz_dev].head()"
   ]
  },
  {
   "cell_type": "code",
   "execution_count": 95,
   "id": "4512bdd1",
   "metadata": {},
   "outputs": [],
   "source": [
    "is_manager = df_employees[\"Mgmt\"]"
   ]
  },
  {
   "cell_type": "markdown",
   "id": "71c53158",
   "metadata": {},
   "source": [
    "**Add more conditionals**"
   ]
  },
  {
   "cell_type": "code",
   "execution_count": 96,
   "id": "522e4bfd",
   "metadata": {},
   "outputs": [
    {
     "data": {
      "application/vnd.microsoft.datawrangler.viewer.v0+json": {
       "columns": [
        {
         "name": "index",
         "rawType": "int64",
         "type": "integer"
        },
        {
         "name": "First Name",
         "rawType": "object",
         "type": "string"
        },
        {
         "name": "Gender",
         "rawType": "category",
         "type": "unknown"
        },
        {
         "name": "Start Date",
         "rawType": "object",
         "type": "string"
        },
        {
         "name": "Salary",
         "rawType": "int32",
         "type": "integer"
        },
        {
         "name": "Mgmt",
         "rawType": "bool",
         "type": "boolean"
        },
        {
         "name": "Team",
         "rawType": "category",
         "type": "unknown"
        }
       ],
       "ref": "6fb5a585-b458-4ffd-8152-335c6b8777cd",
       "rows": [
        [
         "9",
         "Frances",
         "Female",
         "2002-08-08",
         "139852",
         "True",
         "Business Dev"
        ],
        [
         "38",
         "Stephanie",
         "Female",
         "1986-09-13",
         "36844",
         "True",
         "Business Dev"
        ],
        [
         "66",
         "Nancy",
         "Female",
         "2012-12-15",
         "125250",
         "True",
         "Business Dev"
        ],
        [
         "92",
         "Linda",
         "Female",
         "2000-05-25",
         "119009",
         "True",
         "Business Dev"
        ],
        [
         "111",
         "Bonnie",
         "Female",
         "1999-12-17",
         "42153",
         "True",
         "Business Dev"
        ]
       ],
       "shape": {
        "columns": 6,
        "rows": 5
       }
      },
      "text/html": [
       "<div>\n",
       "<style scoped>\n",
       "    .dataframe tbody tr th:only-of-type {\n",
       "        vertical-align: middle;\n",
       "    }\n",
       "\n",
       "    .dataframe tbody tr th {\n",
       "        vertical-align: top;\n",
       "    }\n",
       "\n",
       "    .dataframe thead th {\n",
       "        text-align: right;\n",
       "    }\n",
       "</style>\n",
       "<table border=\"1\" class=\"dataframe\">\n",
       "  <thead>\n",
       "    <tr style=\"text-align: right;\">\n",
       "      <th></th>\n",
       "      <th>First Name</th>\n",
       "      <th>Gender</th>\n",
       "      <th>Start Date</th>\n",
       "      <th>Salary</th>\n",
       "      <th>Mgmt</th>\n",
       "      <th>Team</th>\n",
       "    </tr>\n",
       "  </thead>\n",
       "  <tbody>\n",
       "    <tr>\n",
       "      <th>9</th>\n",
       "      <td>Frances</td>\n",
       "      <td>Female</td>\n",
       "      <td>2002-08-08</td>\n",
       "      <td>139852</td>\n",
       "      <td>True</td>\n",
       "      <td>Business Dev</td>\n",
       "    </tr>\n",
       "    <tr>\n",
       "      <th>38</th>\n",
       "      <td>Stephanie</td>\n",
       "      <td>Female</td>\n",
       "      <td>1986-09-13</td>\n",
       "      <td>36844</td>\n",
       "      <td>True</td>\n",
       "      <td>Business Dev</td>\n",
       "    </tr>\n",
       "    <tr>\n",
       "      <th>66</th>\n",
       "      <td>Nancy</td>\n",
       "      <td>Female</td>\n",
       "      <td>2012-12-15</td>\n",
       "      <td>125250</td>\n",
       "      <td>True</td>\n",
       "      <td>Business Dev</td>\n",
       "    </tr>\n",
       "    <tr>\n",
       "      <th>92</th>\n",
       "      <td>Linda</td>\n",
       "      <td>Female</td>\n",
       "      <td>2000-05-25</td>\n",
       "      <td>119009</td>\n",
       "      <td>True</td>\n",
       "      <td>Business Dev</td>\n",
       "    </tr>\n",
       "    <tr>\n",
       "      <th>111</th>\n",
       "      <td>Bonnie</td>\n",
       "      <td>Female</td>\n",
       "      <td>1999-12-17</td>\n",
       "      <td>42153</td>\n",
       "      <td>True</td>\n",
       "      <td>Business Dev</td>\n",
       "    </tr>\n",
       "  </tbody>\n",
       "</table>\n",
       "</div>"
      ],
      "text/plain": [
       "    First Name  Gender  Start Date  Salary  Mgmt          Team\n",
       "9      Frances  Female  2002-08-08  139852  True  Business Dev\n",
       "38   Stephanie  Female  1986-09-13   36844  True  Business Dev\n",
       "66       Nancy  Female  2012-12-15  125250  True  Business Dev\n",
       "92       Linda  Female  2000-05-25  119009  True  Business Dev\n",
       "111     Bonnie  Female  1999-12-17   42153  True  Business Dev"
      ]
     },
     "execution_count": 96,
     "metadata": {},
     "output_type": "execute_result"
    }
   ],
   "source": [
    "df_employees[is_female & in_biz_dev & is_manager].head()"
   ]
  },
  {
   "cell_type": "markdown",
   "id": "8cd6e3ab",
   "metadata": {},
   "source": [
    "#### Condiotional OR - |"
   ]
  }
 ],
 "metadata": {
  "kernelspec": {
   "display_name": "base",
   "language": "python",
   "name": "python3"
  },
  "language_info": {
   "codemirror_mode": {
    "name": "ipython",
    "version": 3
   },
   "file_extension": ".py",
   "mimetype": "text/x-python",
   "name": "python",
   "nbconvert_exporter": "python",
   "pygments_lexer": "ipython3",
   "version": "3.12.2"
  }
 },
 "nbformat": 4,
 "nbformat_minor": 5
}
