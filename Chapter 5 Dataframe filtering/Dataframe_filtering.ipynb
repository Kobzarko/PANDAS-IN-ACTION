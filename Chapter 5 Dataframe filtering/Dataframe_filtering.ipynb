{
 "cells": [
  {
   "cell_type": "markdown",
   "id": "5ce976bc",
   "metadata": {},
   "source": [
    "### Optimizing A Data Set for Memory Usage"
   ]
  },
  {
   "cell_type": "code",
   "execution_count": 5,
   "id": "9a9d866d",
   "metadata": {},
   "outputs": [],
   "source": [
    "import pandas as pd"
   ]
  },
  {
   "cell_type": "code",
   "execution_count": 6,
   "id": "fe9365cd",
   "metadata": {},
   "outputs": [],
   "source": [
    "employees_data = '/Users/ypushiev/Learning/PANDAS IN ACTION/Chapter 5 Dataframe filtering/Data/employees.csv'"
   ]
  },
  {
   "cell_type": "code",
   "execution_count": 7,
   "id": "e8064dc1",
   "metadata": {},
   "outputs": [
    {
     "data": {
      "application/vnd.microsoft.datawrangler.viewer.v0+json": {
       "columns": [
        {
         "name": "index",
         "rawType": "object",
         "type": "string"
        },
        {
         "name": "0",
         "rawType": "int64",
         "type": "integer"
        }
       ],
       "ref": "17189466-b85d-47f2-a668-1737ad2002c0",
       "rows": [
        [
         "First Name",
         "68"
        ],
        [
         "Gender",
         "147"
        ],
        [
         "Start Date",
         "2"
        ],
        [
         "Salary",
         "2"
        ],
        [
         "Mgmt",
         "68"
        ],
        [
         "Team",
         "44"
        ]
       ],
       "shape": {
        "columns": 1,
        "rows": 6
       }
      },
      "text/plain": [
       "First Name     68\n",
       "Gender        147\n",
       "Start Date      2\n",
       "Salary          2\n",
       "Mgmt           68\n",
       "Team           44\n",
       "dtype: int64"
      ]
     },
     "execution_count": 7,
     "metadata": {},
     "output_type": "execute_result"
    }
   ],
   "source": [
    "pd.read_csv(employees_data).isna().sum()"
   ]
  },
  {
   "cell_type": "code",
   "execution_count": 44,
   "id": "04693b2d",
   "metadata": {},
   "outputs": [
    {
     "name": "stderr",
     "output_type": "stream",
     "text": [
      "/var/folders/pg/x6kyk1l92fj8q4332g1j8rnw0000gp/T/ipykernel_81492/4257891297.py:1: UserWarning: Could not infer format, so each element will be parsed individually, falling back to `dateutil`. To ensure parsing is consistent and as-expected, please specify a format.\n",
      "  df_employees = pd.read_csv(employees_data, parse_dates = ['Start Date'])\n"
     ]
    }
   ],
   "source": [
    "df_employees = pd.read_csv(employees_data, parse_dates = ['Start Date'])"
   ]
  },
  {
   "cell_type": "code",
   "execution_count": 45,
   "id": "78931af4",
   "metadata": {},
   "outputs": [],
   "source": [
    "df_employees['Start Date'] = pd.to_datetime(df_employees['Start Date'], format='%Y-%m-%d')"
   ]
  },
  {
   "cell_type": "code",
   "execution_count": 46,
   "id": "33c301ac",
   "metadata": {},
   "outputs": [
    {
     "name": "stdout",
     "output_type": "stream",
     "text": [
      "<class 'pandas.core.frame.DataFrame'>\n",
      "RangeIndex: 1001 entries, 0 to 1000\n",
      "Data columns (total 6 columns):\n",
      " #   Column      Non-Null Count  Dtype         \n",
      "---  ------      --------------  -----         \n",
      " 0   First Name  933 non-null    object        \n",
      " 1   Gender      854 non-null    object        \n",
      " 2   Start Date  999 non-null    datetime64[ns]\n",
      " 3   Salary      999 non-null    float64       \n",
      " 4   Mgmt        933 non-null    object        \n",
      " 5   Team        957 non-null    object        \n",
      "dtypes: datetime64[ns](1), float64(1), object(4)\n",
      "memory usage: 47.1+ KB\n"
     ]
    }
   ],
   "source": [
    "df_employees.info()"
   ]
  },
  {
   "cell_type": "markdown",
   "id": "fa8babd1",
   "metadata": {},
   "source": [
    "**memory usage: 47.1+ KB**"
   ]
  },
  {
   "cell_type": "code",
   "execution_count": 47,
   "id": "8e90a185",
   "metadata": {},
   "outputs": [
    {
     "data": {
      "application/vnd.microsoft.datawrangler.viewer.v0+json": {
       "columns": [
        {
         "name": "index",
         "rawType": "int64",
         "type": "integer"
        },
        {
         "name": "First Name",
         "rawType": "object",
         "type": "string"
        },
        {
         "name": "Gender",
         "rawType": "object",
         "type": "unknown"
        },
        {
         "name": "Start Date",
         "rawType": "datetime64[ns]",
         "type": "datetime"
        },
        {
         "name": "Salary",
         "rawType": "float64",
         "type": "float"
        },
        {
         "name": "Mgmt",
         "rawType": "object",
         "type": "unknown"
        },
        {
         "name": "Team",
         "rawType": "object",
         "type": "unknown"
        }
       ],
       "ref": "1df5d853-2170-4f24-84bf-c576a5eeaceb",
       "rows": [
        [
         "0",
         "Douglas",
         "Male",
         "1993-08-06 00:00:00",
         null,
         "True",
         "Marketing"
        ],
        [
         "1",
         "Thomas",
         "Male",
         "1996-03-31 00:00:00",
         "61933.0",
         "True",
         null
        ],
        [
         "2",
         "Maria",
         "Female",
         null,
         "130590.0",
         "False",
         "Finance"
        ],
        [
         "3",
         "Jerry",
         null,
         "2005-03-04 00:00:00",
         "138705.0",
         "True",
         "Finance"
        ],
        [
         "4",
         "Larry",
         "Male",
         "1998-01-24 00:00:00",
         "101004.0",
         "True",
         "IT"
        ]
       ],
       "shape": {
        "columns": 6,
        "rows": 5
       }
      },
      "text/html": [
       "<div>\n",
       "<style scoped>\n",
       "    .dataframe tbody tr th:only-of-type {\n",
       "        vertical-align: middle;\n",
       "    }\n",
       "\n",
       "    .dataframe tbody tr th {\n",
       "        vertical-align: top;\n",
       "    }\n",
       "\n",
       "    .dataframe thead th {\n",
       "        text-align: right;\n",
       "    }\n",
       "</style>\n",
       "<table border=\"1\" class=\"dataframe\">\n",
       "  <thead>\n",
       "    <tr style=\"text-align: right;\">\n",
       "      <th></th>\n",
       "      <th>First Name</th>\n",
       "      <th>Gender</th>\n",
       "      <th>Start Date</th>\n",
       "      <th>Salary</th>\n",
       "      <th>Mgmt</th>\n",
       "      <th>Team</th>\n",
       "    </tr>\n",
       "  </thead>\n",
       "  <tbody>\n",
       "    <tr>\n",
       "      <th>0</th>\n",
       "      <td>Douglas</td>\n",
       "      <td>Male</td>\n",
       "      <td>1993-08-06</td>\n",
       "      <td>NaN</td>\n",
       "      <td>True</td>\n",
       "      <td>Marketing</td>\n",
       "    </tr>\n",
       "    <tr>\n",
       "      <th>1</th>\n",
       "      <td>Thomas</td>\n",
       "      <td>Male</td>\n",
       "      <td>1996-03-31</td>\n",
       "      <td>61933.0</td>\n",
       "      <td>True</td>\n",
       "      <td>NaN</td>\n",
       "    </tr>\n",
       "    <tr>\n",
       "      <th>2</th>\n",
       "      <td>Maria</td>\n",
       "      <td>Female</td>\n",
       "      <td>NaT</td>\n",
       "      <td>130590.0</td>\n",
       "      <td>False</td>\n",
       "      <td>Finance</td>\n",
       "    </tr>\n",
       "    <tr>\n",
       "      <th>3</th>\n",
       "      <td>Jerry</td>\n",
       "      <td>NaN</td>\n",
       "      <td>2005-03-04</td>\n",
       "      <td>138705.0</td>\n",
       "      <td>True</td>\n",
       "      <td>Finance</td>\n",
       "    </tr>\n",
       "    <tr>\n",
       "      <th>4</th>\n",
       "      <td>Larry</td>\n",
       "      <td>Male</td>\n",
       "      <td>1998-01-24</td>\n",
       "      <td>101004.0</td>\n",
       "      <td>True</td>\n",
       "      <td>IT</td>\n",
       "    </tr>\n",
       "  </tbody>\n",
       "</table>\n",
       "</div>"
      ],
      "text/plain": [
       "  First Name  Gender Start Date    Salary   Mgmt       Team\n",
       "0    Douglas    Male 1993-08-06       NaN   True  Marketing\n",
       "1     Thomas    Male 1996-03-31   61933.0   True        NaN\n",
       "2      Maria  Female        NaT  130590.0  False    Finance\n",
       "3      Jerry     NaN 2005-03-04  138705.0   True    Finance\n",
       "4      Larry    Male 1998-01-24  101004.0   True         IT"
      ]
     },
     "execution_count": 47,
     "metadata": {},
     "output_type": "execute_result"
    }
   ],
   "source": [
    "df_employees.head()"
   ]
  },
  {
   "cell_type": "markdown",
   "id": "8dd71cde",
   "metadata": {},
   "source": [
    "**Convert datetime into the object to cut the time from the data**"
   ]
  },
  {
   "cell_type": "code",
   "execution_count": 48,
   "id": "2d984e5e",
   "metadata": {},
   "outputs": [],
   "source": [
    "df_employees['Start Date'] = df_employees['Start Date'].dt.strftime('%Y-%m-%d')"
   ]
  },
  {
   "cell_type": "code",
   "execution_count": 49,
   "id": "c32e73f7",
   "metadata": {},
   "outputs": [
    {
     "name": "stdout",
     "output_type": "stream",
     "text": [
      "<class 'pandas.core.frame.DataFrame'>\n",
      "RangeIndex: 1001 entries, 0 to 1000\n",
      "Data columns (total 6 columns):\n",
      " #   Column      Non-Null Count  Dtype  \n",
      "---  ------      --------------  -----  \n",
      " 0   First Name  933 non-null    object \n",
      " 1   Gender      854 non-null    object \n",
      " 2   Start Date  999 non-null    object \n",
      " 3   Salary      999 non-null    float64\n",
      " 4   Mgmt        933 non-null    object \n",
      " 5   Team        957 non-null    object \n",
      "dtypes: float64(1), object(5)\n",
      "memory usage: 47.1+ KB\n"
     ]
    }
   ],
   "source": [
    "df_employees.info()"
   ]
  },
  {
   "cell_type": "markdown",
   "id": "877c8e67",
   "metadata": {},
   "source": [
    "**memory usage: 47.1+ KB**"
   ]
  },
  {
   "cell_type": "markdown",
   "id": "7c670910",
   "metadata": {},
   "source": [
    "### Converting Data Types with the astype Method"
   ]
  },
  {
   "cell_type": "code",
   "execution_count": 50,
   "id": "8ba5d9f1",
   "metadata": {},
   "outputs": [
    {
     "data": {
      "application/vnd.microsoft.datawrangler.viewer.v0+json": {
       "columns": [
        {
         "name": "index",
         "rawType": "int64",
         "type": "integer"
        },
        {
         "name": "Mgmt",
         "rawType": "bool",
         "type": "boolean"
        }
       ],
       "ref": "c446d516-d17a-4d57-8de7-d4a3516bbf23",
       "rows": [
        [
         "996",
         "False"
        ],
        [
         "997",
         "False"
        ],
        [
         "998",
         "False"
        ],
        [
         "999",
         "True"
        ],
        [
         "1000",
         "True"
        ]
       ],
       "shape": {
        "columns": 1,
        "rows": 5
       }
      },
      "text/plain": [
       "996     False\n",
       "997     False\n",
       "998     False\n",
       "999      True\n",
       "1000     True\n",
       "Name: Mgmt, dtype: bool"
      ]
     },
     "execution_count": 50,
     "metadata": {},
     "output_type": "execute_result"
    }
   ],
   "source": [
    "df_employees['Mgmt'].astype('bool').tail()"
   ]
  },
  {
   "cell_type": "markdown",
   "id": "4b5eb0ac",
   "metadata": {},
   "source": [
    "**Convert object type into the bool type and see results in the size**"
   ]
  },
  {
   "cell_type": "code",
   "execution_count": 51,
   "id": "2818513b",
   "metadata": {},
   "outputs": [],
   "source": [
    "df_employees['Mgmt'] = df_employees['Mgmt'].astype('bool')"
   ]
  },
  {
   "cell_type": "code",
   "execution_count": 52,
   "id": "84e7e519",
   "metadata": {},
   "outputs": [
    {
     "name": "stdout",
     "output_type": "stream",
     "text": [
      "<class 'pandas.core.frame.DataFrame'>\n",
      "RangeIndex: 1001 entries, 0 to 1000\n",
      "Data columns (total 6 columns):\n",
      " #   Column      Non-Null Count  Dtype  \n",
      "---  ------      --------------  -----  \n",
      " 0   First Name  933 non-null    object \n",
      " 1   Gender      854 non-null    object \n",
      " 2   Start Date  999 non-null    object \n",
      " 3   Salary      999 non-null    float64\n",
      " 4   Mgmt        1001 non-null   bool   \n",
      " 5   Team        957 non-null    object \n",
      "dtypes: bool(1), float64(1), object(4)\n",
      "memory usage: 40.2+ KB\n"
     ]
    }
   ],
   "source": [
    "df_employees.info()"
   ]
  },
  {
   "cell_type": "markdown",
   "id": "851b89c9",
   "metadata": {},
   "source": [
    "**memory usage: 40.2+ KB**"
   ]
  },
  {
   "cell_type": "markdown",
   "id": "2df438ab",
   "metadata": {},
   "source": [
    "### Convert into the integer type"
   ]
  },
  {
   "cell_type": "markdown",
   "id": "5d6b45a7",
   "metadata": {},
   "source": [
    "**The Salary column contains NaN values**"
   ]
  },
  {
   "cell_type": "code",
   "execution_count": 53,
   "id": "8719f531",
   "metadata": {},
   "outputs": [
    {
     "data": {
      "text/plain": [
       "2"
      ]
     },
     "execution_count": 53,
     "metadata": {},
     "output_type": "execute_result"
    }
   ],
   "source": [
    "df_employees['Salary'].isna().sum()"
   ]
  },
  {
   "cell_type": "markdown",
   "id": "3d161a13",
   "metadata": {},
   "source": [
    "**Replace NaN values by 0**"
   ]
  },
  {
   "cell_type": "code",
   "execution_count": 54,
   "id": "b6d9996c",
   "metadata": {},
   "outputs": [],
   "source": [
    "df_employees['Salary']= df_employees['Salary'].fillna(0)"
   ]
  },
  {
   "cell_type": "code",
   "execution_count": 56,
   "id": "9850051a",
   "metadata": {},
   "outputs": [],
   "source": [
    "df_employees['Salary']=df_employees['Salary'].astype('int')"
   ]
  },
  {
   "cell_type": "code",
   "execution_count": 57,
   "id": "9f18a480",
   "metadata": {},
   "outputs": [
    {
     "data": {
      "application/vnd.microsoft.datawrangler.viewer.v0+json": {
       "columns": [
        {
         "name": "index",
         "rawType": "int64",
         "type": "integer"
        },
        {
         "name": "Salary",
         "rawType": "int64",
         "type": "integer"
        }
       ],
       "ref": "fe6ebcf4-06e2-4349-9bf4-2e5c0dabd1b0",
       "rows": [
        [
         "0",
         "0"
        ],
        [
         "1",
         "61933"
        ],
        [
         "2",
         "130590"
        ],
        [
         "3",
         "138705"
        ],
        [
         "4",
         "101004"
        ]
       ],
       "shape": {
        "columns": 1,
        "rows": 5
       }
      },
      "text/plain": [
       "0         0\n",
       "1     61933\n",
       "2    130590\n",
       "3    138705\n",
       "4    101004\n",
       "Name: Salary, dtype: int64"
      ]
     },
     "execution_count": 57,
     "metadata": {},
     "output_type": "execute_result"
    }
   ],
   "source": [
    "df_employees['Salary'].head()"
   ]
  },
  {
   "cell_type": "code",
   "execution_count": 37,
   "id": "ff81cef5",
   "metadata": {},
   "outputs": [
    {
     "name": "stdout",
     "output_type": "stream",
     "text": [
      "<class 'pandas.core.frame.DataFrame'>\n",
      "RangeIndex: 1001 entries, 0 to 1000\n",
      "Data columns (total 6 columns):\n",
      " #   Column      Non-Null Count  Dtype \n",
      "---  ------      --------------  ----- \n",
      " 0   First Name  933 non-null    object\n",
      " 1   Gender      854 non-null    object\n",
      " 2   Start Date  999 non-null    object\n",
      " 3   Salary      1001 non-null   int64 \n",
      " 4   Mgmt        1001 non-null   bool  \n",
      " 5   Team        957 non-null    object\n",
      "dtypes: bool(1), int64(1), object(4)\n",
      "memory usage: 40.2+ KB\n"
     ]
    }
   ],
   "source": [
    "df_employees.info()"
   ]
  },
  {
   "cell_type": "markdown",
   "id": "0622ec25",
   "metadata": {},
   "source": [
    "**The memory might be reduced more using INT32**"
   ]
  },
  {
   "cell_type": "markdown",
   "id": "63803698",
   "metadata": {},
   "source": [
    "**Check max value**"
   ]
  },
  {
   "cell_type": "code",
   "execution_count": 65,
   "id": "c3e09ebd",
   "metadata": {},
   "outputs": [
    {
     "data": {
      "text/plain": [
       "149908"
      ]
     },
     "execution_count": 65,
     "metadata": {},
     "output_type": "execute_result"
    }
   ],
   "source": [
    "df_employees['Salary'].max()"
   ]
  },
  {
   "cell_type": "code",
   "execution_count": 59,
   "id": "e60a6eaa",
   "metadata": {},
   "outputs": [],
   "source": [
    "df_employees['Salary']=df_employees['Salary'].astype('int32')"
   ]
  },
  {
   "cell_type": "code",
   "execution_count": 60,
   "id": "6a5aae2c",
   "metadata": {},
   "outputs": [
    {
     "name": "stdout",
     "output_type": "stream",
     "text": [
      "<class 'pandas.core.frame.DataFrame'>\n",
      "RangeIndex: 1001 entries, 0 to 1000\n",
      "Data columns (total 6 columns):\n",
      " #   Column      Non-Null Count  Dtype \n",
      "---  ------      --------------  ----- \n",
      " 0   First Name  933 non-null    object\n",
      " 1   Gender      854 non-null    object\n",
      " 2   Start Date  999 non-null    object\n",
      " 3   Salary      1001 non-null   int32 \n",
      " 4   Mgmt        1001 non-null   bool  \n",
      " 5   Team        957 non-null    object\n",
      "dtypes: bool(1), int32(1), object(4)\n",
      "memory usage: 36.3+ KB\n"
     ]
    }
   ],
   "source": [
    "df_employees.info()"
   ]
  },
  {
   "cell_type": "code",
   "execution_count": 66,
   "id": "e7207039",
   "metadata": {},
   "outputs": [
    {
     "data": {
      "text/plain": [
       "149908"
      ]
     },
     "execution_count": 66,
     "metadata": {},
     "output_type": "execute_result"
    }
   ],
   "source": [
    "df_employees['Salary'].max()"
   ]
  },
  {
   "cell_type": "code",
   "execution_count": 61,
   "id": "dc192180",
   "metadata": {},
   "outputs": [
    {
     "data": {
      "application/vnd.microsoft.datawrangler.viewer.v0+json": {
       "columns": [
        {
         "name": "index",
         "rawType": "int64",
         "type": "integer"
        },
        {
         "name": "Salary",
         "rawType": "int32",
         "type": "integer"
        }
       ],
       "ref": "eafde434-d930-443a-ac6e-2512c45833b7",
       "rows": [
        [
         "0",
         "0"
        ],
        [
         "1",
         "61933"
        ],
        [
         "2",
         "130590"
        ],
        [
         "3",
         "138705"
        ],
        [
         "4",
         "101004"
        ]
       ],
       "shape": {
        "columns": 1,
        "rows": 5
       }
      },
      "text/plain": [
       "0         0\n",
       "1     61933\n",
       "2    130590\n",
       "3    138705\n",
       "4    101004\n",
       "Name: Salary, dtype: int32"
      ]
     },
     "execution_count": 61,
     "metadata": {},
     "output_type": "execute_result"
    }
   ],
   "source": [
    "df_employees['Salary'].head()"
   ]
  },
  {
   "cell_type": "markdown",
   "id": "2fc1f636",
   "metadata": {},
   "source": [
    "**memory usage: 36.3+ KB**"
   ]
  },
  {
   "cell_type": "markdown",
   "id": "3721fd02",
   "metadata": {},
   "source": [
    "### Convert into categorical type"
   ]
  },
  {
   "cell_type": "markdown",
   "id": "1d8dd908",
   "metadata": {},
   "source": [
    "**Check unique values in the Dataframe** "
   ]
  },
  {
   "cell_type": "code",
   "execution_count": 67,
   "id": "ccfb1205",
   "metadata": {},
   "outputs": [
    {
     "data": {
      "application/vnd.microsoft.datawrangler.viewer.v0+json": {
       "columns": [
        {
         "name": "index",
         "rawType": "object",
         "type": "string"
        },
        {
         "name": "0",
         "rawType": "int64",
         "type": "integer"
        }
       ],
       "ref": "0c209507-d1fe-438b-8967-3f6ad9e1c95b",
       "rows": [
        [
         "First Name",
         "200"
        ],
        [
         "Gender",
         "2"
        ],
        [
         "Start Date",
         "971"
        ],
        [
         "Salary",
         "995"
        ],
        [
         "Mgmt",
         "2"
        ],
        [
         "Team",
         "10"
        ]
       ],
       "shape": {
        "columns": 1,
        "rows": 6
       }
      },
      "text/plain": [
       "First Name    200\n",
       "Gender          2\n",
       "Start Date    971\n",
       "Salary        995\n",
       "Mgmt            2\n",
       "Team           10\n",
       "dtype: int64"
      ]
     },
     "execution_count": 67,
     "metadata": {},
     "output_type": "execute_result"
    }
   ],
   "source": [
    "df_employees.nunique()"
   ]
  },
  {
   "cell_type": "markdown",
   "id": "1145146d",
   "metadata": {},
   "source": [
    "**The Gender column contains only 2 unique values** "
   ]
  },
  {
   "cell_type": "code",
   "execution_count": 69,
   "id": "3fc99d4c",
   "metadata": {},
   "outputs": [
    {
     "data": {
      "application/vnd.microsoft.datawrangler.viewer.v0+json": {
       "columns": [
        {
         "name": "index",
         "rawType": "int64",
         "type": "integer"
        },
        {
         "name": "Gender",
         "rawType": "category",
         "type": "unknown"
        }
       ],
       "ref": "727db6f3-a4e4-4fa4-943b-9e4d4d8b90c8",
       "rows": [
        [
         "0",
         "Male"
        ],
        [
         "1",
         "Male"
        ],
        [
         "2",
         "Female"
        ],
        [
         "3",
         null
        ],
        [
         "4",
         "Male"
        ]
       ],
       "shape": {
        "columns": 1,
        "rows": 5
       }
      },
      "text/plain": [
       "0      Male\n",
       "1      Male\n",
       "2    Female\n",
       "3       NaN\n",
       "4      Male\n",
       "Name: Gender, dtype: category\n",
       "Categories (2, object): ['Female', 'Male']"
      ]
     },
     "execution_count": 69,
     "metadata": {},
     "output_type": "execute_result"
    }
   ],
   "source": [
    "df_employees['Gender'].astype('category').head()"
   ]
  },
  {
   "cell_type": "code",
   "execution_count": 70,
   "id": "ddbc0f81",
   "metadata": {},
   "outputs": [],
   "source": [
    "df_employees['Gender'] = df_employees['Gender'].astype('category')"
   ]
  },
  {
   "cell_type": "markdown",
   "id": "2c6cffab",
   "metadata": {},
   "source": [
    "**Convert Team column type**"
   ]
  },
  {
   "cell_type": "code",
   "execution_count": 73,
   "id": "dbb68d96",
   "metadata": {},
   "outputs": [],
   "source": [
    "df_employees['Team'] = df_employees['Team'].astype('category')"
   ]
  },
  {
   "cell_type": "code",
   "execution_count": 74,
   "id": "fe273c10",
   "metadata": {},
   "outputs": [
    {
     "name": "stdout",
     "output_type": "stream",
     "text": [
      "<class 'pandas.core.frame.DataFrame'>\n",
      "RangeIndex: 1001 entries, 0 to 1000\n",
      "Data columns (total 6 columns):\n",
      " #   Column      Non-Null Count  Dtype   \n",
      "---  ------      --------------  -----   \n",
      " 0   First Name  933 non-null    object  \n",
      " 1   Gender      854 non-null    category\n",
      " 2   Start Date  999 non-null    object  \n",
      " 3   Salary      1001 non-null   int32   \n",
      " 4   Mgmt        1001 non-null   bool    \n",
      " 5   Team        957 non-null    category\n",
      "dtypes: bool(1), category(2), int32(1), object(2)\n",
      "memory usage: 23.1+ KB\n"
     ]
    }
   ],
   "source": [
    "df_employees.info()"
   ]
  },
  {
   "cell_type": "markdown",
   "id": "acf78053",
   "metadata": {},
   "source": [
    "**memory usage: 23.1+ KB**"
   ]
  },
  {
   "cell_type": "markdown",
   "id": "57a9cb8d",
   "metadata": {},
   "source": [
    "**The Dataframe size has been decreased from 47.1+ KB to 23.1+ KB approximately 50%**"
   ]
  }
 ],
 "metadata": {
  "kernelspec": {
   "display_name": "base",
   "language": "python",
   "name": "python3"
  },
  "language_info": {
   "codemirror_mode": {
    "name": "ipython",
    "version": 3
   },
   "file_extension": ".py",
   "mimetype": "text/x-python",
   "name": "python",
   "nbconvert_exporter": "python",
   "pygments_lexer": "ipython3",
   "version": "3.12.2"
  }
 },
 "nbformat": 4,
 "nbformat_minor": 5
}
