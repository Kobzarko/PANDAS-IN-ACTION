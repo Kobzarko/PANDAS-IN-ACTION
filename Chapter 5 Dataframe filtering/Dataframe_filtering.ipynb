{
 "cells": [
  {
   "cell_type": "markdown",
   "id": "5ce976bc",
   "metadata": {},
   "source": [
    "### Optimizing A Data Set for Memory Usage"
   ]
  },
  {
   "cell_type": "code",
   "execution_count": 1,
   "id": "9a9d866d",
   "metadata": {},
   "outputs": [],
   "source": [
    "import pandas as pd"
   ]
  },
  {
   "cell_type": "code",
   "execution_count": 2,
   "id": "fe9365cd",
   "metadata": {},
   "outputs": [],
   "source": [
    "employees_data = '/Users/ypushiev/Learning/PANDAS IN ACTION/Chapter 5 Dataframe filtering/Data/employees.csv'"
   ]
  },
  {
   "cell_type": "code",
   "execution_count": 3,
   "id": "e8064dc1",
   "metadata": {},
   "outputs": [
    {
     "data": {
      "application/vnd.microsoft.datawrangler.viewer.v0+json": {
       "columns": [
        {
         "name": "index",
         "rawType": "object",
         "type": "string"
        },
        {
         "name": "0",
         "rawType": "int64",
         "type": "integer"
        }
       ],
       "ref": "78bbe63a-cdff-4e99-a1d7-32d410dcfaad",
       "rows": [
        [
         "First Name",
         "68"
        ],
        [
         "Gender",
         "147"
        ],
        [
         "Start Date",
         "2"
        ],
        [
         "Salary",
         "2"
        ],
        [
         "Mgmt",
         "68"
        ],
        [
         "Team",
         "44"
        ]
       ],
       "shape": {
        "columns": 1,
        "rows": 6
       }
      },
      "text/plain": [
       "First Name     68\n",
       "Gender        147\n",
       "Start Date      2\n",
       "Salary          2\n",
       "Mgmt           68\n",
       "Team           44\n",
       "dtype: int64"
      ]
     },
     "execution_count": 3,
     "metadata": {},
     "output_type": "execute_result"
    }
   ],
   "source": [
    "pd.read_csv(employees_data).isna().sum()"
   ]
  },
  {
   "cell_type": "code",
   "execution_count": 4,
   "id": "04693b2d",
   "metadata": {},
   "outputs": [
    {
     "name": "stderr",
     "output_type": "stream",
     "text": [
      "/var/folders/pg/x6kyk1l92fj8q4332g1j8rnw0000gp/T/ipykernel_14021/4257891297.py:1: UserWarning: Could not infer format, so each element will be parsed individually, falling back to `dateutil`. To ensure parsing is consistent and as-expected, please specify a format.\n",
      "  df_employees = pd.read_csv(employees_data, parse_dates = ['Start Date'])\n"
     ]
    }
   ],
   "source": [
    "df_employees = pd.read_csv(employees_data, parse_dates = ['Start Date'])"
   ]
  },
  {
   "cell_type": "code",
   "execution_count": 5,
   "id": "78931af4",
   "metadata": {},
   "outputs": [],
   "source": [
    "df_employees['Start Date'] = pd.to_datetime(df_employees['Start Date'], format='%Y-%m-%d')"
   ]
  },
  {
   "cell_type": "code",
   "execution_count": 6,
   "id": "33c301ac",
   "metadata": {},
   "outputs": [
    {
     "name": "stdout",
     "output_type": "stream",
     "text": [
      "<class 'pandas.core.frame.DataFrame'>\n",
      "RangeIndex: 1001 entries, 0 to 1000\n",
      "Data columns (total 6 columns):\n",
      " #   Column      Non-Null Count  Dtype         \n",
      "---  ------      --------------  -----         \n",
      " 0   First Name  933 non-null    object        \n",
      " 1   Gender      854 non-null    object        \n",
      " 2   Start Date  999 non-null    datetime64[ns]\n",
      " 3   Salary      999 non-null    float64       \n",
      " 4   Mgmt        933 non-null    object        \n",
      " 5   Team        957 non-null    object        \n",
      "dtypes: datetime64[ns](1), float64(1), object(4)\n",
      "memory usage: 47.1+ KB\n"
     ]
    }
   ],
   "source": [
    "df_employees.info()"
   ]
  },
  {
   "cell_type": "markdown",
   "id": "fa8babd1",
   "metadata": {},
   "source": [
    "**memory usage: 47.1+ KB**"
   ]
  },
  {
   "cell_type": "code",
   "execution_count": 7,
   "id": "8e90a185",
   "metadata": {},
   "outputs": [
    {
     "data": {
      "application/vnd.microsoft.datawrangler.viewer.v0+json": {
       "columns": [
        {
         "name": "index",
         "rawType": "int64",
         "type": "integer"
        },
        {
         "name": "First Name",
         "rawType": "object",
         "type": "string"
        },
        {
         "name": "Gender",
         "rawType": "object",
         "type": "unknown"
        },
        {
         "name": "Start Date",
         "rawType": "datetime64[ns]",
         "type": "datetime"
        },
        {
         "name": "Salary",
         "rawType": "float64",
         "type": "float"
        },
        {
         "name": "Mgmt",
         "rawType": "object",
         "type": "unknown"
        },
        {
         "name": "Team",
         "rawType": "object",
         "type": "unknown"
        }
       ],
       "ref": "7592060f-8388-45f6-bd6b-82a9e5cba939",
       "rows": [
        [
         "0",
         "Douglas",
         "Male",
         "1993-08-06 00:00:00",
         null,
         "True",
         "Marketing"
        ],
        [
         "1",
         "Thomas",
         "Male",
         "1996-03-31 00:00:00",
         "61933.0",
         "True",
         null
        ],
        [
         "2",
         "Maria",
         "Female",
         null,
         "130590.0",
         "False",
         "Finance"
        ],
        [
         "3",
         "Jerry",
         null,
         "2005-03-04 00:00:00",
         "138705.0",
         "True",
         "Finance"
        ],
        [
         "4",
         "Larry",
         "Male",
         "1998-01-24 00:00:00",
         "101004.0",
         "True",
         "IT"
        ]
       ],
       "shape": {
        "columns": 6,
        "rows": 5
       }
      },
      "text/html": [
       "<div>\n",
       "<style scoped>\n",
       "    .dataframe tbody tr th:only-of-type {\n",
       "        vertical-align: middle;\n",
       "    }\n",
       "\n",
       "    .dataframe tbody tr th {\n",
       "        vertical-align: top;\n",
       "    }\n",
       "\n",
       "    .dataframe thead th {\n",
       "        text-align: right;\n",
       "    }\n",
       "</style>\n",
       "<table border=\"1\" class=\"dataframe\">\n",
       "  <thead>\n",
       "    <tr style=\"text-align: right;\">\n",
       "      <th></th>\n",
       "      <th>First Name</th>\n",
       "      <th>Gender</th>\n",
       "      <th>Start Date</th>\n",
       "      <th>Salary</th>\n",
       "      <th>Mgmt</th>\n",
       "      <th>Team</th>\n",
       "    </tr>\n",
       "  </thead>\n",
       "  <tbody>\n",
       "    <tr>\n",
       "      <th>0</th>\n",
       "      <td>Douglas</td>\n",
       "      <td>Male</td>\n",
       "      <td>1993-08-06</td>\n",
       "      <td>NaN</td>\n",
       "      <td>True</td>\n",
       "      <td>Marketing</td>\n",
       "    </tr>\n",
       "    <tr>\n",
       "      <th>1</th>\n",
       "      <td>Thomas</td>\n",
       "      <td>Male</td>\n",
       "      <td>1996-03-31</td>\n",
       "      <td>61933.0</td>\n",
       "      <td>True</td>\n",
       "      <td>NaN</td>\n",
       "    </tr>\n",
       "    <tr>\n",
       "      <th>2</th>\n",
       "      <td>Maria</td>\n",
       "      <td>Female</td>\n",
       "      <td>NaT</td>\n",
       "      <td>130590.0</td>\n",
       "      <td>False</td>\n",
       "      <td>Finance</td>\n",
       "    </tr>\n",
       "    <tr>\n",
       "      <th>3</th>\n",
       "      <td>Jerry</td>\n",
       "      <td>NaN</td>\n",
       "      <td>2005-03-04</td>\n",
       "      <td>138705.0</td>\n",
       "      <td>True</td>\n",
       "      <td>Finance</td>\n",
       "    </tr>\n",
       "    <tr>\n",
       "      <th>4</th>\n",
       "      <td>Larry</td>\n",
       "      <td>Male</td>\n",
       "      <td>1998-01-24</td>\n",
       "      <td>101004.0</td>\n",
       "      <td>True</td>\n",
       "      <td>IT</td>\n",
       "    </tr>\n",
       "  </tbody>\n",
       "</table>\n",
       "</div>"
      ],
      "text/plain": [
       "  First Name  Gender Start Date    Salary   Mgmt       Team\n",
       "0    Douglas    Male 1993-08-06       NaN   True  Marketing\n",
       "1     Thomas    Male 1996-03-31   61933.0   True        NaN\n",
       "2      Maria  Female        NaT  130590.0  False    Finance\n",
       "3      Jerry     NaN 2005-03-04  138705.0   True    Finance\n",
       "4      Larry    Male 1998-01-24  101004.0   True         IT"
      ]
     },
     "execution_count": 7,
     "metadata": {},
     "output_type": "execute_result"
    }
   ],
   "source": [
    "df_employees.head()"
   ]
  },
  {
   "cell_type": "markdown",
   "id": "8dd71cde",
   "metadata": {},
   "source": [
    "**Convert datetime into the object to cut the time from the data**"
   ]
  },
  {
   "cell_type": "code",
   "execution_count": 8,
   "id": "2d984e5e",
   "metadata": {},
   "outputs": [],
   "source": [
    "df_employees['Start Date'] = df_employees['Start Date'].dt.strftime('%Y-%m-%d')"
   ]
  },
  {
   "cell_type": "code",
   "execution_count": 9,
   "id": "c32e73f7",
   "metadata": {},
   "outputs": [
    {
     "name": "stdout",
     "output_type": "stream",
     "text": [
      "<class 'pandas.core.frame.DataFrame'>\n",
      "RangeIndex: 1001 entries, 0 to 1000\n",
      "Data columns (total 6 columns):\n",
      " #   Column      Non-Null Count  Dtype  \n",
      "---  ------      --------------  -----  \n",
      " 0   First Name  933 non-null    object \n",
      " 1   Gender      854 non-null    object \n",
      " 2   Start Date  999 non-null    object \n",
      " 3   Salary      999 non-null    float64\n",
      " 4   Mgmt        933 non-null    object \n",
      " 5   Team        957 non-null    object \n",
      "dtypes: float64(1), object(5)\n",
      "memory usage: 47.1+ KB\n"
     ]
    }
   ],
   "source": [
    "df_employees.info()"
   ]
  },
  {
   "cell_type": "markdown",
   "id": "877c8e67",
   "metadata": {},
   "source": [
    "**memory usage: 47.1+ KB**"
   ]
  },
  {
   "cell_type": "markdown",
   "id": "7c670910",
   "metadata": {},
   "source": [
    "### Converting Data Types with the astype Method"
   ]
  },
  {
   "cell_type": "code",
   "execution_count": 10,
   "id": "8ba5d9f1",
   "metadata": {},
   "outputs": [
    {
     "data": {
      "application/vnd.microsoft.datawrangler.viewer.v0+json": {
       "columns": [
        {
         "name": "index",
         "rawType": "int64",
         "type": "integer"
        },
        {
         "name": "Mgmt",
         "rawType": "bool",
         "type": "boolean"
        }
       ],
       "ref": "41a44def-0f41-4224-9381-aa22e121a107",
       "rows": [
        [
         "996",
         "False"
        ],
        [
         "997",
         "False"
        ],
        [
         "998",
         "False"
        ],
        [
         "999",
         "True"
        ],
        [
         "1000",
         "True"
        ]
       ],
       "shape": {
        "columns": 1,
        "rows": 5
       }
      },
      "text/plain": [
       "996     False\n",
       "997     False\n",
       "998     False\n",
       "999      True\n",
       "1000     True\n",
       "Name: Mgmt, dtype: bool"
      ]
     },
     "execution_count": 10,
     "metadata": {},
     "output_type": "execute_result"
    }
   ],
   "source": [
    "df_employees['Mgmt'].astype('bool').tail()"
   ]
  },
  {
   "cell_type": "markdown",
   "id": "4b5eb0ac",
   "metadata": {},
   "source": [
    "**Convert object type into the bool type and see results in the size**"
   ]
  },
  {
   "cell_type": "code",
   "execution_count": 11,
   "id": "2818513b",
   "metadata": {},
   "outputs": [],
   "source": [
    "df_employees['Mgmt'] = df_employees['Mgmt'].astype('bool')"
   ]
  },
  {
   "cell_type": "code",
   "execution_count": 12,
   "id": "84e7e519",
   "metadata": {},
   "outputs": [
    {
     "name": "stdout",
     "output_type": "stream",
     "text": [
      "<class 'pandas.core.frame.DataFrame'>\n",
      "RangeIndex: 1001 entries, 0 to 1000\n",
      "Data columns (total 6 columns):\n",
      " #   Column      Non-Null Count  Dtype  \n",
      "---  ------      --------------  -----  \n",
      " 0   First Name  933 non-null    object \n",
      " 1   Gender      854 non-null    object \n",
      " 2   Start Date  999 non-null    object \n",
      " 3   Salary      999 non-null    float64\n",
      " 4   Mgmt        1001 non-null   bool   \n",
      " 5   Team        957 non-null    object \n",
      "dtypes: bool(1), float64(1), object(4)\n",
      "memory usage: 40.2+ KB\n"
     ]
    }
   ],
   "source": [
    "df_employees.info()"
   ]
  },
  {
   "cell_type": "markdown",
   "id": "851b89c9",
   "metadata": {},
   "source": [
    "**memory usage: 40.2+ KB**"
   ]
  },
  {
   "cell_type": "markdown",
   "id": "2df438ab",
   "metadata": {},
   "source": [
    "### Convert into the integer type"
   ]
  },
  {
   "cell_type": "markdown",
   "id": "5d6b45a7",
   "metadata": {},
   "source": [
    "**The Salary column contains NaN values**"
   ]
  },
  {
   "cell_type": "code",
   "execution_count": 13,
   "id": "8719f531",
   "metadata": {},
   "outputs": [
    {
     "data": {
      "text/plain": [
       "2"
      ]
     },
     "execution_count": 13,
     "metadata": {},
     "output_type": "execute_result"
    }
   ],
   "source": [
    "df_employees['Salary'].isna().sum()"
   ]
  },
  {
   "cell_type": "markdown",
   "id": "3d161a13",
   "metadata": {},
   "source": [
    "**Replace NaN values by 0**"
   ]
  },
  {
   "cell_type": "code",
   "execution_count": 14,
   "id": "b6d9996c",
   "metadata": {},
   "outputs": [],
   "source": [
    "df_employees['Salary']= df_employees['Salary'].fillna(0)"
   ]
  },
  {
   "cell_type": "code",
   "execution_count": 15,
   "id": "9850051a",
   "metadata": {},
   "outputs": [],
   "source": [
    "df_employees['Salary']=df_employees['Salary'].astype('int')"
   ]
  },
  {
   "cell_type": "code",
   "execution_count": 16,
   "id": "9f18a480",
   "metadata": {},
   "outputs": [
    {
     "data": {
      "application/vnd.microsoft.datawrangler.viewer.v0+json": {
       "columns": [
        {
         "name": "index",
         "rawType": "int64",
         "type": "integer"
        },
        {
         "name": "Salary",
         "rawType": "int64",
         "type": "integer"
        }
       ],
       "ref": "84770371-937d-4bf3-b980-1a6de2270d3f",
       "rows": [
        [
         "0",
         "0"
        ],
        [
         "1",
         "61933"
        ],
        [
         "2",
         "130590"
        ],
        [
         "3",
         "138705"
        ],
        [
         "4",
         "101004"
        ]
       ],
       "shape": {
        "columns": 1,
        "rows": 5
       }
      },
      "text/plain": [
       "0         0\n",
       "1     61933\n",
       "2    130590\n",
       "3    138705\n",
       "4    101004\n",
       "Name: Salary, dtype: int64"
      ]
     },
     "execution_count": 16,
     "metadata": {},
     "output_type": "execute_result"
    }
   ],
   "source": [
    "df_employees['Salary'].head()"
   ]
  },
  {
   "cell_type": "code",
   "execution_count": 17,
   "id": "ff81cef5",
   "metadata": {},
   "outputs": [
    {
     "name": "stdout",
     "output_type": "stream",
     "text": [
      "<class 'pandas.core.frame.DataFrame'>\n",
      "RangeIndex: 1001 entries, 0 to 1000\n",
      "Data columns (total 6 columns):\n",
      " #   Column      Non-Null Count  Dtype \n",
      "---  ------      --------------  ----- \n",
      " 0   First Name  933 non-null    object\n",
      " 1   Gender      854 non-null    object\n",
      " 2   Start Date  999 non-null    object\n",
      " 3   Salary      1001 non-null   int64 \n",
      " 4   Mgmt        1001 non-null   bool  \n",
      " 5   Team        957 non-null    object\n",
      "dtypes: bool(1), int64(1), object(4)\n",
      "memory usage: 40.2+ KB\n"
     ]
    }
   ],
   "source": [
    "df_employees.info()"
   ]
  },
  {
   "cell_type": "markdown",
   "id": "0622ec25",
   "metadata": {},
   "source": [
    "**The memory might be reduced more using INT32**"
   ]
  },
  {
   "cell_type": "markdown",
   "id": "63803698",
   "metadata": {},
   "source": [
    "**Check max value**"
   ]
  },
  {
   "cell_type": "code",
   "execution_count": 18,
   "id": "c3e09ebd",
   "metadata": {},
   "outputs": [
    {
     "data": {
      "text/plain": [
       "149908"
      ]
     },
     "execution_count": 18,
     "metadata": {},
     "output_type": "execute_result"
    }
   ],
   "source": [
    "df_employees['Salary'].max()"
   ]
  },
  {
   "cell_type": "code",
   "execution_count": 19,
   "id": "e60a6eaa",
   "metadata": {},
   "outputs": [],
   "source": [
    "df_employees['Salary']=df_employees['Salary'].astype('int32')"
   ]
  },
  {
   "cell_type": "code",
   "execution_count": 20,
   "id": "6a5aae2c",
   "metadata": {},
   "outputs": [
    {
     "name": "stdout",
     "output_type": "stream",
     "text": [
      "<class 'pandas.core.frame.DataFrame'>\n",
      "RangeIndex: 1001 entries, 0 to 1000\n",
      "Data columns (total 6 columns):\n",
      " #   Column      Non-Null Count  Dtype \n",
      "---  ------      --------------  ----- \n",
      " 0   First Name  933 non-null    object\n",
      " 1   Gender      854 non-null    object\n",
      " 2   Start Date  999 non-null    object\n",
      " 3   Salary      1001 non-null   int32 \n",
      " 4   Mgmt        1001 non-null   bool  \n",
      " 5   Team        957 non-null    object\n",
      "dtypes: bool(1), int32(1), object(4)\n",
      "memory usage: 36.3+ KB\n"
     ]
    }
   ],
   "source": [
    "df_employees.info()"
   ]
  },
  {
   "cell_type": "code",
   "execution_count": 21,
   "id": "e7207039",
   "metadata": {},
   "outputs": [
    {
     "data": {
      "text/plain": [
       "149908"
      ]
     },
     "execution_count": 21,
     "metadata": {},
     "output_type": "execute_result"
    }
   ],
   "source": [
    "df_employees['Salary'].max()"
   ]
  },
  {
   "cell_type": "code",
   "execution_count": 22,
   "id": "dc192180",
   "metadata": {},
   "outputs": [
    {
     "data": {
      "application/vnd.microsoft.datawrangler.viewer.v0+json": {
       "columns": [
        {
         "name": "index",
         "rawType": "int64",
         "type": "integer"
        },
        {
         "name": "Salary",
         "rawType": "int32",
         "type": "integer"
        }
       ],
       "ref": "beb2ae32-ecc2-4985-bcae-c02a2b9b6f5a",
       "rows": [
        [
         "0",
         "0"
        ],
        [
         "1",
         "61933"
        ],
        [
         "2",
         "130590"
        ],
        [
         "3",
         "138705"
        ],
        [
         "4",
         "101004"
        ]
       ],
       "shape": {
        "columns": 1,
        "rows": 5
       }
      },
      "text/plain": [
       "0         0\n",
       "1     61933\n",
       "2    130590\n",
       "3    138705\n",
       "4    101004\n",
       "Name: Salary, dtype: int32"
      ]
     },
     "execution_count": 22,
     "metadata": {},
     "output_type": "execute_result"
    }
   ],
   "source": [
    "df_employees['Salary'].head()"
   ]
  },
  {
   "cell_type": "markdown",
   "id": "2fc1f636",
   "metadata": {},
   "source": [
    "**memory usage: 36.3+ KB**"
   ]
  },
  {
   "cell_type": "markdown",
   "id": "3721fd02",
   "metadata": {},
   "source": [
    "### Convert into categorical type"
   ]
  },
  {
   "cell_type": "markdown",
   "id": "1d8dd908",
   "metadata": {},
   "source": [
    "**Check unique values in the Dataframe** "
   ]
  },
  {
   "cell_type": "code",
   "execution_count": 23,
   "id": "ccfb1205",
   "metadata": {},
   "outputs": [
    {
     "data": {
      "application/vnd.microsoft.datawrangler.viewer.v0+json": {
       "columns": [
        {
         "name": "index",
         "rawType": "object",
         "type": "string"
        },
        {
         "name": "0",
         "rawType": "int64",
         "type": "integer"
        }
       ],
       "ref": "29e723d0-53ab-47e2-b64a-18d108c08a2e",
       "rows": [
        [
         "First Name",
         "200"
        ],
        [
         "Gender",
         "2"
        ],
        [
         "Start Date",
         "971"
        ],
        [
         "Salary",
         "995"
        ],
        [
         "Mgmt",
         "2"
        ],
        [
         "Team",
         "10"
        ]
       ],
       "shape": {
        "columns": 1,
        "rows": 6
       }
      },
      "text/plain": [
       "First Name    200\n",
       "Gender          2\n",
       "Start Date    971\n",
       "Salary        995\n",
       "Mgmt            2\n",
       "Team           10\n",
       "dtype: int64"
      ]
     },
     "execution_count": 23,
     "metadata": {},
     "output_type": "execute_result"
    }
   ],
   "source": [
    "df_employees.nunique()"
   ]
  },
  {
   "cell_type": "markdown",
   "id": "1145146d",
   "metadata": {},
   "source": [
    "**The Gender column contains only 2 unique values** "
   ]
  },
  {
   "cell_type": "code",
   "execution_count": 24,
   "id": "3fc99d4c",
   "metadata": {},
   "outputs": [
    {
     "data": {
      "application/vnd.microsoft.datawrangler.viewer.v0+json": {
       "columns": [
        {
         "name": "index",
         "rawType": "int64",
         "type": "integer"
        },
        {
         "name": "Gender",
         "rawType": "category",
         "type": "unknown"
        }
       ],
       "ref": "981854fd-10d6-4b77-b086-2a5492e41048",
       "rows": [
        [
         "0",
         "Male"
        ],
        [
         "1",
         "Male"
        ],
        [
         "2",
         "Female"
        ],
        [
         "3",
         null
        ],
        [
         "4",
         "Male"
        ]
       ],
       "shape": {
        "columns": 1,
        "rows": 5
       }
      },
      "text/plain": [
       "0      Male\n",
       "1      Male\n",
       "2    Female\n",
       "3       NaN\n",
       "4      Male\n",
       "Name: Gender, dtype: category\n",
       "Categories (2, object): ['Female', 'Male']"
      ]
     },
     "execution_count": 24,
     "metadata": {},
     "output_type": "execute_result"
    }
   ],
   "source": [
    "df_employees['Gender'].astype('category').head()"
   ]
  },
  {
   "cell_type": "code",
   "execution_count": 25,
   "id": "ddbc0f81",
   "metadata": {},
   "outputs": [],
   "source": [
    "df_employees['Gender'] = df_employees['Gender'].astype('category')"
   ]
  },
  {
   "cell_type": "markdown",
   "id": "2c6cffab",
   "metadata": {},
   "source": [
    "**Convert Team column type**"
   ]
  },
  {
   "cell_type": "code",
   "execution_count": 26,
   "id": "dbb68d96",
   "metadata": {},
   "outputs": [],
   "source": [
    "df_employees['Team'] = df_employees['Team'].astype('category')"
   ]
  },
  {
   "cell_type": "code",
   "execution_count": 27,
   "id": "fe273c10",
   "metadata": {},
   "outputs": [
    {
     "name": "stdout",
     "output_type": "stream",
     "text": [
      "<class 'pandas.core.frame.DataFrame'>\n",
      "RangeIndex: 1001 entries, 0 to 1000\n",
      "Data columns (total 6 columns):\n",
      " #   Column      Non-Null Count  Dtype   \n",
      "---  ------      --------------  -----   \n",
      " 0   First Name  933 non-null    object  \n",
      " 1   Gender      854 non-null    category\n",
      " 2   Start Date  999 non-null    object  \n",
      " 3   Salary      1001 non-null   int32   \n",
      " 4   Mgmt        1001 non-null   bool    \n",
      " 5   Team        957 non-null    category\n",
      "dtypes: bool(1), category(2), int32(1), object(2)\n",
      "memory usage: 23.1+ KB\n"
     ]
    }
   ],
   "source": [
    "df_employees.info()"
   ]
  },
  {
   "cell_type": "markdown",
   "id": "acf78053",
   "metadata": {},
   "source": [
    "**memory usage: 23.1+ KB**"
   ]
  },
  {
   "cell_type": "markdown",
   "id": "57a9cb8d",
   "metadata": {},
   "source": [
    "**The Dataframe size has been decreased from 47.1+ KB to 23.1+ KB approximately 50%**"
   ]
  },
  {
   "cell_type": "markdown",
   "id": "978a3ce4",
   "metadata": {},
   "source": [
    "### Filtering by a Single Condition"
   ]
  },
  {
   "cell_type": "code",
   "execution_count": 28,
   "id": "de40d133",
   "metadata": {},
   "outputs": [
    {
     "data": {
      "text/plain": [
       "True"
      ]
     },
     "execution_count": 28,
     "metadata": {},
     "output_type": "execute_result"
    }
   ],
   "source": [
    "\"Maria\" == \"Maria\""
   ]
  },
  {
   "cell_type": "code",
   "execution_count": 29,
   "id": "e00a7289",
   "metadata": {},
   "outputs": [
    {
     "data": {
      "text/plain": [
       "False"
      ]
     },
     "execution_count": 29,
     "metadata": {},
     "output_type": "execute_result"
    }
   ],
   "source": [
    "\"Maria\" == \"Taylor\""
   ]
  },
  {
   "cell_type": "markdown",
   "id": "486f0ab4",
   "metadata": {},
   "source": [
    "**Check the column First Name**"
   ]
  },
  {
   "cell_type": "code",
   "execution_count": 30,
   "id": "31bcc72c",
   "metadata": {},
   "outputs": [
    {
     "data": {
      "application/vnd.microsoft.datawrangler.viewer.v0+json": {
       "columns": [
        {
         "name": "index",
         "rawType": "int64",
         "type": "integer"
        },
        {
         "name": "First Name",
         "rawType": "bool",
         "type": "boolean"
        }
       ],
       "ref": "b9724a43-c23f-4363-ba93-4d0773188389",
       "rows": [
        [
         "0",
         "False"
        ],
        [
         "1",
         "False"
        ],
        [
         "2",
         "True"
        ],
        [
         "3",
         "False"
        ],
        [
         "4",
         "False"
        ],
        [
         "5",
         "False"
        ],
        [
         "6",
         "False"
        ],
        [
         "7",
         "False"
        ],
        [
         "8",
         "False"
        ],
        [
         "9",
         "False"
        ],
        [
         "10",
         "False"
        ],
        [
         "11",
         "False"
        ],
        [
         "12",
         "False"
        ],
        [
         "13",
         "False"
        ],
        [
         "14",
         "False"
        ],
        [
         "15",
         "False"
        ],
        [
         "16",
         "False"
        ],
        [
         "17",
         "False"
        ],
        [
         "18",
         "False"
        ],
        [
         "19",
         "False"
        ],
        [
         "20",
         "False"
        ],
        [
         "21",
         "False"
        ],
        [
         "22",
         "False"
        ],
        [
         "23",
         "False"
        ],
        [
         "24",
         "False"
        ],
        [
         "25",
         "False"
        ],
        [
         "26",
         "False"
        ],
        [
         "27",
         "False"
        ],
        [
         "28",
         "False"
        ],
        [
         "29",
         "False"
        ],
        [
         "30",
         "False"
        ],
        [
         "31",
         "False"
        ],
        [
         "32",
         "False"
        ],
        [
         "33",
         "False"
        ],
        [
         "34",
         "False"
        ],
        [
         "35",
         "False"
        ],
        [
         "36",
         "False"
        ],
        [
         "37",
         "False"
        ],
        [
         "38",
         "False"
        ],
        [
         "39",
         "False"
        ],
        [
         "40",
         "False"
        ],
        [
         "41",
         "False"
        ],
        [
         "42",
         "False"
        ],
        [
         "43",
         "False"
        ],
        [
         "44",
         "False"
        ],
        [
         "45",
         "False"
        ],
        [
         "46",
         "False"
        ],
        [
         "47",
         "False"
        ],
        [
         "48",
         "False"
        ],
        [
         "49",
         "False"
        ]
       ],
       "shape": {
        "columns": 1,
        "rows": 1001
       }
      },
      "text/plain": [
       "0       False\n",
       "1       False\n",
       "2        True\n",
       "3       False\n",
       "4       False\n",
       "        ...  \n",
       "996     False\n",
       "997     False\n",
       "998     False\n",
       "999     False\n",
       "1000    False\n",
       "Name: First Name, Length: 1001, dtype: bool"
      ]
     },
     "execution_count": 30,
     "metadata": {},
     "output_type": "execute_result"
    }
   ],
   "source": [
    "df_employees[\"First Name\"] == \"Maria\""
   ]
  },
  {
   "cell_type": "markdown",
   "id": "6a599f4c",
   "metadata": {},
   "source": [
    "**Select rows where \"First Name\" == \"Maria\"**"
   ]
  },
  {
   "cell_type": "code",
   "execution_count": 31,
   "id": "4708d2f6",
   "metadata": {},
   "outputs": [
    {
     "data": {
      "application/vnd.microsoft.datawrangler.viewer.v0+json": {
       "columns": [
        {
         "name": "index",
         "rawType": "int64",
         "type": "integer"
        },
        {
         "name": "First Name",
         "rawType": "object",
         "type": "string"
        },
        {
         "name": "Gender",
         "rawType": "category",
         "type": "unknown"
        },
        {
         "name": "Start Date",
         "rawType": "object",
         "type": "unknown"
        },
        {
         "name": "Salary",
         "rawType": "int32",
         "type": "integer"
        },
        {
         "name": "Mgmt",
         "rawType": "bool",
         "type": "boolean"
        },
        {
         "name": "Team",
         "rawType": "category",
         "type": "unknown"
        }
       ],
       "ref": "582a404c-8ac6-4512-864e-0471a08abc1a",
       "rows": [
        [
         "2",
         "Maria",
         "Female",
         null,
         "130590",
         "False",
         "Finance"
        ],
        [
         "198",
         "Maria",
         "Female",
         "1990-12-27",
         "36067",
         "True",
         "Product"
        ],
        [
         "815",
         "Maria",
         null,
         "1986-01-18",
         "106562",
         "False",
         "HR"
        ],
        [
         "844",
         "Maria",
         null,
         "1985-06-19",
         "148857",
         "False",
         "Legal"
        ],
        [
         "936",
         "Maria",
         "Female",
         "2003-03-14",
         "96250",
         "False",
         "Business Dev"
        ],
        [
         "984",
         "Maria",
         "Female",
         "2011-10-15",
         "43455",
         "False",
         "Engineering"
        ]
       ],
       "shape": {
        "columns": 6,
        "rows": 6
       }
      },
      "text/html": [
       "<div>\n",
       "<style scoped>\n",
       "    .dataframe tbody tr th:only-of-type {\n",
       "        vertical-align: middle;\n",
       "    }\n",
       "\n",
       "    .dataframe tbody tr th {\n",
       "        vertical-align: top;\n",
       "    }\n",
       "\n",
       "    .dataframe thead th {\n",
       "        text-align: right;\n",
       "    }\n",
       "</style>\n",
       "<table border=\"1\" class=\"dataframe\">\n",
       "  <thead>\n",
       "    <tr style=\"text-align: right;\">\n",
       "      <th></th>\n",
       "      <th>First Name</th>\n",
       "      <th>Gender</th>\n",
       "      <th>Start Date</th>\n",
       "      <th>Salary</th>\n",
       "      <th>Mgmt</th>\n",
       "      <th>Team</th>\n",
       "    </tr>\n",
       "  </thead>\n",
       "  <tbody>\n",
       "    <tr>\n",
       "      <th>2</th>\n",
       "      <td>Maria</td>\n",
       "      <td>Female</td>\n",
       "      <td>NaN</td>\n",
       "      <td>130590</td>\n",
       "      <td>False</td>\n",
       "      <td>Finance</td>\n",
       "    </tr>\n",
       "    <tr>\n",
       "      <th>198</th>\n",
       "      <td>Maria</td>\n",
       "      <td>Female</td>\n",
       "      <td>1990-12-27</td>\n",
       "      <td>36067</td>\n",
       "      <td>True</td>\n",
       "      <td>Product</td>\n",
       "    </tr>\n",
       "    <tr>\n",
       "      <th>815</th>\n",
       "      <td>Maria</td>\n",
       "      <td>NaN</td>\n",
       "      <td>1986-01-18</td>\n",
       "      <td>106562</td>\n",
       "      <td>False</td>\n",
       "      <td>HR</td>\n",
       "    </tr>\n",
       "    <tr>\n",
       "      <th>844</th>\n",
       "      <td>Maria</td>\n",
       "      <td>NaN</td>\n",
       "      <td>1985-06-19</td>\n",
       "      <td>148857</td>\n",
       "      <td>False</td>\n",
       "      <td>Legal</td>\n",
       "    </tr>\n",
       "    <tr>\n",
       "      <th>936</th>\n",
       "      <td>Maria</td>\n",
       "      <td>Female</td>\n",
       "      <td>2003-03-14</td>\n",
       "      <td>96250</td>\n",
       "      <td>False</td>\n",
       "      <td>Business Dev</td>\n",
       "    </tr>\n",
       "    <tr>\n",
       "      <th>984</th>\n",
       "      <td>Maria</td>\n",
       "      <td>Female</td>\n",
       "      <td>2011-10-15</td>\n",
       "      <td>43455</td>\n",
       "      <td>False</td>\n",
       "      <td>Engineering</td>\n",
       "    </tr>\n",
       "  </tbody>\n",
       "</table>\n",
       "</div>"
      ],
      "text/plain": [
       "    First Name  Gender  Start Date  Salary   Mgmt          Team\n",
       "2        Maria  Female         NaN  130590  False       Finance\n",
       "198      Maria  Female  1990-12-27   36067   True       Product\n",
       "815      Maria     NaN  1986-01-18  106562  False            HR\n",
       "844      Maria     NaN  1985-06-19  148857  False         Legal\n",
       "936      Maria  Female  2003-03-14   96250  False  Business Dev\n",
       "984      Maria  Female  2011-10-15   43455  False   Engineering"
      ]
     },
     "execution_count": 31,
     "metadata": {},
     "output_type": "execute_result"
    }
   ],
   "source": [
    "df_employees[df_employees[\"First Name\"] == \"Maria\"]"
   ]
  },
  {
   "cell_type": "markdown",
   "id": "098406fd",
   "metadata": {},
   "source": [
    "**Create a filter for Dataframe**"
   ]
  },
  {
   "cell_type": "code",
   "execution_count": 32,
   "id": "259cfebc",
   "metadata": {},
   "outputs": [
    {
     "data": {
      "application/vnd.microsoft.datawrangler.viewer.v0+json": {
       "columns": [
        {
         "name": "index",
         "rawType": "int64",
         "type": "integer"
        },
        {
         "name": "First Name",
         "rawType": "object",
         "type": "string"
        },
        {
         "name": "Gender",
         "rawType": "category",
         "type": "unknown"
        },
        {
         "name": "Start Date",
         "rawType": "object",
         "type": "unknown"
        },
        {
         "name": "Salary",
         "rawType": "int32",
         "type": "integer"
        },
        {
         "name": "Mgmt",
         "rawType": "bool",
         "type": "boolean"
        },
        {
         "name": "Team",
         "rawType": "category",
         "type": "unknown"
        }
       ],
       "ref": "90ee0259-33ec-4ec9-b17f-6aea1cafb981",
       "rows": [
        [
         "2",
         "Maria",
         "Female",
         null,
         "130590",
         "False",
         "Finance"
        ],
        [
         "198",
         "Maria",
         "Female",
         "1990-12-27",
         "36067",
         "True",
         "Product"
        ],
        [
         "815",
         "Maria",
         null,
         "1986-01-18",
         "106562",
         "False",
         "HR"
        ],
        [
         "844",
         "Maria",
         null,
         "1985-06-19",
         "148857",
         "False",
         "Legal"
        ],
        [
         "936",
         "Maria",
         "Female",
         "2003-03-14",
         "96250",
         "False",
         "Business Dev"
        ],
        [
         "984",
         "Maria",
         "Female",
         "2011-10-15",
         "43455",
         "False",
         "Engineering"
        ]
       ],
       "shape": {
        "columns": 6,
        "rows": 6
       }
      },
      "text/html": [
       "<div>\n",
       "<style scoped>\n",
       "    .dataframe tbody tr th:only-of-type {\n",
       "        vertical-align: middle;\n",
       "    }\n",
       "\n",
       "    .dataframe tbody tr th {\n",
       "        vertical-align: top;\n",
       "    }\n",
       "\n",
       "    .dataframe thead th {\n",
       "        text-align: right;\n",
       "    }\n",
       "</style>\n",
       "<table border=\"1\" class=\"dataframe\">\n",
       "  <thead>\n",
       "    <tr style=\"text-align: right;\">\n",
       "      <th></th>\n",
       "      <th>First Name</th>\n",
       "      <th>Gender</th>\n",
       "      <th>Start Date</th>\n",
       "      <th>Salary</th>\n",
       "      <th>Mgmt</th>\n",
       "      <th>Team</th>\n",
       "    </tr>\n",
       "  </thead>\n",
       "  <tbody>\n",
       "    <tr>\n",
       "      <th>2</th>\n",
       "      <td>Maria</td>\n",
       "      <td>Female</td>\n",
       "      <td>NaN</td>\n",
       "      <td>130590</td>\n",
       "      <td>False</td>\n",
       "      <td>Finance</td>\n",
       "    </tr>\n",
       "    <tr>\n",
       "      <th>198</th>\n",
       "      <td>Maria</td>\n",
       "      <td>Female</td>\n",
       "      <td>1990-12-27</td>\n",
       "      <td>36067</td>\n",
       "      <td>True</td>\n",
       "      <td>Product</td>\n",
       "    </tr>\n",
       "    <tr>\n",
       "      <th>815</th>\n",
       "      <td>Maria</td>\n",
       "      <td>NaN</td>\n",
       "      <td>1986-01-18</td>\n",
       "      <td>106562</td>\n",
       "      <td>False</td>\n",
       "      <td>HR</td>\n",
       "    </tr>\n",
       "    <tr>\n",
       "      <th>844</th>\n",
       "      <td>Maria</td>\n",
       "      <td>NaN</td>\n",
       "      <td>1985-06-19</td>\n",
       "      <td>148857</td>\n",
       "      <td>False</td>\n",
       "      <td>Legal</td>\n",
       "    </tr>\n",
       "    <tr>\n",
       "      <th>936</th>\n",
       "      <td>Maria</td>\n",
       "      <td>Female</td>\n",
       "      <td>2003-03-14</td>\n",
       "      <td>96250</td>\n",
       "      <td>False</td>\n",
       "      <td>Business Dev</td>\n",
       "    </tr>\n",
       "    <tr>\n",
       "      <th>984</th>\n",
       "      <td>Maria</td>\n",
       "      <td>Female</td>\n",
       "      <td>2011-10-15</td>\n",
       "      <td>43455</td>\n",
       "      <td>False</td>\n",
       "      <td>Engineering</td>\n",
       "    </tr>\n",
       "  </tbody>\n",
       "</table>\n",
       "</div>"
      ],
      "text/plain": [
       "    First Name  Gender  Start Date  Salary   Mgmt          Team\n",
       "2        Maria  Female         NaN  130590  False       Finance\n",
       "198      Maria  Female  1990-12-27   36067   True       Product\n",
       "815      Maria     NaN  1986-01-18  106562  False            HR\n",
       "844      Maria     NaN  1985-06-19  148857  False         Legal\n",
       "936      Maria  Female  2003-03-14   96250  False  Business Dev\n",
       "984      Maria  Female  2011-10-15   43455  False   Engineering"
      ]
     },
     "execution_count": 32,
     "metadata": {},
     "output_type": "execute_result"
    }
   ],
   "source": [
    "marias = df_employees[\"First Name\"] == \"Maria\"\n",
    "df_employees[marias]"
   ]
  },
  {
   "cell_type": "markdown",
   "id": "2544207a",
   "metadata": {},
   "source": [
    "**Create a filter and find Top 5 Salary > 100000**"
   ]
  },
  {
   "cell_type": "code",
   "execution_count": 33,
   "id": "56f104b6",
   "metadata": {},
   "outputs": [
    {
     "data": {
      "application/vnd.microsoft.datawrangler.viewer.v0+json": {
       "columns": [
        {
         "name": "index",
         "rawType": "int64",
         "type": "integer"
        },
        {
         "name": "First Name",
         "rawType": "object",
         "type": "unknown"
        },
        {
         "name": "Gender",
         "rawType": "category",
         "type": "unknown"
        },
        {
         "name": "Start Date",
         "rawType": "object",
         "type": "string"
        },
        {
         "name": "Salary",
         "rawType": "int32",
         "type": "integer"
        },
        {
         "name": "Mgmt",
         "rawType": "bool",
         "type": "boolean"
        },
        {
         "name": "Team",
         "rawType": "category",
         "type": "unknown"
        }
       ],
       "ref": "1193cc81-a151-4058-abb0-59a5ba90bd4d",
       "rows": [
        [
         "644",
         "Katherine",
         "Female",
         "1996-08-13",
         "149908",
         "False",
         "Finance"
        ],
        [
         "429",
         "Rose",
         "Female",
         "2015-05-28",
         "149903",
         "False",
         "HR"
        ],
        [
         "828",
         "Cynthia",
         "Female",
         "2006-07-12",
         "149684",
         "False",
         "Product"
        ],
        [
         "186",
         null,
         "Female",
         "2005-02-23",
         "149654",
         "True",
         "Sales"
        ],
        [
         "160",
         "Kathy",
         "Female",
         "2000-03-18",
         "149563",
         "True",
         "Finance"
        ]
       ],
       "shape": {
        "columns": 6,
        "rows": 5
       }
      },
      "text/html": [
       "<div>\n",
       "<style scoped>\n",
       "    .dataframe tbody tr th:only-of-type {\n",
       "        vertical-align: middle;\n",
       "    }\n",
       "\n",
       "    .dataframe tbody tr th {\n",
       "        vertical-align: top;\n",
       "    }\n",
       "\n",
       "    .dataframe thead th {\n",
       "        text-align: right;\n",
       "    }\n",
       "</style>\n",
       "<table border=\"1\" class=\"dataframe\">\n",
       "  <thead>\n",
       "    <tr style=\"text-align: right;\">\n",
       "      <th></th>\n",
       "      <th>First Name</th>\n",
       "      <th>Gender</th>\n",
       "      <th>Start Date</th>\n",
       "      <th>Salary</th>\n",
       "      <th>Mgmt</th>\n",
       "      <th>Team</th>\n",
       "    </tr>\n",
       "  </thead>\n",
       "  <tbody>\n",
       "    <tr>\n",
       "      <th>644</th>\n",
       "      <td>Katherine</td>\n",
       "      <td>Female</td>\n",
       "      <td>1996-08-13</td>\n",
       "      <td>149908</td>\n",
       "      <td>False</td>\n",
       "      <td>Finance</td>\n",
       "    </tr>\n",
       "    <tr>\n",
       "      <th>429</th>\n",
       "      <td>Rose</td>\n",
       "      <td>Female</td>\n",
       "      <td>2015-05-28</td>\n",
       "      <td>149903</td>\n",
       "      <td>False</td>\n",
       "      <td>HR</td>\n",
       "    </tr>\n",
       "    <tr>\n",
       "      <th>828</th>\n",
       "      <td>Cynthia</td>\n",
       "      <td>Female</td>\n",
       "      <td>2006-07-12</td>\n",
       "      <td>149684</td>\n",
       "      <td>False</td>\n",
       "      <td>Product</td>\n",
       "    </tr>\n",
       "    <tr>\n",
       "      <th>186</th>\n",
       "      <td>NaN</td>\n",
       "      <td>Female</td>\n",
       "      <td>2005-02-23</td>\n",
       "      <td>149654</td>\n",
       "      <td>True</td>\n",
       "      <td>Sales</td>\n",
       "    </tr>\n",
       "    <tr>\n",
       "      <th>160</th>\n",
       "      <td>Kathy</td>\n",
       "      <td>Female</td>\n",
       "      <td>2000-03-18</td>\n",
       "      <td>149563</td>\n",
       "      <td>True</td>\n",
       "      <td>Finance</td>\n",
       "    </tr>\n",
       "  </tbody>\n",
       "</table>\n",
       "</div>"
      ],
      "text/plain": [
       "    First Name  Gender  Start Date  Salary   Mgmt     Team\n",
       "644  Katherine  Female  1996-08-13  149908  False  Finance\n",
       "429       Rose  Female  2015-05-28  149903  False       HR\n",
       "828    Cynthia  Female  2006-07-12  149684  False  Product\n",
       "186        NaN  Female  2005-02-23  149654   True    Sales\n",
       "160      Kathy  Female  2000-03-18  149563   True  Finance"
      ]
     },
     "execution_count": 33,
     "metadata": {},
     "output_type": "execute_result"
    }
   ],
   "source": [
    "high_earners = df_employees[\"Salary\"] > 100000\n",
    "df_employees[high_earners].sort_values(by=\"Salary\", ascending=False).head()"
   ]
  },
  {
   "cell_type": "markdown",
   "id": "a68b2659",
   "metadata": {},
   "source": [
    "### Filtering by Multiple Conditions"
   ]
  },
  {
   "cell_type": "markdown",
   "id": "1bad3808",
   "metadata": {},
   "source": [
    "#### Condition and - &"
   ]
  },
  {
   "cell_type": "markdown",
   "id": "d491e9d0",
   "metadata": {},
   "source": [
    "**First condition**"
   ]
  },
  {
   "cell_type": "code",
   "execution_count": 34,
   "id": "986611ab",
   "metadata": {},
   "outputs": [],
   "source": [
    "is_female = df_employees['Gender'] == 'Female'"
   ]
  },
  {
   "cell_type": "markdown",
   "id": "c7e00040",
   "metadata": {},
   "source": [
    "**Second condiotion**"
   ]
  },
  {
   "cell_type": "code",
   "execution_count": 35,
   "id": "92751ec6",
   "metadata": {},
   "outputs": [],
   "source": [
    "in_biz_dev = df_employees['Team'] == \"Business Dev\""
   ]
  },
  {
   "cell_type": "markdown",
   "id": "7aa11341",
   "metadata": {},
   "source": [
    "**Find only women from the Business Development team**"
   ]
  },
  {
   "cell_type": "code",
   "execution_count": 36,
   "id": "925fd97b",
   "metadata": {},
   "outputs": [
    {
     "data": {
      "application/vnd.microsoft.datawrangler.viewer.v0+json": {
       "columns": [
        {
         "name": "index",
         "rawType": "int64",
         "type": "integer"
        },
        {
         "name": "First Name",
         "rawType": "object",
         "type": "string"
        },
        {
         "name": "Gender",
         "rawType": "category",
         "type": "unknown"
        },
        {
         "name": "Start Date",
         "rawType": "object",
         "type": "string"
        },
        {
         "name": "Salary",
         "rawType": "int32",
         "type": "integer"
        },
        {
         "name": "Mgmt",
         "rawType": "bool",
         "type": "boolean"
        },
        {
         "name": "Team",
         "rawType": "category",
         "type": "unknown"
        }
       ],
       "ref": "4e5f9bdc-0e60-4ed1-9567-d7ff21cfbf4e",
       "rows": [
        [
         "9",
         "Frances",
         "Female",
         "2002-08-08",
         "139852",
         "True",
         "Business Dev"
        ],
        [
         "33",
         "Jean",
         "Female",
         "1993-12-18",
         "119082",
         "False",
         "Business Dev"
        ],
        [
         "36",
         "Rachel",
         "Female",
         "2009-02-16",
         "142032",
         "False",
         "Business Dev"
        ],
        [
         "38",
         "Stephanie",
         "Female",
         "1986-09-13",
         "36844",
         "True",
         "Business Dev"
        ],
        [
         "61",
         "Denise",
         "Female",
         "2001-11-06",
         "106862",
         "False",
         "Business Dev"
        ]
       ],
       "shape": {
        "columns": 6,
        "rows": 5
       }
      },
      "text/html": [
       "<div>\n",
       "<style scoped>\n",
       "    .dataframe tbody tr th:only-of-type {\n",
       "        vertical-align: middle;\n",
       "    }\n",
       "\n",
       "    .dataframe tbody tr th {\n",
       "        vertical-align: top;\n",
       "    }\n",
       "\n",
       "    .dataframe thead th {\n",
       "        text-align: right;\n",
       "    }\n",
       "</style>\n",
       "<table border=\"1\" class=\"dataframe\">\n",
       "  <thead>\n",
       "    <tr style=\"text-align: right;\">\n",
       "      <th></th>\n",
       "      <th>First Name</th>\n",
       "      <th>Gender</th>\n",
       "      <th>Start Date</th>\n",
       "      <th>Salary</th>\n",
       "      <th>Mgmt</th>\n",
       "      <th>Team</th>\n",
       "    </tr>\n",
       "  </thead>\n",
       "  <tbody>\n",
       "    <tr>\n",
       "      <th>9</th>\n",
       "      <td>Frances</td>\n",
       "      <td>Female</td>\n",
       "      <td>2002-08-08</td>\n",
       "      <td>139852</td>\n",
       "      <td>True</td>\n",
       "      <td>Business Dev</td>\n",
       "    </tr>\n",
       "    <tr>\n",
       "      <th>33</th>\n",
       "      <td>Jean</td>\n",
       "      <td>Female</td>\n",
       "      <td>1993-12-18</td>\n",
       "      <td>119082</td>\n",
       "      <td>False</td>\n",
       "      <td>Business Dev</td>\n",
       "    </tr>\n",
       "    <tr>\n",
       "      <th>36</th>\n",
       "      <td>Rachel</td>\n",
       "      <td>Female</td>\n",
       "      <td>2009-02-16</td>\n",
       "      <td>142032</td>\n",
       "      <td>False</td>\n",
       "      <td>Business Dev</td>\n",
       "    </tr>\n",
       "    <tr>\n",
       "      <th>38</th>\n",
       "      <td>Stephanie</td>\n",
       "      <td>Female</td>\n",
       "      <td>1986-09-13</td>\n",
       "      <td>36844</td>\n",
       "      <td>True</td>\n",
       "      <td>Business Dev</td>\n",
       "    </tr>\n",
       "    <tr>\n",
       "      <th>61</th>\n",
       "      <td>Denise</td>\n",
       "      <td>Female</td>\n",
       "      <td>2001-11-06</td>\n",
       "      <td>106862</td>\n",
       "      <td>False</td>\n",
       "      <td>Business Dev</td>\n",
       "    </tr>\n",
       "  </tbody>\n",
       "</table>\n",
       "</div>"
      ],
      "text/plain": [
       "   First Name  Gender  Start Date  Salary   Mgmt          Team\n",
       "9     Frances  Female  2002-08-08  139852   True  Business Dev\n",
       "33       Jean  Female  1993-12-18  119082  False  Business Dev\n",
       "36     Rachel  Female  2009-02-16  142032  False  Business Dev\n",
       "38  Stephanie  Female  1986-09-13   36844   True  Business Dev\n",
       "61     Denise  Female  2001-11-06  106862  False  Business Dev"
      ]
     },
     "execution_count": 36,
     "metadata": {},
     "output_type": "execute_result"
    }
   ],
   "source": [
    "df_employees[is_female & in_biz_dev].head()"
   ]
  },
  {
   "cell_type": "code",
   "execution_count": 37,
   "id": "4512bdd1",
   "metadata": {},
   "outputs": [],
   "source": [
    "is_manager = df_employees[\"Mgmt\"]"
   ]
  },
  {
   "cell_type": "markdown",
   "id": "71c53158",
   "metadata": {},
   "source": [
    "**Add more conditionals**"
   ]
  },
  {
   "cell_type": "code",
   "execution_count": 38,
   "id": "522e4bfd",
   "metadata": {},
   "outputs": [
    {
     "data": {
      "application/vnd.microsoft.datawrangler.viewer.v0+json": {
       "columns": [
        {
         "name": "index",
         "rawType": "int64",
         "type": "integer"
        },
        {
         "name": "First Name",
         "rawType": "object",
         "type": "string"
        },
        {
         "name": "Gender",
         "rawType": "category",
         "type": "unknown"
        },
        {
         "name": "Start Date",
         "rawType": "object",
         "type": "string"
        },
        {
         "name": "Salary",
         "rawType": "int32",
         "type": "integer"
        },
        {
         "name": "Mgmt",
         "rawType": "bool",
         "type": "boolean"
        },
        {
         "name": "Team",
         "rawType": "category",
         "type": "unknown"
        }
       ],
       "ref": "49109e04-b9b8-4be8-b82e-cf4a7123dc5b",
       "rows": [
        [
         "9",
         "Frances",
         "Female",
         "2002-08-08",
         "139852",
         "True",
         "Business Dev"
        ],
        [
         "38",
         "Stephanie",
         "Female",
         "1986-09-13",
         "36844",
         "True",
         "Business Dev"
        ],
        [
         "66",
         "Nancy",
         "Female",
         "2012-12-15",
         "125250",
         "True",
         "Business Dev"
        ],
        [
         "92",
         "Linda",
         "Female",
         "2000-05-25",
         "119009",
         "True",
         "Business Dev"
        ],
        [
         "111",
         "Bonnie",
         "Female",
         "1999-12-17",
         "42153",
         "True",
         "Business Dev"
        ]
       ],
       "shape": {
        "columns": 6,
        "rows": 5
       }
      },
      "text/html": [
       "<div>\n",
       "<style scoped>\n",
       "    .dataframe tbody tr th:only-of-type {\n",
       "        vertical-align: middle;\n",
       "    }\n",
       "\n",
       "    .dataframe tbody tr th {\n",
       "        vertical-align: top;\n",
       "    }\n",
       "\n",
       "    .dataframe thead th {\n",
       "        text-align: right;\n",
       "    }\n",
       "</style>\n",
       "<table border=\"1\" class=\"dataframe\">\n",
       "  <thead>\n",
       "    <tr style=\"text-align: right;\">\n",
       "      <th></th>\n",
       "      <th>First Name</th>\n",
       "      <th>Gender</th>\n",
       "      <th>Start Date</th>\n",
       "      <th>Salary</th>\n",
       "      <th>Mgmt</th>\n",
       "      <th>Team</th>\n",
       "    </tr>\n",
       "  </thead>\n",
       "  <tbody>\n",
       "    <tr>\n",
       "      <th>9</th>\n",
       "      <td>Frances</td>\n",
       "      <td>Female</td>\n",
       "      <td>2002-08-08</td>\n",
       "      <td>139852</td>\n",
       "      <td>True</td>\n",
       "      <td>Business Dev</td>\n",
       "    </tr>\n",
       "    <tr>\n",
       "      <th>38</th>\n",
       "      <td>Stephanie</td>\n",
       "      <td>Female</td>\n",
       "      <td>1986-09-13</td>\n",
       "      <td>36844</td>\n",
       "      <td>True</td>\n",
       "      <td>Business Dev</td>\n",
       "    </tr>\n",
       "    <tr>\n",
       "      <th>66</th>\n",
       "      <td>Nancy</td>\n",
       "      <td>Female</td>\n",
       "      <td>2012-12-15</td>\n",
       "      <td>125250</td>\n",
       "      <td>True</td>\n",
       "      <td>Business Dev</td>\n",
       "    </tr>\n",
       "    <tr>\n",
       "      <th>92</th>\n",
       "      <td>Linda</td>\n",
       "      <td>Female</td>\n",
       "      <td>2000-05-25</td>\n",
       "      <td>119009</td>\n",
       "      <td>True</td>\n",
       "      <td>Business Dev</td>\n",
       "    </tr>\n",
       "    <tr>\n",
       "      <th>111</th>\n",
       "      <td>Bonnie</td>\n",
       "      <td>Female</td>\n",
       "      <td>1999-12-17</td>\n",
       "      <td>42153</td>\n",
       "      <td>True</td>\n",
       "      <td>Business Dev</td>\n",
       "    </tr>\n",
       "  </tbody>\n",
       "</table>\n",
       "</div>"
      ],
      "text/plain": [
       "    First Name  Gender  Start Date  Salary  Mgmt          Team\n",
       "9      Frances  Female  2002-08-08  139852  True  Business Dev\n",
       "38   Stephanie  Female  1986-09-13   36844  True  Business Dev\n",
       "66       Nancy  Female  2012-12-15  125250  True  Business Dev\n",
       "92       Linda  Female  2000-05-25  119009  True  Business Dev\n",
       "111     Bonnie  Female  1999-12-17   42153  True  Business Dev"
      ]
     },
     "execution_count": 38,
     "metadata": {},
     "output_type": "execute_result"
    }
   ],
   "source": [
    "df_employees[is_female & in_biz_dev & is_manager].head()"
   ]
  },
  {
   "cell_type": "markdown",
   "id": "8cd6e3ab",
   "metadata": {},
   "source": [
    "#### Condiotional OR - |"
   ]
  },
  {
   "cell_type": "markdown",
   "id": "3221ac06",
   "metadata": {},
   "source": [
    "**Find employees with a salary lower than 40000 or a start date later than 2015-01-01**"
   ]
  },
  {
   "cell_type": "code",
   "execution_count": 39,
   "id": "88cef561",
   "metadata": {},
   "outputs": [],
   "source": [
    "earning_below_40k = df_employees[\"Salary\"] < 40000\n",
    "started_after_2015 = df_employees[\"Start Date\"] > \"2015-01-01\""
   ]
  },
  {
   "cell_type": "code",
   "execution_count": 40,
   "id": "27ae12c9",
   "metadata": {},
   "outputs": [
    {
     "data": {
      "application/vnd.microsoft.datawrangler.viewer.v0+json": {
       "columns": [
        {
         "name": "index",
         "rawType": "int64",
         "type": "integer"
        },
        {
         "name": "First Name",
         "rawType": "object",
         "type": "unknown"
        },
        {
         "name": "Gender",
         "rawType": "category",
         "type": "unknown"
        },
        {
         "name": "Start Date",
         "rawType": "object",
         "type": "unknown"
        },
        {
         "name": "Salary",
         "rawType": "int32",
         "type": "integer"
        },
        {
         "name": "Mgmt",
         "rawType": "bool",
         "type": "boolean"
        },
        {
         "name": "Team",
         "rawType": "category",
         "type": "unknown"
        }
       ],
       "ref": "7b1aa5ce-d126-4e68-9640-7b9317632c63",
       "rows": [
        [
         "958",
         "Gloria",
         "Female",
         "1987-10-24",
         "39833",
         "False",
         "Engineering"
        ],
        [
         "964",
         "Bruce",
         "Male",
         "1980-05-07",
         "35802",
         "True",
         "Sales"
        ],
        [
         "967",
         "Thomas",
         "Male",
         "2016-03-12",
         "105681",
         "False",
         "Engineering"
        ],
        [
         "989",
         "Justin",
         null,
         "1991-02-10",
         "38344",
         "False",
         "Legal"
        ],
        [
         "1000",
         null,
         null,
         null,
         "0",
         "True",
         null
        ]
       ],
       "shape": {
        "columns": 6,
        "rows": 5
       }
      },
      "text/html": [
       "<div>\n",
       "<style scoped>\n",
       "    .dataframe tbody tr th:only-of-type {\n",
       "        vertical-align: middle;\n",
       "    }\n",
       "\n",
       "    .dataframe tbody tr th {\n",
       "        vertical-align: top;\n",
       "    }\n",
       "\n",
       "    .dataframe thead th {\n",
       "        text-align: right;\n",
       "    }\n",
       "</style>\n",
       "<table border=\"1\" class=\"dataframe\">\n",
       "  <thead>\n",
       "    <tr style=\"text-align: right;\">\n",
       "      <th></th>\n",
       "      <th>First Name</th>\n",
       "      <th>Gender</th>\n",
       "      <th>Start Date</th>\n",
       "      <th>Salary</th>\n",
       "      <th>Mgmt</th>\n",
       "      <th>Team</th>\n",
       "    </tr>\n",
       "  </thead>\n",
       "  <tbody>\n",
       "    <tr>\n",
       "      <th>958</th>\n",
       "      <td>Gloria</td>\n",
       "      <td>Female</td>\n",
       "      <td>1987-10-24</td>\n",
       "      <td>39833</td>\n",
       "      <td>False</td>\n",
       "      <td>Engineering</td>\n",
       "    </tr>\n",
       "    <tr>\n",
       "      <th>964</th>\n",
       "      <td>Bruce</td>\n",
       "      <td>Male</td>\n",
       "      <td>1980-05-07</td>\n",
       "      <td>35802</td>\n",
       "      <td>True</td>\n",
       "      <td>Sales</td>\n",
       "    </tr>\n",
       "    <tr>\n",
       "      <th>967</th>\n",
       "      <td>Thomas</td>\n",
       "      <td>Male</td>\n",
       "      <td>2016-03-12</td>\n",
       "      <td>105681</td>\n",
       "      <td>False</td>\n",
       "      <td>Engineering</td>\n",
       "    </tr>\n",
       "    <tr>\n",
       "      <th>989</th>\n",
       "      <td>Justin</td>\n",
       "      <td>NaN</td>\n",
       "      <td>1991-02-10</td>\n",
       "      <td>38344</td>\n",
       "      <td>False</td>\n",
       "      <td>Legal</td>\n",
       "    </tr>\n",
       "    <tr>\n",
       "      <th>1000</th>\n",
       "      <td>NaN</td>\n",
       "      <td>NaN</td>\n",
       "      <td>NaN</td>\n",
       "      <td>0</td>\n",
       "      <td>True</td>\n",
       "      <td>NaN</td>\n",
       "    </tr>\n",
       "  </tbody>\n",
       "</table>\n",
       "</div>"
      ],
      "text/plain": [
       "     First Name  Gender  Start Date  Salary   Mgmt         Team\n",
       "958      Gloria  Female  1987-10-24   39833  False  Engineering\n",
       "964       Bruce    Male  1980-05-07   35802   True        Sales\n",
       "967      Thomas    Male  2016-03-12  105681  False  Engineering\n",
       "989      Justin     NaN  1991-02-10   38344  False        Legal\n",
       "1000        NaN     NaN         NaN       0   True          NaN"
      ]
     },
     "execution_count": 40,
     "metadata": {},
     "output_type": "execute_result"
    }
   ],
   "source": [
    "df_employees[earning_below_40k | started_after_2015].tail()"
   ]
  },
  {
   "cell_type": "markdown",
   "id": "1806aa15",
   "metadata": {},
   "source": [
    "### Logical rejection (~)"
   ]
  },
  {
   "cell_type": "markdown",
   "id": "ddfec727",
   "metadata": {},
   "source": [
    "#### Two same results with different ways of solving"
   ]
  },
  {
   "cell_type": "markdown",
   "id": "402f6bb8",
   "metadata": {},
   "source": [
    "**Salary lower than 100000 - strict conditional**"
   ]
  },
  {
   "cell_type": "code",
   "execution_count": 41,
   "id": "42a578f6",
   "metadata": {},
   "outputs": [
    {
     "data": {
      "application/vnd.microsoft.datawrangler.viewer.v0+json": {
       "columns": [
        {
         "name": "index",
         "rawType": "int64",
         "type": "integer"
        },
        {
         "name": "First Name",
         "rawType": "object",
         "type": "unknown"
        },
        {
         "name": "Gender",
         "rawType": "category",
         "type": "unknown"
        },
        {
         "name": "Start Date",
         "rawType": "object",
         "type": "string"
        },
        {
         "name": "Salary",
         "rawType": "int32",
         "type": "integer"
        },
        {
         "name": "Mgmt",
         "rawType": "bool",
         "type": "boolean"
        },
        {
         "name": "Team",
         "rawType": "category",
         "type": "unknown"
        }
       ],
       "ref": "18019d8a-8dbf-4cde-a0f7-836e649b7567",
       "rows": [
        [
         "0",
         "Douglas",
         "Male",
         "1993-08-06",
         "0",
         "True",
         "Marketing"
        ],
        [
         "1",
         "Thomas",
         "Male",
         "1996-03-31",
         "61933",
         "True",
         null
        ],
        [
         "6",
         "Ruby",
         "Female",
         "1987-08-17",
         "65476",
         "True",
         "Product"
        ],
        [
         "7",
         null,
         "Female",
         "2015-07-20",
         "45906",
         "True",
         "Finance"
        ],
        [
         "8",
         "Angela",
         "Female",
         "2005-11-22",
         "95570",
         "True",
         "Engineering"
        ]
       ],
       "shape": {
        "columns": 6,
        "rows": 5
       }
      },
      "text/html": [
       "<div>\n",
       "<style scoped>\n",
       "    .dataframe tbody tr th:only-of-type {\n",
       "        vertical-align: middle;\n",
       "    }\n",
       "\n",
       "    .dataframe tbody tr th {\n",
       "        vertical-align: top;\n",
       "    }\n",
       "\n",
       "    .dataframe thead th {\n",
       "        text-align: right;\n",
       "    }\n",
       "</style>\n",
       "<table border=\"1\" class=\"dataframe\">\n",
       "  <thead>\n",
       "    <tr style=\"text-align: right;\">\n",
       "      <th></th>\n",
       "      <th>First Name</th>\n",
       "      <th>Gender</th>\n",
       "      <th>Start Date</th>\n",
       "      <th>Salary</th>\n",
       "      <th>Mgmt</th>\n",
       "      <th>Team</th>\n",
       "    </tr>\n",
       "  </thead>\n",
       "  <tbody>\n",
       "    <tr>\n",
       "      <th>0</th>\n",
       "      <td>Douglas</td>\n",
       "      <td>Male</td>\n",
       "      <td>1993-08-06</td>\n",
       "      <td>0</td>\n",
       "      <td>True</td>\n",
       "      <td>Marketing</td>\n",
       "    </tr>\n",
       "    <tr>\n",
       "      <th>1</th>\n",
       "      <td>Thomas</td>\n",
       "      <td>Male</td>\n",
       "      <td>1996-03-31</td>\n",
       "      <td>61933</td>\n",
       "      <td>True</td>\n",
       "      <td>NaN</td>\n",
       "    </tr>\n",
       "    <tr>\n",
       "      <th>6</th>\n",
       "      <td>Ruby</td>\n",
       "      <td>Female</td>\n",
       "      <td>1987-08-17</td>\n",
       "      <td>65476</td>\n",
       "      <td>True</td>\n",
       "      <td>Product</td>\n",
       "    </tr>\n",
       "    <tr>\n",
       "      <th>7</th>\n",
       "      <td>NaN</td>\n",
       "      <td>Female</td>\n",
       "      <td>2015-07-20</td>\n",
       "      <td>45906</td>\n",
       "      <td>True</td>\n",
       "      <td>Finance</td>\n",
       "    </tr>\n",
       "    <tr>\n",
       "      <th>8</th>\n",
       "      <td>Angela</td>\n",
       "      <td>Female</td>\n",
       "      <td>2005-11-22</td>\n",
       "      <td>95570</td>\n",
       "      <td>True</td>\n",
       "      <td>Engineering</td>\n",
       "    </tr>\n",
       "  </tbody>\n",
       "</table>\n",
       "</div>"
      ],
      "text/plain": [
       "  First Name  Gender  Start Date  Salary  Mgmt         Team\n",
       "0    Douglas    Male  1993-08-06       0  True    Marketing\n",
       "1     Thomas    Male  1996-03-31   61933  True          NaN\n",
       "6       Ruby  Female  1987-08-17   65476  True      Product\n",
       "7        NaN  Female  2015-07-20   45906  True      Finance\n",
       "8     Angela  Female  2005-11-22   95570  True  Engineering"
      ]
     },
     "execution_count": 41,
     "metadata": {},
     "output_type": "execute_result"
    }
   ],
   "source": [
    "df_employees[df_employees[\"Salary\"] < 100000].head()"
   ]
  },
  {
   "cell_type": "markdown",
   "id": "1e0e6a5d",
   "metadata": {},
   "source": [
    "**Using logical rejection**"
   ]
  },
  {
   "cell_type": "code",
   "execution_count": 42,
   "id": "ced0f5d1",
   "metadata": {},
   "outputs": [
    {
     "data": {
      "application/vnd.microsoft.datawrangler.viewer.v0+json": {
       "columns": [
        {
         "name": "index",
         "rawType": "int64",
         "type": "integer"
        },
        {
         "name": "First Name",
         "rawType": "object",
         "type": "unknown"
        },
        {
         "name": "Gender",
         "rawType": "category",
         "type": "unknown"
        },
        {
         "name": "Start Date",
         "rawType": "object",
         "type": "string"
        },
        {
         "name": "Salary",
         "rawType": "int32",
         "type": "integer"
        },
        {
         "name": "Mgmt",
         "rawType": "bool",
         "type": "boolean"
        },
        {
         "name": "Team",
         "rawType": "category",
         "type": "unknown"
        }
       ],
       "ref": "28889d2f-2231-4b40-beeb-bbb6ae44ace1",
       "rows": [
        [
         "0",
         "Douglas",
         "Male",
         "1993-08-06",
         "0",
         "True",
         "Marketing"
        ],
        [
         "1",
         "Thomas",
         "Male",
         "1996-03-31",
         "61933",
         "True",
         null
        ],
        [
         "6",
         "Ruby",
         "Female",
         "1987-08-17",
         "65476",
         "True",
         "Product"
        ],
        [
         "7",
         null,
         "Female",
         "2015-07-20",
         "45906",
         "True",
         "Finance"
        ],
        [
         "8",
         "Angela",
         "Female",
         "2005-11-22",
         "95570",
         "True",
         "Engineering"
        ]
       ],
       "shape": {
        "columns": 6,
        "rows": 5
       }
      },
      "text/html": [
       "<div>\n",
       "<style scoped>\n",
       "    .dataframe tbody tr th:only-of-type {\n",
       "        vertical-align: middle;\n",
       "    }\n",
       "\n",
       "    .dataframe tbody tr th {\n",
       "        vertical-align: top;\n",
       "    }\n",
       "\n",
       "    .dataframe thead th {\n",
       "        text-align: right;\n",
       "    }\n",
       "</style>\n",
       "<table border=\"1\" class=\"dataframe\">\n",
       "  <thead>\n",
       "    <tr style=\"text-align: right;\">\n",
       "      <th></th>\n",
       "      <th>First Name</th>\n",
       "      <th>Gender</th>\n",
       "      <th>Start Date</th>\n",
       "      <th>Salary</th>\n",
       "      <th>Mgmt</th>\n",
       "      <th>Team</th>\n",
       "    </tr>\n",
       "  </thead>\n",
       "  <tbody>\n",
       "    <tr>\n",
       "      <th>0</th>\n",
       "      <td>Douglas</td>\n",
       "      <td>Male</td>\n",
       "      <td>1993-08-06</td>\n",
       "      <td>0</td>\n",
       "      <td>True</td>\n",
       "      <td>Marketing</td>\n",
       "    </tr>\n",
       "    <tr>\n",
       "      <th>1</th>\n",
       "      <td>Thomas</td>\n",
       "      <td>Male</td>\n",
       "      <td>1996-03-31</td>\n",
       "      <td>61933</td>\n",
       "      <td>True</td>\n",
       "      <td>NaN</td>\n",
       "    </tr>\n",
       "    <tr>\n",
       "      <th>6</th>\n",
       "      <td>Ruby</td>\n",
       "      <td>Female</td>\n",
       "      <td>1987-08-17</td>\n",
       "      <td>65476</td>\n",
       "      <td>True</td>\n",
       "      <td>Product</td>\n",
       "    </tr>\n",
       "    <tr>\n",
       "      <th>7</th>\n",
       "      <td>NaN</td>\n",
       "      <td>Female</td>\n",
       "      <td>2015-07-20</td>\n",
       "      <td>45906</td>\n",
       "      <td>True</td>\n",
       "      <td>Finance</td>\n",
       "    </tr>\n",
       "    <tr>\n",
       "      <th>8</th>\n",
       "      <td>Angela</td>\n",
       "      <td>Female</td>\n",
       "      <td>2005-11-22</td>\n",
       "      <td>95570</td>\n",
       "      <td>True</td>\n",
       "      <td>Engineering</td>\n",
       "    </tr>\n",
       "  </tbody>\n",
       "</table>\n",
       "</div>"
      ],
      "text/plain": [
       "  First Name  Gender  Start Date  Salary  Mgmt         Team\n",
       "0    Douglas    Male  1993-08-06       0  True    Marketing\n",
       "1     Thomas    Male  1996-03-31   61933  True          NaN\n",
       "6       Ruby  Female  1987-08-17   65476  True      Product\n",
       "7        NaN  Female  2015-07-20   45906  True      Finance\n",
       "8     Angela  Female  2005-11-22   95570  True  Engineering"
      ]
     },
     "execution_count": 42,
     "metadata": {},
     "output_type": "execute_result"
    }
   ],
   "source": [
    "df_employees[~(df_employees[\"Salary\"] >= 100000)].head()"
   ]
  },
  {
   "cell_type": "markdown",
   "id": "72a751c4",
   "metadata": {},
   "source": [
    "### Methods for boolean results"
   ]
  },
  {
   "cell_type": "markdown",
   "id": "d84cd936",
   "metadata": {},
   "source": [
    "**Operation ==**"
   ]
  },
  {
   "cell_type": "code",
   "execution_count": 43,
   "id": "b0b37f84",
   "metadata": {},
   "outputs": [
    {
     "data": {
      "application/vnd.microsoft.datawrangler.viewer.v0+json": {
       "columns": [
        {
         "name": "index",
         "rawType": "int64",
         "type": "integer"
        },
        {
         "name": "Team",
         "rawType": "bool",
         "type": "boolean"
        }
       ],
       "ref": "108f44f8-e060-4db9-a29c-6b69e3dee5c1",
       "rows": [
        [
         "0",
         "True"
        ]
       ],
       "shape": {
        "columns": 1,
        "rows": 1
       }
      },
      "text/plain": [
       "0    True\n",
       "Name: Team, dtype: bool"
      ]
     },
     "execution_count": 43,
     "metadata": {},
     "output_type": "execute_result"
    }
   ],
   "source": [
    "df_employees[\"Team\"].eq(\"Marketing\").head(1)"
   ]
  },
  {
   "cell_type": "markdown",
   "id": "d673bcf1",
   "metadata": {},
   "source": [
    "**Operation !=**"
   ]
  },
  {
   "cell_type": "code",
   "execution_count": 44,
   "id": "a0c127e7",
   "metadata": {},
   "outputs": [
    {
     "data": {
      "application/vnd.microsoft.datawrangler.viewer.v0+json": {
       "columns": [
        {
         "name": "index",
         "rawType": "int64",
         "type": "integer"
        },
        {
         "name": "Team",
         "rawType": "bool",
         "type": "boolean"
        }
       ],
       "ref": "e696c31a-190b-4586-b1c3-4fb1378d9c27",
       "rows": [
        [
         "0",
         "False"
        ]
       ],
       "shape": {
        "columns": 1,
        "rows": 1
       }
      },
      "text/plain": [
       "0    False\n",
       "Name: Team, dtype: bool"
      ]
     },
     "execution_count": 44,
     "metadata": {},
     "output_type": "execute_result"
    }
   ],
   "source": [
    "df_employees[\"Team\"].ne(\"Marketing\").head(1)"
   ]
  },
  {
   "cell_type": "markdown",
   "id": "a18b50d7",
   "metadata": {},
   "source": [
    "**Operation <**"
   ]
  },
  {
   "cell_type": "code",
   "execution_count": 45,
   "id": "ff3e3f6a",
   "metadata": {},
   "outputs": [
    {
     "data": {
      "application/vnd.microsoft.datawrangler.viewer.v0+json": {
       "columns": [
        {
         "name": "index",
         "rawType": "int64",
         "type": "integer"
        },
        {
         "name": "Salary",
         "rawType": "bool",
         "type": "boolean"
        }
       ],
       "ref": "32e01ccf-88db-43d6-83fc-4d7f0a1b8f20",
       "rows": [
        [
         "0",
         "True"
        ]
       ],
       "shape": {
        "columns": 1,
        "rows": 1
       }
      },
      "text/plain": [
       "0    True\n",
       "Name: Salary, dtype: bool"
      ]
     },
     "execution_count": 45,
     "metadata": {},
     "output_type": "execute_result"
    }
   ],
   "source": [
    "df_employees[\"Salary\"].lt(100000).head(1)"
   ]
  },
  {
   "cell_type": "markdown",
   "id": "b1af72c3",
   "metadata": {},
   "source": [
    "**Operation <=**"
   ]
  },
  {
   "cell_type": "code",
   "execution_count": 46,
   "id": "45450655",
   "metadata": {},
   "outputs": [
    {
     "data": {
      "application/vnd.microsoft.datawrangler.viewer.v0+json": {
       "columns": [
        {
         "name": "index",
         "rawType": "int64",
         "type": "integer"
        },
        {
         "name": "Salary",
         "rawType": "bool",
         "type": "boolean"
        }
       ],
       "ref": "050f40fb-413f-4186-8fa5-7a3aedc6168f",
       "rows": [
        [
         "0",
         "True"
        ]
       ],
       "shape": {
        "columns": 1,
        "rows": 1
       }
      },
      "text/plain": [
       "0    True\n",
       "Name: Salary, dtype: bool"
      ]
     },
     "execution_count": 46,
     "metadata": {},
     "output_type": "execute_result"
    }
   ],
   "source": [
    "df_employees[\"Salary\"].le(100000).head(1)"
   ]
  },
  {
   "cell_type": "markdown",
   "id": "744a0cb7",
   "metadata": {},
   "source": [
    "**Operation >**"
   ]
  },
  {
   "cell_type": "code",
   "execution_count": 47,
   "id": "a6e80d37",
   "metadata": {},
   "outputs": [
    {
     "data": {
      "application/vnd.microsoft.datawrangler.viewer.v0+json": {
       "columns": [
        {
         "name": "index",
         "rawType": "int64",
         "type": "integer"
        },
        {
         "name": "Salary",
         "rawType": "bool",
         "type": "boolean"
        }
       ],
       "ref": "eff6fd64-bbb5-44e7-84ab-6ed21bae3b62",
       "rows": [
        [
         "0",
         "False"
        ]
       ],
       "shape": {
        "columns": 1,
        "rows": 1
       }
      },
      "text/plain": [
       "0    False\n",
       "Name: Salary, dtype: bool"
      ]
     },
     "execution_count": 47,
     "metadata": {},
     "output_type": "execute_result"
    }
   ],
   "source": [
    "df_employees[\"Salary\"].gt(100000).head(1)"
   ]
  },
  {
   "cell_type": "markdown",
   "id": "7e8494f5",
   "metadata": {},
   "source": [
    "**Operation >=**"
   ]
  },
  {
   "cell_type": "code",
   "execution_count": 48,
   "id": "e02ea147",
   "metadata": {},
   "outputs": [
    {
     "data": {
      "application/vnd.microsoft.datawrangler.viewer.v0+json": {
       "columns": [
        {
         "name": "index",
         "rawType": "int64",
         "type": "integer"
        },
        {
         "name": "Salary",
         "rawType": "bool",
         "type": "boolean"
        }
       ],
       "ref": "0f9e9bd1-bdde-448c-b0f7-ca4f3427304f",
       "rows": [
        [
         "0",
         "False"
        ]
       ],
       "shape": {
        "columns": 1,
        "rows": 1
       }
      },
      "text/plain": [
       "0    False\n",
       "Name: Salary, dtype: bool"
      ]
     },
     "execution_count": 48,
     "metadata": {},
     "output_type": "execute_result"
    }
   ],
   "source": [
    "df_employees[\"Salary\"].ge(100000).head(1)"
   ]
  },
  {
   "cell_type": "markdown",
   "id": "9055a0e1",
   "metadata": {},
   "source": [
    "### Filtering by Condition"
   ]
  },
  {
   "cell_type": "markdown",
   "id": "6a2b14cd",
   "metadata": {},
   "source": [
    "#### The isin Method"
   ]
  },
  {
   "cell_type": "code",
   "execution_count": 49,
   "id": "7f3345ea",
   "metadata": {},
   "outputs": [
    {
     "data": {
      "application/vnd.microsoft.datawrangler.viewer.v0+json": {
       "columns": [
        {
         "name": "index",
         "rawType": "int64",
         "type": "integer"
        },
        {
         "name": "First Name",
         "rawType": "object",
         "type": "string"
        },
        {
         "name": "Gender",
         "rawType": "category",
         "type": "unknown"
        },
        {
         "name": "Start Date",
         "rawType": "object",
         "type": "string"
        },
        {
         "name": "Salary",
         "rawType": "int32",
         "type": "integer"
        },
        {
         "name": "Mgmt",
         "rawType": "bool",
         "type": "boolean"
        },
        {
         "name": "Team",
         "rawType": "category",
         "type": "unknown"
        }
       ],
       "ref": "572169c7-4d95-4a13-865e-f55b837d7e7b",
       "rows": [
        [
         "0",
         "Douglas",
         "Male",
         "1993-08-06",
         "0",
         "True",
         "Marketing"
        ],
        [
         "5",
         "Dennis",
         "Male",
         "1987-04-18",
         "115163",
         "False",
         "Legal"
        ],
        [
         "11",
         "Julie",
         "Female",
         "1997-10-26",
         "102508",
         "True",
         "Legal"
        ],
        [
         "13",
         "Gary",
         "Male",
         "2008-01-27",
         "109831",
         "False",
         "Sales"
        ],
        [
         "20",
         "Lois",
         null,
         "1995-04-22",
         "64714",
         "True",
         "Legal"
        ]
       ],
       "shape": {
        "columns": 6,
        "rows": 5
       }
      },
      "text/html": [
       "<div>\n",
       "<style scoped>\n",
       "    .dataframe tbody tr th:only-of-type {\n",
       "        vertical-align: middle;\n",
       "    }\n",
       "\n",
       "    .dataframe tbody tr th {\n",
       "        vertical-align: top;\n",
       "    }\n",
       "\n",
       "    .dataframe thead th {\n",
       "        text-align: right;\n",
       "    }\n",
       "</style>\n",
       "<table border=\"1\" class=\"dataframe\">\n",
       "  <thead>\n",
       "    <tr style=\"text-align: right;\">\n",
       "      <th></th>\n",
       "      <th>First Name</th>\n",
       "      <th>Gender</th>\n",
       "      <th>Start Date</th>\n",
       "      <th>Salary</th>\n",
       "      <th>Mgmt</th>\n",
       "      <th>Team</th>\n",
       "    </tr>\n",
       "  </thead>\n",
       "  <tbody>\n",
       "    <tr>\n",
       "      <th>0</th>\n",
       "      <td>Douglas</td>\n",
       "      <td>Male</td>\n",
       "      <td>1993-08-06</td>\n",
       "      <td>0</td>\n",
       "      <td>True</td>\n",
       "      <td>Marketing</td>\n",
       "    </tr>\n",
       "    <tr>\n",
       "      <th>5</th>\n",
       "      <td>Dennis</td>\n",
       "      <td>Male</td>\n",
       "      <td>1987-04-18</td>\n",
       "      <td>115163</td>\n",
       "      <td>False</td>\n",
       "      <td>Legal</td>\n",
       "    </tr>\n",
       "    <tr>\n",
       "      <th>11</th>\n",
       "      <td>Julie</td>\n",
       "      <td>Female</td>\n",
       "      <td>1997-10-26</td>\n",
       "      <td>102508</td>\n",
       "      <td>True</td>\n",
       "      <td>Legal</td>\n",
       "    </tr>\n",
       "    <tr>\n",
       "      <th>13</th>\n",
       "      <td>Gary</td>\n",
       "      <td>Male</td>\n",
       "      <td>2008-01-27</td>\n",
       "      <td>109831</td>\n",
       "      <td>False</td>\n",
       "      <td>Sales</td>\n",
       "    </tr>\n",
       "    <tr>\n",
       "      <th>20</th>\n",
       "      <td>Lois</td>\n",
       "      <td>NaN</td>\n",
       "      <td>1995-04-22</td>\n",
       "      <td>64714</td>\n",
       "      <td>True</td>\n",
       "      <td>Legal</td>\n",
       "    </tr>\n",
       "  </tbody>\n",
       "</table>\n",
       "</div>"
      ],
      "text/plain": [
       "   First Name  Gender  Start Date  Salary   Mgmt       Team\n",
       "0     Douglas    Male  1993-08-06       0   True  Marketing\n",
       "5      Dennis    Male  1987-04-18  115163  False      Legal\n",
       "11      Julie  Female  1997-10-26  102508   True      Legal\n",
       "13       Gary    Male  2008-01-27  109831  False      Sales\n",
       "20       Lois     NaN  1995-04-22   64714   True      Legal"
      ]
     },
     "execution_count": 49,
     "metadata": {},
     "output_type": "execute_result"
    }
   ],
   "source": [
    "all_star_teams = [\"Sales\", \"Legal\", \"Marketing\"]\n",
    "is_in_all_star_teams = df_employees[\"Team\"].isin(all_star_teams)\n",
    "df_employees[is_in_all_star_teams].head()"
   ]
  },
  {
   "cell_type": "markdown",
   "id": "542d48f0",
   "metadata": {},
   "source": [
    "#### The between Method"
   ]
  },
  {
   "cell_type": "code",
   "execution_count": 50,
   "id": "bdd1c746",
   "metadata": {},
   "outputs": [
    {
     "data": {
      "application/vnd.microsoft.datawrangler.viewer.v0+json": {
       "columns": [
        {
         "name": "index",
         "rawType": "int64",
         "type": "integer"
        },
        {
         "name": "First Name",
         "rawType": "object",
         "type": "unknown"
        },
        {
         "name": "Team",
         "rawType": "category",
         "type": "unknown"
        },
        {
         "name": "Salary",
         "rawType": "int32",
         "type": "integer"
        }
       ],
       "ref": "370b1401-2644-4183-bf60-c594597db85a",
       "rows": [
        [
         "821",
         null,
         "Distribution",
         "80399"
        ],
        [
         "865",
         "Karen",
         "Legal",
         "80633"
        ],
        [
         "360",
         "Susan",
         "Sales",
         "80688"
        ],
        [
         "104",
         "John",
         "Marketing",
         "80740"
        ],
        [
         "542",
         "Amanda",
         "Distribution",
         "80803"
        ]
       ],
       "shape": {
        "columns": 3,
        "rows": 5
       }
      },
      "text/html": [
       "<div>\n",
       "<style scoped>\n",
       "    .dataframe tbody tr th:only-of-type {\n",
       "        vertical-align: middle;\n",
       "    }\n",
       "\n",
       "    .dataframe tbody tr th {\n",
       "        vertical-align: top;\n",
       "    }\n",
       "\n",
       "    .dataframe thead th {\n",
       "        text-align: right;\n",
       "    }\n",
       "</style>\n",
       "<table border=\"1\" class=\"dataframe\">\n",
       "  <thead>\n",
       "    <tr style=\"text-align: right;\">\n",
       "      <th></th>\n",
       "      <th>First Name</th>\n",
       "      <th>Team</th>\n",
       "      <th>Salary</th>\n",
       "    </tr>\n",
       "  </thead>\n",
       "  <tbody>\n",
       "    <tr>\n",
       "      <th>821</th>\n",
       "      <td>NaN</td>\n",
       "      <td>Distribution</td>\n",
       "      <td>80399</td>\n",
       "    </tr>\n",
       "    <tr>\n",
       "      <th>865</th>\n",
       "      <td>Karen</td>\n",
       "      <td>Legal</td>\n",
       "      <td>80633</td>\n",
       "    </tr>\n",
       "    <tr>\n",
       "      <th>360</th>\n",
       "      <td>Susan</td>\n",
       "      <td>Sales</td>\n",
       "      <td>80688</td>\n",
       "    </tr>\n",
       "    <tr>\n",
       "      <th>104</th>\n",
       "      <td>John</td>\n",
       "      <td>Marketing</td>\n",
       "      <td>80740</td>\n",
       "    </tr>\n",
       "    <tr>\n",
       "      <th>542</th>\n",
       "      <td>Amanda</td>\n",
       "      <td>Distribution</td>\n",
       "      <td>80803</td>\n",
       "    </tr>\n",
       "  </tbody>\n",
       "</table>\n",
       "</div>"
      ],
      "text/plain": [
       "    First Name          Team  Salary\n",
       "821        NaN  Distribution   80399\n",
       "865      Karen         Legal   80633\n",
       "360      Susan         Sales   80688\n",
       "104       John     Marketing   80740\n",
       "542     Amanda  Distribution   80803"
      ]
     },
     "execution_count": 50,
     "metadata": {},
     "output_type": "execute_result"
    }
   ],
   "source": [
    "between_80k_and_90k = df_employees[\"Salary\"].between(80000, 90000)\n",
    "df_employees[['First Name','Team','Salary']][between_80k_and_90k].sort_values(by=\"Salary\").head()"
   ]
  },
  {
   "cell_type": "markdown",
   "id": "789434d6",
   "metadata": {},
   "source": [
    "**Using for datetime type**"
   ]
  },
  {
   "cell_type": "code",
   "execution_count": 51,
   "id": "5300753f",
   "metadata": {},
   "outputs": [
    {
     "data": {
      "application/vnd.microsoft.datawrangler.viewer.v0+json": {
       "columns": [
        {
         "name": "index",
         "rawType": "int64",
         "type": "integer"
        },
        {
         "name": "First Name",
         "rawType": "object",
         "type": "string"
        },
        {
         "name": "Gender",
         "rawType": "category",
         "type": "unknown"
        },
        {
         "name": "Start Date",
         "rawType": "object",
         "type": "string"
        },
        {
         "name": "Salary",
         "rawType": "int32",
         "type": "integer"
        },
        {
         "name": "Mgmt",
         "rawType": "bool",
         "type": "boolean"
        },
        {
         "name": "Team",
         "rawType": "category",
         "type": "unknown"
        }
       ],
       "ref": "09c7d10d-5134-455b-8ce8-2c70af95c972",
       "rows": [
        [
         "5",
         "Dennis",
         "Male",
         "1987-04-18",
         "115163",
         "False",
         "Legal"
        ],
        [
         "6",
         "Ruby",
         "Female",
         "1987-08-17",
         "65476",
         "True",
         "Product"
        ],
        [
         "10",
         "Louise",
         "Female",
         "1980-08-12",
         "63241",
         "True",
         null
        ],
        [
         "12",
         "Brandon",
         "Male",
         "1980-12-01",
         "112807",
         "True",
         "HR"
        ],
        [
         "17",
         "Shawn",
         "Male",
         "1986-12-07",
         "111737",
         "False",
         "Product"
        ]
       ],
       "shape": {
        "columns": 6,
        "rows": 5
       }
      },
      "text/html": [
       "<div>\n",
       "<style scoped>\n",
       "    .dataframe tbody tr th:only-of-type {\n",
       "        vertical-align: middle;\n",
       "    }\n",
       "\n",
       "    .dataframe tbody tr th {\n",
       "        vertical-align: top;\n",
       "    }\n",
       "\n",
       "    .dataframe thead th {\n",
       "        text-align: right;\n",
       "    }\n",
       "</style>\n",
       "<table border=\"1\" class=\"dataframe\">\n",
       "  <thead>\n",
       "    <tr style=\"text-align: right;\">\n",
       "      <th></th>\n",
       "      <th>First Name</th>\n",
       "      <th>Gender</th>\n",
       "      <th>Start Date</th>\n",
       "      <th>Salary</th>\n",
       "      <th>Mgmt</th>\n",
       "      <th>Team</th>\n",
       "    </tr>\n",
       "  </thead>\n",
       "  <tbody>\n",
       "    <tr>\n",
       "      <th>5</th>\n",
       "      <td>Dennis</td>\n",
       "      <td>Male</td>\n",
       "      <td>1987-04-18</td>\n",
       "      <td>115163</td>\n",
       "      <td>False</td>\n",
       "      <td>Legal</td>\n",
       "    </tr>\n",
       "    <tr>\n",
       "      <th>6</th>\n",
       "      <td>Ruby</td>\n",
       "      <td>Female</td>\n",
       "      <td>1987-08-17</td>\n",
       "      <td>65476</td>\n",
       "      <td>True</td>\n",
       "      <td>Product</td>\n",
       "    </tr>\n",
       "    <tr>\n",
       "      <th>10</th>\n",
       "      <td>Louise</td>\n",
       "      <td>Female</td>\n",
       "      <td>1980-08-12</td>\n",
       "      <td>63241</td>\n",
       "      <td>True</td>\n",
       "      <td>NaN</td>\n",
       "    </tr>\n",
       "    <tr>\n",
       "      <th>12</th>\n",
       "      <td>Brandon</td>\n",
       "      <td>Male</td>\n",
       "      <td>1980-12-01</td>\n",
       "      <td>112807</td>\n",
       "      <td>True</td>\n",
       "      <td>HR</td>\n",
       "    </tr>\n",
       "    <tr>\n",
       "      <th>17</th>\n",
       "      <td>Shawn</td>\n",
       "      <td>Male</td>\n",
       "      <td>1986-12-07</td>\n",
       "      <td>111737</td>\n",
       "      <td>False</td>\n",
       "      <td>Product</td>\n",
       "    </tr>\n",
       "  </tbody>\n",
       "</table>\n",
       "</div>"
      ],
      "text/plain": [
       "   First Name  Gender  Start Date  Salary   Mgmt     Team\n",
       "5      Dennis    Male  1987-04-18  115163  False    Legal\n",
       "6        Ruby  Female  1987-08-17   65476   True  Product\n",
       "10     Louise  Female  1980-08-12   63241   True      NaN\n",
       "12    Brandon    Male  1980-12-01  112807   True       HR\n",
       "17      Shawn    Male  1986-12-07  111737  False  Product"
      ]
     },
     "execution_count": 51,
     "metadata": {},
     "output_type": "execute_result"
    }
   ],
   "source": [
    "eighties_folk = df_employees[\"Start Date\"].between(\n",
    "left = \"1980-01-01\",\n",
    "right = \"1990-01-01\"\n",
    ")\n",
    "df_employees[eighties_folk].head()"
   ]
  },
  {
   "cell_type": "markdown",
   "id": "13928848",
   "metadata": {},
   "source": [
    "**Using for string type**"
   ]
  },
  {
   "cell_type": "code",
   "execution_count": 52,
   "id": "76421867",
   "metadata": {},
   "outputs": [
    {
     "data": {
      "application/vnd.microsoft.datawrangler.viewer.v0+json": {
       "columns": [
        {
         "name": "index",
         "rawType": "int64",
         "type": "integer"
        },
        {
         "name": "First Name",
         "rawType": "object",
         "type": "string"
        },
        {
         "name": "Gender",
         "rawType": "category",
         "type": "unknown"
        },
        {
         "name": "Start Date",
         "rawType": "object",
         "type": "string"
        },
        {
         "name": "Salary",
         "rawType": "int32",
         "type": "integer"
        },
        {
         "name": "Mgmt",
         "rawType": "bool",
         "type": "boolean"
        },
        {
         "name": "Team",
         "rawType": "category",
         "type": "unknown"
        }
       ],
       "ref": "060937f5-8f4f-4314-9809-4f081068883f",
       "rows": [
        [
         "6",
         "Ruby",
         "Female",
         "1987-08-17",
         "65476",
         "True",
         "Product"
        ],
        [
         "36",
         "Rachel",
         "Female",
         "2009-02-16",
         "142032",
         "False",
         "Business Dev"
        ],
        [
         "45",
         "Roger",
         "Male",
         "1980-04-17",
         "88010",
         "True",
         "Sales"
        ],
        [
         "67",
         "Rachel",
         "Female",
         "1999-08-16",
         "51178",
         "True",
         "Finance"
        ],
        [
         "78",
         "Robin",
         "Female",
         "1983-06-04",
         "114797",
         "True",
         "Sales"
        ]
       ],
       "shape": {
        "columns": 6,
        "rows": 5
       }
      },
      "text/html": [
       "<div>\n",
       "<style scoped>\n",
       "    .dataframe tbody tr th:only-of-type {\n",
       "        vertical-align: middle;\n",
       "    }\n",
       "\n",
       "    .dataframe tbody tr th {\n",
       "        vertical-align: top;\n",
       "    }\n",
       "\n",
       "    .dataframe thead th {\n",
       "        text-align: right;\n",
       "    }\n",
       "</style>\n",
       "<table border=\"1\" class=\"dataframe\">\n",
       "  <thead>\n",
       "    <tr style=\"text-align: right;\">\n",
       "      <th></th>\n",
       "      <th>First Name</th>\n",
       "      <th>Gender</th>\n",
       "      <th>Start Date</th>\n",
       "      <th>Salary</th>\n",
       "      <th>Mgmt</th>\n",
       "      <th>Team</th>\n",
       "    </tr>\n",
       "  </thead>\n",
       "  <tbody>\n",
       "    <tr>\n",
       "      <th>6</th>\n",
       "      <td>Ruby</td>\n",
       "      <td>Female</td>\n",
       "      <td>1987-08-17</td>\n",
       "      <td>65476</td>\n",
       "      <td>True</td>\n",
       "      <td>Product</td>\n",
       "    </tr>\n",
       "    <tr>\n",
       "      <th>36</th>\n",
       "      <td>Rachel</td>\n",
       "      <td>Female</td>\n",
       "      <td>2009-02-16</td>\n",
       "      <td>142032</td>\n",
       "      <td>False</td>\n",
       "      <td>Business Dev</td>\n",
       "    </tr>\n",
       "    <tr>\n",
       "      <th>45</th>\n",
       "      <td>Roger</td>\n",
       "      <td>Male</td>\n",
       "      <td>1980-04-17</td>\n",
       "      <td>88010</td>\n",
       "      <td>True</td>\n",
       "      <td>Sales</td>\n",
       "    </tr>\n",
       "    <tr>\n",
       "      <th>67</th>\n",
       "      <td>Rachel</td>\n",
       "      <td>Female</td>\n",
       "      <td>1999-08-16</td>\n",
       "      <td>51178</td>\n",
       "      <td>True</td>\n",
       "      <td>Finance</td>\n",
       "    </tr>\n",
       "    <tr>\n",
       "      <th>78</th>\n",
       "      <td>Robin</td>\n",
       "      <td>Female</td>\n",
       "      <td>1983-06-04</td>\n",
       "      <td>114797</td>\n",
       "      <td>True</td>\n",
       "      <td>Sales</td>\n",
       "    </tr>\n",
       "  </tbody>\n",
       "</table>\n",
       "</div>"
      ],
      "text/plain": [
       "   First Name  Gender  Start Date  Salary   Mgmt          Team\n",
       "6        Ruby  Female  1987-08-17   65476   True       Product\n",
       "36     Rachel  Female  2009-02-16  142032  False  Business Dev\n",
       "45      Roger    Male  1980-04-17   88010   True         Sales\n",
       "67     Rachel  Female  1999-08-16   51178   True       Finance\n",
       "78      Robin  Female  1983-06-04  114797   True         Sales"
      ]
     },
     "execution_count": 52,
     "metadata": {},
     "output_type": "execute_result"
    }
   ],
   "source": [
    "name_starts_with_r = df_employees[\"First Name\"].between(\"R\", \"S\")\n",
    "df_employees[name_starts_with_r].head()"
   ]
  },
  {
   "cell_type": "markdown",
   "id": "0d6ee0d7",
   "metadata": {},
   "source": [
    "### The isna and notna Methods"
   ]
  },
  {
   "cell_type": "markdown",
   "id": "437094f3",
   "metadata": {},
   "source": [
    "**isna method finds all NaN values from specific column**"
   ]
  },
  {
   "cell_type": "code",
   "execution_count": 53,
   "id": "dab6feca",
   "metadata": {},
   "outputs": [
    {
     "data": {
      "application/vnd.microsoft.datawrangler.viewer.v0+json": {
       "columns": [
        {
         "name": "index",
         "rawType": "int64",
         "type": "integer"
        },
        {
         "name": "First Name",
         "rawType": "object",
         "type": "unknown"
        },
        {
         "name": "Gender",
         "rawType": "category",
         "type": "unknown"
        },
        {
         "name": "Team",
         "rawType": "category",
         "type": "unknown"
        }
       ],
       "ref": "40249593-47e7-44dd-a2e5-7deb762f9595",
       "rows": [
        [
         "1",
         "Thomas",
         "Male",
         null
        ],
        [
         "10",
         "Louise",
         "Female",
         null
        ],
        [
         "23",
         null,
         "Male",
         null
        ],
        [
         "32",
         null,
         "Male",
         null
        ],
        [
         "91",
         "James",
         null,
         null
        ]
       ],
       "shape": {
        "columns": 3,
        "rows": 5
       }
      },
      "text/html": [
       "<div>\n",
       "<style scoped>\n",
       "    .dataframe tbody tr th:only-of-type {\n",
       "        vertical-align: middle;\n",
       "    }\n",
       "\n",
       "    .dataframe tbody tr th {\n",
       "        vertical-align: top;\n",
       "    }\n",
       "\n",
       "    .dataframe thead th {\n",
       "        text-align: right;\n",
       "    }\n",
       "</style>\n",
       "<table border=\"1\" class=\"dataframe\">\n",
       "  <thead>\n",
       "    <tr style=\"text-align: right;\">\n",
       "      <th></th>\n",
       "      <th>First Name</th>\n",
       "      <th>Gender</th>\n",
       "      <th>Team</th>\n",
       "    </tr>\n",
       "  </thead>\n",
       "  <tbody>\n",
       "    <tr>\n",
       "      <th>1</th>\n",
       "      <td>Thomas</td>\n",
       "      <td>Male</td>\n",
       "      <td>NaN</td>\n",
       "    </tr>\n",
       "    <tr>\n",
       "      <th>10</th>\n",
       "      <td>Louise</td>\n",
       "      <td>Female</td>\n",
       "      <td>NaN</td>\n",
       "    </tr>\n",
       "    <tr>\n",
       "      <th>23</th>\n",
       "      <td>NaN</td>\n",
       "      <td>Male</td>\n",
       "      <td>NaN</td>\n",
       "    </tr>\n",
       "    <tr>\n",
       "      <th>32</th>\n",
       "      <td>NaN</td>\n",
       "      <td>Male</td>\n",
       "      <td>NaN</td>\n",
       "    </tr>\n",
       "    <tr>\n",
       "      <th>91</th>\n",
       "      <td>James</td>\n",
       "      <td>NaN</td>\n",
       "      <td>NaN</td>\n",
       "    </tr>\n",
       "  </tbody>\n",
       "</table>\n",
       "</div>"
      ],
      "text/plain": [
       "   First Name  Gender Team\n",
       "1      Thomas    Male  NaN\n",
       "10     Louise  Female  NaN\n",
       "23        NaN    Male  NaN\n",
       "32        NaN    Male  NaN\n",
       "91      James     NaN  NaN"
      ]
     },
     "execution_count": 53,
     "metadata": {},
     "output_type": "execute_result"
    }
   ],
   "source": [
    "no_team = df_employees[\"Team\"].isna()\n",
    "df_employees[['First Name','Gender','Team']][no_team].head()"
   ]
  },
  {
   "cell_type": "markdown",
   "id": "c5324994",
   "metadata": {},
   "source": [
    "**notna method returns only True values in the \"First Name\" column**"
   ]
  },
  {
   "cell_type": "code",
   "execution_count": 54,
   "id": "96d224d3",
   "metadata": {},
   "outputs": [
    {
     "data": {
      "application/vnd.microsoft.datawrangler.viewer.v0+json": {
       "columns": [
        {
         "name": "index",
         "rawType": "int64",
         "type": "integer"
        },
        {
         "name": "First Name",
         "rawType": "object",
         "type": "string"
        },
        {
         "name": "Gender",
         "rawType": "category",
         "type": "unknown"
        },
        {
         "name": "Team",
         "rawType": "category",
         "type": "unknown"
        }
       ],
       "ref": "631e9907-951b-4303-a601-e5b12fb763a7",
       "rows": [
        [
         "0",
         "Douglas",
         "Male",
         "Marketing"
        ],
        [
         "1",
         "Thomas",
         "Male",
         null
        ],
        [
         "2",
         "Maria",
         "Female",
         "Finance"
        ],
        [
         "3",
         "Jerry",
         null,
         "Finance"
        ],
        [
         "4",
         "Larry",
         "Male",
         "IT"
        ]
       ],
       "shape": {
        "columns": 3,
        "rows": 5
       }
      },
      "text/html": [
       "<div>\n",
       "<style scoped>\n",
       "    .dataframe tbody tr th:only-of-type {\n",
       "        vertical-align: middle;\n",
       "    }\n",
       "\n",
       "    .dataframe tbody tr th {\n",
       "        vertical-align: top;\n",
       "    }\n",
       "\n",
       "    .dataframe thead th {\n",
       "        text-align: right;\n",
       "    }\n",
       "</style>\n",
       "<table border=\"1\" class=\"dataframe\">\n",
       "  <thead>\n",
       "    <tr style=\"text-align: right;\">\n",
       "      <th></th>\n",
       "      <th>First Name</th>\n",
       "      <th>Gender</th>\n",
       "      <th>Team</th>\n",
       "    </tr>\n",
       "  </thead>\n",
       "  <tbody>\n",
       "    <tr>\n",
       "      <th>0</th>\n",
       "      <td>Douglas</td>\n",
       "      <td>Male</td>\n",
       "      <td>Marketing</td>\n",
       "    </tr>\n",
       "    <tr>\n",
       "      <th>1</th>\n",
       "      <td>Thomas</td>\n",
       "      <td>Male</td>\n",
       "      <td>NaN</td>\n",
       "    </tr>\n",
       "    <tr>\n",
       "      <th>2</th>\n",
       "      <td>Maria</td>\n",
       "      <td>Female</td>\n",
       "      <td>Finance</td>\n",
       "    </tr>\n",
       "    <tr>\n",
       "      <th>3</th>\n",
       "      <td>Jerry</td>\n",
       "      <td>NaN</td>\n",
       "      <td>Finance</td>\n",
       "    </tr>\n",
       "    <tr>\n",
       "      <th>4</th>\n",
       "      <td>Larry</td>\n",
       "      <td>Male</td>\n",
       "      <td>IT</td>\n",
       "    </tr>\n",
       "  </tbody>\n",
       "</table>\n",
       "</div>"
      ],
      "text/plain": [
       "  First Name  Gender       Team\n",
       "0    Douglas    Male  Marketing\n",
       "1     Thomas    Male        NaN\n",
       "2      Maria  Female    Finance\n",
       "3      Jerry     NaN    Finance\n",
       "4      Larry    Male         IT"
      ]
     },
     "execution_count": 54,
     "metadata": {},
     "output_type": "execute_result"
    }
   ],
   "source": [
    "has_name = df_employees[\"First Name\"].notna()\n",
    "df_employees[['First Name','Gender','Team']][has_name].head()"
   ]
  },
  {
   "cell_type": "markdown",
   "id": "37daa08c",
   "metadata": {},
   "source": [
    "**Count only True values**"
   ]
  },
  {
   "cell_type": "code",
   "execution_count": 55,
   "id": "55c64506",
   "metadata": {},
   "outputs": [
    {
     "data": {
      "application/vnd.microsoft.datawrangler.viewer.v0+json": {
       "columns": [
        {
         "name": "index",
         "rawType": "object",
         "type": "string"
        },
        {
         "name": "0",
         "rawType": "int64",
         "type": "integer"
        }
       ],
       "ref": "c7cf3711-295d-4b46-86c1-e33001e760b7",
       "rows": [
        [
         "Salary",
         "1001"
        ],
        [
         "Mgmt",
         "1001"
        ],
        [
         "Start Date",
         "999"
        ],
        [
         "Team",
         "957"
        ],
        [
         "First Name",
         "933"
        ],
        [
         "Gender",
         "854"
        ]
       ],
       "shape": {
        "columns": 1,
        "rows": 6
       }
      },
      "text/plain": [
       "Salary        1001\n",
       "Mgmt          1001\n",
       "Start Date     999\n",
       "Team           957\n",
       "First Name     933\n",
       "Gender         854\n",
       "dtype: int64"
      ]
     },
     "execution_count": 55,
     "metadata": {},
     "output_type": "execute_result"
    }
   ],
   "source": [
    "df_employees.notna().sum().sort_values(ascending=False)"
   ]
  },
  {
   "cell_type": "markdown",
   "id": "e8c7df1c",
   "metadata": {},
   "source": [
    "**Count only NaN values**"
   ]
  },
  {
   "cell_type": "code",
   "execution_count": 56,
   "id": "c0534877",
   "metadata": {},
   "outputs": [
    {
     "data": {
      "application/vnd.microsoft.datawrangler.viewer.v0+json": {
       "columns": [
        {
         "name": "index",
         "rawType": "object",
         "type": "string"
        },
        {
         "name": "0",
         "rawType": "int64",
         "type": "integer"
        }
       ],
       "ref": "0582c8c9-a61f-458e-bc2e-3c2d69e668f5",
       "rows": [
        [
         "Gender",
         "147"
        ],
        [
         "First Name",
         "68"
        ],
        [
         "Team",
         "44"
        ],
        [
         "Start Date",
         "2"
        ],
        [
         "Salary",
         "0"
        ],
        [
         "Mgmt",
         "0"
        ]
       ],
       "shape": {
        "columns": 1,
        "rows": 6
       }
      },
      "text/plain": [
       "Gender        147\n",
       "First Name     68\n",
       "Team           44\n",
       "Start Date      2\n",
       "Salary          0\n",
       "Mgmt            0\n",
       "dtype: int64"
      ]
     },
     "execution_count": 56,
     "metadata": {},
     "output_type": "execute_result"
    }
   ],
   "source": [
    "df_employees.isna().sum().sort_values(ascending=False)"
   ]
  },
  {
   "cell_type": "markdown",
   "id": "6c24377d",
   "metadata": {},
   "source": [
    "### Dealing with Null Values"
   ]
  },
  {
   "cell_type": "code",
   "execution_count": 57,
   "id": "9f2e492b",
   "metadata": {},
   "outputs": [
    {
     "name": "stderr",
     "output_type": "stream",
     "text": [
      "/var/folders/pg/x6kyk1l92fj8q4332g1j8rnw0000gp/T/ipykernel_14021/883899616.py:1: UserWarning: Could not infer format, so each element will be parsed individually, falling back to `dateutil`. To ensure parsing is consistent and as-expected, please specify a format.\n",
      "  df_dealna = pd.read_csv(employees_data, parse_dates = ['Start Date'])\n"
     ]
    }
   ],
   "source": [
    "df_dealna = pd.read_csv(employees_data, parse_dates = ['Start Date'])"
   ]
  },
  {
   "cell_type": "code",
   "execution_count": 58,
   "id": "87ad99b1",
   "metadata": {},
   "outputs": [
    {
     "name": "stdout",
     "output_type": "stream",
     "text": [
      "<class 'pandas.core.frame.DataFrame'>\n",
      "RangeIndex: 1001 entries, 0 to 1000\n",
      "Data columns (total 6 columns):\n",
      " #   Column      Non-Null Count  Dtype         \n",
      "---  ------      --------------  -----         \n",
      " 0   First Name  933 non-null    object        \n",
      " 1   Gender      854 non-null    object        \n",
      " 2   Start Date  999 non-null    datetime64[ns]\n",
      " 3   Salary      999 non-null    float64       \n",
      " 4   Mgmt        933 non-null    object        \n",
      " 5   Team        957 non-null    object        \n",
      "dtypes: datetime64[ns](1), float64(1), object(4)\n",
      "memory usage: 47.1+ KB\n"
     ]
    }
   ],
   "source": [
    "df_dealna.info()"
   ]
  },
  {
   "cell_type": "markdown",
   "id": "f73ed119",
   "metadata": {},
   "source": [
    "#### dropna method will remove all rows where NaN values exist"
   ]
  },
  {
   "cell_type": "code",
   "execution_count": 59,
   "id": "ea9502f7",
   "metadata": {},
   "outputs": [
    {
     "data": {
      "application/vnd.microsoft.datawrangler.viewer.v0+json": {
       "columns": [
        {
         "name": "index",
         "rawType": "object",
         "type": "string"
        },
        {
         "name": "0",
         "rawType": "int64",
         "type": "integer"
        }
       ],
       "ref": "eef64eb8-7913-49ee-aaaa-c9f4271b0ebf",
       "rows": [
        [
         "First Name",
         "0"
        ],
        [
         "Gender",
         "0"
        ],
        [
         "Start Date",
         "0"
        ],
        [
         "Salary",
         "0"
        ],
        [
         "Mgmt",
         "0"
        ],
        [
         "Team",
         "0"
        ]
       ],
       "shape": {
        "columns": 1,
        "rows": 6
       }
      },
      "text/plain": [
       "First Name    0\n",
       "Gender        0\n",
       "Start Date    0\n",
       "Salary        0\n",
       "Mgmt          0\n",
       "Team          0\n",
       "dtype: int64"
      ]
     },
     "execution_count": 59,
     "metadata": {},
     "output_type": "execute_result"
    }
   ],
   "source": [
    "df_dealna.dropna().isnull().sum()"
   ]
  },
  {
   "cell_type": "markdown",
   "id": "68b955a2",
   "metadata": {},
   "source": [
    "**Dropna(how = 'all') removes only rows where all values are NaN**"
   ]
  },
  {
   "cell_type": "code",
   "execution_count": 60,
   "id": "5164e376",
   "metadata": {},
   "outputs": [
    {
     "data": {
      "text/plain": [
       "(1001, 6)"
      ]
     },
     "execution_count": 60,
     "metadata": {},
     "output_type": "execute_result"
    }
   ],
   "source": [
    "df_dealna.shape\n"
   ]
  },
  {
   "cell_type": "code",
   "execution_count": 61,
   "id": "c041812d",
   "metadata": {},
   "outputs": [
    {
     "data": {
      "text/plain": [
       "(1000, 6)"
      ]
     },
     "execution_count": 61,
     "metadata": {},
     "output_type": "execute_result"
    }
   ],
   "source": [
    "drop_how = df_dealna.dropna(how='all')\n",
    "drop_how.shape"
   ]
  },
  {
   "cell_type": "markdown",
   "id": "01f6a75d",
   "metadata": {},
   "source": [
    "**Drop NaN values in the specific column**"
   ]
  },
  {
   "cell_type": "code",
   "execution_count": 62,
   "id": "f65afd46",
   "metadata": {},
   "outputs": [
    {
     "data": {
      "application/vnd.microsoft.datawrangler.viewer.v0+json": {
       "columns": [
        {
         "name": "index",
         "rawType": "int64",
         "type": "integer"
        },
        {
         "name": "First Name",
         "rawType": "object",
         "type": "string"
        },
        {
         "name": "Gender",
         "rawType": "object",
         "type": "string"
        },
        {
         "name": "Start Date",
         "rawType": "datetime64[ns]",
         "type": "datetime"
        },
        {
         "name": "Salary",
         "rawType": "float64",
         "type": "float"
        },
        {
         "name": "Mgmt",
         "rawType": "object",
         "type": "unknown"
        },
        {
         "name": "Team",
         "rawType": "object",
         "type": "unknown"
        }
       ],
       "ref": "bc9e9461-b7c0-4d41-ae9b-2511cecf2382",
       "rows": [
        [
         "0",
         "Douglas",
         "Male",
         "1993-08-06 00:00:00",
         null,
         "True",
         "Marketing"
        ],
        [
         "1",
         "Thomas",
         "Male",
         "1996-03-31 00:00:00",
         "61933.0",
         "True",
         null
        ],
        [
         "2",
         "Maria",
         "Female",
         null,
         "130590.0",
         "False",
         "Finance"
        ],
        [
         "4",
         "Larry",
         "Male",
         "1998-01-24 00:00:00",
         "101004.0",
         "True",
         "IT"
        ],
        [
         "5",
         "Dennis",
         "Male",
         "1987-04-18 00:00:00",
         "115163.0",
         "False",
         "Legal"
        ]
       ],
       "shape": {
        "columns": 6,
        "rows": 5
       }
      },
      "text/html": [
       "<div>\n",
       "<style scoped>\n",
       "    .dataframe tbody tr th:only-of-type {\n",
       "        vertical-align: middle;\n",
       "    }\n",
       "\n",
       "    .dataframe tbody tr th {\n",
       "        vertical-align: top;\n",
       "    }\n",
       "\n",
       "    .dataframe thead th {\n",
       "        text-align: right;\n",
       "    }\n",
       "</style>\n",
       "<table border=\"1\" class=\"dataframe\">\n",
       "  <thead>\n",
       "    <tr style=\"text-align: right;\">\n",
       "      <th></th>\n",
       "      <th>First Name</th>\n",
       "      <th>Gender</th>\n",
       "      <th>Start Date</th>\n",
       "      <th>Salary</th>\n",
       "      <th>Mgmt</th>\n",
       "      <th>Team</th>\n",
       "    </tr>\n",
       "  </thead>\n",
       "  <tbody>\n",
       "    <tr>\n",
       "      <th>0</th>\n",
       "      <td>Douglas</td>\n",
       "      <td>Male</td>\n",
       "      <td>1993-08-06</td>\n",
       "      <td>NaN</td>\n",
       "      <td>True</td>\n",
       "      <td>Marketing</td>\n",
       "    </tr>\n",
       "    <tr>\n",
       "      <th>1</th>\n",
       "      <td>Thomas</td>\n",
       "      <td>Male</td>\n",
       "      <td>1996-03-31</td>\n",
       "      <td>61933.0</td>\n",
       "      <td>True</td>\n",
       "      <td>NaN</td>\n",
       "    </tr>\n",
       "    <tr>\n",
       "      <th>2</th>\n",
       "      <td>Maria</td>\n",
       "      <td>Female</td>\n",
       "      <td>NaT</td>\n",
       "      <td>130590.0</td>\n",
       "      <td>False</td>\n",
       "      <td>Finance</td>\n",
       "    </tr>\n",
       "    <tr>\n",
       "      <th>4</th>\n",
       "      <td>Larry</td>\n",
       "      <td>Male</td>\n",
       "      <td>1998-01-24</td>\n",
       "      <td>101004.0</td>\n",
       "      <td>True</td>\n",
       "      <td>IT</td>\n",
       "    </tr>\n",
       "    <tr>\n",
       "      <th>5</th>\n",
       "      <td>Dennis</td>\n",
       "      <td>Male</td>\n",
       "      <td>1987-04-18</td>\n",
       "      <td>115163.0</td>\n",
       "      <td>False</td>\n",
       "      <td>Legal</td>\n",
       "    </tr>\n",
       "  </tbody>\n",
       "</table>\n",
       "</div>"
      ],
      "text/plain": [
       "  First Name  Gender Start Date    Salary   Mgmt       Team\n",
       "0    Douglas    Male 1993-08-06       NaN   True  Marketing\n",
       "1     Thomas    Male 1996-03-31   61933.0   True        NaN\n",
       "2      Maria  Female        NaT  130590.0  False    Finance\n",
       "4      Larry    Male 1998-01-24  101004.0   True         IT\n",
       "5     Dennis    Male 1987-04-18  115163.0  False      Legal"
      ]
     },
     "execution_count": 62,
     "metadata": {},
     "output_type": "execute_result"
    }
   ],
   "source": [
    "df_dealna.dropna(subset=['Gender']).head()"
   ]
  },
  {
   "cell_type": "markdown",
   "id": "8685682f",
   "metadata": {},
   "source": [
    "**Cleaning a few columns**"
   ]
  },
  {
   "cell_type": "code",
   "execution_count": 63,
   "id": "f2df4250",
   "metadata": {},
   "outputs": [
    {
     "data": {
      "application/vnd.microsoft.datawrangler.viewer.v0+json": {
       "columns": [
        {
         "name": "index",
         "rawType": "object",
         "type": "string"
        },
        {
         "name": "0",
         "rawType": "int64",
         "type": "integer"
        }
       ],
       "ref": "9d55b7c6-862e-4e7d-b922-cf67b2403c53",
       "rows": [
        [
         "First Name",
         "52"
        ],
        [
         "Gender",
         "0"
        ],
        [
         "Start Date",
         "1"
        ],
        [
         "Salary",
         "0"
        ],
        [
         "Mgmt",
         "52"
        ],
        [
         "Team",
         "0"
        ]
       ],
       "shape": {
        "columns": 1,
        "rows": 6
       }
      },
      "text/plain": [
       "First Name    52\n",
       "Gender         0\n",
       "Start Date     1\n",
       "Salary         0\n",
       "Mgmt          52\n",
       "Team           0\n",
       "dtype: int64"
      ]
     },
     "execution_count": 63,
     "metadata": {},
     "output_type": "execute_result"
    }
   ],
   "source": [
    "df_dealna.dropna(subset=['Team','Salary','Gender']).isnull().sum()"
   ]
  },
  {
   "cell_type": "markdown",
   "id": "777878fe",
   "metadata": {},
   "source": [
    "**The thresh parameter allows you to set a minimum number of non-empty values\n",
    "in line**"
   ]
  },
  {
   "cell_type": "code",
   "execution_count": 64,
   "id": "06f6b16b",
   "metadata": {},
   "outputs": [
    {
     "data": {
      "application/vnd.microsoft.datawrangler.viewer.v0+json": {
       "columns": [
        {
         "name": "index",
         "rawType": "int64",
         "type": "integer"
        },
        {
         "name": "First Name",
         "rawType": "object",
         "type": "string"
        },
        {
         "name": "Gender",
         "rawType": "object",
         "type": "string"
        },
        {
         "name": "Start Date",
         "rawType": "datetime64[ns]",
         "type": "datetime"
        },
        {
         "name": "Salary",
         "rawType": "float64",
         "type": "float"
        },
        {
         "name": "Mgmt",
         "rawType": "object",
         "type": "unknown"
        },
        {
         "name": "Team",
         "rawType": "object",
         "type": "string"
        }
       ],
       "ref": "a28ba11d-fc51-4d9d-964c-5f88e1128dc6",
       "rows": [
        [
         "4",
         "Larry",
         "Male",
         "1998-01-24 00:00:00",
         "101004.0",
         "True",
         "IT"
        ],
        [
         "5",
         "Dennis",
         "Male",
         "1987-04-18 00:00:00",
         "115163.0",
         "False",
         "Legal"
        ],
        [
         "6",
         "Ruby",
         "Female",
         "1987-08-17 00:00:00",
         "65476.0",
         "True",
         "Product"
        ],
        [
         "8",
         "Angela",
         "Female",
         "2005-11-22 00:00:00",
         "95570.0",
         "True",
         "Engineering"
        ],
        [
         "9",
         "Frances",
         "Female",
         "2002-08-08 00:00:00",
         "139852.0",
         "True",
         "Business Dev"
        ]
       ],
       "shape": {
        "columns": 6,
        "rows": 5
       }
      },
      "text/html": [
       "<div>\n",
       "<style scoped>\n",
       "    .dataframe tbody tr th:only-of-type {\n",
       "        vertical-align: middle;\n",
       "    }\n",
       "\n",
       "    .dataframe tbody tr th {\n",
       "        vertical-align: top;\n",
       "    }\n",
       "\n",
       "    .dataframe thead th {\n",
       "        text-align: right;\n",
       "    }\n",
       "</style>\n",
       "<table border=\"1\" class=\"dataframe\">\n",
       "  <thead>\n",
       "    <tr style=\"text-align: right;\">\n",
       "      <th></th>\n",
       "      <th>First Name</th>\n",
       "      <th>Gender</th>\n",
       "      <th>Start Date</th>\n",
       "      <th>Salary</th>\n",
       "      <th>Mgmt</th>\n",
       "      <th>Team</th>\n",
       "    </tr>\n",
       "  </thead>\n",
       "  <tbody>\n",
       "    <tr>\n",
       "      <th>4</th>\n",
       "      <td>Larry</td>\n",
       "      <td>Male</td>\n",
       "      <td>1998-01-24</td>\n",
       "      <td>101004.0</td>\n",
       "      <td>True</td>\n",
       "      <td>IT</td>\n",
       "    </tr>\n",
       "    <tr>\n",
       "      <th>5</th>\n",
       "      <td>Dennis</td>\n",
       "      <td>Male</td>\n",
       "      <td>1987-04-18</td>\n",
       "      <td>115163.0</td>\n",
       "      <td>False</td>\n",
       "      <td>Legal</td>\n",
       "    </tr>\n",
       "    <tr>\n",
       "      <th>6</th>\n",
       "      <td>Ruby</td>\n",
       "      <td>Female</td>\n",
       "      <td>1987-08-17</td>\n",
       "      <td>65476.0</td>\n",
       "      <td>True</td>\n",
       "      <td>Product</td>\n",
       "    </tr>\n",
       "    <tr>\n",
       "      <th>8</th>\n",
       "      <td>Angela</td>\n",
       "      <td>Female</td>\n",
       "      <td>2005-11-22</td>\n",
       "      <td>95570.0</td>\n",
       "      <td>True</td>\n",
       "      <td>Engineering</td>\n",
       "    </tr>\n",
       "    <tr>\n",
       "      <th>9</th>\n",
       "      <td>Frances</td>\n",
       "      <td>Female</td>\n",
       "      <td>2002-08-08</td>\n",
       "      <td>139852.0</td>\n",
       "      <td>True</td>\n",
       "      <td>Business Dev</td>\n",
       "    </tr>\n",
       "  </tbody>\n",
       "</table>\n",
       "</div>"
      ],
      "text/plain": [
       "  First Name  Gender Start Date    Salary   Mgmt          Team\n",
       "4      Larry    Male 1998-01-24  101004.0   True            IT\n",
       "5     Dennis    Male 1987-04-18  115163.0  False         Legal\n",
       "6       Ruby  Female 1987-08-17   65476.0   True       Product\n",
       "8     Angela  Female 2005-11-22   95570.0   True   Engineering\n",
       "9    Frances  Female 2002-08-08  139852.0   True  Business Dev"
      ]
     },
     "execution_count": 64,
     "metadata": {},
     "output_type": "execute_result"
    }
   ],
   "source": [
    "# Returns all True values because of thresh=6 and Dataframe has only 6 columns\n",
    "df_dealna.dropna(thresh=6).head()"
   ]
  },
  {
   "cell_type": "code",
   "execution_count": 65,
   "id": "b7703621",
   "metadata": {},
   "outputs": [
    {
     "data": {
      "application/vnd.microsoft.datawrangler.viewer.v0+json": {
       "columns": [
        {
         "name": "index",
         "rawType": "int64",
         "type": "integer"
        },
        {
         "name": "First Name",
         "rawType": "object",
         "type": "string"
        },
        {
         "name": "Gender",
         "rawType": "object",
         "type": "unknown"
        },
        {
         "name": "Start Date",
         "rawType": "datetime64[ns]",
         "type": "datetime"
        },
        {
         "name": "Salary",
         "rawType": "float64",
         "type": "float"
        },
        {
         "name": "Mgmt",
         "rawType": "object",
         "type": "unknown"
        },
        {
         "name": "Team",
         "rawType": "object",
         "type": "unknown"
        }
       ],
       "ref": "9d0fe41b-5429-48a0-9b1f-7655b84ba75a",
       "rows": [
        [
         "0",
         "Douglas",
         "Male",
         "1993-08-06 00:00:00",
         null,
         "True",
         "Marketing"
        ],
        [
         "1",
         "Thomas",
         "Male",
         "1996-03-31 00:00:00",
         "61933.0",
         "True",
         null
        ],
        [
         "2",
         "Maria",
         "Female",
         null,
         "130590.0",
         "False",
         "Finance"
        ],
        [
         "3",
         "Jerry",
         null,
         "2005-03-04 00:00:00",
         "138705.0",
         "True",
         "Finance"
        ],
        [
         "4",
         "Larry",
         "Male",
         "1998-01-24 00:00:00",
         "101004.0",
         "True",
         "IT"
        ]
       ],
       "shape": {
        "columns": 6,
        "rows": 5
       }
      },
      "text/html": [
       "<div>\n",
       "<style scoped>\n",
       "    .dataframe tbody tr th:only-of-type {\n",
       "        vertical-align: middle;\n",
       "    }\n",
       "\n",
       "    .dataframe tbody tr th {\n",
       "        vertical-align: top;\n",
       "    }\n",
       "\n",
       "    .dataframe thead th {\n",
       "        text-align: right;\n",
       "    }\n",
       "</style>\n",
       "<table border=\"1\" class=\"dataframe\">\n",
       "  <thead>\n",
       "    <tr style=\"text-align: right;\">\n",
       "      <th></th>\n",
       "      <th>First Name</th>\n",
       "      <th>Gender</th>\n",
       "      <th>Start Date</th>\n",
       "      <th>Salary</th>\n",
       "      <th>Mgmt</th>\n",
       "      <th>Team</th>\n",
       "    </tr>\n",
       "  </thead>\n",
       "  <tbody>\n",
       "    <tr>\n",
       "      <th>0</th>\n",
       "      <td>Douglas</td>\n",
       "      <td>Male</td>\n",
       "      <td>1993-08-06</td>\n",
       "      <td>NaN</td>\n",
       "      <td>True</td>\n",
       "      <td>Marketing</td>\n",
       "    </tr>\n",
       "    <tr>\n",
       "      <th>1</th>\n",
       "      <td>Thomas</td>\n",
       "      <td>Male</td>\n",
       "      <td>1996-03-31</td>\n",
       "      <td>61933.0</td>\n",
       "      <td>True</td>\n",
       "      <td>NaN</td>\n",
       "    </tr>\n",
       "    <tr>\n",
       "      <th>2</th>\n",
       "      <td>Maria</td>\n",
       "      <td>Female</td>\n",
       "      <td>NaT</td>\n",
       "      <td>130590.0</td>\n",
       "      <td>False</td>\n",
       "      <td>Finance</td>\n",
       "    </tr>\n",
       "    <tr>\n",
       "      <th>3</th>\n",
       "      <td>Jerry</td>\n",
       "      <td>NaN</td>\n",
       "      <td>2005-03-04</td>\n",
       "      <td>138705.0</td>\n",
       "      <td>True</td>\n",
       "      <td>Finance</td>\n",
       "    </tr>\n",
       "    <tr>\n",
       "      <th>4</th>\n",
       "      <td>Larry</td>\n",
       "      <td>Male</td>\n",
       "      <td>1998-01-24</td>\n",
       "      <td>101004.0</td>\n",
       "      <td>True</td>\n",
       "      <td>IT</td>\n",
       "    </tr>\n",
       "  </tbody>\n",
       "</table>\n",
       "</div>"
      ],
      "text/plain": [
       "  First Name  Gender Start Date    Salary   Mgmt       Team\n",
       "0    Douglas    Male 1993-08-06       NaN   True  Marketing\n",
       "1     Thomas    Male 1996-03-31   61933.0   True        NaN\n",
       "2      Maria  Female        NaT  130590.0  False    Finance\n",
       "3      Jerry     NaN 2005-03-04  138705.0   True    Finance\n",
       "4      Larry    Male 1998-01-24  101004.0   True         IT"
      ]
     },
     "execution_count": 65,
     "metadata": {},
     "output_type": "execute_result"
    }
   ],
   "source": [
    "# returns all rows with at least 4 non-NA values\n",
    "df_dealna.dropna(thresh=4).head()"
   ]
  },
  {
   "cell_type": "markdown",
   "id": "b0141b63",
   "metadata": {},
   "source": [
    "### Dealing with Duplicates"
   ]
  },
  {
   "cell_type": "markdown",
   "id": "62238193",
   "metadata": {},
   "source": [
    "#### The duplicated Method"
   ]
  },
  {
   "cell_type": "code",
   "execution_count": 66,
   "id": "15d6c21a",
   "metadata": {},
   "outputs": [
    {
     "data": {
      "application/vnd.microsoft.datawrangler.viewer.v0+json": {
       "columns": [
        {
         "name": "index",
         "rawType": "int64",
         "type": "integer"
        },
        {
         "name": "Team",
         "rawType": "category",
         "type": "unknown"
        }
       ],
       "ref": "7d63c1a5-84a3-4f8e-a1f9-8ef5a2ac47fc",
       "rows": [
        [
         "0",
         "Marketing"
        ],
        [
         "1",
         null
        ],
        [
         "2",
         "Finance"
        ],
        [
         "3",
         "Finance"
        ],
        [
         "4",
         "IT"
        ]
       ],
       "shape": {
        "columns": 1,
        "rows": 5
       }
      },
      "text/plain": [
       "0    Marketing\n",
       "1          NaN\n",
       "2      Finance\n",
       "3      Finance\n",
       "4           IT\n",
       "Name: Team, dtype: category\n",
       "Categories (10, object): ['Business Dev', 'Distribution', 'Engineering', 'Finance', ..., 'Legal', 'Marketing', 'Product', 'Sales']"
      ]
     },
     "execution_count": 66,
     "metadata": {},
     "output_type": "execute_result"
    }
   ],
   "source": [
    "df_employees[\"Team\"].head()"
   ]
  },
  {
   "cell_type": "markdown",
   "id": "9c77cab8",
   "metadata": {},
   "source": [
    "**The duplicated() method compares first value with next value and if they equal returns True**"
   ]
  },
  {
   "cell_type": "code",
   "execution_count": 67,
   "id": "61a3c3d0",
   "metadata": {},
   "outputs": [
    {
     "data": {
      "application/vnd.microsoft.datawrangler.viewer.v0+json": {
       "columns": [
        {
         "name": "index",
         "rawType": "int64",
         "type": "integer"
        },
        {
         "name": "Team",
         "rawType": "bool",
         "type": "boolean"
        }
       ],
       "ref": "32d4c95c-2369-4f76-8857-9b0fa1aabde2",
       "rows": [
        [
         "0",
         "False"
        ],
        [
         "1",
         "False"
        ],
        [
         "2",
         "False"
        ],
        [
         "3",
         "True"
        ],
        [
         "4",
         "False"
        ]
       ],
       "shape": {
        "columns": 1,
        "rows": 5
       }
      },
      "text/plain": [
       "0    False\n",
       "1    False\n",
       "2    False\n",
       "3     True\n",
       "4    False\n",
       "Name: Team, dtype: bool"
      ]
     },
     "execution_count": 67,
     "metadata": {},
     "output_type": "execute_result"
    }
   ],
   "source": [
    "df_employees[\"Team\"].duplicated().head()"
   ]
  },
  {
   "cell_type": "markdown",
   "id": "426801a7",
   "metadata": {},
   "source": [
    "**The same result**"
   ]
  },
  {
   "cell_type": "code",
   "execution_count": 68,
   "id": "481f21dd",
   "metadata": {},
   "outputs": [
    {
     "data": {
      "application/vnd.microsoft.datawrangler.viewer.v0+json": {
       "columns": [
        {
         "name": "index",
         "rawType": "int64",
         "type": "integer"
        },
        {
         "name": "Team",
         "rawType": "bool",
         "type": "boolean"
        }
       ],
       "ref": "c3870b64-a87f-43f8-a579-b620dfd63d9c",
       "rows": [
        [
         "0",
         "False"
        ],
        [
         "1",
         "False"
        ],
        [
         "2",
         "False"
        ],
        [
         "3",
         "True"
        ],
        [
         "4",
         "False"
        ]
       ],
       "shape": {
        "columns": 1,
        "rows": 5
       }
      },
      "text/plain": [
       "0    False\n",
       "1    False\n",
       "2    False\n",
       "3     True\n",
       "4    False\n",
       "Name: Team, dtype: bool"
      ]
     },
     "execution_count": 68,
     "metadata": {},
     "output_type": "execute_result"
    }
   ],
   "source": [
    "df_employees[\"Team\"].duplicated(keep = \"first\").head()"
   ]
  },
  {
   "cell_type": "markdown",
   "id": "efc04255",
   "metadata": {},
   "source": [
    "**Retrieve only unique value from each Team**"
   ]
  },
  {
   "cell_type": "code",
   "execution_count": 69,
   "id": "acbd77c9",
   "metadata": {},
   "outputs": [
    {
     "data": {
      "application/vnd.microsoft.datawrangler.viewer.v0+json": {
       "columns": [
        {
         "name": "index",
         "rawType": "int64",
         "type": "integer"
        },
        {
         "name": "Team",
         "rawType": "bool",
         "type": "boolean"
        }
       ],
       "ref": "03d2afb0-a634-4d47-851b-99a427bf1cf8",
       "rows": [
        [
         "0",
         "True"
        ],
        [
         "1",
         "True"
        ],
        [
         "2",
         "True"
        ],
        [
         "3",
         "False"
        ],
        [
         "4",
         "True"
        ]
       ],
       "shape": {
        "columns": 1,
        "rows": 5
       }
      },
      "text/plain": [
       "0     True\n",
       "1     True\n",
       "2     True\n",
       "3    False\n",
       "4     True\n",
       "Name: Team, dtype: bool"
      ]
     },
     "execution_count": 69,
     "metadata": {},
     "output_type": "execute_result"
    }
   ],
   "source": [
    "(~df_employees[\"Team\"].duplicated()).head()"
   ]
  },
  {
   "cell_type": "code",
   "execution_count": 70,
   "id": "11c333cf",
   "metadata": {},
   "outputs": [
    {
     "data": {
      "application/vnd.microsoft.datawrangler.viewer.v0+json": {
       "columns": [
        {
         "name": "Team",
         "rawType": "category",
         "type": "unknown"
        },
        {
         "name": "count",
         "rawType": "int64",
         "type": "integer"
        }
       ],
       "ref": "165c996a-0e16-4308-8f7a-2d363924d179",
       "rows": [
        [
         "Business Dev",
         "1"
        ],
        [
         "Distribution",
         "1"
        ],
        [
         "Engineering",
         "1"
        ],
        [
         "Finance",
         "1"
        ],
        [
         "HR",
         "1"
        ],
        [
         "IT",
         "1"
        ],
        [
         "Legal",
         "1"
        ],
        [
         "Marketing",
         "1"
        ],
        [
         "Product",
         "1"
        ],
        [
         "Sales",
         "1"
        ]
       ],
       "shape": {
        "columns": 1,
        "rows": 10
       }
      },
      "text/plain": [
       "Team\n",
       "Business Dev    1\n",
       "Distribution    1\n",
       "Engineering     1\n",
       "Finance         1\n",
       "HR              1\n",
       "IT              1\n",
       "Legal           1\n",
       "Marketing       1\n",
       "Product         1\n",
       "Sales           1\n",
       "Name: count, dtype: int64"
      ]
     },
     "execution_count": 70,
     "metadata": {},
     "output_type": "execute_result"
    }
   ],
   "source": [
    "first_one_in_team = ~df_employees[\"Team\"].duplicated()\n",
    "df_employees[first_one_in_team].value_counts('Team')"
   ]
  },
  {
   "cell_type": "code",
   "execution_count": 71,
   "id": "6f301938",
   "metadata": {},
   "outputs": [
    {
     "data": {
      "application/vnd.microsoft.datawrangler.viewer.v0+json": {
       "columns": [
        {
         "name": "Team",
         "rawType": "category",
         "type": "unknown"
        },
        {
         "name": "count",
         "rawType": "int64",
         "type": "integer"
        }
       ],
       "ref": "7ec78798-0c54-4461-95e3-6a5eb6471a1a",
       "rows": [
        [
         "IT",
         "106"
        ],
        [
         "Finance",
         "102"
        ],
        [
         "Business Dev",
         "101"
        ],
        [
         "Marketing",
         "98"
        ],
        [
         "Product",
         "95"
        ],
        [
         "Sales",
         "94"
        ],
        [
         "Engineering",
         "92"
        ],
        [
         "HR",
         "91"
        ],
        [
         "Distribution",
         "90"
        ],
        [
         "Legal",
         "88"
        ]
       ],
       "shape": {
        "columns": 1,
        "rows": 10
       }
      },
      "text/plain": [
       "Team\n",
       "IT              106\n",
       "Finance         102\n",
       "Business Dev    101\n",
       "Marketing        98\n",
       "Product          95\n",
       "Sales            94\n",
       "Engineering      92\n",
       "HR               91\n",
       "Distribution     90\n",
       "Legal            88\n",
       "Name: count, dtype: int64"
      ]
     },
     "execution_count": 71,
     "metadata": {},
     "output_type": "execute_result"
    }
   ],
   "source": [
    "df_employees['Team'].value_counts()"
   ]
  },
  {
   "cell_type": "markdown",
   "id": "3147f688",
   "metadata": {},
   "source": [
    "#### The drop_duplicates Method"
   ]
  },
  {
   "cell_type": "markdown",
   "id": "de0aefe6",
   "metadata": {},
   "source": [
    "**The parameter subset determines which column will be affected**"
   ]
  },
  {
   "cell_type": "code",
   "execution_count": 72,
   "id": "908bfacc",
   "metadata": {},
   "outputs": [
    {
     "data": {
      "application/vnd.microsoft.datawrangler.viewer.v0+json": {
       "columns": [
        {
         "name": "index",
         "rawType": "int64",
         "type": "integer"
        },
        {
         "name": "First Name",
         "rawType": "object",
         "type": "string"
        },
        {
         "name": "Gender",
         "rawType": "category",
         "type": "unknown"
        },
        {
         "name": "Start Date",
         "rawType": "object",
         "type": "unknown"
        },
        {
         "name": "Salary",
         "rawType": "int32",
         "type": "integer"
        },
        {
         "name": "Mgmt",
         "rawType": "bool",
         "type": "boolean"
        },
        {
         "name": "Team",
         "rawType": "category",
         "type": "unknown"
        }
       ],
       "ref": "f68d10d4-5d28-4dab-9c49-bba71d1ed67e",
       "rows": [
        [
         "0",
         "Douglas",
         "Male",
         "1993-08-06",
         "0",
         "True",
         "Marketing"
        ],
        [
         "1",
         "Thomas",
         "Male",
         "1996-03-31",
         "61933",
         "True",
         null
        ],
        [
         "2",
         "Maria",
         "Female",
         null,
         "130590",
         "False",
         "Finance"
        ],
        [
         "4",
         "Larry",
         "Male",
         "1998-01-24",
         "101004",
         "True",
         "IT"
        ],
        [
         "5",
         "Dennis",
         "Male",
         "1987-04-18",
         "115163",
         "False",
         "Legal"
        ],
        [
         "6",
         "Ruby",
         "Female",
         "1987-08-17",
         "65476",
         "True",
         "Product"
        ],
        [
         "8",
         "Angela",
         "Female",
         "2005-11-22",
         "95570",
         "True",
         "Engineering"
        ],
        [
         "9",
         "Frances",
         "Female",
         "2002-08-08",
         "139852",
         "True",
         "Business Dev"
        ],
        [
         "12",
         "Brandon",
         "Male",
         "1980-12-01",
         "112807",
         "True",
         "HR"
        ],
        [
         "13",
         "Gary",
         "Male",
         "2008-01-27",
         "109831",
         "False",
         "Sales"
        ],
        [
         "40",
         "Michael",
         "Male",
         "2008-10-10",
         "99283",
         "True",
         "Distribution"
        ]
       ],
       "shape": {
        "columns": 6,
        "rows": 11
       }
      },
      "text/html": [
       "<div>\n",
       "<style scoped>\n",
       "    .dataframe tbody tr th:only-of-type {\n",
       "        vertical-align: middle;\n",
       "    }\n",
       "\n",
       "    .dataframe tbody tr th {\n",
       "        vertical-align: top;\n",
       "    }\n",
       "\n",
       "    .dataframe thead th {\n",
       "        text-align: right;\n",
       "    }\n",
       "</style>\n",
       "<table border=\"1\" class=\"dataframe\">\n",
       "  <thead>\n",
       "    <tr style=\"text-align: right;\">\n",
       "      <th></th>\n",
       "      <th>First Name</th>\n",
       "      <th>Gender</th>\n",
       "      <th>Start Date</th>\n",
       "      <th>Salary</th>\n",
       "      <th>Mgmt</th>\n",
       "      <th>Team</th>\n",
       "    </tr>\n",
       "  </thead>\n",
       "  <tbody>\n",
       "    <tr>\n",
       "      <th>0</th>\n",
       "      <td>Douglas</td>\n",
       "      <td>Male</td>\n",
       "      <td>1993-08-06</td>\n",
       "      <td>0</td>\n",
       "      <td>True</td>\n",
       "      <td>Marketing</td>\n",
       "    </tr>\n",
       "    <tr>\n",
       "      <th>1</th>\n",
       "      <td>Thomas</td>\n",
       "      <td>Male</td>\n",
       "      <td>1996-03-31</td>\n",
       "      <td>61933</td>\n",
       "      <td>True</td>\n",
       "      <td>NaN</td>\n",
       "    </tr>\n",
       "    <tr>\n",
       "      <th>2</th>\n",
       "      <td>Maria</td>\n",
       "      <td>Female</td>\n",
       "      <td>NaN</td>\n",
       "      <td>130590</td>\n",
       "      <td>False</td>\n",
       "      <td>Finance</td>\n",
       "    </tr>\n",
       "    <tr>\n",
       "      <th>4</th>\n",
       "      <td>Larry</td>\n",
       "      <td>Male</td>\n",
       "      <td>1998-01-24</td>\n",
       "      <td>101004</td>\n",
       "      <td>True</td>\n",
       "      <td>IT</td>\n",
       "    </tr>\n",
       "    <tr>\n",
       "      <th>5</th>\n",
       "      <td>Dennis</td>\n",
       "      <td>Male</td>\n",
       "      <td>1987-04-18</td>\n",
       "      <td>115163</td>\n",
       "      <td>False</td>\n",
       "      <td>Legal</td>\n",
       "    </tr>\n",
       "    <tr>\n",
       "      <th>6</th>\n",
       "      <td>Ruby</td>\n",
       "      <td>Female</td>\n",
       "      <td>1987-08-17</td>\n",
       "      <td>65476</td>\n",
       "      <td>True</td>\n",
       "      <td>Product</td>\n",
       "    </tr>\n",
       "    <tr>\n",
       "      <th>8</th>\n",
       "      <td>Angela</td>\n",
       "      <td>Female</td>\n",
       "      <td>2005-11-22</td>\n",
       "      <td>95570</td>\n",
       "      <td>True</td>\n",
       "      <td>Engineering</td>\n",
       "    </tr>\n",
       "    <tr>\n",
       "      <th>9</th>\n",
       "      <td>Frances</td>\n",
       "      <td>Female</td>\n",
       "      <td>2002-08-08</td>\n",
       "      <td>139852</td>\n",
       "      <td>True</td>\n",
       "      <td>Business Dev</td>\n",
       "    </tr>\n",
       "    <tr>\n",
       "      <th>12</th>\n",
       "      <td>Brandon</td>\n",
       "      <td>Male</td>\n",
       "      <td>1980-12-01</td>\n",
       "      <td>112807</td>\n",
       "      <td>True</td>\n",
       "      <td>HR</td>\n",
       "    </tr>\n",
       "    <tr>\n",
       "      <th>13</th>\n",
       "      <td>Gary</td>\n",
       "      <td>Male</td>\n",
       "      <td>2008-01-27</td>\n",
       "      <td>109831</td>\n",
       "      <td>False</td>\n",
       "      <td>Sales</td>\n",
       "    </tr>\n",
       "    <tr>\n",
       "      <th>40</th>\n",
       "      <td>Michael</td>\n",
       "      <td>Male</td>\n",
       "      <td>2008-10-10</td>\n",
       "      <td>99283</td>\n",
       "      <td>True</td>\n",
       "      <td>Distribution</td>\n",
       "    </tr>\n",
       "  </tbody>\n",
       "</table>\n",
       "</div>"
      ],
      "text/plain": [
       "   First Name  Gender  Start Date  Salary   Mgmt          Team\n",
       "0     Douglas    Male  1993-08-06       0   True     Marketing\n",
       "1      Thomas    Male  1996-03-31   61933   True           NaN\n",
       "2       Maria  Female         NaN  130590  False       Finance\n",
       "4       Larry    Male  1998-01-24  101004   True            IT\n",
       "5      Dennis    Male  1987-04-18  115163  False         Legal\n",
       "6        Ruby  Female  1987-08-17   65476   True       Product\n",
       "8      Angela  Female  2005-11-22   95570   True   Engineering\n",
       "9     Frances  Female  2002-08-08  139852   True  Business Dev\n",
       "12    Brandon    Male  1980-12-01  112807   True            HR\n",
       "13       Gary    Male  2008-01-27  109831  False         Sales\n",
       "40    Michael    Male  2008-10-10   99283   True  Distribution"
      ]
     },
     "execution_count": 72,
     "metadata": {},
     "output_type": "execute_result"
    }
   ],
   "source": [
    "df_employees.drop_duplicates(subset=['Team']).head(20)"
   ]
  },
  {
   "cell_type": "markdown",
   "id": "5efa08f8",
   "metadata": {},
   "source": [
    "**Drop duplicates using a pair of columns**"
   ]
  },
  {
   "cell_type": "code",
   "execution_count": 73,
   "id": "8c4372c8",
   "metadata": {},
   "outputs": [
    {
     "data": {
      "application/vnd.microsoft.datawrangler.viewer.v0+json": {
       "columns": [
        {
         "name": "index",
         "rawType": "int64",
         "type": "integer"
        },
        {
         "name": "First Name",
         "rawType": "object",
         "type": "string"
        },
        {
         "name": "Gender",
         "rawType": "category",
         "type": "unknown"
        },
        {
         "name": "Start Date",
         "rawType": "object",
         "type": "unknown"
        },
        {
         "name": "Salary",
         "rawType": "int32",
         "type": "integer"
        },
        {
         "name": "Mgmt",
         "rawType": "bool",
         "type": "boolean"
        },
        {
         "name": "Team",
         "rawType": "category",
         "type": "unknown"
        }
       ],
       "ref": "47c51105-6ed9-4e8f-bd75-993700a9465c",
       "rows": [
        [
         "0",
         "Douglas",
         "Male",
         "1993-08-06",
         "0",
         "True",
         "Marketing"
        ],
        [
         "1",
         "Thomas",
         "Male",
         "1996-03-31",
         "61933",
         "True",
         null
        ],
        [
         "2",
         "Maria",
         "Female",
         null,
         "130590",
         "False",
         "Finance"
        ],
        [
         "3",
         "Jerry",
         null,
         "2005-03-04",
         "138705",
         "True",
         "Finance"
        ],
        [
         "4",
         "Larry",
         "Male",
         "1998-01-24",
         "101004",
         "True",
         "IT"
        ],
        [
         "5",
         "Dennis",
         "Male",
         "1987-04-18",
         "115163",
         "False",
         "Legal"
        ],
        [
         "6",
         "Ruby",
         "Female",
         "1987-08-17",
         "65476",
         "True",
         "Product"
        ],
        [
         "8",
         "Angela",
         "Female",
         "2005-11-22",
         "95570",
         "True",
         "Engineering"
        ],
        [
         "9",
         "Frances",
         "Female",
         "2002-08-08",
         "139852",
         "True",
         "Business Dev"
        ],
        [
         "10",
         "Louise",
         "Female",
         "1980-08-12",
         "63241",
         "True",
         null
        ],
        [
         "11",
         "Julie",
         "Female",
         "1997-10-26",
         "102508",
         "True",
         "Legal"
        ],
        [
         "12",
         "Brandon",
         "Male",
         "1980-12-01",
         "112807",
         "True",
         "HR"
        ],
        [
         "13",
         "Gary",
         "Male",
         "2008-01-27",
         "109831",
         "False",
         "Sales"
        ],
        [
         "17",
         "Shawn",
         "Male",
         "1986-12-07",
         "111737",
         "False",
         "Product"
        ],
        [
         "18",
         "Diana",
         "Female",
         "1981-10-23",
         "132940",
         "False",
         "IT"
        ],
        [
         "20",
         "Lois",
         null,
         "1995-04-22",
         "64714",
         "True",
         "Legal"
        ],
        [
         "22",
         "Joshua",
         null,
         "2012-03-08",
         "90816",
         "True",
         "IT"
        ],
        [
         "31",
         "Joyce",
         null,
         "2005-02-20",
         "88657",
         "False",
         "Product"
        ],
        [
         "35",
         "Theresa",
         "Female",
         "2006-10-10",
         "85182",
         "False",
         "Sales"
        ],
        [
         "40",
         "Michael",
         "Male",
         "2008-10-10",
         "99283",
         "True",
         "Distribution"
        ],
        [
         "41",
         "Christine",
         null,
         "2015-06-28",
         "66582",
         "True",
         "Business Dev"
        ],
        [
         "43",
         "Marilyn",
         "Female",
         "1980-12-07",
         "73524",
         "True",
         "Marketing"
        ],
        [
         "46",
         "Bruce",
         "Male",
         "2009-11-28",
         "114796",
         "False",
         "Finance"
        ],
        [
         "48",
         "Clarence",
         "Male",
         "1996-03-26",
         "93581",
         "True",
         "Business Dev"
        ],
        [
         "49",
         "Chris",
         null,
         "1980-01-24",
         "113590",
         "False",
         "Sales"
        ],
        [
         "60",
         "Paula",
         null,
         "2005-11-23",
         "48866",
         "False",
         "Distribution"
        ],
        [
         "75",
         "Bonnie",
         "Female",
         "1991-07-02",
         "104897",
         "True",
         "HR"
        ],
        [
         "76",
         "Margaret",
         "Female",
         "1988-09-10",
         "131604",
         "True",
         "Distribution"
        ],
        [
         "91",
         "James",
         null,
         "2005-01-26",
         "128771",
         "False",
         null
        ],
        [
         "97",
         "Laura",
         null,
         "2014-07-19",
         "140371",
         "True",
         "Marketing"
        ]
       ],
       "shape": {
        "columns": 6,
        "rows": 30
       }
      },
      "text/html": [
       "<div>\n",
       "<style scoped>\n",
       "    .dataframe tbody tr th:only-of-type {\n",
       "        vertical-align: middle;\n",
       "    }\n",
       "\n",
       "    .dataframe tbody tr th {\n",
       "        vertical-align: top;\n",
       "    }\n",
       "\n",
       "    .dataframe thead th {\n",
       "        text-align: right;\n",
       "    }\n",
       "</style>\n",
       "<table border=\"1\" class=\"dataframe\">\n",
       "  <thead>\n",
       "    <tr style=\"text-align: right;\">\n",
       "      <th></th>\n",
       "      <th>First Name</th>\n",
       "      <th>Gender</th>\n",
       "      <th>Start Date</th>\n",
       "      <th>Salary</th>\n",
       "      <th>Mgmt</th>\n",
       "      <th>Team</th>\n",
       "    </tr>\n",
       "  </thead>\n",
       "  <tbody>\n",
       "    <tr>\n",
       "      <th>0</th>\n",
       "      <td>Douglas</td>\n",
       "      <td>Male</td>\n",
       "      <td>1993-08-06</td>\n",
       "      <td>0</td>\n",
       "      <td>True</td>\n",
       "      <td>Marketing</td>\n",
       "    </tr>\n",
       "    <tr>\n",
       "      <th>1</th>\n",
       "      <td>Thomas</td>\n",
       "      <td>Male</td>\n",
       "      <td>1996-03-31</td>\n",
       "      <td>61933</td>\n",
       "      <td>True</td>\n",
       "      <td>NaN</td>\n",
       "    </tr>\n",
       "    <tr>\n",
       "      <th>2</th>\n",
       "      <td>Maria</td>\n",
       "      <td>Female</td>\n",
       "      <td>NaN</td>\n",
       "      <td>130590</td>\n",
       "      <td>False</td>\n",
       "      <td>Finance</td>\n",
       "    </tr>\n",
       "    <tr>\n",
       "      <th>3</th>\n",
       "      <td>Jerry</td>\n",
       "      <td>NaN</td>\n",
       "      <td>2005-03-04</td>\n",
       "      <td>138705</td>\n",
       "      <td>True</td>\n",
       "      <td>Finance</td>\n",
       "    </tr>\n",
       "    <tr>\n",
       "      <th>4</th>\n",
       "      <td>Larry</td>\n",
       "      <td>Male</td>\n",
       "      <td>1998-01-24</td>\n",
       "      <td>101004</td>\n",
       "      <td>True</td>\n",
       "      <td>IT</td>\n",
       "    </tr>\n",
       "    <tr>\n",
       "      <th>5</th>\n",
       "      <td>Dennis</td>\n",
       "      <td>Male</td>\n",
       "      <td>1987-04-18</td>\n",
       "      <td>115163</td>\n",
       "      <td>False</td>\n",
       "      <td>Legal</td>\n",
       "    </tr>\n",
       "    <tr>\n",
       "      <th>6</th>\n",
       "      <td>Ruby</td>\n",
       "      <td>Female</td>\n",
       "      <td>1987-08-17</td>\n",
       "      <td>65476</td>\n",
       "      <td>True</td>\n",
       "      <td>Product</td>\n",
       "    </tr>\n",
       "    <tr>\n",
       "      <th>8</th>\n",
       "      <td>Angela</td>\n",
       "      <td>Female</td>\n",
       "      <td>2005-11-22</td>\n",
       "      <td>95570</td>\n",
       "      <td>True</td>\n",
       "      <td>Engineering</td>\n",
       "    </tr>\n",
       "    <tr>\n",
       "      <th>9</th>\n",
       "      <td>Frances</td>\n",
       "      <td>Female</td>\n",
       "      <td>2002-08-08</td>\n",
       "      <td>139852</td>\n",
       "      <td>True</td>\n",
       "      <td>Business Dev</td>\n",
       "    </tr>\n",
       "    <tr>\n",
       "      <th>10</th>\n",
       "      <td>Louise</td>\n",
       "      <td>Female</td>\n",
       "      <td>1980-08-12</td>\n",
       "      <td>63241</td>\n",
       "      <td>True</td>\n",
       "      <td>NaN</td>\n",
       "    </tr>\n",
       "    <tr>\n",
       "      <th>11</th>\n",
       "      <td>Julie</td>\n",
       "      <td>Female</td>\n",
       "      <td>1997-10-26</td>\n",
       "      <td>102508</td>\n",
       "      <td>True</td>\n",
       "      <td>Legal</td>\n",
       "    </tr>\n",
       "    <tr>\n",
       "      <th>12</th>\n",
       "      <td>Brandon</td>\n",
       "      <td>Male</td>\n",
       "      <td>1980-12-01</td>\n",
       "      <td>112807</td>\n",
       "      <td>True</td>\n",
       "      <td>HR</td>\n",
       "    </tr>\n",
       "    <tr>\n",
       "      <th>13</th>\n",
       "      <td>Gary</td>\n",
       "      <td>Male</td>\n",
       "      <td>2008-01-27</td>\n",
       "      <td>109831</td>\n",
       "      <td>False</td>\n",
       "      <td>Sales</td>\n",
       "    </tr>\n",
       "    <tr>\n",
       "      <th>17</th>\n",
       "      <td>Shawn</td>\n",
       "      <td>Male</td>\n",
       "      <td>1986-12-07</td>\n",
       "      <td>111737</td>\n",
       "      <td>False</td>\n",
       "      <td>Product</td>\n",
       "    </tr>\n",
       "    <tr>\n",
       "      <th>18</th>\n",
       "      <td>Diana</td>\n",
       "      <td>Female</td>\n",
       "      <td>1981-10-23</td>\n",
       "      <td>132940</td>\n",
       "      <td>False</td>\n",
       "      <td>IT</td>\n",
       "    </tr>\n",
       "    <tr>\n",
       "      <th>20</th>\n",
       "      <td>Lois</td>\n",
       "      <td>NaN</td>\n",
       "      <td>1995-04-22</td>\n",
       "      <td>64714</td>\n",
       "      <td>True</td>\n",
       "      <td>Legal</td>\n",
       "    </tr>\n",
       "    <tr>\n",
       "      <th>22</th>\n",
       "      <td>Joshua</td>\n",
       "      <td>NaN</td>\n",
       "      <td>2012-03-08</td>\n",
       "      <td>90816</td>\n",
       "      <td>True</td>\n",
       "      <td>IT</td>\n",
       "    </tr>\n",
       "    <tr>\n",
       "      <th>31</th>\n",
       "      <td>Joyce</td>\n",
       "      <td>NaN</td>\n",
       "      <td>2005-02-20</td>\n",
       "      <td>88657</td>\n",
       "      <td>False</td>\n",
       "      <td>Product</td>\n",
       "    </tr>\n",
       "    <tr>\n",
       "      <th>35</th>\n",
       "      <td>Theresa</td>\n",
       "      <td>Female</td>\n",
       "      <td>2006-10-10</td>\n",
       "      <td>85182</td>\n",
       "      <td>False</td>\n",
       "      <td>Sales</td>\n",
       "    </tr>\n",
       "    <tr>\n",
       "      <th>40</th>\n",
       "      <td>Michael</td>\n",
       "      <td>Male</td>\n",
       "      <td>2008-10-10</td>\n",
       "      <td>99283</td>\n",
       "      <td>True</td>\n",
       "      <td>Distribution</td>\n",
       "    </tr>\n",
       "    <tr>\n",
       "      <th>41</th>\n",
       "      <td>Christine</td>\n",
       "      <td>NaN</td>\n",
       "      <td>2015-06-28</td>\n",
       "      <td>66582</td>\n",
       "      <td>True</td>\n",
       "      <td>Business Dev</td>\n",
       "    </tr>\n",
       "    <tr>\n",
       "      <th>43</th>\n",
       "      <td>Marilyn</td>\n",
       "      <td>Female</td>\n",
       "      <td>1980-12-07</td>\n",
       "      <td>73524</td>\n",
       "      <td>True</td>\n",
       "      <td>Marketing</td>\n",
       "    </tr>\n",
       "    <tr>\n",
       "      <th>46</th>\n",
       "      <td>Bruce</td>\n",
       "      <td>Male</td>\n",
       "      <td>2009-11-28</td>\n",
       "      <td>114796</td>\n",
       "      <td>False</td>\n",
       "      <td>Finance</td>\n",
       "    </tr>\n",
       "    <tr>\n",
       "      <th>48</th>\n",
       "      <td>Clarence</td>\n",
       "      <td>Male</td>\n",
       "      <td>1996-03-26</td>\n",
       "      <td>93581</td>\n",
       "      <td>True</td>\n",
       "      <td>Business Dev</td>\n",
       "    </tr>\n",
       "    <tr>\n",
       "      <th>49</th>\n",
       "      <td>Chris</td>\n",
       "      <td>NaN</td>\n",
       "      <td>1980-01-24</td>\n",
       "      <td>113590</td>\n",
       "      <td>False</td>\n",
       "      <td>Sales</td>\n",
       "    </tr>\n",
       "    <tr>\n",
       "      <th>60</th>\n",
       "      <td>Paula</td>\n",
       "      <td>NaN</td>\n",
       "      <td>2005-11-23</td>\n",
       "      <td>48866</td>\n",
       "      <td>False</td>\n",
       "      <td>Distribution</td>\n",
       "    </tr>\n",
       "    <tr>\n",
       "      <th>75</th>\n",
       "      <td>Bonnie</td>\n",
       "      <td>Female</td>\n",
       "      <td>1991-07-02</td>\n",
       "      <td>104897</td>\n",
       "      <td>True</td>\n",
       "      <td>HR</td>\n",
       "    </tr>\n",
       "    <tr>\n",
       "      <th>76</th>\n",
       "      <td>Margaret</td>\n",
       "      <td>Female</td>\n",
       "      <td>1988-09-10</td>\n",
       "      <td>131604</td>\n",
       "      <td>True</td>\n",
       "      <td>Distribution</td>\n",
       "    </tr>\n",
       "    <tr>\n",
       "      <th>91</th>\n",
       "      <td>James</td>\n",
       "      <td>NaN</td>\n",
       "      <td>2005-01-26</td>\n",
       "      <td>128771</td>\n",
       "      <td>False</td>\n",
       "      <td>NaN</td>\n",
       "    </tr>\n",
       "    <tr>\n",
       "      <th>97</th>\n",
       "      <td>Laura</td>\n",
       "      <td>NaN</td>\n",
       "      <td>2014-07-19</td>\n",
       "      <td>140371</td>\n",
       "      <td>True</td>\n",
       "      <td>Marketing</td>\n",
       "    </tr>\n",
       "  </tbody>\n",
       "</table>\n",
       "</div>"
      ],
      "text/plain": [
       "   First Name  Gender  Start Date  Salary   Mgmt          Team\n",
       "0     Douglas    Male  1993-08-06       0   True     Marketing\n",
       "1      Thomas    Male  1996-03-31   61933   True           NaN\n",
       "2       Maria  Female         NaN  130590  False       Finance\n",
       "3       Jerry     NaN  2005-03-04  138705   True       Finance\n",
       "4       Larry    Male  1998-01-24  101004   True            IT\n",
       "5      Dennis    Male  1987-04-18  115163  False         Legal\n",
       "6        Ruby  Female  1987-08-17   65476   True       Product\n",
       "8      Angela  Female  2005-11-22   95570   True   Engineering\n",
       "9     Frances  Female  2002-08-08  139852   True  Business Dev\n",
       "10     Louise  Female  1980-08-12   63241   True           NaN\n",
       "11      Julie  Female  1997-10-26  102508   True         Legal\n",
       "12    Brandon    Male  1980-12-01  112807   True            HR\n",
       "13       Gary    Male  2008-01-27  109831  False         Sales\n",
       "17      Shawn    Male  1986-12-07  111737  False       Product\n",
       "18      Diana  Female  1981-10-23  132940  False            IT\n",
       "20       Lois     NaN  1995-04-22   64714   True         Legal\n",
       "22     Joshua     NaN  2012-03-08   90816   True            IT\n",
       "31      Joyce     NaN  2005-02-20   88657  False       Product\n",
       "35    Theresa  Female  2006-10-10   85182  False         Sales\n",
       "40    Michael    Male  2008-10-10   99283   True  Distribution\n",
       "41  Christine     NaN  2015-06-28   66582   True  Business Dev\n",
       "43    Marilyn  Female  1980-12-07   73524   True     Marketing\n",
       "46      Bruce    Male  2009-11-28  114796  False       Finance\n",
       "48   Clarence    Male  1996-03-26   93581   True  Business Dev\n",
       "49      Chris     NaN  1980-01-24  113590  False         Sales\n",
       "60      Paula     NaN  2005-11-23   48866  False  Distribution\n",
       "75     Bonnie  Female  1991-07-02  104897   True            HR\n",
       "76   Margaret  Female  1988-09-10  131604   True  Distribution\n",
       "91      James     NaN  2005-01-26  128771  False           NaN\n",
       "97      Laura     NaN  2014-07-19  140371   True     Marketing"
      ]
     },
     "execution_count": 73,
     "metadata": {},
     "output_type": "execute_result"
    }
   ],
   "source": [
    "df_employees.drop_duplicates(subset = [\"Gender\", \"Team\"]).head(30)"
   ]
  },
  {
   "cell_type": "markdown",
   "id": "8c5e89bf",
   "metadata": {},
   "source": [
    "**Comparing performs using the first row, so the row with Gender = 'Male' and Team = 'Marketing' will be unique and all other rows with the same pair will be removed**"
   ]
  },
  {
   "cell_type": "markdown",
   "id": "a4cb9598",
   "metadata": {},
   "source": [
    "### Tasks"
   ]
  },
  {
   "cell_type": "code",
   "execution_count": 74,
   "id": "8d0c7284",
   "metadata": {},
   "outputs": [
    {
     "name": "stderr",
     "output_type": "stream",
     "text": [
      "/var/folders/pg/x6kyk1l92fj8q4332g1j8rnw0000gp/T/ipykernel_14021/1925059204.py:1: UserWarning: Could not infer format, so each element will be parsed individually, falling back to `dateutil`. To ensure parsing is consistent and as-expected, please specify a format.\n",
      "  df_netflix = pd.read_csv('/Users/ypushiev/Learning/PANDAS IN ACTION/Chapter 5 Dataframe filtering/Data/netflix.csv',parse_dates = ['date_added'])\n"
     ]
    }
   ],
   "source": [
    "df_netflix = pd.read_csv('/Users/ypushiev/Learning/PANDAS IN ACTION/Chapter 5 Dataframe filtering/Data/netflix.csv',parse_dates = ['date_added'])"
   ]
  },
  {
   "cell_type": "markdown",
   "id": "094fbd30",
   "metadata": {},
   "source": [
    "**Optimize the Dataframe size** "
   ]
  },
  {
   "cell_type": "code",
   "execution_count": 75,
   "id": "63e0e478",
   "metadata": {},
   "outputs": [
    {
     "data": {
      "application/vnd.microsoft.datawrangler.viewer.v0+json": {
       "columns": [
        {
         "name": "index",
         "rawType": "int64",
         "type": "integer"
        },
        {
         "name": "title",
         "rawType": "object",
         "type": "string"
        },
        {
         "name": "director",
         "rawType": "object",
         "type": "unknown"
        },
        {
         "name": "date_added",
         "rawType": "datetime64[ns]",
         "type": "datetime"
        },
        {
         "name": "type",
         "rawType": "object",
         "type": "string"
        }
       ],
       "ref": "224724e8-494c-474d-a1a5-d8473714d371",
       "rows": [
        [
         "0",
         "Alias Grace",
         null,
         "2017-11-03 00:00:00",
         "TV Show"
        ],
        [
         "1",
         "A Patch of Fog",
         "Michael Lennox",
         "2017-04-15 00:00:00",
         "Movie"
        ],
        [
         "2",
         "Lunatics",
         null,
         "2019-04-19 00:00:00",
         "TV Show"
        ],
        [
         "3",
         "Uriyadi 2",
         "Vijay Kumar",
         "2019-08-02 00:00:00",
         "Movie"
        ],
        [
         "4",
         "Shrek the Musical",
         "Jason Moore",
         "2013-12-29 00:00:00",
         "Movie"
        ]
       ],
       "shape": {
        "columns": 4,
        "rows": 5
       }
      },
      "text/html": [
       "<div>\n",
       "<style scoped>\n",
       "    .dataframe tbody tr th:only-of-type {\n",
       "        vertical-align: middle;\n",
       "    }\n",
       "\n",
       "    .dataframe tbody tr th {\n",
       "        vertical-align: top;\n",
       "    }\n",
       "\n",
       "    .dataframe thead th {\n",
       "        text-align: right;\n",
       "    }\n",
       "</style>\n",
       "<table border=\"1\" class=\"dataframe\">\n",
       "  <thead>\n",
       "    <tr style=\"text-align: right;\">\n",
       "      <th></th>\n",
       "      <th>title</th>\n",
       "      <th>director</th>\n",
       "      <th>date_added</th>\n",
       "      <th>type</th>\n",
       "    </tr>\n",
       "  </thead>\n",
       "  <tbody>\n",
       "    <tr>\n",
       "      <th>0</th>\n",
       "      <td>Alias Grace</td>\n",
       "      <td>NaN</td>\n",
       "      <td>2017-11-03</td>\n",
       "      <td>TV Show</td>\n",
       "    </tr>\n",
       "    <tr>\n",
       "      <th>1</th>\n",
       "      <td>A Patch of Fog</td>\n",
       "      <td>Michael Lennox</td>\n",
       "      <td>2017-04-15</td>\n",
       "      <td>Movie</td>\n",
       "    </tr>\n",
       "    <tr>\n",
       "      <th>2</th>\n",
       "      <td>Lunatics</td>\n",
       "      <td>NaN</td>\n",
       "      <td>2019-04-19</td>\n",
       "      <td>TV Show</td>\n",
       "    </tr>\n",
       "    <tr>\n",
       "      <th>3</th>\n",
       "      <td>Uriyadi 2</td>\n",
       "      <td>Vijay Kumar</td>\n",
       "      <td>2019-08-02</td>\n",
       "      <td>Movie</td>\n",
       "    </tr>\n",
       "    <tr>\n",
       "      <th>4</th>\n",
       "      <td>Shrek the Musical</td>\n",
       "      <td>Jason Moore</td>\n",
       "      <td>2013-12-29</td>\n",
       "      <td>Movie</td>\n",
       "    </tr>\n",
       "  </tbody>\n",
       "</table>\n",
       "</div>"
      ],
      "text/plain": [
       "               title        director date_added     type\n",
       "0        Alias Grace             NaN 2017-11-03  TV Show\n",
       "1     A Patch of Fog  Michael Lennox 2017-04-15    Movie\n",
       "2           Lunatics             NaN 2019-04-19  TV Show\n",
       "3          Uriyadi 2     Vijay Kumar 2019-08-02    Movie\n",
       "4  Shrek the Musical     Jason Moore 2013-12-29    Movie"
      ]
     },
     "execution_count": 75,
     "metadata": {},
     "output_type": "execute_result"
    }
   ],
   "source": [
    "df_netflix.head()"
   ]
  },
  {
   "cell_type": "code",
   "execution_count": 76,
   "id": "179ff959",
   "metadata": {},
   "outputs": [
    {
     "name": "stdout",
     "output_type": "stream",
     "text": [
      "<class 'pandas.core.frame.DataFrame'>\n",
      "RangeIndex: 5837 entries, 0 to 5836\n",
      "Data columns (total 4 columns):\n",
      " #   Column      Non-Null Count  Dtype         \n",
      "---  ------      --------------  -----         \n",
      " 0   title       5837 non-null   object        \n",
      " 1   director    3936 non-null   object        \n",
      " 2   date_added  5195 non-null   datetime64[ns]\n",
      " 3   type        5837 non-null   object        \n",
      "dtypes: datetime64[ns](1), object(3)\n",
      "memory usage: 182.5+ KB\n"
     ]
    }
   ],
   "source": [
    "df_netflix.info()"
   ]
  },
  {
   "cell_type": "code",
   "execution_count": 77,
   "id": "6601010d",
   "metadata": {},
   "outputs": [
    {
     "data": {
      "application/vnd.microsoft.datawrangler.viewer.v0+json": {
       "columns": [
        {
         "name": "index",
         "rawType": "object",
         "type": "string"
        },
        {
         "name": "0",
         "rawType": "int64",
         "type": "integer"
        }
       ],
       "ref": "9960a121-f726-42b2-a4a0-75351f45a4fa",
       "rows": [
        [
         "title",
         "5780"
        ],
        [
         "director",
         "3024"
        ],
        [
         "date_added",
         "1092"
        ],
        [
         "type",
         "2"
        ]
       ],
       "shape": {
        "columns": 1,
        "rows": 4
       }
      },
      "text/plain": [
       "title         5780\n",
       "director      3024\n",
       "date_added    1092\n",
       "type             2\n",
       "dtype: int64"
      ]
     },
     "execution_count": 77,
     "metadata": {},
     "output_type": "execute_result"
    }
   ],
   "source": [
    "df_netflix.nunique()"
   ]
  },
  {
   "cell_type": "code",
   "execution_count": 78,
   "id": "5bac3680",
   "metadata": {},
   "outputs": [],
   "source": [
    "df_netflix['type'] = df_netflix['type'].astype('category')"
   ]
  },
  {
   "cell_type": "code",
   "execution_count": 79,
   "id": "d58b0e1e",
   "metadata": {},
   "outputs": [
    {
     "name": "stdout",
     "output_type": "stream",
     "text": [
      "<class 'pandas.core.frame.DataFrame'>\n",
      "RangeIndex: 5837 entries, 0 to 5836\n",
      "Data columns (total 4 columns):\n",
      " #   Column      Non-Null Count  Dtype         \n",
      "---  ------      --------------  -----         \n",
      " 0   title       5837 non-null   object        \n",
      " 1   director    3936 non-null   object        \n",
      " 2   date_added  5195 non-null   datetime64[ns]\n",
      " 3   type        5837 non-null   category      \n",
      "dtypes: category(1), datetime64[ns](1), object(2)\n",
      "memory usage: 142.8+ KB\n"
     ]
    }
   ],
   "source": [
    "df_netflix.info()"
   ]
  },
  {
   "cell_type": "markdown",
   "id": "72431ccf",
   "metadata": {},
   "source": [
    "#### Find all rows with Limitless"
   ]
  },
  {
   "cell_type": "code",
   "execution_count": 80,
   "id": "6e1853d8",
   "metadata": {},
   "outputs": [
    {
     "data": {
      "application/vnd.microsoft.datawrangler.viewer.v0+json": {
       "columns": [
        {
         "name": "index",
         "rawType": "int64",
         "type": "integer"
        },
        {
         "name": "title",
         "rawType": "object",
         "type": "string"
        },
        {
         "name": "director",
         "rawType": "object",
         "type": "unknown"
        },
        {
         "name": "date_added",
         "rawType": "datetime64[ns]",
         "type": "datetime"
        },
        {
         "name": "type",
         "rawType": "category",
         "type": "unknown"
        }
       ],
       "ref": "c1acd6b4-e867-4271-b655-6650aa073637",
       "rows": [
        [
         "1559",
         "Limitless",
         "Neil Burger",
         "2019-05-16 00:00:00",
         "Movie"
        ],
        [
         "2564",
         "Limitless",
         null,
         "2016-07-01 00:00:00",
         "TV Show"
        ],
        [
         "4579",
         "Limitless",
         "Vrinda Samartha",
         "2019-10-01 00:00:00",
         "Movie"
        ]
       ],
       "shape": {
        "columns": 4,
        "rows": 3
       }
      },
      "text/html": [
       "<div>\n",
       "<style scoped>\n",
       "    .dataframe tbody tr th:only-of-type {\n",
       "        vertical-align: middle;\n",
       "    }\n",
       "\n",
       "    .dataframe tbody tr th {\n",
       "        vertical-align: top;\n",
       "    }\n",
       "\n",
       "    .dataframe thead th {\n",
       "        text-align: right;\n",
       "    }\n",
       "</style>\n",
       "<table border=\"1\" class=\"dataframe\">\n",
       "  <thead>\n",
       "    <tr style=\"text-align: right;\">\n",
       "      <th></th>\n",
       "      <th>title</th>\n",
       "      <th>director</th>\n",
       "      <th>date_added</th>\n",
       "      <th>type</th>\n",
       "    </tr>\n",
       "  </thead>\n",
       "  <tbody>\n",
       "    <tr>\n",
       "      <th>1559</th>\n",
       "      <td>Limitless</td>\n",
       "      <td>Neil Burger</td>\n",
       "      <td>2019-05-16</td>\n",
       "      <td>Movie</td>\n",
       "    </tr>\n",
       "    <tr>\n",
       "      <th>2564</th>\n",
       "      <td>Limitless</td>\n",
       "      <td>NaN</td>\n",
       "      <td>2016-07-01</td>\n",
       "      <td>TV Show</td>\n",
       "    </tr>\n",
       "    <tr>\n",
       "      <th>4579</th>\n",
       "      <td>Limitless</td>\n",
       "      <td>Vrinda Samartha</td>\n",
       "      <td>2019-10-01</td>\n",
       "      <td>Movie</td>\n",
       "    </tr>\n",
       "  </tbody>\n",
       "</table>\n",
       "</div>"
      ],
      "text/plain": [
       "          title         director date_added     type\n",
       "1559  Limitless      Neil Burger 2019-05-16    Movie\n",
       "2564  Limitless              NaN 2016-07-01  TV Show\n",
       "4579  Limitless  Vrinda Samartha 2019-10-01    Movie"
      ]
     },
     "execution_count": 80,
     "metadata": {},
     "output_type": "execute_result"
    }
   ],
   "source": [
    "Limitless = df_netflix[df_netflix[\"title\"] == 'Limitless']\n",
    "Limitless.head()"
   ]
  },
  {
   "cell_type": "markdown",
   "id": "2388ce62",
   "metadata": {},
   "source": [
    "#### Find the movies of Robert Rodriguez"
   ]
  },
  {
   "cell_type": "code",
   "execution_count": 81,
   "id": "dd72ed1a",
   "metadata": {},
   "outputs": [
    {
     "data": {
      "application/vnd.microsoft.datawrangler.viewer.v0+json": {
       "columns": [
        {
         "name": "index",
         "rawType": "int64",
         "type": "integer"
        },
        {
         "name": "title",
         "rawType": "object",
         "type": "string"
        },
        {
         "name": "director",
         "rawType": "object",
         "type": "string"
        },
        {
         "name": "date_added",
         "rawType": "datetime64[ns]",
         "type": "datetime"
        },
        {
         "name": "type",
         "rawType": "category",
         "type": "unknown"
        }
       ],
       "ref": "443b23a1-5680-4a50-ba2b-ada5f2ca5e1d",
       "rows": [
        [
         "1384",
         "Spy Kids: All the Time in the World",
         "Robert Rodriguez",
         "2019-02-19 00:00:00",
         "Movie"
        ],
        [
         "1416",
         "Spy Kids 3: Game Over",
         "Robert Rodriguez",
         "2019-04-01 00:00:00",
         "Movie"
        ],
        [
         "1460",
         "Spy Kids 2: The Island of Lost Dreams",
         "Robert Rodriguez",
         "2019-03-08 00:00:00",
         "Movie"
        ],
        [
         "2890",
         "Sin City",
         "Robert Rodriguez",
         "2019-10-01 00:00:00",
         "Movie"
        ],
        [
         "3836",
         "Shorts",
         "Robert Rodriguez",
         "2019-07-01 00:00:00",
         "Movie"
        ]
       ],
       "shape": {
        "columns": 4,
        "rows": 5
       }
      },
      "text/html": [
       "<div>\n",
       "<style scoped>\n",
       "    .dataframe tbody tr th:only-of-type {\n",
       "        vertical-align: middle;\n",
       "    }\n",
       "\n",
       "    .dataframe tbody tr th {\n",
       "        vertical-align: top;\n",
       "    }\n",
       "\n",
       "    .dataframe thead th {\n",
       "        text-align: right;\n",
       "    }\n",
       "</style>\n",
       "<table border=\"1\" class=\"dataframe\">\n",
       "  <thead>\n",
       "    <tr style=\"text-align: right;\">\n",
       "      <th></th>\n",
       "      <th>title</th>\n",
       "      <th>director</th>\n",
       "      <th>date_added</th>\n",
       "      <th>type</th>\n",
       "    </tr>\n",
       "  </thead>\n",
       "  <tbody>\n",
       "    <tr>\n",
       "      <th>1384</th>\n",
       "      <td>Spy Kids: All the Time in the World</td>\n",
       "      <td>Robert Rodriguez</td>\n",
       "      <td>2019-02-19</td>\n",
       "      <td>Movie</td>\n",
       "    </tr>\n",
       "    <tr>\n",
       "      <th>1416</th>\n",
       "      <td>Spy Kids 3: Game Over</td>\n",
       "      <td>Robert Rodriguez</td>\n",
       "      <td>2019-04-01</td>\n",
       "      <td>Movie</td>\n",
       "    </tr>\n",
       "    <tr>\n",
       "      <th>1460</th>\n",
       "      <td>Spy Kids 2: The Island of Lost Dreams</td>\n",
       "      <td>Robert Rodriguez</td>\n",
       "      <td>2019-03-08</td>\n",
       "      <td>Movie</td>\n",
       "    </tr>\n",
       "    <tr>\n",
       "      <th>2890</th>\n",
       "      <td>Sin City</td>\n",
       "      <td>Robert Rodriguez</td>\n",
       "      <td>2019-10-01</td>\n",
       "      <td>Movie</td>\n",
       "    </tr>\n",
       "    <tr>\n",
       "      <th>3836</th>\n",
       "      <td>Shorts</td>\n",
       "      <td>Robert Rodriguez</td>\n",
       "      <td>2019-07-01</td>\n",
       "      <td>Movie</td>\n",
       "    </tr>\n",
       "  </tbody>\n",
       "</table>\n",
       "</div>"
      ],
      "text/plain": [
       "                                      title          director date_added  \\\n",
       "1384    Spy Kids: All the Time in the World  Robert Rodriguez 2019-02-19   \n",
       "1416                  Spy Kids 3: Game Over  Robert Rodriguez 2019-04-01   \n",
       "1460  Spy Kids 2: The Island of Lost Dreams  Robert Rodriguez 2019-03-08   \n",
       "2890                               Sin City  Robert Rodriguez 2019-10-01   \n",
       "3836                                 Shorts  Robert Rodriguez 2019-07-01   \n",
       "\n",
       "       type  \n",
       "1384  Movie  \n",
       "1416  Movie  \n",
       "1460  Movie  \n",
       "2890  Movie  \n",
       "3836  Movie  "
      ]
     },
     "execution_count": 81,
     "metadata": {},
     "output_type": "execute_result"
    }
   ],
   "source": [
    "director_rr = df_netflix['director'] == 'Robert Rodriguez'\n",
    "movie_types = df_netflix['type'] == 'Movie'\n",
    "df_netflix[director_rr & movie_types].head()"
   ]
  },
  {
   "cell_type": "markdown",
   "id": "b01f587a",
   "metadata": {},
   "source": [
    "#### Find a movie of Robert Altman or date released 2019-07-31"
   ]
  },
  {
   "cell_type": "code",
   "execution_count": 82,
   "id": "9aeae2e6",
   "metadata": {},
   "outputs": [
    {
     "data": {
      "application/vnd.microsoft.datawrangler.viewer.v0+json": {
       "columns": [
        {
         "name": "index",
         "rawType": "int64",
         "type": "integer"
        },
        {
         "name": "title",
         "rawType": "object",
         "type": "string"
        },
        {
         "name": "director",
         "rawType": "object",
         "type": "string"
        },
        {
         "name": "date_added",
         "rawType": "datetime64[ns]",
         "type": "datetime"
        },
        {
         "name": "type",
         "rawType": "category",
         "type": "unknown"
        }
       ],
       "ref": "b1ab0766-1282-42ec-909a-c81aed6e958d",
       "rows": [
        [
         "3",
         "Uriyadi 2",
         "Vijay Kumar",
         "2019-08-02 00:00:00",
         "Movie"
        ],
        [
         "6",
         "We Have Always Lived in the Castle",
         "Stacie Passon",
         "2019-09-14 00:00:00",
         "Movie"
        ],
        [
         "10",
         "Hasta los dientes",
         "Alberto Arnaut Estrada",
         "2019-08-13 00:00:00",
         "Movie"
        ],
        [
         "14",
         "Ocean's Thirteen",
         "Steven Soderbergh",
         "2019-10-01 00:00:00",
         "Movie"
        ],
        [
         "18",
         "The Rugrats Movie",
         "Igor Kovalyov",
         "2019-10-01 00:00:00",
         "Movie"
        ]
       ],
       "shape": {
        "columns": 4,
        "rows": 5
       }
      },
      "text/html": [
       "<div>\n",
       "<style scoped>\n",
       "    .dataframe tbody tr th:only-of-type {\n",
       "        vertical-align: middle;\n",
       "    }\n",
       "\n",
       "    .dataframe tbody tr th {\n",
       "        vertical-align: top;\n",
       "    }\n",
       "\n",
       "    .dataframe thead th {\n",
       "        text-align: right;\n",
       "    }\n",
       "</style>\n",
       "<table border=\"1\" class=\"dataframe\">\n",
       "  <thead>\n",
       "    <tr style=\"text-align: right;\">\n",
       "      <th></th>\n",
       "      <th>title</th>\n",
       "      <th>director</th>\n",
       "      <th>date_added</th>\n",
       "      <th>type</th>\n",
       "    </tr>\n",
       "  </thead>\n",
       "  <tbody>\n",
       "    <tr>\n",
       "      <th>3</th>\n",
       "      <td>Uriyadi 2</td>\n",
       "      <td>Vijay Kumar</td>\n",
       "      <td>2019-08-02</td>\n",
       "      <td>Movie</td>\n",
       "    </tr>\n",
       "    <tr>\n",
       "      <th>6</th>\n",
       "      <td>We Have Always Lived in the Castle</td>\n",
       "      <td>Stacie Passon</td>\n",
       "      <td>2019-09-14</td>\n",
       "      <td>Movie</td>\n",
       "    </tr>\n",
       "    <tr>\n",
       "      <th>10</th>\n",
       "      <td>Hasta los dientes</td>\n",
       "      <td>Alberto Arnaut Estrada</td>\n",
       "      <td>2019-08-13</td>\n",
       "      <td>Movie</td>\n",
       "    </tr>\n",
       "    <tr>\n",
       "      <th>14</th>\n",
       "      <td>Ocean's Thirteen</td>\n",
       "      <td>Steven Soderbergh</td>\n",
       "      <td>2019-10-01</td>\n",
       "      <td>Movie</td>\n",
       "    </tr>\n",
       "    <tr>\n",
       "      <th>18</th>\n",
       "      <td>The Rugrats Movie</td>\n",
       "      <td>Igor Kovalyov</td>\n",
       "      <td>2019-10-01</td>\n",
       "      <td>Movie</td>\n",
       "    </tr>\n",
       "  </tbody>\n",
       "</table>\n",
       "</div>"
      ],
      "text/plain": [
       "                                 title                director date_added  \\\n",
       "3                            Uriyadi 2             Vijay Kumar 2019-08-02   \n",
       "6   We Have Always Lived in the Castle           Stacie Passon 2019-09-14   \n",
       "10                   Hasta los dientes  Alberto Arnaut Estrada 2019-08-13   \n",
       "14                    Ocean's Thirteen       Steven Soderbergh 2019-10-01   \n",
       "18                   The Rugrats Movie           Igor Kovalyov 2019-10-01   \n",
       "\n",
       "     type  \n",
       "3   Movie  \n",
       "6   Movie  \n",
       "10  Movie  \n",
       "14  Movie  \n",
       "18  Movie  "
      ]
     },
     "execution_count": 82,
     "metadata": {},
     "output_type": "execute_result"
    }
   ],
   "source": [
    "director_ra = df_netflix['director'] == \"Robert Altman\"\n",
    "date = df_netflix['date_added'] > '2019-07-31' \n",
    "df_netflix[director_ra | date].head()"
   ]
  },
  {
   "cell_type": "markdown",
   "id": "c9ba2b21",
   "metadata": {},
   "source": [
    "#### Fibd requested directors"
   ]
  },
  {
   "cell_type": "code",
   "execution_count": 83,
   "id": "0f39b048",
   "metadata": {},
   "outputs": [
    {
     "data": {
      "application/vnd.microsoft.datawrangler.viewer.v0+json": {
       "columns": [
        {
         "name": "index",
         "rawType": "int64",
         "type": "integer"
        },
        {
         "name": "title",
         "rawType": "object",
         "type": "string"
        },
        {
         "name": "director",
         "rawType": "object",
         "type": "string"
        },
        {
         "name": "date_added",
         "rawType": "datetime64[ns]",
         "type": "datetime"
        },
        {
         "name": "type",
         "rawType": "category",
         "type": "unknown"
        }
       ],
       "ref": "c7d4bf00-9e27-40c6-9cee-f231295c61b1",
       "rows": [
        [
         "946",
         "The Stranger",
         "Orson Welles",
         "2018-07-19 00:00:00",
         "Movie"
        ],
        [
         "1870",
         "The Gift",
         "Sam Raimi",
         "2019-11-20 00:00:00",
         "Movie"
        ],
        [
         "3706",
         "Spider-Man 3",
         "Sam Raimi",
         "2019-11-01 00:00:00",
         "Movie"
        ],
        [
         "4243",
         "Tikli and Laxmi Bomb",
         "Aditya Kripalani",
         "2018-08-01 00:00:00",
         "Movie"
        ],
        [
         "4475",
         "The Other Side of the Wind",
         "Orson Welles",
         "2018-11-02 00:00:00",
         "Movie"
        ]
       ],
       "shape": {
        "columns": 4,
        "rows": 5
       }
      },
      "text/html": [
       "<div>\n",
       "<style scoped>\n",
       "    .dataframe tbody tr th:only-of-type {\n",
       "        vertical-align: middle;\n",
       "    }\n",
       "\n",
       "    .dataframe tbody tr th {\n",
       "        vertical-align: top;\n",
       "    }\n",
       "\n",
       "    .dataframe thead th {\n",
       "        text-align: right;\n",
       "    }\n",
       "</style>\n",
       "<table border=\"1\" class=\"dataframe\">\n",
       "  <thead>\n",
       "    <tr style=\"text-align: right;\">\n",
       "      <th></th>\n",
       "      <th>title</th>\n",
       "      <th>director</th>\n",
       "      <th>date_added</th>\n",
       "      <th>type</th>\n",
       "    </tr>\n",
       "  </thead>\n",
       "  <tbody>\n",
       "    <tr>\n",
       "      <th>946</th>\n",
       "      <td>The Stranger</td>\n",
       "      <td>Orson Welles</td>\n",
       "      <td>2018-07-19</td>\n",
       "      <td>Movie</td>\n",
       "    </tr>\n",
       "    <tr>\n",
       "      <th>1870</th>\n",
       "      <td>The Gift</td>\n",
       "      <td>Sam Raimi</td>\n",
       "      <td>2019-11-20</td>\n",
       "      <td>Movie</td>\n",
       "    </tr>\n",
       "    <tr>\n",
       "      <th>3706</th>\n",
       "      <td>Spider-Man 3</td>\n",
       "      <td>Sam Raimi</td>\n",
       "      <td>2019-11-01</td>\n",
       "      <td>Movie</td>\n",
       "    </tr>\n",
       "    <tr>\n",
       "      <th>4243</th>\n",
       "      <td>Tikli and Laxmi Bomb</td>\n",
       "      <td>Aditya Kripalani</td>\n",
       "      <td>2018-08-01</td>\n",
       "      <td>Movie</td>\n",
       "    </tr>\n",
       "    <tr>\n",
       "      <th>4475</th>\n",
       "      <td>The Other Side of the Wind</td>\n",
       "      <td>Orson Welles</td>\n",
       "      <td>2018-11-02</td>\n",
       "      <td>Movie</td>\n",
       "    </tr>\n",
       "  </tbody>\n",
       "</table>\n",
       "</div>"
      ],
      "text/plain": [
       "                           title          director date_added   type\n",
       "946                 The Stranger      Orson Welles 2018-07-19  Movie\n",
       "1870                    The Gift         Sam Raimi 2019-11-20  Movie\n",
       "3706                Spider-Man 3         Sam Raimi 2019-11-01  Movie\n",
       "4243        Tikli and Laxmi Bomb  Aditya Kripalani 2018-08-01  Movie\n",
       "4475  The Other Side of the Wind      Orson Welles 2018-11-02  Movie"
      ]
     },
     "execution_count": 83,
     "metadata": {},
     "output_type": "execute_result"
    }
   ],
   "source": [
    "directors = ['Orson Welles','Aditya Kripalani','Sam Raimi']\n",
    "df_netflix[df_netflix['director'].isin(directors)].head()   \n"
   ]
  },
  {
   "cell_type": "markdown",
   "id": "d8dd09a1",
   "metadata": {},
   "source": [
    "#### Find all rows between requested date"
   ]
  },
  {
   "cell_type": "code",
   "execution_count": 84,
   "id": "ecfbc1c8",
   "metadata": {},
   "outputs": [
    {
     "data": {
      "application/vnd.microsoft.datawrangler.viewer.v0+json": {
       "columns": [
        {
         "name": "index",
         "rawType": "int64",
         "type": "integer"
        },
        {
         "name": "title",
         "rawType": "object",
         "type": "string"
        },
        {
         "name": "director",
         "rawType": "object",
         "type": "unknown"
        },
        {
         "name": "date_added",
         "rawType": "datetime64[ns]",
         "type": "datetime"
        },
        {
         "name": "type",
         "rawType": "category",
         "type": "unknown"
        }
       ],
       "ref": "64f4d5a2-1e95-4f60-a834-82003dbc652e",
       "rows": [
        [
         "29",
         "Chopsticks",
         "Sachin Yardi",
         "2019-05-31 00:00:00",
         "Movie"
        ],
        [
         "60",
         "Away From Home",
         null,
         "2019-05-08 00:00:00",
         "TV Show"
        ],
        [
         "82",
         "III Smoking Barrels",
         "Sanjib Dey",
         "2019-06-01 00:00:00",
         "Movie"
        ],
        [
         "108",
         "Jailbirds",
         null,
         "2019-05-10 00:00:00",
         "TV Show"
        ],
        [
         "124",
         "Pegasus",
         "Han Han",
         "2019-05-31 00:00:00",
         "Movie"
        ]
       ],
       "shape": {
        "columns": 4,
        "rows": 5
       }
      },
      "text/html": [
       "<div>\n",
       "<style scoped>\n",
       "    .dataframe tbody tr th:only-of-type {\n",
       "        vertical-align: middle;\n",
       "    }\n",
       "\n",
       "    .dataframe tbody tr th {\n",
       "        vertical-align: top;\n",
       "    }\n",
       "\n",
       "    .dataframe thead th {\n",
       "        text-align: right;\n",
       "    }\n",
       "</style>\n",
       "<table border=\"1\" class=\"dataframe\">\n",
       "  <thead>\n",
       "    <tr style=\"text-align: right;\">\n",
       "      <th></th>\n",
       "      <th>title</th>\n",
       "      <th>director</th>\n",
       "      <th>date_added</th>\n",
       "      <th>type</th>\n",
       "    </tr>\n",
       "  </thead>\n",
       "  <tbody>\n",
       "    <tr>\n",
       "      <th>29</th>\n",
       "      <td>Chopsticks</td>\n",
       "      <td>Sachin Yardi</td>\n",
       "      <td>2019-05-31</td>\n",
       "      <td>Movie</td>\n",
       "    </tr>\n",
       "    <tr>\n",
       "      <th>60</th>\n",
       "      <td>Away From Home</td>\n",
       "      <td>NaN</td>\n",
       "      <td>2019-05-08</td>\n",
       "      <td>TV Show</td>\n",
       "    </tr>\n",
       "    <tr>\n",
       "      <th>82</th>\n",
       "      <td>III Smoking Barrels</td>\n",
       "      <td>Sanjib Dey</td>\n",
       "      <td>2019-06-01</td>\n",
       "      <td>Movie</td>\n",
       "    </tr>\n",
       "    <tr>\n",
       "      <th>108</th>\n",
       "      <td>Jailbirds</td>\n",
       "      <td>NaN</td>\n",
       "      <td>2019-05-10</td>\n",
       "      <td>TV Show</td>\n",
       "    </tr>\n",
       "    <tr>\n",
       "      <th>124</th>\n",
       "      <td>Pegasus</td>\n",
       "      <td>Han Han</td>\n",
       "      <td>2019-05-31</td>\n",
       "      <td>Movie</td>\n",
       "    </tr>\n",
       "  </tbody>\n",
       "</table>\n",
       "</div>"
      ],
      "text/plain": [
       "                   title      director date_added     type\n",
       "29            Chopsticks  Sachin Yardi 2019-05-31    Movie\n",
       "60        Away From Home           NaN 2019-05-08  TV Show\n",
       "82   III Smoking Barrels    Sanjib Dey 2019-06-01    Movie\n",
       "108            Jailbirds           NaN 2019-05-10  TV Show\n",
       "124              Pegasus       Han Han 2019-05-31    Movie"
      ]
     },
     "execution_count": 84,
     "metadata": {},
     "output_type": "execute_result"
    }
   ],
   "source": [
    "between_1may_and_1june = df_netflix[\"date_added\"].between('2019-05-01', '2019-06-01')\n",
    "df_netflix[between_1may_and_1june].head()"
   ]
  },
  {
   "cell_type": "markdown",
   "id": "2d92dc6c",
   "metadata": {},
   "source": [
    "#### Remove duplicates in director column"
   ]
  },
  {
   "cell_type": "code",
   "execution_count": 85,
   "id": "a6b2a835",
   "metadata": {},
   "outputs": [
    {
     "data": {
      "application/vnd.microsoft.datawrangler.viewer.v0+json": {
       "columns": [
        {
         "name": "index",
         "rawType": "object",
         "type": "string"
        },
        {
         "name": "0",
         "rawType": "int64",
         "type": "integer"
        }
       ],
       "ref": "70c77e78-3098-4cd9-ae1e-4716f423bb09",
       "rows": [
        [
         "director",
         "1901"
        ],
        [
         "date_added",
         "642"
        ],
        [
         "title",
         "0"
        ],
        [
         "type",
         "0"
        ]
       ],
       "shape": {
        "columns": 1,
        "rows": 4
       }
      },
      "text/plain": [
       "director      1901\n",
       "date_added     642\n",
       "title            0\n",
       "type             0\n",
       "dtype: int64"
      ]
     },
     "execution_count": 85,
     "metadata": {},
     "output_type": "execute_result"
    }
   ],
   "source": [
    "df_netflix.isna().sum().sort_values(ascending=False)"
   ]
  },
  {
   "cell_type": "code",
   "execution_count": 86,
   "id": "6d9a9ab8",
   "metadata": {},
   "outputs": [
    {
     "data": {
      "application/vnd.microsoft.datawrangler.viewer.v0+json": {
       "columns": [
        {
         "name": "index",
         "rawType": "int64",
         "type": "integer"
        },
        {
         "name": "title",
         "rawType": "object",
         "type": "string"
        },
        {
         "name": "director",
         "rawType": "object",
         "type": "string"
        },
        {
         "name": "date_added",
         "rawType": "datetime64[ns]",
         "type": "datetime"
        },
        {
         "name": "type",
         "rawType": "category",
         "type": "unknown"
        }
       ],
       "ref": "343f9fb7-31f7-4213-ab87-4fbe50edfd4a",
       "rows": [
        [
         "1",
         "A Patch of Fog",
         "Michael Lennox",
         "2017-04-15 00:00:00",
         "Movie"
        ],
        [
         "3",
         "Uriyadi 2",
         "Vijay Kumar",
         "2019-08-02 00:00:00",
         "Movie"
        ],
        [
         "4",
         "Shrek the Musical",
         "Jason Moore",
         "2013-12-29 00:00:00",
         "Movie"
        ],
        [
         "5",
         "Schubert In Love",
         "Lars Büchel",
         "2018-03-01 00:00:00",
         "Movie"
        ],
        [
         "6",
         "We Have Always Lived in the Castle",
         "Stacie Passon",
         "2019-09-14 00:00:00",
         "Movie"
        ]
       ],
       "shape": {
        "columns": 4,
        "rows": 5
       }
      },
      "text/html": [
       "<div>\n",
       "<style scoped>\n",
       "    .dataframe tbody tr th:only-of-type {\n",
       "        vertical-align: middle;\n",
       "    }\n",
       "\n",
       "    .dataframe tbody tr th {\n",
       "        vertical-align: top;\n",
       "    }\n",
       "\n",
       "    .dataframe thead th {\n",
       "        text-align: right;\n",
       "    }\n",
       "</style>\n",
       "<table border=\"1\" class=\"dataframe\">\n",
       "  <thead>\n",
       "    <tr style=\"text-align: right;\">\n",
       "      <th></th>\n",
       "      <th>title</th>\n",
       "      <th>director</th>\n",
       "      <th>date_added</th>\n",
       "      <th>type</th>\n",
       "    </tr>\n",
       "  </thead>\n",
       "  <tbody>\n",
       "    <tr>\n",
       "      <th>1</th>\n",
       "      <td>A Patch of Fog</td>\n",
       "      <td>Michael Lennox</td>\n",
       "      <td>2017-04-15</td>\n",
       "      <td>Movie</td>\n",
       "    </tr>\n",
       "    <tr>\n",
       "      <th>3</th>\n",
       "      <td>Uriyadi 2</td>\n",
       "      <td>Vijay Kumar</td>\n",
       "      <td>2019-08-02</td>\n",
       "      <td>Movie</td>\n",
       "    </tr>\n",
       "    <tr>\n",
       "      <th>4</th>\n",
       "      <td>Shrek the Musical</td>\n",
       "      <td>Jason Moore</td>\n",
       "      <td>2013-12-29</td>\n",
       "      <td>Movie</td>\n",
       "    </tr>\n",
       "    <tr>\n",
       "      <th>5</th>\n",
       "      <td>Schubert In Love</td>\n",
       "      <td>Lars Büchel</td>\n",
       "      <td>2018-03-01</td>\n",
       "      <td>Movie</td>\n",
       "    </tr>\n",
       "    <tr>\n",
       "      <th>6</th>\n",
       "      <td>We Have Always Lived in the Castle</td>\n",
       "      <td>Stacie Passon</td>\n",
       "      <td>2019-09-14</td>\n",
       "      <td>Movie</td>\n",
       "    </tr>\n",
       "  </tbody>\n",
       "</table>\n",
       "</div>"
      ],
      "text/plain": [
       "                                title        director date_added   type\n",
       "1                      A Patch of Fog  Michael Lennox 2017-04-15  Movie\n",
       "3                           Uriyadi 2     Vijay Kumar 2019-08-02  Movie\n",
       "4                   Shrek the Musical     Jason Moore 2013-12-29  Movie\n",
       "5                    Schubert In Love     Lars Büchel 2018-03-01  Movie\n",
       "6  We Have Always Lived in the Castle   Stacie Passon 2019-09-14  Movie"
      ]
     },
     "execution_count": 86,
     "metadata": {},
     "output_type": "execute_result"
    }
   ],
   "source": [
    "df_netflix.dropna(subset=['director']).head()"
   ]
  },
  {
   "cell_type": "markdown",
   "id": "4ee6ce63",
   "metadata": {},
   "source": [
    "#### Find unique data with only one title released"
   ]
  },
  {
   "cell_type": "code",
   "execution_count": 87,
   "id": "20133a75",
   "metadata": {},
   "outputs": [
    {
     "data": {
      "application/vnd.microsoft.datawrangler.viewer.v0+json": {
       "columns": [
        {
         "name": "index",
         "rawType": "int64",
         "type": "integer"
        },
        {
         "name": "title",
         "rawType": "object",
         "type": "string"
        },
        {
         "name": "director",
         "rawType": "object",
         "type": "unknown"
        },
        {
         "name": "date_added",
         "rawType": "datetime64[ns]",
         "type": "datetime"
        },
        {
         "name": "type",
         "rawType": "category",
         "type": "unknown"
        }
       ],
       "ref": "fc737edf-e89d-4b7d-ae47-513fcac136a1",
       "rows": [
        [
         "4",
         "Shrek the Musical",
         "Jason Moore",
         "2013-12-29 00:00:00",
         "Movie"
        ],
        [
         "12",
         "Without Gorky",
         "Cosima Spender",
         "2017-05-31 00:00:00",
         "Movie"
        ],
        [
         "30",
         "Anjelah Johnson: Not Fancy",
         "Jay Karas",
         "2015-10-02 00:00:00",
         "Movie"
        ],
        [
         "38",
         "One Last Thing",
         "Tim Rouhana",
         "2019-08-25 00:00:00",
         "Movie"
        ],
        [
         "70",
         "Marvel's Iron Man & Hulk: Heroes United",
         "Leo Riley",
         "2014-02-16 00:00:00",
         "Movie"
        ],
        [
         "83",
         "Suburra",
         "Stefano Sollima",
         "2015-10-14 00:00:00",
         "Movie"
        ],
        [
         "106",
         "Covered: Alive in Asia",
         "Micah Bickham",
         "2016-03-31 00:00:00",
         "Movie"
        ],
        [
         "142",
         "Lizzie Borden Took an Ax",
         "Nick Gomez",
         "2016-07-25 00:00:00",
         "Movie"
        ],
        [
         "145",
         "Takers",
         "John Luessenhop",
         "2019-11-03 00:00:00",
         "Movie"
        ],
        [
         "163",
         "Justice",
         "Ahmed Khaled Moussa",
         "2019-01-21 00:00:00",
         "TV Show"
        ],
        [
         "173",
         "Power Rangers Dino Charge",
         null,
         "2015-12-02 00:00:00",
         "TV Show"
        ],
        [
         "213",
         "9",
         "Shane Acker",
         "2017-11-16 00:00:00",
         "Movie"
        ],
        [
         "221",
         "Soorma",
         "Shaad Ali",
         "2018-10-13 00:00:00",
         "Movie"
        ],
        [
         "243",
         "All American",
         null,
         "2019-03-28 00:00:00",
         "TV Show"
        ],
        [
         "251",
         "Virunga: Gorillas in Peril",
         null,
         "2015-02-13 00:00:00",
         "Movie"
        ],
        [
         "258",
         "Pup Star",
         "Robert Vince",
         "2016-10-29 00:00:00",
         "Movie"
        ],
        [
         "263",
         "Summer of '92",
         "Kasper Barfoed",
         "2016-07-10 00:00:00",
         "Movie"
        ],
        [
         "284",
         "The Liar",
         null,
         "2017-10-21 00:00:00",
         "TV Show"
        ],
        [
         "316",
         "Click for Murder",
         null,
         "2017-09-17 00:00:00",
         "TV Show"
        ],
        [
         "323",
         "Greg Davies: You Magnificent Beast",
         "Peter Orton",
         "2018-04-10 00:00:00",
         "Movie"
        ],
        [
         "330",
         "Chris D'Elia: Man on Fire",
         "Bill D'Elia",
         "2017-06-27 00:00:00",
         "Movie"
        ],
        [
         "340",
         "Some Freaks",
         "Ian MacAllister-McDonald",
         "2017-12-18 00:00:00",
         "Movie"
        ],
        [
         "353",
         "Chris D'Elia: Incorrigible",
         "Bill D'Elia",
         "2015-04-17 00:00:00",
         "Movie"
        ],
        [
         "364",
         "The Photographer Of Mauthausen",
         "Mar Targarona",
         "2019-02-23 00:00:00",
         "Movie"
        ],
        [
         "384",
         "To and From New York",
         "Sorin Dan Mihalcescu",
         "2008-01-01 00:00:00",
         "Movie"
        ],
        [
         "386",
         "Kevin Hart: What Now?",
         "Leslie Small",
         "2017-04-11 00:00:00",
         "Movie"
        ],
        [
         "395",
         "Fifty",
         "Biyi Bandele",
         "2015-12-28 00:00:00",
         "Movie"
        ],
        [
         "406",
         "The Stanford Prison Experiment",
         "Kyle Patrick Alvarez",
         "2017-06-17 00:00:00",
         "Movie"
        ],
        [
         "430",
         "Asperger's Are Us",
         "Alex Lehmann",
         "2016-12-11 00:00:00",
         "Movie"
        ],
        [
         "437",
         "The Good Neighbor",
         "Kasra Farahani",
         "2016-12-05 00:00:00",
         "Movie"
        ],
        [
         "440",
         "The Hurricane Heist",
         "Rob Cohen",
         "2018-09-26 00:00:00",
         "Movie"
        ],
        [
         "458",
         "Wait, My Youth",
         null,
         "2019-10-27 00:00:00",
         "TV Show"
        ],
        [
         "481",
         "Force 2",
         "Abhinay Deo",
         "2017-02-27 00:00:00",
         "Movie"
        ],
        [
         "506",
         "Donald Glover: Weirdo",
         "Shannon Hartman",
         "2016-11-19 00:00:00",
         "Movie"
        ],
        [
         "513",
         "NSU German History X",
         null,
         "2016-07-07 00:00:00",
         "TV Show"
        ],
        [
         "518",
         "Lila & Eve",
         "Charles Stone III",
         "2016-02-06 00:00:00",
         "Movie"
        ],
        [
         "530",
         "El Clon",
         null,
         "2017-05-18 00:00:00",
         "TV Show"
        ],
        [
         "534",
         "Feel Rich",
         "Peter Spirer",
         "2017-08-23 00:00:00",
         "Movie"
        ],
        [
         "542",
         "The Hunt",
         null,
         "2017-05-14 00:00:00",
         "TV Show"
        ],
        [
         "549",
         "DreamWorks Spooky Stories: Volume 2",
         null,
         "2012-10-24 00:00:00",
         "TV Show"
        ],
        [
         "550",
         "Tallulah",
         "Sian Heder",
         "2016-07-29 00:00:00",
         "Movie"
        ],
        [
         "573",
         "Sky Ladder: The Art of Cai Guo-Qiang",
         "Kevin MacDonald",
         "2016-10-14 00:00:00",
         "Movie"
        ],
        [
         "587",
         "The Iron Lady",
         "Phyllida Lloyd",
         "2019-07-07 00:00:00",
         "Movie"
        ],
        [
         "588",
         "Chelsea Handler: Uganda Be Kidding Me Live",
         "James Yukich",
         "2014-10-10 00:00:00",
         "Movie"
        ],
        [
         "616",
         "Martin Matte: La vie, la mort...eh la la..!",
         "Jean-François Blais",
         "2019-10-14 00:00:00",
         "Movie"
        ],
        [
         "630",
         "DreamWorks How to Train Your Dragon Legends",
         null,
         "2012-07-20 00:00:00",
         "TV Show"
        ],
        [
         "656",
         "Joe Mande’s Award-Winning Comedy Special",
         "Daniel Gray Longino",
         "2017-07-25 00:00:00",
         "Movie"
        ],
        [
         "687",
         "A Taiwanese Tale of Two Cities",
         null,
         "2019-01-27 00:00:00",
         "TV Show"
        ],
        [
         "691",
         "24 Hours to Live",
         "Brian Smrz",
         "2018-04-07 00:00:00",
         "Movie"
        ],
        [
         "695",
         "O Silêncio do Céu",
         "Marco Dutra",
         "2017-01-25 00:00:00",
         "Movie"
        ]
       ],
       "shape": {
        "columns": 4,
        "rows": 391
       }
      },
      "text/html": [
       "<div>\n",
       "<style scoped>\n",
       "    .dataframe tbody tr th:only-of-type {\n",
       "        vertical-align: middle;\n",
       "    }\n",
       "\n",
       "    .dataframe tbody tr th {\n",
       "        vertical-align: top;\n",
       "    }\n",
       "\n",
       "    .dataframe thead th {\n",
       "        text-align: right;\n",
       "    }\n",
       "</style>\n",
       "<table border=\"1\" class=\"dataframe\">\n",
       "  <thead>\n",
       "    <tr style=\"text-align: right;\">\n",
       "      <th></th>\n",
       "      <th>title</th>\n",
       "      <th>director</th>\n",
       "      <th>date_added</th>\n",
       "      <th>type</th>\n",
       "    </tr>\n",
       "  </thead>\n",
       "  <tbody>\n",
       "    <tr>\n",
       "      <th>4</th>\n",
       "      <td>Shrek the Musical</td>\n",
       "      <td>Jason Moore</td>\n",
       "      <td>2013-12-29</td>\n",
       "      <td>Movie</td>\n",
       "    </tr>\n",
       "    <tr>\n",
       "      <th>12</th>\n",
       "      <td>Without Gorky</td>\n",
       "      <td>Cosima Spender</td>\n",
       "      <td>2017-05-31</td>\n",
       "      <td>Movie</td>\n",
       "    </tr>\n",
       "    <tr>\n",
       "      <th>30</th>\n",
       "      <td>Anjelah Johnson: Not Fancy</td>\n",
       "      <td>Jay Karas</td>\n",
       "      <td>2015-10-02</td>\n",
       "      <td>Movie</td>\n",
       "    </tr>\n",
       "    <tr>\n",
       "      <th>38</th>\n",
       "      <td>One Last Thing</td>\n",
       "      <td>Tim Rouhana</td>\n",
       "      <td>2019-08-25</td>\n",
       "      <td>Movie</td>\n",
       "    </tr>\n",
       "    <tr>\n",
       "      <th>70</th>\n",
       "      <td>Marvel's Iron Man &amp; Hulk: Heroes United</td>\n",
       "      <td>Leo Riley</td>\n",
       "      <td>2014-02-16</td>\n",
       "      <td>Movie</td>\n",
       "    </tr>\n",
       "    <tr>\n",
       "      <th>...</th>\n",
       "      <td>...</td>\n",
       "      <td>...</td>\n",
       "      <td>...</td>\n",
       "      <td>...</td>\n",
       "    </tr>\n",
       "    <tr>\n",
       "      <th>5748</th>\n",
       "      <td>Menorca</td>\n",
       "      <td>John Barnard</td>\n",
       "      <td>2017-08-27</td>\n",
       "      <td>Movie</td>\n",
       "    </tr>\n",
       "    <tr>\n",
       "      <th>5749</th>\n",
       "      <td>Green Room</td>\n",
       "      <td>Jeremy Saulnier</td>\n",
       "      <td>2018-11-12</td>\n",
       "      <td>Movie</td>\n",
       "    </tr>\n",
       "    <tr>\n",
       "      <th>5788</th>\n",
       "      <td>Chris Brown: Welcome to My Life</td>\n",
       "      <td>Andrew Sandler</td>\n",
       "      <td>2017-10-07</td>\n",
       "      <td>Movie</td>\n",
       "    </tr>\n",
       "    <tr>\n",
       "      <th>5789</th>\n",
       "      <td>A Very Murray Christmas</td>\n",
       "      <td>Sofia Coppola</td>\n",
       "      <td>2015-12-04</td>\n",
       "      <td>Movie</td>\n",
       "    </tr>\n",
       "    <tr>\n",
       "      <th>5812</th>\n",
       "      <td>Little Singham in London</td>\n",
       "      <td>Prakash Satam</td>\n",
       "      <td>2019-04-22</td>\n",
       "      <td>Movie</td>\n",
       "    </tr>\n",
       "  </tbody>\n",
       "</table>\n",
       "<p>391 rows × 4 columns</p>\n",
       "</div>"
      ],
      "text/plain": [
       "                                        title         director date_added  \\\n",
       "4                           Shrek the Musical      Jason Moore 2013-12-29   \n",
       "12                              Without Gorky   Cosima Spender 2017-05-31   \n",
       "30                 Anjelah Johnson: Not Fancy        Jay Karas 2015-10-02   \n",
       "38                             One Last Thing      Tim Rouhana 2019-08-25   \n",
       "70    Marvel's Iron Man & Hulk: Heroes United        Leo Riley 2014-02-16   \n",
       "...                                       ...              ...        ...   \n",
       "5748                                  Menorca     John Barnard 2017-08-27   \n",
       "5749                               Green Room  Jeremy Saulnier 2018-11-12   \n",
       "5788          Chris Brown: Welcome to My Life   Andrew Sandler 2017-10-07   \n",
       "5789                  A Very Murray Christmas    Sofia Coppola 2015-12-04   \n",
       "5812                 Little Singham in London    Prakash Satam 2019-04-22   \n",
       "\n",
       "       type  \n",
       "4     Movie  \n",
       "12    Movie  \n",
       "30    Movie  \n",
       "38    Movie  \n",
       "70    Movie  \n",
       "...     ...  \n",
       "5748  Movie  \n",
       "5749  Movie  \n",
       "5788  Movie  \n",
       "5789  Movie  \n",
       "5812  Movie  \n",
       "\n",
       "[391 rows x 4 columns]"
      ]
     },
     "execution_count": 87,
     "metadata": {},
     "output_type": "execute_result"
    }
   ],
   "source": [
    "df_netflix.drop_duplicates(subset = [\"date_added\"], keep = False)"
   ]
  }
 ],
 "metadata": {
  "kernelspec": {
   "display_name": "base",
   "language": "python",
   "name": "python3"
  },
  "language_info": {
   "codemirror_mode": {
    "name": "ipython",
    "version": 3
   },
   "file_extension": ".py",
   "mimetype": "text/x-python",
   "name": "python",
   "nbconvert_exporter": "python",
   "pygments_lexer": "ipython3",
   "version": "3.12.2"
  }
 },
 "nbformat": 4,
 "nbformat_minor": 5
}
