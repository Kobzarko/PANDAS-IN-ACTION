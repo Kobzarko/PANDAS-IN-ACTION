{
 "cells": [
  {
   "cell_type": "code",
   "execution_count": 1,
   "id": "1b472dc1",
   "metadata": {},
   "outputs": [],
   "source": [
    "import numpy as np\n",
    "import pandas as pd"
   ]
  },
  {
   "cell_type": "markdown",
   "id": "ef263c82",
   "metadata": {},
   "source": [
    "#### Classes, and Instances"
   ]
  },
  {
   "cell_type": "code",
   "execution_count": 4,
   "id": "4461137e",
   "metadata": {},
   "outputs": [
    {
     "data": {
      "application/vnd.microsoft.datawrangler.viewer.v0+json": {
       "columns": [
        {
         "name": "index",
         "rawType": "int64",
         "type": "integer"
        },
        {
         "name": "0",
         "rawType": "object",
         "type": "string"
        }
       ],
       "ref": "bfec5a62-ce33-46a5-98d3-a8fd482c0bc0",
       "rows": [
        [
         "0",
         "Chocolate"
        ],
        [
         "1",
         "Vanilla"
        ],
        [
         "2",
         "Strawberry"
        ],
        [
         "3",
         "Rum Raisin"
        ]
       ],
       "shape": {
        "columns": 1,
        "rows": 4
       }
      },
      "text/plain": [
       "0     Chocolate\n",
       "1       Vanilla\n",
       "2    Strawberry\n",
       "3    Rum Raisin\n",
       "dtype: object"
      ]
     },
     "execution_count": 4,
     "metadata": {},
     "output_type": "execute_result"
    }
   ],
   "source": [
    "# Creating a Series \n",
    "pd.Series()\n",
    "# Populate it with data\n",
    "ice_cream_flavors = [\n",
    "\"Chocolate\",\n",
    "\"Vanilla\",\n",
    "\"Strawberry\",\n",
    "\"Rum Raisin\",\n",
    "]\n",
    "\n",
    "pd.Series(ice_cream_flavors)"
   ]
  },
  {
   "cell_type": "code",
   "execution_count": 5,
   "id": "1855e8a2",
   "metadata": {},
   "outputs": [
    {
     "data": {
      "application/vnd.microsoft.datawrangler.viewer.v0+json": {
       "columns": [
        {
         "name": "index",
         "rawType": "int64",
         "type": "integer"
        },
        {
         "name": "0",
         "rawType": "object",
         "type": "string"
        }
       ],
       "ref": "d304a408-1ec2-4690-8007-d3adcc19669a",
       "rows": [
        [
         "0",
         "Chocolate"
        ],
        [
         "1",
         "Vanilla"
        ],
        [
         "2",
         "Strawberry"
        ],
        [
         "3",
         "Rum Raisin"
        ]
       ],
       "shape": {
        "columns": 1,
        "rows": 4
       }
      },
      "text/plain": [
       "0     Chocolate\n",
       "1       Vanilla\n",
       "2    Strawberry\n",
       "3    Rum Raisin\n",
       "dtype: object"
      ]
     },
     "execution_count": 5,
     "metadata": {},
     "output_type": "execute_result"
    }
   ],
   "source": [
    "# The same as above, but with the data= keyword argument\n",
    "pd.Series(data = ice_cream_flavors)"
   ]
  },
  {
   "cell_type": "markdown",
   "id": "e0f448d5",
   "metadata": {},
   "source": [
    "#### Customizing the Series Index"
   ]
  },
  {
   "cell_type": "code",
   "execution_count": 6,
   "id": "33d43da7",
   "metadata": {},
   "outputs": [
    {
     "data": {
      "application/vnd.microsoft.datawrangler.viewer.v0+json": {
       "columns": [
        {
         "name": "index",
         "rawType": "object",
         "type": "string"
        },
        {
         "name": "0",
         "rawType": "object",
         "type": "string"
        }
       ],
       "ref": "7f0aa28e-ca2a-47c4-859b-2b4307842615",
       "rows": [
        [
         "Monday",
         "Chocolate"
        ],
        [
         "Wednesday",
         "Vanilla"
        ],
        [
         "Friday",
         "Strawberry"
        ],
        [
         "Saturday",
         "Rum Raisin"
        ]
       ],
       "shape": {
        "columns": 1,
        "rows": 4
       }
      },
      "text/plain": [
       "Monday        Chocolate\n",
       "Wednesday       Vanilla\n",
       "Friday       Strawberry\n",
       "Saturday     Rum Raisin\n",
       "dtype: object"
      ]
     },
     "execution_count": 6,
     "metadata": {},
     "output_type": "execute_result"
    }
   ],
   "source": [
    "days_of_week = (\"Monday\", \"Wednesday\", \"Friday\", \"Saturday\")\n",
    "pd.Series(data = ice_cream_flavors, index = days_of_week)"
   ]
  },
  {
   "cell_type": "code",
   "execution_count": 7,
   "id": "fc0a5421",
   "metadata": {},
   "outputs": [
    {
     "data": {
      "application/vnd.microsoft.datawrangler.viewer.v0+json": {
       "columns": [
        {
         "name": "index",
         "rawType": "object",
         "type": "string"
        },
        {
         "name": "0",
         "rawType": "object",
         "type": "string"
        }
       ],
       "ref": "b5553443-31f5-4348-9e2c-00ae7d2aa5a5",
       "rows": [
        [
         "Monday",
         "Chocolate"
        ],
        [
         "Wednesday",
         "Vanilla"
        ],
        [
         "Friday",
         "Strawberry"
        ],
        [
         "Saturday",
         "Rum Raisin"
        ]
       ],
       "shape": {
        "columns": 1,
        "rows": 4
       }
      },
      "text/plain": [
       "Monday        Chocolate\n",
       "Wednesday       Vanilla\n",
       "Friday       Strawberry\n",
       "Saturday     Rum Raisin\n",
       "dtype: object"
      ]
     },
     "execution_count": 7,
     "metadata": {},
     "output_type": "execute_result"
    }
   ],
   "source": [
    "# same logic\n",
    "pd.Series(ice_cream_flavors, days_of_week)"
   ]
  },
  {
   "cell_type": "markdown",
   "id": "ded3b1b7",
   "metadata": {},
   "source": [
    "#### Series types"
   ]
  },
  {
   "cell_type": "code",
   "execution_count": null,
   "id": "db0c67b1",
   "metadata": {},
   "outputs": [
    {
     "data": {
      "application/vnd.microsoft.datawrangler.viewer.v0+json": {
       "columns": [
        {
         "name": "index",
         "rawType": "int64",
         "type": "integer"
        },
        {
         "name": "0",
         "rawType": "bool",
         "type": "boolean"
        }
       ],
       "ref": "10dce445-1c55-4d2e-9a75-3047f8996fa3",
       "rows": [
        [
         "0",
         "True"
        ],
        [
         "1",
         "False"
        ],
        [
         "2",
         "False"
        ]
       ],
       "shape": {
        "columns": 1,
        "rows": 3
       }
      },
      "text/plain": [
       "0     True\n",
       "1    False\n",
       "2    False\n",
       "dtype: bool"
      ]
     },
     "execution_count": 17,
     "metadata": {},
     "output_type": "execute_result"
    }
   ],
   "source": [
    "bunch_of_bools = [True, False, False]\n",
    "pd.Series(bunch_of_bools).dtype # would return bool\n",
    "pd.Series(bunch_of_bools)"
   ]
  },
  {
   "cell_type": "code",
   "execution_count": null,
   "id": "552eac00",
   "metadata": {},
   "outputs": [
    {
     "data": {
      "application/vnd.microsoft.datawrangler.viewer.v0+json": {
       "columns": [
        {
         "name": "index",
         "rawType": "object",
         "type": "string"
        },
        {
         "name": "0",
         "rawType": "float64",
         "type": "float"
        }
       ],
       "ref": "40ffe954-84d1-45db-b6cd-b728ee5e721f",
       "rows": [
        [
         "Open",
         "985.32"
        ],
        [
         "Close",
         "950.44"
        ]
       ],
       "shape": {
        "columns": 1,
        "rows": 2
       }
      },
      "text/plain": [
       "Open     985.32\n",
       "Close    950.44\n",
       "dtype: float64"
      ]
     },
     "execution_count": 15,
     "metadata": {},
     "output_type": "execute_result"
    }
   ],
   "source": [
    "stock_prices = [985.32, 950.44]\n",
    "time_of_day = [\"Open\", \"Close\"]\n",
    "pd.Series(data = stock_prices, index = time_of_day).dtype # would return float64\n",
    "pd.Series(data = stock_prices, index = time_of_day)\n"
   ]
  },
  {
   "cell_type": "code",
   "execution_count": 16,
   "id": "9fd5fe9c",
   "metadata": {},
   "outputs": [
    {
     "data": {
      "application/vnd.microsoft.datawrangler.viewer.v0+json": {
       "columns": [
        {
         "name": "index",
         "rawType": "int64",
         "type": "integer"
        },
        {
         "name": "0",
         "rawType": "int64",
         "type": "integer"
        }
       ],
       "ref": "dc2be8ef-921d-403b-88cf-06a1bc615d51",
       "rows": [
        [
         "0",
         "4"
        ],
        [
         "1",
         "8"
        ],
        [
         "2",
         "15"
        ],
        [
         "3",
         "16"
        ],
        [
         "4",
         "23"
        ],
        [
         "5",
         "42"
        ]
       ],
       "shape": {
        "columns": 1,
        "rows": 6
       }
      },
      "text/plain": [
       "0     4\n",
       "1     8\n",
       "2    15\n",
       "3    16\n",
       "4    23\n",
       "5    42\n",
       "dtype: int64"
      ]
     },
     "execution_count": 16,
     "metadata": {},
     "output_type": "execute_result"
    }
   ],
   "source": [
    "lucky_numbers = [4, 8, 15, 16, 23, 42]\n",
    "pd.Series(lucky_numbers).dtype # would return int64\n",
    "pd.Series(lucky_numbers)"
   ]
  },
  {
   "cell_type": "code",
   "execution_count": null,
   "id": "6e96740e",
   "metadata": {},
   "outputs": [
    {
     "data": {
      "application/vnd.microsoft.datawrangler.viewer.v0+json": {
       "columns": [
        {
         "name": "index",
         "rawType": "int64",
         "type": "integer"
        },
        {
         "name": "0",
         "rawType": "float64",
         "type": "float"
        }
       ],
       "ref": "0bbdf8a6-af49-49f2-90ff-3adbfcbccb3b",
       "rows": [
        [
         "0",
         "4.0"
        ],
        [
         "1",
         "8.0"
        ],
        [
         "2",
         "15.0"
        ],
        [
         "3",
         "16.0"
        ],
        [
         "4",
         "23.0"
        ],
        [
         "5",
         "42.0"
        ]
       ],
       "shape": {
        "columns": 1,
        "rows": 6
       }
      },
      "text/plain": [
       "0     4.0\n",
       "1     8.0\n",
       "2    15.0\n",
       "3    16.0\n",
       "4    23.0\n",
       "5    42.0\n",
       "dtype: float64"
      ]
     },
     "execution_count": 18,
     "metadata": {},
     "output_type": "execute_result"
    }
   ],
   "source": [
    "pd.Series(lucky_numbers, dtype = \"float\") # would return float64"
   ]
  },
  {
   "cell_type": "markdown",
   "id": "d017e0fd",
   "metadata": {},
   "source": [
    "##### Nan type"
   ]
  },
  {
   "cell_type": "code",
   "execution_count": 19,
   "id": "51cc0756",
   "metadata": {},
   "outputs": [
    {
     "data": {
      "application/vnd.microsoft.datawrangler.viewer.v0+json": {
       "columns": [
        {
         "name": "index",
         "rawType": "int64",
         "type": "integer"
        },
        {
         "name": "0",
         "rawType": "float64",
         "type": "float"
        }
       ],
       "ref": "96ee4e4b-6ed7-45c6-ab9b-240753c2dc25",
       "rows": [
        [
         "0",
         "94.0"
        ],
        [
         "1",
         "88.0"
        ],
        [
         "2",
         null
        ],
        [
         "3",
         "91.0"
        ]
       ],
       "shape": {
        "columns": 1,
        "rows": 4
       }
      },
      "text/plain": [
       "0    94.0\n",
       "1    88.0\n",
       "2     NaN\n",
       "3    91.0\n",
       "dtype: float64"
      ]
     },
     "execution_count": 19,
     "metadata": {},
     "output_type": "execute_result"
    }
   ],
   "source": [
    "temperatures = [94, 88, np.nan, 91]\n",
    "pd.Series(data = temperatures)"
   ]
  },
  {
   "cell_type": "markdown",
   "id": "24230419",
   "metadata": {},
   "source": [
    "#### Create a Series from Python Objects"
   ]
  },
  {
   "cell_type": "code",
   "execution_count": 20,
   "id": "e55e217b",
   "metadata": {},
   "outputs": [
    {
     "data": {
      "application/vnd.microsoft.datawrangler.viewer.v0+json": {
       "columns": [
        {
         "name": "index",
         "rawType": "object",
         "type": "string"
        },
        {
         "name": "0",
         "rawType": "int64",
         "type": "integer"
        }
       ],
       "ref": "5cbae800-36be-47f7-adbc-1aedbd06640e",
       "rows": [
        [
         "Cereal",
         "125"
        ],
        [
         "Chocolate Bar",
         "406"
        ],
        [
         "Ice Cream Sundae",
         "342"
        ]
       ],
       "shape": {
        "columns": 1,
        "rows": 3
       }
      },
      "text/plain": [
       "Cereal              125\n",
       "Chocolate Bar       406\n",
       "Ice Cream Sundae    342\n",
       "dtype: int64"
      ]
     },
     "execution_count": 20,
     "metadata": {},
     "output_type": "execute_result"
    }
   ],
   "source": [
    "calorie_info = {\n",
    "\"Cereal\": 125,\n",
    "\"Chocolate Bar\": 406,\n",
    "\"Ice Cream Sundae\": 342,\n",
    "}\n",
    "\n",
    "pd.Series(calorie_info)"
   ]
  },
  {
   "cell_type": "code",
   "execution_count": 21,
   "id": "2a24ec17",
   "metadata": {},
   "outputs": [
    {
     "data": {
      "application/vnd.microsoft.datawrangler.viewer.v0+json": {
       "columns": [
        {
         "name": "index",
         "rawType": "int64",
         "type": "integer"
        },
        {
         "name": "0",
         "rawType": "object",
         "type": "string"
        }
       ],
       "ref": "16c5bb63-52a7-4b5c-87de-00887919daf8",
       "rows": [
        [
         "0",
         "John"
        ],
        [
         "1",
         "Jane"
        ],
        [
         "2",
         "Jack"
        ],
        [
         "3",
         "Jill"
        ]
       ],
       "shape": {
        "columns": 1,
        "rows": 4
       }
      },
      "text/plain": [
       "0    John\n",
       "1    Jane\n",
       "2    Jack\n",
       "3    Jill\n",
       "dtype: object"
      ]
     },
     "execution_count": 21,
     "metadata": {},
     "output_type": "execute_result"
    }
   ],
   "source": [
    "# Create a Series using a tuple as data\n",
    "pd.Series((\"John\", \"Jane\", \"Jack\", \"Jill\"))\n"
   ]
  },
  {
   "cell_type": "code",
   "execution_count": 22,
   "id": "769d20e5",
   "metadata": {},
   "outputs": [
    {
     "data": {
      "application/vnd.microsoft.datawrangler.viewer.v0+json": {
       "columns": [
        {
         "name": "index",
         "rawType": "int64",
         "type": "integer"
        },
        {
         "name": "0",
         "rawType": "object",
         "type": "unknown"
        }
       ],
       "ref": "4a8830bd-7c94-4928-b389-4c0235bee695",
       "rows": [
        [
         "0",
         "(120, 41, 26)"
        ],
        [
         "1",
         "(196, 165, 45)"
        ]
       ],
       "shape": {
        "columns": 1,
        "rows": 2
       }
      },
      "text/plain": [
       "0     (120, 41, 26)\n",
       "1    (196, 165, 45)\n",
       "dtype: object"
      ]
     },
     "execution_count": 22,
     "metadata": {},
     "output_type": "execute_result"
    }
   ],
   "source": [
    "rgb_colors = [(120, 41, 26), (196, 165, 45)]\n",
    "pd.Series(rgb_colors)"
   ]
  },
  {
   "cell_type": "code",
   "execution_count": null,
   "id": "83f096ee",
   "metadata": {},
   "outputs": [],
   "source": [
    "# Using the SET in the Series will lead to an error\n",
    "names = {\"John\", \"Jane\", \"Jack\", \"Jill\"}\n",
    "pd.Series(names) # would raise TypeError\n"
   ]
  },
  {
   "cell_type": "markdown",
   "id": "4b3ddd2b",
   "metadata": {},
   "source": [
    "**TypeError: 'set' type is unordered**"
   ]
  },
  {
   "cell_type": "code",
   "execution_count": null,
   "id": "a1ea7f8f",
   "metadata": {},
   "outputs": [
    {
     "data": {
      "application/vnd.microsoft.datawrangler.viewer.v0+json": {
       "columns": [
        {
         "name": "index",
         "rawType": "int64",
         "type": "integer"
        },
        {
         "name": "0",
         "rawType": "object",
         "type": "string"
        }
       ],
       "ref": "2b70593b-fe49-4c13-b318-af38c6255c28",
       "rows": [
        [
         "0",
         "Jane"
        ],
        [
         "1",
         "Jill"
        ],
        [
         "2",
         "John"
        ],
        [
         "3",
         "Jack"
        ]
       ],
       "shape": {
        "columns": 1,
        "rows": 4
       }
      },
      "text/plain": [
       "0    Jane\n",
       "1    Jill\n",
       "2    John\n",
       "3    Jack\n",
       "dtype: object"
      ]
     },
     "execution_count": 27,
     "metadata": {},
     "output_type": "execute_result"
    }
   ],
   "source": [
    "# convert the set to a list first\n",
    "pd.Series(list(names)) # would work"
   ]
  },
  {
   "cell_type": "markdown",
   "id": "a86b4753",
   "metadata": {},
   "source": [
    "#### Series Attributes"
   ]
  },
  {
   "cell_type": "code",
   "execution_count": 28,
   "id": "3ef9d13b",
   "metadata": {},
   "outputs": [
    {
     "data": {
      "text/plain": [
       "pandas.core.series.Series"
      ]
     },
     "execution_count": 28,
     "metadata": {},
     "output_type": "execute_result"
    }
   ],
   "source": [
    "# Series type\n",
    "type(pd.Series())"
   ]
  },
  {
   "cell_type": "code",
   "execution_count": 34,
   "id": "33f3d0f9",
   "metadata": {},
   "outputs": [],
   "source": [
    "diet = {\n",
    "\"Cereal\": 125,\n",
    "\"Chocolate Bar\": 406,\n",
    "\"Ice Cream Sundae\": 342,\n",
    "}\n",
    "diet = pd.Series(diet)"
   ]
  },
  {
   "cell_type": "code",
   "execution_count": null,
   "id": "29ae5ac3",
   "metadata": {},
   "outputs": [
    {
     "data": {
      "text/plain": [
       "array([125, 406, 342])"
      ]
     },
     "execution_count": 36,
     "metadata": {},
     "output_type": "execute_result"
    }
   ],
   "source": [
    "# the elements in the Series\n",
    "diet.values"
   ]
  },
  {
   "cell_type": "code",
   "execution_count": 42,
   "id": "f13fa2bf",
   "metadata": {},
   "outputs": [
    {
     "data": {
      "text/plain": [
       "Index(['Cereal', 'Chocolate Bar', 'Ice Cream Sundae'], dtype='object')"
      ]
     },
     "execution_count": 42,
     "metadata": {},
     "output_type": "execute_result"
    }
   ],
   "source": [
    "# return the index (labels) of the Series\n",
    "diet.index"
   ]
  },
  {
   "cell_type": "code",
   "execution_count": 41,
   "id": "ee1317f8",
   "metadata": {},
   "outputs": [
    {
     "data": {
      "text/plain": [
       "dtype('int64')"
      ]
     },
     "execution_count": 41,
     "metadata": {},
     "output_type": "execute_result"
    }
   ],
   "source": [
    "# the type of data stored in the Series\n",
    "diet.dtype"
   ]
  },
  {
   "cell_type": "code",
   "execution_count": 37,
   "id": "06e4d4e3",
   "metadata": {},
   "outputs": [
    {
     "data": {
      "text/plain": [
       "pandas.core.indexes.base.Index"
      ]
     },
     "execution_count": 37,
     "metadata": {},
     "output_type": "execute_result"
    }
   ],
   "source": [
    "type(diet.index)"
   ]
  },
  {
   "cell_type": "code",
   "execution_count": 40,
   "id": "ab8b04f4",
   "metadata": {},
   "outputs": [
    {
     "data": {
      "text/plain": [
       "3"
      ]
     },
     "execution_count": 40,
     "metadata": {},
     "output_type": "execute_result"
    }
   ],
   "source": [
    "# the number of elements in the Series\n",
    "diet.size"
   ]
  },
  {
   "cell_type": "code",
   "execution_count": 43,
   "id": "4484cf6c",
   "metadata": {},
   "outputs": [
    {
     "data": {
      "text/plain": [
       "True"
      ]
     },
     "execution_count": 43,
     "metadata": {},
     "output_type": "execute_result"
    }
   ],
   "source": [
    "# returns True if there are no duplicate values in the Series\n",
    "diet.is_unique"
   ]
  },
  {
   "cell_type": "code",
   "execution_count": 44,
   "id": "d8c73a1e",
   "metadata": {},
   "outputs": [
    {
     "data": {
      "text/plain": [
       "False"
      ]
     },
     "execution_count": 44,
     "metadata": {},
     "output_type": "execute_result"
    }
   ],
   "source": [
    "pd.Series(data = [3, 3]).is_unique"
   ]
  },
  {
   "cell_type": "code",
   "execution_count": 47,
   "id": "1497e7ed",
   "metadata": {},
   "outputs": [
    {
     "data": {
      "text/plain": [
       "True"
      ]
     },
     "execution_count": 47,
     "metadata": {},
     "output_type": "execute_result"
    }
   ],
   "source": [
    "# returns True if the values in the Series are in ascending order\n",
    "pd.Series(data = [1, 3, 6]).is_monotonic_increasing"
   ]
  },
  {
   "cell_type": "markdown",
   "id": "42bc7f04",
   "metadata": {},
   "source": [
    "#### Retrieving the First and Last Rows"
   ]
  },
  {
   "cell_type": "code",
   "execution_count": 48,
   "id": "02c8d8d7",
   "metadata": {},
   "outputs": [
    {
     "data": {
      "application/vnd.microsoft.datawrangler.viewer.v0+json": {
       "columns": [
        {
         "name": "index",
         "rawType": "int64",
         "type": "integer"
        },
        {
         "name": "0",
         "rawType": "int64",
         "type": "integer"
        }
       ],
       "ref": "7a39fecf-455a-4d4f-928d-614ba081b5cb",
       "rows": [
        [
         "0",
         "0"
        ],
        [
         "1",
         "5"
        ],
        [
         "2",
         "10"
        ],
        [
         "3",
         "15"
        ],
        [
         "4",
         "20"
        ],
        [
         "5",
         "25"
        ],
        [
         "6",
         "30"
        ],
        [
         "7",
         "35"
        ],
        [
         "8",
         "40"
        ],
        [
         "9",
         "45"
        ],
        [
         "10",
         "50"
        ],
        [
         "11",
         "55"
        ],
        [
         "12",
         "60"
        ],
        [
         "13",
         "65"
        ],
        [
         "14",
         "70"
        ],
        [
         "15",
         "75"
        ],
        [
         "16",
         "80"
        ],
        [
         "17",
         "85"
        ],
        [
         "18",
         "90"
        ],
        [
         "19",
         "95"
        ],
        [
         "20",
         "100"
        ],
        [
         "21",
         "105"
        ],
        [
         "22",
         "110"
        ],
        [
         "23",
         "115"
        ],
        [
         "24",
         "120"
        ],
        [
         "25",
         "125"
        ],
        [
         "26",
         "130"
        ],
        [
         "27",
         "135"
        ],
        [
         "28",
         "140"
        ],
        [
         "29",
         "145"
        ],
        [
         "30",
         "150"
        ],
        [
         "31",
         "155"
        ],
        [
         "32",
         "160"
        ],
        [
         "33",
         "165"
        ],
        [
         "34",
         "170"
        ],
        [
         "35",
         "175"
        ],
        [
         "36",
         "180"
        ],
        [
         "37",
         "185"
        ],
        [
         "38",
         "190"
        ],
        [
         "39",
         "195"
        ],
        [
         "40",
         "200"
        ],
        [
         "41",
         "205"
        ],
        [
         "42",
         "210"
        ],
        [
         "43",
         "215"
        ],
        [
         "44",
         "220"
        ],
        [
         "45",
         "225"
        ],
        [
         "46",
         "230"
        ],
        [
         "47",
         "235"
        ],
        [
         "48",
         "240"
        ],
        [
         "49",
         "245"
        ]
       ],
       "shape": {
        "columns": 1,
        "rows": 100
       }
      },
      "text/plain": [
       "0       0\n",
       "1       5\n",
       "2      10\n",
       "3      15\n",
       "4      20\n",
       "     ... \n",
       "95    475\n",
       "96    480\n",
       "97    485\n",
       "98    490\n",
       "99    495\n",
       "Length: 100, dtype: int64"
      ]
     },
     "execution_count": 48,
     "metadata": {},
     "output_type": "execute_result"
    }
   ],
   "source": [
    "values = range(0,500, 5)\n",
    "nums = pd.Series(data = values)\n",
    "nums"
   ]
  },
  {
   "cell_type": "code",
   "execution_count": 52,
   "id": "ef69b262",
   "metadata": {},
   "outputs": [
    {
     "name": "stdout",
     "output_type": "stream",
     "text": [
      "<class 'pandas.core.series.Series'>\n",
      "RangeIndex: 100 entries, 0 to 99\n",
      "Series name: None\n",
      "Non-Null Count  Dtype\n",
      "--------------  -----\n",
      "100 non-null    int64\n",
      "dtypes: int64(1)\n",
      "memory usage: 932.0 bytes\n"
     ]
    }
   ],
   "source": [
    "nums.info()"
   ]
  },
  {
   "cell_type": "code",
   "execution_count": 54,
   "id": "631a8bcb",
   "metadata": {},
   "outputs": [
    {
     "data": {
      "application/vnd.microsoft.datawrangler.viewer.v0+json": {
       "columns": [
        {
         "name": "index",
         "rawType": "int64",
         "type": "integer"
        },
        {
         "name": "0",
         "rawType": "int64",
         "type": "integer"
        }
       ],
       "ref": "3e8eb099-d8e2-4a24-87dd-de75dc7318c3",
       "rows": [
        [
         "0",
         "0"
        ],
        [
         "1",
         "5"
        ],
        [
         "2",
         "10"
        ],
        [
         "3",
         "15"
        ],
        [
         "4",
         "20"
        ]
       ],
       "shape": {
        "columns": 1,
        "rows": 5
       }
      },
      "text/plain": [
       "0     0\n",
       "1     5\n",
       "2    10\n",
       "3    15\n",
       "4    20\n",
       "dtype: int64"
      ]
     },
     "execution_count": 54,
     "metadata": {},
     "output_type": "execute_result"
    }
   ],
   "source": [
    "nums.head() # first 5 rows"
   ]
  },
  {
   "cell_type": "code",
   "execution_count": null,
   "id": "1d248774",
   "metadata": {},
   "outputs": [
    {
     "data": {
      "application/vnd.microsoft.datawrangler.viewer.v0+json": {
       "columns": [
        {
         "name": "index",
         "rawType": "int64",
         "type": "integer"
        },
        {
         "name": "0",
         "rawType": "int64",
         "type": "integer"
        }
       ],
       "ref": "c57a396c-7907-4273-a4b5-85a2f40d9ca5",
       "rows": [
        [
         "97",
         "485"
        ],
        [
         "98",
         "490"
        ],
        [
         "99",
         "495"
        ]
       ],
       "shape": {
        "columns": 1,
        "rows": 3
       }
      },
      "text/plain": [
       "97    485\n",
       "98    490\n",
       "99    495\n",
       "dtype: int64"
      ]
     },
     "execution_count": 57,
     "metadata": {},
     "output_type": "execute_result"
    }
   ],
   "source": [
    "# last 3 rows\n",
    "nums.tail(n=3)"
   ]
  },
  {
   "cell_type": "markdown",
   "id": "b5e014d5",
   "metadata": {},
   "source": [
    "#### Mathematical Operations"
   ]
  },
  {
   "cell_type": "code",
   "execution_count": 58,
   "id": "385aae59",
   "metadata": {},
   "outputs": [
    {
     "data": {
      "application/vnd.microsoft.datawrangler.viewer.v0+json": {
       "columns": [
        {
         "name": "index",
         "rawType": "int64",
         "type": "integer"
        },
        {
         "name": "0",
         "rawType": "float64",
         "type": "float"
        }
       ],
       "ref": "777bec04-32cf-45c3-bbc1-f769db6c0f93",
       "rows": [
        [
         "0",
         "1.0"
        ],
        [
         "1",
         "2.0"
        ],
        [
         "2",
         "3.0"
        ],
        [
         "3",
         null
        ],
        [
         "4",
         "4.0"
        ],
        [
         "5",
         "5.0"
        ]
       ],
       "shape": {
        "columns": 1,
        "rows": 6
       }
      },
      "text/plain": [
       "0    1.0\n",
       "1    2.0\n",
       "2    3.0\n",
       "3    NaN\n",
       "4    4.0\n",
       "5    5.0\n",
       "dtype: float64"
      ]
     },
     "execution_count": 58,
     "metadata": {},
     "output_type": "execute_result"
    }
   ],
   "source": [
    "numbers = pd.Series([1, 2, 3, np.nan, 4, 5])\n",
    "numbers"
   ]
  },
  {
   "cell_type": "code",
   "execution_count": 59,
   "id": "3dbfbade",
   "metadata": {},
   "outputs": [
    {
     "data": {
      "text/plain": [
       "5"
      ]
     },
     "execution_count": 59,
     "metadata": {},
     "output_type": "execute_result"
    }
   ],
   "source": [
    "# count of non-missing values\n",
    "numbers.count()"
   ]
  },
  {
   "cell_type": "code",
   "execution_count": 60,
   "id": "6537eee1",
   "metadata": {},
   "outputs": [
    {
     "data": {
      "text/plain": [
       "15.0"
      ]
     },
     "execution_count": 60,
     "metadata": {},
     "output_type": "execute_result"
    }
   ],
   "source": [
    "# sum of values, excluding missing values\n",
    "numbers.sum()"
   ]
  },
  {
   "cell_type": "code",
   "execution_count": null,
   "id": "89995356",
   "metadata": {},
   "outputs": [
    {
     "data": {
      "text/plain": [
       "15.0"
      ]
     },
     "execution_count": 61,
     "metadata": {},
     "output_type": "execute_result"
    }
   ],
   "source": [
    "# sum of values, excluding missing values minimum 3 values used\n",
    "numbers.sum(min_count=3)"
   ]
  },
  {
   "cell_type": "code",
   "execution_count": null,
   "id": "3cb21d2e",
   "metadata": {},
   "outputs": [
    {
     "data": {
      "text/plain": [
       "120.0"
      ]
     },
     "execution_count": 62,
     "metadata": {},
     "output_type": "execute_result"
    }
   ],
   "source": [
    "# multiplication of values, excluding missing values\n",
    "numbers.product() # product of values, excluding missing values"
   ]
  }
 ],
 "metadata": {
  "kernelspec": {
   "display_name": "base",
   "language": "python",
   "name": "python3"
  },
  "language_info": {
   "codemirror_mode": {
    "name": "ipython",
    "version": 3
   },
   "file_extension": ".py",
   "mimetype": "text/x-python",
   "name": "python",
   "nbconvert_exporter": "python",
   "pygments_lexer": "ipython3",
   "version": "3.12.2"
  }
 },
 "nbformat": 4,
 "nbformat_minor": 5
}
