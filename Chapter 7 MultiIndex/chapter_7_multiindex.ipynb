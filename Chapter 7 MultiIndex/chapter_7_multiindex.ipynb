{
 "cells": [
  {
   "cell_type": "markdown",
   "id": "2a593699",
   "metadata": {},
   "source": [
    "### Import Data"
   ]
  },
  {
   "cell_type": "code",
   "execution_count": 1,
   "id": "7f40e5b6",
   "metadata": {},
   "outputs": [],
   "source": [
    "import pandas as pd"
   ]
  },
  {
   "cell_type": "markdown",
   "id": "81579fad",
   "metadata": {},
   "source": [
    "### MultiIndex theory"
   ]
  },
  {
   "cell_type": "markdown",
   "id": "1fa9f20d",
   "metadata": {},
   "source": [
    "**The list of tuples**"
   ]
  },
  {
   "cell_type": "code",
   "execution_count": 2,
   "id": "be87574c",
   "metadata": {},
   "outputs": [],
   "source": [
    "addresses = [\n",
    "(\"8809 Flair Square\", \"Toddside\", \"IL\", \"37206\"),\n",
    "(\"9901 Austin Street\", \"Toddside\", \"IL\", \"37206\"),\n",
    "(\"905 Hogan Quarter\", \"Franklin\", \"IL\", \"37206\"),\n",
    "]"
   ]
  },
  {
   "cell_type": "markdown",
   "id": "cd1e6956",
   "metadata": {},
   "source": [
    "**Create a MultiIndex**"
   ]
  },
  {
   "cell_type": "code",
   "execution_count": 3,
   "id": "dd211022",
   "metadata": {},
   "outputs": [
    {
     "data": {
      "text/plain": [
       "MultiIndex([( '8809 Flair Square', 'Toddside', 'IL', '37206'),\n",
       "            ('9901 Austin Street', 'Toddside', 'IL', '37206'),\n",
       "            ( '905 Hogan Quarter', 'Franklin', 'IL', '37206')],\n",
       "           )"
      ]
     },
     "execution_count": 3,
     "metadata": {},
     "output_type": "execute_result"
    }
   ],
   "source": [
    "pd.MultiIndex.from_tuples(tuples = addresses)"
   ]
  },
  {
   "cell_type": "code",
   "execution_count": 4,
   "id": "1e79f187",
   "metadata": {},
   "outputs": [],
   "source": [
    "row_index = pd.MultiIndex.from_tuples(\n",
    "tuples = addresses,\n",
    "names = [\"Street\", \"City\", \"State\", \"Zip\"]\n",
    ")"
   ]
  },
  {
   "cell_type": "code",
   "execution_count": 5,
   "id": "7f707181",
   "metadata": {},
   "outputs": [
    {
     "data": {
      "text/plain": [
       "MultiIndex([( '8809 Flair Square', 'Toddside', 'IL', '37206'),\n",
       "            ('9901 Austin Street', 'Toddside', 'IL', '37206'),\n",
       "            ( '905 Hogan Quarter', 'Franklin', 'IL', '37206')],\n",
       "           names=['Street', 'City', 'State', 'Zip'])"
      ]
     },
     "execution_count": 5,
     "metadata": {},
     "output_type": "execute_result"
    }
   ],
   "source": [
    "row_index"
   ]
  },
  {
   "cell_type": "markdown",
   "id": "8f992075",
   "metadata": {},
   "source": [
    "**Our dataframe**"
   ]
  },
  {
   "cell_type": "code",
   "execution_count": 6,
   "id": "be8b6754",
   "metadata": {},
   "outputs": [],
   "source": [
    "data = [\n",
    "[\"A\", \"B+\"],\n",
    "[\"C+\", \"C\"],\n",
    "[\"D-\", \"A\"],\n",
    "]"
   ]
  },
  {
   "cell_type": "code",
   "execution_count": 7,
   "id": "4ebbc327",
   "metadata": {},
   "outputs": [],
   "source": [
    "columns = [\"Schools\", \"Cost of Living\"]"
   ]
  },
  {
   "cell_type": "code",
   "execution_count": 8,
   "id": "5c4d32d6",
   "metadata": {},
   "outputs": [],
   "source": [
    "area_grades = pd.DataFrame(\n",
    "data = data, index = row_index, columns = columns\n",
    ")"
   ]
  },
  {
   "cell_type": "code",
   "execution_count": 11,
   "id": "47f27f4c",
   "metadata": {},
   "outputs": [
    {
     "data": {
      "application/vnd.microsoft.datawrangler.viewer.v0+json": {
       "columns": [
        {
         "name": "('Street', 'City', 'State', 'Zip')",
         "rawType": "object",
         "type": "unknown"
        },
        {
         "name": "Schools",
         "rawType": "object",
         "type": "string"
        },
        {
         "name": "Cost of Living",
         "rawType": "object",
         "type": "string"
        }
       ],
       "ref": "c43bd7e0-2b57-47cc-9a55-f160a25aa37c",
       "rows": [
        [
         "('8809 Flair Square', 'Toddside', 'IL', '37206')",
         "A",
         "B+"
        ],
        [
         "('9901 Austin Street', 'Toddside', 'IL', '37206')",
         "C+",
         "C"
        ],
        [
         "('905 Hogan Quarter', 'Franklin', 'IL', '37206')",
         "D-",
         "A"
        ]
       ],
       "shape": {
        "columns": 2,
        "rows": 3
       }
      },
      "text/html": [
       "<div>\n",
       "<style scoped>\n",
       "    .dataframe tbody tr th:only-of-type {\n",
       "        vertical-align: middle;\n",
       "    }\n",
       "\n",
       "    .dataframe tbody tr th {\n",
       "        vertical-align: top;\n",
       "    }\n",
       "\n",
       "    .dataframe thead th {\n",
       "        text-align: right;\n",
       "    }\n",
       "</style>\n",
       "<table border=\"1\" class=\"dataframe\">\n",
       "  <thead>\n",
       "    <tr style=\"text-align: right;\">\n",
       "      <th></th>\n",
       "      <th></th>\n",
       "      <th></th>\n",
       "      <th></th>\n",
       "      <th>Schools</th>\n",
       "      <th>Cost of Living</th>\n",
       "    </tr>\n",
       "    <tr>\n",
       "      <th>Street</th>\n",
       "      <th>City</th>\n",
       "      <th>State</th>\n",
       "      <th>Zip</th>\n",
       "      <th></th>\n",
       "      <th></th>\n",
       "    </tr>\n",
       "  </thead>\n",
       "  <tbody>\n",
       "    <tr>\n",
       "      <th>8809 Flair Square</th>\n",
       "      <th>Toddside</th>\n",
       "      <th>IL</th>\n",
       "      <th>37206</th>\n",
       "      <td>A</td>\n",
       "      <td>B+</td>\n",
       "    </tr>\n",
       "    <tr>\n",
       "      <th>9901 Austin Street</th>\n",
       "      <th>Toddside</th>\n",
       "      <th>IL</th>\n",
       "      <th>37206</th>\n",
       "      <td>C+</td>\n",
       "      <td>C</td>\n",
       "    </tr>\n",
       "    <tr>\n",
       "      <th>905 Hogan Quarter</th>\n",
       "      <th>Franklin</th>\n",
       "      <th>IL</th>\n",
       "      <th>37206</th>\n",
       "      <td>D-</td>\n",
       "      <td>A</td>\n",
       "    </tr>\n",
       "  </tbody>\n",
       "</table>\n",
       "</div>"
      ],
      "text/plain": [
       "                                        Schools Cost of Living\n",
       "Street             City     State Zip                         \n",
       "8809 Flair Square  Toddside IL    37206       A             B+\n",
       "9901 Austin Street Toddside IL    37206      C+              C\n",
       "905 Hogan Quarter  Franklin IL    37206      D-              A"
      ]
     },
     "execution_count": 11,
     "metadata": {},
     "output_type": "execute_result"
    }
   ],
   "source": [
    "area_grades"
   ]
  },
  {
   "cell_type": "code",
   "execution_count": 12,
   "id": "6a741dc0",
   "metadata": {},
   "outputs": [
    {
     "data": {
      "text/plain": [
       "Index(['Schools', 'Cost of Living'], dtype='object')"
      ]
     },
     "execution_count": 12,
     "metadata": {},
     "output_type": "execute_result"
    }
   ],
   "source": [
    "area_grades.columns"
   ]
  },
  {
   "cell_type": "markdown",
   "id": "42d5542d",
   "metadata": {},
   "source": [
    "**Create a second dataframe**"
   ]
  },
  {
   "cell_type": "code",
   "execution_count": 14,
   "id": "45d6e8a2",
   "metadata": {},
   "outputs": [],
   "source": [
    "column_index = pd.MultiIndex.from_tuples(\n",
    "    [\n",
    "        (\"Culture\", \"Restaurants\"),\n",
    "        (\"Culture\", \"Museums\"),\n",
    "        (\"Services\", \"Police\"),\n",
    "        (\"Services\", \"Schools\"),\n",
    "    ]\n",
    ")"
   ]
  },
  {
   "cell_type": "code",
   "execution_count": 15,
   "id": "b6e8b6c2",
   "metadata": {},
   "outputs": [
    {
     "data": {
      "text/plain": [
       "MultiIndex([( 'Culture', 'Restaurants'),\n",
       "            ( 'Culture',     'Museums'),\n",
       "            ('Services',      'Police'),\n",
       "            ('Services',     'Schools')],\n",
       "           )"
      ]
     },
     "execution_count": 15,
     "metadata": {},
     "output_type": "execute_result"
    }
   ],
   "source": [
    "column_index"
   ]
  },
  {
   "cell_type": "code",
   "execution_count": 16,
   "id": "64326220",
   "metadata": {},
   "outputs": [],
   "source": [
    "data = [\n",
    "[\"C-\", \"B+\", \"B-\", \"A\"],\n",
    "[\"D+\", \"C\", \"A\", \"C+\"],\n",
    "[\"A-\", \"A\", \"D+\", \"F\"]\n",
    "]"
   ]
  },
  {
   "cell_type": "code",
   "execution_count": 17,
   "id": "ca3ae225",
   "metadata": {},
   "outputs": [
    {
     "data": {
      "application/vnd.microsoft.datawrangler.viewer.v0+json": {
       "columns": [
        {
         "name": "('Street', 'City', 'State', 'Zip')",
         "rawType": "object",
         "type": "unknown"
        },
        {
         "name": "('Culture', 'Restaurants')",
         "rawType": "object",
         "type": "string"
        },
        {
         "name": "('Culture', 'Museums')",
         "rawType": "object",
         "type": "string"
        },
        {
         "name": "('Services', 'Police')",
         "rawType": "object",
         "type": "string"
        },
        {
         "name": "('Services', 'Schools')",
         "rawType": "object",
         "type": "string"
        }
       ],
       "ref": "5cf6810f-dfbd-4286-86b6-9735d8b2e294",
       "rows": [
        [
         "('8809 Flair Square', 'Toddside', 'IL', '37206')",
         "C-",
         "B+",
         "B-",
         "A"
        ],
        [
         "('9901 Austin Street', 'Toddside', 'IL', '37206')",
         "D+",
         "C",
         "A",
         "C+"
        ],
        [
         "('905 Hogan Quarter', 'Franklin', 'IL', '37206')",
         "A-",
         "A",
         "D+",
         "F"
        ]
       ],
       "shape": {
        "columns": 4,
        "rows": 3
       }
      },
      "text/html": [
       "<div>\n",
       "<style scoped>\n",
       "    .dataframe tbody tr th:only-of-type {\n",
       "        vertical-align: middle;\n",
       "    }\n",
       "\n",
       "    .dataframe tbody tr th {\n",
       "        vertical-align: top;\n",
       "    }\n",
       "\n",
       "    .dataframe thead tr th {\n",
       "        text-align: left;\n",
       "    }\n",
       "\n",
       "    .dataframe thead tr:last-of-type th {\n",
       "        text-align: right;\n",
       "    }\n",
       "</style>\n",
       "<table border=\"1\" class=\"dataframe\">\n",
       "  <thead>\n",
       "    <tr>\n",
       "      <th></th>\n",
       "      <th></th>\n",
       "      <th></th>\n",
       "      <th></th>\n",
       "      <th colspan=\"2\" halign=\"left\">Culture</th>\n",
       "      <th colspan=\"2\" halign=\"left\">Services</th>\n",
       "    </tr>\n",
       "    <tr>\n",
       "      <th></th>\n",
       "      <th></th>\n",
       "      <th></th>\n",
       "      <th></th>\n",
       "      <th>Restaurants</th>\n",
       "      <th>Museums</th>\n",
       "      <th>Police</th>\n",
       "      <th>Schools</th>\n",
       "    </tr>\n",
       "    <tr>\n",
       "      <th>Street</th>\n",
       "      <th>City</th>\n",
       "      <th>State</th>\n",
       "      <th>Zip</th>\n",
       "      <th></th>\n",
       "      <th></th>\n",
       "      <th></th>\n",
       "      <th></th>\n",
       "    </tr>\n",
       "  </thead>\n",
       "  <tbody>\n",
       "    <tr>\n",
       "      <th>8809 Flair Square</th>\n",
       "      <th>Toddside</th>\n",
       "      <th>IL</th>\n",
       "      <th>37206</th>\n",
       "      <td>C-</td>\n",
       "      <td>B+</td>\n",
       "      <td>B-</td>\n",
       "      <td>A</td>\n",
       "    </tr>\n",
       "    <tr>\n",
       "      <th>9901 Austin Street</th>\n",
       "      <th>Toddside</th>\n",
       "      <th>IL</th>\n",
       "      <th>37206</th>\n",
       "      <td>D+</td>\n",
       "      <td>C</td>\n",
       "      <td>A</td>\n",
       "      <td>C+</td>\n",
       "    </tr>\n",
       "    <tr>\n",
       "      <th>905 Hogan Quarter</th>\n",
       "      <th>Franklin</th>\n",
       "      <th>IL</th>\n",
       "      <th>37206</th>\n",
       "      <td>A-</td>\n",
       "      <td>A</td>\n",
       "      <td>D+</td>\n",
       "      <td>F</td>\n",
       "    </tr>\n",
       "  </tbody>\n",
       "</table>\n",
       "</div>"
      ],
      "text/plain": [
       "                                            Culture         Services        \n",
       "                                        Restaurants Museums   Police Schools\n",
       "Street             City     State Zip                                       \n",
       "8809 Flair Square  Toddside IL    37206          C-      B+       B-       A\n",
       "9901 Austin Street Toddside IL    37206          D+       C        A      C+\n",
       "905 Hogan Quarter  Franklin IL    37206          A-       A       D+       F"
      ]
     },
     "execution_count": 17,
     "metadata": {},
     "output_type": "execute_result"
    }
   ],
   "source": [
    "pd.DataFrame(\n",
    "data = data, index = row_index, columns = column_index\n",
    ")"
   ]
  }
 ],
 "metadata": {
  "kernelspec": {
   "display_name": "base",
   "language": "python",
   "name": "python3"
  },
  "language_info": {
   "codemirror_mode": {
    "name": "ipython",
    "version": 3
   },
   "file_extension": ".py",
   "mimetype": "text/x-python",
   "name": "python",
   "nbconvert_exporter": "python",
   "pygments_lexer": "ipython3",
   "version": "3.12.2"
  }
 },
 "nbformat": 4,
 "nbformat_minor": 5
}
