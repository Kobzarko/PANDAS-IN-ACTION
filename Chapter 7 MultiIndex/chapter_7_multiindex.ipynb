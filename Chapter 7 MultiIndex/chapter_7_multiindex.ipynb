{
 "cells": [
  {
   "cell_type": "markdown",
   "id": "2a593699",
   "metadata": {},
   "source": [
    "### Import Data"
   ]
  },
  {
   "cell_type": "code",
   "execution_count": 1,
   "id": "7f40e5b6",
   "metadata": {},
   "outputs": [],
   "source": [
    "import pandas as pd"
   ]
  },
  {
   "cell_type": "markdown",
   "id": "81579fad",
   "metadata": {},
   "source": [
    "### MultiIndex theory"
   ]
  },
  {
   "cell_type": "markdown",
   "id": "1fa9f20d",
   "metadata": {},
   "source": [
    "**The list of tuples**"
   ]
  },
  {
   "cell_type": "code",
   "execution_count": 2,
   "id": "be87574c",
   "metadata": {},
   "outputs": [],
   "source": [
    "addresses = [\n",
    "(\"8809 Flair Square\", \"Toddside\", \"IL\", \"37206\"),\n",
    "(\"9901 Austin Street\", \"Toddside\", \"IL\", \"37206\"),\n",
    "(\"905 Hogan Quarter\", \"Franklin\", \"IL\", \"37206\"),\n",
    "]"
   ]
  },
  {
   "cell_type": "markdown",
   "id": "cd1e6956",
   "metadata": {},
   "source": [
    "**Create a MultiIndex**"
   ]
  },
  {
   "cell_type": "code",
   "execution_count": 3,
   "id": "dd211022",
   "metadata": {},
   "outputs": [
    {
     "data": {
      "text/plain": [
       "MultiIndex([( '8809 Flair Square', 'Toddside', 'IL', '37206'),\n",
       "            ('9901 Austin Street', 'Toddside', 'IL', '37206'),\n",
       "            ( '905 Hogan Quarter', 'Franklin', 'IL', '37206')],\n",
       "           )"
      ]
     },
     "execution_count": 3,
     "metadata": {},
     "output_type": "execute_result"
    }
   ],
   "source": [
    "pd.MultiIndex.from_tuples(tuples = addresses)"
   ]
  },
  {
   "cell_type": "code",
   "execution_count": 4,
   "id": "1e79f187",
   "metadata": {},
   "outputs": [],
   "source": [
    "row_index = pd.MultiIndex.from_tuples(\n",
    "tuples = addresses,\n",
    "names = [\"Street\", \"City\", \"State\", \"Zip\"]\n",
    ")"
   ]
  },
  {
   "cell_type": "code",
   "execution_count": 5,
   "id": "7f707181",
   "metadata": {},
   "outputs": [
    {
     "data": {
      "text/plain": [
       "MultiIndex([( '8809 Flair Square', 'Toddside', 'IL', '37206'),\n",
       "            ('9901 Austin Street', 'Toddside', 'IL', '37206'),\n",
       "            ( '905 Hogan Quarter', 'Franklin', 'IL', '37206')],\n",
       "           names=['Street', 'City', 'State', 'Zip'])"
      ]
     },
     "execution_count": 5,
     "metadata": {},
     "output_type": "execute_result"
    }
   ],
   "source": [
    "row_index"
   ]
  },
  {
   "cell_type": "markdown",
   "id": "8f992075",
   "metadata": {},
   "source": [
    "**Our dataframe**"
   ]
  },
  {
   "cell_type": "code",
   "execution_count": 6,
   "id": "be8b6754",
   "metadata": {},
   "outputs": [],
   "source": [
    "data = [\n",
    "[\"A\", \"B+\"],\n",
    "[\"C+\", \"C\"],\n",
    "[\"D-\", \"A\"],\n",
    "]"
   ]
  },
  {
   "cell_type": "code",
   "execution_count": 7,
   "id": "4ebbc327",
   "metadata": {},
   "outputs": [],
   "source": [
    "columns = [\"Schools\", \"Cost of Living\"]"
   ]
  },
  {
   "cell_type": "code",
   "execution_count": 8,
   "id": "5c4d32d6",
   "metadata": {},
   "outputs": [],
   "source": [
    "area_grades = pd.DataFrame(\n",
    "data = data, index = row_index, columns = columns\n",
    ")"
   ]
  },
  {
   "cell_type": "code",
   "execution_count": 9,
   "id": "47f27f4c",
   "metadata": {},
   "outputs": [
    {
     "data": {
      "application/vnd.microsoft.datawrangler.viewer.v0+json": {
       "columns": [
        {
         "name": "('Street', 'City', 'State', 'Zip')",
         "rawType": "object",
         "type": "unknown"
        },
        {
         "name": "Schools",
         "rawType": "object",
         "type": "string"
        },
        {
         "name": "Cost of Living",
         "rawType": "object",
         "type": "string"
        }
       ],
       "ref": "ab2947ee-5a8d-45d2-a723-6dffe6031100",
       "rows": [
        [
         "('8809 Flair Square', 'Toddside', 'IL', '37206')",
         "A",
         "B+"
        ],
        [
         "('9901 Austin Street', 'Toddside', 'IL', '37206')",
         "C+",
         "C"
        ],
        [
         "('905 Hogan Quarter', 'Franklin', 'IL', '37206')",
         "D-",
         "A"
        ]
       ],
       "shape": {
        "columns": 2,
        "rows": 3
       }
      },
      "text/html": [
       "<div>\n",
       "<style scoped>\n",
       "    .dataframe tbody tr th:only-of-type {\n",
       "        vertical-align: middle;\n",
       "    }\n",
       "\n",
       "    .dataframe tbody tr th {\n",
       "        vertical-align: top;\n",
       "    }\n",
       "\n",
       "    .dataframe thead th {\n",
       "        text-align: right;\n",
       "    }\n",
       "</style>\n",
       "<table border=\"1\" class=\"dataframe\">\n",
       "  <thead>\n",
       "    <tr style=\"text-align: right;\">\n",
       "      <th></th>\n",
       "      <th></th>\n",
       "      <th></th>\n",
       "      <th></th>\n",
       "      <th>Schools</th>\n",
       "      <th>Cost of Living</th>\n",
       "    </tr>\n",
       "    <tr>\n",
       "      <th>Street</th>\n",
       "      <th>City</th>\n",
       "      <th>State</th>\n",
       "      <th>Zip</th>\n",
       "      <th></th>\n",
       "      <th></th>\n",
       "    </tr>\n",
       "  </thead>\n",
       "  <tbody>\n",
       "    <tr>\n",
       "      <th>8809 Flair Square</th>\n",
       "      <th>Toddside</th>\n",
       "      <th>IL</th>\n",
       "      <th>37206</th>\n",
       "      <td>A</td>\n",
       "      <td>B+</td>\n",
       "    </tr>\n",
       "    <tr>\n",
       "      <th>9901 Austin Street</th>\n",
       "      <th>Toddside</th>\n",
       "      <th>IL</th>\n",
       "      <th>37206</th>\n",
       "      <td>C+</td>\n",
       "      <td>C</td>\n",
       "    </tr>\n",
       "    <tr>\n",
       "      <th>905 Hogan Quarter</th>\n",
       "      <th>Franklin</th>\n",
       "      <th>IL</th>\n",
       "      <th>37206</th>\n",
       "      <td>D-</td>\n",
       "      <td>A</td>\n",
       "    </tr>\n",
       "  </tbody>\n",
       "</table>\n",
       "</div>"
      ],
      "text/plain": [
       "                                        Schools Cost of Living\n",
       "Street             City     State Zip                         \n",
       "8809 Flair Square  Toddside IL    37206       A             B+\n",
       "9901 Austin Street Toddside IL    37206      C+              C\n",
       "905 Hogan Quarter  Franklin IL    37206      D-              A"
      ]
     },
     "execution_count": 9,
     "metadata": {},
     "output_type": "execute_result"
    }
   ],
   "source": [
    "area_grades"
   ]
  },
  {
   "cell_type": "code",
   "execution_count": 10,
   "id": "6a741dc0",
   "metadata": {},
   "outputs": [
    {
     "data": {
      "text/plain": [
       "Index(['Schools', 'Cost of Living'], dtype='object')"
      ]
     },
     "execution_count": 10,
     "metadata": {},
     "output_type": "execute_result"
    }
   ],
   "source": [
    "area_grades.columns"
   ]
  },
  {
   "cell_type": "markdown",
   "id": "42d5542d",
   "metadata": {},
   "source": [
    "**Create a second dataframe**"
   ]
  },
  {
   "cell_type": "code",
   "execution_count": 11,
   "id": "45d6e8a2",
   "metadata": {},
   "outputs": [],
   "source": [
    "column_index = pd.MultiIndex.from_tuples(\n",
    "    [\n",
    "        (\"Culture\", \"Restaurants\"),\n",
    "        (\"Culture\", \"Museums\"),\n",
    "        (\"Services\", \"Police\"),\n",
    "        (\"Services\", \"Schools\"),\n",
    "    ]\n",
    ")"
   ]
  },
  {
   "cell_type": "code",
   "execution_count": 12,
   "id": "b6e8b6c2",
   "metadata": {},
   "outputs": [
    {
     "data": {
      "text/plain": [
       "MultiIndex([( 'Culture', 'Restaurants'),\n",
       "            ( 'Culture',     'Museums'),\n",
       "            ('Services',      'Police'),\n",
       "            ('Services',     'Schools')],\n",
       "           )"
      ]
     },
     "execution_count": 12,
     "metadata": {},
     "output_type": "execute_result"
    }
   ],
   "source": [
    "column_index"
   ]
  },
  {
   "cell_type": "code",
   "execution_count": 13,
   "id": "64326220",
   "metadata": {},
   "outputs": [],
   "source": [
    "data = [\n",
    "[\"C-\", \"B+\", \"B-\", \"A\"],\n",
    "[\"D+\", \"C\", \"A\", \"C+\"],\n",
    "[\"A-\", \"A\", \"D+\", \"F\"]\n",
    "]"
   ]
  },
  {
   "cell_type": "code",
   "execution_count": 14,
   "id": "ca3ae225",
   "metadata": {},
   "outputs": [
    {
     "data": {
      "application/vnd.microsoft.datawrangler.viewer.v0+json": {
       "columns": [
        {
         "name": "('Street', 'City', 'State', 'Zip')",
         "rawType": "object",
         "type": "unknown"
        },
        {
         "name": "('Culture', 'Restaurants')",
         "rawType": "object",
         "type": "string"
        },
        {
         "name": "('Culture', 'Museums')",
         "rawType": "object",
         "type": "string"
        },
        {
         "name": "('Services', 'Police')",
         "rawType": "object",
         "type": "string"
        },
        {
         "name": "('Services', 'Schools')",
         "rawType": "object",
         "type": "string"
        }
       ],
       "ref": "f7dd01d3-4d2f-46a3-abef-c17864b709a5",
       "rows": [
        [
         "('8809 Flair Square', 'Toddside', 'IL', '37206')",
         "C-",
         "B+",
         "B-",
         "A"
        ],
        [
         "('9901 Austin Street', 'Toddside', 'IL', '37206')",
         "D+",
         "C",
         "A",
         "C+"
        ],
        [
         "('905 Hogan Quarter', 'Franklin', 'IL', '37206')",
         "A-",
         "A",
         "D+",
         "F"
        ]
       ],
       "shape": {
        "columns": 4,
        "rows": 3
       }
      },
      "text/html": [
       "<div>\n",
       "<style scoped>\n",
       "    .dataframe tbody tr th:only-of-type {\n",
       "        vertical-align: middle;\n",
       "    }\n",
       "\n",
       "    .dataframe tbody tr th {\n",
       "        vertical-align: top;\n",
       "    }\n",
       "\n",
       "    .dataframe thead tr th {\n",
       "        text-align: left;\n",
       "    }\n",
       "\n",
       "    .dataframe thead tr:last-of-type th {\n",
       "        text-align: right;\n",
       "    }\n",
       "</style>\n",
       "<table border=\"1\" class=\"dataframe\">\n",
       "  <thead>\n",
       "    <tr>\n",
       "      <th></th>\n",
       "      <th></th>\n",
       "      <th></th>\n",
       "      <th></th>\n",
       "      <th colspan=\"2\" halign=\"left\">Culture</th>\n",
       "      <th colspan=\"2\" halign=\"left\">Services</th>\n",
       "    </tr>\n",
       "    <tr>\n",
       "      <th></th>\n",
       "      <th></th>\n",
       "      <th></th>\n",
       "      <th></th>\n",
       "      <th>Restaurants</th>\n",
       "      <th>Museums</th>\n",
       "      <th>Police</th>\n",
       "      <th>Schools</th>\n",
       "    </tr>\n",
       "    <tr>\n",
       "      <th>Street</th>\n",
       "      <th>City</th>\n",
       "      <th>State</th>\n",
       "      <th>Zip</th>\n",
       "      <th></th>\n",
       "      <th></th>\n",
       "      <th></th>\n",
       "      <th></th>\n",
       "    </tr>\n",
       "  </thead>\n",
       "  <tbody>\n",
       "    <tr>\n",
       "      <th>8809 Flair Square</th>\n",
       "      <th>Toddside</th>\n",
       "      <th>IL</th>\n",
       "      <th>37206</th>\n",
       "      <td>C-</td>\n",
       "      <td>B+</td>\n",
       "      <td>B-</td>\n",
       "      <td>A</td>\n",
       "    </tr>\n",
       "    <tr>\n",
       "      <th>9901 Austin Street</th>\n",
       "      <th>Toddside</th>\n",
       "      <th>IL</th>\n",
       "      <th>37206</th>\n",
       "      <td>D+</td>\n",
       "      <td>C</td>\n",
       "      <td>A</td>\n",
       "      <td>C+</td>\n",
       "    </tr>\n",
       "    <tr>\n",
       "      <th>905 Hogan Quarter</th>\n",
       "      <th>Franklin</th>\n",
       "      <th>IL</th>\n",
       "      <th>37206</th>\n",
       "      <td>A-</td>\n",
       "      <td>A</td>\n",
       "      <td>D+</td>\n",
       "      <td>F</td>\n",
       "    </tr>\n",
       "  </tbody>\n",
       "</table>\n",
       "</div>"
      ],
      "text/plain": [
       "                                            Culture         Services        \n",
       "                                        Restaurants Museums   Police Schools\n",
       "Street             City     State Zip                                       \n",
       "8809 Flair Square  Toddside IL    37206          C-      B+       B-       A\n",
       "9901 Austin Street Toddside IL    37206          D+       C        A      C+\n",
       "905 Hogan Quarter  Franklin IL    37206          A-       A       D+       F"
      ]
     },
     "execution_count": 14,
     "metadata": {},
     "output_type": "execute_result"
    }
   ],
   "source": [
    "pd.DataFrame(\n",
    "data = data, index = row_index, columns = column_index\n",
    ")"
   ]
  },
  {
   "cell_type": "markdown",
   "id": "33608f79",
   "metadata": {},
   "source": [
    "### MultiIndex DataFrames"
   ]
  },
  {
   "cell_type": "code",
   "execution_count": 16,
   "id": "56a04016",
   "metadata": {},
   "outputs": [],
   "source": [
    "neighborhoods_path = '/Users/ypushiev/Learning/PANDAS IN ACTION/Chapter 7 MultiIndex/Data/neighborhoods.csv'"
   ]
  },
  {
   "cell_type": "markdown",
   "id": "1832e46b",
   "metadata": {},
   "source": [
    "**index_col attribute will create MultiIndex for columns 0,1,2 and header will use first two rows like header of column**"
   ]
  },
  {
   "cell_type": "code",
   "execution_count": 25,
   "id": "caeeb0a5",
   "metadata": {},
   "outputs": [
    {
     "data": {
      "application/vnd.microsoft.datawrangler.viewer.v0+json": {
       "columns": [
        {
         "name": "('State', 'City', 'Street')",
         "rawType": "object",
         "type": "unknown"
        },
        {
         "name": "('Culture', 'Restaurants')",
         "rawType": "object",
         "type": "string"
        },
        {
         "name": "('Culture', 'Museums')",
         "rawType": "object",
         "type": "string"
        },
        {
         "name": "('Services', 'Police')",
         "rawType": "object",
         "type": "string"
        },
        {
         "name": "('Services', 'Schools')",
         "rawType": "object",
         "type": "string"
        }
       ],
       "ref": "dedbc8d3-9d36-4862-a4b4-8cf1aabef768",
       "rows": [
        [
         "('MO', 'Fisherborough', '244 Tracy View')",
         "C+",
         "F",
         "D-",
         "A+"
        ],
        [
         "('SD', 'Port Curtisville', '446 Cynthia Inlet')",
         "C-",
         "B",
         "B",
         "D+"
        ],
        [
         "('WV', 'Jimenezview', '432 John Common')",
         "A",
         "A+",
         "F",
         "B"
        ],
        [
         "('AK', 'Stevenshire', '238 Andrew Rue')",
         "D-",
         "A",
         "A-",
         "A-"
        ],
        [
         "('ND', 'New Joshuaport', '877 Walter Neck')",
         "D+",
         "C-",
         "B",
         "B"
        ]
       ],
       "shape": {
        "columns": 4,
        "rows": 5
       }
      },
      "text/html": [
       "<div>\n",
       "<style scoped>\n",
       "    .dataframe tbody tr th:only-of-type {\n",
       "        vertical-align: middle;\n",
       "    }\n",
       "\n",
       "    .dataframe tbody tr th {\n",
       "        vertical-align: top;\n",
       "    }\n",
       "\n",
       "    .dataframe thead tr th {\n",
       "        text-align: left;\n",
       "    }\n",
       "\n",
       "    .dataframe thead tr:last-of-type th {\n",
       "        text-align: right;\n",
       "    }\n",
       "</style>\n",
       "<table border=\"1\" class=\"dataframe\">\n",
       "  <thead>\n",
       "    <tr>\n",
       "      <th></th>\n",
       "      <th></th>\n",
       "      <th></th>\n",
       "      <th colspan=\"2\" halign=\"left\">Culture</th>\n",
       "      <th colspan=\"2\" halign=\"left\">Services</th>\n",
       "    </tr>\n",
       "    <tr>\n",
       "      <th></th>\n",
       "      <th></th>\n",
       "      <th></th>\n",
       "      <th>Restaurants</th>\n",
       "      <th>Museums</th>\n",
       "      <th>Police</th>\n",
       "      <th>Schools</th>\n",
       "    </tr>\n",
       "    <tr>\n",
       "      <th>State</th>\n",
       "      <th>City</th>\n",
       "      <th>Street</th>\n",
       "      <th></th>\n",
       "      <th></th>\n",
       "      <th></th>\n",
       "      <th></th>\n",
       "    </tr>\n",
       "  </thead>\n",
       "  <tbody>\n",
       "    <tr>\n",
       "      <th>MO</th>\n",
       "      <th>Fisherborough</th>\n",
       "      <th>244 Tracy View</th>\n",
       "      <td>C+</td>\n",
       "      <td>F</td>\n",
       "      <td>D-</td>\n",
       "      <td>A+</td>\n",
       "    </tr>\n",
       "    <tr>\n",
       "      <th>SD</th>\n",
       "      <th>Port Curtisville</th>\n",
       "      <th>446 Cynthia Inlet</th>\n",
       "      <td>C-</td>\n",
       "      <td>B</td>\n",
       "      <td>B</td>\n",
       "      <td>D+</td>\n",
       "    </tr>\n",
       "    <tr>\n",
       "      <th>WV</th>\n",
       "      <th>Jimenezview</th>\n",
       "      <th>432 John Common</th>\n",
       "      <td>A</td>\n",
       "      <td>A+</td>\n",
       "      <td>F</td>\n",
       "      <td>B</td>\n",
       "    </tr>\n",
       "    <tr>\n",
       "      <th>AK</th>\n",
       "      <th>Stevenshire</th>\n",
       "      <th>238 Andrew Rue</th>\n",
       "      <td>D-</td>\n",
       "      <td>A</td>\n",
       "      <td>A-</td>\n",
       "      <td>A-</td>\n",
       "    </tr>\n",
       "    <tr>\n",
       "      <th>ND</th>\n",
       "      <th>New Joshuaport</th>\n",
       "      <th>877 Walter Neck</th>\n",
       "      <td>D+</td>\n",
       "      <td>C-</td>\n",
       "      <td>B</td>\n",
       "      <td>B</td>\n",
       "    </tr>\n",
       "  </tbody>\n",
       "</table>\n",
       "</div>"
      ],
      "text/plain": [
       "                                             Culture         Services        \n",
       "                                         Restaurants Museums   Police Schools\n",
       "State City             Street                                                \n",
       "MO    Fisherborough    244 Tracy View             C+       F       D-      A+\n",
       "SD    Port Curtisville 446 Cynthia Inlet          C-       B        B      D+\n",
       "WV    Jimenezview      432 John Common             A      A+        F       B\n",
       "AK    Stevenshire      238 Andrew Rue             D-       A       A-      A-\n",
       "ND    New Joshuaport   877 Walter Neck            D+      C-        B       B"
      ]
     },
     "execution_count": 25,
     "metadata": {},
     "output_type": "execute_result"
    }
   ],
   "source": [
    "df_neighborhoods = pd.read_csv(neighborhoods_path,index_col=[0,1,2],header=[0,1])\n",
    "df_neighborhoods.head()"
   ]
  },
  {
   "cell_type": "code",
   "execution_count": 28,
   "id": "12ec6e6c",
   "metadata": {},
   "outputs": [
    {
     "data": {
      "text/plain": [
       "FrozenList(['State', 'City', 'Street'])"
      ]
     },
     "execution_count": 28,
     "metadata": {},
     "output_type": "execute_result"
    }
   ],
   "source": [
    "df_neighborhoods.index.names"
   ]
  },
  {
   "cell_type": "code",
   "execution_count": 31,
   "id": "8b80b832",
   "metadata": {},
   "outputs": [
    {
     "data": {
      "text/plain": [
       "MultiIndex([( 'Culture', 'Restaurants'),\n",
       "            ( 'Culture',     'Museums'),\n",
       "            ('Services',      'Police'),\n",
       "            ('Services',     'Schools')],\n",
       "           )"
      ]
     },
     "execution_count": 31,
     "metadata": {},
     "output_type": "execute_result"
    }
   ],
   "source": [
    "df_neighborhoods.columns"
   ]
  },
  {
   "cell_type": "code",
   "execution_count": 29,
   "id": "2c6454e1",
   "metadata": {},
   "outputs": [
    {
     "name": "stdout",
     "output_type": "stream",
     "text": [
      "<class 'pandas.core.frame.DataFrame'>\n",
      "MultiIndex: 251 entries, ('MO', 'Fisherborough', '244 Tracy View') to ('NE', 'South Kennethmouth', '346 Wallace Pass')\n",
      "Data columns (total 4 columns):\n",
      " #   Column                  Non-Null Count  Dtype \n",
      "---  ------                  --------------  ----- \n",
      " 0   (Culture, Restaurants)  251 non-null    object\n",
      " 1   (Culture, Museums)      251 non-null    object\n",
      " 2   (Services, Police)      251 non-null    object\n",
      " 3   (Services, Schools)     251 non-null    object\n",
      "dtypes: object(4)\n",
      "memory usage: 27.1+ KB\n"
     ]
    }
   ],
   "source": [
    "df_neighborhoods.info()"
   ]
  },
  {
   "cell_type": "markdown",
   "id": "68eca271",
   "metadata": {},
   "source": [
    "#### get_level_values method"
   ]
  },
  {
   "cell_type": "markdown",
   "id": "d6d77d6f",
   "metadata": {},
   "source": [
    "**df_neighborhoods.index.get_level_values(1) returns a second value of our MultiIndex => City**"
   ]
  },
  {
   "cell_type": "code",
   "execution_count": 37,
   "id": "61aa5176",
   "metadata": {},
   "outputs": [
    {
     "data": {
      "text/plain": [
       "Index(['Fisherborough', 'Port Curtisville', 'Jimenezview', 'Stevenshire',\n",
       "       'New Joshuaport', 'Wellsville', 'Jodiburgh', 'Lake Christopher',\n",
       "       'Port Mike', 'Hardyburgh',\n",
       "       ...\n",
       "       'Scottstad', 'Port Willieport', 'Port Linda', 'Kaylamouth',\n",
       "       'Port Shawnfort', 'North Matthew', 'Chadton', 'Diazmouth', 'Laurentown',\n",
       "       'South Kennethmouth'],\n",
       "      dtype='object', name='City', length=251)"
      ]
     },
     "execution_count": 37,
     "metadata": {},
     "output_type": "execute_result"
    }
   ],
   "source": [
    "df_neighborhoods.index.get_level_values(1)  # returns a second value of our MultiIndex => City"
   ]
  },
  {
   "cell_type": "markdown",
   "id": "93fd77f1",
   "metadata": {},
   "source": [
    "**columns levels are empty, let's create names for them**"
   ]
  },
  {
   "cell_type": "code",
   "execution_count": 38,
   "id": "939f7edf",
   "metadata": {},
   "outputs": [
    {
     "data": {
      "text/plain": [
       "FrozenList([None, None])"
      ]
     },
     "execution_count": 38,
     "metadata": {},
     "output_type": "execute_result"
    }
   ],
   "source": [
    "df_neighborhoods.columns.names"
   ]
  },
  {
   "cell_type": "code",
   "execution_count": 39,
   "id": "42ebff49",
   "metadata": {},
   "outputs": [
    {
     "data": {
      "text/plain": [
       "FrozenList(['Category', 'Subcategory'])"
      ]
     },
     "execution_count": 39,
     "metadata": {},
     "output_type": "execute_result"
    }
   ],
   "source": [
    "df_neighborhoods.columns.names = [\"Category\", \"Subcategory\"]\n",
    "df_neighborhoods.columns.names"
   ]
  },
  {
   "cell_type": "markdown",
   "id": "5163f26a",
   "metadata": {},
   "source": [
    "**Now we have different level for our columns - Category: Culture,Services and Subcategory:Restaurants,Museums,Police,Schools**"
   ]
  },
  {
   "cell_type": "code",
   "execution_count": 42,
   "id": "c29fe4d3",
   "metadata": {},
   "outputs": [
    {
     "name": "stdout",
     "output_type": "stream",
     "text": [
      "Category                                     Culture         Services        \n",
      "Subcategory                              Restaurants Museums   Police Schools\n",
      "State City             Street                                                \n",
      "MO    Fisherborough    244 Tracy View             C+       F       D-      A+\n",
      "SD    Port Curtisville 446 Cynthia Inlet          C-       B        B      D+\n",
      "WV    Jimenezview      432 John Common             A      A+        F       B\n",
      "AK    Stevenshire      238 Andrew Rue             D-       A       A-      A-\n",
      "ND    New Joshuaport   877 Walter Neck            D+      C-        B       B\n"
     ]
    }
   ],
   "source": [
    "print(df_neighborhoods.head())"
   ]
  },
  {
   "cell_type": "code",
   "execution_count": 46,
   "id": "5a8275d2",
   "metadata": {},
   "outputs": [
    {
     "data": {
      "text/plain": [
       "Index(['Culture', 'Culture', 'Services', 'Services'], dtype='object', name='Category')"
      ]
     },
     "execution_count": 46,
     "metadata": {},
     "output_type": "execute_result"
    }
   ],
   "source": [
    "df_neighborhoods.columns.get_level_values('Category')"
   ]
  },
  {
   "cell_type": "code",
   "execution_count": 47,
   "id": "9aa064f5",
   "metadata": {},
   "outputs": [
    {
     "data": {
      "application/vnd.microsoft.datawrangler.viewer.v0+json": {
       "columns": [
        {
         "name": "('Category', 'Subcategory')",
         "rawType": "object",
         "type": "unknown"
        },
        {
         "name": "0",
         "rawType": "int64",
         "type": "integer"
        }
       ],
       "ref": "5d3210de-5fec-4da7-9b6b-b53f3d834c2b",
       "rows": [
        [
         "('Culture', 'Restaurants')",
         "13"
        ],
        [
         "('Culture', 'Museums')",
         "13"
        ],
        [
         "('Services', 'Police')",
         "13"
        ],
        [
         "('Services', 'Schools')",
         "13"
        ]
       ],
       "shape": {
        "columns": 1,
        "rows": 4
       }
      },
      "text/plain": [
       "Category  Subcategory\n",
       "Culture   Restaurants    13\n",
       "          Museums        13\n",
       "Services  Police         13\n",
       "          Schools        13\n",
       "dtype: int64"
      ]
     },
     "execution_count": 47,
     "metadata": {},
     "output_type": "execute_result"
    }
   ],
   "source": [
    "df_neighborhoods.nunique()"
   ]
  },
  {
   "cell_type": "markdown",
   "id": "f8593b12",
   "metadata": {},
   "source": [
    "### Sorting a MultiIndex"
   ]
  },
  {
   "cell_type": "code",
   "execution_count": 48,
   "id": "91e1d9ea",
   "metadata": {},
   "outputs": [
    {
     "data": {
      "application/vnd.microsoft.datawrangler.viewer.v0+json": {
       "columns": [
        {
         "name": "('State', 'City', 'Street')",
         "rawType": "object",
         "type": "unknown"
        },
        {
         "name": "('Culture', 'Restaurants')",
         "rawType": "object",
         "type": "string"
        },
        {
         "name": "('Culture', 'Museums')",
         "rawType": "object",
         "type": "string"
        },
        {
         "name": "('Services', 'Police')",
         "rawType": "object",
         "type": "string"
        },
        {
         "name": "('Services', 'Schools')",
         "rawType": "object",
         "type": "string"
        }
       ],
       "ref": "fc6d391c-ff29-4229-9717-0682fe288821",
       "rows": [
        [
         "('MO', 'Fisherborough', '244 Tracy View')",
         "C+",
         "F",
         "D-",
         "A+"
        ],
        [
         "('SD', 'Port Curtisville', '446 Cynthia Inlet')",
         "C-",
         "B",
         "B",
         "D+"
        ],
        [
         "('WV', 'Jimenezview', '432 John Common')",
         "A",
         "A+",
         "F",
         "B"
        ],
        [
         "('AK', 'Stevenshire', '238 Andrew Rue')",
         "D-",
         "A",
         "A-",
         "A-"
        ],
        [
         "('ND', 'New Joshuaport', '877 Walter Neck')",
         "D+",
         "C-",
         "B",
         "B"
        ]
       ],
       "shape": {
        "columns": 4,
        "rows": 5
       }
      },
      "text/html": [
       "<div>\n",
       "<style scoped>\n",
       "    .dataframe tbody tr th:only-of-type {\n",
       "        vertical-align: middle;\n",
       "    }\n",
       "\n",
       "    .dataframe tbody tr th {\n",
       "        vertical-align: top;\n",
       "    }\n",
       "\n",
       "    .dataframe thead tr th {\n",
       "        text-align: left;\n",
       "    }\n",
       "\n",
       "    .dataframe thead tr:last-of-type th {\n",
       "        text-align: right;\n",
       "    }\n",
       "</style>\n",
       "<table border=\"1\" class=\"dataframe\">\n",
       "  <thead>\n",
       "    <tr>\n",
       "      <th></th>\n",
       "      <th></th>\n",
       "      <th>Category</th>\n",
       "      <th colspan=\"2\" halign=\"left\">Culture</th>\n",
       "      <th colspan=\"2\" halign=\"left\">Services</th>\n",
       "    </tr>\n",
       "    <tr>\n",
       "      <th></th>\n",
       "      <th></th>\n",
       "      <th>Subcategory</th>\n",
       "      <th>Restaurants</th>\n",
       "      <th>Museums</th>\n",
       "      <th>Police</th>\n",
       "      <th>Schools</th>\n",
       "    </tr>\n",
       "    <tr>\n",
       "      <th>State</th>\n",
       "      <th>City</th>\n",
       "      <th>Street</th>\n",
       "      <th></th>\n",
       "      <th></th>\n",
       "      <th></th>\n",
       "      <th></th>\n",
       "    </tr>\n",
       "  </thead>\n",
       "  <tbody>\n",
       "    <tr>\n",
       "      <th>MO</th>\n",
       "      <th>Fisherborough</th>\n",
       "      <th>244 Tracy View</th>\n",
       "      <td>C+</td>\n",
       "      <td>F</td>\n",
       "      <td>D-</td>\n",
       "      <td>A+</td>\n",
       "    </tr>\n",
       "    <tr>\n",
       "      <th>SD</th>\n",
       "      <th>Port Curtisville</th>\n",
       "      <th>446 Cynthia Inlet</th>\n",
       "      <td>C-</td>\n",
       "      <td>B</td>\n",
       "      <td>B</td>\n",
       "      <td>D+</td>\n",
       "    </tr>\n",
       "    <tr>\n",
       "      <th>WV</th>\n",
       "      <th>Jimenezview</th>\n",
       "      <th>432 John Common</th>\n",
       "      <td>A</td>\n",
       "      <td>A+</td>\n",
       "      <td>F</td>\n",
       "      <td>B</td>\n",
       "    </tr>\n",
       "    <tr>\n",
       "      <th>AK</th>\n",
       "      <th>Stevenshire</th>\n",
       "      <th>238 Andrew Rue</th>\n",
       "      <td>D-</td>\n",
       "      <td>A</td>\n",
       "      <td>A-</td>\n",
       "      <td>A-</td>\n",
       "    </tr>\n",
       "    <tr>\n",
       "      <th>ND</th>\n",
       "      <th>New Joshuaport</th>\n",
       "      <th>877 Walter Neck</th>\n",
       "      <td>D+</td>\n",
       "      <td>C-</td>\n",
       "      <td>B</td>\n",
       "      <td>B</td>\n",
       "    </tr>\n",
       "  </tbody>\n",
       "</table>\n",
       "</div>"
      ],
      "text/plain": [
       "Category                                     Culture         Services        \n",
       "Subcategory                              Restaurants Museums   Police Schools\n",
       "State City             Street                                                \n",
       "MO    Fisherborough    244 Tracy View             C+       F       D-      A+\n",
       "SD    Port Curtisville 446 Cynthia Inlet          C-       B        B      D+\n",
       "WV    Jimenezview      432 John Common             A      A+        F       B\n",
       "AK    Stevenshire      238 Andrew Rue             D-       A       A-      A-\n",
       "ND    New Joshuaport   877 Walter Neck            D+      C-        B       B"
      ]
     },
     "execution_count": 48,
     "metadata": {},
     "output_type": "execute_result"
    }
   ],
   "source": [
    "df_neighborhoods.head()"
   ]
  },
  {
   "cell_type": "markdown",
   "id": "6d76fb40",
   "metadata": {},
   "source": [
    "**The Sorting will be performed step by step - 1 State, 2 City and 3 Address**"
   ]
  },
  {
   "cell_type": "code",
   "execution_count": 49,
   "id": "61b0ad23",
   "metadata": {},
   "outputs": [
    {
     "data": {
      "application/vnd.microsoft.datawrangler.viewer.v0+json": {
       "columns": [
        {
         "name": "('State', 'City', 'Street')",
         "rawType": "object",
         "type": "unknown"
        },
        {
         "name": "('Culture', 'Restaurants')",
         "rawType": "object",
         "type": "string"
        },
        {
         "name": "('Culture', 'Museums')",
         "rawType": "object",
         "type": "string"
        },
        {
         "name": "('Services', 'Police')",
         "rawType": "object",
         "type": "string"
        },
        {
         "name": "('Services', 'Schools')",
         "rawType": "object",
         "type": "string"
        }
       ],
       "ref": "8bde0d27-000d-413c-b03d-b6c297edcb8e",
       "rows": [
        [
         "('AK', 'Rowlandchester', '386 Rebecca Cove')",
         "C-",
         "A-",
         "A+",
         "C"
        ],
        [
         "('AK', 'Scottstad', '082 Leblanc Freeway')",
         "D",
         "C-",
         "D",
         "B+"
        ],
        [
         "('AK', 'Scottstad', '114 Jones Garden')",
         "D-",
         "D-",
         "D",
         "D"
        ],
        [
         "('AK', 'Stevenshire', '238 Andrew Rue')",
         "D-",
         "A",
         "A-",
         "A-"
        ],
        [
         "('AL', 'Clarkland', '430 Douglas Mission')",
         "A",
         "F",
         "C+",
         "B+"
        ],
        [
         "('AL', 'East Bobbyside', '294 Mitchell Village')",
         "C-",
         "A-",
         "B-",
         "F"
        ],
        [
         "('AL', 'East Connie', '943 John Gardens')",
         "B+",
         "C-",
         "C+",
         "D"
        ],
        [
         "('AL', 'Kathrynstad', '356 Dodson Plains')",
         "B",
         "D-",
         "F",
         "A+"
        ],
        [
         "('AL', 'Lonniestad', '643 Allen Estates')",
         "C",
         "B-",
         "D-",
         "C+"
        ],
        [
         "('AL', 'Port Jenniferfurt', '539 Horton Fork')",
         "B",
         "A-",
         "F",
         "B"
        ],
        [
         "('AL', 'Samuelville', '989 Dean Plains')",
         "A-",
         "F",
         "D",
         "A"
        ],
        [
         "('AL', 'Vegaside', '191 Mindy Meadows')",
         "B+",
         "A-",
         "A+",
         "D+"
        ],
        [
         "('AR', 'Allisonland', '124 Diaz Brooks')",
         "C-",
         "A+",
         "F",
         "C+"
        ],
        [
         "('AR', 'New Larryshire', '372 Vazquez Isle')",
         "B",
         "B",
         "C-",
         "D+"
        ],
        [
         "('AR', 'Russoshire', '499 Hinton Forks')",
         "B-",
         "F",
         "C+",
         "C"
        ],
        [
         "('AR', 'Simmonsfurt', '154 Alexander Track')",
         "C-",
         "B+",
         "B",
         "A-"
        ],
        [
         "('AZ', 'Lake Davidshire', '943 Melissa Haven')",
         "D+",
         "B+",
         "C-",
         "D-"
        ],
        [
         "('AZ', 'Tiffanyberg', '344 Ronald Groves')",
         "D+",
         "A+",
         "C",
         "B+"
        ],
        [
         "('AZ', 'West Richard', '847 Nelson Cape')",
         "C",
         "A+",
         "C+",
         "A+"
        ],
        [
         "('CA', 'Dustinmouth', '793 Cynthia Square')",
         "A-",
         "A+",
         "C-",
         "A"
        ],
        [
         "('CA', 'North Jennifer', '303 Alisha Road')",
         "D-",
         "C+",
         "C+",
         "A+"
        ],
        [
         "('CA', 'Ryanfort', '934 David Run')",
         "F",
         "B+",
         "F",
         "D-"
        ],
        [
         "('CO', 'Lake Robert', '049 Jordan Lane')",
         "C",
         "F",
         "C+",
         "C-"
        ],
        [
         "('CO', 'Port Jeanette', '219 Henderson Glen')",
         "D",
         "B+",
         "C",
         "B"
        ],
        [
         "('CO', 'South Eugene', '654 Fisher Summit')",
         "C-",
         "B",
         "D-",
         "F"
        ],
        [
         "('CT', 'East Jessicaland', '208 Todd Knolls')",
         "A+",
         "A",
         "A+",
         "C+"
        ],
        [
         "('CT', 'New Adrianhaven', '048 Brian Cove')",
         "A-",
         "C+",
         "A+",
         "D-"
        ],
        [
         "('CT', 'Port Mike', '410 Keith Lodge')",
         "D-",
         "A",
         "B+",
         "D"
        ],
        [
         "('CT', 'Sethstad', '139 Bailey Grove')",
         "C",
         "C-",
         "C+",
         "A+"
        ],
        [
         "('DC', 'East Jessica', '149 Norman Crossing')",
         "A-",
         "C-",
         "C+",
         "A-"
        ],
        [
         "('DC', 'East Lisaview', '910 Sandy Ramp')",
         "A-",
         "A+",
         "B",
         "B"
        ],
        [
         "('DC', 'Lake Christopher', '607 Montoya Harbors')",
         "D",
         "B+",
         "B-",
         "A+"
        ],
        [
         "('DC', 'New Janice', '477 Flores Cliff')",
         "A",
         "B+",
         "B-",
         "C-"
        ],
        [
         "('DC', 'Richardland', '419 Michael Squares')",
         "D+",
         "D+",
         "D+",
         "C-"
        ],
        [
         "('DC', 'South Nathan', '631 Lynch Hill')",
         "D-",
         "C+",
         "C-",
         "A+"
        ],
        [
         "('DE', 'Dustinmouth', '719 Dixon Ways')",
         "D-",
         "B-",
         "B+",
         "C+"
        ],
        [
         "('DE', 'Lake Davidmouth', '051 Destiny Mission')",
         "B+",
         "B+",
         "A",
         "B+"
        ],
        [
         "('DE', 'Moonborough', '518 Christopher Springs')",
         "F",
         "C",
         "C-",
         "A-"
        ],
        [
         "('DE', 'New Christopher', '822 Connie Dale')",
         "C-",
         "C-",
         "A-",
         "A-"
        ],
        [
         "('DE', 'New Janice', '417 Simmons Spur')",
         "A",
         "A",
         "F",
         "C-"
        ],
        [
         "('DE', 'Port Michael', '328 Brian Cliff')",
         "C",
         "D+",
         "D",
         "A"
        ],
        [
         "('DE', 'Port Michael', '800 Christopher Haven')",
         "D",
         "A+",
         "A",
         "C-"
        ],
        [
         "('DE', 'South Kayla', '731 Atkinson Knolls')",
         "A+",
         "C-",
         "A-",
         "D+"
        ],
        [
         "('DE', 'South Tara', '047 Martinez Keys')",
         "C+",
         "B-",
         "D+",
         "B-"
        ],
        [
         "('FL', 'Bryanchester', '481 Julie Meadows')",
         "C-",
         "D",
         "B-",
         "B+"
        ],
        [
         "('FL', 'Jacksonfort', '369 Victoria Road')",
         "D-",
         "D+",
         "A",
         "D"
        ],
        [
         "('FL', 'Kingchester', '467 Lisa Mission')",
         "A",
         "C",
         "F",
         "C+"
        ],
        [
         "('FL', 'Port Melissaburgh', '393 Jennifer Parkway')",
         "A+",
         "A-",
         "D",
         "B-"
        ],
        [
         "('FL', 'West Miguelstad', '570 James Unions')",
         "D-",
         "A-",
         "B",
         "C+"
        ],
        [
         "('GA', 'Amyburgh', '941 Brian Expressway')",
         "B",
         "B",
         "D-",
         "C+"
        ]
       ],
       "shape": {
        "columns": 4,
        "rows": 251
       }
      },
      "text/html": [
       "<div>\n",
       "<style scoped>\n",
       "    .dataframe tbody tr th:only-of-type {\n",
       "        vertical-align: middle;\n",
       "    }\n",
       "\n",
       "    .dataframe tbody tr th {\n",
       "        vertical-align: top;\n",
       "    }\n",
       "\n",
       "    .dataframe thead tr th {\n",
       "        text-align: left;\n",
       "    }\n",
       "\n",
       "    .dataframe thead tr:last-of-type th {\n",
       "        text-align: right;\n",
       "    }\n",
       "</style>\n",
       "<table border=\"1\" class=\"dataframe\">\n",
       "  <thead>\n",
       "    <tr>\n",
       "      <th></th>\n",
       "      <th></th>\n",
       "      <th>Category</th>\n",
       "      <th colspan=\"2\" halign=\"left\">Culture</th>\n",
       "      <th colspan=\"2\" halign=\"left\">Services</th>\n",
       "    </tr>\n",
       "    <tr>\n",
       "      <th></th>\n",
       "      <th></th>\n",
       "      <th>Subcategory</th>\n",
       "      <th>Restaurants</th>\n",
       "      <th>Museums</th>\n",
       "      <th>Police</th>\n",
       "      <th>Schools</th>\n",
       "    </tr>\n",
       "    <tr>\n",
       "      <th>State</th>\n",
       "      <th>City</th>\n",
       "      <th>Street</th>\n",
       "      <th></th>\n",
       "      <th></th>\n",
       "      <th></th>\n",
       "      <th></th>\n",
       "    </tr>\n",
       "  </thead>\n",
       "  <tbody>\n",
       "    <tr>\n",
       "      <th rowspan=\"4\" valign=\"top\">AK</th>\n",
       "      <th>Rowlandchester</th>\n",
       "      <th>386 Rebecca Cove</th>\n",
       "      <td>C-</td>\n",
       "      <td>A-</td>\n",
       "      <td>A+</td>\n",
       "      <td>C</td>\n",
       "    </tr>\n",
       "    <tr>\n",
       "      <th rowspan=\"2\" valign=\"top\">Scottstad</th>\n",
       "      <th>082 Leblanc Freeway</th>\n",
       "      <td>D</td>\n",
       "      <td>C-</td>\n",
       "      <td>D</td>\n",
       "      <td>B+</td>\n",
       "    </tr>\n",
       "    <tr>\n",
       "      <th>114 Jones Garden</th>\n",
       "      <td>D-</td>\n",
       "      <td>D-</td>\n",
       "      <td>D</td>\n",
       "      <td>D</td>\n",
       "    </tr>\n",
       "    <tr>\n",
       "      <th>Stevenshire</th>\n",
       "      <th>238 Andrew Rue</th>\n",
       "      <td>D-</td>\n",
       "      <td>A</td>\n",
       "      <td>A-</td>\n",
       "      <td>A-</td>\n",
       "    </tr>\n",
       "    <tr>\n",
       "      <th>AL</th>\n",
       "      <th>Clarkland</th>\n",
       "      <th>430 Douglas Mission</th>\n",
       "      <td>A</td>\n",
       "      <td>F</td>\n",
       "      <td>C+</td>\n",
       "      <td>B+</td>\n",
       "    </tr>\n",
       "    <tr>\n",
       "      <th>...</th>\n",
       "      <th>...</th>\n",
       "      <th>...</th>\n",
       "      <td>...</td>\n",
       "      <td>...</td>\n",
       "      <td>...</td>\n",
       "      <td>...</td>\n",
       "    </tr>\n",
       "    <tr>\n",
       "      <th rowspan=\"5\" valign=\"top\">WY</th>\n",
       "      <th rowspan=\"2\" valign=\"top\">Lake Nicole</th>\n",
       "      <th>754 Weaver Turnpike</th>\n",
       "      <td>B</td>\n",
       "      <td>D-</td>\n",
       "      <td>B</td>\n",
       "      <td>D</td>\n",
       "    </tr>\n",
       "    <tr>\n",
       "      <th>933 Jennifer Burg</th>\n",
       "      <td>C</td>\n",
       "      <td>A+</td>\n",
       "      <td>A-</td>\n",
       "      <td>C</td>\n",
       "    </tr>\n",
       "    <tr>\n",
       "      <th>Martintown</th>\n",
       "      <th>013 Bell Mills</th>\n",
       "      <td>C-</td>\n",
       "      <td>D</td>\n",
       "      <td>A-</td>\n",
       "      <td>B-</td>\n",
       "    </tr>\n",
       "    <tr>\n",
       "      <th>Port Jason</th>\n",
       "      <th>624 Faulkner Orchard</th>\n",
       "      <td>A-</td>\n",
       "      <td>F</td>\n",
       "      <td>C+</td>\n",
       "      <td>C+</td>\n",
       "    </tr>\n",
       "    <tr>\n",
       "      <th>Reneeshire</th>\n",
       "      <th>717 Patel Square</th>\n",
       "      <td>B</td>\n",
       "      <td>B+</td>\n",
       "      <td>D</td>\n",
       "      <td>A</td>\n",
       "    </tr>\n",
       "  </tbody>\n",
       "</table>\n",
       "<p>251 rows × 4 columns</p>\n",
       "</div>"
      ],
      "text/plain": [
       "Category                                      Culture         Services        \n",
       "Subcategory                               Restaurants Museums   Police Schools\n",
       "State City           Street                                                   \n",
       "AK    Rowlandchester 386 Rebecca Cove              C-      A-       A+       C\n",
       "      Scottstad      082 Leblanc Freeway            D      C-        D      B+\n",
       "                     114 Jones Garden              D-      D-        D       D\n",
       "      Stevenshire    238 Andrew Rue                D-       A       A-      A-\n",
       "AL    Clarkland      430 Douglas Mission            A       F       C+      B+\n",
       "...                                               ...     ...      ...     ...\n",
       "WY    Lake Nicole    754 Weaver Turnpike            B      D-        B       D\n",
       "                     933 Jennifer Burg              C      A+       A-       C\n",
       "      Martintown     013 Bell Mills                C-       D       A-      B-\n",
       "      Port Jason     624 Faulkner Orchard          A-       F       C+      C+\n",
       "      Reneeshire     717 Patel Square               B      B+        D       A\n",
       "\n",
       "[251 rows x 4 columns]"
      ]
     },
     "execution_count": 49,
     "metadata": {},
     "output_type": "execute_result"
    }
   ],
   "source": [
    "df_neighborhoods.sort_index()"
   ]
  },
  {
   "cell_type": "code",
   "execution_count": 51,
   "id": "dd2b8beb",
   "metadata": {},
   "outputs": [
    {
     "data": {
      "application/vnd.microsoft.datawrangler.viewer.v0+json": {
       "columns": [
        {
         "name": "('State', 'City', 'Street')",
         "rawType": "object",
         "type": "unknown"
        },
        {
         "name": "('Culture', 'Restaurants')",
         "rawType": "object",
         "type": "string"
        },
        {
         "name": "('Culture', 'Museums')",
         "rawType": "object",
         "type": "string"
        },
        {
         "name": "('Services', 'Police')",
         "rawType": "object",
         "type": "string"
        },
        {
         "name": "('Services', 'Schools')",
         "rawType": "object",
         "type": "string"
        }
       ],
       "ref": "aaec8381-80f9-4754-83f6-765defb1f843",
       "rows": [
        [
         "('WY', 'Reneeshire', '717 Patel Square')",
         "B",
         "B+",
         "D",
         "A"
        ],
        [
         "('WY', 'Port Jason', '624 Faulkner Orchard')",
         "A-",
         "F",
         "C+",
         "C+"
        ],
        [
         "('WY', 'Martintown', '013 Bell Mills')",
         "C-",
         "D",
         "A-",
         "B-"
        ],
        [
         "('WY', 'Lake Nicole', '933 Jennifer Burg')",
         "C",
         "A+",
         "A-",
         "C"
        ],
        [
         "('WY', 'Lake Nicole', '754 Weaver Turnpike')",
         "B",
         "D-",
         "B",
         "D"
        ]
       ],
       "shape": {
        "columns": 4,
        "rows": 5
       }
      },
      "text/html": [
       "<div>\n",
       "<style scoped>\n",
       "    .dataframe tbody tr th:only-of-type {\n",
       "        vertical-align: middle;\n",
       "    }\n",
       "\n",
       "    .dataframe tbody tr th {\n",
       "        vertical-align: top;\n",
       "    }\n",
       "\n",
       "    .dataframe thead tr th {\n",
       "        text-align: left;\n",
       "    }\n",
       "\n",
       "    .dataframe thead tr:last-of-type th {\n",
       "        text-align: right;\n",
       "    }\n",
       "</style>\n",
       "<table border=\"1\" class=\"dataframe\">\n",
       "  <thead>\n",
       "    <tr>\n",
       "      <th></th>\n",
       "      <th></th>\n",
       "      <th>Category</th>\n",
       "      <th colspan=\"2\" halign=\"left\">Culture</th>\n",
       "      <th colspan=\"2\" halign=\"left\">Services</th>\n",
       "    </tr>\n",
       "    <tr>\n",
       "      <th></th>\n",
       "      <th></th>\n",
       "      <th>Subcategory</th>\n",
       "      <th>Restaurants</th>\n",
       "      <th>Museums</th>\n",
       "      <th>Police</th>\n",
       "      <th>Schools</th>\n",
       "    </tr>\n",
       "    <tr>\n",
       "      <th>State</th>\n",
       "      <th>City</th>\n",
       "      <th>Street</th>\n",
       "      <th></th>\n",
       "      <th></th>\n",
       "      <th></th>\n",
       "      <th></th>\n",
       "    </tr>\n",
       "  </thead>\n",
       "  <tbody>\n",
       "    <tr>\n",
       "      <th rowspan=\"5\" valign=\"top\">WY</th>\n",
       "      <th>Reneeshire</th>\n",
       "      <th>717 Patel Square</th>\n",
       "      <td>B</td>\n",
       "      <td>B+</td>\n",
       "      <td>D</td>\n",
       "      <td>A</td>\n",
       "    </tr>\n",
       "    <tr>\n",
       "      <th>Port Jason</th>\n",
       "      <th>624 Faulkner Orchard</th>\n",
       "      <td>A-</td>\n",
       "      <td>F</td>\n",
       "      <td>C+</td>\n",
       "      <td>C+</td>\n",
       "    </tr>\n",
       "    <tr>\n",
       "      <th>Martintown</th>\n",
       "      <th>013 Bell Mills</th>\n",
       "      <td>C-</td>\n",
       "      <td>D</td>\n",
       "      <td>A-</td>\n",
       "      <td>B-</td>\n",
       "    </tr>\n",
       "    <tr>\n",
       "      <th rowspan=\"2\" valign=\"top\">Lake Nicole</th>\n",
       "      <th>933 Jennifer Burg</th>\n",
       "      <td>C</td>\n",
       "      <td>A+</td>\n",
       "      <td>A-</td>\n",
       "      <td>C</td>\n",
       "    </tr>\n",
       "    <tr>\n",
       "      <th>754 Weaver Turnpike</th>\n",
       "      <td>B</td>\n",
       "      <td>D-</td>\n",
       "      <td>B</td>\n",
       "      <td>D</td>\n",
       "    </tr>\n",
       "  </tbody>\n",
       "</table>\n",
       "</div>"
      ],
      "text/plain": [
       "Category                                   Culture         Services        \n",
       "Subcategory                            Restaurants Museums   Police Schools\n",
       "State City        Street                                                   \n",
       "WY    Reneeshire  717 Patel Square               B      B+        D       A\n",
       "      Port Jason  624 Faulkner Orchard          A-       F       C+      C+\n",
       "      Martintown  013 Bell Mills                C-       D       A-      B-\n",
       "      Lake Nicole 933 Jennifer Burg              C      A+       A-       C\n",
       "                  754 Weaver Turnpike            B      D-        B       D"
      ]
     },
     "execution_count": 51,
     "metadata": {},
     "output_type": "execute_result"
    }
   ],
   "source": [
    "df_neighborhoods.sort_index(ascending=False).head()"
   ]
  },
  {
   "cell_type": "markdown",
   "id": "347d3aa6",
   "metadata": {},
   "source": [
    "#### Multiple sorting"
   ]
  },
  {
   "cell_type": "code",
   "execution_count": 54,
   "id": "e15086ea",
   "metadata": {},
   "outputs": [
    {
     "data": {
      "application/vnd.microsoft.datawrangler.viewer.v0+json": {
       "columns": [
        {
         "name": "('State', 'City', 'Street')",
         "rawType": "object",
         "type": "unknown"
        },
        {
         "name": "('Culture', 'Restaurants')",
         "rawType": "object",
         "type": "string"
        },
        {
         "name": "('Culture', 'Museums')",
         "rawType": "object",
         "type": "string"
        },
        {
         "name": "('Services', 'Police')",
         "rawType": "object",
         "type": "string"
        },
        {
         "name": "('Services', 'Schools')",
         "rawType": "object",
         "type": "string"
        }
       ],
       "ref": "f8c58030-d748-4e73-aa04-351fd15c7934",
       "rows": [
        [
         "('WY', 'Hardyburgh', '227 Andrew Parkway')",
         "D",
         "C-",
         "D-",
         "C"
        ],
        [
         "('WY', 'Lake Nicole', '933 Jennifer Burg')",
         "C",
         "A+",
         "A-",
         "C"
        ],
        [
         "('WY', 'Lake Nicole', '754 Weaver Turnpike')",
         "B",
         "D-",
         "B",
         "D"
        ],
        [
         "('WY', 'Martintown', '013 Bell Mills')",
         "C-",
         "D",
         "A-",
         "B-"
        ],
        [
         "('WY', 'Port Jason', '624 Faulkner Orchard')",
         "A-",
         "F",
         "C+",
         "C+"
        ]
       ],
       "shape": {
        "columns": 4,
        "rows": 5
       }
      },
      "text/html": [
       "<div>\n",
       "<style scoped>\n",
       "    .dataframe tbody tr th:only-of-type {\n",
       "        vertical-align: middle;\n",
       "    }\n",
       "\n",
       "    .dataframe tbody tr th {\n",
       "        vertical-align: top;\n",
       "    }\n",
       "\n",
       "    .dataframe thead tr th {\n",
       "        text-align: left;\n",
       "    }\n",
       "\n",
       "    .dataframe thead tr:last-of-type th {\n",
       "        text-align: right;\n",
       "    }\n",
       "</style>\n",
       "<table border=\"1\" class=\"dataframe\">\n",
       "  <thead>\n",
       "    <tr>\n",
       "      <th></th>\n",
       "      <th></th>\n",
       "      <th>Category</th>\n",
       "      <th colspan=\"2\" halign=\"left\">Culture</th>\n",
       "      <th colspan=\"2\" halign=\"left\">Services</th>\n",
       "    </tr>\n",
       "    <tr>\n",
       "      <th></th>\n",
       "      <th></th>\n",
       "      <th>Subcategory</th>\n",
       "      <th>Restaurants</th>\n",
       "      <th>Museums</th>\n",
       "      <th>Police</th>\n",
       "      <th>Schools</th>\n",
       "    </tr>\n",
       "    <tr>\n",
       "      <th>State</th>\n",
       "      <th>City</th>\n",
       "      <th>Street</th>\n",
       "      <th></th>\n",
       "      <th></th>\n",
       "      <th></th>\n",
       "      <th></th>\n",
       "    </tr>\n",
       "  </thead>\n",
       "  <tbody>\n",
       "    <tr>\n",
       "      <th rowspan=\"5\" valign=\"top\">WY</th>\n",
       "      <th>Hardyburgh</th>\n",
       "      <th>227 Andrew Parkway</th>\n",
       "      <td>D</td>\n",
       "      <td>C-</td>\n",
       "      <td>D-</td>\n",
       "      <td>C</td>\n",
       "    </tr>\n",
       "    <tr>\n",
       "      <th rowspan=\"2\" valign=\"top\">Lake Nicole</th>\n",
       "      <th>933 Jennifer Burg</th>\n",
       "      <td>C</td>\n",
       "      <td>A+</td>\n",
       "      <td>A-</td>\n",
       "      <td>C</td>\n",
       "    </tr>\n",
       "    <tr>\n",
       "      <th>754 Weaver Turnpike</th>\n",
       "      <td>B</td>\n",
       "      <td>D-</td>\n",
       "      <td>B</td>\n",
       "      <td>D</td>\n",
       "    </tr>\n",
       "    <tr>\n",
       "      <th>Martintown</th>\n",
       "      <th>013 Bell Mills</th>\n",
       "      <td>C-</td>\n",
       "      <td>D</td>\n",
       "      <td>A-</td>\n",
       "      <td>B-</td>\n",
       "    </tr>\n",
       "    <tr>\n",
       "      <th>Port Jason</th>\n",
       "      <th>624 Faulkner Orchard</th>\n",
       "      <td>A-</td>\n",
       "      <td>F</td>\n",
       "      <td>C+</td>\n",
       "      <td>C+</td>\n",
       "    </tr>\n",
       "  </tbody>\n",
       "</table>\n",
       "</div>"
      ],
      "text/plain": [
       "Category                                   Culture         Services        \n",
       "Subcategory                            Restaurants Museums   Police Schools\n",
       "State City        Street                                                   \n",
       "WY    Hardyburgh  227 Andrew Parkway             D      C-       D-       C\n",
       "      Lake Nicole 933 Jennifer Burg              C      A+       A-       C\n",
       "                  754 Weaver Turnpike            B      D-        B       D\n",
       "      Martintown  013 Bell Mills                C-       D       A-      B-\n",
       "      Port Jason  624 Faulkner Orchard          A-       F       C+      C+"
      ]
     },
     "execution_count": 54,
     "metadata": {},
     "output_type": "execute_result"
    }
   ],
   "source": [
    "df_neighborhoods.sort_index(ascending=[False,True,False]).head()"
   ]
  },
  {
   "cell_type": "markdown",
   "id": "93b7d3ab",
   "metadata": {},
   "source": [
    "#### Sorting with only one or two values  in the MultiIndex"
   ]
  },
  {
   "cell_type": "code",
   "execution_count": 55,
   "id": "ca5c618f",
   "metadata": {},
   "outputs": [
    {
     "data": {
      "application/vnd.microsoft.datawrangler.viewer.v0+json": {
       "columns": [
        {
         "name": "('State', 'City', 'Street')",
         "rawType": "object",
         "type": "unknown"
        },
        {
         "name": "('Culture', 'Restaurants')",
         "rawType": "object",
         "type": "string"
        },
        {
         "name": "('Culture', 'Museums')",
         "rawType": "object",
         "type": "string"
        },
        {
         "name": "('Services', 'Police')",
         "rawType": "object",
         "type": "string"
        },
        {
         "name": "('Services', 'Schools')",
         "rawType": "object",
         "type": "string"
        }
       ],
       "ref": "5c95e4d6-fb14-4aca-a436-373a9f7d420f",
       "rows": [
        [
         "('AR', 'Allisonland', '124 Diaz Brooks')",
         "C-",
         "A+",
         "F",
         "C+"
        ],
        [
         "('GA', 'Amyburgh', '941 Brian Expressway')",
         "B",
         "B",
         "D-",
         "C+"
        ],
        [
         "('IA', 'Amyburgh', '163 Heather Neck')",
         "F",
         "D",
         "A+",
         "A-"
        ],
        [
         "('ID', 'Andrewshire', '952 Ellis Drive')",
         "C+",
         "A-",
         "C+",
         "A"
        ],
        [
         "('UT', 'Baileyfort', '919 Stewart Hills')",
         "D+",
         "C+",
         "A",
         "C"
        ]
       ],
       "shape": {
        "columns": 4,
        "rows": 5
       }
      },
      "text/html": [
       "<div>\n",
       "<style scoped>\n",
       "    .dataframe tbody tr th:only-of-type {\n",
       "        vertical-align: middle;\n",
       "    }\n",
       "\n",
       "    .dataframe tbody tr th {\n",
       "        vertical-align: top;\n",
       "    }\n",
       "\n",
       "    .dataframe thead tr th {\n",
       "        text-align: left;\n",
       "    }\n",
       "\n",
       "    .dataframe thead tr:last-of-type th {\n",
       "        text-align: right;\n",
       "    }\n",
       "</style>\n",
       "<table border=\"1\" class=\"dataframe\">\n",
       "  <thead>\n",
       "    <tr>\n",
       "      <th></th>\n",
       "      <th></th>\n",
       "      <th>Category</th>\n",
       "      <th colspan=\"2\" halign=\"left\">Culture</th>\n",
       "      <th colspan=\"2\" halign=\"left\">Services</th>\n",
       "    </tr>\n",
       "    <tr>\n",
       "      <th></th>\n",
       "      <th></th>\n",
       "      <th>Subcategory</th>\n",
       "      <th>Restaurants</th>\n",
       "      <th>Museums</th>\n",
       "      <th>Police</th>\n",
       "      <th>Schools</th>\n",
       "    </tr>\n",
       "    <tr>\n",
       "      <th>State</th>\n",
       "      <th>City</th>\n",
       "      <th>Street</th>\n",
       "      <th></th>\n",
       "      <th></th>\n",
       "      <th></th>\n",
       "      <th></th>\n",
       "    </tr>\n",
       "  </thead>\n",
       "  <tbody>\n",
       "    <tr>\n",
       "      <th>AR</th>\n",
       "      <th>Allisonland</th>\n",
       "      <th>124 Diaz Brooks</th>\n",
       "      <td>C-</td>\n",
       "      <td>A+</td>\n",
       "      <td>F</td>\n",
       "      <td>C+</td>\n",
       "    </tr>\n",
       "    <tr>\n",
       "      <th>GA</th>\n",
       "      <th>Amyburgh</th>\n",
       "      <th>941 Brian Expressway</th>\n",
       "      <td>B</td>\n",
       "      <td>B</td>\n",
       "      <td>D-</td>\n",
       "      <td>C+</td>\n",
       "    </tr>\n",
       "    <tr>\n",
       "      <th>IA</th>\n",
       "      <th>Amyburgh</th>\n",
       "      <th>163 Heather Neck</th>\n",
       "      <td>F</td>\n",
       "      <td>D</td>\n",
       "      <td>A+</td>\n",
       "      <td>A-</td>\n",
       "    </tr>\n",
       "    <tr>\n",
       "      <th>ID</th>\n",
       "      <th>Andrewshire</th>\n",
       "      <th>952 Ellis Drive</th>\n",
       "      <td>C+</td>\n",
       "      <td>A-</td>\n",
       "      <td>C+</td>\n",
       "      <td>A</td>\n",
       "    </tr>\n",
       "    <tr>\n",
       "      <th>UT</th>\n",
       "      <th>Baileyfort</th>\n",
       "      <th>919 Stewart Hills</th>\n",
       "      <td>D+</td>\n",
       "      <td>C+</td>\n",
       "      <td>A</td>\n",
       "      <td>C</td>\n",
       "    </tr>\n",
       "  </tbody>\n",
       "</table>\n",
       "</div>"
      ],
      "text/plain": [
       "Category                                   Culture         Services        \n",
       "Subcategory                            Restaurants Museums   Police Schools\n",
       "State City        Street                                                   \n",
       "AR    Allisonland 124 Diaz Brooks               C-      A+        F      C+\n",
       "GA    Amyburgh    941 Brian Expressway           B       B       D-      C+\n",
       "IA    Amyburgh    163 Heather Neck               F       D       A+      A-\n",
       "ID    Andrewshire 952 Ellis Drive               C+      A-       C+       A\n",
       "UT    Baileyfort  919 Stewart Hills             D+      C+        A       C"
      ]
     },
     "execution_count": 55,
     "metadata": {},
     "output_type": "execute_result"
    }
   ],
   "source": [
    "df_neighborhoods.sort_index(level='City').head()"
   ]
  },
  {
   "cell_type": "code",
   "execution_count": 56,
   "id": "1d03578e",
   "metadata": {},
   "outputs": [
    {
     "data": {
      "application/vnd.microsoft.datawrangler.viewer.v0+json": {
       "columns": [
        {
         "name": "('State', 'City', 'Street')",
         "rawType": "object",
         "type": "unknown"
        },
        {
         "name": "('Culture', 'Restaurants')",
         "rawType": "object",
         "type": "string"
        },
        {
         "name": "('Culture', 'Museums')",
         "rawType": "object",
         "type": "string"
        },
        {
         "name": "('Services', 'Police')",
         "rawType": "object",
         "type": "string"
        },
        {
         "name": "('Services', 'Schools')",
         "rawType": "object",
         "type": "string"
        }
       ],
       "ref": "575affb6-389d-48ec-84c5-337acdf65b6e",
       "rows": [
        [
         "('AR', 'Allisonland', '124 Diaz Brooks')",
         "C-",
         "A+",
         "F",
         "C+"
        ],
        [
         "('GA', 'Amyburgh', '941 Brian Expressway')",
         "B",
         "B",
         "D-",
         "C+"
        ],
        [
         "('IA', 'Amyburgh', '163 Heather Neck')",
         "F",
         "D",
         "A+",
         "A-"
        ],
        [
         "('ID', 'Andrewshire', '952 Ellis Drive')",
         "C+",
         "A-",
         "C+",
         "A"
        ],
        [
         "('UT', 'Baileyfort', '919 Stewart Hills')",
         "D+",
         "C+",
         "A",
         "C"
        ]
       ],
       "shape": {
        "columns": 4,
        "rows": 5
       }
      },
      "text/html": [
       "<div>\n",
       "<style scoped>\n",
       "    .dataframe tbody tr th:only-of-type {\n",
       "        vertical-align: middle;\n",
       "    }\n",
       "\n",
       "    .dataframe tbody tr th {\n",
       "        vertical-align: top;\n",
       "    }\n",
       "\n",
       "    .dataframe thead tr th {\n",
       "        text-align: left;\n",
       "    }\n",
       "\n",
       "    .dataframe thead tr:last-of-type th {\n",
       "        text-align: right;\n",
       "    }\n",
       "</style>\n",
       "<table border=\"1\" class=\"dataframe\">\n",
       "  <thead>\n",
       "    <tr>\n",
       "      <th></th>\n",
       "      <th></th>\n",
       "      <th>Category</th>\n",
       "      <th colspan=\"2\" halign=\"left\">Culture</th>\n",
       "      <th colspan=\"2\" halign=\"left\">Services</th>\n",
       "    </tr>\n",
       "    <tr>\n",
       "      <th></th>\n",
       "      <th></th>\n",
       "      <th>Subcategory</th>\n",
       "      <th>Restaurants</th>\n",
       "      <th>Museums</th>\n",
       "      <th>Police</th>\n",
       "      <th>Schools</th>\n",
       "    </tr>\n",
       "    <tr>\n",
       "      <th>State</th>\n",
       "      <th>City</th>\n",
       "      <th>Street</th>\n",
       "      <th></th>\n",
       "      <th></th>\n",
       "      <th></th>\n",
       "      <th></th>\n",
       "    </tr>\n",
       "  </thead>\n",
       "  <tbody>\n",
       "    <tr>\n",
       "      <th>AR</th>\n",
       "      <th>Allisonland</th>\n",
       "      <th>124 Diaz Brooks</th>\n",
       "      <td>C-</td>\n",
       "      <td>A+</td>\n",
       "      <td>F</td>\n",
       "      <td>C+</td>\n",
       "    </tr>\n",
       "    <tr>\n",
       "      <th>GA</th>\n",
       "      <th>Amyburgh</th>\n",
       "      <th>941 Brian Expressway</th>\n",
       "      <td>B</td>\n",
       "      <td>B</td>\n",
       "      <td>D-</td>\n",
       "      <td>C+</td>\n",
       "    </tr>\n",
       "    <tr>\n",
       "      <th>IA</th>\n",
       "      <th>Amyburgh</th>\n",
       "      <th>163 Heather Neck</th>\n",
       "      <td>F</td>\n",
       "      <td>D</td>\n",
       "      <td>A+</td>\n",
       "      <td>A-</td>\n",
       "    </tr>\n",
       "    <tr>\n",
       "      <th>ID</th>\n",
       "      <th>Andrewshire</th>\n",
       "      <th>952 Ellis Drive</th>\n",
       "      <td>C+</td>\n",
       "      <td>A-</td>\n",
       "      <td>C+</td>\n",
       "      <td>A</td>\n",
       "    </tr>\n",
       "    <tr>\n",
       "      <th>UT</th>\n",
       "      <th>Baileyfort</th>\n",
       "      <th>919 Stewart Hills</th>\n",
       "      <td>D+</td>\n",
       "      <td>C+</td>\n",
       "      <td>A</td>\n",
       "      <td>C</td>\n",
       "    </tr>\n",
       "  </tbody>\n",
       "</table>\n",
       "</div>"
      ],
      "text/plain": [
       "Category                                   Culture         Services        \n",
       "Subcategory                            Restaurants Museums   Police Schools\n",
       "State City        Street                                                   \n",
       "AR    Allisonland 124 Diaz Brooks               C-      A+        F      C+\n",
       "GA    Amyburgh    941 Brian Expressway           B       B       D-      C+\n",
       "IA    Amyburgh    163 Heather Neck               F       D       A+      A-\n",
       "ID    Andrewshire 952 Ellis Drive               C+      A-       C+       A\n",
       "UT    Baileyfort  919 Stewart Hills             D+      C+        A       C"
      ]
     },
     "execution_count": 56,
     "metadata": {},
     "output_type": "execute_result"
    }
   ],
   "source": [
    "df_neighborhoods.sort_index(level=['City','Street'], ascending=[True,False]).head()"
   ]
  },
  {
   "cell_type": "markdown",
   "id": "ad125679",
   "metadata": {},
   "source": [
    "#### Sorting using the axis for columns"
   ]
  },
  {
   "cell_type": "markdown",
   "id": "eebc8754",
   "metadata": {},
   "source": [
    "*Services, Culture*"
   ]
  },
  {
   "cell_type": "code",
   "execution_count": 61,
   "id": "13f0ea20",
   "metadata": {},
   "outputs": [
    {
     "name": "stdout",
     "output_type": "stream",
     "text": [
      "Category                                 Services            Culture        \n",
      "Subcategory                               Schools Police Restaurants Museums\n",
      "State City             Street                                               \n",
      "MO    Fisherborough    244 Tracy View          A+     D-          C+       F\n",
      "SD    Port Curtisville 446 Cynthia Inlet       D+      B          C-       B\n",
      "WV    Jimenezview      432 John Common          B      F           A      A+\n",
      "AK    Stevenshire      238 Andrew Rue          A-     A-          D-       A\n",
      "ND    New Joshuaport   877 Walter Neck          B      B          D+      C-\n"
     ]
    }
   ],
   "source": [
    "print(df_neighborhoods.sort_index(axis='columns',ascending=False).head())"
   ]
  },
  {
   "cell_type": "markdown",
   "id": "7798d205",
   "metadata": {},
   "source": [
    "*Culture,Services*"
   ]
  },
  {
   "cell_type": "code",
   "execution_count": 62,
   "id": "d15ffd06",
   "metadata": {},
   "outputs": [
    {
     "name": "stdout",
     "output_type": "stream",
     "text": [
      "Category                                 Culture             Services        \n",
      "Subcategory                              Museums Restaurants   Police Schools\n",
      "State City             Street                                                \n",
      "MO    Fisherborough    244 Tracy View          F          C+       D-      A+\n",
      "SD    Port Curtisville 446 Cynthia Inlet       B          C-        B      D+\n",
      "WV    Jimenezview      432 John Common        A+           A        F       B\n",
      "AK    Stevenshire      238 Andrew Rue          A          D-       A-      A-\n",
      "ND    New Joshuaport   877 Walter Neck        C-          D+        B       B\n"
     ]
    }
   ],
   "source": [
    "print(df_neighborhoods.sort_index(axis='columns',ascending=True).head())"
   ]
  },
  {
   "cell_type": "markdown",
   "id": "5d6953d4",
   "metadata": {},
   "source": [
    "#### Sorting columns using the level"
   ]
  },
  {
   "cell_type": "markdown",
   "id": "a784a0be",
   "metadata": {},
   "source": [
    "*Museums   Police Restaurants  Schools*"
   ]
  },
  {
   "cell_type": "code",
   "execution_count": 66,
   "id": "c33f3ade",
   "metadata": {},
   "outputs": [
    {
     "name": "stdout",
     "output_type": "stream",
     "text": [
      "Category                                 Culture Services     Culture Services\n",
      "Subcategory                              Museums   Police Restaurants  Schools\n",
      "State City             Street                                                 \n",
      "MO    Fisherborough    244 Tracy View          F       D-          C+       A+\n",
      "SD    Port Curtisville 446 Cynthia Inlet       B        B          C-       D+\n",
      "WV    Jimenezview      432 John Common        A+        F           A        B\n",
      "AK    Stevenshire      238 Andrew Rue          A       A-          D-       A-\n",
      "ND    New Joshuaport   877 Walter Neck        C-        B          D+        B\n"
     ]
    }
   ],
   "source": [
    "print(df_neighborhoods.sort_index(axis='columns',level='Subcategory', ascending=True).head())"
   ]
  },
  {
   "cell_type": "code",
   "execution_count": 67,
   "id": "8d9d010a",
   "metadata": {},
   "outputs": [
    {
     "data": {
      "application/vnd.microsoft.datawrangler.viewer.v0+json": {
       "columns": [
        {
         "name": "('State', 'City', 'Street')",
         "rawType": "object",
         "type": "unknown"
        },
        {
         "name": "('Culture', 'Restaurants')",
         "rawType": "object",
         "type": "string"
        },
        {
         "name": "('Culture', 'Museums')",
         "rawType": "object",
         "type": "string"
        },
        {
         "name": "('Services', 'Police')",
         "rawType": "object",
         "type": "string"
        },
        {
         "name": "('Services', 'Schools')",
         "rawType": "object",
         "type": "string"
        }
       ],
       "ref": "e81eb5aa-5186-4a59-a488-10906d8c27f4",
       "rows": [
        [
         "('AK', 'Rowlandchester', '386 Rebecca Cove')",
         "C-",
         "A-",
         "A+",
         "C"
        ],
        [
         "('AK', 'Scottstad', '082 Leblanc Freeway')",
         "D",
         "C-",
         "D",
         "B+"
        ],
        [
         "('AK', 'Scottstad', '114 Jones Garden')",
         "D-",
         "D-",
         "D",
         "D"
        ],
        [
         "('AK', 'Stevenshire', '238 Andrew Rue')",
         "D-",
         "A",
         "A-",
         "A-"
        ],
        [
         "('AL', 'Clarkland', '430 Douglas Mission')",
         "A",
         "F",
         "C+",
         "B+"
        ],
        [
         "('AL', 'East Bobbyside', '294 Mitchell Village')",
         "C-",
         "A-",
         "B-",
         "F"
        ],
        [
         "('AL', 'East Connie', '943 John Gardens')",
         "B+",
         "C-",
         "C+",
         "D"
        ],
        [
         "('AL', 'Kathrynstad', '356 Dodson Plains')",
         "B",
         "D-",
         "F",
         "A+"
        ],
        [
         "('AL', 'Lonniestad', '643 Allen Estates')",
         "C",
         "B-",
         "D-",
         "C+"
        ],
        [
         "('AL', 'Port Jenniferfurt', '539 Horton Fork')",
         "B",
         "A-",
         "F",
         "B"
        ],
        [
         "('AL', 'Samuelville', '989 Dean Plains')",
         "A-",
         "F",
         "D",
         "A"
        ],
        [
         "('AL', 'Vegaside', '191 Mindy Meadows')",
         "B+",
         "A-",
         "A+",
         "D+"
        ],
        [
         "('AR', 'Allisonland', '124 Diaz Brooks')",
         "C-",
         "A+",
         "F",
         "C+"
        ],
        [
         "('AR', 'New Larryshire', '372 Vazquez Isle')",
         "B",
         "B",
         "C-",
         "D+"
        ],
        [
         "('AR', 'Russoshire', '499 Hinton Forks')",
         "B-",
         "F",
         "C+",
         "C"
        ],
        [
         "('AR', 'Simmonsfurt', '154 Alexander Track')",
         "C-",
         "B+",
         "B",
         "A-"
        ],
        [
         "('AZ', 'Lake Davidshire', '943 Melissa Haven')",
         "D+",
         "B+",
         "C-",
         "D-"
        ],
        [
         "('AZ', 'Tiffanyberg', '344 Ronald Groves')",
         "D+",
         "A+",
         "C",
         "B+"
        ],
        [
         "('AZ', 'West Richard', '847 Nelson Cape')",
         "C",
         "A+",
         "C+",
         "A+"
        ],
        [
         "('CA', 'Dustinmouth', '793 Cynthia Square')",
         "A-",
         "A+",
         "C-",
         "A"
        ],
        [
         "('CA', 'North Jennifer', '303 Alisha Road')",
         "D-",
         "C+",
         "C+",
         "A+"
        ],
        [
         "('CA', 'Ryanfort', '934 David Run')",
         "F",
         "B+",
         "F",
         "D-"
        ],
        [
         "('CO', 'Lake Robert', '049 Jordan Lane')",
         "C",
         "F",
         "C+",
         "C-"
        ],
        [
         "('CO', 'Port Jeanette', '219 Henderson Glen')",
         "D",
         "B+",
         "C",
         "B"
        ],
        [
         "('CO', 'South Eugene', '654 Fisher Summit')",
         "C-",
         "B",
         "D-",
         "F"
        ],
        [
         "('CT', 'East Jessicaland', '208 Todd Knolls')",
         "A+",
         "A",
         "A+",
         "C+"
        ],
        [
         "('CT', 'New Adrianhaven', '048 Brian Cove')",
         "A-",
         "C+",
         "A+",
         "D-"
        ],
        [
         "('CT', 'Port Mike', '410 Keith Lodge')",
         "D-",
         "A",
         "B+",
         "D"
        ],
        [
         "('CT', 'Sethstad', '139 Bailey Grove')",
         "C",
         "C-",
         "C+",
         "A+"
        ],
        [
         "('DC', 'East Jessica', '149 Norman Crossing')",
         "A-",
         "C-",
         "C+",
         "A-"
        ],
        [
         "('DC', 'East Lisaview', '910 Sandy Ramp')",
         "A-",
         "A+",
         "B",
         "B"
        ],
        [
         "('DC', 'Lake Christopher', '607 Montoya Harbors')",
         "D",
         "B+",
         "B-",
         "A+"
        ],
        [
         "('DC', 'New Janice', '477 Flores Cliff')",
         "A",
         "B+",
         "B-",
         "C-"
        ],
        [
         "('DC', 'Richardland', '419 Michael Squares')",
         "D+",
         "D+",
         "D+",
         "C-"
        ],
        [
         "('DC', 'South Nathan', '631 Lynch Hill')",
         "D-",
         "C+",
         "C-",
         "A+"
        ],
        [
         "('DE', 'Dustinmouth', '719 Dixon Ways')",
         "D-",
         "B-",
         "B+",
         "C+"
        ],
        [
         "('DE', 'Lake Davidmouth', '051 Destiny Mission')",
         "B+",
         "B+",
         "A",
         "B+"
        ],
        [
         "('DE', 'Moonborough', '518 Christopher Springs')",
         "F",
         "C",
         "C-",
         "A-"
        ],
        [
         "('DE', 'New Christopher', '822 Connie Dale')",
         "C-",
         "C-",
         "A-",
         "A-"
        ],
        [
         "('DE', 'New Janice', '417 Simmons Spur')",
         "A",
         "A",
         "F",
         "C-"
        ],
        [
         "('DE', 'Port Michael', '328 Brian Cliff')",
         "C",
         "D+",
         "D",
         "A"
        ],
        [
         "('DE', 'Port Michael', '800 Christopher Haven')",
         "D",
         "A+",
         "A",
         "C-"
        ],
        [
         "('DE', 'South Kayla', '731 Atkinson Knolls')",
         "A+",
         "C-",
         "A-",
         "D+"
        ],
        [
         "('DE', 'South Tara', '047 Martinez Keys')",
         "C+",
         "B-",
         "D+",
         "B-"
        ],
        [
         "('FL', 'Bryanchester', '481 Julie Meadows')",
         "C-",
         "D",
         "B-",
         "B+"
        ],
        [
         "('FL', 'Jacksonfort', '369 Victoria Road')",
         "D-",
         "D+",
         "A",
         "D"
        ],
        [
         "('FL', 'Kingchester', '467 Lisa Mission')",
         "A",
         "C",
         "F",
         "C+"
        ],
        [
         "('FL', 'Port Melissaburgh', '393 Jennifer Parkway')",
         "A+",
         "A-",
         "D",
         "B-"
        ],
        [
         "('FL', 'West Miguelstad', '570 James Unions')",
         "D-",
         "A-",
         "B",
         "C+"
        ],
        [
         "('GA', 'Amyburgh', '941 Brian Expressway')",
         "B",
         "B",
         "D-",
         "C+"
        ]
       ],
       "shape": {
        "columns": 4,
        "rows": 251
       }
      },
      "text/html": [
       "<div>\n",
       "<style scoped>\n",
       "    .dataframe tbody tr th:only-of-type {\n",
       "        vertical-align: middle;\n",
       "    }\n",
       "\n",
       "    .dataframe tbody tr th {\n",
       "        vertical-align: top;\n",
       "    }\n",
       "\n",
       "    .dataframe thead tr th {\n",
       "        text-align: left;\n",
       "    }\n",
       "\n",
       "    .dataframe thead tr:last-of-type th {\n",
       "        text-align: right;\n",
       "    }\n",
       "</style>\n",
       "<table border=\"1\" class=\"dataframe\">\n",
       "  <thead>\n",
       "    <tr>\n",
       "      <th></th>\n",
       "      <th></th>\n",
       "      <th>Category</th>\n",
       "      <th colspan=\"2\" halign=\"left\">Culture</th>\n",
       "      <th colspan=\"2\" halign=\"left\">Services</th>\n",
       "    </tr>\n",
       "    <tr>\n",
       "      <th></th>\n",
       "      <th></th>\n",
       "      <th>Subcategory</th>\n",
       "      <th>Restaurants</th>\n",
       "      <th>Museums</th>\n",
       "      <th>Police</th>\n",
       "      <th>Schools</th>\n",
       "    </tr>\n",
       "    <tr>\n",
       "      <th>State</th>\n",
       "      <th>City</th>\n",
       "      <th>Street</th>\n",
       "      <th></th>\n",
       "      <th></th>\n",
       "      <th></th>\n",
       "      <th></th>\n",
       "    </tr>\n",
       "  </thead>\n",
       "  <tbody>\n",
       "    <tr>\n",
       "      <th rowspan=\"4\" valign=\"top\">AK</th>\n",
       "      <th>Rowlandchester</th>\n",
       "      <th>386 Rebecca Cove</th>\n",
       "      <td>C-</td>\n",
       "      <td>A-</td>\n",
       "      <td>A+</td>\n",
       "      <td>C</td>\n",
       "    </tr>\n",
       "    <tr>\n",
       "      <th rowspan=\"2\" valign=\"top\">Scottstad</th>\n",
       "      <th>082 Leblanc Freeway</th>\n",
       "      <td>D</td>\n",
       "      <td>C-</td>\n",
       "      <td>D</td>\n",
       "      <td>B+</td>\n",
       "    </tr>\n",
       "    <tr>\n",
       "      <th>114 Jones Garden</th>\n",
       "      <td>D-</td>\n",
       "      <td>D-</td>\n",
       "      <td>D</td>\n",
       "      <td>D</td>\n",
       "    </tr>\n",
       "    <tr>\n",
       "      <th>Stevenshire</th>\n",
       "      <th>238 Andrew Rue</th>\n",
       "      <td>D-</td>\n",
       "      <td>A</td>\n",
       "      <td>A-</td>\n",
       "      <td>A-</td>\n",
       "    </tr>\n",
       "    <tr>\n",
       "      <th>AL</th>\n",
       "      <th>Clarkland</th>\n",
       "      <th>430 Douglas Mission</th>\n",
       "      <td>A</td>\n",
       "      <td>F</td>\n",
       "      <td>C+</td>\n",
       "      <td>B+</td>\n",
       "    </tr>\n",
       "    <tr>\n",
       "      <th>...</th>\n",
       "      <th>...</th>\n",
       "      <th>...</th>\n",
       "      <td>...</td>\n",
       "      <td>...</td>\n",
       "      <td>...</td>\n",
       "      <td>...</td>\n",
       "    </tr>\n",
       "    <tr>\n",
       "      <th rowspan=\"5\" valign=\"top\">WY</th>\n",
       "      <th rowspan=\"2\" valign=\"top\">Lake Nicole</th>\n",
       "      <th>754 Weaver Turnpike</th>\n",
       "      <td>B</td>\n",
       "      <td>D-</td>\n",
       "      <td>B</td>\n",
       "      <td>D</td>\n",
       "    </tr>\n",
       "    <tr>\n",
       "      <th>933 Jennifer Burg</th>\n",
       "      <td>C</td>\n",
       "      <td>A+</td>\n",
       "      <td>A-</td>\n",
       "      <td>C</td>\n",
       "    </tr>\n",
       "    <tr>\n",
       "      <th>Martintown</th>\n",
       "      <th>013 Bell Mills</th>\n",
       "      <td>C-</td>\n",
       "      <td>D</td>\n",
       "      <td>A-</td>\n",
       "      <td>B-</td>\n",
       "    </tr>\n",
       "    <tr>\n",
       "      <th>Port Jason</th>\n",
       "      <th>624 Faulkner Orchard</th>\n",
       "      <td>A-</td>\n",
       "      <td>F</td>\n",
       "      <td>C+</td>\n",
       "      <td>C+</td>\n",
       "    </tr>\n",
       "    <tr>\n",
       "      <th>Reneeshire</th>\n",
       "      <th>717 Patel Square</th>\n",
       "      <td>B</td>\n",
       "      <td>B+</td>\n",
       "      <td>D</td>\n",
       "      <td>A</td>\n",
       "    </tr>\n",
       "  </tbody>\n",
       "</table>\n",
       "<p>251 rows × 4 columns</p>\n",
       "</div>"
      ],
      "text/plain": [
       "Category                                      Culture         Services        \n",
       "Subcategory                               Restaurants Museums   Police Schools\n",
       "State City           Street                                                   \n",
       "AK    Rowlandchester 386 Rebecca Cove              C-      A-       A+       C\n",
       "      Scottstad      082 Leblanc Freeway            D      C-        D      B+\n",
       "                     114 Jones Garden              D-      D-        D       D\n",
       "      Stevenshire    238 Andrew Rue                D-       A       A-      A-\n",
       "AL    Clarkland      430 Douglas Mission            A       F       C+      B+\n",
       "...                                               ...     ...      ...     ...\n",
       "WY    Lake Nicole    754 Weaver Turnpike            B      D-        B       D\n",
       "                     933 Jennifer Burg              C      A+       A-       C\n",
       "      Martintown     013 Bell Mills                C-       D       A-      B-\n",
       "      Port Jason     624 Faulkner Orchard          A-       F       C+      C+\n",
       "      Reneeshire     717 Patel Square               B      B+        D       A\n",
       "\n",
       "[251 rows x 4 columns]"
      ]
     },
     "execution_count": 67,
     "metadata": {},
     "output_type": "execute_result"
    }
   ],
   "source": [
    "df_neighborhoods.sort_index(ascending=True)"
   ]
  }
 ],
 "metadata": {
  "kernelspec": {
   "display_name": "base",
   "language": "python",
   "name": "python3"
  },
  "language_info": {
   "codemirror_mode": {
    "name": "ipython",
    "version": 3
   },
   "file_extension": ".py",
   "mimetype": "text/x-python",
   "name": "python",
   "nbconvert_exporter": "python",
   "pygments_lexer": "ipython3",
   "version": "3.12.2"
  }
 },
 "nbformat": 4,
 "nbformat_minor": 5
}
