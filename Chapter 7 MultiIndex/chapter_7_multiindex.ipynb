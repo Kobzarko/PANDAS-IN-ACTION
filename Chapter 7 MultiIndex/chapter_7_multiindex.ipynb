{
 "cells": [
  {
   "cell_type": "markdown",
   "id": "2a593699",
   "metadata": {},
   "source": [
    "### Import Data"
   ]
  },
  {
   "cell_type": "code",
   "execution_count": 1,
   "id": "7f40e5b6",
   "metadata": {},
   "outputs": [],
   "source": [
    "import pandas as pd"
   ]
  },
  {
   "cell_type": "markdown",
   "id": "81579fad",
   "metadata": {},
   "source": [
    "### MultiIndex theory"
   ]
  },
  {
   "cell_type": "markdown",
   "id": "1fa9f20d",
   "metadata": {},
   "source": [
    "**The list of tuples**"
   ]
  },
  {
   "cell_type": "code",
   "execution_count": 2,
   "id": "be87574c",
   "metadata": {},
   "outputs": [],
   "source": [
    "addresses = [\n",
    "(\"8809 Flair Square\", \"Toddside\", \"IL\", \"37206\"),\n",
    "(\"9901 Austin Street\", \"Toddside\", \"IL\", \"37206\"),\n",
    "(\"905 Hogan Quarter\", \"Franklin\", \"IL\", \"37206\"),\n",
    "]"
   ]
  },
  {
   "cell_type": "markdown",
   "id": "cd1e6956",
   "metadata": {},
   "source": [
    "**Create a MultiIndex**"
   ]
  },
  {
   "cell_type": "code",
   "execution_count": 3,
   "id": "dd211022",
   "metadata": {},
   "outputs": [
    {
     "data": {
      "text/plain": [
       "MultiIndex([( '8809 Flair Square', 'Toddside', 'IL', '37206'),\n",
       "            ('9901 Austin Street', 'Toddside', 'IL', '37206'),\n",
       "            ( '905 Hogan Quarter', 'Franklin', 'IL', '37206')],\n",
       "           )"
      ]
     },
     "execution_count": 3,
     "metadata": {},
     "output_type": "execute_result"
    }
   ],
   "source": [
    "pd.MultiIndex.from_tuples(tuples = addresses)"
   ]
  },
  {
   "cell_type": "code",
   "execution_count": 4,
   "id": "1e79f187",
   "metadata": {},
   "outputs": [],
   "source": [
    "row_index = pd.MultiIndex.from_tuples(\n",
    "tuples = addresses,\n",
    "names = [\"Street\", \"City\", \"State\", \"Zip\"]\n",
    ")"
   ]
  },
  {
   "cell_type": "code",
   "execution_count": 5,
   "id": "7f707181",
   "metadata": {},
   "outputs": [
    {
     "data": {
      "text/plain": [
       "MultiIndex([( '8809 Flair Square', 'Toddside', 'IL', '37206'),\n",
       "            ('9901 Austin Street', 'Toddside', 'IL', '37206'),\n",
       "            ( '905 Hogan Quarter', 'Franklin', 'IL', '37206')],\n",
       "           names=['Street', 'City', 'State', 'Zip'])"
      ]
     },
     "execution_count": 5,
     "metadata": {},
     "output_type": "execute_result"
    }
   ],
   "source": [
    "row_index"
   ]
  },
  {
   "cell_type": "markdown",
   "id": "8f992075",
   "metadata": {},
   "source": [
    "**Our dataframe**"
   ]
  },
  {
   "cell_type": "code",
   "execution_count": 6,
   "id": "be8b6754",
   "metadata": {},
   "outputs": [],
   "source": [
    "data = [\n",
    "[\"A\", \"B+\"],\n",
    "[\"C+\", \"C\"],\n",
    "[\"D-\", \"A\"],\n",
    "]"
   ]
  },
  {
   "cell_type": "code",
   "execution_count": 7,
   "id": "4ebbc327",
   "metadata": {},
   "outputs": [],
   "source": [
    "columns = [\"Schools\", \"Cost of Living\"]"
   ]
  },
  {
   "cell_type": "code",
   "execution_count": 8,
   "id": "5c4d32d6",
   "metadata": {},
   "outputs": [],
   "source": [
    "area_grades = pd.DataFrame(\n",
    "data = data, index = row_index, columns = columns\n",
    ")"
   ]
  },
  {
   "cell_type": "code",
   "execution_count": 9,
   "id": "47f27f4c",
   "metadata": {},
   "outputs": [
    {
     "data": {
      "application/vnd.microsoft.datawrangler.viewer.v0+json": {
       "columns": [
        {
         "name": "('Street', 'City', 'State', 'Zip')",
         "rawType": "object",
         "type": "unknown"
        },
        {
         "name": "Schools",
         "rawType": "object",
         "type": "string"
        },
        {
         "name": "Cost of Living",
         "rawType": "object",
         "type": "string"
        }
       ],
       "ref": "ab2947ee-5a8d-45d2-a723-6dffe6031100",
       "rows": [
        [
         "('8809 Flair Square', 'Toddside', 'IL', '37206')",
         "A",
         "B+"
        ],
        [
         "('9901 Austin Street', 'Toddside', 'IL', '37206')",
         "C+",
         "C"
        ],
        [
         "('905 Hogan Quarter', 'Franklin', 'IL', '37206')",
         "D-",
         "A"
        ]
       ],
       "shape": {
        "columns": 2,
        "rows": 3
       }
      },
      "text/html": [
       "<div>\n",
       "<style scoped>\n",
       "    .dataframe tbody tr th:only-of-type {\n",
       "        vertical-align: middle;\n",
       "    }\n",
       "\n",
       "    .dataframe tbody tr th {\n",
       "        vertical-align: top;\n",
       "    }\n",
       "\n",
       "    .dataframe thead th {\n",
       "        text-align: right;\n",
       "    }\n",
       "</style>\n",
       "<table border=\"1\" class=\"dataframe\">\n",
       "  <thead>\n",
       "    <tr style=\"text-align: right;\">\n",
       "      <th></th>\n",
       "      <th></th>\n",
       "      <th></th>\n",
       "      <th></th>\n",
       "      <th>Schools</th>\n",
       "      <th>Cost of Living</th>\n",
       "    </tr>\n",
       "    <tr>\n",
       "      <th>Street</th>\n",
       "      <th>City</th>\n",
       "      <th>State</th>\n",
       "      <th>Zip</th>\n",
       "      <th></th>\n",
       "      <th></th>\n",
       "    </tr>\n",
       "  </thead>\n",
       "  <tbody>\n",
       "    <tr>\n",
       "      <th>8809 Flair Square</th>\n",
       "      <th>Toddside</th>\n",
       "      <th>IL</th>\n",
       "      <th>37206</th>\n",
       "      <td>A</td>\n",
       "      <td>B+</td>\n",
       "    </tr>\n",
       "    <tr>\n",
       "      <th>9901 Austin Street</th>\n",
       "      <th>Toddside</th>\n",
       "      <th>IL</th>\n",
       "      <th>37206</th>\n",
       "      <td>C+</td>\n",
       "      <td>C</td>\n",
       "    </tr>\n",
       "    <tr>\n",
       "      <th>905 Hogan Quarter</th>\n",
       "      <th>Franklin</th>\n",
       "      <th>IL</th>\n",
       "      <th>37206</th>\n",
       "      <td>D-</td>\n",
       "      <td>A</td>\n",
       "    </tr>\n",
       "  </tbody>\n",
       "</table>\n",
       "</div>"
      ],
      "text/plain": [
       "                                        Schools Cost of Living\n",
       "Street             City     State Zip                         \n",
       "8809 Flair Square  Toddside IL    37206       A             B+\n",
       "9901 Austin Street Toddside IL    37206      C+              C\n",
       "905 Hogan Quarter  Franklin IL    37206      D-              A"
      ]
     },
     "execution_count": 9,
     "metadata": {},
     "output_type": "execute_result"
    }
   ],
   "source": [
    "area_grades"
   ]
  },
  {
   "cell_type": "code",
   "execution_count": 10,
   "id": "6a741dc0",
   "metadata": {},
   "outputs": [
    {
     "data": {
      "text/plain": [
       "Index(['Schools', 'Cost of Living'], dtype='object')"
      ]
     },
     "execution_count": 10,
     "metadata": {},
     "output_type": "execute_result"
    }
   ],
   "source": [
    "area_grades.columns"
   ]
  },
  {
   "cell_type": "markdown",
   "id": "42d5542d",
   "metadata": {},
   "source": [
    "**Create a second dataframe**"
   ]
  },
  {
   "cell_type": "code",
   "execution_count": 11,
   "id": "45d6e8a2",
   "metadata": {},
   "outputs": [],
   "source": [
    "column_index = pd.MultiIndex.from_tuples(\n",
    "    [\n",
    "        (\"Culture\", \"Restaurants\"),\n",
    "        (\"Culture\", \"Museums\"),\n",
    "        (\"Services\", \"Police\"),\n",
    "        (\"Services\", \"Schools\"),\n",
    "    ]\n",
    ")"
   ]
  },
  {
   "cell_type": "code",
   "execution_count": 12,
   "id": "b6e8b6c2",
   "metadata": {},
   "outputs": [
    {
     "data": {
      "text/plain": [
       "MultiIndex([( 'Culture', 'Restaurants'),\n",
       "            ( 'Culture',     'Museums'),\n",
       "            ('Services',      'Police'),\n",
       "            ('Services',     'Schools')],\n",
       "           )"
      ]
     },
     "execution_count": 12,
     "metadata": {},
     "output_type": "execute_result"
    }
   ],
   "source": [
    "column_index"
   ]
  },
  {
   "cell_type": "code",
   "execution_count": 13,
   "id": "64326220",
   "metadata": {},
   "outputs": [],
   "source": [
    "data = [\n",
    "[\"C-\", \"B+\", \"B-\", \"A\"],\n",
    "[\"D+\", \"C\", \"A\", \"C+\"],\n",
    "[\"A-\", \"A\", \"D+\", \"F\"]\n",
    "]"
   ]
  },
  {
   "cell_type": "code",
   "execution_count": 14,
   "id": "ca3ae225",
   "metadata": {},
   "outputs": [
    {
     "data": {
      "application/vnd.microsoft.datawrangler.viewer.v0+json": {
       "columns": [
        {
         "name": "('Street', 'City', 'State', 'Zip')",
         "rawType": "object",
         "type": "unknown"
        },
        {
         "name": "('Culture', 'Restaurants')",
         "rawType": "object",
         "type": "string"
        },
        {
         "name": "('Culture', 'Museums')",
         "rawType": "object",
         "type": "string"
        },
        {
         "name": "('Services', 'Police')",
         "rawType": "object",
         "type": "string"
        },
        {
         "name": "('Services', 'Schools')",
         "rawType": "object",
         "type": "string"
        }
       ],
       "ref": "f7dd01d3-4d2f-46a3-abef-c17864b709a5",
       "rows": [
        [
         "('8809 Flair Square', 'Toddside', 'IL', '37206')",
         "C-",
         "B+",
         "B-",
         "A"
        ],
        [
         "('9901 Austin Street', 'Toddside', 'IL', '37206')",
         "D+",
         "C",
         "A",
         "C+"
        ],
        [
         "('905 Hogan Quarter', 'Franklin', 'IL', '37206')",
         "A-",
         "A",
         "D+",
         "F"
        ]
       ],
       "shape": {
        "columns": 4,
        "rows": 3
       }
      },
      "text/html": [
       "<div>\n",
       "<style scoped>\n",
       "    .dataframe tbody tr th:only-of-type {\n",
       "        vertical-align: middle;\n",
       "    }\n",
       "\n",
       "    .dataframe tbody tr th {\n",
       "        vertical-align: top;\n",
       "    }\n",
       "\n",
       "    .dataframe thead tr th {\n",
       "        text-align: left;\n",
       "    }\n",
       "\n",
       "    .dataframe thead tr:last-of-type th {\n",
       "        text-align: right;\n",
       "    }\n",
       "</style>\n",
       "<table border=\"1\" class=\"dataframe\">\n",
       "  <thead>\n",
       "    <tr>\n",
       "      <th></th>\n",
       "      <th></th>\n",
       "      <th></th>\n",
       "      <th></th>\n",
       "      <th colspan=\"2\" halign=\"left\">Culture</th>\n",
       "      <th colspan=\"2\" halign=\"left\">Services</th>\n",
       "    </tr>\n",
       "    <tr>\n",
       "      <th></th>\n",
       "      <th></th>\n",
       "      <th></th>\n",
       "      <th></th>\n",
       "      <th>Restaurants</th>\n",
       "      <th>Museums</th>\n",
       "      <th>Police</th>\n",
       "      <th>Schools</th>\n",
       "    </tr>\n",
       "    <tr>\n",
       "      <th>Street</th>\n",
       "      <th>City</th>\n",
       "      <th>State</th>\n",
       "      <th>Zip</th>\n",
       "      <th></th>\n",
       "      <th></th>\n",
       "      <th></th>\n",
       "      <th></th>\n",
       "    </tr>\n",
       "  </thead>\n",
       "  <tbody>\n",
       "    <tr>\n",
       "      <th>8809 Flair Square</th>\n",
       "      <th>Toddside</th>\n",
       "      <th>IL</th>\n",
       "      <th>37206</th>\n",
       "      <td>C-</td>\n",
       "      <td>B+</td>\n",
       "      <td>B-</td>\n",
       "      <td>A</td>\n",
       "    </tr>\n",
       "    <tr>\n",
       "      <th>9901 Austin Street</th>\n",
       "      <th>Toddside</th>\n",
       "      <th>IL</th>\n",
       "      <th>37206</th>\n",
       "      <td>D+</td>\n",
       "      <td>C</td>\n",
       "      <td>A</td>\n",
       "      <td>C+</td>\n",
       "    </tr>\n",
       "    <tr>\n",
       "      <th>905 Hogan Quarter</th>\n",
       "      <th>Franklin</th>\n",
       "      <th>IL</th>\n",
       "      <th>37206</th>\n",
       "      <td>A-</td>\n",
       "      <td>A</td>\n",
       "      <td>D+</td>\n",
       "      <td>F</td>\n",
       "    </tr>\n",
       "  </tbody>\n",
       "</table>\n",
       "</div>"
      ],
      "text/plain": [
       "                                            Culture         Services        \n",
       "                                        Restaurants Museums   Police Schools\n",
       "Street             City     State Zip                                       \n",
       "8809 Flair Square  Toddside IL    37206          C-      B+       B-       A\n",
       "9901 Austin Street Toddside IL    37206          D+       C        A      C+\n",
       "905 Hogan Quarter  Franklin IL    37206          A-       A       D+       F"
      ]
     },
     "execution_count": 14,
     "metadata": {},
     "output_type": "execute_result"
    }
   ],
   "source": [
    "pd.DataFrame(\n",
    "data = data, index = row_index, columns = column_index\n",
    ")"
   ]
  },
  {
   "cell_type": "markdown",
   "id": "33608f79",
   "metadata": {},
   "source": [
    "### MultiIndex DataFrames"
   ]
  },
  {
   "cell_type": "code",
   "execution_count": 16,
   "id": "56a04016",
   "metadata": {},
   "outputs": [],
   "source": [
    "neighborhoods_path = '/Users/ypushiev/Learning/PANDAS IN ACTION/Chapter 7 MultiIndex/Data/neighborhoods.csv'"
   ]
  },
  {
   "cell_type": "markdown",
   "id": "1832e46b",
   "metadata": {},
   "source": [
    "**index_col attribute will create MultiIndex for columns 0,1,2 and header will use first two rows like header of column**"
   ]
  },
  {
   "cell_type": "code",
   "execution_count": 25,
   "id": "caeeb0a5",
   "metadata": {},
   "outputs": [
    {
     "data": {
      "application/vnd.microsoft.datawrangler.viewer.v0+json": {
       "columns": [
        {
         "name": "('State', 'City', 'Street')",
         "rawType": "object",
         "type": "unknown"
        },
        {
         "name": "('Culture', 'Restaurants')",
         "rawType": "object",
         "type": "string"
        },
        {
         "name": "('Culture', 'Museums')",
         "rawType": "object",
         "type": "string"
        },
        {
         "name": "('Services', 'Police')",
         "rawType": "object",
         "type": "string"
        },
        {
         "name": "('Services', 'Schools')",
         "rawType": "object",
         "type": "string"
        }
       ],
       "ref": "dedbc8d3-9d36-4862-a4b4-8cf1aabef768",
       "rows": [
        [
         "('MO', 'Fisherborough', '244 Tracy View')",
         "C+",
         "F",
         "D-",
         "A+"
        ],
        [
         "('SD', 'Port Curtisville', '446 Cynthia Inlet')",
         "C-",
         "B",
         "B",
         "D+"
        ],
        [
         "('WV', 'Jimenezview', '432 John Common')",
         "A",
         "A+",
         "F",
         "B"
        ],
        [
         "('AK', 'Stevenshire', '238 Andrew Rue')",
         "D-",
         "A",
         "A-",
         "A-"
        ],
        [
         "('ND', 'New Joshuaport', '877 Walter Neck')",
         "D+",
         "C-",
         "B",
         "B"
        ]
       ],
       "shape": {
        "columns": 4,
        "rows": 5
       }
      },
      "text/html": [
       "<div>\n",
       "<style scoped>\n",
       "    .dataframe tbody tr th:only-of-type {\n",
       "        vertical-align: middle;\n",
       "    }\n",
       "\n",
       "    .dataframe tbody tr th {\n",
       "        vertical-align: top;\n",
       "    }\n",
       "\n",
       "    .dataframe thead tr th {\n",
       "        text-align: left;\n",
       "    }\n",
       "\n",
       "    .dataframe thead tr:last-of-type th {\n",
       "        text-align: right;\n",
       "    }\n",
       "</style>\n",
       "<table border=\"1\" class=\"dataframe\">\n",
       "  <thead>\n",
       "    <tr>\n",
       "      <th></th>\n",
       "      <th></th>\n",
       "      <th></th>\n",
       "      <th colspan=\"2\" halign=\"left\">Culture</th>\n",
       "      <th colspan=\"2\" halign=\"left\">Services</th>\n",
       "    </tr>\n",
       "    <tr>\n",
       "      <th></th>\n",
       "      <th></th>\n",
       "      <th></th>\n",
       "      <th>Restaurants</th>\n",
       "      <th>Museums</th>\n",
       "      <th>Police</th>\n",
       "      <th>Schools</th>\n",
       "    </tr>\n",
       "    <tr>\n",
       "      <th>State</th>\n",
       "      <th>City</th>\n",
       "      <th>Street</th>\n",
       "      <th></th>\n",
       "      <th></th>\n",
       "      <th></th>\n",
       "      <th></th>\n",
       "    </tr>\n",
       "  </thead>\n",
       "  <tbody>\n",
       "    <tr>\n",
       "      <th>MO</th>\n",
       "      <th>Fisherborough</th>\n",
       "      <th>244 Tracy View</th>\n",
       "      <td>C+</td>\n",
       "      <td>F</td>\n",
       "      <td>D-</td>\n",
       "      <td>A+</td>\n",
       "    </tr>\n",
       "    <tr>\n",
       "      <th>SD</th>\n",
       "      <th>Port Curtisville</th>\n",
       "      <th>446 Cynthia Inlet</th>\n",
       "      <td>C-</td>\n",
       "      <td>B</td>\n",
       "      <td>B</td>\n",
       "      <td>D+</td>\n",
       "    </tr>\n",
       "    <tr>\n",
       "      <th>WV</th>\n",
       "      <th>Jimenezview</th>\n",
       "      <th>432 John Common</th>\n",
       "      <td>A</td>\n",
       "      <td>A+</td>\n",
       "      <td>F</td>\n",
       "      <td>B</td>\n",
       "    </tr>\n",
       "    <tr>\n",
       "      <th>AK</th>\n",
       "      <th>Stevenshire</th>\n",
       "      <th>238 Andrew Rue</th>\n",
       "      <td>D-</td>\n",
       "      <td>A</td>\n",
       "      <td>A-</td>\n",
       "      <td>A-</td>\n",
       "    </tr>\n",
       "    <tr>\n",
       "      <th>ND</th>\n",
       "      <th>New Joshuaport</th>\n",
       "      <th>877 Walter Neck</th>\n",
       "      <td>D+</td>\n",
       "      <td>C-</td>\n",
       "      <td>B</td>\n",
       "      <td>B</td>\n",
       "    </tr>\n",
       "  </tbody>\n",
       "</table>\n",
       "</div>"
      ],
      "text/plain": [
       "                                             Culture         Services        \n",
       "                                         Restaurants Museums   Police Schools\n",
       "State City             Street                                                \n",
       "MO    Fisherborough    244 Tracy View             C+       F       D-      A+\n",
       "SD    Port Curtisville 446 Cynthia Inlet          C-       B        B      D+\n",
       "WV    Jimenezview      432 John Common             A      A+        F       B\n",
       "AK    Stevenshire      238 Andrew Rue             D-       A       A-      A-\n",
       "ND    New Joshuaport   877 Walter Neck            D+      C-        B       B"
      ]
     },
     "execution_count": 25,
     "metadata": {},
     "output_type": "execute_result"
    }
   ],
   "source": [
    "df_neighborhoods = pd.read_csv(neighborhoods_path,index_col=[0,1,2],header=[0,1])\n",
    "df_neighborhoods.head()"
   ]
  },
  {
   "cell_type": "code",
   "execution_count": 28,
   "id": "12ec6e6c",
   "metadata": {},
   "outputs": [
    {
     "data": {
      "text/plain": [
       "FrozenList(['State', 'City', 'Street'])"
      ]
     },
     "execution_count": 28,
     "metadata": {},
     "output_type": "execute_result"
    }
   ],
   "source": [
    "df_neighborhoods.index.names"
   ]
  },
  {
   "cell_type": "code",
   "execution_count": 31,
   "id": "8b80b832",
   "metadata": {},
   "outputs": [
    {
     "data": {
      "text/plain": [
       "MultiIndex([( 'Culture', 'Restaurants'),\n",
       "            ( 'Culture',     'Museums'),\n",
       "            ('Services',      'Police'),\n",
       "            ('Services',     'Schools')],\n",
       "           )"
      ]
     },
     "execution_count": 31,
     "metadata": {},
     "output_type": "execute_result"
    }
   ],
   "source": [
    "df_neighborhoods.columns"
   ]
  },
  {
   "cell_type": "code",
   "execution_count": 29,
   "id": "2c6454e1",
   "metadata": {},
   "outputs": [
    {
     "name": "stdout",
     "output_type": "stream",
     "text": [
      "<class 'pandas.core.frame.DataFrame'>\n",
      "MultiIndex: 251 entries, ('MO', 'Fisherborough', '244 Tracy View') to ('NE', 'South Kennethmouth', '346 Wallace Pass')\n",
      "Data columns (total 4 columns):\n",
      " #   Column                  Non-Null Count  Dtype \n",
      "---  ------                  --------------  ----- \n",
      " 0   (Culture, Restaurants)  251 non-null    object\n",
      " 1   (Culture, Museums)      251 non-null    object\n",
      " 2   (Services, Police)      251 non-null    object\n",
      " 3   (Services, Schools)     251 non-null    object\n",
      "dtypes: object(4)\n",
      "memory usage: 27.1+ KB\n"
     ]
    }
   ],
   "source": [
    "df_neighborhoods.info()"
   ]
  },
  {
   "cell_type": "markdown",
   "id": "68eca271",
   "metadata": {},
   "source": [
    "#### get_level_values method"
   ]
  },
  {
   "cell_type": "markdown",
   "id": "d6d77d6f",
   "metadata": {},
   "source": [
    "**df_neighborhoods.index.get_level_values(1) returns a second value of our MultiIndex => City**"
   ]
  },
  {
   "cell_type": "code",
   "execution_count": 37,
   "id": "61aa5176",
   "metadata": {},
   "outputs": [
    {
     "data": {
      "text/plain": [
       "Index(['Fisherborough', 'Port Curtisville', 'Jimenezview', 'Stevenshire',\n",
       "       'New Joshuaport', 'Wellsville', 'Jodiburgh', 'Lake Christopher',\n",
       "       'Port Mike', 'Hardyburgh',\n",
       "       ...\n",
       "       'Scottstad', 'Port Willieport', 'Port Linda', 'Kaylamouth',\n",
       "       'Port Shawnfort', 'North Matthew', 'Chadton', 'Diazmouth', 'Laurentown',\n",
       "       'South Kennethmouth'],\n",
       "      dtype='object', name='City', length=251)"
      ]
     },
     "execution_count": 37,
     "metadata": {},
     "output_type": "execute_result"
    }
   ],
   "source": [
    "df_neighborhoods.index.get_level_values(1)  # returns a second value of our MultiIndex => City"
   ]
  },
  {
   "cell_type": "markdown",
   "id": "93fd77f1",
   "metadata": {},
   "source": [
    "**columns levels are empty, let's create names for them**"
   ]
  },
  {
   "cell_type": "code",
   "execution_count": 38,
   "id": "939f7edf",
   "metadata": {},
   "outputs": [
    {
     "data": {
      "text/plain": [
       "FrozenList([None, None])"
      ]
     },
     "execution_count": 38,
     "metadata": {},
     "output_type": "execute_result"
    }
   ],
   "source": [
    "df_neighborhoods.columns.names"
   ]
  },
  {
   "cell_type": "code",
   "execution_count": 39,
   "id": "42ebff49",
   "metadata": {},
   "outputs": [
    {
     "data": {
      "text/plain": [
       "FrozenList(['Category', 'Subcategory'])"
      ]
     },
     "execution_count": 39,
     "metadata": {},
     "output_type": "execute_result"
    }
   ],
   "source": [
    "df_neighborhoods.columns.names = [\"Category\", \"Subcategory\"]\n",
    "df_neighborhoods.columns.names"
   ]
  },
  {
   "cell_type": "markdown",
   "id": "5163f26a",
   "metadata": {},
   "source": [
    "**Now we have different level for our columns - Category: Culture,Services and Subcategory:Restaurants,Museums,Police,Schools**"
   ]
  },
  {
   "cell_type": "code",
   "execution_count": 42,
   "id": "c29fe4d3",
   "metadata": {},
   "outputs": [
    {
     "name": "stdout",
     "output_type": "stream",
     "text": [
      "Category                                     Culture         Services        \n",
      "Subcategory                              Restaurants Museums   Police Schools\n",
      "State City             Street                                                \n",
      "MO    Fisherborough    244 Tracy View             C+       F       D-      A+\n",
      "SD    Port Curtisville 446 Cynthia Inlet          C-       B        B      D+\n",
      "WV    Jimenezview      432 John Common             A      A+        F       B\n",
      "AK    Stevenshire      238 Andrew Rue             D-       A       A-      A-\n",
      "ND    New Joshuaport   877 Walter Neck            D+      C-        B       B\n"
     ]
    }
   ],
   "source": [
    "print(df_neighborhoods.head())"
   ]
  },
  {
   "cell_type": "code",
   "execution_count": 46,
   "id": "5a8275d2",
   "metadata": {},
   "outputs": [
    {
     "data": {
      "text/plain": [
       "Index(['Culture', 'Culture', 'Services', 'Services'], dtype='object', name='Category')"
      ]
     },
     "execution_count": 46,
     "metadata": {},
     "output_type": "execute_result"
    }
   ],
   "source": [
    "df_neighborhoods.columns.get_level_values('Category')"
   ]
  },
  {
   "cell_type": "code",
   "execution_count": 47,
   "id": "9aa064f5",
   "metadata": {},
   "outputs": [
    {
     "data": {
      "application/vnd.microsoft.datawrangler.viewer.v0+json": {
       "columns": [
        {
         "name": "('Category', 'Subcategory')",
         "rawType": "object",
         "type": "unknown"
        },
        {
         "name": "0",
         "rawType": "int64",
         "type": "integer"
        }
       ],
       "ref": "5d3210de-5fec-4da7-9b6b-b53f3d834c2b",
       "rows": [
        [
         "('Culture', 'Restaurants')",
         "13"
        ],
        [
         "('Culture', 'Museums')",
         "13"
        ],
        [
         "('Services', 'Police')",
         "13"
        ],
        [
         "('Services', 'Schools')",
         "13"
        ]
       ],
       "shape": {
        "columns": 1,
        "rows": 4
       }
      },
      "text/plain": [
       "Category  Subcategory\n",
       "Culture   Restaurants    13\n",
       "          Museums        13\n",
       "Services  Police         13\n",
       "          Schools        13\n",
       "dtype: int64"
      ]
     },
     "execution_count": 47,
     "metadata": {},
     "output_type": "execute_result"
    }
   ],
   "source": [
    "df_neighborhoods.nunique()"
   ]
  }
 ],
 "metadata": {
  "kernelspec": {
   "display_name": "base",
   "language": "python",
   "name": "python3"
  },
  "language_info": {
   "codemirror_mode": {
    "name": "ipython",
    "version": 3
   },
   "file_extension": ".py",
   "mimetype": "text/x-python",
   "name": "python",
   "nbconvert_exporter": "python",
   "pygments_lexer": "ipython3",
   "version": "3.12.2"
  }
 },
 "nbformat": 4,
 "nbformat_minor": 5
}
