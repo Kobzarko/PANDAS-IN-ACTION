{
 "cells": [
  {
   "cell_type": "markdown",
   "id": "895acc28",
   "metadata": {},
   "source": [
    "#### Import Data"
   ]
  },
  {
   "cell_type": "code",
   "execution_count": 1,
   "id": "da4c05e4",
   "metadata": {},
   "outputs": [],
   "source": [
    "import pandas as pd\n",
    "import numpy as np"
   ]
  },
  {
   "cell_type": "code",
   "execution_count": 2,
   "id": "82c71d62",
   "metadata": {},
   "outputs": [],
   "source": [
    "city_data = {\n",
    "\"City\": [\"New York City\", \"Paris\", \"Barcelona\", \"Rome\"],\n",
    "\"Country\": [\"United States\", \"France\", \"Spain\", \"Italy\"],\n",
    "\"Population\": [8600000, 2141000, 5515000, 2873000]\n",
    "}"
   ]
  },
  {
   "cell_type": "code",
   "execution_count": 3,
   "id": "53dd8a91",
   "metadata": {},
   "outputs": [
    {
     "data": {
      "application/vnd.microsoft.datawrangler.viewer.v0+json": {
       "columns": [
        {
         "name": "index",
         "rawType": "int64",
         "type": "integer"
        },
        {
         "name": "City",
         "rawType": "object",
         "type": "string"
        },
        {
         "name": "Country",
         "rawType": "object",
         "type": "string"
        },
        {
         "name": "Population",
         "rawType": "int64",
         "type": "integer"
        }
       ],
       "ref": "f7a2cf7b-0303-4a2c-9d17-0f75598bd0d0",
       "rows": [
        [
         "0",
         "New York City",
         "United States",
         "8600000"
        ],
        [
         "1",
         "Paris",
         "France",
         "2141000"
        ],
        [
         "2",
         "Barcelona",
         "Spain",
         "5515000"
        ],
        [
         "3",
         "Rome",
         "Italy",
         "2873000"
        ]
       ],
       "shape": {
        "columns": 3,
        "rows": 4
       }
      },
      "text/html": [
       "<div>\n",
       "<style scoped>\n",
       "    .dataframe tbody tr th:only-of-type {\n",
       "        vertical-align: middle;\n",
       "    }\n",
       "\n",
       "    .dataframe tbody tr th {\n",
       "        vertical-align: top;\n",
       "    }\n",
       "\n",
       "    .dataframe thead th {\n",
       "        text-align: right;\n",
       "    }\n",
       "</style>\n",
       "<table border=\"1\" class=\"dataframe\">\n",
       "  <thead>\n",
       "    <tr style=\"text-align: right;\">\n",
       "      <th></th>\n",
       "      <th>City</th>\n",
       "      <th>Country</th>\n",
       "      <th>Population</th>\n",
       "    </tr>\n",
       "  </thead>\n",
       "  <tbody>\n",
       "    <tr>\n",
       "      <th>0</th>\n",
       "      <td>New York City</td>\n",
       "      <td>United States</td>\n",
       "      <td>8600000</td>\n",
       "    </tr>\n",
       "    <tr>\n",
       "      <th>1</th>\n",
       "      <td>Paris</td>\n",
       "      <td>France</td>\n",
       "      <td>2141000</td>\n",
       "    </tr>\n",
       "    <tr>\n",
       "      <th>2</th>\n",
       "      <td>Barcelona</td>\n",
       "      <td>Spain</td>\n",
       "      <td>5515000</td>\n",
       "    </tr>\n",
       "    <tr>\n",
       "      <th>3</th>\n",
       "      <td>Rome</td>\n",
       "      <td>Italy</td>\n",
       "      <td>2873000</td>\n",
       "    </tr>\n",
       "  </tbody>\n",
       "</table>\n",
       "</div>"
      ],
      "text/plain": [
       "            City        Country  Population\n",
       "0  New York City  United States     8600000\n",
       "1          Paris         France     2141000\n",
       "2      Barcelona          Spain     5515000\n",
       "3           Rome          Italy     2873000"
      ]
     },
     "execution_count": 3,
     "metadata": {},
     "output_type": "execute_result"
    }
   ],
   "source": [
    "# create a DataFrame from a dictionary\n",
    "city_df = pd.DataFrame(city_data)\n",
    "city_df"
   ]
  },
  {
   "cell_type": "markdown",
   "id": "2bfaf3f5",
   "metadata": {},
   "source": [
    "**Transpose data**"
   ]
  },
  {
   "cell_type": "code",
   "execution_count": 4,
   "id": "00aa1746",
   "metadata": {},
   "outputs": [
    {
     "data": {
      "application/vnd.microsoft.datawrangler.viewer.v0+json": {
       "columns": [
        {
         "name": "index",
         "rawType": "object",
         "type": "string"
        },
        {
         "name": "0",
         "rawType": "object",
         "type": "unknown"
        },
        {
         "name": "1",
         "rawType": "object",
         "type": "unknown"
        },
        {
         "name": "2",
         "rawType": "object",
         "type": "unknown"
        },
        {
         "name": "3",
         "rawType": "object",
         "type": "unknown"
        }
       ],
       "ref": "18ce9bb3-fccd-488f-89e1-4c96ff7b2284",
       "rows": [
        [
         "City",
         "New York City",
         "Paris",
         "Barcelona",
         "Rome"
        ],
        [
         "Country",
         "United States",
         "France",
         "Spain",
         "Italy"
        ],
        [
         "Population",
         "8600000",
         "2141000",
         "5515000",
         "2873000"
        ]
       ],
       "shape": {
        "columns": 4,
        "rows": 3
       }
      },
      "text/html": [
       "<div>\n",
       "<style scoped>\n",
       "    .dataframe tbody tr th:only-of-type {\n",
       "        vertical-align: middle;\n",
       "    }\n",
       "\n",
       "    .dataframe tbody tr th {\n",
       "        vertical-align: top;\n",
       "    }\n",
       "\n",
       "    .dataframe thead th {\n",
       "        text-align: right;\n",
       "    }\n",
       "</style>\n",
       "<table border=\"1\" class=\"dataframe\">\n",
       "  <thead>\n",
       "    <tr style=\"text-align: right;\">\n",
       "      <th></th>\n",
       "      <th>0</th>\n",
       "      <th>1</th>\n",
       "      <th>2</th>\n",
       "      <th>3</th>\n",
       "    </tr>\n",
       "  </thead>\n",
       "  <tbody>\n",
       "    <tr>\n",
       "      <th>City</th>\n",
       "      <td>New York City</td>\n",
       "      <td>Paris</td>\n",
       "      <td>Barcelona</td>\n",
       "      <td>Rome</td>\n",
       "    </tr>\n",
       "    <tr>\n",
       "      <th>Country</th>\n",
       "      <td>United States</td>\n",
       "      <td>France</td>\n",
       "      <td>Spain</td>\n",
       "      <td>Italy</td>\n",
       "    </tr>\n",
       "    <tr>\n",
       "      <th>Population</th>\n",
       "      <td>8600000</td>\n",
       "      <td>2141000</td>\n",
       "      <td>5515000</td>\n",
       "      <td>2873000</td>\n",
       "    </tr>\n",
       "  </tbody>\n",
       "</table>\n",
       "</div>"
      ],
      "text/plain": [
       "                        0        1          2        3\n",
       "City        New York City    Paris  Barcelona     Rome\n",
       "Country     United States   France      Spain    Italy\n",
       "Population        8600000  2141000    5515000  2873000"
      ]
     },
     "execution_count": 4,
     "metadata": {},
     "output_type": "execute_result"
    }
   ],
   "source": [
    "city_df.transpose()"
   ]
  },
  {
   "cell_type": "code",
   "execution_count": 5,
   "id": "164fa36a",
   "metadata": {},
   "outputs": [
    {
     "data": {
      "application/vnd.microsoft.datawrangler.viewer.v0+json": {
       "columns": [
        {
         "name": "index",
         "rawType": "object",
         "type": "string"
        },
        {
         "name": "0",
         "rawType": "object",
         "type": "unknown"
        },
        {
         "name": "1",
         "rawType": "object",
         "type": "unknown"
        },
        {
         "name": "2",
         "rawType": "object",
         "type": "unknown"
        },
        {
         "name": "3",
         "rawType": "object",
         "type": "unknown"
        }
       ],
       "ref": "ca8a3d2c-6d4e-4a45-bf03-2becc49ba3ff",
       "rows": [
        [
         "City",
         "New York City",
         "Paris",
         "Barcelona",
         "Rome"
        ],
        [
         "Country",
         "United States",
         "France",
         "Spain",
         "Italy"
        ],
        [
         "Population",
         "8600000",
         "2141000",
         "5515000",
         "2873000"
        ]
       ],
       "shape": {
        "columns": 4,
        "rows": 3
       }
      },
      "text/html": [
       "<div>\n",
       "<style scoped>\n",
       "    .dataframe tbody tr th:only-of-type {\n",
       "        vertical-align: middle;\n",
       "    }\n",
       "\n",
       "    .dataframe tbody tr th {\n",
       "        vertical-align: top;\n",
       "    }\n",
       "\n",
       "    .dataframe thead th {\n",
       "        text-align: right;\n",
       "    }\n",
       "</style>\n",
       "<table border=\"1\" class=\"dataframe\">\n",
       "  <thead>\n",
       "    <tr style=\"text-align: right;\">\n",
       "      <th></th>\n",
       "      <th>0</th>\n",
       "      <th>1</th>\n",
       "      <th>2</th>\n",
       "      <th>3</th>\n",
       "    </tr>\n",
       "  </thead>\n",
       "  <tbody>\n",
       "    <tr>\n",
       "      <th>City</th>\n",
       "      <td>New York City</td>\n",
       "      <td>Paris</td>\n",
       "      <td>Barcelona</td>\n",
       "      <td>Rome</td>\n",
       "    </tr>\n",
       "    <tr>\n",
       "      <th>Country</th>\n",
       "      <td>United States</td>\n",
       "      <td>France</td>\n",
       "      <td>Spain</td>\n",
       "      <td>Italy</td>\n",
       "    </tr>\n",
       "    <tr>\n",
       "      <th>Population</th>\n",
       "      <td>8600000</td>\n",
       "      <td>2141000</td>\n",
       "      <td>5515000</td>\n",
       "      <td>2873000</td>\n",
       "    </tr>\n",
       "  </tbody>\n",
       "</table>\n",
       "</div>"
      ],
      "text/plain": [
       "                        0        1          2        3\n",
       "City        New York City    Paris  Barcelona     Rome\n",
       "Country     United States   France      Spain    Italy\n",
       "Population        8600000  2141000    5515000  2873000"
      ]
     },
     "execution_count": 5,
     "metadata": {},
     "output_type": "execute_result"
    }
   ],
   "source": [
    "# the same result using the .T attribute\n",
    "city_df.T"
   ]
  },
  {
   "cell_type": "markdown",
   "id": "e5ddc896",
   "metadata": {},
   "source": [
    "#### Creating a DataFrame from a NumPy ndarray"
   ]
  },
  {
   "cell_type": "code",
   "execution_count": 6,
   "id": "cb21e5ed",
   "metadata": {},
   "outputs": [
    {
     "data": {
      "text/plain": [
       "array([[ 97,  88, 100,  48,  94],\n",
       "       [ 98,  43,  15,  23,  74],\n",
       "       [ 41,  24,  63,  95,  11]])"
      ]
     },
     "execution_count": 6,
     "metadata": {},
     "output_type": "execute_result"
    }
   ],
   "source": [
    "random_data = np.random.randint(1, 101, size=(3, 5))\n",
    "random_data"
   ]
  },
  {
   "cell_type": "code",
   "execution_count": 7,
   "id": "5e376237",
   "metadata": {},
   "outputs": [
    {
     "data": {
      "application/vnd.microsoft.datawrangler.viewer.v0+json": {
       "columns": [
        {
         "name": "index",
         "rawType": "int64",
         "type": "integer"
        },
        {
         "name": "0",
         "rawType": "int64",
         "type": "integer"
        },
        {
         "name": "1",
         "rawType": "int64",
         "type": "integer"
        },
        {
         "name": "2",
         "rawType": "int64",
         "type": "integer"
        },
        {
         "name": "3",
         "rawType": "int64",
         "type": "integer"
        },
        {
         "name": "4",
         "rawType": "int64",
         "type": "integer"
        }
       ],
       "ref": "8e0fcf4c-ad68-4035-8ed4-fa5d06ec88d2",
       "rows": [
        [
         "0",
         "97",
         "88",
         "100",
         "48",
         "94"
        ],
        [
         "1",
         "98",
         "43",
         "15",
         "23",
         "74"
        ],
        [
         "2",
         "41",
         "24",
         "63",
         "95",
         "11"
        ]
       ],
       "shape": {
        "columns": 5,
        "rows": 3
       }
      },
      "text/html": [
       "<div>\n",
       "<style scoped>\n",
       "    .dataframe tbody tr th:only-of-type {\n",
       "        vertical-align: middle;\n",
       "    }\n",
       "\n",
       "    .dataframe tbody tr th {\n",
       "        vertical-align: top;\n",
       "    }\n",
       "\n",
       "    .dataframe thead th {\n",
       "        text-align: right;\n",
       "    }\n",
       "</style>\n",
       "<table border=\"1\" class=\"dataframe\">\n",
       "  <thead>\n",
       "    <tr style=\"text-align: right;\">\n",
       "      <th></th>\n",
       "      <th>0</th>\n",
       "      <th>1</th>\n",
       "      <th>2</th>\n",
       "      <th>3</th>\n",
       "      <th>4</th>\n",
       "    </tr>\n",
       "  </thead>\n",
       "  <tbody>\n",
       "    <tr>\n",
       "      <th>0</th>\n",
       "      <td>97</td>\n",
       "      <td>88</td>\n",
       "      <td>100</td>\n",
       "      <td>48</td>\n",
       "      <td>94</td>\n",
       "    </tr>\n",
       "    <tr>\n",
       "      <th>1</th>\n",
       "      <td>98</td>\n",
       "      <td>43</td>\n",
       "      <td>15</td>\n",
       "      <td>23</td>\n",
       "      <td>74</td>\n",
       "    </tr>\n",
       "    <tr>\n",
       "      <th>2</th>\n",
       "      <td>41</td>\n",
       "      <td>24</td>\n",
       "      <td>63</td>\n",
       "      <td>95</td>\n",
       "      <td>11</td>\n",
       "    </tr>\n",
       "  </tbody>\n",
       "</table>\n",
       "</div>"
      ],
      "text/plain": [
       "    0   1    2   3   4\n",
       "0  97  88  100  48  94\n",
       "1  98  43   15  23  74\n",
       "2  41  24   63  95  11"
      ]
     },
     "execution_count": 7,
     "metadata": {},
     "output_type": "execute_result"
    }
   ],
   "source": [
    "pd.DataFrame(data=random_data)"
   ]
  },
  {
   "cell_type": "markdown",
   "id": "f9bef415",
   "metadata": {},
   "source": [
    "**Create a dataframe manualy**"
   ]
  },
  {
   "cell_type": "code",
   "execution_count": 8,
   "id": "a85ae4e2",
   "metadata": {},
   "outputs": [
    {
     "data": {
      "application/vnd.microsoft.datawrangler.viewer.v0+json": {
       "columns": [
        {
         "name": "index",
         "rawType": "object",
         "type": "string"
        },
        {
         "name": "0",
         "rawType": "int64",
         "type": "integer"
        },
        {
         "name": "1",
         "rawType": "int64",
         "type": "integer"
        },
        {
         "name": "2",
         "rawType": "int64",
         "type": "integer"
        },
        {
         "name": "3",
         "rawType": "int64",
         "type": "integer"
        },
        {
         "name": "4",
         "rawType": "int64",
         "type": "integer"
        }
       ],
       "ref": "560aaf1d-8e48-4a3c-9307-a9feba4acfb1",
       "rows": [
        [
         "Morning",
         "97",
         "88",
         "100",
         "48",
         "94"
        ],
        [
         "Afternoon",
         "98",
         "43",
         "15",
         "23",
         "74"
        ],
        [
         "Evening",
         "41",
         "24",
         "63",
         "95",
         "11"
        ]
       ],
       "shape": {
        "columns": 5,
        "rows": 3
       }
      },
      "text/html": [
       "<div>\n",
       "<style scoped>\n",
       "    .dataframe tbody tr th:only-of-type {\n",
       "        vertical-align: middle;\n",
       "    }\n",
       "\n",
       "    .dataframe tbody tr th {\n",
       "        vertical-align: top;\n",
       "    }\n",
       "\n",
       "    .dataframe thead th {\n",
       "        text-align: right;\n",
       "    }\n",
       "</style>\n",
       "<table border=\"1\" class=\"dataframe\">\n",
       "  <thead>\n",
       "    <tr style=\"text-align: right;\">\n",
       "      <th></th>\n",
       "      <th>0</th>\n",
       "      <th>1</th>\n",
       "      <th>2</th>\n",
       "      <th>3</th>\n",
       "      <th>4</th>\n",
       "    </tr>\n",
       "  </thead>\n",
       "  <tbody>\n",
       "    <tr>\n",
       "      <th>Morning</th>\n",
       "      <td>97</td>\n",
       "      <td>88</td>\n",
       "      <td>100</td>\n",
       "      <td>48</td>\n",
       "      <td>94</td>\n",
       "    </tr>\n",
       "    <tr>\n",
       "      <th>Afternoon</th>\n",
       "      <td>98</td>\n",
       "      <td>43</td>\n",
       "      <td>15</td>\n",
       "      <td>23</td>\n",
       "      <td>74</td>\n",
       "    </tr>\n",
       "    <tr>\n",
       "      <th>Evening</th>\n",
       "      <td>41</td>\n",
       "      <td>24</td>\n",
       "      <td>63</td>\n",
       "      <td>95</td>\n",
       "      <td>11</td>\n",
       "    </tr>\n",
       "  </tbody>\n",
       "</table>\n",
       "</div>"
      ],
      "text/plain": [
       "            0   1    2   3   4\n",
       "Morning    97  88  100  48  94\n",
       "Afternoon  98  43   15  23  74\n",
       "Evening    41  24   63  95  11"
      ]
     },
     "execution_count": 8,
     "metadata": {},
     "output_type": "execute_result"
    }
   ],
   "source": [
    "row_labels = [\"Morning\", \"Afternoon\", \"Evening\"]\n",
    "temperatures = pd.DataFrame(data = random_data, index = row_labels)\n",
    "temperatures"
   ]
  },
  {
   "cell_type": "code",
   "execution_count": 9,
   "id": "8d25d862",
   "metadata": {},
   "outputs": [],
   "source": [
    "row_labels = [\"Morning\", \"Afternoon\", \"Evening\"]\n",
    "column_labels = (\n",
    "\"Monday\",\n",
    "\"Tuesday\",\n",
    "\"Wednesday\",\n",
    "\"Thursday\",\n",
    "\"Friday\",\n",
    ")"
   ]
  },
  {
   "cell_type": "code",
   "execution_count": 10,
   "id": "9595b14d",
   "metadata": {},
   "outputs": [
    {
     "data": {
      "application/vnd.microsoft.datawrangler.viewer.v0+json": {
       "columns": [
        {
         "name": "index",
         "rawType": "object",
         "type": "string"
        },
        {
         "name": "Monday",
         "rawType": "int64",
         "type": "integer"
        },
        {
         "name": "Tuesday",
         "rawType": "int64",
         "type": "integer"
        },
        {
         "name": "Wednesday",
         "rawType": "int64",
         "type": "integer"
        },
        {
         "name": "Thursday",
         "rawType": "int64",
         "type": "integer"
        },
        {
         "name": "Friday",
         "rawType": "int64",
         "type": "integer"
        }
       ],
       "ref": "40622480-7e51-4064-9617-a09a36810842",
       "rows": [
        [
         "Morning",
         "97",
         "88",
         "100",
         "48",
         "94"
        ],
        [
         "Afternoon",
         "98",
         "43",
         "15",
         "23",
         "74"
        ],
        [
         "Evening",
         "41",
         "24",
         "63",
         "95",
         "11"
        ]
       ],
       "shape": {
        "columns": 5,
        "rows": 3
       }
      },
      "text/html": [
       "<div>\n",
       "<style scoped>\n",
       "    .dataframe tbody tr th:only-of-type {\n",
       "        vertical-align: middle;\n",
       "    }\n",
       "\n",
       "    .dataframe tbody tr th {\n",
       "        vertical-align: top;\n",
       "    }\n",
       "\n",
       "    .dataframe thead th {\n",
       "        text-align: right;\n",
       "    }\n",
       "</style>\n",
       "<table border=\"1\" class=\"dataframe\">\n",
       "  <thead>\n",
       "    <tr style=\"text-align: right;\">\n",
       "      <th></th>\n",
       "      <th>Monday</th>\n",
       "      <th>Tuesday</th>\n",
       "      <th>Wednesday</th>\n",
       "      <th>Thursday</th>\n",
       "      <th>Friday</th>\n",
       "    </tr>\n",
       "  </thead>\n",
       "  <tbody>\n",
       "    <tr>\n",
       "      <th>Morning</th>\n",
       "      <td>97</td>\n",
       "      <td>88</td>\n",
       "      <td>100</td>\n",
       "      <td>48</td>\n",
       "      <td>94</td>\n",
       "    </tr>\n",
       "    <tr>\n",
       "      <th>Afternoon</th>\n",
       "      <td>98</td>\n",
       "      <td>43</td>\n",
       "      <td>15</td>\n",
       "      <td>23</td>\n",
       "      <td>74</td>\n",
       "    </tr>\n",
       "    <tr>\n",
       "      <th>Evening</th>\n",
       "      <td>41</td>\n",
       "      <td>24</td>\n",
       "      <td>63</td>\n",
       "      <td>95</td>\n",
       "      <td>11</td>\n",
       "    </tr>\n",
       "  </tbody>\n",
       "</table>\n",
       "</div>"
      ],
      "text/plain": [
       "           Monday  Tuesday  Wednesday  Thursday  Friday\n",
       "Morning        97       88        100        48      94\n",
       "Afternoon      98       43         15        23      74\n",
       "Evening        41       24         63        95      11"
      ]
     },
     "execution_count": 10,
     "metadata": {},
     "output_type": "execute_result"
    }
   ],
   "source": [
    "pd.DataFrame(data=random_data, index = row_labels,columns = column_labels)"
   ]
  },
  {
   "cell_type": "markdown",
   "id": "d578d0d9",
   "metadata": {},
   "source": [
    "**The Dataframe allows to have duplicates in the index and rows**"
   ]
  },
  {
   "cell_type": "code",
   "execution_count": 11,
   "id": "8c213a95",
   "metadata": {},
   "outputs": [],
   "source": [
    "# Morning and Tuesday are duplicated\n",
    "row_labels = [\"Morning\", \"Afternoon\", \"Morning\"]\n",
    "column_lables_1 = [\n",
    "    \"Monday\",\n",
    "    \"Tuesday\",\n",
    "    \"Tuesday\",\n",
    "    \"Tuesday\",\n",
    "    \"Friday\"\n",
    "]\n",
    "\n",
    "df_Tuesday = pd.DataFrame(\n",
    "    data = random_data,\n",
    "    index = row_labels,\n",
    "    columns = column_lables_1\n",
    ")"
   ]
  },
  {
   "cell_type": "markdown",
   "id": "77a18b96",
   "metadata": {},
   "source": [
    "**Bad practise**"
   ]
  },
  {
   "cell_type": "code",
   "execution_count": 12,
   "id": "f05fc8af",
   "metadata": {},
   "outputs": [
    {
     "data": {
      "application/vnd.microsoft.datawrangler.viewer.v0+json": {
       "columns": [
        {
         "name": "index",
         "rawType": "object",
         "type": "string"
        },
        {
         "name": "Tuesday",
         "rawType": "int64",
         "type": "integer"
        },
        {
         "name": "Tuesday",
         "rawType": "int64",
         "type": "integer"
        },
        {
         "name": "Tuesday",
         "rawType": "int64",
         "type": "integer"
        }
       ],
       "ref": "e188b9c8-4b49-4f3f-adfd-11c0172dc324",
       "rows": [
        [
         "Morning",
         "88",
         "100",
         "48"
        ],
        [
         "Afternoon",
         "43",
         "15",
         "23"
        ],
        [
         "Morning",
         "24",
         "63",
         "95"
        ]
       ],
       "shape": {
        "columns": 3,
        "rows": 3
       }
      },
      "text/html": [
       "<div>\n",
       "<style scoped>\n",
       "    .dataframe tbody tr th:only-of-type {\n",
       "        vertical-align: middle;\n",
       "    }\n",
       "\n",
       "    .dataframe tbody tr th {\n",
       "        vertical-align: top;\n",
       "    }\n",
       "\n",
       "    .dataframe thead th {\n",
       "        text-align: right;\n",
       "    }\n",
       "</style>\n",
       "<table border=\"1\" class=\"dataframe\">\n",
       "  <thead>\n",
       "    <tr style=\"text-align: right;\">\n",
       "      <th></th>\n",
       "      <th>Tuesday</th>\n",
       "      <th>Tuesday</th>\n",
       "      <th>Tuesday</th>\n",
       "    </tr>\n",
       "  </thead>\n",
       "  <tbody>\n",
       "    <tr>\n",
       "      <th>Morning</th>\n",
       "      <td>88</td>\n",
       "      <td>100</td>\n",
       "      <td>48</td>\n",
       "    </tr>\n",
       "    <tr>\n",
       "      <th>Afternoon</th>\n",
       "      <td>43</td>\n",
       "      <td>15</td>\n",
       "      <td>23</td>\n",
       "    </tr>\n",
       "    <tr>\n",
       "      <th>Morning</th>\n",
       "      <td>24</td>\n",
       "      <td>63</td>\n",
       "      <td>95</td>\n",
       "    </tr>\n",
       "  </tbody>\n",
       "</table>\n",
       "</div>"
      ],
      "text/plain": [
       "           Tuesday  Tuesday  Tuesday\n",
       "Morning         88      100       48\n",
       "Afternoon       43       15       23\n",
       "Morning         24       63       95"
      ]
     },
     "execution_count": 12,
     "metadata": {},
     "output_type": "execute_result"
    }
   ],
   "source": [
    "df_Tuesday['Tuesday']"
   ]
  },
  {
   "cell_type": "markdown",
   "id": "8413ed45",
   "metadata": {},
   "source": [
    "#### Import data with CSV"
   ]
  },
  {
   "cell_type": "code",
   "execution_count": 13,
   "id": "c8d6c428",
   "metadata": {},
   "outputs": [],
   "source": [
    "nba_path = '/Users/ypushiev/Learning/PANDAS IN ACTION/Chapter 4 Dataframe/Data/nba.csv'"
   ]
  },
  {
   "cell_type": "code",
   "execution_count": 117,
   "id": "bb5428ef",
   "metadata": {},
   "outputs": [],
   "source": [
    "df_nba = pd.read_csv(nba_path)"
   ]
  },
  {
   "cell_type": "code",
   "execution_count": 118,
   "id": "bb413b3f",
   "metadata": {},
   "outputs": [
    {
     "name": "stderr",
     "output_type": "stream",
     "text": [
      "/var/folders/pg/x6kyk1l92fj8q4332g1j8rnw0000gp/T/ipykernel_50548/369267196.py:1: UserWarning: Could not infer format, so each element will be parsed individually, falling back to `dateutil`. To ensure parsing is consistent and as-expected, please specify a format.\n",
      "  df_nba = pd.read_csv(nba_path, parse_dates=['Birthday'])\n"
     ]
    }
   ],
   "source": [
    "df_nba = pd.read_csv(nba_path, parse_dates=['Birthday'])"
   ]
  },
  {
   "cell_type": "markdown",
   "id": "2abc36bf",
   "metadata": {},
   "source": [
    "**Alternative way to parse date in the Dataframe**"
   ]
  },
  {
   "cell_type": "code",
   "execution_count": null,
   "id": "aa27ca3e",
   "metadata": {},
   "outputs": [],
   "source": [
    "df_nba['Birthday'] = pd.to_datetime(df_nba['Birthday'], format='%m/%d/%y')\n",
    "# change the date format to 'YYYY-MM-DD'\n",
    "df_nba['Birthday'] = df_nba['Birthday'].dt.strftime('%Y-%m-%d')"
   ]
  },
  {
   "cell_type": "code",
   "execution_count": 119,
   "id": "f36ee61f",
   "metadata": {},
   "outputs": [
    {
     "data": {
      "text/plain": [
       "(450, 5)"
      ]
     },
     "execution_count": 119,
     "metadata": {},
     "output_type": "execute_result"
    }
   ],
   "source": [
    "df_nba.shape"
   ]
  },
  {
   "cell_type": "code",
   "execution_count": 120,
   "id": "2057fd19",
   "metadata": {},
   "outputs": [
    {
     "data": {
      "text/plain": [
       "pandas.core.frame.DataFrame"
      ]
     },
     "execution_count": 120,
     "metadata": {},
     "output_type": "execute_result"
    }
   ],
   "source": [
    "type(df_nba)"
   ]
  },
  {
   "cell_type": "code",
   "execution_count": 121,
   "id": "7dbbcb12",
   "metadata": {},
   "outputs": [
    {
     "data": {
      "application/vnd.microsoft.datawrangler.viewer.v0+json": {
       "columns": [
        {
         "name": "index",
         "rawType": "int64",
         "type": "integer"
        },
        {
         "name": "Name",
         "rawType": "object",
         "type": "string"
        },
        {
         "name": "Team",
         "rawType": "object",
         "type": "string"
        },
        {
         "name": "Position",
         "rawType": "object",
         "type": "string"
        },
        {
         "name": "Birthday",
         "rawType": "datetime64[ns]",
         "type": "datetime"
        },
        {
         "name": "Salary",
         "rawType": "int64",
         "type": "integer"
        }
       ],
       "ref": "aa64e8c5-5646-4b58-ad24-0e09aaaa9d4f",
       "rows": [
        [
         "0",
         "Shake Milton",
         "Philadelphia 76ers",
         "SG",
         "1996-09-26 00:00:00",
         "1445697"
        ],
        [
         "1",
         "Christian Wood",
         "Detroit Pistons",
         "PF",
         "1995-09-27 00:00:00",
         "1645357"
        ],
        [
         "2",
         "PJ Washington",
         "Charlotte Hornets",
         "PF",
         "1998-08-23 00:00:00",
         "3831840"
        ],
        [
         "3",
         "Derrick Rose",
         "Detroit Pistons",
         "PG",
         "1988-10-04 00:00:00",
         "7317074"
        ],
        [
         "4",
         "Marial Shayok",
         "Philadelphia 76ers",
         "G",
         "1995-07-26 00:00:00",
         "79568"
        ]
       ],
       "shape": {
        "columns": 5,
        "rows": 5
       }
      },
      "text/html": [
       "<div>\n",
       "<style scoped>\n",
       "    .dataframe tbody tr th:only-of-type {\n",
       "        vertical-align: middle;\n",
       "    }\n",
       "\n",
       "    .dataframe tbody tr th {\n",
       "        vertical-align: top;\n",
       "    }\n",
       "\n",
       "    .dataframe thead th {\n",
       "        text-align: right;\n",
       "    }\n",
       "</style>\n",
       "<table border=\"1\" class=\"dataframe\">\n",
       "  <thead>\n",
       "    <tr style=\"text-align: right;\">\n",
       "      <th></th>\n",
       "      <th>Name</th>\n",
       "      <th>Team</th>\n",
       "      <th>Position</th>\n",
       "      <th>Birthday</th>\n",
       "      <th>Salary</th>\n",
       "    </tr>\n",
       "  </thead>\n",
       "  <tbody>\n",
       "    <tr>\n",
       "      <th>0</th>\n",
       "      <td>Shake Milton</td>\n",
       "      <td>Philadelphia 76ers</td>\n",
       "      <td>SG</td>\n",
       "      <td>1996-09-26</td>\n",
       "      <td>1445697</td>\n",
       "    </tr>\n",
       "    <tr>\n",
       "      <th>1</th>\n",
       "      <td>Christian Wood</td>\n",
       "      <td>Detroit Pistons</td>\n",
       "      <td>PF</td>\n",
       "      <td>1995-09-27</td>\n",
       "      <td>1645357</td>\n",
       "    </tr>\n",
       "    <tr>\n",
       "      <th>2</th>\n",
       "      <td>PJ Washington</td>\n",
       "      <td>Charlotte Hornets</td>\n",
       "      <td>PF</td>\n",
       "      <td>1998-08-23</td>\n",
       "      <td>3831840</td>\n",
       "    </tr>\n",
       "    <tr>\n",
       "      <th>3</th>\n",
       "      <td>Derrick Rose</td>\n",
       "      <td>Detroit Pistons</td>\n",
       "      <td>PG</td>\n",
       "      <td>1988-10-04</td>\n",
       "      <td>7317074</td>\n",
       "    </tr>\n",
       "    <tr>\n",
       "      <th>4</th>\n",
       "      <td>Marial Shayok</td>\n",
       "      <td>Philadelphia 76ers</td>\n",
       "      <td>G</td>\n",
       "      <td>1995-07-26</td>\n",
       "      <td>79568</td>\n",
       "    </tr>\n",
       "  </tbody>\n",
       "</table>\n",
       "</div>"
      ],
      "text/plain": [
       "             Name                Team Position   Birthday   Salary\n",
       "0    Shake Milton  Philadelphia 76ers       SG 1996-09-26  1445697\n",
       "1  Christian Wood     Detroit Pistons       PF 1995-09-27  1645357\n",
       "2   PJ Washington   Charlotte Hornets       PF 1998-08-23  3831840\n",
       "3    Derrick Rose     Detroit Pistons       PG 1988-10-04  7317074\n",
       "4   Marial Shayok  Philadelphia 76ers        G 1995-07-26    79568"
      ]
     },
     "execution_count": 121,
     "metadata": {},
     "output_type": "execute_result"
    }
   ],
   "source": [
    "df_nba.head()"
   ]
  },
  {
   "cell_type": "markdown",
   "id": "cc7ae195",
   "metadata": {},
   "source": [
    "#### Shared and Exclusive Attributes between Series and DataFrames"
   ]
  },
  {
   "cell_type": "code",
   "execution_count": 122,
   "id": "180c5087",
   "metadata": {},
   "outputs": [
    {
     "data": {
      "application/vnd.microsoft.datawrangler.viewer.v0+json": {
       "columns": [
        {
         "name": "index",
         "rawType": "object",
         "type": "string"
        },
        {
         "name": "0",
         "rawType": "object",
         "type": "unknown"
        }
       ],
       "ref": "6776db76-678c-45b6-97ca-119ef33599af",
       "rows": [
        [
         "Name",
         "object"
        ],
        [
         "Team",
         "object"
        ],
        [
         "Position",
         "object"
        ],
        [
         "Birthday",
         "datetime64[ns]"
        ],
        [
         "Salary",
         "int64"
        ]
       ],
       "shape": {
        "columns": 1,
        "rows": 5
       }
      },
      "text/plain": [
       "Name                object\n",
       "Team                object\n",
       "Position            object\n",
       "Birthday    datetime64[ns]\n",
       "Salary               int64\n",
       "dtype: object"
      ]
     },
     "execution_count": 122,
     "metadata": {},
     "output_type": "execute_result"
    }
   ],
   "source": [
    "# check the data types of each column\n",
    "df_nba.dtypes"
   ]
  },
  {
   "cell_type": "code",
   "execution_count": 21,
   "id": "1fff7e0d",
   "metadata": {},
   "outputs": [
    {
     "data": {
      "application/vnd.microsoft.datawrangler.viewer.v0+json": {
       "columns": [
        {
         "name": "index",
         "rawType": "object",
         "type": "unknown"
        },
        {
         "name": "count",
         "rawType": "int64",
         "type": "integer"
        }
       ],
       "ref": "748f4953-db10-4cf3-be35-5edbf421625b",
       "rows": [
        [
         "object",
         "3"
        ],
        [
         "datetime64[ns]",
         "1"
        ],
        [
         "int64",
         "1"
        ]
       ],
       "shape": {
        "columns": 1,
        "rows": 3
       }
      },
      "text/plain": [
       "object            3\n",
       "datetime64[ns]    1\n",
       "int64             1\n",
       "Name: count, dtype: int64"
      ]
     },
     "execution_count": 21,
     "metadata": {},
     "output_type": "execute_result"
    }
   ],
   "source": [
    "# Count values for each data type\n",
    "df_nba.dtypes.value_counts()"
   ]
  },
  {
   "cell_type": "code",
   "execution_count": 22,
   "id": "afe53d64",
   "metadata": {},
   "outputs": [
    {
     "data": {
      "text/plain": [
       "RangeIndex(start=0, stop=450, step=1)"
      ]
     },
     "execution_count": 22,
     "metadata": {},
     "output_type": "execute_result"
    }
   ],
   "source": [
    "# View the index\n",
    "df_nba.index"
   ]
  },
  {
   "cell_type": "code",
   "execution_count": 23,
   "id": "70a4f5aa",
   "metadata": {},
   "outputs": [
    {
     "data": {
      "text/plain": [
       "Index(['Name', 'Team', 'Position', 'Birthday', 'Salary'], dtype='object')"
      ]
     },
     "execution_count": 23,
     "metadata": {},
     "output_type": "execute_result"
    }
   ],
   "source": [
    "# View the columns\n",
    "df_nba.columns"
   ]
  },
  {
   "cell_type": "code",
   "execution_count": 24,
   "id": "050b3ac8",
   "metadata": {},
   "outputs": [
    {
     "data": {
      "text/plain": [
       "2"
      ]
     },
     "execution_count": 24,
     "metadata": {},
     "output_type": "execute_result"
    }
   ],
   "source": [
    "# method ndim shows the number of dimensions of the DataFrame = 2 and Series = 1\n",
    "df_nba.ndim"
   ]
  },
  {
   "cell_type": "code",
   "execution_count": 25,
   "id": "5ce7971d",
   "metadata": {},
   "outputs": [
    {
     "data": {
      "text/plain": [
       "(450, 5)"
      ]
     },
     "execution_count": 25,
     "metadata": {},
     "output_type": "execute_result"
    }
   ],
   "source": [
    "# method shape shows the number of rows and columns\n",
    "df_nba.shape"
   ]
  },
  {
   "cell_type": "code",
   "execution_count": 26,
   "id": "9ebe5b5d",
   "metadata": {},
   "outputs": [
    {
     "data": {
      "text/plain": [
       "2250"
      ]
     },
     "execution_count": 26,
     "metadata": {},
     "output_type": "execute_result"
    }
   ],
   "source": [
    "# method size shows the number of elements in the DataFrame\n",
    "df_nba.size"
   ]
  },
  {
   "cell_type": "code",
   "execution_count": 27,
   "id": "d0e2886b",
   "metadata": {},
   "outputs": [
    {
     "data": {
      "application/vnd.microsoft.datawrangler.viewer.v0+json": {
       "columns": [
        {
         "name": "index",
         "rawType": "object",
         "type": "string"
        },
        {
         "name": "0",
         "rawType": "int64",
         "type": "integer"
        }
       ],
       "ref": "47f7d834-0bd4-4f72-815d-2aa02ea5d207",
       "rows": [
        [
         "Name",
         "450"
        ],
        [
         "Team",
         "450"
        ],
        [
         "Position",
         "450"
        ],
        [
         "Birthday",
         "450"
        ],
        [
         "Salary",
         "450"
        ]
       ],
       "shape": {
        "columns": 1,
        "rows": 5
       }
      },
      "text/plain": [
       "Name        450\n",
       "Team        450\n",
       "Position    450\n",
       "Birthday    450\n",
       "Salary      450\n",
       "dtype: int64"
      ]
     },
     "execution_count": 27,
     "metadata": {},
     "output_type": "execute_result"
    }
   ],
   "source": [
    "# method count shows the number of non-null values in each column\n",
    "df_nba.count()"
   ]
  },
  {
   "cell_type": "markdown",
   "id": "4620b39a",
   "metadata": {},
   "source": [
    "#### Shared Methods between Series and DataFrames"
   ]
  },
  {
   "cell_type": "code",
   "execution_count": 28,
   "id": "a5c060bd",
   "metadata": {},
   "outputs": [
    {
     "data": {
      "application/vnd.microsoft.datawrangler.viewer.v0+json": {
       "columns": [
        {
         "name": "index",
         "rawType": "int64",
         "type": "integer"
        },
        {
         "name": "Name",
         "rawType": "object",
         "type": "string"
        },
        {
         "name": "Team",
         "rawType": "object",
         "type": "string"
        },
        {
         "name": "Position",
         "rawType": "object",
         "type": "string"
        },
        {
         "name": "Birthday",
         "rawType": "datetime64[ns]",
         "type": "datetime"
        },
        {
         "name": "Salary",
         "rawType": "int64",
         "type": "integer"
        }
       ],
       "ref": "4629496c-b33e-41f0-93bb-d9b615553cf8",
       "rows": [
        [
         "0",
         "Shake Milton",
         "Philadelphia 76ers",
         "SG",
         "1996-09-26 00:00:00",
         "1445697"
        ],
        [
         "1",
         "Christian Wood",
         "Detroit Pistons",
         "PF",
         "1995-09-27 00:00:00",
         "1645357"
        ],
        [
         "2",
         "PJ Washington",
         "Charlotte Hornets",
         "PF",
         "1998-08-23 00:00:00",
         "3831840"
        ],
        [
         "3",
         "Derrick Rose",
         "Detroit Pistons",
         "PG",
         "1988-10-04 00:00:00",
         "7317074"
        ],
        [
         "4",
         "Marial Shayok",
         "Philadelphia 76ers",
         "G",
         "1995-07-26 00:00:00",
         "79568"
        ]
       ],
       "shape": {
        "columns": 5,
        "rows": 5
       }
      },
      "text/html": [
       "<div>\n",
       "<style scoped>\n",
       "    .dataframe tbody tr th:only-of-type {\n",
       "        vertical-align: middle;\n",
       "    }\n",
       "\n",
       "    .dataframe tbody tr th {\n",
       "        vertical-align: top;\n",
       "    }\n",
       "\n",
       "    .dataframe thead th {\n",
       "        text-align: right;\n",
       "    }\n",
       "</style>\n",
       "<table border=\"1\" class=\"dataframe\">\n",
       "  <thead>\n",
       "    <tr style=\"text-align: right;\">\n",
       "      <th></th>\n",
       "      <th>Name</th>\n",
       "      <th>Team</th>\n",
       "      <th>Position</th>\n",
       "      <th>Birthday</th>\n",
       "      <th>Salary</th>\n",
       "    </tr>\n",
       "  </thead>\n",
       "  <tbody>\n",
       "    <tr>\n",
       "      <th>0</th>\n",
       "      <td>Shake Milton</td>\n",
       "      <td>Philadelphia 76ers</td>\n",
       "      <td>SG</td>\n",
       "      <td>1996-09-26</td>\n",
       "      <td>1445697</td>\n",
       "    </tr>\n",
       "    <tr>\n",
       "      <th>1</th>\n",
       "      <td>Christian Wood</td>\n",
       "      <td>Detroit Pistons</td>\n",
       "      <td>PF</td>\n",
       "      <td>1995-09-27</td>\n",
       "      <td>1645357</td>\n",
       "    </tr>\n",
       "    <tr>\n",
       "      <th>2</th>\n",
       "      <td>PJ Washington</td>\n",
       "      <td>Charlotte Hornets</td>\n",
       "      <td>PF</td>\n",
       "      <td>1998-08-23</td>\n",
       "      <td>3831840</td>\n",
       "    </tr>\n",
       "    <tr>\n",
       "      <th>3</th>\n",
       "      <td>Derrick Rose</td>\n",
       "      <td>Detroit Pistons</td>\n",
       "      <td>PG</td>\n",
       "      <td>1988-10-04</td>\n",
       "      <td>7317074</td>\n",
       "    </tr>\n",
       "    <tr>\n",
       "      <th>4</th>\n",
       "      <td>Marial Shayok</td>\n",
       "      <td>Philadelphia 76ers</td>\n",
       "      <td>G</td>\n",
       "      <td>1995-07-26</td>\n",
       "      <td>79568</td>\n",
       "    </tr>\n",
       "  </tbody>\n",
       "</table>\n",
       "</div>"
      ],
      "text/plain": [
       "             Name                Team Position   Birthday   Salary\n",
       "0    Shake Milton  Philadelphia 76ers       SG 1996-09-26  1445697\n",
       "1  Christian Wood     Detroit Pistons       PF 1995-09-27  1645357\n",
       "2   PJ Washington   Charlotte Hornets       PF 1998-08-23  3831840\n",
       "3    Derrick Rose     Detroit Pistons       PG 1988-10-04  7317074\n",
       "4   Marial Shayok  Philadelphia 76ers        G 1995-07-26    79568"
      ]
     },
     "execution_count": 28,
     "metadata": {},
     "output_type": "execute_result"
    }
   ],
   "source": [
    "df_nba.head()"
   ]
  },
  {
   "cell_type": "code",
   "execution_count": 29,
   "id": "97dd239b",
   "metadata": {},
   "outputs": [
    {
     "data": {
      "application/vnd.microsoft.datawrangler.viewer.v0+json": {
       "columns": [
        {
         "name": "index",
         "rawType": "int64",
         "type": "integer"
        },
        {
         "name": "Name",
         "rawType": "object",
         "type": "string"
        },
        {
         "name": "Team",
         "rawType": "object",
         "type": "string"
        },
        {
         "name": "Position",
         "rawType": "object",
         "type": "string"
        },
        {
         "name": "Birthday",
         "rawType": "datetime64[ns]",
         "type": "datetime"
        },
        {
         "name": "Salary",
         "rawType": "int64",
         "type": "integer"
        }
       ],
       "ref": "409022e3-5ae5-4922-a014-f4c7b3a29501",
       "rows": [
        [
         "445",
         "Austin Rivers",
         "Houston Rockets",
         "PG",
         "1992-08-01 00:00:00",
         "2174310"
        ],
        [
         "446",
         "Harry Giles",
         "Sacramento Kings",
         "PF",
         "1998-04-22 00:00:00",
         "2578800"
        ],
        [
         "447",
         "Robin Lopez",
         "Milwaukee Bucks",
         "C",
         "1988-04-01 00:00:00",
         "4767000"
        ],
        [
         "448",
         "Collin Sexton",
         "Cleveland Cavaliers",
         "PG",
         "1999-01-04 00:00:00",
         "4764960"
        ],
        [
         "449",
         "Ricky Rubio",
         "Phoenix Suns",
         "PG",
         "1990-10-21 00:00:00",
         "16200000"
        ]
       ],
       "shape": {
        "columns": 5,
        "rows": 5
       }
      },
      "text/html": [
       "<div>\n",
       "<style scoped>\n",
       "    .dataframe tbody tr th:only-of-type {\n",
       "        vertical-align: middle;\n",
       "    }\n",
       "\n",
       "    .dataframe tbody tr th {\n",
       "        vertical-align: top;\n",
       "    }\n",
       "\n",
       "    .dataframe thead th {\n",
       "        text-align: right;\n",
       "    }\n",
       "</style>\n",
       "<table border=\"1\" class=\"dataframe\">\n",
       "  <thead>\n",
       "    <tr style=\"text-align: right;\">\n",
       "      <th></th>\n",
       "      <th>Name</th>\n",
       "      <th>Team</th>\n",
       "      <th>Position</th>\n",
       "      <th>Birthday</th>\n",
       "      <th>Salary</th>\n",
       "    </tr>\n",
       "  </thead>\n",
       "  <tbody>\n",
       "    <tr>\n",
       "      <th>445</th>\n",
       "      <td>Austin Rivers</td>\n",
       "      <td>Houston Rockets</td>\n",
       "      <td>PG</td>\n",
       "      <td>1992-08-01</td>\n",
       "      <td>2174310</td>\n",
       "    </tr>\n",
       "    <tr>\n",
       "      <th>446</th>\n",
       "      <td>Harry Giles</td>\n",
       "      <td>Sacramento Kings</td>\n",
       "      <td>PF</td>\n",
       "      <td>1998-04-22</td>\n",
       "      <td>2578800</td>\n",
       "    </tr>\n",
       "    <tr>\n",
       "      <th>447</th>\n",
       "      <td>Robin Lopez</td>\n",
       "      <td>Milwaukee Bucks</td>\n",
       "      <td>C</td>\n",
       "      <td>1988-04-01</td>\n",
       "      <td>4767000</td>\n",
       "    </tr>\n",
       "    <tr>\n",
       "      <th>448</th>\n",
       "      <td>Collin Sexton</td>\n",
       "      <td>Cleveland Cavaliers</td>\n",
       "      <td>PG</td>\n",
       "      <td>1999-01-04</td>\n",
       "      <td>4764960</td>\n",
       "    </tr>\n",
       "    <tr>\n",
       "      <th>449</th>\n",
       "      <td>Ricky Rubio</td>\n",
       "      <td>Phoenix Suns</td>\n",
       "      <td>PG</td>\n",
       "      <td>1990-10-21</td>\n",
       "      <td>16200000</td>\n",
       "    </tr>\n",
       "  </tbody>\n",
       "</table>\n",
       "</div>"
      ],
      "text/plain": [
       "              Name                 Team Position   Birthday    Salary\n",
       "445  Austin Rivers      Houston Rockets       PG 1992-08-01   2174310\n",
       "446    Harry Giles     Sacramento Kings       PF 1998-04-22   2578800\n",
       "447    Robin Lopez      Milwaukee Bucks        C 1988-04-01   4767000\n",
       "448  Collin Sexton  Cleveland Cavaliers       PG 1999-01-04   4764960\n",
       "449    Ricky Rubio         Phoenix Suns       PG 1990-10-21  16200000"
      ]
     },
     "execution_count": 29,
     "metadata": {},
     "output_type": "execute_result"
    }
   ],
   "source": [
    "df_nba.tail()"
   ]
  },
  {
   "cell_type": "code",
   "execution_count": 31,
   "id": "7c2bd02f",
   "metadata": {},
   "outputs": [
    {
     "data": {
      "application/vnd.microsoft.datawrangler.viewer.v0+json": {
       "columns": [
        {
         "name": "index",
         "rawType": "int64",
         "type": "integer"
        },
        {
         "name": "Name",
         "rawType": "object",
         "type": "string"
        },
        {
         "name": "Team",
         "rawType": "object",
         "type": "string"
        },
        {
         "name": "Position",
         "rawType": "object",
         "type": "string"
        },
        {
         "name": "Birthday",
         "rawType": "datetime64[ns]",
         "type": "datetime"
        },
        {
         "name": "Salary",
         "rawType": "int64",
         "type": "integer"
        }
       ],
       "ref": "266082e3-23cc-477d-9798-a804a6c7d413",
       "rows": [
        [
         "357",
         "Shabazz Napier",
         "Minnesota Timberwolves",
         "PG",
         "1991-07-14 00:00:00",
         "1845301"
        ],
        [
         "59",
         "Marcus Smart",
         "Boston Celtics",
         "PG",
         "1994-03-06 00:00:00",
         "12553571"
        ],
        [
         "168",
         "Justin James",
         "Sacramento Kings",
         "SG",
         "1997-01-24 00:00:00",
         "898310"
        ],
        [
         "1",
         "Christian Wood",
         "Detroit Pistons",
         "PF",
         "1995-09-27 00:00:00",
         "1645357"
        ],
        [
         "22",
         "George Hill",
         "Milwaukee Bucks",
         "PG",
         "1986-05-04 00:00:00",
         "10133907"
        ]
       ],
       "shape": {
        "columns": 5,
        "rows": 5
       }
      },
      "text/html": [
       "<div>\n",
       "<style scoped>\n",
       "    .dataframe tbody tr th:only-of-type {\n",
       "        vertical-align: middle;\n",
       "    }\n",
       "\n",
       "    .dataframe tbody tr th {\n",
       "        vertical-align: top;\n",
       "    }\n",
       "\n",
       "    .dataframe thead th {\n",
       "        text-align: right;\n",
       "    }\n",
       "</style>\n",
       "<table border=\"1\" class=\"dataframe\">\n",
       "  <thead>\n",
       "    <tr style=\"text-align: right;\">\n",
       "      <th></th>\n",
       "      <th>Name</th>\n",
       "      <th>Team</th>\n",
       "      <th>Position</th>\n",
       "      <th>Birthday</th>\n",
       "      <th>Salary</th>\n",
       "    </tr>\n",
       "  </thead>\n",
       "  <tbody>\n",
       "    <tr>\n",
       "      <th>357</th>\n",
       "      <td>Shabazz Napier</td>\n",
       "      <td>Minnesota Timberwolves</td>\n",
       "      <td>PG</td>\n",
       "      <td>1991-07-14</td>\n",
       "      <td>1845301</td>\n",
       "    </tr>\n",
       "    <tr>\n",
       "      <th>59</th>\n",
       "      <td>Marcus Smart</td>\n",
       "      <td>Boston Celtics</td>\n",
       "      <td>PG</td>\n",
       "      <td>1994-03-06</td>\n",
       "      <td>12553571</td>\n",
       "    </tr>\n",
       "    <tr>\n",
       "      <th>168</th>\n",
       "      <td>Justin James</td>\n",
       "      <td>Sacramento Kings</td>\n",
       "      <td>SG</td>\n",
       "      <td>1997-01-24</td>\n",
       "      <td>898310</td>\n",
       "    </tr>\n",
       "    <tr>\n",
       "      <th>1</th>\n",
       "      <td>Christian Wood</td>\n",
       "      <td>Detroit Pistons</td>\n",
       "      <td>PF</td>\n",
       "      <td>1995-09-27</td>\n",
       "      <td>1645357</td>\n",
       "    </tr>\n",
       "    <tr>\n",
       "      <th>22</th>\n",
       "      <td>George Hill</td>\n",
       "      <td>Milwaukee Bucks</td>\n",
       "      <td>PG</td>\n",
       "      <td>1986-05-04</td>\n",
       "      <td>10133907</td>\n",
       "    </tr>\n",
       "  </tbody>\n",
       "</table>\n",
       "</div>"
      ],
      "text/plain": [
       "               Name                    Team Position   Birthday    Salary\n",
       "357  Shabazz Napier  Minnesota Timberwolves       PG 1991-07-14   1845301\n",
       "59     Marcus Smart          Boston Celtics       PG 1994-03-06  12553571\n",
       "168    Justin James        Sacramento Kings       SG 1997-01-24    898310\n",
       "1    Christian Wood         Detroit Pistons       PF 1995-09-27   1645357\n",
       "22      George Hill         Milwaukee Bucks       PG 1986-05-04  10133907"
      ]
     },
     "execution_count": 31,
     "metadata": {},
     "output_type": "execute_result"
    }
   ],
   "source": [
    "# method sample shows random rows from the DataFrame\n",
    "df_nba.sample(5)"
   ]
  },
  {
   "cell_type": "code",
   "execution_count": 30,
   "id": "d0791436",
   "metadata": {},
   "outputs": [
    {
     "data": {
      "application/vnd.microsoft.datawrangler.viewer.v0+json": {
       "columns": [
        {
         "name": "index",
         "rawType": "object",
         "type": "string"
        },
        {
         "name": "0",
         "rawType": "int64",
         "type": "integer"
        }
       ],
       "ref": "9c169046-94b4-484d-a91d-8dc560f4647c",
       "rows": [
        [
         "Name",
         "450"
        ],
        [
         "Team",
         "30"
        ],
        [
         "Position",
         "9"
        ],
        [
         "Birthday",
         "430"
        ],
        [
         "Salary",
         "269"
        ]
       ],
       "shape": {
        "columns": 1,
        "rows": 5
       }
      },
      "text/plain": [
       "Name        450\n",
       "Team         30\n",
       "Position      9\n",
       "Birthday    430\n",
       "Salary      269\n",
       "dtype: int64"
      ]
     },
     "execution_count": 30,
     "metadata": {},
     "output_type": "execute_result"
    }
   ],
   "source": [
    "# method nunique shows the number of unique values in each column\n",
    "df_nba.nunique()"
   ]
  },
  {
   "cell_type": "code",
   "execution_count": 32,
   "id": "f4bad80e",
   "metadata": {},
   "outputs": [
    {
     "data": {
      "application/vnd.microsoft.datawrangler.viewer.v0+json": {
       "columns": [
        {
         "name": "index",
         "rawType": "object",
         "type": "string"
        },
        {
         "name": "0",
         "rawType": "object",
         "type": "unknown"
        }
       ],
       "ref": "de9a984c-fee2-47d7-a382-f505328245ac",
       "rows": [
        [
         "Name",
         "Zylan Cheatham"
        ],
        [
         "Team",
         "Washington Wizards"
        ],
        [
         "Position",
         "SG"
        ],
        [
         "Birthday",
         "2000-12-23 00:00:00"
        ],
        [
         "Salary",
         "40231758"
        ]
       ],
       "shape": {
        "columns": 1,
        "rows": 5
       }
      },
      "text/plain": [
       "Name             Zylan Cheatham\n",
       "Team         Washington Wizards\n",
       "Position                     SG\n",
       "Birthday    2000-12-23 00:00:00\n",
       "Salary                 40231758\n",
       "dtype: object"
      ]
     },
     "execution_count": 32,
     "metadata": {},
     "output_type": "execute_result"
    }
   ],
   "source": [
    "# method max shows the maximum value in each column. It's not one row with maximum values\n",
    "df_nba.max()"
   ]
  },
  {
   "cell_type": "code",
   "execution_count": 33,
   "id": "e8f29c73",
   "metadata": {},
   "outputs": [
    {
     "data": {
      "application/vnd.microsoft.datawrangler.viewer.v0+json": {
       "columns": [
        {
         "name": "index",
         "rawType": "int64",
         "type": "integer"
        },
        {
         "name": "Name",
         "rawType": "object",
         "type": "string"
        },
        {
         "name": "Team",
         "rawType": "object",
         "type": "string"
        },
        {
         "name": "Position",
         "rawType": "object",
         "type": "string"
        },
        {
         "name": "Birthday",
         "rawType": "datetime64[ns]",
         "type": "datetime"
        },
        {
         "name": "Salary",
         "rawType": "int64",
         "type": "integer"
        }
       ],
       "ref": "252176ac-8e4b-458f-9145-584274bb7a1a",
       "rows": [
        [
         "248",
         "Zylan Cheatham",
         "New Orleans Pelicans",
         "SF",
         "1995-11-17 00:00:00",
         "79568"
        ]
       ],
       "shape": {
        "columns": 5,
        "rows": 1
       }
      },
      "text/html": [
       "<div>\n",
       "<style scoped>\n",
       "    .dataframe tbody tr th:only-of-type {\n",
       "        vertical-align: middle;\n",
       "    }\n",
       "\n",
       "    .dataframe tbody tr th {\n",
       "        vertical-align: top;\n",
       "    }\n",
       "\n",
       "    .dataframe thead th {\n",
       "        text-align: right;\n",
       "    }\n",
       "</style>\n",
       "<table border=\"1\" class=\"dataframe\">\n",
       "  <thead>\n",
       "    <tr style=\"text-align: right;\">\n",
       "      <th></th>\n",
       "      <th>Name</th>\n",
       "      <th>Team</th>\n",
       "      <th>Position</th>\n",
       "      <th>Birthday</th>\n",
       "      <th>Salary</th>\n",
       "    </tr>\n",
       "  </thead>\n",
       "  <tbody>\n",
       "    <tr>\n",
       "      <th>248</th>\n",
       "      <td>Zylan Cheatham</td>\n",
       "      <td>New Orleans Pelicans</td>\n",
       "      <td>SF</td>\n",
       "      <td>1995-11-17</td>\n",
       "      <td>79568</td>\n",
       "    </tr>\n",
       "  </tbody>\n",
       "</table>\n",
       "</div>"
      ],
      "text/plain": [
       "               Name                  Team Position   Birthday  Salary\n",
       "248  Zylan Cheatham  New Orleans Pelicans       SF 1995-11-17   79568"
      ]
     },
     "execution_count": 33,
     "metadata": {},
     "output_type": "execute_result"
    }
   ],
   "source": [
    "df_nba[df_nba['Name'] == 'Zylan Cheatham']"
   ]
  },
  {
   "cell_type": "code",
   "execution_count": 34,
   "id": "12553e20",
   "metadata": {},
   "outputs": [
    {
     "data": {
      "application/vnd.microsoft.datawrangler.viewer.v0+json": {
       "columns": [
        {
         "name": "index",
         "rawType": "object",
         "type": "string"
        },
        {
         "name": "0",
         "rawType": "object",
         "type": "unknown"
        }
       ],
       "ref": "d4989ff5-518f-4af4-9781-51135dbe6271",
       "rows": [
        [
         "Name",
         "Aaron Gordon"
        ],
        [
         "Team",
         "Atlanta Hawks"
        ],
        [
         "Position",
         "C"
        ],
        [
         "Birthday",
         "1977-01-26 00:00:00"
        ],
        [
         "Salary",
         "79568"
        ]
       ],
       "shape": {
        "columns": 1,
        "rows": 5
       }
      },
      "text/plain": [
       "Name               Aaron Gordon\n",
       "Team              Atlanta Hawks\n",
       "Position                      C\n",
       "Birthday    1977-01-26 00:00:00\n",
       "Salary                    79568\n",
       "dtype: object"
      ]
     },
     "execution_count": 34,
     "metadata": {},
     "output_type": "execute_result"
    }
   ],
   "source": [
    "# method min shows the minimum value in each column. It's not one row with minimum values\n",
    "df_nba.min()"
   ]
  },
  {
   "cell_type": "code",
   "execution_count": 35,
   "id": "4a114d45",
   "metadata": {},
   "outputs": [
    {
     "data": {
      "application/vnd.microsoft.datawrangler.viewer.v0+json": {
       "columns": [
        {
         "name": "index",
         "rawType": "int64",
         "type": "integer"
        },
        {
         "name": "Name",
         "rawType": "object",
         "type": "string"
        },
        {
         "name": "Team",
         "rawType": "object",
         "type": "string"
        },
        {
         "name": "Position",
         "rawType": "object",
         "type": "string"
        },
        {
         "name": "Birthday",
         "rawType": "datetime64[ns]",
         "type": "datetime"
        },
        {
         "name": "Salary",
         "rawType": "int64",
         "type": "integer"
        }
       ],
       "ref": "0f1615a4-34eb-41d0-863f-6517383f3fb0",
       "rows": [
        [
         "205",
         "Stephen Curry",
         "Golden State Warriors",
         "PG",
         "1988-03-14 00:00:00",
         "40231758"
        ],
        [
         "38",
         "Chris Paul",
         "Oklahoma City Thunder",
         "PG",
         "1985-05-06 00:00:00",
         "38506482"
        ],
        [
         "219",
         "Russell Westbrook",
         "Houston Rockets",
         "PG",
         "1988-11-12 00:00:00",
         "38506482"
        ],
        [
         "251",
         "John Wall",
         "Washington Wizards",
         "PG",
         "1990-09-06 00:00:00",
         "38199000"
        ]
       ],
       "shape": {
        "columns": 5,
        "rows": 4
       }
      },
      "text/html": [
       "<div>\n",
       "<style scoped>\n",
       "    .dataframe tbody tr th:only-of-type {\n",
       "        vertical-align: middle;\n",
       "    }\n",
       "\n",
       "    .dataframe tbody tr th {\n",
       "        vertical-align: top;\n",
       "    }\n",
       "\n",
       "    .dataframe thead th {\n",
       "        text-align: right;\n",
       "    }\n",
       "</style>\n",
       "<table border=\"1\" class=\"dataframe\">\n",
       "  <thead>\n",
       "    <tr style=\"text-align: right;\">\n",
       "      <th></th>\n",
       "      <th>Name</th>\n",
       "      <th>Team</th>\n",
       "      <th>Position</th>\n",
       "      <th>Birthday</th>\n",
       "      <th>Salary</th>\n",
       "    </tr>\n",
       "  </thead>\n",
       "  <tbody>\n",
       "    <tr>\n",
       "      <th>205</th>\n",
       "      <td>Stephen Curry</td>\n",
       "      <td>Golden State Warriors</td>\n",
       "      <td>PG</td>\n",
       "      <td>1988-03-14</td>\n",
       "      <td>40231758</td>\n",
       "    </tr>\n",
       "    <tr>\n",
       "      <th>38</th>\n",
       "      <td>Chris Paul</td>\n",
       "      <td>Oklahoma City Thunder</td>\n",
       "      <td>PG</td>\n",
       "      <td>1985-05-06</td>\n",
       "      <td>38506482</td>\n",
       "    </tr>\n",
       "    <tr>\n",
       "      <th>219</th>\n",
       "      <td>Russell Westbrook</td>\n",
       "      <td>Houston Rockets</td>\n",
       "      <td>PG</td>\n",
       "      <td>1988-11-12</td>\n",
       "      <td>38506482</td>\n",
       "    </tr>\n",
       "    <tr>\n",
       "      <th>251</th>\n",
       "      <td>John Wall</td>\n",
       "      <td>Washington Wizards</td>\n",
       "      <td>PG</td>\n",
       "      <td>1990-09-06</td>\n",
       "      <td>38199000</td>\n",
       "    </tr>\n",
       "  </tbody>\n",
       "</table>\n",
       "</div>"
      ],
      "text/plain": [
       "                  Name                   Team Position   Birthday    Salary\n",
       "205      Stephen Curry  Golden State Warriors       PG 1988-03-14  40231758\n",
       "38          Chris Paul  Oklahoma City Thunder       PG 1985-05-06  38506482\n",
       "219  Russell Westbrook        Houston Rockets       PG 1988-11-12  38506482\n",
       "251          John Wall     Washington Wizards       PG 1990-09-06  38199000"
      ]
     },
     "execution_count": 35,
     "metadata": {},
     "output_type": "execute_result"
    }
   ],
   "source": [
    "# method nlargest shows the n largest values in a column\n",
    "df_nba.nlargest(n=4, columns='Salary')"
   ]
  },
  {
   "cell_type": "code",
   "execution_count": 36,
   "id": "a7e7e7b7",
   "metadata": {},
   "outputs": [
    {
     "data": {
      "application/vnd.microsoft.datawrangler.viewer.v0+json": {
       "columns": [
        {
         "name": "index",
         "rawType": "int64",
         "type": "integer"
        },
        {
         "name": "Name",
         "rawType": "object",
         "type": "string"
        },
        {
         "name": "Team",
         "rawType": "object",
         "type": "string"
        },
        {
         "name": "Position",
         "rawType": "object",
         "type": "string"
        },
        {
         "name": "Birthday",
         "rawType": "datetime64[ns]",
         "type": "datetime"
        },
        {
         "name": "Salary",
         "rawType": "int64",
         "type": "integer"
        }
       ],
       "ref": "38461a2b-0718-4fe3-86f4-931da638f978",
       "rows": [
        [
         "98",
         "Vince Carter",
         "Atlanta Hawks",
         "PF",
         "1977-01-26 00:00:00",
         "2564753"
        ],
        [
         "196",
         "Udonis Haslem",
         "Miami Heat",
         "C",
         "1980-06-09 00:00:00",
         "2564753"
        ],
        [
         "262",
         "Kyle Korver",
         "Milwaukee Bucks",
         "PF",
         "1981-03-17 00:00:00",
         "6004753"
        ],
        [
         "149",
         "Tyson Chandler",
         "Houston Rockets",
         "C",
         "1982-10-02 00:00:00",
         "2564753"
        ]
       ],
       "shape": {
        "columns": 5,
        "rows": 4
       }
      },
      "text/html": [
       "<div>\n",
       "<style scoped>\n",
       "    .dataframe tbody tr th:only-of-type {\n",
       "        vertical-align: middle;\n",
       "    }\n",
       "\n",
       "    .dataframe tbody tr th {\n",
       "        vertical-align: top;\n",
       "    }\n",
       "\n",
       "    .dataframe thead th {\n",
       "        text-align: right;\n",
       "    }\n",
       "</style>\n",
       "<table border=\"1\" class=\"dataframe\">\n",
       "  <thead>\n",
       "    <tr style=\"text-align: right;\">\n",
       "      <th></th>\n",
       "      <th>Name</th>\n",
       "      <th>Team</th>\n",
       "      <th>Position</th>\n",
       "      <th>Birthday</th>\n",
       "      <th>Salary</th>\n",
       "    </tr>\n",
       "  </thead>\n",
       "  <tbody>\n",
       "    <tr>\n",
       "      <th>98</th>\n",
       "      <td>Vince Carter</td>\n",
       "      <td>Atlanta Hawks</td>\n",
       "      <td>PF</td>\n",
       "      <td>1977-01-26</td>\n",
       "      <td>2564753</td>\n",
       "    </tr>\n",
       "    <tr>\n",
       "      <th>196</th>\n",
       "      <td>Udonis Haslem</td>\n",
       "      <td>Miami Heat</td>\n",
       "      <td>C</td>\n",
       "      <td>1980-06-09</td>\n",
       "      <td>2564753</td>\n",
       "    </tr>\n",
       "    <tr>\n",
       "      <th>262</th>\n",
       "      <td>Kyle Korver</td>\n",
       "      <td>Milwaukee Bucks</td>\n",
       "      <td>PF</td>\n",
       "      <td>1981-03-17</td>\n",
       "      <td>6004753</td>\n",
       "    </tr>\n",
       "    <tr>\n",
       "      <th>149</th>\n",
       "      <td>Tyson Chandler</td>\n",
       "      <td>Houston Rockets</td>\n",
       "      <td>C</td>\n",
       "      <td>1982-10-02</td>\n",
       "      <td>2564753</td>\n",
       "    </tr>\n",
       "  </tbody>\n",
       "</table>\n",
       "</div>"
      ],
      "text/plain": [
       "               Name             Team Position   Birthday   Salary\n",
       "98     Vince Carter    Atlanta Hawks       PF 1977-01-26  2564753\n",
       "196   Udonis Haslem       Miami Heat        C 1980-06-09  2564753\n",
       "262     Kyle Korver  Milwaukee Bucks       PF 1981-03-17  6004753\n",
       "149  Tyson Chandler  Houston Rockets        C 1982-10-02  2564753"
      ]
     },
     "execution_count": 36,
     "metadata": {},
     "output_type": "execute_result"
    }
   ],
   "source": [
    "# method nsmallest shows the n smallest values in a column\n",
    "df_nba.nsmallest(n=4, columns='Birthday')"
   ]
  },
  {
   "cell_type": "markdown",
   "id": "20db779a",
   "metadata": {},
   "source": [
    "**Find the salary sum**"
   ]
  },
  {
   "cell_type": "code",
   "execution_count": 37,
   "id": "1f546238",
   "metadata": {},
   "outputs": [
    {
     "data": {
      "application/vnd.microsoft.datawrangler.viewer.v0+json": {
       "columns": [
        {
         "name": "index",
         "rawType": "object",
         "type": "string"
        },
        {
         "name": "0",
         "rawType": "int64",
         "type": "integer"
        }
       ],
       "ref": "b7f06783-b800-44ce-b3ef-941c0c25b097",
       "rows": [
        [
         "Salary",
         "3444112694"
        ]
       ],
       "shape": {
        "columns": 1,
        "rows": 1
       }
      },
      "text/plain": [
       "Salary    3444112694\n",
       "dtype: int64"
      ]
     },
     "execution_count": 37,
     "metadata": {},
     "output_type": "execute_result"
    }
   ],
   "source": [
    "# numeric_only parameter returns only numeric columns\n",
    "df_nba.sum(numeric_only=True)"
   ]
  },
  {
   "cell_type": "markdown",
   "id": "c45fe7b9",
   "metadata": {},
   "source": [
    "**Average salary in the NBA**"
   ]
  },
  {
   "cell_type": "code",
   "execution_count": 38,
   "id": "420ccd1c",
   "metadata": {},
   "outputs": [
    {
     "data": {
      "application/vnd.microsoft.datawrangler.viewer.v0+json": {
       "columns": [
        {
         "name": "index",
         "rawType": "object",
         "type": "string"
        },
        {
         "name": "0",
         "rawType": "float64",
         "type": "float"
        }
       ],
       "ref": "4c00a8a7-4d83-4f6f-9582-60c2c5f03439",
       "rows": [
        [
         "Salary",
         "7653583.76"
        ]
       ],
       "shape": {
        "columns": 1,
        "rows": 1
       }
      },
      "text/plain": [
       "Salary    7653583.76\n",
       "dtype: float64"
      ]
     },
     "execution_count": 38,
     "metadata": {},
     "output_type": "execute_result"
    }
   ],
   "source": [
    "# method mean shows the mean value in each numeric column\n",
    "df_nba.mean(numeric_only=True).round(2)"
   ]
  },
  {
   "cell_type": "code",
   "execution_count": 39,
   "id": "d24dc911",
   "metadata": {},
   "outputs": [
    {
     "data": {
      "application/vnd.microsoft.datawrangler.viewer.v0+json": {
       "columns": [
        {
         "name": "index",
         "rawType": "object",
         "type": "string"
        },
        {
         "name": "0",
         "rawType": "float64",
         "type": "float"
        }
       ],
       "ref": "4e4ed58c-e862-4487-ba4b-00b82a4c6144",
       "rows": [
        [
         "Salary",
         "3303074.5"
        ]
       ],
       "shape": {
        "columns": 1,
        "rows": 1
       }
      },
      "text/plain": [
       "Salary    3303074.5\n",
       "dtype: float64"
      ]
     },
     "execution_count": 39,
     "metadata": {},
     "output_type": "execute_result"
    }
   ],
   "source": [
    "# method median shows the median value in each numeric column\n",
    "df_nba.median(numeric_only=True).round(2)"
   ]
  },
  {
   "cell_type": "code",
   "execution_count": 40,
   "id": "4cc771e4",
   "metadata": {},
   "outputs": [
    {
     "data": {
      "application/vnd.microsoft.datawrangler.viewer.v0+json": {
       "columns": [
        {
         "name": "index",
         "rawType": "int64",
         "type": "integer"
        },
        {
         "name": "Salary",
         "rawType": "int64",
         "type": "integer"
        }
       ],
       "ref": "4fc35504-79db-4a59-b65b-bc9bf05d4df4",
       "rows": [
        [
         "0",
         "79568"
        ]
       ],
       "shape": {
        "columns": 1,
        "rows": 1
       }
      },
      "text/html": [
       "<div>\n",
       "<style scoped>\n",
       "    .dataframe tbody tr th:only-of-type {\n",
       "        vertical-align: middle;\n",
       "    }\n",
       "\n",
       "    .dataframe tbody tr th {\n",
       "        vertical-align: top;\n",
       "    }\n",
       "\n",
       "    .dataframe thead th {\n",
       "        text-align: right;\n",
       "    }\n",
       "</style>\n",
       "<table border=\"1\" class=\"dataframe\">\n",
       "  <thead>\n",
       "    <tr style=\"text-align: right;\">\n",
       "      <th></th>\n",
       "      <th>Salary</th>\n",
       "    </tr>\n",
       "  </thead>\n",
       "  <tbody>\n",
       "    <tr>\n",
       "      <th>0</th>\n",
       "      <td>79568</td>\n",
       "    </tr>\n",
       "  </tbody>\n",
       "</table>\n",
       "</div>"
      ],
      "text/plain": [
       "   Salary\n",
       "0   79568"
      ]
     },
     "execution_count": 40,
     "metadata": {},
     "output_type": "execute_result"
    }
   ],
   "source": [
    "# method mode shows the most frequently occurring value in each column\n",
    "df_nba.mode(numeric_only=True)"
   ]
  },
  {
   "cell_type": "code",
   "execution_count": 41,
   "id": "402c7ce2",
   "metadata": {},
   "outputs": [
    {
     "data": {
      "application/vnd.microsoft.datawrangler.viewer.v0+json": {
       "columns": [
        {
         "name": "index",
         "rawType": "object",
         "type": "string"
        },
        {
         "name": "0",
         "rawType": "float64",
         "type": "float"
        }
       ],
       "ref": "c6045d2a-5daf-4f15-bf28-a5c0db104d22",
       "rows": [
        [
         "Salary",
         "9288810.3"
        ]
       ],
       "shape": {
        "columns": 1,
        "rows": 1
       }
      },
      "text/plain": [
       "Salary    9288810.3\n",
       "dtype: float64"
      ]
     },
     "execution_count": 41,
     "metadata": {},
     "output_type": "execute_result"
    }
   ],
   "source": [
    "# method std shows the standard deviation in each numeric column\n",
    "df_nba.std(numeric_only=True).round(2)"
   ]
  },
  {
   "cell_type": "markdown",
   "id": "0b997df3",
   "metadata": {},
   "source": [
    "#### Sorting a DataFrame"
   ]
  },
  {
   "cell_type": "code",
   "execution_count": 42,
   "id": "011d9e64",
   "metadata": {},
   "outputs": [
    {
     "data": {
      "application/vnd.microsoft.datawrangler.viewer.v0+json": {
       "columns": [
        {
         "name": "index",
         "rawType": "int64",
         "type": "integer"
        },
        {
         "name": "Name",
         "rawType": "object",
         "type": "string"
        },
        {
         "name": "Team",
         "rawType": "object",
         "type": "string"
        },
        {
         "name": "Position",
         "rawType": "object",
         "type": "string"
        },
        {
         "name": "Birthday",
         "rawType": "datetime64[ns]",
         "type": "datetime"
        },
        {
         "name": "Salary",
         "rawType": "int64",
         "type": "integer"
        }
       ],
       "ref": "e5d38726-dced-45c2-b752-435d6193d45a",
       "rows": [
        [
         "205",
         "Stephen Curry",
         "Golden State Warriors",
         "PG",
         "1988-03-14 00:00:00",
         "40231758"
        ],
        [
         "219",
         "Russell Westbrook",
         "Houston Rockets",
         "PG",
         "1988-11-12 00:00:00",
         "38506482"
        ],
        [
         "38",
         "Chris Paul",
         "Oklahoma City Thunder",
         "PG",
         "1985-05-06 00:00:00",
         "38506482"
        ],
        [
         "251",
         "John Wall",
         "Washington Wizards",
         "PG",
         "1990-09-06 00:00:00",
         "38199000"
        ],
        [
         "264",
         "James Harden",
         "Houston Rockets",
         "PG",
         "1989-08-26 00:00:00",
         "38199000"
        ]
       ],
       "shape": {
        "columns": 5,
        "rows": 5
       }
      },
      "text/html": [
       "<div>\n",
       "<style scoped>\n",
       "    .dataframe tbody tr th:only-of-type {\n",
       "        vertical-align: middle;\n",
       "    }\n",
       "\n",
       "    .dataframe tbody tr th {\n",
       "        vertical-align: top;\n",
       "    }\n",
       "\n",
       "    .dataframe thead th {\n",
       "        text-align: right;\n",
       "    }\n",
       "</style>\n",
       "<table border=\"1\" class=\"dataframe\">\n",
       "  <thead>\n",
       "    <tr style=\"text-align: right;\">\n",
       "      <th></th>\n",
       "      <th>Name</th>\n",
       "      <th>Team</th>\n",
       "      <th>Position</th>\n",
       "      <th>Birthday</th>\n",
       "      <th>Salary</th>\n",
       "    </tr>\n",
       "  </thead>\n",
       "  <tbody>\n",
       "    <tr>\n",
       "      <th>205</th>\n",
       "      <td>Stephen Curry</td>\n",
       "      <td>Golden State Warriors</td>\n",
       "      <td>PG</td>\n",
       "      <td>1988-03-14</td>\n",
       "      <td>40231758</td>\n",
       "    </tr>\n",
       "    <tr>\n",
       "      <th>219</th>\n",
       "      <td>Russell Westbrook</td>\n",
       "      <td>Houston Rockets</td>\n",
       "      <td>PG</td>\n",
       "      <td>1988-11-12</td>\n",
       "      <td>38506482</td>\n",
       "    </tr>\n",
       "    <tr>\n",
       "      <th>38</th>\n",
       "      <td>Chris Paul</td>\n",
       "      <td>Oklahoma City Thunder</td>\n",
       "      <td>PG</td>\n",
       "      <td>1985-05-06</td>\n",
       "      <td>38506482</td>\n",
       "    </tr>\n",
       "    <tr>\n",
       "      <th>251</th>\n",
       "      <td>John Wall</td>\n",
       "      <td>Washington Wizards</td>\n",
       "      <td>PG</td>\n",
       "      <td>1990-09-06</td>\n",
       "      <td>38199000</td>\n",
       "    </tr>\n",
       "    <tr>\n",
       "      <th>264</th>\n",
       "      <td>James Harden</td>\n",
       "      <td>Houston Rockets</td>\n",
       "      <td>PG</td>\n",
       "      <td>1989-08-26</td>\n",
       "      <td>38199000</td>\n",
       "    </tr>\n",
       "  </tbody>\n",
       "</table>\n",
       "</div>"
      ],
      "text/plain": [
       "                  Name                   Team Position   Birthday    Salary\n",
       "205      Stephen Curry  Golden State Warriors       PG 1988-03-14  40231758\n",
       "219  Russell Westbrook        Houston Rockets       PG 1988-11-12  38506482\n",
       "38          Chris Paul  Oklahoma City Thunder       PG 1985-05-06  38506482\n",
       "251          John Wall     Washington Wizards       PG 1990-09-06  38199000\n",
       "264       James Harden        Houston Rockets       PG 1989-08-26  38199000"
      ]
     },
     "execution_count": 42,
     "metadata": {},
     "output_type": "execute_result"
    }
   ],
   "source": [
    "# Sorting by a single column\n",
    "df_nba.sort_values(by='Salary', ascending=False).head()"
   ]
  },
  {
   "cell_type": "code",
   "execution_count": 43,
   "id": "948d22e6",
   "metadata": {},
   "outputs": [
    {
     "data": {
      "application/vnd.microsoft.datawrangler.viewer.v0+json": {
       "columns": [
        {
         "name": "index",
         "rawType": "int64",
         "type": "integer"
        },
        {
         "name": "Name",
         "rawType": "object",
         "type": "string"
        },
        {
         "name": "Team",
         "rawType": "object",
         "type": "string"
        },
        {
         "name": "Position",
         "rawType": "object",
         "type": "string"
        },
        {
         "name": "Birthday",
         "rawType": "datetime64[ns]",
         "type": "datetime"
        },
        {
         "name": "Salary",
         "rawType": "int64",
         "type": "integer"
        }
       ],
       "ref": "f2b3413f-01e9-4eca-82fe-0ed7d96b4830",
       "rows": [
        [
         "52",
         "Aaron Gordon",
         "Orlando Magic",
         "PF",
         "1995-09-16 00:00:00",
         "19863636"
        ],
        [
         "101",
         "Aaron Holiday",
         "Indiana Pacers",
         "PG",
         "1996-09-30 00:00:00",
         "2239200"
        ],
        [
         "437",
         "Abdel Nader",
         "Oklahoma City Thunder",
         "SF",
         "1993-09-25 00:00:00",
         "1618520"
        ],
        [
         "81",
         "Adam Mokoka",
         "Chicago Bulls",
         "G",
         "1998-07-18 00:00:00",
         "79568"
        ],
        [
         "399",
         "Admiral Schofield",
         "Washington Wizards",
         "SF",
         "1997-03-30 00:00:00",
         "1000000"
        ]
       ],
       "shape": {
        "columns": 5,
        "rows": 5
       }
      },
      "text/html": [
       "<div>\n",
       "<style scoped>\n",
       "    .dataframe tbody tr th:only-of-type {\n",
       "        vertical-align: middle;\n",
       "    }\n",
       "\n",
       "    .dataframe tbody tr th {\n",
       "        vertical-align: top;\n",
       "    }\n",
       "\n",
       "    .dataframe thead th {\n",
       "        text-align: right;\n",
       "    }\n",
       "</style>\n",
       "<table border=\"1\" class=\"dataframe\">\n",
       "  <thead>\n",
       "    <tr style=\"text-align: right;\">\n",
       "      <th></th>\n",
       "      <th>Name</th>\n",
       "      <th>Team</th>\n",
       "      <th>Position</th>\n",
       "      <th>Birthday</th>\n",
       "      <th>Salary</th>\n",
       "    </tr>\n",
       "  </thead>\n",
       "  <tbody>\n",
       "    <tr>\n",
       "      <th>52</th>\n",
       "      <td>Aaron Gordon</td>\n",
       "      <td>Orlando Magic</td>\n",
       "      <td>PF</td>\n",
       "      <td>1995-09-16</td>\n",
       "      <td>19863636</td>\n",
       "    </tr>\n",
       "    <tr>\n",
       "      <th>101</th>\n",
       "      <td>Aaron Holiday</td>\n",
       "      <td>Indiana Pacers</td>\n",
       "      <td>PG</td>\n",
       "      <td>1996-09-30</td>\n",
       "      <td>2239200</td>\n",
       "    </tr>\n",
       "    <tr>\n",
       "      <th>437</th>\n",
       "      <td>Abdel Nader</td>\n",
       "      <td>Oklahoma City Thunder</td>\n",
       "      <td>SF</td>\n",
       "      <td>1993-09-25</td>\n",
       "      <td>1618520</td>\n",
       "    </tr>\n",
       "    <tr>\n",
       "      <th>81</th>\n",
       "      <td>Adam Mokoka</td>\n",
       "      <td>Chicago Bulls</td>\n",
       "      <td>G</td>\n",
       "      <td>1998-07-18</td>\n",
       "      <td>79568</td>\n",
       "    </tr>\n",
       "    <tr>\n",
       "      <th>399</th>\n",
       "      <td>Admiral Schofield</td>\n",
       "      <td>Washington Wizards</td>\n",
       "      <td>SF</td>\n",
       "      <td>1997-03-30</td>\n",
       "      <td>1000000</td>\n",
       "    </tr>\n",
       "  </tbody>\n",
       "</table>\n",
       "</div>"
      ],
      "text/plain": [
       "                  Name                   Team Position   Birthday    Salary\n",
       "52        Aaron Gordon          Orlando Magic       PF 1995-09-16  19863636\n",
       "101      Aaron Holiday         Indiana Pacers       PG 1996-09-30   2239200\n",
       "437        Abdel Nader  Oklahoma City Thunder       SF 1993-09-25   1618520\n",
       "81         Adam Mokoka          Chicago Bulls        G 1998-07-18     79568\n",
       "399  Admiral Schofield     Washington Wizards       SF 1997-03-30   1000000"
      ]
     },
     "execution_count": 43,
     "metadata": {},
     "output_type": "execute_result"
    }
   ],
   "source": [
    "# Same result using the .sort_index() method    \n",
    "df_nba.sort_values('Name').head()"
   ]
  },
  {
   "cell_type": "markdown",
   "id": "60e5866a",
   "metadata": {},
   "source": [
    "**Sorting by few columns**"
   ]
  },
  {
   "cell_type": "code",
   "execution_count": 44,
   "id": "0b5125db",
   "metadata": {},
   "outputs": [
    {
     "data": {
      "application/vnd.microsoft.datawrangler.viewer.v0+json": {
       "columns": [
        {
         "name": "index",
         "rawType": "int64",
         "type": "integer"
        },
        {
         "name": "Name",
         "rawType": "object",
         "type": "string"
        },
        {
         "name": "Team",
         "rawType": "object",
         "type": "string"
        },
        {
         "name": "Position",
         "rawType": "object",
         "type": "string"
        },
        {
         "name": "Birthday",
         "rawType": "datetime64[ns]",
         "type": "datetime"
        },
        {
         "name": "Salary",
         "rawType": "int64",
         "type": "integer"
        }
       ],
       "ref": "168edd57-1439-4b23-af77-4b4238932df5",
       "rows": [
        [
         "111",
         "Chandler Parsons",
         "Atlanta Hawks",
         "SF",
         "1988-10-25 00:00:00",
         "25102512"
        ],
        [
         "28",
         "Evan Turner",
         "Atlanta Hawks",
         "PG",
         "1988-10-27 00:00:00",
         "18606556"
        ],
        [
         "167",
         "Allen Crabbe",
         "Atlanta Hawks",
         "SG",
         "1992-04-09 00:00:00",
         "18500000"
        ],
        [
         "213",
         "De'Andre Hunter",
         "Atlanta Hawks",
         "SF",
         "1997-12-02 00:00:00",
         "7068360"
        ],
        [
         "339",
         "Jabari Parker",
         "Atlanta Hawks",
         "PF",
         "1995-03-15 00:00:00",
         "6500000"
        ]
       ],
       "shape": {
        "columns": 5,
        "rows": 5
       }
      },
      "text/html": [
       "<div>\n",
       "<style scoped>\n",
       "    .dataframe tbody tr th:only-of-type {\n",
       "        vertical-align: middle;\n",
       "    }\n",
       "\n",
       "    .dataframe tbody tr th {\n",
       "        vertical-align: top;\n",
       "    }\n",
       "\n",
       "    .dataframe thead th {\n",
       "        text-align: right;\n",
       "    }\n",
       "</style>\n",
       "<table border=\"1\" class=\"dataframe\">\n",
       "  <thead>\n",
       "    <tr style=\"text-align: right;\">\n",
       "      <th></th>\n",
       "      <th>Name</th>\n",
       "      <th>Team</th>\n",
       "      <th>Position</th>\n",
       "      <th>Birthday</th>\n",
       "      <th>Salary</th>\n",
       "    </tr>\n",
       "  </thead>\n",
       "  <tbody>\n",
       "    <tr>\n",
       "      <th>111</th>\n",
       "      <td>Chandler Parsons</td>\n",
       "      <td>Atlanta Hawks</td>\n",
       "      <td>SF</td>\n",
       "      <td>1988-10-25</td>\n",
       "      <td>25102512</td>\n",
       "    </tr>\n",
       "    <tr>\n",
       "      <th>28</th>\n",
       "      <td>Evan Turner</td>\n",
       "      <td>Atlanta Hawks</td>\n",
       "      <td>PG</td>\n",
       "      <td>1988-10-27</td>\n",
       "      <td>18606556</td>\n",
       "    </tr>\n",
       "    <tr>\n",
       "      <th>167</th>\n",
       "      <td>Allen Crabbe</td>\n",
       "      <td>Atlanta Hawks</td>\n",
       "      <td>SG</td>\n",
       "      <td>1992-04-09</td>\n",
       "      <td>18500000</td>\n",
       "    </tr>\n",
       "    <tr>\n",
       "      <th>213</th>\n",
       "      <td>De'Andre Hunter</td>\n",
       "      <td>Atlanta Hawks</td>\n",
       "      <td>SF</td>\n",
       "      <td>1997-12-02</td>\n",
       "      <td>7068360</td>\n",
       "    </tr>\n",
       "    <tr>\n",
       "      <th>339</th>\n",
       "      <td>Jabari Parker</td>\n",
       "      <td>Atlanta Hawks</td>\n",
       "      <td>PF</td>\n",
       "      <td>1995-03-15</td>\n",
       "      <td>6500000</td>\n",
       "    </tr>\n",
       "  </tbody>\n",
       "</table>\n",
       "</div>"
      ],
      "text/plain": [
       "                 Name           Team Position   Birthday    Salary\n",
       "111  Chandler Parsons  Atlanta Hawks       SF 1988-10-25  25102512\n",
       "28        Evan Turner  Atlanta Hawks       PG 1988-10-27  18606556\n",
       "167      Allen Crabbe  Atlanta Hawks       SG 1992-04-09  18500000\n",
       "213   De'Andre Hunter  Atlanta Hawks       SF 1997-12-02   7068360\n",
       "339     Jabari Parker  Atlanta Hawks       PF 1995-03-15   6500000"
      ]
     },
     "execution_count": 44,
     "metadata": {},
     "output_type": "execute_result"
    }
   ],
   "source": [
    "# using different sorting orders for multiple columns ascending=[True, False]\n",
    "df_nba.sort_values(by=['Team', 'Salary'], ascending=[True, False]).head()"
   ]
  },
  {
   "cell_type": "markdown",
   "id": "cd8dc824",
   "metadata": {},
   "source": [
    "**Sorting by index**"
   ]
  },
  {
   "cell_type": "code",
   "execution_count": 45,
   "id": "99275aae",
   "metadata": {},
   "outputs": [
    {
     "data": {
      "application/vnd.microsoft.datawrangler.viewer.v0+json": {
       "columns": [
        {
         "name": "index",
         "rawType": "int64",
         "type": "integer"
        },
        {
         "name": "Name",
         "rawType": "object",
         "type": "string"
        },
        {
         "name": "Team",
         "rawType": "object",
         "type": "string"
        },
        {
         "name": "Position",
         "rawType": "object",
         "type": "string"
        },
        {
         "name": "Birthday",
         "rawType": "datetime64[ns]",
         "type": "datetime"
        },
        {
         "name": "Salary",
         "rawType": "int64",
         "type": "integer"
        }
       ],
       "ref": "c9d2b73f-b366-4ccc-8672-4b40dfda57c6",
       "rows": [
        [
         "0",
         "Shake Milton",
         "Philadelphia 76ers",
         "SG",
         "1996-09-26 00:00:00",
         "1445697"
        ],
        [
         "1",
         "Christian Wood",
         "Detroit Pistons",
         "PF",
         "1995-09-27 00:00:00",
         "1645357"
        ],
        [
         "2",
         "PJ Washington",
         "Charlotte Hornets",
         "PF",
         "1998-08-23 00:00:00",
         "3831840"
        ],
        [
         "3",
         "Derrick Rose",
         "Detroit Pistons",
         "PG",
         "1988-10-04 00:00:00",
         "7317074"
        ],
        [
         "4",
         "Marial Shayok",
         "Philadelphia 76ers",
         "G",
         "1995-07-26 00:00:00",
         "79568"
        ]
       ],
       "shape": {
        "columns": 5,
        "rows": 5
       }
      },
      "text/html": [
       "<div>\n",
       "<style scoped>\n",
       "    .dataframe tbody tr th:only-of-type {\n",
       "        vertical-align: middle;\n",
       "    }\n",
       "\n",
       "    .dataframe tbody tr th {\n",
       "        vertical-align: top;\n",
       "    }\n",
       "\n",
       "    .dataframe thead th {\n",
       "        text-align: right;\n",
       "    }\n",
       "</style>\n",
       "<table border=\"1\" class=\"dataframe\">\n",
       "  <thead>\n",
       "    <tr style=\"text-align: right;\">\n",
       "      <th></th>\n",
       "      <th>Name</th>\n",
       "      <th>Team</th>\n",
       "      <th>Position</th>\n",
       "      <th>Birthday</th>\n",
       "      <th>Salary</th>\n",
       "    </tr>\n",
       "  </thead>\n",
       "  <tbody>\n",
       "    <tr>\n",
       "      <th>0</th>\n",
       "      <td>Shake Milton</td>\n",
       "      <td>Philadelphia 76ers</td>\n",
       "      <td>SG</td>\n",
       "      <td>1996-09-26</td>\n",
       "      <td>1445697</td>\n",
       "    </tr>\n",
       "    <tr>\n",
       "      <th>1</th>\n",
       "      <td>Christian Wood</td>\n",
       "      <td>Detroit Pistons</td>\n",
       "      <td>PF</td>\n",
       "      <td>1995-09-27</td>\n",
       "      <td>1645357</td>\n",
       "    </tr>\n",
       "    <tr>\n",
       "      <th>2</th>\n",
       "      <td>PJ Washington</td>\n",
       "      <td>Charlotte Hornets</td>\n",
       "      <td>PF</td>\n",
       "      <td>1998-08-23</td>\n",
       "      <td>3831840</td>\n",
       "    </tr>\n",
       "    <tr>\n",
       "      <th>3</th>\n",
       "      <td>Derrick Rose</td>\n",
       "      <td>Detroit Pistons</td>\n",
       "      <td>PG</td>\n",
       "      <td>1988-10-04</td>\n",
       "      <td>7317074</td>\n",
       "    </tr>\n",
       "    <tr>\n",
       "      <th>4</th>\n",
       "      <td>Marial Shayok</td>\n",
       "      <td>Philadelphia 76ers</td>\n",
       "      <td>G</td>\n",
       "      <td>1995-07-26</td>\n",
       "      <td>79568</td>\n",
       "    </tr>\n",
       "  </tbody>\n",
       "</table>\n",
       "</div>"
      ],
      "text/plain": [
       "             Name                Team Position   Birthday   Salary\n",
       "0    Shake Milton  Philadelphia 76ers       SG 1996-09-26  1445697\n",
       "1  Christian Wood     Detroit Pistons       PF 1995-09-27  1645357\n",
       "2   PJ Washington   Charlotte Hornets       PF 1998-08-23  3831840\n",
       "3    Derrick Rose     Detroit Pistons       PG 1988-10-04  7317074\n",
       "4   Marial Shayok  Philadelphia 76ers        G 1995-07-26    79568"
      ]
     },
     "execution_count": 45,
     "metadata": {},
     "output_type": "execute_result"
    }
   ],
   "source": [
    "df_nba.sort_index(ascending=True).head()"
   ]
  },
  {
   "cell_type": "code",
   "execution_count": 46,
   "id": "4a181c74",
   "metadata": {},
   "outputs": [
    {
     "data": {
      "application/vnd.microsoft.datawrangler.viewer.v0+json": {
       "columns": [
        {
         "name": "index",
         "rawType": "int64",
         "type": "integer"
        },
        {
         "name": "Name",
         "rawType": "object",
         "type": "string"
        },
        {
         "name": "Team",
         "rawType": "object",
         "type": "string"
        },
        {
         "name": "Position",
         "rawType": "object",
         "type": "string"
        },
        {
         "name": "Birthday",
         "rawType": "datetime64[ns]",
         "type": "datetime"
        },
        {
         "name": "Salary",
         "rawType": "int64",
         "type": "integer"
        }
       ],
       "ref": "9ee86d2d-28af-4875-818e-dc83caa8525f",
       "rows": [
        [
         "449",
         "Ricky Rubio",
         "Phoenix Suns",
         "PG",
         "1990-10-21 00:00:00",
         "16200000"
        ],
        [
         "448",
         "Collin Sexton",
         "Cleveland Cavaliers",
         "PG",
         "1999-01-04 00:00:00",
         "4764960"
        ],
        [
         "447",
         "Robin Lopez",
         "Milwaukee Bucks",
         "C",
         "1988-04-01 00:00:00",
         "4767000"
        ],
        [
         "446",
         "Harry Giles",
         "Sacramento Kings",
         "PF",
         "1998-04-22 00:00:00",
         "2578800"
        ],
        [
         "445",
         "Austin Rivers",
         "Houston Rockets",
         "PG",
         "1992-08-01 00:00:00",
         "2174310"
        ]
       ],
       "shape": {
        "columns": 5,
        "rows": 5
       }
      },
      "text/html": [
       "<div>\n",
       "<style scoped>\n",
       "    .dataframe tbody tr th:only-of-type {\n",
       "        vertical-align: middle;\n",
       "    }\n",
       "\n",
       "    .dataframe tbody tr th {\n",
       "        vertical-align: top;\n",
       "    }\n",
       "\n",
       "    .dataframe thead th {\n",
       "        text-align: right;\n",
       "    }\n",
       "</style>\n",
       "<table border=\"1\" class=\"dataframe\">\n",
       "  <thead>\n",
       "    <tr style=\"text-align: right;\">\n",
       "      <th></th>\n",
       "      <th>Name</th>\n",
       "      <th>Team</th>\n",
       "      <th>Position</th>\n",
       "      <th>Birthday</th>\n",
       "      <th>Salary</th>\n",
       "    </tr>\n",
       "  </thead>\n",
       "  <tbody>\n",
       "    <tr>\n",
       "      <th>449</th>\n",
       "      <td>Ricky Rubio</td>\n",
       "      <td>Phoenix Suns</td>\n",
       "      <td>PG</td>\n",
       "      <td>1990-10-21</td>\n",
       "      <td>16200000</td>\n",
       "    </tr>\n",
       "    <tr>\n",
       "      <th>448</th>\n",
       "      <td>Collin Sexton</td>\n",
       "      <td>Cleveland Cavaliers</td>\n",
       "      <td>PG</td>\n",
       "      <td>1999-01-04</td>\n",
       "      <td>4764960</td>\n",
       "    </tr>\n",
       "    <tr>\n",
       "      <th>447</th>\n",
       "      <td>Robin Lopez</td>\n",
       "      <td>Milwaukee Bucks</td>\n",
       "      <td>C</td>\n",
       "      <td>1988-04-01</td>\n",
       "      <td>4767000</td>\n",
       "    </tr>\n",
       "    <tr>\n",
       "      <th>446</th>\n",
       "      <td>Harry Giles</td>\n",
       "      <td>Sacramento Kings</td>\n",
       "      <td>PF</td>\n",
       "      <td>1998-04-22</td>\n",
       "      <td>2578800</td>\n",
       "    </tr>\n",
       "    <tr>\n",
       "      <th>445</th>\n",
       "      <td>Austin Rivers</td>\n",
       "      <td>Houston Rockets</td>\n",
       "      <td>PG</td>\n",
       "      <td>1992-08-01</td>\n",
       "      <td>2174310</td>\n",
       "    </tr>\n",
       "  </tbody>\n",
       "</table>\n",
       "</div>"
      ],
      "text/plain": [
       "              Name                 Team Position   Birthday    Salary\n",
       "449    Ricky Rubio         Phoenix Suns       PG 1990-10-21  16200000\n",
       "448  Collin Sexton  Cleveland Cavaliers       PG 1999-01-04   4764960\n",
       "447    Robin Lopez      Milwaukee Bucks        C 1988-04-01   4767000\n",
       "446    Harry Giles     Sacramento Kings       PF 1998-04-22   2578800\n",
       "445  Austin Rivers      Houston Rockets       PG 1992-08-01   2174310"
      ]
     },
     "execution_count": 46,
     "metadata": {},
     "output_type": "execute_result"
    }
   ],
   "source": [
    "# Last row in the DataFrame will be the first one\n",
    "df_nba.sort_index(ascending=False).head()"
   ]
  },
  {
   "cell_type": "markdown",
   "id": "119de998",
   "metadata": {},
   "source": [
    "**Sorting by Column Index**"
   ]
  },
  {
   "cell_type": "code",
   "execution_count": 47,
   "id": "00627f0e",
   "metadata": {},
   "outputs": [
    {
     "data": {
      "application/vnd.microsoft.datawrangler.viewer.v0+json": {
       "columns": [
        {
         "name": "index",
         "rawType": "int64",
         "type": "integer"
        },
        {
         "name": "Birthday",
         "rawType": "datetime64[ns]",
         "type": "datetime"
        },
        {
         "name": "Name",
         "rawType": "object",
         "type": "string"
        },
        {
         "name": "Position",
         "rawType": "object",
         "type": "string"
        },
        {
         "name": "Salary",
         "rawType": "int64",
         "type": "integer"
        },
        {
         "name": "Team",
         "rawType": "object",
         "type": "string"
        }
       ],
       "ref": "62ed494f-1cc7-4c69-8ff6-632eab3508cd",
       "rows": [
        [
         "0",
         "1996-09-26 00:00:00",
         "Shake Milton",
         "SG",
         "1445697",
         "Philadelphia 76ers"
        ],
        [
         "1",
         "1995-09-27 00:00:00",
         "Christian Wood",
         "PF",
         "1645357",
         "Detroit Pistons"
        ],
        [
         "2",
         "1998-08-23 00:00:00",
         "PJ Washington",
         "PF",
         "3831840",
         "Charlotte Hornets"
        ],
        [
         "3",
         "1988-10-04 00:00:00",
         "Derrick Rose",
         "PG",
         "7317074",
         "Detroit Pistons"
        ],
        [
         "4",
         "1995-07-26 00:00:00",
         "Marial Shayok",
         "G",
         "79568",
         "Philadelphia 76ers"
        ]
       ],
       "shape": {
        "columns": 5,
        "rows": 5
       }
      },
      "text/html": [
       "<div>\n",
       "<style scoped>\n",
       "    .dataframe tbody tr th:only-of-type {\n",
       "        vertical-align: middle;\n",
       "    }\n",
       "\n",
       "    .dataframe tbody tr th {\n",
       "        vertical-align: top;\n",
       "    }\n",
       "\n",
       "    .dataframe thead th {\n",
       "        text-align: right;\n",
       "    }\n",
       "</style>\n",
       "<table border=\"1\" class=\"dataframe\">\n",
       "  <thead>\n",
       "    <tr style=\"text-align: right;\">\n",
       "      <th></th>\n",
       "      <th>Birthday</th>\n",
       "      <th>Name</th>\n",
       "      <th>Position</th>\n",
       "      <th>Salary</th>\n",
       "      <th>Team</th>\n",
       "    </tr>\n",
       "  </thead>\n",
       "  <tbody>\n",
       "    <tr>\n",
       "      <th>0</th>\n",
       "      <td>1996-09-26</td>\n",
       "      <td>Shake Milton</td>\n",
       "      <td>SG</td>\n",
       "      <td>1445697</td>\n",
       "      <td>Philadelphia 76ers</td>\n",
       "    </tr>\n",
       "    <tr>\n",
       "      <th>1</th>\n",
       "      <td>1995-09-27</td>\n",
       "      <td>Christian Wood</td>\n",
       "      <td>PF</td>\n",
       "      <td>1645357</td>\n",
       "      <td>Detroit Pistons</td>\n",
       "    </tr>\n",
       "    <tr>\n",
       "      <th>2</th>\n",
       "      <td>1998-08-23</td>\n",
       "      <td>PJ Washington</td>\n",
       "      <td>PF</td>\n",
       "      <td>3831840</td>\n",
       "      <td>Charlotte Hornets</td>\n",
       "    </tr>\n",
       "    <tr>\n",
       "      <th>3</th>\n",
       "      <td>1988-10-04</td>\n",
       "      <td>Derrick Rose</td>\n",
       "      <td>PG</td>\n",
       "      <td>7317074</td>\n",
       "      <td>Detroit Pistons</td>\n",
       "    </tr>\n",
       "    <tr>\n",
       "      <th>4</th>\n",
       "      <td>1995-07-26</td>\n",
       "      <td>Marial Shayok</td>\n",
       "      <td>G</td>\n",
       "      <td>79568</td>\n",
       "      <td>Philadelphia 76ers</td>\n",
       "    </tr>\n",
       "  </tbody>\n",
       "</table>\n",
       "</div>"
      ],
      "text/plain": [
       "    Birthday            Name Position   Salary                Team\n",
       "0 1996-09-26    Shake Milton       SG  1445697  Philadelphia 76ers\n",
       "1 1995-09-27  Christian Wood       PF  1645357     Detroit Pistons\n",
       "2 1998-08-23   PJ Washington       PF  3831840   Charlotte Hornets\n",
       "3 1988-10-04    Derrick Rose       PG  7317074     Detroit Pistons\n",
       "4 1995-07-26   Marial Shayok        G    79568  Philadelphia 76ers"
      ]
     },
     "execution_count": 47,
     "metadata": {},
     "output_type": "execute_result"
    }
   ],
   "source": [
    "\n",
    "df_nba.sort_index(axis='columns').head()"
   ]
  },
  {
   "cell_type": "code",
   "execution_count": 48,
   "id": "2c316610",
   "metadata": {},
   "outputs": [
    {
     "data": {
      "application/vnd.microsoft.datawrangler.viewer.v0+json": {
       "columns": [
        {
         "name": "index",
         "rawType": "int64",
         "type": "integer"
        },
        {
         "name": "Birthday",
         "rawType": "datetime64[ns]",
         "type": "datetime"
        },
        {
         "name": "Name",
         "rawType": "object",
         "type": "string"
        },
        {
         "name": "Position",
         "rawType": "object",
         "type": "string"
        },
        {
         "name": "Salary",
         "rawType": "int64",
         "type": "integer"
        },
        {
         "name": "Team",
         "rawType": "object",
         "type": "string"
        }
       ],
       "ref": "2ee91e2c-6904-4ec6-8943-26eb8a9533fe",
       "rows": [
        [
         "0",
         "1996-09-26 00:00:00",
         "Shake Milton",
         "SG",
         "1445697",
         "Philadelphia 76ers"
        ],
        [
         "1",
         "1995-09-27 00:00:00",
         "Christian Wood",
         "PF",
         "1645357",
         "Detroit Pistons"
        ],
        [
         "2",
         "1998-08-23 00:00:00",
         "PJ Washington",
         "PF",
         "3831840",
         "Charlotte Hornets"
        ],
        [
         "3",
         "1988-10-04 00:00:00",
         "Derrick Rose",
         "PG",
         "7317074",
         "Detroit Pistons"
        ],
        [
         "4",
         "1995-07-26 00:00:00",
         "Marial Shayok",
         "G",
         "79568",
         "Philadelphia 76ers"
        ]
       ],
       "shape": {
        "columns": 5,
        "rows": 5
       }
      },
      "text/html": [
       "<div>\n",
       "<style scoped>\n",
       "    .dataframe tbody tr th:only-of-type {\n",
       "        vertical-align: middle;\n",
       "    }\n",
       "\n",
       "    .dataframe tbody tr th {\n",
       "        vertical-align: top;\n",
       "    }\n",
       "\n",
       "    .dataframe thead th {\n",
       "        text-align: right;\n",
       "    }\n",
       "</style>\n",
       "<table border=\"1\" class=\"dataframe\">\n",
       "  <thead>\n",
       "    <tr style=\"text-align: right;\">\n",
       "      <th></th>\n",
       "      <th>Birthday</th>\n",
       "      <th>Name</th>\n",
       "      <th>Position</th>\n",
       "      <th>Salary</th>\n",
       "      <th>Team</th>\n",
       "    </tr>\n",
       "  </thead>\n",
       "  <tbody>\n",
       "    <tr>\n",
       "      <th>0</th>\n",
       "      <td>1996-09-26</td>\n",
       "      <td>Shake Milton</td>\n",
       "      <td>SG</td>\n",
       "      <td>1445697</td>\n",
       "      <td>Philadelphia 76ers</td>\n",
       "    </tr>\n",
       "    <tr>\n",
       "      <th>1</th>\n",
       "      <td>1995-09-27</td>\n",
       "      <td>Christian Wood</td>\n",
       "      <td>PF</td>\n",
       "      <td>1645357</td>\n",
       "      <td>Detroit Pistons</td>\n",
       "    </tr>\n",
       "    <tr>\n",
       "      <th>2</th>\n",
       "      <td>1998-08-23</td>\n",
       "      <td>PJ Washington</td>\n",
       "      <td>PF</td>\n",
       "      <td>3831840</td>\n",
       "      <td>Charlotte Hornets</td>\n",
       "    </tr>\n",
       "    <tr>\n",
       "      <th>3</th>\n",
       "      <td>1988-10-04</td>\n",
       "      <td>Derrick Rose</td>\n",
       "      <td>PG</td>\n",
       "      <td>7317074</td>\n",
       "      <td>Detroit Pistons</td>\n",
       "    </tr>\n",
       "    <tr>\n",
       "      <th>4</th>\n",
       "      <td>1995-07-26</td>\n",
       "      <td>Marial Shayok</td>\n",
       "      <td>G</td>\n",
       "      <td>79568</td>\n",
       "      <td>Philadelphia 76ers</td>\n",
       "    </tr>\n",
       "  </tbody>\n",
       "</table>\n",
       "</div>"
      ],
      "text/plain": [
       "    Birthday            Name Position   Salary                Team\n",
       "0 1996-09-26    Shake Milton       SG  1445697  Philadelphia 76ers\n",
       "1 1995-09-27  Christian Wood       PF  1645357     Detroit Pistons\n",
       "2 1998-08-23   PJ Washington       PF  3831840   Charlotte Hornets\n",
       "3 1988-10-04    Derrick Rose       PG  7317074     Detroit Pistons\n",
       "4 1995-07-26   Marial Shayok        G    79568  Philadelphia 76ers"
      ]
     },
     "execution_count": 48,
     "metadata": {},
     "output_type": "execute_result"
    }
   ],
   "source": [
    "df_nba.sort_index(axis=1).head()"
   ]
  },
  {
   "cell_type": "code",
   "execution_count": 49,
   "id": "67634cdb",
   "metadata": {},
   "outputs": [
    {
     "data": {
      "application/vnd.microsoft.datawrangler.viewer.v0+json": {
       "columns": [
        {
         "name": "index",
         "rawType": "int64",
         "type": "integer"
        },
        {
         "name": "Team",
         "rawType": "object",
         "type": "string"
        },
        {
         "name": "Salary",
         "rawType": "int64",
         "type": "integer"
        },
        {
         "name": "Position",
         "rawType": "object",
         "type": "string"
        },
        {
         "name": "Name",
         "rawType": "object",
         "type": "string"
        },
        {
         "name": "Birthday",
         "rawType": "datetime64[ns]",
         "type": "datetime"
        }
       ],
       "ref": "966d2de1-4ba6-4a0b-b313-a9cc56b08d57",
       "rows": [
        [
         "0",
         "Philadelphia 76ers",
         "1445697",
         "SG",
         "Shake Milton",
         "1996-09-26 00:00:00"
        ],
        [
         "1",
         "Detroit Pistons",
         "1645357",
         "PF",
         "Christian Wood",
         "1995-09-27 00:00:00"
        ],
        [
         "2",
         "Charlotte Hornets",
         "3831840",
         "PF",
         "PJ Washington",
         "1998-08-23 00:00:00"
        ],
        [
         "3",
         "Detroit Pistons",
         "7317074",
         "PG",
         "Derrick Rose",
         "1988-10-04 00:00:00"
        ],
        [
         "4",
         "Philadelphia 76ers",
         "79568",
         "G",
         "Marial Shayok",
         "1995-07-26 00:00:00"
        ]
       ],
       "shape": {
        "columns": 5,
        "rows": 5
       }
      },
      "text/html": [
       "<div>\n",
       "<style scoped>\n",
       "    .dataframe tbody tr th:only-of-type {\n",
       "        vertical-align: middle;\n",
       "    }\n",
       "\n",
       "    .dataframe tbody tr th {\n",
       "        vertical-align: top;\n",
       "    }\n",
       "\n",
       "    .dataframe thead th {\n",
       "        text-align: right;\n",
       "    }\n",
       "</style>\n",
       "<table border=\"1\" class=\"dataframe\">\n",
       "  <thead>\n",
       "    <tr style=\"text-align: right;\">\n",
       "      <th></th>\n",
       "      <th>Team</th>\n",
       "      <th>Salary</th>\n",
       "      <th>Position</th>\n",
       "      <th>Name</th>\n",
       "      <th>Birthday</th>\n",
       "    </tr>\n",
       "  </thead>\n",
       "  <tbody>\n",
       "    <tr>\n",
       "      <th>0</th>\n",
       "      <td>Philadelphia 76ers</td>\n",
       "      <td>1445697</td>\n",
       "      <td>SG</td>\n",
       "      <td>Shake Milton</td>\n",
       "      <td>1996-09-26</td>\n",
       "    </tr>\n",
       "    <tr>\n",
       "      <th>1</th>\n",
       "      <td>Detroit Pistons</td>\n",
       "      <td>1645357</td>\n",
       "      <td>PF</td>\n",
       "      <td>Christian Wood</td>\n",
       "      <td>1995-09-27</td>\n",
       "    </tr>\n",
       "    <tr>\n",
       "      <th>2</th>\n",
       "      <td>Charlotte Hornets</td>\n",
       "      <td>3831840</td>\n",
       "      <td>PF</td>\n",
       "      <td>PJ Washington</td>\n",
       "      <td>1998-08-23</td>\n",
       "    </tr>\n",
       "    <tr>\n",
       "      <th>3</th>\n",
       "      <td>Detroit Pistons</td>\n",
       "      <td>7317074</td>\n",
       "      <td>PG</td>\n",
       "      <td>Derrick Rose</td>\n",
       "      <td>1988-10-04</td>\n",
       "    </tr>\n",
       "    <tr>\n",
       "      <th>4</th>\n",
       "      <td>Philadelphia 76ers</td>\n",
       "      <td>79568</td>\n",
       "      <td>G</td>\n",
       "      <td>Marial Shayok</td>\n",
       "      <td>1995-07-26</td>\n",
       "    </tr>\n",
       "  </tbody>\n",
       "</table>\n",
       "</div>"
      ],
      "text/plain": [
       "                 Team   Salary Position            Name   Birthday\n",
       "0  Philadelphia 76ers  1445697       SG    Shake Milton 1996-09-26\n",
       "1     Detroit Pistons  1645357       PF  Christian Wood 1995-09-27\n",
       "2   Charlotte Hornets  3831840       PF   PJ Washington 1998-08-23\n",
       "3     Detroit Pistons  7317074       PG    Derrick Rose 1988-10-04\n",
       "4  Philadelphia 76ers    79568        G   Marial Shayok 1995-07-26"
      ]
     },
     "execution_count": 49,
     "metadata": {},
     "output_type": "execute_result"
    }
   ],
   "source": [
    "# change the order of columns in the DataFrame using column index\n",
    "df_nba.sort_index(axis='columns', ascending=False).head()"
   ]
  },
  {
   "cell_type": "markdown",
   "id": "eb5b77e0",
   "metadata": {},
   "source": [
    "#### Setting a New Index"
   ]
  },
  {
   "cell_type": "code",
   "execution_count": 124,
   "id": "75f51e22",
   "metadata": {},
   "outputs": [],
   "source": [
    "# Set 'Name' column as the index\n",
    "df_nba = df_nba.set_index('Name').head()"
   ]
  },
  {
   "cell_type": "code",
   "execution_count": 125,
   "id": "59aacf00",
   "metadata": {},
   "outputs": [
    {
     "data": {
      "application/vnd.microsoft.datawrangler.viewer.v0+json": {
       "columns": [
        {
         "name": "Name",
         "rawType": "object",
         "type": "string"
        },
        {
         "name": "Team",
         "rawType": "object",
         "type": "string"
        },
        {
         "name": "Position",
         "rawType": "object",
         "type": "string"
        },
        {
         "name": "Birthday",
         "rawType": "datetime64[ns]",
         "type": "datetime"
        },
        {
         "name": "Salary",
         "rawType": "int64",
         "type": "integer"
        }
       ],
       "ref": "db15757b-d4fe-47d1-b3eb-fd618bd5f582",
       "rows": [
        [
         "Shake Milton",
         "Philadelphia 76ers",
         "SG",
         "1996-09-26 00:00:00",
         "1445697"
        ],
        [
         "Christian Wood",
         "Detroit Pistons",
         "PF",
         "1995-09-27 00:00:00",
         "1645357"
        ],
        [
         "PJ Washington",
         "Charlotte Hornets",
         "PF",
         "1998-08-23 00:00:00",
         "3831840"
        ],
        [
         "Derrick Rose",
         "Detroit Pistons",
         "PG",
         "1988-10-04 00:00:00",
         "7317074"
        ],
        [
         "Marial Shayok",
         "Philadelphia 76ers",
         "G",
         "1995-07-26 00:00:00",
         "79568"
        ]
       ],
       "shape": {
        "columns": 4,
        "rows": 5
       }
      },
      "text/html": [
       "<div>\n",
       "<style scoped>\n",
       "    .dataframe tbody tr th:only-of-type {\n",
       "        vertical-align: middle;\n",
       "    }\n",
       "\n",
       "    .dataframe tbody tr th {\n",
       "        vertical-align: top;\n",
       "    }\n",
       "\n",
       "    .dataframe thead th {\n",
       "        text-align: right;\n",
       "    }\n",
       "</style>\n",
       "<table border=\"1\" class=\"dataframe\">\n",
       "  <thead>\n",
       "    <tr style=\"text-align: right;\">\n",
       "      <th></th>\n",
       "      <th>Team</th>\n",
       "      <th>Position</th>\n",
       "      <th>Birthday</th>\n",
       "      <th>Salary</th>\n",
       "    </tr>\n",
       "    <tr>\n",
       "      <th>Name</th>\n",
       "      <th></th>\n",
       "      <th></th>\n",
       "      <th></th>\n",
       "      <th></th>\n",
       "    </tr>\n",
       "  </thead>\n",
       "  <tbody>\n",
       "    <tr>\n",
       "      <th>Shake Milton</th>\n",
       "      <td>Philadelphia 76ers</td>\n",
       "      <td>SG</td>\n",
       "      <td>1996-09-26</td>\n",
       "      <td>1445697</td>\n",
       "    </tr>\n",
       "    <tr>\n",
       "      <th>Christian Wood</th>\n",
       "      <td>Detroit Pistons</td>\n",
       "      <td>PF</td>\n",
       "      <td>1995-09-27</td>\n",
       "      <td>1645357</td>\n",
       "    </tr>\n",
       "    <tr>\n",
       "      <th>PJ Washington</th>\n",
       "      <td>Charlotte Hornets</td>\n",
       "      <td>PF</td>\n",
       "      <td>1998-08-23</td>\n",
       "      <td>3831840</td>\n",
       "    </tr>\n",
       "    <tr>\n",
       "      <th>Derrick Rose</th>\n",
       "      <td>Detroit Pistons</td>\n",
       "      <td>PG</td>\n",
       "      <td>1988-10-04</td>\n",
       "      <td>7317074</td>\n",
       "    </tr>\n",
       "    <tr>\n",
       "      <th>Marial Shayok</th>\n",
       "      <td>Philadelphia 76ers</td>\n",
       "      <td>G</td>\n",
       "      <td>1995-07-26</td>\n",
       "      <td>79568</td>\n",
       "    </tr>\n",
       "  </tbody>\n",
       "</table>\n",
       "</div>"
      ],
      "text/plain": [
       "                              Team Position   Birthday   Salary\n",
       "Name                                                           \n",
       "Shake Milton    Philadelphia 76ers       SG 1996-09-26  1445697\n",
       "Christian Wood     Detroit Pistons       PF 1995-09-27  1645357\n",
       "PJ Washington    Charlotte Hornets       PF 1998-08-23  3831840\n",
       "Derrick Rose       Detroit Pistons       PG 1988-10-04  7317074\n",
       "Marial Shayok   Philadelphia 76ers        G 1995-07-26    79568"
      ]
     },
     "execution_count": 125,
     "metadata": {},
     "output_type": "execute_result"
    }
   ],
   "source": [
    "df_nba.head()"
   ]
  },
  {
   "cell_type": "code",
   "execution_count": 126,
   "id": "bd621923",
   "metadata": {},
   "outputs": [
    {
     "data": {
      "application/vnd.microsoft.datawrangler.viewer.v0+json": {
       "columns": [
        {
         "name": "index",
         "rawType": "int64",
         "type": "integer"
        },
        {
         "name": "Name",
         "rawType": "object",
         "type": "string"
        },
        {
         "name": "Team",
         "rawType": "object",
         "type": "string"
        },
        {
         "name": "Position",
         "rawType": "object",
         "type": "string"
        },
        {
         "name": "Birthday",
         "rawType": "datetime64[ns]",
         "type": "datetime"
        },
        {
         "name": "Salary",
         "rawType": "int64",
         "type": "integer"
        }
       ],
       "ref": "27be362e-0f7c-4b9e-8225-8c4a2f905f2f",
       "rows": [
        [
         "0",
         "Shake Milton",
         "Philadelphia 76ers",
         "SG",
         "1996-09-26 00:00:00",
         "1445697"
        ],
        [
         "1",
         "Christian Wood",
         "Detroit Pistons",
         "PF",
         "1995-09-27 00:00:00",
         "1645357"
        ],
        [
         "2",
         "PJ Washington",
         "Charlotte Hornets",
         "PF",
         "1998-08-23 00:00:00",
         "3831840"
        ],
        [
         "3",
         "Derrick Rose",
         "Detroit Pistons",
         "PG",
         "1988-10-04 00:00:00",
         "7317074"
        ],
        [
         "4",
         "Marial Shayok",
         "Philadelphia 76ers",
         "G",
         "1995-07-26 00:00:00",
         "79568"
        ]
       ],
       "shape": {
        "columns": 5,
        "rows": 5
       }
      },
      "text/html": [
       "<div>\n",
       "<style scoped>\n",
       "    .dataframe tbody tr th:only-of-type {\n",
       "        vertical-align: middle;\n",
       "    }\n",
       "\n",
       "    .dataframe tbody tr th {\n",
       "        vertical-align: top;\n",
       "    }\n",
       "\n",
       "    .dataframe thead th {\n",
       "        text-align: right;\n",
       "    }\n",
       "</style>\n",
       "<table border=\"1\" class=\"dataframe\">\n",
       "  <thead>\n",
       "    <tr style=\"text-align: right;\">\n",
       "      <th></th>\n",
       "      <th>Name</th>\n",
       "      <th>Team</th>\n",
       "      <th>Position</th>\n",
       "      <th>Birthday</th>\n",
       "      <th>Salary</th>\n",
       "    </tr>\n",
       "  </thead>\n",
       "  <tbody>\n",
       "    <tr>\n",
       "      <th>0</th>\n",
       "      <td>Shake Milton</td>\n",
       "      <td>Philadelphia 76ers</td>\n",
       "      <td>SG</td>\n",
       "      <td>1996-09-26</td>\n",
       "      <td>1445697</td>\n",
       "    </tr>\n",
       "    <tr>\n",
       "      <th>1</th>\n",
       "      <td>Christian Wood</td>\n",
       "      <td>Detroit Pistons</td>\n",
       "      <td>PF</td>\n",
       "      <td>1995-09-27</td>\n",
       "      <td>1645357</td>\n",
       "    </tr>\n",
       "    <tr>\n",
       "      <th>2</th>\n",
       "      <td>PJ Washington</td>\n",
       "      <td>Charlotte Hornets</td>\n",
       "      <td>PF</td>\n",
       "      <td>1998-08-23</td>\n",
       "      <td>3831840</td>\n",
       "    </tr>\n",
       "    <tr>\n",
       "      <th>3</th>\n",
       "      <td>Derrick Rose</td>\n",
       "      <td>Detroit Pistons</td>\n",
       "      <td>PG</td>\n",
       "      <td>1988-10-04</td>\n",
       "      <td>7317074</td>\n",
       "    </tr>\n",
       "    <tr>\n",
       "      <th>4</th>\n",
       "      <td>Marial Shayok</td>\n",
       "      <td>Philadelphia 76ers</td>\n",
       "      <td>G</td>\n",
       "      <td>1995-07-26</td>\n",
       "      <td>79568</td>\n",
       "    </tr>\n",
       "  </tbody>\n",
       "</table>\n",
       "</div>"
      ],
      "text/plain": [
       "             Name                Team Position   Birthday   Salary\n",
       "0    Shake Milton  Philadelphia 76ers       SG 1996-09-26  1445697\n",
       "1  Christian Wood     Detroit Pistons       PF 1995-09-27  1645357\n",
       "2   PJ Washington   Charlotte Hornets       PF 1998-08-23  3831840\n",
       "3    Derrick Rose     Detroit Pistons       PG 1988-10-04  7317074\n",
       "4   Marial Shayok  Philadelphia 76ers        G 1995-07-26    79568"
      ]
     },
     "execution_count": 126,
     "metadata": {},
     "output_type": "execute_result"
    }
   ],
   "source": [
    "# If the column became the index, it disappears from the columns\n",
    "# If you want to reset the index to the default integer index, you can use the .reset_index() method\n",
    "df_nba = df_nba.reset_index()\n",
    "df_nba.head()"
   ]
  },
  {
   "cell_type": "code",
   "execution_count": 127,
   "id": "bbc05ab6",
   "metadata": {},
   "outputs": [
    {
     "data": {
      "application/vnd.microsoft.datawrangler.viewer.v0+json": {
       "columns": [
        {
         "name": "Name",
         "rawType": "object",
         "type": "string"
        },
        {
         "name": "Team",
         "rawType": "object",
         "type": "string"
        },
        {
         "name": "Position",
         "rawType": "object",
         "type": "string"
        },
        {
         "name": "Birthday",
         "rawType": "datetime64[ns]",
         "type": "datetime"
        },
        {
         "name": "Salary",
         "rawType": "int64",
         "type": "integer"
        }
       ],
       "ref": "d1fee0f5-947c-4e41-ba6b-90b6da373e08",
       "rows": [
        [
         "Shake Milton",
         "Philadelphia 76ers",
         "SG",
         "1996-09-26 00:00:00",
         "1445697"
        ],
        [
         "Christian Wood",
         "Detroit Pistons",
         "PF",
         "1995-09-27 00:00:00",
         "1645357"
        ],
        [
         "PJ Washington",
         "Charlotte Hornets",
         "PF",
         "1998-08-23 00:00:00",
         "3831840"
        ],
        [
         "Derrick Rose",
         "Detroit Pistons",
         "PG",
         "1988-10-04 00:00:00",
         "7317074"
        ],
        [
         "Marial Shayok",
         "Philadelphia 76ers",
         "G",
         "1995-07-26 00:00:00",
         "79568"
        ]
       ],
       "shape": {
        "columns": 4,
        "rows": 5
       }
      },
      "text/html": [
       "<div>\n",
       "<style scoped>\n",
       "    .dataframe tbody tr th:only-of-type {\n",
       "        vertical-align: middle;\n",
       "    }\n",
       "\n",
       "    .dataframe tbody tr th {\n",
       "        vertical-align: top;\n",
       "    }\n",
       "\n",
       "    .dataframe thead th {\n",
       "        text-align: right;\n",
       "    }\n",
       "</style>\n",
       "<table border=\"1\" class=\"dataframe\">\n",
       "  <thead>\n",
       "    <tr style=\"text-align: right;\">\n",
       "      <th></th>\n",
       "      <th>Team</th>\n",
       "      <th>Position</th>\n",
       "      <th>Birthday</th>\n",
       "      <th>Salary</th>\n",
       "    </tr>\n",
       "    <tr>\n",
       "      <th>Name</th>\n",
       "      <th></th>\n",
       "      <th></th>\n",
       "      <th></th>\n",
       "      <th></th>\n",
       "    </tr>\n",
       "  </thead>\n",
       "  <tbody>\n",
       "    <tr>\n",
       "      <th>Shake Milton</th>\n",
       "      <td>Philadelphia 76ers</td>\n",
       "      <td>SG</td>\n",
       "      <td>1996-09-26</td>\n",
       "      <td>1445697</td>\n",
       "    </tr>\n",
       "    <tr>\n",
       "      <th>Christian Wood</th>\n",
       "      <td>Detroit Pistons</td>\n",
       "      <td>PF</td>\n",
       "      <td>1995-09-27</td>\n",
       "      <td>1645357</td>\n",
       "    </tr>\n",
       "    <tr>\n",
       "      <th>PJ Washington</th>\n",
       "      <td>Charlotte Hornets</td>\n",
       "      <td>PF</td>\n",
       "      <td>1998-08-23</td>\n",
       "      <td>3831840</td>\n",
       "    </tr>\n",
       "    <tr>\n",
       "      <th>Derrick Rose</th>\n",
       "      <td>Detroit Pistons</td>\n",
       "      <td>PG</td>\n",
       "      <td>1988-10-04</td>\n",
       "      <td>7317074</td>\n",
       "    </tr>\n",
       "    <tr>\n",
       "      <th>Marial Shayok</th>\n",
       "      <td>Philadelphia 76ers</td>\n",
       "      <td>G</td>\n",
       "      <td>1995-07-26</td>\n",
       "      <td>79568</td>\n",
       "    </tr>\n",
       "  </tbody>\n",
       "</table>\n",
       "</div>"
      ],
      "text/plain": [
       "                              Team Position   Birthday   Salary\n",
       "Name                                                           \n",
       "Shake Milton    Philadelphia 76ers       SG 1996-09-26  1445697\n",
       "Christian Wood     Detroit Pistons       PF 1995-09-27  1645357\n",
       "PJ Washington    Charlotte Hornets       PF 1998-08-23  3831840\n",
       "Derrick Rose       Detroit Pistons       PG 1988-10-04  7317074\n",
       "Marial Shayok   Philadelphia 76ers        G 1995-07-26    79568"
      ]
     },
     "execution_count": 127,
     "metadata": {},
     "output_type": "execute_result"
    }
   ],
   "source": [
    "#the same result using the .set_index() method\n",
    "df_nba = df_nba.set_index(keys='Name')\n",
    "df_nba.head()"
   ]
  },
  {
   "cell_type": "markdown",
   "id": "5d4248ce",
   "metadata": {},
   "source": [
    "#### Drop columns"
   ]
  },
  {
   "cell_type": "code",
   "execution_count": 53,
   "id": "20f4e7bb",
   "metadata": {},
   "outputs": [],
   "source": [
    "df_nba.drop(columns='index', inplace=True)"
   ]
  },
  {
   "cell_type": "code",
   "execution_count": 54,
   "id": "cb11a837",
   "metadata": {},
   "outputs": [
    {
     "data": {
      "application/vnd.microsoft.datawrangler.viewer.v0+json": {
       "columns": [
        {
         "name": "Name",
         "rawType": "object",
         "type": "string"
        },
        {
         "name": "Team",
         "rawType": "object",
         "type": "string"
        },
        {
         "name": "Position",
         "rawType": "object",
         "type": "string"
        },
        {
         "name": "Birthday",
         "rawType": "datetime64[ns]",
         "type": "datetime"
        },
        {
         "name": "Salary",
         "rawType": "int64",
         "type": "integer"
        }
       ],
       "ref": "8b43e132-2080-4e4f-8556-9c6f58ed4381",
       "rows": [
        [
         "Shake Milton",
         "Philadelphia 76ers",
         "SG",
         "1996-09-26 00:00:00",
         "1445697"
        ],
        [
         "Christian Wood",
         "Detroit Pistons",
         "PF",
         "1995-09-27 00:00:00",
         "1645357"
        ],
        [
         "PJ Washington",
         "Charlotte Hornets",
         "PF",
         "1998-08-23 00:00:00",
         "3831840"
        ],
        [
         "Derrick Rose",
         "Detroit Pistons",
         "PG",
         "1988-10-04 00:00:00",
         "7317074"
        ],
        [
         "Marial Shayok",
         "Philadelphia 76ers",
         "G",
         "1995-07-26 00:00:00",
         "79568"
        ]
       ],
       "shape": {
        "columns": 4,
        "rows": 5
       }
      },
      "text/html": [
       "<div>\n",
       "<style scoped>\n",
       "    .dataframe tbody tr th:only-of-type {\n",
       "        vertical-align: middle;\n",
       "    }\n",
       "\n",
       "    .dataframe tbody tr th {\n",
       "        vertical-align: top;\n",
       "    }\n",
       "\n",
       "    .dataframe thead th {\n",
       "        text-align: right;\n",
       "    }\n",
       "</style>\n",
       "<table border=\"1\" class=\"dataframe\">\n",
       "  <thead>\n",
       "    <tr style=\"text-align: right;\">\n",
       "      <th></th>\n",
       "      <th>Team</th>\n",
       "      <th>Position</th>\n",
       "      <th>Birthday</th>\n",
       "      <th>Salary</th>\n",
       "    </tr>\n",
       "    <tr>\n",
       "      <th>Name</th>\n",
       "      <th></th>\n",
       "      <th></th>\n",
       "      <th></th>\n",
       "      <th></th>\n",
       "    </tr>\n",
       "  </thead>\n",
       "  <tbody>\n",
       "    <tr>\n",
       "      <th>Shake Milton</th>\n",
       "      <td>Philadelphia 76ers</td>\n",
       "      <td>SG</td>\n",
       "      <td>1996-09-26</td>\n",
       "      <td>1445697</td>\n",
       "    </tr>\n",
       "    <tr>\n",
       "      <th>Christian Wood</th>\n",
       "      <td>Detroit Pistons</td>\n",
       "      <td>PF</td>\n",
       "      <td>1995-09-27</td>\n",
       "      <td>1645357</td>\n",
       "    </tr>\n",
       "    <tr>\n",
       "      <th>PJ Washington</th>\n",
       "      <td>Charlotte Hornets</td>\n",
       "      <td>PF</td>\n",
       "      <td>1998-08-23</td>\n",
       "      <td>3831840</td>\n",
       "    </tr>\n",
       "    <tr>\n",
       "      <th>Derrick Rose</th>\n",
       "      <td>Detroit Pistons</td>\n",
       "      <td>PG</td>\n",
       "      <td>1988-10-04</td>\n",
       "      <td>7317074</td>\n",
       "    </tr>\n",
       "    <tr>\n",
       "      <th>Marial Shayok</th>\n",
       "      <td>Philadelphia 76ers</td>\n",
       "      <td>G</td>\n",
       "      <td>1995-07-26</td>\n",
       "      <td>79568</td>\n",
       "    </tr>\n",
       "  </tbody>\n",
       "</table>\n",
       "</div>"
      ],
      "text/plain": [
       "                              Team Position   Birthday   Salary\n",
       "Name                                                           \n",
       "Shake Milton    Philadelphia 76ers       SG 1996-09-26  1445697\n",
       "Christian Wood     Detroit Pistons       PF 1995-09-27  1645357\n",
       "PJ Washington    Charlotte Hornets       PF 1998-08-23  3831840\n",
       "Derrick Rose       Detroit Pistons       PG 1988-10-04  7317074\n",
       "Marial Shayok   Philadelphia 76ers        G 1995-07-26    79568"
      ]
     },
     "execution_count": 54,
     "metadata": {},
     "output_type": "execute_result"
    }
   ],
   "source": [
    "df_nba.head()"
   ]
  },
  {
   "cell_type": "markdown",
   "id": "3e105fbe",
   "metadata": {},
   "source": [
    "#### Selecting Columns and Rows from a DataFrame"
   ]
  },
  {
   "cell_type": "markdown",
   "id": "71f69299",
   "metadata": {},
   "source": [
    "##### Selecting a Single Column from a DataFrame"
   ]
  },
  {
   "cell_type": "code",
   "execution_count": 55,
   "id": "5d9b5aa0",
   "metadata": {},
   "outputs": [
    {
     "data": {
      "application/vnd.microsoft.datawrangler.viewer.v0+json": {
       "columns": [
        {
         "name": "Name",
         "rawType": "object",
         "type": "string"
        },
        {
         "name": "Salary",
         "rawType": "int64",
         "type": "integer"
        }
       ],
       "ref": "1e3a0a29-40f8-4f61-947b-ad4b6468835f",
       "rows": [
        [
         "Shake Milton",
         "1445697"
        ],
        [
         "Christian Wood",
         "1645357"
        ],
        [
         "PJ Washington",
         "3831840"
        ],
        [
         "Derrick Rose",
         "7317074"
        ],
        [
         "Marial Shayok",
         "79568"
        ],
        [
         "Draymond Green",
         "18539130"
        ],
        [
         "Kendrick Nunn",
         "1416852"
        ],
        [
         "Cedi Osman",
         "2907143"
        ],
        [
         "Brook Lopez",
         "12093024"
        ],
        [
         "Torrey Craig",
         "2000000"
        ],
        [
         "Jordan Clarkson",
         "13437500"
        ],
        [
         "Alex Caruso",
         "2750000"
        ],
        [
         "Norvel Pelle",
         "79568"
        ],
        [
         "Tyler Johnson",
         "19245370"
        ],
        [
         "Alec Burks",
         "2320044"
        ],
        [
         "JaMychal Green",
         "4767000"
        ],
        [
         "Dwight Howard",
         "5603850"
        ],
        [
         "Nikola Jokic",
         "27504630"
        ],
        [
         "Chris Boucher",
         "1588231"
        ],
        [
         "Marcus Morris",
         "15000000"
        ],
        [
         "Kevin Huerter",
         "2636280"
        ],
        [
         "Rui Hachimura",
         "4469160"
        ],
        [
         "George Hill",
         "10133907"
        ],
        [
         "Nickeil Alexander-Walker",
         "2964840"
        ],
        [
         "Jaylen Hoard",
         "79568"
        ],
        [
         "Tyler Cook",
         "79568"
        ],
        [
         "Otto Porter",
         "27250576"
        ],
        [
         "Langston Galloway",
         "7333333"
        ],
        [
         "Evan Turner",
         "18606556"
        ],
        [
         "Norman Powell",
         "10116576"
        ],
        [
         "Nicolas Claxton",
         "898310"
        ],
        [
         "Michael Frazier",
         "79568"
        ],
        [
         "Paul Millsap",
         "30000000"
        ],
        [
         "Furkan Korkmaz",
         "1620564"
        ],
        [
         "Trey Burke",
         "2028594"
        ],
        [
         "Bradley Beal",
         "27093018"
        ],
        [
         "Thomas Bryant",
         "8000000"
        ],
        [
         "Dean Wade",
         "79568"
        ],
        [
         "Chris Paul",
         "38506482"
        ],
        [
         "Josh Hart",
         "1934160"
        ],
        [
         "LaMarcus Aldridge",
         "26000000"
        ],
        [
         "DaQuan Jeffries",
         "898310"
        ],
        [
         "Hamidou Diallo",
         "1416852"
        ],
        [
         "Jamal Murray",
         "4444746"
        ],
        [
         "Darius Bazley",
         "2284800"
        ],
        [
         "Robert Franks",
         "79568"
        ],
        [
         "Gerald Green",
         "2564753"
        ],
        [
         "Thaddeus Young",
         "12900000"
        ],
        [
         "Sviatoslav Mykhailiuk",
         "1416852"
        ],
        [
         "Ian Mahinmi",
         "15450051"
        ]
       ],
       "shape": {
        "columns": 1,
        "rows": 450
       }
      },
      "text/plain": [
       "Name\n",
       "Shake Milton       1445697\n",
       "Christian Wood     1645357\n",
       "PJ Washington      3831840\n",
       "Derrick Rose       7317074\n",
       "Marial Shayok        79568\n",
       "                    ...   \n",
       "Austin Rivers      2174310\n",
       "Harry Giles        2578800\n",
       "Robin Lopez        4767000\n",
       "Collin Sexton      4764960\n",
       "Ricky Rubio       16200000\n",
       "Name: Salary, Length: 450, dtype: int64"
      ]
     },
     "execution_count": 55,
     "metadata": {},
     "output_type": "execute_result"
    }
   ],
   "source": [
    "# select a single column using the column name via dot notation\n",
    "df_nba.Salary"
   ]
  },
  {
   "cell_type": "code",
   "execution_count": 56,
   "id": "18c1db24",
   "metadata": {},
   "outputs": [
    {
     "data": {
      "application/vnd.microsoft.datawrangler.viewer.v0+json": {
       "columns": [
        {
         "name": "Name",
         "rawType": "object",
         "type": "string"
        },
        {
         "name": "Team",
         "rawType": "object",
         "type": "string"
        }
       ],
       "ref": "584fcee4-256a-492b-8f3f-4000566146aa",
       "rows": [
        [
         "Shake Milton",
         "Philadelphia 76ers"
        ],
        [
         "Christian Wood",
         "Detroit Pistons"
        ],
        [
         "PJ Washington",
         "Charlotte Hornets"
        ],
        [
         "Derrick Rose",
         "Detroit Pistons"
        ],
        [
         "Marial Shayok",
         "Philadelphia 76ers"
        ],
        [
         "Draymond Green",
         "Golden State Warriors"
        ],
        [
         "Kendrick Nunn",
         "Miami Heat"
        ],
        [
         "Cedi Osman",
         "Cleveland Cavaliers"
        ],
        [
         "Brook Lopez",
         "Milwaukee Bucks"
        ],
        [
         "Torrey Craig",
         "Denver Nuggets"
        ],
        [
         "Jordan Clarkson",
         "Cleveland Cavaliers"
        ],
        [
         "Alex Caruso",
         "Los Angeles Lakers"
        ],
        [
         "Norvel Pelle",
         "Philadelphia 76ers"
        ],
        [
         "Tyler Johnson",
         "Phoenix Suns"
        ],
        [
         "Alec Burks",
         "Golden State Warriors"
        ],
        [
         "JaMychal Green",
         "Los Angeles Clippers"
        ],
        [
         "Dwight Howard",
         "Los Angeles Lakers"
        ],
        [
         "Nikola Jokic",
         "Denver Nuggets"
        ],
        [
         "Chris Boucher",
         "Toronto Raptors"
        ],
        [
         "Marcus Morris",
         "New York Knicks"
        ],
        [
         "Kevin Huerter",
         "Atlanta Hawks"
        ],
        [
         "Rui Hachimura",
         "Washington Wizards"
        ],
        [
         "George Hill",
         "Milwaukee Bucks"
        ],
        [
         "Nickeil Alexander-Walker",
         "New Orleans Pelicans"
        ],
        [
         "Jaylen Hoard",
         "Portland Trail Blazers"
        ],
        [
         "Tyler Cook",
         "Cleveland Cavaliers"
        ],
        [
         "Otto Porter",
         "Chicago Bulls"
        ],
        [
         "Langston Galloway",
         "Detroit Pistons"
        ],
        [
         "Evan Turner",
         "Atlanta Hawks"
        ],
        [
         "Norman Powell",
         "Toronto Raptors"
        ],
        [
         "Nicolas Claxton",
         "Brooklyn Nets"
        ],
        [
         "Michael Frazier",
         "Houston Rockets"
        ],
        [
         "Paul Millsap",
         "Denver Nuggets"
        ],
        [
         "Furkan Korkmaz",
         "Philadelphia 76ers"
        ],
        [
         "Trey Burke",
         "Philadelphia 76ers"
        ],
        [
         "Bradley Beal",
         "Washington Wizards"
        ],
        [
         "Thomas Bryant",
         "Washington Wizards"
        ],
        [
         "Dean Wade",
         "Cleveland Cavaliers"
        ],
        [
         "Chris Paul",
         "Oklahoma City Thunder"
        ],
        [
         "Josh Hart",
         "New Orleans Pelicans"
        ],
        [
         "LaMarcus Aldridge",
         "San Antonio Spurs"
        ],
        [
         "DaQuan Jeffries",
         "Sacramento Kings"
        ],
        [
         "Hamidou Diallo",
         "Oklahoma City Thunder"
        ],
        [
         "Jamal Murray",
         "Denver Nuggets"
        ],
        [
         "Darius Bazley",
         "Oklahoma City Thunder"
        ],
        [
         "Robert Franks",
         "Charlotte Hornets"
        ],
        [
         "Gerald Green",
         "Houston Rockets"
        ],
        [
         "Thaddeus Young",
         "Chicago Bulls"
        ],
        [
         "Sviatoslav Mykhailiuk",
         "Detroit Pistons"
        ],
        [
         "Ian Mahinmi",
         "Washington Wizards"
        ]
       ],
       "shape": {
        "columns": 1,
        "rows": 450
       }
      },
      "text/plain": [
       "Name\n",
       "Shake Milton       Philadelphia 76ers\n",
       "Christian Wood        Detroit Pistons\n",
       "PJ Washington       Charlotte Hornets\n",
       "Derrick Rose          Detroit Pistons\n",
       "Marial Shayok      Philadelphia 76ers\n",
       "                         ...         \n",
       "Austin Rivers         Houston Rockets\n",
       "Harry Giles          Sacramento Kings\n",
       "Robin Lopez           Milwaukee Bucks\n",
       "Collin Sexton     Cleveland Cavaliers\n",
       "Ricky Rubio              Phoenix Suns\n",
       "Name: Team, Length: 450, dtype: object"
      ]
     },
     "execution_count": 56,
     "metadata": {},
     "output_type": "execute_result"
    }
   ],
   "source": [
    "# select a single column using the column name via bracket notation\n",
    "df_nba['Team']"
   ]
  },
  {
   "cell_type": "markdown",
   "id": "07f0b9fb",
   "metadata": {},
   "source": [
    "##### Selecting a multiple Column from a DataFrame"
   ]
  },
  {
   "cell_type": "code",
   "execution_count": 57,
   "id": "50b374b4",
   "metadata": {},
   "outputs": [
    {
     "data": {
      "application/vnd.microsoft.datawrangler.viewer.v0+json": {
       "columns": [
        {
         "name": "Name",
         "rawType": "object",
         "type": "string"
        },
        {
         "name": "Team",
         "rawType": "object",
         "type": "string"
        },
        {
         "name": "Position",
         "rawType": "object",
         "type": "string"
        }
       ],
       "ref": "3b2cd8af-066f-48af-8ea2-85d5c61d82b6",
       "rows": [
        [
         "Shake Milton",
         "Philadelphia 76ers",
         "SG"
        ],
        [
         "Christian Wood",
         "Detroit Pistons",
         "PF"
        ],
        [
         "PJ Washington",
         "Charlotte Hornets",
         "PF"
        ],
        [
         "Derrick Rose",
         "Detroit Pistons",
         "PG"
        ],
        [
         "Marial Shayok",
         "Philadelphia 76ers",
         "G"
        ],
        [
         "Draymond Green",
         "Golden State Warriors",
         "PF"
        ],
        [
         "Kendrick Nunn",
         "Miami Heat",
         "SG"
        ],
        [
         "Cedi Osman",
         "Cleveland Cavaliers",
         "SF"
        ],
        [
         "Brook Lopez",
         "Milwaukee Bucks",
         "C"
        ],
        [
         "Torrey Craig",
         "Denver Nuggets",
         "SF"
        ],
        [
         "Jordan Clarkson",
         "Cleveland Cavaliers",
         "PG"
        ],
        [
         "Alex Caruso",
         "Los Angeles Lakers",
         "PG"
        ],
        [
         "Norvel Pelle",
         "Philadelphia 76ers",
         "FC"
        ],
        [
         "Tyler Johnson",
         "Phoenix Suns",
         "PG"
        ],
        [
         "Alec Burks",
         "Golden State Warriors",
         "SG"
        ],
        [
         "JaMychal Green",
         "Los Angeles Clippers",
         "PF"
        ],
        [
         "Dwight Howard",
         "Los Angeles Lakers",
         "C"
        ],
        [
         "Nikola Jokic",
         "Denver Nuggets",
         "C"
        ],
        [
         "Chris Boucher",
         "Toronto Raptors",
         "PF"
        ],
        [
         "Marcus Morris",
         "New York Knicks",
         "PF"
        ],
        [
         "Kevin Huerter",
         "Atlanta Hawks",
         "SG"
        ],
        [
         "Rui Hachimura",
         "Washington Wizards",
         "PF"
        ],
        [
         "George Hill",
         "Milwaukee Bucks",
         "PG"
        ],
        [
         "Nickeil Alexander-Walker",
         "New Orleans Pelicans",
         "SG"
        ],
        [
         "Jaylen Hoard",
         "Portland Trail Blazers",
         "SF"
        ],
        [
         "Tyler Cook",
         "Cleveland Cavaliers",
         "PF"
        ],
        [
         "Otto Porter",
         "Chicago Bulls",
         "SF"
        ],
        [
         "Langston Galloway",
         "Detroit Pistons",
         "PG"
        ],
        [
         "Evan Turner",
         "Atlanta Hawks",
         "PG"
        ],
        [
         "Norman Powell",
         "Toronto Raptors",
         "SG"
        ],
        [
         "Nicolas Claxton",
         "Brooklyn Nets",
         "PF"
        ],
        [
         "Michael Frazier",
         "Houston Rockets",
         "G"
        ],
        [
         "Paul Millsap",
         "Denver Nuggets",
         "PF"
        ],
        [
         "Furkan Korkmaz",
         "Philadelphia 76ers",
         "SG"
        ],
        [
         "Trey Burke",
         "Philadelphia 76ers",
         "PG"
        ],
        [
         "Bradley Beal",
         "Washington Wizards",
         "SG"
        ],
        [
         "Thomas Bryant",
         "Washington Wizards",
         "C"
        ],
        [
         "Dean Wade",
         "Cleveland Cavaliers",
         "PF"
        ],
        [
         "Chris Paul",
         "Oklahoma City Thunder",
         "PG"
        ],
        [
         "Josh Hart",
         "New Orleans Pelicans",
         "SF"
        ],
        [
         "LaMarcus Aldridge",
         "San Antonio Spurs",
         "C"
        ],
        [
         "DaQuan Jeffries",
         "Sacramento Kings",
         "SG"
        ],
        [
         "Hamidou Diallo",
         "Oklahoma City Thunder",
         "SF"
        ],
        [
         "Jamal Murray",
         "Denver Nuggets",
         "PG"
        ],
        [
         "Darius Bazley",
         "Oklahoma City Thunder",
         "PF"
        ],
        [
         "Robert Franks",
         "Charlotte Hornets",
         "F"
        ],
        [
         "Gerald Green",
         "Houston Rockets",
         "SF"
        ],
        [
         "Thaddeus Young",
         "Chicago Bulls",
         "PF"
        ],
        [
         "Sviatoslav Mykhailiuk",
         "Detroit Pistons",
         "SF"
        ],
        [
         "Ian Mahinmi",
         "Washington Wizards",
         "C"
        ]
       ],
       "shape": {
        "columns": 2,
        "rows": 450
       }
      },
      "text/html": [
       "<div>\n",
       "<style scoped>\n",
       "    .dataframe tbody tr th:only-of-type {\n",
       "        vertical-align: middle;\n",
       "    }\n",
       "\n",
       "    .dataframe tbody tr th {\n",
       "        vertical-align: top;\n",
       "    }\n",
       "\n",
       "    .dataframe thead th {\n",
       "        text-align: right;\n",
       "    }\n",
       "</style>\n",
       "<table border=\"1\" class=\"dataframe\">\n",
       "  <thead>\n",
       "    <tr style=\"text-align: right;\">\n",
       "      <th></th>\n",
       "      <th>Team</th>\n",
       "      <th>Position</th>\n",
       "    </tr>\n",
       "    <tr>\n",
       "      <th>Name</th>\n",
       "      <th></th>\n",
       "      <th></th>\n",
       "    </tr>\n",
       "  </thead>\n",
       "  <tbody>\n",
       "    <tr>\n",
       "      <th>Shake Milton</th>\n",
       "      <td>Philadelphia 76ers</td>\n",
       "      <td>SG</td>\n",
       "    </tr>\n",
       "    <tr>\n",
       "      <th>Christian Wood</th>\n",
       "      <td>Detroit Pistons</td>\n",
       "      <td>PF</td>\n",
       "    </tr>\n",
       "    <tr>\n",
       "      <th>PJ Washington</th>\n",
       "      <td>Charlotte Hornets</td>\n",
       "      <td>PF</td>\n",
       "    </tr>\n",
       "    <tr>\n",
       "      <th>Derrick Rose</th>\n",
       "      <td>Detroit Pistons</td>\n",
       "      <td>PG</td>\n",
       "    </tr>\n",
       "    <tr>\n",
       "      <th>Marial Shayok</th>\n",
       "      <td>Philadelphia 76ers</td>\n",
       "      <td>G</td>\n",
       "    </tr>\n",
       "    <tr>\n",
       "      <th>...</th>\n",
       "      <td>...</td>\n",
       "      <td>...</td>\n",
       "    </tr>\n",
       "    <tr>\n",
       "      <th>Austin Rivers</th>\n",
       "      <td>Houston Rockets</td>\n",
       "      <td>PG</td>\n",
       "    </tr>\n",
       "    <tr>\n",
       "      <th>Harry Giles</th>\n",
       "      <td>Sacramento Kings</td>\n",
       "      <td>PF</td>\n",
       "    </tr>\n",
       "    <tr>\n",
       "      <th>Robin Lopez</th>\n",
       "      <td>Milwaukee Bucks</td>\n",
       "      <td>C</td>\n",
       "    </tr>\n",
       "    <tr>\n",
       "      <th>Collin Sexton</th>\n",
       "      <td>Cleveland Cavaliers</td>\n",
       "      <td>PG</td>\n",
       "    </tr>\n",
       "    <tr>\n",
       "      <th>Ricky Rubio</th>\n",
       "      <td>Phoenix Suns</td>\n",
       "      <td>PG</td>\n",
       "    </tr>\n",
       "  </tbody>\n",
       "</table>\n",
       "<p>450 rows × 2 columns</p>\n",
       "</div>"
      ],
      "text/plain": [
       "                               Team Position\n",
       "Name                                        \n",
       "Shake Milton     Philadelphia 76ers       SG\n",
       "Christian Wood      Detroit Pistons       PF\n",
       "PJ Washington     Charlotte Hornets       PF\n",
       "Derrick Rose        Detroit Pistons       PG\n",
       "Marial Shayok    Philadelphia 76ers        G\n",
       "...                             ...      ...\n",
       "Austin Rivers       Houston Rockets       PG\n",
       "Harry Giles        Sacramento Kings       PF\n",
       "Robin Lopez         Milwaukee Bucks        C\n",
       "Collin Sexton   Cleveland Cavaliers       PG\n",
       "Ricky Rubio            Phoenix Suns       PG\n",
       "\n",
       "[450 rows x 2 columns]"
      ]
     },
     "execution_count": 57,
     "metadata": {},
     "output_type": "execute_result"
    }
   ],
   "source": [
    "# select multiple columns using a list of column names\n",
    "df_nba[['Team','Position']]"
   ]
  },
  {
   "cell_type": "markdown",
   "id": "4112ad57",
   "metadata": {},
   "source": [
    "##### Selecting a column by data type"
   ]
  },
  {
   "cell_type": "markdown",
   "id": "e54fdbdd",
   "metadata": {},
   "source": [
    "**include**"
   ]
  },
  {
   "cell_type": "code",
   "execution_count": 58,
   "id": "2a9f0a77",
   "metadata": {},
   "outputs": [
    {
     "data": {
      "application/vnd.microsoft.datawrangler.viewer.v0+json": {
       "columns": [
        {
         "name": "Name",
         "rawType": "object",
         "type": "string"
        },
        {
         "name": "Team",
         "rawType": "object",
         "type": "string"
        },
        {
         "name": "Position",
         "rawType": "object",
         "type": "string"
        }
       ],
       "ref": "45c6bab7-9b29-4c99-a687-d50bb9b4f6ac",
       "rows": [
        [
         "Shake Milton",
         "Philadelphia 76ers",
         "SG"
        ],
        [
         "Christian Wood",
         "Detroit Pistons",
         "PF"
        ],
        [
         "PJ Washington",
         "Charlotte Hornets",
         "PF"
        ],
        [
         "Derrick Rose",
         "Detroit Pistons",
         "PG"
        ],
        [
         "Marial Shayok",
         "Philadelphia 76ers",
         "G"
        ]
       ],
       "shape": {
        "columns": 2,
        "rows": 5
       }
      },
      "text/html": [
       "<div>\n",
       "<style scoped>\n",
       "    .dataframe tbody tr th:only-of-type {\n",
       "        vertical-align: middle;\n",
       "    }\n",
       "\n",
       "    .dataframe tbody tr th {\n",
       "        vertical-align: top;\n",
       "    }\n",
       "\n",
       "    .dataframe thead th {\n",
       "        text-align: right;\n",
       "    }\n",
       "</style>\n",
       "<table border=\"1\" class=\"dataframe\">\n",
       "  <thead>\n",
       "    <tr style=\"text-align: right;\">\n",
       "      <th></th>\n",
       "      <th>Team</th>\n",
       "      <th>Position</th>\n",
       "    </tr>\n",
       "    <tr>\n",
       "      <th>Name</th>\n",
       "      <th></th>\n",
       "      <th></th>\n",
       "    </tr>\n",
       "  </thead>\n",
       "  <tbody>\n",
       "    <tr>\n",
       "      <th>Shake Milton</th>\n",
       "      <td>Philadelphia 76ers</td>\n",
       "      <td>SG</td>\n",
       "    </tr>\n",
       "    <tr>\n",
       "      <th>Christian Wood</th>\n",
       "      <td>Detroit Pistons</td>\n",
       "      <td>PF</td>\n",
       "    </tr>\n",
       "    <tr>\n",
       "      <th>PJ Washington</th>\n",
       "      <td>Charlotte Hornets</td>\n",
       "      <td>PF</td>\n",
       "    </tr>\n",
       "    <tr>\n",
       "      <th>Derrick Rose</th>\n",
       "      <td>Detroit Pistons</td>\n",
       "      <td>PG</td>\n",
       "    </tr>\n",
       "    <tr>\n",
       "      <th>Marial Shayok</th>\n",
       "      <td>Philadelphia 76ers</td>\n",
       "      <td>G</td>\n",
       "    </tr>\n",
       "  </tbody>\n",
       "</table>\n",
       "</div>"
      ],
      "text/plain": [
       "                              Team Position\n",
       "Name                                       \n",
       "Shake Milton    Philadelphia 76ers       SG\n",
       "Christian Wood     Detroit Pistons       PF\n",
       "PJ Washington    Charlotte Hornets       PF\n",
       "Derrick Rose       Detroit Pistons       PG\n",
       "Marial Shayok   Philadelphia 76ers        G"
      ]
     },
     "execution_count": 58,
     "metadata": {},
     "output_type": "execute_result"
    }
   ],
   "source": [
    "# Select all columns of a specific data type include=['object']\n",
    "df_nba.select_dtypes(include=['object']).head()"
   ]
  },
  {
   "cell_type": "markdown",
   "id": "23ca5850",
   "metadata": {},
   "source": [
    "**exclude**"
   ]
  },
  {
   "cell_type": "code",
   "execution_count": 59,
   "id": "8a5955c6",
   "metadata": {},
   "outputs": [
    {
     "data": {
      "application/vnd.microsoft.datawrangler.viewer.v0+json": {
       "columns": [
        {
         "name": "Name",
         "rawType": "object",
         "type": "string"
        },
        {
         "name": "Birthday",
         "rawType": "datetime64[ns]",
         "type": "datetime"
        }
       ],
       "ref": "091f3d49-d626-4c5c-a688-fa5ef851d0b9",
       "rows": [
        [
         "Shake Milton",
         "1996-09-26 00:00:00"
        ],
        [
         "Christian Wood",
         "1995-09-27 00:00:00"
        ],
        [
         "PJ Washington",
         "1998-08-23 00:00:00"
        ],
        [
         "Derrick Rose",
         "1988-10-04 00:00:00"
        ],
        [
         "Marial Shayok",
         "1995-07-26 00:00:00"
        ]
       ],
       "shape": {
        "columns": 1,
        "rows": 5
       }
      },
      "text/html": [
       "<div>\n",
       "<style scoped>\n",
       "    .dataframe tbody tr th:only-of-type {\n",
       "        vertical-align: middle;\n",
       "    }\n",
       "\n",
       "    .dataframe tbody tr th {\n",
       "        vertical-align: top;\n",
       "    }\n",
       "\n",
       "    .dataframe thead th {\n",
       "        text-align: right;\n",
       "    }\n",
       "</style>\n",
       "<table border=\"1\" class=\"dataframe\">\n",
       "  <thead>\n",
       "    <tr style=\"text-align: right;\">\n",
       "      <th></th>\n",
       "      <th>Birthday</th>\n",
       "    </tr>\n",
       "    <tr>\n",
       "      <th>Name</th>\n",
       "      <th></th>\n",
       "    </tr>\n",
       "  </thead>\n",
       "  <tbody>\n",
       "    <tr>\n",
       "      <th>Shake Milton</th>\n",
       "      <td>1996-09-26</td>\n",
       "    </tr>\n",
       "    <tr>\n",
       "      <th>Christian Wood</th>\n",
       "      <td>1995-09-27</td>\n",
       "    </tr>\n",
       "    <tr>\n",
       "      <th>PJ Washington</th>\n",
       "      <td>1998-08-23</td>\n",
       "    </tr>\n",
       "    <tr>\n",
       "      <th>Derrick Rose</th>\n",
       "      <td>1988-10-04</td>\n",
       "    </tr>\n",
       "    <tr>\n",
       "      <th>Marial Shayok</th>\n",
       "      <td>1995-07-26</td>\n",
       "    </tr>\n",
       "  </tbody>\n",
       "</table>\n",
       "</div>"
      ],
      "text/plain": [
       "                 Birthday\n",
       "Name                     \n",
       "Shake Milton   1996-09-26\n",
       "Christian Wood 1995-09-27\n",
       "PJ Washington  1998-08-23\n",
       "Derrick Rose   1988-10-04\n",
       "Marial Shayok  1995-07-26"
      ]
     },
     "execution_count": 59,
     "metadata": {},
     "output_type": "execute_result"
    }
   ],
   "source": [
    "# Select all columns except specific data types exclude=['object','int64']\n",
    "df_nba.select_dtypes(exclude=['object','int64']).head()"
   ]
  },
  {
   "cell_type": "markdown",
   "id": "ad8e5098",
   "metadata": {},
   "source": [
    "#### Selecting Rows from a DataFrame"
   ]
  },
  {
   "cell_type": "markdown",
   "id": "3fe4322d",
   "metadata": {},
   "source": [
    "##### Extracting Rows by Index Label"
   ]
  },
  {
   "cell_type": "code",
   "execution_count": 60,
   "id": "06895cc8",
   "metadata": {},
   "outputs": [
    {
     "data": {
      "application/vnd.microsoft.datawrangler.viewer.v0+json": {
       "columns": [
        {
         "name": "index",
         "rawType": "object",
         "type": "string"
        },
        {
         "name": "LeBron James",
         "rawType": "object",
         "type": "unknown"
        }
       ],
       "ref": "b0f3b724-eeca-4aac-a07d-52b663a6ac95",
       "rows": [
        [
         "Team",
         "Los Angeles Lakers"
        ],
        [
         "Position",
         "PF"
        ],
        [
         "Birthday",
         "1984-12-30 00:00:00"
        ],
        [
         "Salary",
         "37436858"
        ]
       ],
       "shape": {
        "columns": 1,
        "rows": 4
       }
      },
      "text/plain": [
       "Team         Los Angeles Lakers\n",
       "Position                     PF\n",
       "Birthday    1984-12-30 00:00:00\n",
       "Salary                 37436858\n",
       "Name: LeBron James, dtype: object"
      ]
     },
     "execution_count": 60,
     "metadata": {},
     "output_type": "execute_result"
    }
   ],
   "source": [
    "df_nba.loc[\"LeBron James\"]"
   ]
  },
  {
   "cell_type": "code",
   "execution_count": 61,
   "id": "b4ed5ae8",
   "metadata": {},
   "outputs": [
    {
     "data": {
      "application/vnd.microsoft.datawrangler.viewer.v0+json": {
       "columns": [
        {
         "name": "Name",
         "rawType": "object",
         "type": "string"
        },
        {
         "name": "Team",
         "rawType": "object",
         "type": "string"
        },
        {
         "name": "Position",
         "rawType": "object",
         "type": "string"
        },
        {
         "name": "Birthday",
         "rawType": "datetime64[ns]",
         "type": "datetime"
        },
        {
         "name": "Salary",
         "rawType": "int64",
         "type": "integer"
        }
       ],
       "ref": "85927e05-8fe5-44e1-9043-f29fc8c51807",
       "rows": [
        [
         "Kawhi Leonard",
         "Los Angeles Clippers",
         "SF",
         "1991-06-29 00:00:00",
         "32742000"
        ],
        [
         "Paul George",
         "Los Angeles Clippers",
         "SF",
         "1990-05-02 00:00:00",
         "33005556"
        ]
       ],
       "shape": {
        "columns": 4,
        "rows": 2
       }
      },
      "text/html": [
       "<div>\n",
       "<style scoped>\n",
       "    .dataframe tbody tr th:only-of-type {\n",
       "        vertical-align: middle;\n",
       "    }\n",
       "\n",
       "    .dataframe tbody tr th {\n",
       "        vertical-align: top;\n",
       "    }\n",
       "\n",
       "    .dataframe thead th {\n",
       "        text-align: right;\n",
       "    }\n",
       "</style>\n",
       "<table border=\"1\" class=\"dataframe\">\n",
       "  <thead>\n",
       "    <tr style=\"text-align: right;\">\n",
       "      <th></th>\n",
       "      <th>Team</th>\n",
       "      <th>Position</th>\n",
       "      <th>Birthday</th>\n",
       "      <th>Salary</th>\n",
       "    </tr>\n",
       "    <tr>\n",
       "      <th>Name</th>\n",
       "      <th></th>\n",
       "      <th></th>\n",
       "      <th></th>\n",
       "      <th></th>\n",
       "    </tr>\n",
       "  </thead>\n",
       "  <tbody>\n",
       "    <tr>\n",
       "      <th>Kawhi Leonard</th>\n",
       "      <td>Los Angeles Clippers</td>\n",
       "      <td>SF</td>\n",
       "      <td>1991-06-29</td>\n",
       "      <td>32742000</td>\n",
       "    </tr>\n",
       "    <tr>\n",
       "      <th>Paul George</th>\n",
       "      <td>Los Angeles Clippers</td>\n",
       "      <td>SF</td>\n",
       "      <td>1990-05-02</td>\n",
       "      <td>33005556</td>\n",
       "    </tr>\n",
       "  </tbody>\n",
       "</table>\n",
       "</div>"
      ],
      "text/plain": [
       "                               Team Position   Birthday    Salary\n",
       "Name                                                             \n",
       "Kawhi Leonard  Los Angeles Clippers       SF 1991-06-29  32742000\n",
       "Paul George    Los Angeles Clippers       SF 1990-05-02  33005556"
      ]
     },
     "execution_count": 61,
     "metadata": {},
     "output_type": "execute_result"
    }
   ],
   "source": [
    "# select multiple rows by index labels using a list of index labels\n",
    "df_nba.loc[[\"Kawhi Leonard\", \"Paul George\"]]"
   ]
  },
  {
   "cell_type": "code",
   "execution_count": 62,
   "id": "9d386baa",
   "metadata": {},
   "outputs": [
    {
     "data": {
      "application/vnd.microsoft.datawrangler.viewer.v0+json": {
       "columns": [
        {
         "name": "Name",
         "rawType": "object",
         "type": "string"
        },
        {
         "name": "Team",
         "rawType": "object",
         "type": "string"
        },
        {
         "name": "Position",
         "rawType": "object",
         "type": "string"
        },
        {
         "name": "Birthday",
         "rawType": "datetime64[ns]",
         "type": "datetime"
        },
        {
         "name": "Salary",
         "rawType": "int64",
         "type": "integer"
        }
       ],
       "ref": "b87763fd-6bea-4513-a357-057cedb2e761",
       "rows": [
        [
         "Otto Porter",
         "Chicago Bulls",
         "SF",
         "1993-06-03 00:00:00",
         "27250576"
        ],
        [
         "PJ Dozier",
         "Denver Nuggets",
         "PG",
         "1996-10-25 00:00:00",
         "79568"
        ],
        [
         "PJ Washington",
         "Charlotte Hornets",
         "PF",
         "1998-08-23 00:00:00",
         "3831840"
        ],
        [
         "Pascal Siakam",
         "Toronto Raptors",
         "PF",
         "1994-04-02 00:00:00",
         "2351838"
        ],
        [
         "Pat Connaughton",
         "Milwaukee Bucks",
         "SG",
         "1993-01-06 00:00:00",
         "1723050"
        ],
        [
         "Patrick Beverley",
         "Los Angeles Clippers",
         "PG",
         "1988-07-12 00:00:00",
         "12345680"
        ]
       ],
       "shape": {
        "columns": 4,
        "rows": 6
       }
      },
      "text/html": [
       "<div>\n",
       "<style scoped>\n",
       "    .dataframe tbody tr th:only-of-type {\n",
       "        vertical-align: middle;\n",
       "    }\n",
       "\n",
       "    .dataframe tbody tr th {\n",
       "        vertical-align: top;\n",
       "    }\n",
       "\n",
       "    .dataframe thead th {\n",
       "        text-align: right;\n",
       "    }\n",
       "</style>\n",
       "<table border=\"1\" class=\"dataframe\">\n",
       "  <thead>\n",
       "    <tr style=\"text-align: right;\">\n",
       "      <th></th>\n",
       "      <th>Team</th>\n",
       "      <th>Position</th>\n",
       "      <th>Birthday</th>\n",
       "      <th>Salary</th>\n",
       "    </tr>\n",
       "    <tr>\n",
       "      <th>Name</th>\n",
       "      <th></th>\n",
       "      <th></th>\n",
       "      <th></th>\n",
       "      <th></th>\n",
       "    </tr>\n",
       "  </thead>\n",
       "  <tbody>\n",
       "    <tr>\n",
       "      <th>Otto Porter</th>\n",
       "      <td>Chicago Bulls</td>\n",
       "      <td>SF</td>\n",
       "      <td>1993-06-03</td>\n",
       "      <td>27250576</td>\n",
       "    </tr>\n",
       "    <tr>\n",
       "      <th>PJ Dozier</th>\n",
       "      <td>Denver Nuggets</td>\n",
       "      <td>PG</td>\n",
       "      <td>1996-10-25</td>\n",
       "      <td>79568</td>\n",
       "    </tr>\n",
       "    <tr>\n",
       "      <th>PJ Washington</th>\n",
       "      <td>Charlotte Hornets</td>\n",
       "      <td>PF</td>\n",
       "      <td>1998-08-23</td>\n",
       "      <td>3831840</td>\n",
       "    </tr>\n",
       "    <tr>\n",
       "      <th>Pascal Siakam</th>\n",
       "      <td>Toronto Raptors</td>\n",
       "      <td>PF</td>\n",
       "      <td>1994-04-02</td>\n",
       "      <td>2351838</td>\n",
       "    </tr>\n",
       "    <tr>\n",
       "      <th>Pat Connaughton</th>\n",
       "      <td>Milwaukee Bucks</td>\n",
       "      <td>SG</td>\n",
       "      <td>1993-01-06</td>\n",
       "      <td>1723050</td>\n",
       "    </tr>\n",
       "    <tr>\n",
       "      <th>Patrick Beverley</th>\n",
       "      <td>Los Angeles Clippers</td>\n",
       "      <td>PG</td>\n",
       "      <td>1988-07-12</td>\n",
       "      <td>12345680</td>\n",
       "    </tr>\n",
       "  </tbody>\n",
       "</table>\n",
       "</div>"
      ],
      "text/plain": [
       "                                  Team Position   Birthday    Salary\n",
       "Name                                                                \n",
       "Otto Porter              Chicago Bulls       SF 1993-06-03  27250576\n",
       "PJ Dozier               Denver Nuggets       PG 1996-10-25     79568\n",
       "PJ Washington        Charlotte Hornets       PF 1998-08-23   3831840\n",
       "Pascal Siakam          Toronto Raptors       PF 1994-04-02   2351838\n",
       "Pat Connaughton        Milwaukee Bucks       SG 1993-01-06   1723050\n",
       "Patrick Beverley  Los Angeles Clippers       PG 1988-07-12  12345680"
      ]
     },
     "execution_count": 62,
     "metadata": {},
     "output_type": "execute_result"
    }
   ],
   "source": [
    "#extract rows from \"Otto Porter\" to the end \"Patrick Beverley\"\n",
    "df_nba.sort_index().loc[\"Otto Porter\":\"Patrick Beverley\"]"
   ]
  },
  {
   "cell_type": "code",
   "execution_count": 63,
   "id": "54f175fb",
   "metadata": {},
   "outputs": [
    {
     "data": {
      "application/vnd.microsoft.datawrangler.viewer.v0+json": {
       "columns": [
        {
         "name": "Name",
         "rawType": "object",
         "type": "string"
        },
        {
         "name": "Team",
         "rawType": "object",
         "type": "string"
        },
        {
         "name": "Position",
         "rawType": "object",
         "type": "string"
        },
        {
         "name": "Birthday",
         "rawType": "datetime64[ns]",
         "type": "datetime"
        },
        {
         "name": "Salary",
         "rawType": "int64",
         "type": "integer"
        }
       ],
       "ref": "92340b5e-71d3-41b7-8fb3-13ef715f861e",
       "rows": [
        [
         "Zach Collins",
         "Portland Trail Blazers",
         "C",
         "1997-11-19 00:00:00",
         "4240200"
        ],
        [
         "Zach LaVine",
         "Chicago Bulls",
         "PG",
         "1995-03-10 00:00:00",
         "19500000"
        ],
        [
         "Zach Norvell",
         "Los Angeles Lakers",
         "SG",
         "1997-12-09 00:00:00",
         "79568"
        ],
        [
         "Zhaire Smith",
         "Philadelphia 76ers",
         "SG",
         "1999-06-04 00:00:00",
         "3058800"
        ],
        [
         "Zion Williamson",
         "New Orleans Pelicans",
         "F",
         "2000-07-06 00:00:00",
         "9757440"
        ],
        [
         "Zylan Cheatham",
         "New Orleans Pelicans",
         "SF",
         "1995-11-17 00:00:00",
         "79568"
        ]
       ],
       "shape": {
        "columns": 4,
        "rows": 6
       }
      },
      "text/html": [
       "<div>\n",
       "<style scoped>\n",
       "    .dataframe tbody tr th:only-of-type {\n",
       "        vertical-align: middle;\n",
       "    }\n",
       "\n",
       "    .dataframe tbody tr th {\n",
       "        vertical-align: top;\n",
       "    }\n",
       "\n",
       "    .dataframe thead th {\n",
       "        text-align: right;\n",
       "    }\n",
       "</style>\n",
       "<table border=\"1\" class=\"dataframe\">\n",
       "  <thead>\n",
       "    <tr style=\"text-align: right;\">\n",
       "      <th></th>\n",
       "      <th>Team</th>\n",
       "      <th>Position</th>\n",
       "      <th>Birthday</th>\n",
       "      <th>Salary</th>\n",
       "    </tr>\n",
       "    <tr>\n",
       "      <th>Name</th>\n",
       "      <th></th>\n",
       "      <th></th>\n",
       "      <th></th>\n",
       "      <th></th>\n",
       "    </tr>\n",
       "  </thead>\n",
       "  <tbody>\n",
       "    <tr>\n",
       "      <th>Zach Collins</th>\n",
       "      <td>Portland Trail Blazers</td>\n",
       "      <td>C</td>\n",
       "      <td>1997-11-19</td>\n",
       "      <td>4240200</td>\n",
       "    </tr>\n",
       "    <tr>\n",
       "      <th>Zach LaVine</th>\n",
       "      <td>Chicago Bulls</td>\n",
       "      <td>PG</td>\n",
       "      <td>1995-03-10</td>\n",
       "      <td>19500000</td>\n",
       "    </tr>\n",
       "    <tr>\n",
       "      <th>Zach Norvell</th>\n",
       "      <td>Los Angeles Lakers</td>\n",
       "      <td>SG</td>\n",
       "      <td>1997-12-09</td>\n",
       "      <td>79568</td>\n",
       "    </tr>\n",
       "    <tr>\n",
       "      <th>Zhaire Smith</th>\n",
       "      <td>Philadelphia 76ers</td>\n",
       "      <td>SG</td>\n",
       "      <td>1999-06-04</td>\n",
       "      <td>3058800</td>\n",
       "    </tr>\n",
       "    <tr>\n",
       "      <th>Zion Williamson</th>\n",
       "      <td>New Orleans Pelicans</td>\n",
       "      <td>F</td>\n",
       "      <td>2000-07-06</td>\n",
       "      <td>9757440</td>\n",
       "    </tr>\n",
       "    <tr>\n",
       "      <th>Zylan Cheatham</th>\n",
       "      <td>New Orleans Pelicans</td>\n",
       "      <td>SF</td>\n",
       "      <td>1995-11-17</td>\n",
       "      <td>79568</td>\n",
       "    </tr>\n",
       "  </tbody>\n",
       "</table>\n",
       "</div>"
      ],
      "text/plain": [
       "                                   Team Position   Birthday    Salary\n",
       "Name                                                                 \n",
       "Zach Collins     Portland Trail Blazers        C 1997-11-19   4240200\n",
       "Zach LaVine               Chicago Bulls       PG 1995-03-10  19500000\n",
       "Zach Norvell         Los Angeles Lakers       SG 1997-12-09     79568\n",
       "Zhaire Smith         Philadelphia 76ers       SG 1999-06-04   3058800\n",
       "Zion Williamson    New Orleans Pelicans        F 2000-07-06   9757440\n",
       "Zylan Cheatham     New Orleans Pelicans       SF 1995-11-17     79568"
      ]
     },
     "execution_count": 63,
     "metadata": {},
     "output_type": "execute_result"
    }
   ],
   "source": [
    "# extract rows from \"Zach Collins\" to the end\n",
    "df_nba.sort_index().loc[\"Zach Collins\":]"
   ]
  },
  {
   "cell_type": "code",
   "execution_count": 64,
   "id": "073535b9",
   "metadata": {},
   "outputs": [
    {
     "data": {
      "application/vnd.microsoft.datawrangler.viewer.v0+json": {
       "columns": [
        {
         "name": "Name",
         "rawType": "object",
         "type": "string"
        },
        {
         "name": "Team",
         "rawType": "object",
         "type": "string"
        },
        {
         "name": "Position",
         "rawType": "object",
         "type": "string"
        },
        {
         "name": "Birthday",
         "rawType": "datetime64[ns]",
         "type": "datetime"
        },
        {
         "name": "Salary",
         "rawType": "int64",
         "type": "integer"
        }
       ],
       "ref": "4710cc51-8e22-4233-bb52-6db78591972c",
       "rows": [
        [
         "Aaron Gordon",
         "Orlando Magic",
         "PF",
         "1995-09-16 00:00:00",
         "19863636"
        ],
        [
         "Aaron Holiday",
         "Indiana Pacers",
         "PG",
         "1996-09-30 00:00:00",
         "2239200"
        ],
        [
         "Abdel Nader",
         "Oklahoma City Thunder",
         "SF",
         "1993-09-25 00:00:00",
         "1618520"
        ],
        [
         "Adam Mokoka",
         "Chicago Bulls",
         "G",
         "1998-07-18 00:00:00",
         "79568"
        ],
        [
         "Admiral Schofield",
         "Washington Wizards",
         "SF",
         "1997-03-30 00:00:00",
         "1000000"
        ],
        [
         "Al Horford",
         "Philadelphia 76ers",
         "C",
         "1986-06-03 00:00:00",
         "28000000"
        ]
       ],
       "shape": {
        "columns": 4,
        "rows": 6
       }
      },
      "text/html": [
       "<div>\n",
       "<style scoped>\n",
       "    .dataframe tbody tr th:only-of-type {\n",
       "        vertical-align: middle;\n",
       "    }\n",
       "\n",
       "    .dataframe tbody tr th {\n",
       "        vertical-align: top;\n",
       "    }\n",
       "\n",
       "    .dataframe thead th {\n",
       "        text-align: right;\n",
       "    }\n",
       "</style>\n",
       "<table border=\"1\" class=\"dataframe\">\n",
       "  <thead>\n",
       "    <tr style=\"text-align: right;\">\n",
       "      <th></th>\n",
       "      <th>Team</th>\n",
       "      <th>Position</th>\n",
       "      <th>Birthday</th>\n",
       "      <th>Salary</th>\n",
       "    </tr>\n",
       "    <tr>\n",
       "      <th>Name</th>\n",
       "      <th></th>\n",
       "      <th></th>\n",
       "      <th></th>\n",
       "      <th></th>\n",
       "    </tr>\n",
       "  </thead>\n",
       "  <tbody>\n",
       "    <tr>\n",
       "      <th>Aaron Gordon</th>\n",
       "      <td>Orlando Magic</td>\n",
       "      <td>PF</td>\n",
       "      <td>1995-09-16</td>\n",
       "      <td>19863636</td>\n",
       "    </tr>\n",
       "    <tr>\n",
       "      <th>Aaron Holiday</th>\n",
       "      <td>Indiana Pacers</td>\n",
       "      <td>PG</td>\n",
       "      <td>1996-09-30</td>\n",
       "      <td>2239200</td>\n",
       "    </tr>\n",
       "    <tr>\n",
       "      <th>Abdel Nader</th>\n",
       "      <td>Oklahoma City Thunder</td>\n",
       "      <td>SF</td>\n",
       "      <td>1993-09-25</td>\n",
       "      <td>1618520</td>\n",
       "    </tr>\n",
       "    <tr>\n",
       "      <th>Adam Mokoka</th>\n",
       "      <td>Chicago Bulls</td>\n",
       "      <td>G</td>\n",
       "      <td>1998-07-18</td>\n",
       "      <td>79568</td>\n",
       "    </tr>\n",
       "    <tr>\n",
       "      <th>Admiral Schofield</th>\n",
       "      <td>Washington Wizards</td>\n",
       "      <td>SF</td>\n",
       "      <td>1997-03-30</td>\n",
       "      <td>1000000</td>\n",
       "    </tr>\n",
       "    <tr>\n",
       "      <th>Al Horford</th>\n",
       "      <td>Philadelphia 76ers</td>\n",
       "      <td>C</td>\n",
       "      <td>1986-06-03</td>\n",
       "      <td>28000000</td>\n",
       "    </tr>\n",
       "  </tbody>\n",
       "</table>\n",
       "</div>"
      ],
      "text/plain": [
       "                                    Team Position   Birthday    Salary\n",
       "Name                                                                  \n",
       "Aaron Gordon               Orlando Magic       PF 1995-09-16  19863636\n",
       "Aaron Holiday             Indiana Pacers       PG 1996-09-30   2239200\n",
       "Abdel Nader        Oklahoma City Thunder       SF 1993-09-25   1618520\n",
       "Adam Mokoka                Chicago Bulls        G 1998-07-18     79568\n",
       "Admiral Schofield     Washington Wizards       SF 1997-03-30   1000000\n",
       "Al Horford            Philadelphia 76ers        C 1986-06-03  28000000"
      ]
     },
     "execution_count": 64,
     "metadata": {},
     "output_type": "execute_result"
    }
   ],
   "source": [
    "# extract rows from the beginning to \"Al Horford\"\n",
    "df_nba.sort_index().loc[:\"Al Horford\"]"
   ]
  },
  {
   "cell_type": "markdown",
   "id": "12966ac8",
   "metadata": {},
   "source": [
    "#### Extracting Rows by Index Position"
   ]
  },
  {
   "cell_type": "code",
   "execution_count": 65,
   "id": "d5c291a8",
   "metadata": {},
   "outputs": [
    {
     "data": {
      "application/vnd.microsoft.datawrangler.viewer.v0+json": {
       "columns": [
        {
         "name": "index",
         "rawType": "object",
         "type": "string"
        },
        {
         "name": "Nemanja Bjelica",
         "rawType": "object",
         "type": "unknown"
        }
       ],
       "ref": "a35bb07f-2c29-443d-97fe-8e66aefa852a",
       "rows": [
        [
         "Team",
         "Sacramento Kings"
        ],
        [
         "Position",
         "PF"
        ],
        [
         "Birthday",
         "1988-05-09 00:00:00"
        ],
        [
         "Salary",
         "6825000"
        ]
       ],
       "shape": {
        "columns": 1,
        "rows": 4
       }
      },
      "text/plain": [
       "Team           Sacramento Kings\n",
       "Position                     PF\n",
       "Birthday    1988-05-09 00:00:00\n",
       "Salary                  6825000\n",
       "Name: Nemanja Bjelica, dtype: object"
      ]
     },
     "execution_count": 65,
     "metadata": {},
     "output_type": "execute_result"
    }
   ],
   "source": [
    "# Extracting Rows by Index Position\n",
    "df_nba.iloc[110]"
   ]
  },
  {
   "cell_type": "code",
   "execution_count": 66,
   "id": "fbeec986",
   "metadata": {},
   "outputs": [
    {
     "data": {
      "application/vnd.microsoft.datawrangler.viewer.v0+json": {
       "columns": [
        {
         "name": "Name",
         "rawType": "object",
         "type": "string"
        },
        {
         "name": "Team",
         "rawType": "object",
         "type": "string"
        },
        {
         "name": "Position",
         "rawType": "object",
         "type": "string"
        },
        {
         "name": "Birthday",
         "rawType": "datetime64[ns]",
         "type": "datetime"
        },
        {
         "name": "Salary",
         "rawType": "int64",
         "type": "integer"
        }
       ],
       "ref": "d6f5a636-bf47-4c0f-a61b-5988fbe336a6",
       "rows": [
        [
         "Brian Bowen",
         "Indiana Pacers",
         "SG",
         "1998-10-02 00:00:00",
         "79568"
        ],
        [
         "Marco Belinelli",
         "San Antonio Spurs",
         "SF",
         "1986-03-25 00:00:00",
         "5846154"
        ],
        [
         "Jarred Vanderbilt",
         "Denver Nuggets",
         "PF",
         "1999-04-03 00:00:00",
         "1416852"
        ],
        [
         "Louis King",
         "Detroit Pistons",
         "F",
         "1999-04-06 00:00:00",
         "79568"
        ]
       ],
       "shape": {
        "columns": 4,
        "rows": 4
       }
      },
      "text/html": [
       "<div>\n",
       "<style scoped>\n",
       "    .dataframe tbody tr th:only-of-type {\n",
       "        vertical-align: middle;\n",
       "    }\n",
       "\n",
       "    .dataframe tbody tr th {\n",
       "        vertical-align: top;\n",
       "    }\n",
       "\n",
       "    .dataframe thead th {\n",
       "        text-align: right;\n",
       "    }\n",
       "</style>\n",
       "<table border=\"1\" class=\"dataframe\">\n",
       "  <thead>\n",
       "    <tr style=\"text-align: right;\">\n",
       "      <th></th>\n",
       "      <th>Team</th>\n",
       "      <th>Position</th>\n",
       "      <th>Birthday</th>\n",
       "      <th>Salary</th>\n",
       "    </tr>\n",
       "    <tr>\n",
       "      <th>Name</th>\n",
       "      <th></th>\n",
       "      <th></th>\n",
       "      <th></th>\n",
       "      <th></th>\n",
       "    </tr>\n",
       "  </thead>\n",
       "  <tbody>\n",
       "    <tr>\n",
       "      <th>Brian Bowen</th>\n",
       "      <td>Indiana Pacers</td>\n",
       "      <td>SG</td>\n",
       "      <td>1998-10-02</td>\n",
       "      <td>79568</td>\n",
       "    </tr>\n",
       "    <tr>\n",
       "      <th>Marco Belinelli</th>\n",
       "      <td>San Antonio Spurs</td>\n",
       "      <td>SF</td>\n",
       "      <td>1986-03-25</td>\n",
       "      <td>5846154</td>\n",
       "    </tr>\n",
       "    <tr>\n",
       "      <th>Jarred Vanderbilt</th>\n",
       "      <td>Denver Nuggets</td>\n",
       "      <td>PF</td>\n",
       "      <td>1999-04-03</td>\n",
       "      <td>1416852</td>\n",
       "    </tr>\n",
       "    <tr>\n",
       "      <th>Louis King</th>\n",
       "      <td>Detroit Pistons</td>\n",
       "      <td>F</td>\n",
       "      <td>1999-04-06</td>\n",
       "      <td>79568</td>\n",
       "    </tr>\n",
       "  </tbody>\n",
       "</table>\n",
       "</div>"
      ],
      "text/plain": [
       "                                Team Position   Birthday   Salary\n",
       "Name                                                             \n",
       "Brian Bowen           Indiana Pacers       SG 1998-10-02    79568\n",
       "Marco Belinelli    San Antonio Spurs       SF 1986-03-25  5846154\n",
       "Jarred Vanderbilt     Denver Nuggets       PF 1999-04-03  1416852\n",
       "Louis King           Detroit Pistons        F 1999-04-06    79568"
      ]
     },
     "execution_count": 66,
     "metadata": {},
     "output_type": "execute_result"
    }
   ],
   "source": [
    "# Extracting Rows by Index Position\n",
    "df_nba.iloc[[100, 200, 300, 400]]"
   ]
  },
  {
   "cell_type": "code",
   "execution_count": 67,
   "id": "811ca70e",
   "metadata": {},
   "outputs": [
    {
     "data": {
      "application/vnd.microsoft.datawrangler.viewer.v0+json": {
       "columns": [
        {
         "name": "Name",
         "rawType": "object",
         "type": "string"
        },
        {
         "name": "Team",
         "rawType": "object",
         "type": "string"
        },
        {
         "name": "Position",
         "rawType": "object",
         "type": "string"
        },
        {
         "name": "Birthday",
         "rawType": "datetime64[ns]",
         "type": "datetime"
        },
        {
         "name": "Salary",
         "rawType": "int64",
         "type": "integer"
        }
       ],
       "ref": "1287794b-41c1-4e68-9751-7984a537c402",
       "rows": [
        [
         "Chandler Parsons",
         "Atlanta Hawks",
         "SF",
         "1988-10-25 00:00:00",
         "25102512"
        ],
        [
         "Courtney Lee",
         "Dallas Mavericks",
         "SG",
         "1985-10-03 00:00:00",
         "12759670"
        ],
        [
         "Myles Turner",
         "Indiana Pacers",
         "C",
         "1996-03-24 00:00:00",
         "18000000"
        ],
        [
         "Kyle O'Quinn",
         "Philadelphia 76ers",
         "C",
         "1990-03-26 00:00:00",
         "2174318"
        ],
        [
         "Bryn Forbes",
         "San Antonio Spurs",
         "SG",
         "1993-07-23 00:00:00",
         "2875000"
        ]
       ],
       "shape": {
        "columns": 4,
        "rows": 5
       }
      },
      "text/html": [
       "<div>\n",
       "<style scoped>\n",
       "    .dataframe tbody tr th:only-of-type {\n",
       "        vertical-align: middle;\n",
       "    }\n",
       "\n",
       "    .dataframe tbody tr th {\n",
       "        vertical-align: top;\n",
       "    }\n",
       "\n",
       "    .dataframe thead th {\n",
       "        text-align: right;\n",
       "    }\n",
       "</style>\n",
       "<table border=\"1\" class=\"dataframe\">\n",
       "  <thead>\n",
       "    <tr style=\"text-align: right;\">\n",
       "      <th></th>\n",
       "      <th>Team</th>\n",
       "      <th>Position</th>\n",
       "      <th>Birthday</th>\n",
       "      <th>Salary</th>\n",
       "    </tr>\n",
       "    <tr>\n",
       "      <th>Name</th>\n",
       "      <th></th>\n",
       "      <th></th>\n",
       "      <th></th>\n",
       "      <th></th>\n",
       "    </tr>\n",
       "  </thead>\n",
       "  <tbody>\n",
       "    <tr>\n",
       "      <th>Chandler Parsons</th>\n",
       "      <td>Atlanta Hawks</td>\n",
       "      <td>SF</td>\n",
       "      <td>1988-10-25</td>\n",
       "      <td>25102512</td>\n",
       "    </tr>\n",
       "    <tr>\n",
       "      <th>Courtney Lee</th>\n",
       "      <td>Dallas Mavericks</td>\n",
       "      <td>SG</td>\n",
       "      <td>1985-10-03</td>\n",
       "      <td>12759670</td>\n",
       "    </tr>\n",
       "    <tr>\n",
       "      <th>Myles Turner</th>\n",
       "      <td>Indiana Pacers</td>\n",
       "      <td>C</td>\n",
       "      <td>1996-03-24</td>\n",
       "      <td>18000000</td>\n",
       "    </tr>\n",
       "    <tr>\n",
       "      <th>Kyle O'Quinn</th>\n",
       "      <td>Philadelphia 76ers</td>\n",
       "      <td>C</td>\n",
       "      <td>1990-03-26</td>\n",
       "      <td>2174318</td>\n",
       "    </tr>\n",
       "    <tr>\n",
       "      <th>Bryn Forbes</th>\n",
       "      <td>San Antonio Spurs</td>\n",
       "      <td>SG</td>\n",
       "      <td>1993-07-23</td>\n",
       "      <td>2875000</td>\n",
       "    </tr>\n",
       "  </tbody>\n",
       "</table>\n",
       "</div>"
      ],
      "text/plain": [
       "                                Team Position   Birthday    Salary\n",
       "Name                                                              \n",
       "Chandler Parsons       Atlanta Hawks       SF 1988-10-25  25102512\n",
       "Courtney Lee        Dallas Mavericks       SG 1985-10-03  12759670\n",
       "Myles Turner          Indiana Pacers        C 1996-03-24  18000000\n",
       "Kyle O'Quinn      Philadelphia 76ers        C 1990-03-26   2174318\n",
       "Bryn Forbes        San Antonio Spurs       SG 1993-07-23   2875000"
      ]
     },
     "execution_count": 67,
     "metadata": {},
     "output_type": "execute_result"
    }
   ],
   "source": [
    "# Extracting Rows by Index Position using slicing\n",
    "df_nba.iloc[111:116]"
   ]
  },
  {
   "cell_type": "code",
   "execution_count": 68,
   "id": "8a25e0f3",
   "metadata": {},
   "outputs": [
    {
     "data": {
      "application/vnd.microsoft.datawrangler.viewer.v0+json": {
       "columns": [
        {
         "name": "Name",
         "rawType": "object",
         "type": "string"
        },
        {
         "name": "Team",
         "rawType": "object",
         "type": "string"
        },
        {
         "name": "Position",
         "rawType": "object",
         "type": "string"
        },
        {
         "name": "Birthday",
         "rawType": "datetime64[ns]",
         "type": "datetime"
        },
        {
         "name": "Salary",
         "rawType": "int64",
         "type": "integer"
        }
       ],
       "ref": "660dbc1e-b813-430d-a775-58ffcb2f4377",
       "rows": [
        [
         "Shake Milton",
         "Philadelphia 76ers",
         "SG",
         "1996-09-26 00:00:00",
         "1445697"
        ],
        [
         "Christian Wood",
         "Detroit Pistons",
         "PF",
         "1995-09-27 00:00:00",
         "1645357"
        ],
        [
         "PJ Washington",
         "Charlotte Hornets",
         "PF",
         "1998-08-23 00:00:00",
         "3831840"
        ],
        [
         "Derrick Rose",
         "Detroit Pistons",
         "PG",
         "1988-10-04 00:00:00",
         "7317074"
        ],
        [
         "Marial Shayok",
         "Philadelphia 76ers",
         "G",
         "1995-07-26 00:00:00",
         "79568"
        ]
       ],
       "shape": {
        "columns": 4,
        "rows": 5
       }
      },
      "text/html": [
       "<div>\n",
       "<style scoped>\n",
       "    .dataframe tbody tr th:only-of-type {\n",
       "        vertical-align: middle;\n",
       "    }\n",
       "\n",
       "    .dataframe tbody tr th {\n",
       "        vertical-align: top;\n",
       "    }\n",
       "\n",
       "    .dataframe thead th {\n",
       "        text-align: right;\n",
       "    }\n",
       "</style>\n",
       "<table border=\"1\" class=\"dataframe\">\n",
       "  <thead>\n",
       "    <tr style=\"text-align: right;\">\n",
       "      <th></th>\n",
       "      <th>Team</th>\n",
       "      <th>Position</th>\n",
       "      <th>Birthday</th>\n",
       "      <th>Salary</th>\n",
       "    </tr>\n",
       "    <tr>\n",
       "      <th>Name</th>\n",
       "      <th></th>\n",
       "      <th></th>\n",
       "      <th></th>\n",
       "      <th></th>\n",
       "    </tr>\n",
       "  </thead>\n",
       "  <tbody>\n",
       "    <tr>\n",
       "      <th>Shake Milton</th>\n",
       "      <td>Philadelphia 76ers</td>\n",
       "      <td>SG</td>\n",
       "      <td>1996-09-26</td>\n",
       "      <td>1445697</td>\n",
       "    </tr>\n",
       "    <tr>\n",
       "      <th>Christian Wood</th>\n",
       "      <td>Detroit Pistons</td>\n",
       "      <td>PF</td>\n",
       "      <td>1995-09-27</td>\n",
       "      <td>1645357</td>\n",
       "    </tr>\n",
       "    <tr>\n",
       "      <th>PJ Washington</th>\n",
       "      <td>Charlotte Hornets</td>\n",
       "      <td>PF</td>\n",
       "      <td>1998-08-23</td>\n",
       "      <td>3831840</td>\n",
       "    </tr>\n",
       "    <tr>\n",
       "      <th>Derrick Rose</th>\n",
       "      <td>Detroit Pistons</td>\n",
       "      <td>PG</td>\n",
       "      <td>1988-10-04</td>\n",
       "      <td>7317074</td>\n",
       "    </tr>\n",
       "    <tr>\n",
       "      <th>Marial Shayok</th>\n",
       "      <td>Philadelphia 76ers</td>\n",
       "      <td>G</td>\n",
       "      <td>1995-07-26</td>\n",
       "      <td>79568</td>\n",
       "    </tr>\n",
       "  </tbody>\n",
       "</table>\n",
       "</div>"
      ],
      "text/plain": [
       "                              Team Position   Birthday   Salary\n",
       "Name                                                           \n",
       "Shake Milton    Philadelphia 76ers       SG 1996-09-26  1445697\n",
       "Christian Wood     Detroit Pistons       PF 1995-09-27  1645357\n",
       "PJ Washington    Charlotte Hornets       PF 1998-08-23  3831840\n",
       "Derrick Rose       Detroit Pistons       PG 1988-10-04  7317074\n",
       "Marial Shayok   Philadelphia 76ers        G 1995-07-26    79568"
      ]
     },
     "execution_count": 68,
     "metadata": {},
     "output_type": "execute_result"
    }
   ],
   "source": [
    "df_nba.iloc[:5]"
   ]
  },
  {
   "cell_type": "code",
   "execution_count": 69,
   "id": "42e1aa90",
   "metadata": {},
   "outputs": [
    {
     "data": {
      "application/vnd.microsoft.datawrangler.viewer.v0+json": {
       "columns": [
        {
         "name": "Name",
         "rawType": "object",
         "type": "string"
        },
        {
         "name": "Team",
         "rawType": "object",
         "type": "string"
        },
        {
         "name": "Position",
         "rawType": "object",
         "type": "string"
        },
        {
         "name": "Birthday",
         "rawType": "datetime64[ns]",
         "type": "datetime"
        },
        {
         "name": "Salary",
         "rawType": "int64",
         "type": "integer"
        }
       ],
       "ref": "204c2b45-c7a6-4e68-ab10-3237e2f11ced",
       "rows": [
        [
         "Austin Rivers",
         "Houston Rockets",
         "PG",
         "1992-08-01 00:00:00",
         "2174310"
        ],
        [
         "Harry Giles",
         "Sacramento Kings",
         "PF",
         "1998-04-22 00:00:00",
         "2578800"
        ],
        [
         "Robin Lopez",
         "Milwaukee Bucks",
         "C",
         "1988-04-01 00:00:00",
         "4767000"
        ],
        [
         "Collin Sexton",
         "Cleveland Cavaliers",
         "PG",
         "1999-01-04 00:00:00",
         "4764960"
        ],
        [
         "Ricky Rubio",
         "Phoenix Suns",
         "PG",
         "1990-10-21 00:00:00",
         "16200000"
        ]
       ],
       "shape": {
        "columns": 4,
        "rows": 5
       }
      },
      "text/html": [
       "<div>\n",
       "<style scoped>\n",
       "    .dataframe tbody tr th:only-of-type {\n",
       "        vertical-align: middle;\n",
       "    }\n",
       "\n",
       "    .dataframe tbody tr th {\n",
       "        vertical-align: top;\n",
       "    }\n",
       "\n",
       "    .dataframe thead th {\n",
       "        text-align: right;\n",
       "    }\n",
       "</style>\n",
       "<table border=\"1\" class=\"dataframe\">\n",
       "  <thead>\n",
       "    <tr style=\"text-align: right;\">\n",
       "      <th></th>\n",
       "      <th>Team</th>\n",
       "      <th>Position</th>\n",
       "      <th>Birthday</th>\n",
       "      <th>Salary</th>\n",
       "    </tr>\n",
       "    <tr>\n",
       "      <th>Name</th>\n",
       "      <th></th>\n",
       "      <th></th>\n",
       "      <th></th>\n",
       "      <th></th>\n",
       "    </tr>\n",
       "  </thead>\n",
       "  <tbody>\n",
       "    <tr>\n",
       "      <th>Austin Rivers</th>\n",
       "      <td>Houston Rockets</td>\n",
       "      <td>PG</td>\n",
       "      <td>1992-08-01</td>\n",
       "      <td>2174310</td>\n",
       "    </tr>\n",
       "    <tr>\n",
       "      <th>Harry Giles</th>\n",
       "      <td>Sacramento Kings</td>\n",
       "      <td>PF</td>\n",
       "      <td>1998-04-22</td>\n",
       "      <td>2578800</td>\n",
       "    </tr>\n",
       "    <tr>\n",
       "      <th>Robin Lopez</th>\n",
       "      <td>Milwaukee Bucks</td>\n",
       "      <td>C</td>\n",
       "      <td>1988-04-01</td>\n",
       "      <td>4767000</td>\n",
       "    </tr>\n",
       "    <tr>\n",
       "      <th>Collin Sexton</th>\n",
       "      <td>Cleveland Cavaliers</td>\n",
       "      <td>PG</td>\n",
       "      <td>1999-01-04</td>\n",
       "      <td>4764960</td>\n",
       "    </tr>\n",
       "    <tr>\n",
       "      <th>Ricky Rubio</th>\n",
       "      <td>Phoenix Suns</td>\n",
       "      <td>PG</td>\n",
       "      <td>1990-10-21</td>\n",
       "      <td>16200000</td>\n",
       "    </tr>\n",
       "  </tbody>\n",
       "</table>\n",
       "</div>"
      ],
      "text/plain": [
       "                              Team Position   Birthday    Salary\n",
       "Name                                                            \n",
       "Austin Rivers      Houston Rockets       PG 1992-08-01   2174310\n",
       "Harry Giles       Sacramento Kings       PF 1998-04-22   2578800\n",
       "Robin Lopez        Milwaukee Bucks        C 1988-04-01   4767000\n",
       "Collin Sexton  Cleveland Cavaliers       PG 1999-01-04   4764960\n",
       "Ricky Rubio           Phoenix Suns       PG 1990-10-21  16200000"
      ]
     },
     "execution_count": 69,
     "metadata": {},
     "output_type": "execute_result"
    }
   ],
   "source": [
    "df_nba.iloc[445:]"
   ]
  },
  {
   "cell_type": "code",
   "execution_count": 70,
   "id": "9fb5b88e",
   "metadata": {},
   "outputs": [
    {
     "data": {
      "application/vnd.microsoft.datawrangler.viewer.v0+json": {
       "columns": [
        {
         "name": "Name",
         "rawType": "object",
         "type": "string"
        },
        {
         "name": "Team",
         "rawType": "object",
         "type": "string"
        },
        {
         "name": "Position",
         "rawType": "object",
         "type": "string"
        },
        {
         "name": "Birthday",
         "rawType": "datetime64[ns]",
         "type": "datetime"
        },
        {
         "name": "Salary",
         "rawType": "int64",
         "type": "integer"
        }
       ],
       "ref": "c3eaab8a-3e43-4002-91c1-8b8ad2bc9f74",
       "rows": [
        [
         "Jared Dudley",
         "Los Angeles Lakers",
         "PF",
         "1985-07-10 00:00:00",
         "2564753"
        ],
        [
         "Max Strus",
         "Chicago Bulls",
         "SG",
         "1996-03-28 00:00:00",
         "79568"
        ],
        [
         "Kevon Looney",
         "Golden State Warriors",
         "C",
         "1996-02-06 00:00:00",
         "4464286"
        ],
        [
         "Willy Hernangomez",
         "Charlotte Hornets",
         "C",
         "1994-05-27 00:00:00",
         "1557250"
        ],
        [
         "Melvin Frazier",
         "Orlando Magic",
         "SG",
         "1996-08-30 00:00:00",
         "1416852"
        ]
       ],
       "shape": {
        "columns": 4,
        "rows": 5
       }
      },
      "text/html": [
       "<div>\n",
       "<style scoped>\n",
       "    .dataframe tbody tr th:only-of-type {\n",
       "        vertical-align: middle;\n",
       "    }\n",
       "\n",
       "    .dataframe tbody tr th {\n",
       "        vertical-align: top;\n",
       "    }\n",
       "\n",
       "    .dataframe thead th {\n",
       "        text-align: right;\n",
       "    }\n",
       "</style>\n",
       "<table border=\"1\" class=\"dataframe\">\n",
       "  <thead>\n",
       "    <tr style=\"text-align: right;\">\n",
       "      <th></th>\n",
       "      <th>Team</th>\n",
       "      <th>Position</th>\n",
       "      <th>Birthday</th>\n",
       "      <th>Salary</th>\n",
       "    </tr>\n",
       "    <tr>\n",
       "      <th>Name</th>\n",
       "      <th></th>\n",
       "      <th></th>\n",
       "      <th></th>\n",
       "      <th></th>\n",
       "    </tr>\n",
       "  </thead>\n",
       "  <tbody>\n",
       "    <tr>\n",
       "      <th>Jared Dudley</th>\n",
       "      <td>Los Angeles Lakers</td>\n",
       "      <td>PF</td>\n",
       "      <td>1985-07-10</td>\n",
       "      <td>2564753</td>\n",
       "    </tr>\n",
       "    <tr>\n",
       "      <th>Max Strus</th>\n",
       "      <td>Chicago Bulls</td>\n",
       "      <td>SG</td>\n",
       "      <td>1996-03-28</td>\n",
       "      <td>79568</td>\n",
       "    </tr>\n",
       "    <tr>\n",
       "      <th>Kevon Looney</th>\n",
       "      <td>Golden State Warriors</td>\n",
       "      <td>C</td>\n",
       "      <td>1996-02-06</td>\n",
       "      <td>4464286</td>\n",
       "    </tr>\n",
       "    <tr>\n",
       "      <th>Willy Hernangomez</th>\n",
       "      <td>Charlotte Hornets</td>\n",
       "      <td>C</td>\n",
       "      <td>1994-05-27</td>\n",
       "      <td>1557250</td>\n",
       "    </tr>\n",
       "    <tr>\n",
       "      <th>Melvin Frazier</th>\n",
       "      <td>Orlando Magic</td>\n",
       "      <td>SG</td>\n",
       "      <td>1996-08-30</td>\n",
       "      <td>1416852</td>\n",
       "    </tr>\n",
       "  </tbody>\n",
       "</table>\n",
       "</div>"
      ],
      "text/plain": [
       "                                    Team Position   Birthday   Salary\n",
       "Name                                                                 \n",
       "Jared Dudley          Los Angeles Lakers       PF 1985-07-10  2564753\n",
       "Max Strus                  Chicago Bulls       SG 1996-03-28    79568\n",
       "Kevon Looney       Golden State Warriors        C 1996-02-06  4464286\n",
       "Willy Hernangomez      Charlotte Hornets        C 1994-05-27  1557250\n",
       "Melvin Frazier             Orlando Magic       SG 1996-08-30  1416852"
      ]
     },
     "execution_count": 70,
     "metadata": {},
     "output_type": "execute_result"
    }
   ],
   "source": [
    "# Extracting Rows by Index Position using negative indexing from the last 10 to the last 5\n",
    "df_nba.iloc[-10:-5]"
   ]
  },
  {
   "cell_type": "code",
   "execution_count": 71,
   "id": "b0ce7676",
   "metadata": {},
   "outputs": [
    {
     "data": {
      "application/vnd.microsoft.datawrangler.viewer.v0+json": {
       "columns": [
        {
         "name": "Name",
         "rawType": "object",
         "type": "string"
        },
        {
         "name": "Team",
         "rawType": "object",
         "type": "string"
        },
        {
         "name": "Position",
         "rawType": "object",
         "type": "string"
        },
        {
         "name": "Birthday",
         "rawType": "datetime64[ns]",
         "type": "datetime"
        },
        {
         "name": "Salary",
         "rawType": "int64",
         "type": "integer"
        }
       ],
       "ref": "be122fe9-b7cf-4e79-8d1a-9e94cb9222db",
       "rows": [
        [
         "Shake Milton",
         "Philadelphia 76ers",
         "SG",
         "1996-09-26 00:00:00",
         "1445697"
        ],
        [
         "PJ Washington",
         "Charlotte Hornets",
         "PF",
         "1998-08-23 00:00:00",
         "3831840"
        ],
        [
         "Marial Shayok",
         "Philadelphia 76ers",
         "G",
         "1995-07-26 00:00:00",
         "79568"
        ],
        [
         "Kendrick Nunn",
         "Miami Heat",
         "SG",
         "1995-08-03 00:00:00",
         "1416852"
        ],
        [
         "Brook Lopez",
         "Milwaukee Bucks",
         "C",
         "1988-04-01 00:00:00",
         "12093024"
        ]
       ],
       "shape": {
        "columns": 4,
        "rows": 5
       }
      },
      "text/html": [
       "<div>\n",
       "<style scoped>\n",
       "    .dataframe tbody tr th:only-of-type {\n",
       "        vertical-align: middle;\n",
       "    }\n",
       "\n",
       "    .dataframe tbody tr th {\n",
       "        vertical-align: top;\n",
       "    }\n",
       "\n",
       "    .dataframe thead th {\n",
       "        text-align: right;\n",
       "    }\n",
       "</style>\n",
       "<table border=\"1\" class=\"dataframe\">\n",
       "  <thead>\n",
       "    <tr style=\"text-align: right;\">\n",
       "      <th></th>\n",
       "      <th>Team</th>\n",
       "      <th>Position</th>\n",
       "      <th>Birthday</th>\n",
       "      <th>Salary</th>\n",
       "    </tr>\n",
       "    <tr>\n",
       "      <th>Name</th>\n",
       "      <th></th>\n",
       "      <th></th>\n",
       "      <th></th>\n",
       "      <th></th>\n",
       "    </tr>\n",
       "  </thead>\n",
       "  <tbody>\n",
       "    <tr>\n",
       "      <th>Shake Milton</th>\n",
       "      <td>Philadelphia 76ers</td>\n",
       "      <td>SG</td>\n",
       "      <td>1996-09-26</td>\n",
       "      <td>1445697</td>\n",
       "    </tr>\n",
       "    <tr>\n",
       "      <th>PJ Washington</th>\n",
       "      <td>Charlotte Hornets</td>\n",
       "      <td>PF</td>\n",
       "      <td>1998-08-23</td>\n",
       "      <td>3831840</td>\n",
       "    </tr>\n",
       "    <tr>\n",
       "      <th>Marial Shayok</th>\n",
       "      <td>Philadelphia 76ers</td>\n",
       "      <td>G</td>\n",
       "      <td>1995-07-26</td>\n",
       "      <td>79568</td>\n",
       "    </tr>\n",
       "    <tr>\n",
       "      <th>Kendrick Nunn</th>\n",
       "      <td>Miami Heat</td>\n",
       "      <td>SG</td>\n",
       "      <td>1995-08-03</td>\n",
       "      <td>1416852</td>\n",
       "    </tr>\n",
       "    <tr>\n",
       "      <th>Brook Lopez</th>\n",
       "      <td>Milwaukee Bucks</td>\n",
       "      <td>C</td>\n",
       "      <td>1988-04-01</td>\n",
       "      <td>12093024</td>\n",
       "    </tr>\n",
       "  </tbody>\n",
       "</table>\n",
       "</div>"
      ],
      "text/plain": [
       "                             Team Position   Birthday    Salary\n",
       "Name                                                           \n",
       "Shake Milton   Philadelphia 76ers       SG 1996-09-26   1445697\n",
       "PJ Washington   Charlotte Hornets       PF 1998-08-23   3831840\n",
       "Marial Shayok  Philadelphia 76ers        G 1995-07-26     79568\n",
       "Kendrick Nunn          Miami Heat       SG 1995-08-03   1416852\n",
       "Brook Lopez       Milwaukee Bucks        C 1988-04-01  12093024"
      ]
     },
     "execution_count": 71,
     "metadata": {},
     "output_type": "execute_result"
    }
   ],
   "source": [
    "# Extracting Rows by Index Position using slicing with a step 2 => 0, 2, 4, 6, 8\n",
    "df_nba.iloc[0:10:2]"
   ]
  },
  {
   "cell_type": "markdown",
   "id": "6cc83a49",
   "metadata": {},
   "source": [
    "#### Extracting Values from Specific Columns"
   ]
  },
  {
   "cell_type": "code",
   "execution_count": 72,
   "id": "8285a60b",
   "metadata": {},
   "outputs": [
    {
     "data": {
      "text/plain": [
       "'Los Angeles Lakers'"
      ]
     },
     "execution_count": 72,
     "metadata": {},
     "output_type": "execute_result"
    }
   ],
   "source": [
    "# Extracting Values from Specific Columns with specific Index Labels like a crossroad\n",
    "df_nba.loc[\"LeBron James\", \"Team\"]"
   ]
  },
  {
   "cell_type": "code",
   "execution_count": 73,
   "id": "d942a871",
   "metadata": {},
   "outputs": [
    {
     "data": {
      "application/vnd.microsoft.datawrangler.viewer.v0+json": {
       "columns": [
        {
         "name": "index",
         "rawType": "object",
         "type": "string"
        },
        {
         "name": "James Harden",
         "rawType": "object",
         "type": "unknown"
        }
       ],
       "ref": "51aba2fc-f618-4052-83c4-d5ccc092e3a5",
       "rows": [
        [
         "Team",
         "Houston Rockets"
        ],
        [
         "Salary",
         "38199000"
        ],
        [
         "Position",
         "PG"
        ]
       ],
       "shape": {
        "columns": 1,
        "rows": 3
       }
      },
      "text/plain": [
       "Team        Houston Rockets\n",
       "Salary             38199000\n",
       "Position                 PG\n",
       "Name: James Harden, dtype: object"
      ]
     },
     "execution_count": 73,
     "metadata": {},
     "output_type": "execute_result"
    }
   ],
   "source": [
    "# Extracting Values from Specific Columns using index label. Rreturns a Series \"Team\", \"Salary\", \"Position\"\n",
    "df_nba.loc[\"James Harden\", [\"Team\", \"Salary\", \"Position\"]]"
   ]
  },
  {
   "cell_type": "code",
   "execution_count": 74,
   "id": "276c6e3d",
   "metadata": {},
   "outputs": [
    {
     "data": {
      "application/vnd.microsoft.datawrangler.viewer.v0+json": {
       "columns": [
        {
         "name": "Name",
         "rawType": "object",
         "type": "string"
        },
        {
         "name": "Team",
         "rawType": "object",
         "type": "string"
        },
        {
         "name": "Position",
         "rawType": "object",
         "type": "string"
        }
       ],
       "ref": "dc91207c-929c-49e3-84b4-e90e2b7d9c14",
       "rows": [
        [
         "Russell Westbrook",
         "Houston Rockets",
         "PG"
        ],
        [
         "Anthony Davis",
         "Los Angeles Lakers",
         "C"
        ]
       ],
       "shape": {
        "columns": 2,
        "rows": 2
       }
      },
      "text/html": [
       "<div>\n",
       "<style scoped>\n",
       "    .dataframe tbody tr th:only-of-type {\n",
       "        vertical-align: middle;\n",
       "    }\n",
       "\n",
       "    .dataframe tbody tr th {\n",
       "        vertical-align: top;\n",
       "    }\n",
       "\n",
       "    .dataframe thead th {\n",
       "        text-align: right;\n",
       "    }\n",
       "</style>\n",
       "<table border=\"1\" class=\"dataframe\">\n",
       "  <thead>\n",
       "    <tr style=\"text-align: right;\">\n",
       "      <th></th>\n",
       "      <th>Team</th>\n",
       "      <th>Position</th>\n",
       "    </tr>\n",
       "    <tr>\n",
       "      <th>Name</th>\n",
       "      <th></th>\n",
       "      <th></th>\n",
       "    </tr>\n",
       "  </thead>\n",
       "  <tbody>\n",
       "    <tr>\n",
       "      <th>Russell Westbrook</th>\n",
       "      <td>Houston Rockets</td>\n",
       "      <td>PG</td>\n",
       "    </tr>\n",
       "    <tr>\n",
       "      <th>Anthony Davis</th>\n",
       "      <td>Los Angeles Lakers</td>\n",
       "      <td>C</td>\n",
       "    </tr>\n",
       "  </tbody>\n",
       "</table>\n",
       "</div>"
      ],
      "text/plain": [
       "                                 Team Position\n",
       "Name                                          \n",
       "Russell Westbrook     Houston Rockets       PG\n",
       "Anthony Davis      Los Angeles Lakers        C"
      ]
     },
     "execution_count": 74,
     "metadata": {},
     "output_type": "execute_result"
    }
   ],
   "source": [
    "# Extracting Values from Specific Columns using index labels. Returns a DataFrame\n",
    "df_nba.loc[[\"Russell Westbrook\", \"Anthony Davis\"], [\"Team\", \"Position\"] ]"
   ]
  },
  {
   "cell_type": "code",
   "execution_count": 75,
   "id": "4d5c1962",
   "metadata": {},
   "outputs": [
    {
     "data": {
      "application/vnd.microsoft.datawrangler.viewer.v0+json": {
       "columns": [
        {
         "name": "index",
         "rawType": "object",
         "type": "string"
        },
        {
         "name": "James Harden",
         "rawType": "object",
         "type": "unknown"
        }
       ],
       "ref": "95a24a5c-3148-4414-a1b0-16e7ac102c73",
       "rows": [
        [
         "Position",
         "PG"
        ],
        [
         "Birthday",
         "1989-08-26 00:00:00"
        ],
        [
         "Salary",
         "38199000"
        ]
       ],
       "shape": {
        "columns": 1,
        "rows": 3
       }
      },
      "text/plain": [
       "Position                     PG\n",
       "Birthday    1989-08-26 00:00:00\n",
       "Salary                 38199000\n",
       "Name: James Harden, dtype: object"
      ]
     },
     "execution_count": 75,
     "metadata": {},
     "output_type": "execute_result"
    }
   ],
   "source": [
    "# Extracting Values from Specific Columns using index labels and slicing of columns.\n",
    "df_nba.loc[\"James Harden\", \"Position\":\"Salary\"]"
   ]
  },
  {
   "cell_type": "code",
   "execution_count": 76,
   "id": "6ebdb37e",
   "metadata": {},
   "outputs": [
    {
     "data": {
      "text/plain": [
       "796806"
      ]
     },
     "execution_count": 76,
     "metadata": {},
     "output_type": "execute_result"
    }
   ],
   "source": [
    "# Extracting Values from Specific Columns using index position and index of the column. 3 - \"Salary\" column.\n",
    "df_nba.iloc[57, 3]"
   ]
  },
  {
   "cell_type": "code",
   "execution_count": 77,
   "id": "36486ffb",
   "metadata": {},
   "outputs": [
    {
     "data": {
      "application/vnd.microsoft.datawrangler.viewer.v0+json": {
       "columns": [
        {
         "name": "Name",
         "rawType": "object",
         "type": "string"
        },
        {
         "name": "Team",
         "rawType": "object",
         "type": "string"
        },
        {
         "name": "Position",
         "rawType": "object",
         "type": "string"
        },
        {
         "name": "Birthday",
         "rawType": "datetime64[ns]",
         "type": "datetime"
        }
       ],
       "ref": "e7907468-4d6b-4d1e-8272-f6fb99f3ea74",
       "rows": [
        [
         "Brian Bowen",
         "Indiana Pacers",
         "SG",
         "1998-10-02 00:00:00"
        ],
        [
         "Aaron Holiday",
         "Indiana Pacers",
         "PG",
         "1996-09-30 00:00:00"
        ],
        [
         "Troy Daniels",
         "Los Angeles Lakers",
         "SG",
         "1991-07-15 00:00:00"
        ],
        [
         "Buddy Hield",
         "Sacramento Kings",
         "SG",
         "1992-12-17 00:00:00"
        ],
        [
         "Terance Mann",
         "Los Angeles Clippers",
         "SG",
         "1996-10-18 00:00:00"
        ]
       ],
       "shape": {
        "columns": 3,
        "rows": 5
       }
      },
      "text/html": [
       "<div>\n",
       "<style scoped>\n",
       "    .dataframe tbody tr th:only-of-type {\n",
       "        vertical-align: middle;\n",
       "    }\n",
       "\n",
       "    .dataframe tbody tr th {\n",
       "        vertical-align: top;\n",
       "    }\n",
       "\n",
       "    .dataframe thead th {\n",
       "        text-align: right;\n",
       "    }\n",
       "</style>\n",
       "<table border=\"1\" class=\"dataframe\">\n",
       "  <thead>\n",
       "    <tr style=\"text-align: right;\">\n",
       "      <th></th>\n",
       "      <th>Team</th>\n",
       "      <th>Position</th>\n",
       "      <th>Birthday</th>\n",
       "    </tr>\n",
       "    <tr>\n",
       "      <th>Name</th>\n",
       "      <th></th>\n",
       "      <th></th>\n",
       "      <th></th>\n",
       "    </tr>\n",
       "  </thead>\n",
       "  <tbody>\n",
       "    <tr>\n",
       "      <th>Brian Bowen</th>\n",
       "      <td>Indiana Pacers</td>\n",
       "      <td>SG</td>\n",
       "      <td>1998-10-02</td>\n",
       "    </tr>\n",
       "    <tr>\n",
       "      <th>Aaron Holiday</th>\n",
       "      <td>Indiana Pacers</td>\n",
       "      <td>PG</td>\n",
       "      <td>1996-09-30</td>\n",
       "    </tr>\n",
       "    <tr>\n",
       "      <th>Troy Daniels</th>\n",
       "      <td>Los Angeles Lakers</td>\n",
       "      <td>SG</td>\n",
       "      <td>1991-07-15</td>\n",
       "    </tr>\n",
       "    <tr>\n",
       "      <th>Buddy Hield</th>\n",
       "      <td>Sacramento Kings</td>\n",
       "      <td>SG</td>\n",
       "      <td>1992-12-17</td>\n",
       "    </tr>\n",
       "    <tr>\n",
       "      <th>Terance Mann</th>\n",
       "      <td>Los Angeles Clippers</td>\n",
       "      <td>SG</td>\n",
       "      <td>1996-10-18</td>\n",
       "    </tr>\n",
       "  </tbody>\n",
       "</table>\n",
       "</div>"
      ],
      "text/plain": [
       "                               Team Position   Birthday\n",
       "Name                                                   \n",
       "Brian Bowen          Indiana Pacers       SG 1998-10-02\n",
       "Aaron Holiday        Indiana Pacers       PG 1996-09-30\n",
       "Troy Daniels     Los Angeles Lakers       SG 1991-07-15\n",
       "Buddy Hield        Sacramento Kings       SG 1992-12-17\n",
       "Terance Mann   Los Angeles Clippers       SG 1996-10-18"
      ]
     },
     "execution_count": 77,
     "metadata": {},
     "output_type": "execute_result"
    }
   ],
   "source": [
    "# Extracting Values from Specific Columns using index position and slicing of columns. First 3 columns\n",
    "df_nba.iloc[100:105, :3]"
   ]
  },
  {
   "cell_type": "markdown",
   "id": "f14e423e",
   "metadata": {},
   "source": [
    "##### Attributes at and iat return only single value"
   ]
  },
  {
   "cell_type": "code",
   "execution_count": 78,
   "id": "03f12729",
   "metadata": {},
   "outputs": [
    {
     "data": {
      "text/plain": [
       "'Los Angeles Lakers'"
      ]
     },
     "execution_count": 78,
     "metadata": {},
     "output_type": "execute_result"
    }
   ],
   "source": [
    "# Series.at : Access a single value by label.\n",
    "df_nba.at[\"LeBron James\", \"Team\"]"
   ]
  },
  {
   "cell_type": "code",
   "execution_count": 79,
   "id": "09ed6580",
   "metadata": {},
   "outputs": [
    {
     "data": {
      "text/plain": [
       "'PF'"
      ]
     },
     "execution_count": 79,
     "metadata": {},
     "output_type": "execute_result"
    }
   ],
   "source": [
    "df_nba.iat[263, 1]"
   ]
  },
  {
   "cell_type": "markdown",
   "id": "f85693cf",
   "metadata": {},
   "source": [
    "##### Extracting Values from Series"
   ]
  },
  {
   "cell_type": "code",
   "execution_count": 80,
   "id": "d27faa0c",
   "metadata": {},
   "outputs": [
    {
     "data": {
      "text/plain": [
       "29802321"
      ]
     },
     "execution_count": 80,
     "metadata": {},
     "output_type": "execute_result"
    }
   ],
   "source": [
    "df_nba[\"Salary\"].loc[\"Damian Lillard\"]"
   ]
  },
  {
   "cell_type": "code",
   "execution_count": 81,
   "id": "cf62a39b",
   "metadata": {},
   "outputs": [
    {
     "data": {
      "text/plain": [
       "29802321"
      ]
     },
     "execution_count": 81,
     "metadata": {},
     "output_type": "execute_result"
    }
   ],
   "source": [
    "df_nba[\"Salary\"].at[\"Damian Lillard\"]"
   ]
  },
  {
   "cell_type": "code",
   "execution_count": 82,
   "id": "c3ef0f3c",
   "metadata": {},
   "outputs": [
    {
     "data": {
      "text/plain": [
       "2033160"
      ]
     },
     "execution_count": 82,
     "metadata": {},
     "output_type": "execute_result"
    }
   ],
   "source": [
    "df_nba[\"Salary\"].iloc[234]"
   ]
  },
  {
   "cell_type": "code",
   "execution_count": 83,
   "id": "3f0c1b81",
   "metadata": {},
   "outputs": [
    {
     "data": {
      "text/plain": [
       "2033160"
      ]
     },
     "execution_count": 83,
     "metadata": {},
     "output_type": "execute_result"
    }
   ],
   "source": [
    "df_nba[\"Salary\"].iat[234]"
   ]
  },
  {
   "cell_type": "markdown",
   "id": "a713bee3",
   "metadata": {},
   "source": [
    "##### Speed of performance"
   ]
  },
  {
   "cell_type": "code",
   "execution_count": 84,
   "id": "3e0790f4",
   "metadata": {},
   "outputs": [
    {
     "name": "stdout",
     "output_type": "stream",
     "text": [
      "2.36 μs ± 187 ns per loop (mean ± std. dev. of 7 runs, 100,000 loops each)\n"
     ]
    }
   ],
   "source": [
    "%%timeit\n",
    "df_nba.at[\"Austin Rivers\", \"Birthday\"]"
   ]
  },
  {
   "cell_type": "code",
   "execution_count": 85,
   "id": "e18efcc4",
   "metadata": {},
   "outputs": [
    {
     "name": "stdout",
     "output_type": "stream",
     "text": [
      "3.61 μs ± 31.3 ns per loop (mean ± std. dev. of 7 runs, 100,000 loops each)\n"
     ]
    }
   ],
   "source": [
    "%%timeit\n",
    "df_nba.loc[\"Austin Rivers\", \"Birthday\"]"
   ]
  },
  {
   "cell_type": "code",
   "execution_count": 86,
   "id": "bef095ff",
   "metadata": {},
   "outputs": [
    {
     "name": "stdout",
     "output_type": "stream",
     "text": [
      "4.2 μs ± 131 ns per loop (mean ± std. dev. of 7 runs, 100,000 loops each)\n"
     ]
    }
   ],
   "source": [
    "%%timeit\n",
    "df_nba.iat[123, 1]"
   ]
  },
  {
   "cell_type": "code",
   "execution_count": 87,
   "id": "1092ae0b",
   "metadata": {},
   "outputs": [
    {
     "name": "stdout",
     "output_type": "stream",
     "text": [
      "5.68 μs ± 278 ns per loop (mean ± std. dev. of 7 runs, 100,000 loops each)\n"
     ]
    }
   ],
   "source": [
    "%%timeit\n",
    "df_nba.iloc[263, 1]"
   ]
  },
  {
   "cell_type": "markdown",
   "id": "892509e5",
   "metadata": {},
   "source": [
    "#### Renaming Columns or Rows"
   ]
  },
  {
   "cell_type": "code",
   "execution_count": 88,
   "id": "68edead1",
   "metadata": {},
   "outputs": [
    {
     "data": {
      "text/plain": [
       "Index(['Team', 'Position', 'Birthday', 'Salary'], dtype='object')"
      ]
     },
     "execution_count": 88,
     "metadata": {},
     "output_type": "execute_result"
    }
   ],
   "source": [
    "df_nba.columns"
   ]
  },
  {
   "cell_type": "code",
   "execution_count": 89,
   "id": "808fa884",
   "metadata": {},
   "outputs": [
    {
     "data": {
      "application/vnd.microsoft.datawrangler.viewer.v0+json": {
       "columns": [
        {
         "name": "Name",
         "rawType": "object",
         "type": "string"
        },
        {
         "name": "Team",
         "rawType": "object",
         "type": "string"
        },
        {
         "name": "Position",
         "rawType": "object",
         "type": "string"
        },
        {
         "name": "Date of Birth",
         "rawType": "datetime64[ns]",
         "type": "datetime"
        },
        {
         "name": "Pay",
         "rawType": "int64",
         "type": "integer"
        }
       ],
       "ref": "2bd28a61-27bd-4069-a91e-0842075927ba",
       "rows": [
        [
         "Shake Milton",
         "Philadelphia 76ers",
         "SG",
         "1996-09-26 00:00:00",
         "1445697"
        ]
       ],
       "shape": {
        "columns": 4,
        "rows": 1
       }
      },
      "text/html": [
       "<div>\n",
       "<style scoped>\n",
       "    .dataframe tbody tr th:only-of-type {\n",
       "        vertical-align: middle;\n",
       "    }\n",
       "\n",
       "    .dataframe tbody tr th {\n",
       "        vertical-align: top;\n",
       "    }\n",
       "\n",
       "    .dataframe thead th {\n",
       "        text-align: right;\n",
       "    }\n",
       "</style>\n",
       "<table border=\"1\" class=\"dataframe\">\n",
       "  <thead>\n",
       "    <tr style=\"text-align: right;\">\n",
       "      <th></th>\n",
       "      <th>Team</th>\n",
       "      <th>Position</th>\n",
       "      <th>Date of Birth</th>\n",
       "      <th>Pay</th>\n",
       "    </tr>\n",
       "    <tr>\n",
       "      <th>Name</th>\n",
       "      <th></th>\n",
       "      <th></th>\n",
       "      <th></th>\n",
       "      <th></th>\n",
       "    </tr>\n",
       "  </thead>\n",
       "  <tbody>\n",
       "    <tr>\n",
       "      <th>Shake Milton</th>\n",
       "      <td>Philadelphia 76ers</td>\n",
       "      <td>SG</td>\n",
       "      <td>1996-09-26</td>\n",
       "      <td>1445697</td>\n",
       "    </tr>\n",
       "  </tbody>\n",
       "</table>\n",
       "</div>"
      ],
      "text/plain": [
       "                            Team Position Date of Birth      Pay\n",
       "Name                                                            \n",
       "Shake Milton  Philadelphia 76ers       SG    1996-09-26  1445697"
      ]
     },
     "execution_count": 89,
     "metadata": {},
     "output_type": "execute_result"
    }
   ],
   "source": [
    "df_nba.columns = [\"Team\", \"Position\", \"Date of Birth\", \"Pay\"]\n",
    "df_nba.head(1)"
   ]
  },
  {
   "cell_type": "markdown",
   "id": "260f971e",
   "metadata": {},
   "source": [
    "**Columns were renamed**"
   ]
  },
  {
   "cell_type": "code",
   "execution_count": 90,
   "id": "f46ebf14",
   "metadata": {},
   "outputs": [
    {
     "data": {
      "text/plain": [
       "Index(['Team', 'Position', 'Date of Birth', 'Pay'], dtype='object')"
      ]
     },
     "execution_count": 90,
     "metadata": {},
     "output_type": "execute_result"
    }
   ],
   "source": [
    "df_nba.columns"
   ]
  },
  {
   "cell_type": "markdown",
   "id": "afbe79c8",
   "metadata": {},
   "source": [
    "**Use rename function to change column name**"
   ]
  },
  {
   "cell_type": "code",
   "execution_count": 91,
   "id": "a27328ed",
   "metadata": {},
   "outputs": [],
   "source": [
    "df_nba = df_nba.rename(columns={\"Date of Birth\": \"Birthday\"})"
   ]
  },
  {
   "cell_type": "code",
   "execution_count": 92,
   "id": "68c89364",
   "metadata": {},
   "outputs": [
    {
     "data": {
      "text/plain": [
       "Index(['Team', 'Position', 'Birthday', 'Pay'], dtype='object')"
      ]
     },
     "execution_count": 92,
     "metadata": {},
     "output_type": "execute_result"
    }
   ],
   "source": [
    "df_nba.columns"
   ]
  },
  {
   "cell_type": "markdown",
   "id": "65337ca4",
   "metadata": {},
   "source": [
    "**Change index name**"
   ]
  },
  {
   "cell_type": "code",
   "execution_count": 93,
   "id": "7d1ab9ea",
   "metadata": {},
   "outputs": [
    {
     "data": {
      "application/vnd.microsoft.datawrangler.viewer.v0+json": {
       "columns": [
        {
         "name": "index",
         "rawType": "object",
         "type": "string"
        },
        {
         "name": "Giannis Antetokounmpo",
         "rawType": "object",
         "type": "unknown"
        }
       ],
       "ref": "b7de3ee5-afe6-42dd-88cb-f7f749f943ff",
       "rows": [
        [
         "Team",
         "Milwaukee Bucks"
        ],
        [
         "Position",
         "PF"
        ],
        [
         "Birthday",
         "1994-12-06 00:00:00"
        ],
        [
         "Pay",
         "25842697"
        ]
       ],
       "shape": {
        "columns": 1,
        "rows": 4
       }
      },
      "text/plain": [
       "Team            Milwaukee Bucks\n",
       "Position                     PF\n",
       "Birthday    1994-12-06 00:00:00\n",
       "Pay                    25842697\n",
       "Name: Giannis Antetokounmpo, dtype: object"
      ]
     },
     "execution_count": 93,
     "metadata": {},
     "output_type": "execute_result"
    }
   ],
   "source": [
    "df_nba.loc[\"Giannis Antetokounmpo\"]"
   ]
  },
  {
   "cell_type": "code",
   "execution_count": 94,
   "id": "5ff7c045",
   "metadata": {},
   "outputs": [],
   "source": [
    "df_nba = df_nba.rename(index={\"Giannis Antetokounmpo\": \"Greek Freak\"})"
   ]
  },
  {
   "cell_type": "code",
   "execution_count": 95,
   "id": "fd89631b",
   "metadata": {},
   "outputs": [
    {
     "data": {
      "application/vnd.microsoft.datawrangler.viewer.v0+json": {
       "columns": [
        {
         "name": "index",
         "rawType": "object",
         "type": "string"
        },
        {
         "name": "Greek Freak",
         "rawType": "object",
         "type": "unknown"
        }
       ],
       "ref": "c44f3a37-d11b-45d1-97f1-31bf7291078f",
       "rows": [
        [
         "Team",
         "Milwaukee Bucks"
        ],
        [
         "Position",
         "PF"
        ],
        [
         "Birthday",
         "1994-12-06 00:00:00"
        ],
        [
         "Pay",
         "25842697"
        ]
       ],
       "shape": {
        "columns": 1,
        "rows": 4
       }
      },
      "text/plain": [
       "Team            Milwaukee Bucks\n",
       "Position                     PF\n",
       "Birthday    1994-12-06 00:00:00\n",
       "Pay                    25842697\n",
       "Name: Greek Freak, dtype: object"
      ]
     },
     "execution_count": 95,
     "metadata": {},
     "output_type": "execute_result"
    }
   ],
   "source": [
    "df_nba.loc[\"Greek Freak\"]"
   ]
  },
  {
   "cell_type": "markdown",
   "id": "fc201ae4",
   "metadata": {},
   "source": [
    "#### Resetting an Index"
   ]
  },
  {
   "cell_type": "markdown",
   "id": "cccd9ba4",
   "metadata": {},
   "source": [
    "**At first the Dataframe should be reset. It will save Name coulmn**"
   ]
  },
  {
   "cell_type": "code",
   "execution_count": 102,
   "id": "632d9b3b",
   "metadata": {},
   "outputs": [],
   "source": [
    "df_nba = df_nba.reset_index()"
   ]
  },
  {
   "cell_type": "code",
   "execution_count": 105,
   "id": "525ca74e",
   "metadata": {},
   "outputs": [
    {
     "data": {
      "application/vnd.microsoft.datawrangler.viewer.v0+json": {
       "columns": [
        {
         "name": "index",
         "rawType": "int64",
         "type": "integer"
        },
        {
         "name": "Team",
         "rawType": "object",
         "type": "string"
        },
        {
         "name": "Name",
         "rawType": "object",
         "type": "string"
        },
        {
         "name": "Position",
         "rawType": "object",
         "type": "string"
        },
        {
         "name": "Birthday",
         "rawType": "datetime64[ns]",
         "type": "datetime"
        },
        {
         "name": "Pay",
         "rawType": "int64",
         "type": "integer"
        }
       ],
       "ref": "3c98824d-85a4-483d-922e-d70096394194",
       "rows": [
        [
         "0",
         "Philadelphia 76ers",
         "Shake Milton",
         "SG",
         "1996-09-26 00:00:00",
         "1445697"
        ]
       ],
       "shape": {
        "columns": 5,
        "rows": 1
       }
      },
      "text/html": [
       "<div>\n",
       "<style scoped>\n",
       "    .dataframe tbody tr th:only-of-type {\n",
       "        vertical-align: middle;\n",
       "    }\n",
       "\n",
       "    .dataframe tbody tr th {\n",
       "        vertical-align: top;\n",
       "    }\n",
       "\n",
       "    .dataframe thead th {\n",
       "        text-align: right;\n",
       "    }\n",
       "</style>\n",
       "<table border=\"1\" class=\"dataframe\">\n",
       "  <thead>\n",
       "    <tr style=\"text-align: right;\">\n",
       "      <th></th>\n",
       "      <th>Team</th>\n",
       "      <th>Name</th>\n",
       "      <th>Position</th>\n",
       "      <th>Birthday</th>\n",
       "      <th>Pay</th>\n",
       "    </tr>\n",
       "  </thead>\n",
       "  <tbody>\n",
       "    <tr>\n",
       "      <th>0</th>\n",
       "      <td>Philadelphia 76ers</td>\n",
       "      <td>Shake Milton</td>\n",
       "      <td>SG</td>\n",
       "      <td>1996-09-26</td>\n",
       "      <td>1445697</td>\n",
       "    </tr>\n",
       "  </tbody>\n",
       "</table>\n",
       "</div>"
      ],
      "text/plain": [
       "                 Team          Name Position   Birthday      Pay\n",
       "0  Philadelphia 76ers  Shake Milton       SG 1996-09-26  1445697"
      ]
     },
     "execution_count": 105,
     "metadata": {},
     "output_type": "execute_result"
    }
   ],
   "source": [
    "df_nba.head(1)"
   ]
  },
  {
   "cell_type": "code",
   "execution_count": null,
   "id": "a5b48167",
   "metadata": {},
   "outputs": [
    {
     "data": {
      "application/vnd.microsoft.datawrangler.viewer.v0+json": {
       "columns": [
        {
         "name": "Team",
         "rawType": "object",
         "type": "string"
        },
        {
         "name": "Name",
         "rawType": "object",
         "type": "string"
        },
        {
         "name": "Position",
         "rawType": "object",
         "type": "string"
        },
        {
         "name": "Birthday",
         "rawType": "datetime64[ns]",
         "type": "datetime"
        },
        {
         "name": "Pay",
         "rawType": "int64",
         "type": "integer"
        }
       ],
       "ref": "844edb92-e189-4ed4-a7b8-e38c1f080bae",
       "rows": [
        [
         "Philadelphia 76ers",
         "Shake Milton",
         "SG",
         "1996-09-26 00:00:00",
         "1445697"
        ],
        [
         "Detroit Pistons",
         "Christian Wood",
         "PF",
         "1995-09-27 00:00:00",
         "1645357"
        ],
        [
         "Charlotte Hornets",
         "PJ Washington",
         "PF",
         "1998-08-23 00:00:00",
         "3831840"
        ],
        [
         "Detroit Pistons",
         "Derrick Rose",
         "PG",
         "1988-10-04 00:00:00",
         "7317074"
        ],
        [
         "Philadelphia 76ers",
         "Marial Shayok",
         "G",
         "1995-07-26 00:00:00",
         "79568"
        ],
        [
         "Golden State Warriors",
         "Draymond Green",
         "PF",
         "1990-03-04 00:00:00",
         "18539130"
        ],
        [
         "Miami Heat",
         "Kendrick Nunn",
         "SG",
         "1995-08-03 00:00:00",
         "1416852"
        ],
        [
         "Cleveland Cavaliers",
         "Cedi Osman",
         "SF",
         "1995-04-08 00:00:00",
         "2907143"
        ],
        [
         "Milwaukee Bucks",
         "Brook Lopez",
         "C",
         "1988-04-01 00:00:00",
         "12093024"
        ],
        [
         "Denver Nuggets",
         "Torrey Craig",
         "SF",
         "1990-12-19 00:00:00",
         "2000000"
        ],
        [
         "Cleveland Cavaliers",
         "Jordan Clarkson",
         "PG",
         "1992-06-07 00:00:00",
         "13437500"
        ],
        [
         "Los Angeles Lakers",
         "Alex Caruso",
         "PG",
         "1994-02-28 00:00:00",
         "2750000"
        ],
        [
         "Philadelphia 76ers",
         "Norvel Pelle",
         "FC",
         "1993-02-03 00:00:00",
         "79568"
        ],
        [
         "Phoenix Suns",
         "Tyler Johnson",
         "PG",
         "1992-05-07 00:00:00",
         "19245370"
        ],
        [
         "Golden State Warriors",
         "Alec Burks",
         "SG",
         "1991-07-20 00:00:00",
         "2320044"
        ],
        [
         "Los Angeles Clippers",
         "JaMychal Green",
         "PF",
         "1990-06-21 00:00:00",
         "4767000"
        ],
        [
         "Los Angeles Lakers",
         "Dwight Howard",
         "C",
         "1985-12-08 00:00:00",
         "5603850"
        ],
        [
         "Denver Nuggets",
         "Nikola Jokic",
         "C",
         "1995-02-19 00:00:00",
         "27504630"
        ],
        [
         "Toronto Raptors",
         "Chris Boucher",
         "PF",
         "1993-01-11 00:00:00",
         "1588231"
        ],
        [
         "New York Knicks",
         "Marcus Morris",
         "PF",
         "1989-09-02 00:00:00",
         "15000000"
        ],
        [
         "Atlanta Hawks",
         "Kevin Huerter",
         "SG",
         "1998-08-27 00:00:00",
         "2636280"
        ],
        [
         "Washington Wizards",
         "Rui Hachimura",
         "PF",
         "1998-02-08 00:00:00",
         "4469160"
        ],
        [
         "Milwaukee Bucks",
         "George Hill",
         "PG",
         "1986-05-04 00:00:00",
         "10133907"
        ],
        [
         "New Orleans Pelicans",
         "Nickeil Alexander-Walker",
         "SG",
         "1998-09-02 00:00:00",
         "2964840"
        ],
        [
         "Portland Trail Blazers",
         "Jaylen Hoard",
         "SF",
         "1999-03-30 00:00:00",
         "79568"
        ],
        [
         "Cleveland Cavaliers",
         "Tyler Cook",
         "PF",
         "1997-09-23 00:00:00",
         "79568"
        ],
        [
         "Chicago Bulls",
         "Otto Porter",
         "SF",
         "1993-06-03 00:00:00",
         "27250576"
        ],
        [
         "Detroit Pistons",
         "Langston Galloway",
         "PG",
         "1991-12-09 00:00:00",
         "7333333"
        ],
        [
         "Atlanta Hawks",
         "Evan Turner",
         "PG",
         "1988-10-27 00:00:00",
         "18606556"
        ],
        [
         "Toronto Raptors",
         "Norman Powell",
         "SG",
         "1993-05-25 00:00:00",
         "10116576"
        ],
        [
         "Brooklyn Nets",
         "Nicolas Claxton",
         "PF",
         "1999-04-17 00:00:00",
         "898310"
        ],
        [
         "Houston Rockets",
         "Michael Frazier",
         "G",
         "1994-03-08 00:00:00",
         "79568"
        ],
        [
         "Denver Nuggets",
         "Paul Millsap",
         "PF",
         "1985-02-10 00:00:00",
         "30000000"
        ],
        [
         "Philadelphia 76ers",
         "Furkan Korkmaz",
         "SG",
         "1997-07-24 00:00:00",
         "1620564"
        ],
        [
         "Philadelphia 76ers",
         "Trey Burke",
         "PG",
         "1992-11-12 00:00:00",
         "2028594"
        ],
        [
         "Washington Wizards",
         "Bradley Beal",
         "SG",
         "1993-06-28 00:00:00",
         "27093018"
        ],
        [
         "Washington Wizards",
         "Thomas Bryant",
         "C",
         "1997-07-31 00:00:00",
         "8000000"
        ],
        [
         "Cleveland Cavaliers",
         "Dean Wade",
         "PF",
         "1996-11-20 00:00:00",
         "79568"
        ],
        [
         "Oklahoma City Thunder",
         "Chris Paul",
         "PG",
         "1985-05-06 00:00:00",
         "38506482"
        ],
        [
         "New Orleans Pelicans",
         "Josh Hart",
         "SF",
         "1995-03-06 00:00:00",
         "1934160"
        ],
        [
         "San Antonio Spurs",
         "LaMarcus Aldridge",
         "C",
         "1985-07-19 00:00:00",
         "26000000"
        ],
        [
         "Sacramento Kings",
         "DaQuan Jeffries",
         "SG",
         "1997-08-30 00:00:00",
         "898310"
        ],
        [
         "Oklahoma City Thunder",
         "Hamidou Diallo",
         "SF",
         "1998-07-31 00:00:00",
         "1416852"
        ],
        [
         "Denver Nuggets",
         "Jamal Murray",
         "PG",
         "1997-02-23 00:00:00",
         "4444746"
        ],
        [
         "Oklahoma City Thunder",
         "Darius Bazley",
         "PF",
         "2000-06-12 00:00:00",
         "2284800"
        ],
        [
         "Charlotte Hornets",
         "Robert Franks",
         "F",
         "1996-12-18 00:00:00",
         "79568"
        ],
        [
         "Houston Rockets",
         "Gerald Green",
         "SF",
         "1986-01-26 00:00:00",
         "2564753"
        ],
        [
         "Chicago Bulls",
         "Thaddeus Young",
         "PF",
         "1988-06-21 00:00:00",
         "12900000"
        ],
        [
         "Detroit Pistons",
         "Sviatoslav Mykhailiuk",
         "SF",
         "1997-06-10 00:00:00",
         "1416852"
        ],
        [
         "Washington Wizards",
         "Ian Mahinmi",
         "C",
         "1986-11-05 00:00:00",
         "15450051"
        ]
       ],
       "shape": {
        "columns": 4,
        "rows": 450
       }
      },
      "text/html": [
       "<div>\n",
       "<style scoped>\n",
       "    .dataframe tbody tr th:only-of-type {\n",
       "        vertical-align: middle;\n",
       "    }\n",
       "\n",
       "    .dataframe tbody tr th {\n",
       "        vertical-align: top;\n",
       "    }\n",
       "\n",
       "    .dataframe thead th {\n",
       "        text-align: right;\n",
       "    }\n",
       "</style>\n",
       "<table border=\"1\" class=\"dataframe\">\n",
       "  <thead>\n",
       "    <tr style=\"text-align: right;\">\n",
       "      <th></th>\n",
       "      <th>Name</th>\n",
       "      <th>Position</th>\n",
       "      <th>Birthday</th>\n",
       "      <th>Pay</th>\n",
       "    </tr>\n",
       "    <tr>\n",
       "      <th>Team</th>\n",
       "      <th></th>\n",
       "      <th></th>\n",
       "      <th></th>\n",
       "      <th></th>\n",
       "    </tr>\n",
       "  </thead>\n",
       "  <tbody>\n",
       "    <tr>\n",
       "      <th>Philadelphia 76ers</th>\n",
       "      <td>Shake Milton</td>\n",
       "      <td>SG</td>\n",
       "      <td>1996-09-26</td>\n",
       "      <td>1445697</td>\n",
       "    </tr>\n",
       "    <tr>\n",
       "      <th>Detroit Pistons</th>\n",
       "      <td>Christian Wood</td>\n",
       "      <td>PF</td>\n",
       "      <td>1995-09-27</td>\n",
       "      <td>1645357</td>\n",
       "    </tr>\n",
       "    <tr>\n",
       "      <th>Charlotte Hornets</th>\n",
       "      <td>PJ Washington</td>\n",
       "      <td>PF</td>\n",
       "      <td>1998-08-23</td>\n",
       "      <td>3831840</td>\n",
       "    </tr>\n",
       "    <tr>\n",
       "      <th>Detroit Pistons</th>\n",
       "      <td>Derrick Rose</td>\n",
       "      <td>PG</td>\n",
       "      <td>1988-10-04</td>\n",
       "      <td>7317074</td>\n",
       "    </tr>\n",
       "    <tr>\n",
       "      <th>Philadelphia 76ers</th>\n",
       "      <td>Marial Shayok</td>\n",
       "      <td>G</td>\n",
       "      <td>1995-07-26</td>\n",
       "      <td>79568</td>\n",
       "    </tr>\n",
       "    <tr>\n",
       "      <th>...</th>\n",
       "      <td>...</td>\n",
       "      <td>...</td>\n",
       "      <td>...</td>\n",
       "      <td>...</td>\n",
       "    </tr>\n",
       "    <tr>\n",
       "      <th>Houston Rockets</th>\n",
       "      <td>Austin Rivers</td>\n",
       "      <td>PG</td>\n",
       "      <td>1992-08-01</td>\n",
       "      <td>2174310</td>\n",
       "    </tr>\n",
       "    <tr>\n",
       "      <th>Sacramento Kings</th>\n",
       "      <td>Harry Giles</td>\n",
       "      <td>PF</td>\n",
       "      <td>1998-04-22</td>\n",
       "      <td>2578800</td>\n",
       "    </tr>\n",
       "    <tr>\n",
       "      <th>Milwaukee Bucks</th>\n",
       "      <td>Robin Lopez</td>\n",
       "      <td>C</td>\n",
       "      <td>1988-04-01</td>\n",
       "      <td>4767000</td>\n",
       "    </tr>\n",
       "    <tr>\n",
       "      <th>Cleveland Cavaliers</th>\n",
       "      <td>Collin Sexton</td>\n",
       "      <td>PG</td>\n",
       "      <td>1999-01-04</td>\n",
       "      <td>4764960</td>\n",
       "    </tr>\n",
       "    <tr>\n",
       "      <th>Phoenix Suns</th>\n",
       "      <td>Ricky Rubio</td>\n",
       "      <td>PG</td>\n",
       "      <td>1990-10-21</td>\n",
       "      <td>16200000</td>\n",
       "    </tr>\n",
       "  </tbody>\n",
       "</table>\n",
       "<p>450 rows × 4 columns</p>\n",
       "</div>"
      ],
      "text/plain": [
       "                               Name Position   Birthday       Pay\n",
       "Team                                                             \n",
       "Philadelphia 76ers     Shake Milton       SG 1996-09-26   1445697\n",
       "Detroit Pistons      Christian Wood       PF 1995-09-27   1645357\n",
       "Charlotte Hornets     PJ Washington       PF 1998-08-23   3831840\n",
       "Detroit Pistons        Derrick Rose       PG 1988-10-04   7317074\n",
       "Philadelphia 76ers    Marial Shayok        G 1995-07-26     79568\n",
       "...                             ...      ...        ...       ...\n",
       "Houston Rockets       Austin Rivers       PG 1992-08-01   2174310\n",
       "Sacramento Kings        Harry Giles       PF 1998-04-22   2578800\n",
       "Milwaukee Bucks         Robin Lopez        C 1988-04-01   4767000\n",
       "Cleveland Cavaliers   Collin Sexton       PG 1999-01-04   4764960\n",
       "Phoenix Suns            Ricky Rubio       PG 1990-10-21  16200000\n",
       "\n",
       "[450 rows x 4 columns]"
      ]
     },
     "execution_count": 106,
     "metadata": {},
     "output_type": "execute_result"
    }
   ],
   "source": [
    "df_nba = df_nba.set_index('Team')"
   ]
  },
  {
   "cell_type": "code",
   "execution_count": 109,
   "id": "d77deaad",
   "metadata": {},
   "outputs": [
    {
     "data": {
      "application/vnd.microsoft.datawrangler.viewer.v0+json": {
       "columns": [
        {
         "name": "Team",
         "rawType": "object",
         "type": "string"
        },
        {
         "name": "Name",
         "rawType": "object",
         "type": "string"
        },
        {
         "name": "Position",
         "rawType": "object",
         "type": "string"
        },
        {
         "name": "Birthday",
         "rawType": "datetime64[ns]",
         "type": "datetime"
        },
        {
         "name": "Pay",
         "rawType": "int64",
         "type": "integer"
        }
       ],
       "ref": "ab7e30c3-207a-45b1-8ccd-be25ce9dd55e",
       "rows": [
        [
         "Philadelphia 76ers",
         "Shake Milton",
         "SG",
         "1996-09-26 00:00:00",
         "1445697"
        ],
        [
         "Detroit Pistons",
         "Christian Wood",
         "PF",
         "1995-09-27 00:00:00",
         "1645357"
        ],
        [
         "Charlotte Hornets",
         "PJ Washington",
         "PF",
         "1998-08-23 00:00:00",
         "3831840"
        ],
        [
         "Detroit Pistons",
         "Derrick Rose",
         "PG",
         "1988-10-04 00:00:00",
         "7317074"
        ],
        [
         "Philadelphia 76ers",
         "Marial Shayok",
         "G",
         "1995-07-26 00:00:00",
         "79568"
        ]
       ],
       "shape": {
        "columns": 4,
        "rows": 5
       }
      },
      "text/html": [
       "<div>\n",
       "<style scoped>\n",
       "    .dataframe tbody tr th:only-of-type {\n",
       "        vertical-align: middle;\n",
       "    }\n",
       "\n",
       "    .dataframe tbody tr th {\n",
       "        vertical-align: top;\n",
       "    }\n",
       "\n",
       "    .dataframe thead th {\n",
       "        text-align: right;\n",
       "    }\n",
       "</style>\n",
       "<table border=\"1\" class=\"dataframe\">\n",
       "  <thead>\n",
       "    <tr style=\"text-align: right;\">\n",
       "      <th></th>\n",
       "      <th>Name</th>\n",
       "      <th>Position</th>\n",
       "      <th>Birthday</th>\n",
       "      <th>Pay</th>\n",
       "    </tr>\n",
       "    <tr>\n",
       "      <th>Team</th>\n",
       "      <th></th>\n",
       "      <th></th>\n",
       "      <th></th>\n",
       "      <th></th>\n",
       "    </tr>\n",
       "  </thead>\n",
       "  <tbody>\n",
       "    <tr>\n",
       "      <th>Philadelphia 76ers</th>\n",
       "      <td>Shake Milton</td>\n",
       "      <td>SG</td>\n",
       "      <td>1996-09-26</td>\n",
       "      <td>1445697</td>\n",
       "    </tr>\n",
       "    <tr>\n",
       "      <th>Detroit Pistons</th>\n",
       "      <td>Christian Wood</td>\n",
       "      <td>PF</td>\n",
       "      <td>1995-09-27</td>\n",
       "      <td>1645357</td>\n",
       "    </tr>\n",
       "    <tr>\n",
       "      <th>Charlotte Hornets</th>\n",
       "      <td>PJ Washington</td>\n",
       "      <td>PF</td>\n",
       "      <td>1998-08-23</td>\n",
       "      <td>3831840</td>\n",
       "    </tr>\n",
       "    <tr>\n",
       "      <th>Detroit Pistons</th>\n",
       "      <td>Derrick Rose</td>\n",
       "      <td>PG</td>\n",
       "      <td>1988-10-04</td>\n",
       "      <td>7317074</td>\n",
       "    </tr>\n",
       "    <tr>\n",
       "      <th>Philadelphia 76ers</th>\n",
       "      <td>Marial Shayok</td>\n",
       "      <td>G</td>\n",
       "      <td>1995-07-26</td>\n",
       "      <td>79568</td>\n",
       "    </tr>\n",
       "  </tbody>\n",
       "</table>\n",
       "</div>"
      ],
      "text/plain": [
       "                              Name Position   Birthday      Pay\n",
       "Team                                                           \n",
       "Philadelphia 76ers    Shake Milton       SG 1996-09-26  1445697\n",
       "Detroit Pistons     Christian Wood       PF 1995-09-27  1645357\n",
       "Charlotte Hornets    PJ Washington       PF 1998-08-23  3831840\n",
       "Detroit Pistons       Derrick Rose       PG 1988-10-04  7317074\n",
       "Philadelphia 76ers   Marial Shayok        G 1995-07-26    79568"
      ]
     },
     "execution_count": 109,
     "metadata": {},
     "output_type": "execute_result"
    }
   ],
   "source": [
    "df_nba.head()"
   ]
  },
  {
   "cell_type": "markdown",
   "id": "cb315d2d",
   "metadata": {},
   "source": [
    "#### Task"
   ]
  },
  {
   "cell_type": "code",
   "execution_count": 131,
   "id": "456bd8af",
   "metadata": {},
   "outputs": [],
   "source": [
    "nfl_path = '/Users/ypushiev/Learning/PANDAS IN ACTION/Chapter 4 Dataframe/Data/nfl.csv'"
   ]
  },
  {
   "cell_type": "code",
   "execution_count": 132,
   "id": "0293138f",
   "metadata": {},
   "outputs": [],
   "source": [
    "df_nfl = pd.read_csv(nfl_path, parse_dates=['Birthday'])"
   ]
  },
  {
   "cell_type": "code",
   "execution_count": 133,
   "id": "505d8c2d",
   "metadata": {},
   "outputs": [],
   "source": [
    "df_nfl['Birthday'] = df_nfl['Birthday'].dt.strftime('%Y-%m-%d')"
   ]
  },
  {
   "cell_type": "code",
   "execution_count": 139,
   "id": "ac56843f",
   "metadata": {},
   "outputs": [],
   "source": [
    "df_nfl['Birthday'] = pd.to_datetime(df_nfl['Birthday'],format='%Y-%m-%d')"
   ]
  },
  {
   "cell_type": "code",
   "execution_count": 140,
   "id": "ecfb0f60",
   "metadata": {},
   "outputs": [
    {
     "data": {
      "application/vnd.microsoft.datawrangler.viewer.v0+json": {
       "columns": [
        {
         "name": "Name",
         "rawType": "object",
         "type": "string"
        },
        {
         "name": "Team",
         "rawType": "object",
         "type": "string"
        },
        {
         "name": "Position",
         "rawType": "object",
         "type": "string"
        },
        {
         "name": "Birthday",
         "rawType": "datetime64[ns]",
         "type": "datetime"
        },
        {
         "name": "Salary",
         "rawType": "int64",
         "type": "integer"
        }
       ],
       "ref": "a09bdef6-e72a-4988-9525-c68b1301c1d4",
       "rows": [
        [
         "Tremon Smith",
         "Philadelphia Eagles",
         "RB",
         "1996-07-20 00:00:00",
         "570000"
        ],
        [
         "Shawn Williams",
         "Cincinnati Bengals",
         "SS",
         "1991-05-13 00:00:00",
         "3500000"
        ],
        [
         "Adam Butler",
         "New England Patriots",
         "DT",
         "1994-04-12 00:00:00",
         "645000"
        ],
        [
         "Derek Wolfe",
         "Denver Broncos",
         "DE",
         "1990-02-24 00:00:00",
         "8000000"
        ],
        [
         "Jake Ryan",
         "Jacksonville Jaguars",
         "OLB",
         "1992-02-27 00:00:00",
         "1000000"
        ]
       ],
       "shape": {
        "columns": 4,
        "rows": 5
       }
      },
      "text/html": [
       "<div>\n",
       "<style scoped>\n",
       "    .dataframe tbody tr th:only-of-type {\n",
       "        vertical-align: middle;\n",
       "    }\n",
       "\n",
       "    .dataframe tbody tr th {\n",
       "        vertical-align: top;\n",
       "    }\n",
       "\n",
       "    .dataframe thead th {\n",
       "        text-align: right;\n",
       "    }\n",
       "</style>\n",
       "<table border=\"1\" class=\"dataframe\">\n",
       "  <thead>\n",
       "    <tr style=\"text-align: right;\">\n",
       "      <th></th>\n",
       "      <th>Team</th>\n",
       "      <th>Position</th>\n",
       "      <th>Birthday</th>\n",
       "      <th>Salary</th>\n",
       "    </tr>\n",
       "    <tr>\n",
       "      <th>Name</th>\n",
       "      <th></th>\n",
       "      <th></th>\n",
       "      <th></th>\n",
       "      <th></th>\n",
       "    </tr>\n",
       "  </thead>\n",
       "  <tbody>\n",
       "    <tr>\n",
       "      <th>Tremon Smith</th>\n",
       "      <td>Philadelphia Eagles</td>\n",
       "      <td>RB</td>\n",
       "      <td>1996-07-20</td>\n",
       "      <td>570000</td>\n",
       "    </tr>\n",
       "    <tr>\n",
       "      <th>Shawn Williams</th>\n",
       "      <td>Cincinnati Bengals</td>\n",
       "      <td>SS</td>\n",
       "      <td>1991-05-13</td>\n",
       "      <td>3500000</td>\n",
       "    </tr>\n",
       "    <tr>\n",
       "      <th>Adam Butler</th>\n",
       "      <td>New England Patriots</td>\n",
       "      <td>DT</td>\n",
       "      <td>1994-04-12</td>\n",
       "      <td>645000</td>\n",
       "    </tr>\n",
       "    <tr>\n",
       "      <th>Derek Wolfe</th>\n",
       "      <td>Denver Broncos</td>\n",
       "      <td>DE</td>\n",
       "      <td>1990-02-24</td>\n",
       "      <td>8000000</td>\n",
       "    </tr>\n",
       "    <tr>\n",
       "      <th>Jake Ryan</th>\n",
       "      <td>Jacksonville Jaguars</td>\n",
       "      <td>OLB</td>\n",
       "      <td>1992-02-27</td>\n",
       "      <td>1000000</td>\n",
       "    </tr>\n",
       "  </tbody>\n",
       "</table>\n",
       "</div>"
      ],
      "text/plain": [
       "                                Team Position   Birthday   Salary\n",
       "Name                                                             \n",
       "Tremon Smith     Philadelphia Eagles       RB 1996-07-20   570000\n",
       "Shawn Williams    Cincinnati Bengals       SS 1991-05-13  3500000\n",
       "Adam Butler     New England Patriots       DT 1994-04-12   645000\n",
       "Derek Wolfe           Denver Broncos       DE 1990-02-24  8000000\n",
       "Jake Ryan       Jacksonville Jaguars      OLB 1992-02-27  1000000"
      ]
     },
     "execution_count": 140,
     "metadata": {},
     "output_type": "execute_result"
    }
   ],
   "source": [
    "df_nfl.head()"
   ]
  },
  {
   "cell_type": "code",
   "execution_count": 141,
   "id": "a616d667",
   "metadata": {},
   "outputs": [
    {
     "data": {
      "application/vnd.microsoft.datawrangler.viewer.v0+json": {
       "columns": [
        {
         "name": "index",
         "rawType": "object",
         "type": "string"
        },
        {
         "name": "0",
         "rawType": "object",
         "type": "unknown"
        }
       ],
       "ref": "ba670c2e-d30d-4e38-8da4-a6fb2a4b59ac",
       "rows": [
        [
         "Team",
         "object"
        ],
        [
         "Position",
         "object"
        ],
        [
         "Birthday",
         "datetime64[ns]"
        ],
        [
         "Salary",
         "int64"
        ]
       ],
       "shape": {
        "columns": 1,
        "rows": 4
       }
      },
      "text/plain": [
       "Team                object\n",
       "Position            object\n",
       "Birthday    datetime64[ns]\n",
       "Salary               int64\n",
       "dtype: object"
      ]
     },
     "execution_count": 141,
     "metadata": {},
     "output_type": "execute_result"
    }
   ],
   "source": [
    "df_nfl.dtypes"
   ]
  },
  {
   "cell_type": "code",
   "execution_count": 136,
   "id": "fc333170",
   "metadata": {},
   "outputs": [
    {
     "data": {
      "application/vnd.microsoft.datawrangler.viewer.v0+json": {
       "columns": [
        {
         "name": "Name",
         "rawType": "object",
         "type": "string"
        },
        {
         "name": "Team",
         "rawType": "object",
         "type": "string"
        },
        {
         "name": "Position",
         "rawType": "object",
         "type": "string"
        },
        {
         "name": "Birthday",
         "rawType": "object",
         "type": "string"
        },
        {
         "name": "Salary",
         "rawType": "int64",
         "type": "integer"
        }
       ],
       "ref": "1bf7d7b1-3420-49c7-89ef-ce2024d9b2eb",
       "rows": [
        [
         "Tremon Smith",
         "Philadelphia Eagles",
         "RB",
         "1996-07-20",
         "570000"
        ],
        [
         "Shawn Williams",
         "Cincinnati Bengals",
         "SS",
         "1991-05-13",
         "3500000"
        ],
        [
         "Adam Butler",
         "New England Patriots",
         "DT",
         "1994-04-12",
         "645000"
        ],
        [
         "Derek Wolfe",
         "Denver Broncos",
         "DE",
         "1990-02-24",
         "8000000"
        ],
        [
         "Jake Ryan",
         "Jacksonville Jaguars",
         "OLB",
         "1992-02-27",
         "1000000"
        ]
       ],
       "shape": {
        "columns": 4,
        "rows": 5
       }
      },
      "text/html": [
       "<div>\n",
       "<style scoped>\n",
       "    .dataframe tbody tr th:only-of-type {\n",
       "        vertical-align: middle;\n",
       "    }\n",
       "\n",
       "    .dataframe tbody tr th {\n",
       "        vertical-align: top;\n",
       "    }\n",
       "\n",
       "    .dataframe thead th {\n",
       "        text-align: right;\n",
       "    }\n",
       "</style>\n",
       "<table border=\"1\" class=\"dataframe\">\n",
       "  <thead>\n",
       "    <tr style=\"text-align: right;\">\n",
       "      <th></th>\n",
       "      <th>Team</th>\n",
       "      <th>Position</th>\n",
       "      <th>Birthday</th>\n",
       "      <th>Salary</th>\n",
       "    </tr>\n",
       "    <tr>\n",
       "      <th>Name</th>\n",
       "      <th></th>\n",
       "      <th></th>\n",
       "      <th></th>\n",
       "      <th></th>\n",
       "    </tr>\n",
       "  </thead>\n",
       "  <tbody>\n",
       "    <tr>\n",
       "      <th>Tremon Smith</th>\n",
       "      <td>Philadelphia Eagles</td>\n",
       "      <td>RB</td>\n",
       "      <td>1996-07-20</td>\n",
       "      <td>570000</td>\n",
       "    </tr>\n",
       "    <tr>\n",
       "      <th>Shawn Williams</th>\n",
       "      <td>Cincinnati Bengals</td>\n",
       "      <td>SS</td>\n",
       "      <td>1991-05-13</td>\n",
       "      <td>3500000</td>\n",
       "    </tr>\n",
       "    <tr>\n",
       "      <th>Adam Butler</th>\n",
       "      <td>New England Patriots</td>\n",
       "      <td>DT</td>\n",
       "      <td>1994-04-12</td>\n",
       "      <td>645000</td>\n",
       "    </tr>\n",
       "    <tr>\n",
       "      <th>Derek Wolfe</th>\n",
       "      <td>Denver Broncos</td>\n",
       "      <td>DE</td>\n",
       "      <td>1990-02-24</td>\n",
       "      <td>8000000</td>\n",
       "    </tr>\n",
       "    <tr>\n",
       "      <th>Jake Ryan</th>\n",
       "      <td>Jacksonville Jaguars</td>\n",
       "      <td>OLB</td>\n",
       "      <td>1992-02-27</td>\n",
       "      <td>1000000</td>\n",
       "    </tr>\n",
       "  </tbody>\n",
       "</table>\n",
       "</div>"
      ],
      "text/plain": [
       "                                Team Position    Birthday   Salary\n",
       "Name                                                              \n",
       "Tremon Smith     Philadelphia Eagles       RB  1996-07-20   570000\n",
       "Shawn Williams    Cincinnati Bengals       SS  1991-05-13  3500000\n",
       "Adam Butler     New England Patriots       DT  1994-04-12   645000\n",
       "Derek Wolfe           Denver Broncos       DE  1990-02-24  8000000\n",
       "Jake Ryan       Jacksonville Jaguars      OLB  1992-02-27  1000000"
      ]
     },
     "execution_count": 136,
     "metadata": {},
     "output_type": "execute_result"
    }
   ],
   "source": [
    "df_nfl = df_nfl.set_index(keys='Name')\n",
    "df_nfl.head()"
   ]
  },
  {
   "cell_type": "markdown",
   "id": "76b2c0ba",
   "metadata": {},
   "source": [
    "**Count players by teams**"
   ]
  },
  {
   "cell_type": "code",
   "execution_count": 142,
   "id": "e8d73169",
   "metadata": {},
   "outputs": [
    {
     "data": {
      "application/vnd.microsoft.datawrangler.viewer.v0+json": {
       "columns": [
        {
         "name": "Team",
         "rawType": "object",
         "type": "string"
        },
        {
         "name": "count",
         "rawType": "int64",
         "type": "integer"
        }
       ],
       "ref": "c9afeae3-054c-42de-b6aa-3ce82fc3898b",
       "rows": [
        [
         "New York Jets",
         "58"
        ],
        [
         "Kansas City Chiefs",
         "56"
        ],
        [
         "Washington Redskins",
         "56"
        ],
        [
         "New Orleans Saints",
         "55"
        ],
        [
         "San Francisco 49Ers",
         "55"
        ]
       ],
       "shape": {
        "columns": 1,
        "rows": 5
       }
      },
      "text/plain": [
       "Team\n",
       "New York Jets          58\n",
       "Kansas City Chiefs     56\n",
       "Washington Redskins    56\n",
       "New Orleans Saints     55\n",
       "San Francisco 49Ers    55\n",
       "Name: count, dtype: int64"
      ]
     },
     "execution_count": 142,
     "metadata": {},
     "output_type": "execute_result"
    }
   ],
   "source": [
    "df_nfl.Team.value_counts().head()"
   ]
  },
  {
   "cell_type": "code",
   "execution_count": 143,
   "id": "45287ba6",
   "metadata": {},
   "outputs": [
    {
     "data": {
      "application/vnd.microsoft.datawrangler.viewer.v0+json": {
       "columns": [
        {
         "name": "Name",
         "rawType": "object",
         "type": "string"
        },
        {
         "name": "Team",
         "rawType": "object",
         "type": "string"
        },
        {
         "name": "Position",
         "rawType": "object",
         "type": "string"
        },
        {
         "name": "Birthday",
         "rawType": "datetime64[ns]",
         "type": "datetime"
        },
        {
         "name": "Salary",
         "rawType": "int64",
         "type": "integer"
        }
       ],
       "ref": "acdc8f58-0cd9-473c-b38e-ed61ae2ddee3",
       "rows": [
        [
         "Kirk Cousins",
         "Minnesota Vikings",
         "QB",
         "1988-08-19 00:00:00",
         "27500000"
        ],
        [
         "Jameis Winston",
         "Tampa Bay Buccaneers",
         "QB",
         "1994-01-06 00:00:00",
         "20922000"
        ],
        [
         "Marcus Mariota",
         "Tennessee Titans",
         "QB",
         "1993-10-30 00:00:00",
         "20922000"
        ],
        [
         "Derek Carr",
         "Oakland Raiders",
         "QB",
         "1991-03-28 00:00:00",
         "19900000"
        ],
        [
         "Jimmy Garoppolo",
         "San Francisco 49Ers",
         "QB",
         "1991-11-02 00:00:00",
         "17200000"
        ]
       ],
       "shape": {
        "columns": 4,
        "rows": 5
       }
      },
      "text/html": [
       "<div>\n",
       "<style scoped>\n",
       "    .dataframe tbody tr th:only-of-type {\n",
       "        vertical-align: middle;\n",
       "    }\n",
       "\n",
       "    .dataframe tbody tr th {\n",
       "        vertical-align: top;\n",
       "    }\n",
       "\n",
       "    .dataframe thead th {\n",
       "        text-align: right;\n",
       "    }\n",
       "</style>\n",
       "<table border=\"1\" class=\"dataframe\">\n",
       "  <thead>\n",
       "    <tr style=\"text-align: right;\">\n",
       "      <th></th>\n",
       "      <th>Team</th>\n",
       "      <th>Position</th>\n",
       "      <th>Birthday</th>\n",
       "      <th>Salary</th>\n",
       "    </tr>\n",
       "    <tr>\n",
       "      <th>Name</th>\n",
       "      <th></th>\n",
       "      <th></th>\n",
       "      <th></th>\n",
       "      <th></th>\n",
       "    </tr>\n",
       "  </thead>\n",
       "  <tbody>\n",
       "    <tr>\n",
       "      <th>Kirk Cousins</th>\n",
       "      <td>Minnesota Vikings</td>\n",
       "      <td>QB</td>\n",
       "      <td>1988-08-19</td>\n",
       "      <td>27500000</td>\n",
       "    </tr>\n",
       "    <tr>\n",
       "      <th>Jameis Winston</th>\n",
       "      <td>Tampa Bay Buccaneers</td>\n",
       "      <td>QB</td>\n",
       "      <td>1994-01-06</td>\n",
       "      <td>20922000</td>\n",
       "    </tr>\n",
       "    <tr>\n",
       "      <th>Marcus Mariota</th>\n",
       "      <td>Tennessee Titans</td>\n",
       "      <td>QB</td>\n",
       "      <td>1993-10-30</td>\n",
       "      <td>20922000</td>\n",
       "    </tr>\n",
       "    <tr>\n",
       "      <th>Derek Carr</th>\n",
       "      <td>Oakland Raiders</td>\n",
       "      <td>QB</td>\n",
       "      <td>1991-03-28</td>\n",
       "      <td>19900000</td>\n",
       "    </tr>\n",
       "    <tr>\n",
       "      <th>Jimmy Garoppolo</th>\n",
       "      <td>San Francisco 49Ers</td>\n",
       "      <td>QB</td>\n",
       "      <td>1991-11-02</td>\n",
       "      <td>17200000</td>\n",
       "    </tr>\n",
       "  </tbody>\n",
       "</table>\n",
       "</div>"
      ],
      "text/plain": [
       "                                 Team Position   Birthday    Salary\n",
       "Name                                                               \n",
       "Kirk Cousins        Minnesota Vikings       QB 1988-08-19  27500000\n",
       "Jameis Winston   Tampa Bay Buccaneers       QB 1994-01-06  20922000\n",
       "Marcus Mariota       Tennessee Titans       QB 1993-10-30  20922000\n",
       "Derek Carr            Oakland Raiders       QB 1991-03-28  19900000\n",
       "Jimmy Garoppolo   San Francisco 49Ers       QB 1991-11-02  17200000"
      ]
     },
     "execution_count": 143,
     "metadata": {},
     "output_type": "execute_result"
    }
   ],
   "source": [
    "df_nfl.sort_values(by='Salary', ascending=False).head()"
   ]
  },
  {
   "cell_type": "markdown",
   "id": "eef0888d",
   "metadata": {},
   "source": [
    "**Sorting by Team and Salary columns**"
   ]
  },
  {
   "cell_type": "code",
   "execution_count": 144,
   "id": "1a2cdf97",
   "metadata": {},
   "outputs": [
    {
     "data": {
      "application/vnd.microsoft.datawrangler.viewer.v0+json": {
       "columns": [
        {
         "name": "Name",
         "rawType": "object",
         "type": "string"
        },
        {
         "name": "Team",
         "rawType": "object",
         "type": "string"
        },
        {
         "name": "Position",
         "rawType": "object",
         "type": "string"
        },
        {
         "name": "Birthday",
         "rawType": "datetime64[ns]",
         "type": "datetime"
        },
        {
         "name": "Salary",
         "rawType": "int64",
         "type": "integer"
        }
       ],
       "ref": "7c16395e-4f3c-4ea3-964d-f859c2caccb7",
       "rows": [
        [
         "Chandler Jones",
         "Arizona Cardinals",
         "OLB",
         "1990-02-27 00:00:00",
         "16500000"
        ],
        [
         "Patrick Peterson",
         "Arizona Cardinals",
         "CB",
         "1990-07-11 00:00:00",
         "11000000"
        ],
        [
         "Larry Fitzgerald",
         "Arizona Cardinals",
         "WR",
         "1983-08-31 00:00:00",
         "11000000"
        ],
        [
         "David Johnson",
         "Arizona Cardinals",
         "RB",
         "1991-12-16 00:00:00",
         "5700000"
        ],
        [
         "Justin Pugh",
         "Arizona Cardinals",
         "G",
         "1990-08-15 00:00:00",
         "5000000"
        ]
       ],
       "shape": {
        "columns": 4,
        "rows": 5
       }
      },
      "text/html": [
       "<div>\n",
       "<style scoped>\n",
       "    .dataframe tbody tr th:only-of-type {\n",
       "        vertical-align: middle;\n",
       "    }\n",
       "\n",
       "    .dataframe tbody tr th {\n",
       "        vertical-align: top;\n",
       "    }\n",
       "\n",
       "    .dataframe thead th {\n",
       "        text-align: right;\n",
       "    }\n",
       "</style>\n",
       "<table border=\"1\" class=\"dataframe\">\n",
       "  <thead>\n",
       "    <tr style=\"text-align: right;\">\n",
       "      <th></th>\n",
       "      <th>Team</th>\n",
       "      <th>Position</th>\n",
       "      <th>Birthday</th>\n",
       "      <th>Salary</th>\n",
       "    </tr>\n",
       "    <tr>\n",
       "      <th>Name</th>\n",
       "      <th></th>\n",
       "      <th></th>\n",
       "      <th></th>\n",
       "      <th></th>\n",
       "    </tr>\n",
       "  </thead>\n",
       "  <tbody>\n",
       "    <tr>\n",
       "      <th>Chandler Jones</th>\n",
       "      <td>Arizona Cardinals</td>\n",
       "      <td>OLB</td>\n",
       "      <td>1990-02-27</td>\n",
       "      <td>16500000</td>\n",
       "    </tr>\n",
       "    <tr>\n",
       "      <th>Patrick Peterson</th>\n",
       "      <td>Arizona Cardinals</td>\n",
       "      <td>CB</td>\n",
       "      <td>1990-07-11</td>\n",
       "      <td>11000000</td>\n",
       "    </tr>\n",
       "    <tr>\n",
       "      <th>Larry Fitzgerald</th>\n",
       "      <td>Arizona Cardinals</td>\n",
       "      <td>WR</td>\n",
       "      <td>1983-08-31</td>\n",
       "      <td>11000000</td>\n",
       "    </tr>\n",
       "    <tr>\n",
       "      <th>David Johnson</th>\n",
       "      <td>Arizona Cardinals</td>\n",
       "      <td>RB</td>\n",
       "      <td>1991-12-16</td>\n",
       "      <td>5700000</td>\n",
       "    </tr>\n",
       "    <tr>\n",
       "      <th>Justin Pugh</th>\n",
       "      <td>Arizona Cardinals</td>\n",
       "      <td>G</td>\n",
       "      <td>1990-08-15</td>\n",
       "      <td>5000000</td>\n",
       "    </tr>\n",
       "  </tbody>\n",
       "</table>\n",
       "</div>"
      ],
      "text/plain": [
       "                               Team Position   Birthday    Salary\n",
       "Name                                                             \n",
       "Chandler Jones    Arizona Cardinals      OLB 1990-02-27  16500000\n",
       "Patrick Peterson  Arizona Cardinals       CB 1990-07-11  11000000\n",
       "Larry Fitzgerald  Arizona Cardinals       WR 1983-08-31  11000000\n",
       "David Johnson     Arizona Cardinals       RB 1991-12-16   5700000\n",
       "Justin Pugh       Arizona Cardinals        G 1990-08-15   5000000"
      ]
     },
     "execution_count": 144,
     "metadata": {},
     "output_type": "execute_result"
    }
   ],
   "source": [
    "df_nfl.sort_values(by=['Team', 'Salary'], ascending=[True, False]).head()"
   ]
  },
  {
   "cell_type": "code",
   "execution_count": 148,
   "id": "c3aa9b84",
   "metadata": {},
   "outputs": [
    {
     "data": {
      "application/vnd.microsoft.datawrangler.viewer.v0+json": {
       "columns": [
        {
         "name": "Team",
         "rawType": "object",
         "type": "string"
        },
        {
         "name": "Name",
         "rawType": "object",
         "type": "string"
        },
        {
         "name": "Position",
         "rawType": "object",
         "type": "string"
        },
        {
         "name": "Birthday",
         "rawType": "datetime64[ns]",
         "type": "datetime"
        },
        {
         "name": "Salary",
         "rawType": "int64",
         "type": "integer"
        }
       ],
       "ref": "5a45ec06-8861-4820-b246-a0ac84a1b539",
       "rows": [
        [
         "Philadelphia Eagles",
         "Tremon Smith",
         "RB",
         "1996-07-20 00:00:00",
         "570000"
        ],
        [
         "Cincinnati Bengals",
         "Shawn Williams",
         "SS",
         "1991-05-13 00:00:00",
         "3500000"
        ],
        [
         "New England Patriots",
         "Adam Butler",
         "DT",
         "1994-04-12 00:00:00",
         "645000"
        ]
       ],
       "shape": {
        "columns": 4,
        "rows": 3
       }
      },
      "text/html": [
       "<div>\n",
       "<style scoped>\n",
       "    .dataframe tbody tr th:only-of-type {\n",
       "        vertical-align: middle;\n",
       "    }\n",
       "\n",
       "    .dataframe tbody tr th {\n",
       "        vertical-align: top;\n",
       "    }\n",
       "\n",
       "    .dataframe thead th {\n",
       "        text-align: right;\n",
       "    }\n",
       "</style>\n",
       "<table border=\"1\" class=\"dataframe\">\n",
       "  <thead>\n",
       "    <tr style=\"text-align: right;\">\n",
       "      <th></th>\n",
       "      <th>Name</th>\n",
       "      <th>Position</th>\n",
       "      <th>Birthday</th>\n",
       "      <th>Salary</th>\n",
       "    </tr>\n",
       "    <tr>\n",
       "      <th>Team</th>\n",
       "      <th></th>\n",
       "      <th></th>\n",
       "      <th></th>\n",
       "      <th></th>\n",
       "    </tr>\n",
       "  </thead>\n",
       "  <tbody>\n",
       "    <tr>\n",
       "      <th>Philadelphia Eagles</th>\n",
       "      <td>Tremon Smith</td>\n",
       "      <td>RB</td>\n",
       "      <td>1996-07-20</td>\n",
       "      <td>570000</td>\n",
       "    </tr>\n",
       "    <tr>\n",
       "      <th>Cincinnati Bengals</th>\n",
       "      <td>Shawn Williams</td>\n",
       "      <td>SS</td>\n",
       "      <td>1991-05-13</td>\n",
       "      <td>3500000</td>\n",
       "    </tr>\n",
       "    <tr>\n",
       "      <th>New England Patriots</th>\n",
       "      <td>Adam Butler</td>\n",
       "      <td>DT</td>\n",
       "      <td>1994-04-12</td>\n",
       "      <td>645000</td>\n",
       "    </tr>\n",
       "  </tbody>\n",
       "</table>\n",
       "</div>"
      ],
      "text/plain": [
       "                                Name Position   Birthday   Salary\n",
       "Team                                                             \n",
       "Philadelphia Eagles     Tremon Smith       RB 1996-07-20   570000\n",
       "Cincinnati Bengals    Shawn Williams       SS 1991-05-13  3500000\n",
       "New England Patriots     Adam Butler       DT 1994-04-12   645000"
      ]
     },
     "execution_count": 148,
     "metadata": {},
     "output_type": "execute_result"
    }
   ],
   "source": [
    "df_nfl = df_nfl.reset_index().set_index(keys = \"Team\")\n",
    "df_nfl.head(3)"
   ]
  },
  {
   "cell_type": "code",
   "execution_count": 151,
   "id": "2f391998",
   "metadata": {},
   "outputs": [
    {
     "data": {
      "application/vnd.microsoft.datawrangler.viewer.v0+json": {
       "columns": [
        {
         "name": "Team",
         "rawType": "object",
         "type": "string"
        },
        {
         "name": "Name",
         "rawType": "object",
         "type": "string"
        },
        {
         "name": "Position",
         "rawType": "object",
         "type": "string"
        },
        {
         "name": "Birthday",
         "rawType": "datetime64[ns]",
         "type": "datetime"
        },
        {
         "name": "Salary",
         "rawType": "int64",
         "type": "integer"
        }
       ],
       "ref": "e2e88e6c-818f-4d6b-892a-fe38a15bb4d6",
       "rows": [
        [
         "New York Jets",
         "Ryan Kalil",
         "C",
         "1985-03-29 00:00:00",
         "2400000"
        ]
       ],
       "shape": {
        "columns": 4,
        "rows": 1
       }
      },
      "text/html": [
       "<div>\n",
       "<style scoped>\n",
       "    .dataframe tbody tr th:only-of-type {\n",
       "        vertical-align: middle;\n",
       "    }\n",
       "\n",
       "    .dataframe tbody tr th {\n",
       "        vertical-align: top;\n",
       "    }\n",
       "\n",
       "    .dataframe thead th {\n",
       "        text-align: right;\n",
       "    }\n",
       "</style>\n",
       "<table border=\"1\" class=\"dataframe\">\n",
       "  <thead>\n",
       "    <tr style=\"text-align: right;\">\n",
       "      <th></th>\n",
       "      <th>Name</th>\n",
       "      <th>Position</th>\n",
       "      <th>Birthday</th>\n",
       "      <th>Salary</th>\n",
       "    </tr>\n",
       "    <tr>\n",
       "      <th>Team</th>\n",
       "      <th></th>\n",
       "      <th></th>\n",
       "      <th></th>\n",
       "      <th></th>\n",
       "    </tr>\n",
       "  </thead>\n",
       "  <tbody>\n",
       "    <tr>\n",
       "      <th>New York Jets</th>\n",
       "      <td>Ryan Kalil</td>\n",
       "      <td>C</td>\n",
       "      <td>1985-03-29</td>\n",
       "      <td>2400000</td>\n",
       "    </tr>\n",
       "  </tbody>\n",
       "</table>\n",
       "</div>"
      ],
      "text/plain": [
       "                     Name Position   Birthday   Salary\n",
       "Team                                                  \n",
       "New York Jets  Ryan Kalil        C 1985-03-29  2400000"
      ]
     },
     "execution_count": 151,
     "metadata": {},
     "output_type": "execute_result"
    }
   ],
   "source": [
    "df_nfl.loc[\"New York Jets\"].sort_values(\"Birthday\").head(1)"
   ]
  },
  {
   "cell_type": "code",
   "execution_count": 147,
   "id": "59cb1e6d",
   "metadata": {},
   "outputs": [
    {
     "data": {
      "application/vnd.microsoft.datawrangler.viewer.v0+json": {
       "columns": [
        {
         "name": "Name",
         "rawType": "object",
         "type": "string"
        },
        {
         "name": "Birthday",
         "rawType": "datetime64[ns]",
         "type": "datetime"
        }
       ],
       "ref": "eea8ce27-b2c9-44a0-9dce-86c3f6803c52",
       "rows": [
        [
         "Tom Brady",
         "1977-08-03 00:00:00"
        ]
       ],
       "shape": {
        "columns": 1,
        "rows": 1
       }
      },
      "text/plain": [
       "Name\n",
       "Tom Brady   1977-08-03\n",
       "Name: Birthday, dtype: datetime64[ns]"
      ]
     },
     "execution_count": 147,
     "metadata": {},
     "output_type": "execute_result"
    }
   ],
   "source": [
    "df_nfl['Birthday'].sort_values(ascending=True).head(1)"
   ]
  },
  {
   "cell_type": "code",
   "execution_count": null,
   "id": "fc75e064",
   "metadata": {},
   "outputs": [],
   "source": []
  }
 ],
 "metadata": {
  "kernelspec": {
   "display_name": "base",
   "language": "python",
   "name": "python3"
  },
  "language_info": {
   "codemirror_mode": {
    "name": "ipython",
    "version": 3
   },
   "file_extension": ".py",
   "mimetype": "text/x-python",
   "name": "python",
   "nbconvert_exporter": "python",
   "pygments_lexer": "ipython3",
   "version": "3.12.2"
  }
 },
 "nbformat": 4,
 "nbformat_minor": 5
}
