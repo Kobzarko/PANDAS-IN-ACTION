{
 "cells": [
  {
   "cell_type": "code",
   "execution_count": 3,
   "id": "fd4aeac9",
   "metadata": {},
   "outputs": [],
   "source": [
    "import pandas as pd"
   ]
  },
  {
   "cell_type": "code",
   "execution_count": 19,
   "id": "b0a06ba9",
   "metadata": {},
   "outputs": [],
   "source": [
    "# file paths\n",
    "pokemon_path = \"/Users/ypushiev/Learning/PANDAS IN ACTION/Chapter 3 Series methods/Data/pokemon.csv\"\n",
    "google_stocks_path = \"/Users/ypushiev/Learning/PANDAS IN ACTION/Chapter 3 Series methods/Data/google_stocks.csv\"\n",
    "revolutionary_war_path = \"/Users/ypushiev/Learning/PANDAS IN ACTION/Chapter 3 Series methods/Data/revolutionary_war.csv\""
   ]
  },
  {
   "cell_type": "markdown",
   "id": "98a195b7",
   "metadata": {},
   "source": [
    "#### Import csv files"
   ]
  },
  {
   "cell_type": "code",
   "execution_count": 4,
   "id": "87a903f7",
   "metadata": {},
   "outputs": [
    {
     "data": {
      "application/vnd.microsoft.datawrangler.viewer.v0+json": {
       "columns": [
        {
         "name": "index",
         "rawType": "int64",
         "type": "integer"
        },
        {
         "name": "Date",
         "rawType": "object",
         "type": "string"
        },
        {
         "name": "Close",
         "rawType": "float64",
         "type": "float"
        }
       ],
       "ref": "69afcede-c7bc-4b40-8f41-6eb71e344115",
       "rows": [
        [
         "0",
         "2004-08-19",
         "49.98"
        ],
        [
         "1",
         "2004-08-20",
         "53.95"
        ],
        [
         "2",
         "2004-08-23",
         "54.5"
        ],
        [
         "3",
         "2004-08-24",
         "52.24"
        ],
        [
         "4",
         "2004-08-25",
         "52.8"
        ],
        [
         "5",
         "2004-08-26",
         "53.75"
        ],
        [
         "6",
         "2004-08-27",
         "52.88"
        ],
        [
         "7",
         "2004-08-30",
         "50.81"
        ],
        [
         "8",
         "2004-08-31",
         "50.99"
        ],
        [
         "9",
         "2004-09-01",
         "49.94"
        ],
        [
         "10",
         "2004-09-02",
         "50.57"
        ],
        [
         "11",
         "2004-09-03",
         "49.82"
        ],
        [
         "12",
         "2004-09-07",
         "50.6"
        ],
        [
         "13",
         "2004-09-08",
         "50.96"
        ],
        [
         "14",
         "2004-09-09",
         "50.96"
        ],
        [
         "15",
         "2004-09-10",
         "52.47"
        ],
        [
         "16",
         "2004-09-13",
         "53.55"
        ],
        [
         "17",
         "2004-09-14",
         "55.54"
        ],
        [
         "18",
         "2004-09-15",
         "55.79"
        ],
        [
         "19",
         "2004-09-16",
         "56.77"
        ],
        [
         "20",
         "2004-09-17",
         "58.53"
        ],
        [
         "21",
         "2004-09-20",
         "59.46"
        ],
        [
         "22",
         "2004-09-21",
         "58.7"
        ],
        [
         "23",
         "2004-09-22",
         "58.97"
        ],
        [
         "24",
         "2004-09-23",
         "60.18"
        ],
        [
         "25",
         "2004-09-24",
         "59.69"
        ],
        [
         "26",
         "2004-09-27",
         "58.91"
        ],
        [
         "27",
         "2004-09-28",
         "63.19"
        ],
        [
         "28",
         "2004-09-29",
         "65.3"
        ],
        [
         "29",
         "2004-09-30",
         "64.56"
        ],
        [
         "30",
         "2004-10-01",
         "66.04"
        ],
        [
         "31",
         "2004-10-04",
         "67.28"
        ],
        [
         "32",
         "2004-10-05",
         "68.93"
        ],
        [
         "33",
         "2004-10-06",
         "68.28"
        ],
        [
         "34",
         "2004-10-07",
         "69.17"
        ],
        [
         "35",
         "2004-10-08",
         "68.61"
        ],
        [
         "36",
         "2004-10-11",
         "67.38"
        ],
        [
         "37",
         "2004-10-12",
         "68.44"
        ],
        [
         "38",
         "2004-10-13",
         "70.19"
        ],
        [
         "39",
         "2004-10-14",
         "70.73"
        ],
        [
         "40",
         "2004-10-15",
         "71.79"
        ],
        [
         "41",
         "2004-10-18",
         "74.3"
        ],
        [
         "42",
         "2004-10-19",
         "73.69"
        ],
        [
         "43",
         "2004-10-20",
         "69.98"
        ],
        [
         "44",
         "2004-10-21",
         "74.41"
        ],
        [
         "45",
         "2004-10-22",
         "85.89"
        ],
        [
         "46",
         "2004-10-25",
         "93.35"
        ],
        [
         "47",
         "2004-10-26",
         "90.56"
        ],
        [
         "48",
         "2004-10-27",
         "92.64"
        ],
        [
         "49",
         "2004-10-28",
         "96.29"
        ]
       ],
       "shape": {
        "columns": 2,
        "rows": 3824
       }
      },
      "text/html": [
       "<div>\n",
       "<style scoped>\n",
       "    .dataframe tbody tr th:only-of-type {\n",
       "        vertical-align: middle;\n",
       "    }\n",
       "\n",
       "    .dataframe tbody tr th {\n",
       "        vertical-align: top;\n",
       "    }\n",
       "\n",
       "    .dataframe thead th {\n",
       "        text-align: right;\n",
       "    }\n",
       "</style>\n",
       "<table border=\"1\" class=\"dataframe\">\n",
       "  <thead>\n",
       "    <tr style=\"text-align: right;\">\n",
       "      <th></th>\n",
       "      <th>Date</th>\n",
       "      <th>Close</th>\n",
       "    </tr>\n",
       "  </thead>\n",
       "  <tbody>\n",
       "    <tr>\n",
       "      <th>0</th>\n",
       "      <td>2004-08-19</td>\n",
       "      <td>49.98</td>\n",
       "    </tr>\n",
       "    <tr>\n",
       "      <th>1</th>\n",
       "      <td>2004-08-20</td>\n",
       "      <td>53.95</td>\n",
       "    </tr>\n",
       "    <tr>\n",
       "      <th>2</th>\n",
       "      <td>2004-08-23</td>\n",
       "      <td>54.50</td>\n",
       "    </tr>\n",
       "    <tr>\n",
       "      <th>3</th>\n",
       "      <td>2004-08-24</td>\n",
       "      <td>52.24</td>\n",
       "    </tr>\n",
       "    <tr>\n",
       "      <th>4</th>\n",
       "      <td>2004-08-25</td>\n",
       "      <td>52.80</td>\n",
       "    </tr>\n",
       "    <tr>\n",
       "      <th>...</th>\n",
       "      <td>...</td>\n",
       "      <td>...</td>\n",
       "    </tr>\n",
       "    <tr>\n",
       "      <th>3819</th>\n",
       "      <td>2019-10-21</td>\n",
       "      <td>1246.15</td>\n",
       "    </tr>\n",
       "    <tr>\n",
       "      <th>3820</th>\n",
       "      <td>2019-10-22</td>\n",
       "      <td>1242.80</td>\n",
       "    </tr>\n",
       "    <tr>\n",
       "      <th>3821</th>\n",
       "      <td>2019-10-23</td>\n",
       "      <td>1259.13</td>\n",
       "    </tr>\n",
       "    <tr>\n",
       "      <th>3822</th>\n",
       "      <td>2019-10-24</td>\n",
       "      <td>1260.99</td>\n",
       "    </tr>\n",
       "    <tr>\n",
       "      <th>3823</th>\n",
       "      <td>2019-10-25</td>\n",
       "      <td>1265.13</td>\n",
       "    </tr>\n",
       "  </tbody>\n",
       "</table>\n",
       "<p>3824 rows × 2 columns</p>\n",
       "</div>"
      ],
      "text/plain": [
       "            Date    Close\n",
       "0     2004-08-19    49.98\n",
       "1     2004-08-20    53.95\n",
       "2     2004-08-23    54.50\n",
       "3     2004-08-24    52.24\n",
       "4     2004-08-25    52.80\n",
       "...          ...      ...\n",
       "3819  2019-10-21  1246.15\n",
       "3820  2019-10-22  1242.80\n",
       "3821  2019-10-23  1259.13\n",
       "3822  2019-10-24  1260.99\n",
       "3823  2019-10-25  1265.13\n",
       "\n",
       "[3824 rows x 2 columns]"
      ]
     },
     "execution_count": 4,
     "metadata": {},
     "output_type": "execute_result"
    }
   ],
   "source": [
    "# these two lines are equivalent\n",
    "pd.read_csv(filepath_or_buffer = google_stocks_path)\n",
    "pd.read_csv(google_stocks_path)"
   ]
  },
  {
   "cell_type": "code",
   "execution_count": 5,
   "id": "302b2b34",
   "metadata": {},
   "outputs": [
    {
     "data": {
      "application/vnd.microsoft.datawrangler.viewer.v0+json": {
       "columns": [
        {
         "name": "Pokemon",
         "rawType": "object",
         "type": "string"
        },
        {
         "name": "Type",
         "rawType": "object",
         "type": "string"
        }
       ],
       "ref": "b53e8507-eefa-4f59-9358-988281934788",
       "rows": [
        [
         "Bulbasaur",
         "Grass / Poison"
        ],
        [
         "Ivysaur",
         "Grass / Poison"
        ],
        [
         "Venusaur",
         "Grass / Poison"
        ],
        [
         "Charmander",
         "Fire"
        ],
        [
         "Charmeleon",
         "Fire"
        ],
        [
         "Charizard",
         "Fire / Flying"
        ],
        [
         "Squirtle",
         "Water"
        ],
        [
         "Wartortle",
         "Water"
        ],
        [
         "Blastoise",
         "Water"
        ],
        [
         "Caterpie",
         "Bug"
        ],
        [
         "Metapod",
         "Bug"
        ],
        [
         "Butterfree",
         "Bug / Flying"
        ],
        [
         "Weedle",
         "Bug / Poison"
        ],
        [
         "Kakuna",
         "Bug / Poison"
        ],
        [
         "Beedrill",
         "Bug / Poison"
        ],
        [
         "Pidgey",
         "Normal / Flying"
        ],
        [
         "Pidgeotto",
         "Normal / Flying"
        ],
        [
         "Pidgeot",
         "Normal / Flying"
        ],
        [
         "Rattata",
         "Normal"
        ],
        [
         "Raticate",
         "Normal"
        ],
        [
         "Spearow",
         "Normal / Flying"
        ],
        [
         "Fearow",
         "Normal / Flying"
        ],
        [
         "Ekans",
         "Poison"
        ],
        [
         "Arbok",
         "Poison"
        ],
        [
         "Pikachu",
         "Electric"
        ],
        [
         "Raichu",
         "Electric"
        ],
        [
         "Sandshrew",
         "Ground"
        ],
        [
         "Sandslash",
         "Ground"
        ],
        [
         "Nidoran♀",
         "Poison"
        ],
        [
         "Nidorina",
         "Poison"
        ],
        [
         "Nidoqueen",
         "Poison / Ground"
        ],
        [
         "Nidoran♂",
         "Poison"
        ],
        [
         "Nidorino",
         "Poison"
        ],
        [
         "Nidoking",
         "Poison / Ground"
        ],
        [
         "Clefairy",
         "Fairy"
        ],
        [
         "Clefable",
         "Fairy"
        ],
        [
         "Vulpix",
         "Fire"
        ],
        [
         "Ninetales",
         "Fire"
        ],
        [
         "Jigglypuff",
         "Normal / Fairy"
        ],
        [
         "Wigglytuff",
         "Normal / Fairy"
        ],
        [
         "Zubat",
         "Poison / Flying"
        ],
        [
         "Golbat",
         "Poison / Flying"
        ],
        [
         "Oddish",
         "Grass / Poison"
        ],
        [
         "Gloom",
         "Grass / Poison"
        ],
        [
         "Vileplume",
         "Grass / Poison"
        ],
        [
         "Paras",
         "Bug / Grass"
        ],
        [
         "Parasect",
         "Bug / Grass"
        ],
        [
         "Venonat",
         "Bug / Poison"
        ],
        [
         "Venomoth",
         "Bug / Poison"
        ],
        [
         "Diglett",
         "Ground"
        ]
       ],
       "shape": {
        "columns": 1,
        "rows": 809
       }
      },
      "text/html": [
       "<div>\n",
       "<style scoped>\n",
       "    .dataframe tbody tr th:only-of-type {\n",
       "        vertical-align: middle;\n",
       "    }\n",
       "\n",
       "    .dataframe tbody tr th {\n",
       "        vertical-align: top;\n",
       "    }\n",
       "\n",
       "    .dataframe thead th {\n",
       "        text-align: right;\n",
       "    }\n",
       "</style>\n",
       "<table border=\"1\" class=\"dataframe\">\n",
       "  <thead>\n",
       "    <tr style=\"text-align: right;\">\n",
       "      <th></th>\n",
       "      <th>Type</th>\n",
       "    </tr>\n",
       "    <tr>\n",
       "      <th>Pokemon</th>\n",
       "      <th></th>\n",
       "    </tr>\n",
       "  </thead>\n",
       "  <tbody>\n",
       "    <tr>\n",
       "      <th>Bulbasaur</th>\n",
       "      <td>Grass / Poison</td>\n",
       "    </tr>\n",
       "    <tr>\n",
       "      <th>Ivysaur</th>\n",
       "      <td>Grass / Poison</td>\n",
       "    </tr>\n",
       "    <tr>\n",
       "      <th>Venusaur</th>\n",
       "      <td>Grass / Poison</td>\n",
       "    </tr>\n",
       "    <tr>\n",
       "      <th>Charmander</th>\n",
       "      <td>Fire</td>\n",
       "    </tr>\n",
       "    <tr>\n",
       "      <th>Charmeleon</th>\n",
       "      <td>Fire</td>\n",
       "    </tr>\n",
       "    <tr>\n",
       "      <th>...</th>\n",
       "      <td>...</td>\n",
       "    </tr>\n",
       "    <tr>\n",
       "      <th>Stakataka</th>\n",
       "      <td>Rock / Steel</td>\n",
       "    </tr>\n",
       "    <tr>\n",
       "      <th>Blacephalon</th>\n",
       "      <td>Fire / Ghost</td>\n",
       "    </tr>\n",
       "    <tr>\n",
       "      <th>Zeraora</th>\n",
       "      <td>Electric</td>\n",
       "    </tr>\n",
       "    <tr>\n",
       "      <th>Meltan</th>\n",
       "      <td>Steel</td>\n",
       "    </tr>\n",
       "    <tr>\n",
       "      <th>Melmetal</th>\n",
       "      <td>Steel</td>\n",
       "    </tr>\n",
       "  </tbody>\n",
       "</table>\n",
       "<p>809 rows × 1 columns</p>\n",
       "</div>"
      ],
      "text/plain": [
       "                       Type\n",
       "Pokemon                    \n",
       "Bulbasaur    Grass / Poison\n",
       "Ivysaur      Grass / Poison\n",
       "Venusaur     Grass / Poison\n",
       "Charmander             Fire\n",
       "Charmeleon             Fire\n",
       "...                     ...\n",
       "Stakataka      Rock / Steel\n",
       "Blacephalon    Fire / Ghost\n",
       "Zeraora            Electric\n",
       "Meltan                Steel\n",
       "Melmetal              Steel\n",
       "\n",
       "[809 rows x 1 columns]"
      ]
     },
     "execution_count": 5,
     "metadata": {},
     "output_type": "execute_result"
    }
   ],
   "source": [
    "# let's set the index column to be \"Pokemon\"\n",
    "pd.read_csv(filepath_or_buffer = pokemon_path,index_col = \"Pokemon\")"
   ]
  },
  {
   "cell_type": "code",
   "execution_count": 6,
   "id": "593a6415",
   "metadata": {},
   "outputs": [],
   "source": [
    "pokemon = pd.read_csv(pokemon_path, index_col = \"Pokemon\")"
   ]
  },
  {
   "cell_type": "code",
   "execution_count": 13,
   "id": "18a68f5e",
   "metadata": {},
   "outputs": [
    {
     "data": {
      "application/vnd.microsoft.datawrangler.viewer.v0+json": {
       "columns": [
        {
         "name": "Pokemon",
         "rawType": "object",
         "type": "string"
        },
        {
         "name": "Type",
         "rawType": "object",
         "type": "string"
        }
       ],
       "ref": "55612182-8f0c-423f-b71e-d21abf9ba4fc",
       "rows": [
        [
         "Bulbasaur",
         "Grass / Poison"
        ],
        [
         "Ivysaur",
         "Grass / Poison"
        ],
        [
         "Venusaur",
         "Grass / Poison"
        ],
        [
         "Charmander",
         "Fire"
        ],
        [
         "Charmeleon",
         "Fire"
        ]
       ],
       "shape": {
        "columns": 1,
        "rows": 5
       }
      },
      "text/html": [
       "<div>\n",
       "<style scoped>\n",
       "    .dataframe tbody tr th:only-of-type {\n",
       "        vertical-align: middle;\n",
       "    }\n",
       "\n",
       "    .dataframe tbody tr th {\n",
       "        vertical-align: top;\n",
       "    }\n",
       "\n",
       "    .dataframe thead th {\n",
       "        text-align: right;\n",
       "    }\n",
       "</style>\n",
       "<table border=\"1\" class=\"dataframe\">\n",
       "  <thead>\n",
       "    <tr style=\"text-align: right;\">\n",
       "      <th></th>\n",
       "      <th>Type</th>\n",
       "    </tr>\n",
       "    <tr>\n",
       "      <th>Pokemon</th>\n",
       "      <th></th>\n",
       "    </tr>\n",
       "  </thead>\n",
       "  <tbody>\n",
       "    <tr>\n",
       "      <th>Bulbasaur</th>\n",
       "      <td>Grass / Poison</td>\n",
       "    </tr>\n",
       "    <tr>\n",
       "      <th>Ivysaur</th>\n",
       "      <td>Grass / Poison</td>\n",
       "    </tr>\n",
       "    <tr>\n",
       "      <th>Venusaur</th>\n",
       "      <td>Grass / Poison</td>\n",
       "    </tr>\n",
       "    <tr>\n",
       "      <th>Charmander</th>\n",
       "      <td>Fire</td>\n",
       "    </tr>\n",
       "    <tr>\n",
       "      <th>Charmeleon</th>\n",
       "      <td>Fire</td>\n",
       "    </tr>\n",
       "  </tbody>\n",
       "</table>\n",
       "</div>"
      ],
      "text/plain": [
       "                      Type\n",
       "Pokemon                   \n",
       "Bulbasaur   Grass / Poison\n",
       "Ivysaur     Grass / Poison\n",
       "Venusaur    Grass / Poison\n",
       "Charmander            Fire\n",
       "Charmeleon            Fire"
      ]
     },
     "execution_count": 13,
     "metadata": {},
     "output_type": "execute_result"
    }
   ],
   "source": [
    "pokemon.head()\n"
   ]
  },
  {
   "cell_type": "code",
   "execution_count": 18,
   "id": "1e231a64",
   "metadata": {},
   "outputs": [
    {
     "data": {
      "application/vnd.microsoft.datawrangler.viewer.v0+json": {
       "columns": [
        {
         "name": "Date",
         "rawType": "datetime64[ns]",
         "type": "datetime"
        },
        {
         "name": "Close",
         "rawType": "float64",
         "type": "float"
        }
       ],
       "ref": "47853ee9-3851-44c7-baee-b9ada7cf3b6f",
       "rows": [
        [
         "2004-08-19 00:00:00",
         "49.98"
        ],
        [
         "2004-08-20 00:00:00",
         "53.95"
        ],
        [
         "2004-08-23 00:00:00",
         "54.5"
        ],
        [
         "2004-08-24 00:00:00",
         "52.24"
        ],
        [
         "2004-08-25 00:00:00",
         "52.8"
        ]
       ],
       "shape": {
        "columns": 1,
        "rows": 5
       }
      },
      "text/html": [
       "<div>\n",
       "<style scoped>\n",
       "    .dataframe tbody tr th:only-of-type {\n",
       "        vertical-align: middle;\n",
       "    }\n",
       "\n",
       "    .dataframe tbody tr th {\n",
       "        vertical-align: top;\n",
       "    }\n",
       "\n",
       "    .dataframe thead th {\n",
       "        text-align: right;\n",
       "    }\n",
       "</style>\n",
       "<table border=\"1\" class=\"dataframe\">\n",
       "  <thead>\n",
       "    <tr style=\"text-align: right;\">\n",
       "      <th></th>\n",
       "      <th>Close</th>\n",
       "    </tr>\n",
       "    <tr>\n",
       "      <th>Date</th>\n",
       "      <th></th>\n",
       "    </tr>\n",
       "  </thead>\n",
       "  <tbody>\n",
       "    <tr>\n",
       "      <th>2004-08-19</th>\n",
       "      <td>49.98</td>\n",
       "    </tr>\n",
       "    <tr>\n",
       "      <th>2004-08-20</th>\n",
       "      <td>53.95</td>\n",
       "    </tr>\n",
       "    <tr>\n",
       "      <th>2004-08-23</th>\n",
       "      <td>54.50</td>\n",
       "    </tr>\n",
       "    <tr>\n",
       "      <th>2004-08-24</th>\n",
       "      <td>52.24</td>\n",
       "    </tr>\n",
       "    <tr>\n",
       "      <th>2004-08-25</th>\n",
       "      <td>52.80</td>\n",
       "    </tr>\n",
       "  </tbody>\n",
       "</table>\n",
       "</div>"
      ],
      "text/plain": [
       "            Close\n",
       "Date             \n",
       "2004-08-19  49.98\n",
       "2004-08-20  53.95\n",
       "2004-08-23  54.50\n",
       "2004-08-24  52.24\n",
       "2004-08-25  52.80"
      ]
     },
     "execution_count": 18,
     "metadata": {},
     "output_type": "execute_result"
    }
   ],
   "source": [
    "google = pd.read_csv(google_stocks_path, parse_dates = [\"Date\"], index_col=[\"Date\"])\n",
    "google.head()"
   ]
  },
  {
   "cell_type": "code",
   "execution_count": 24,
   "id": "00802137",
   "metadata": {},
   "outputs": [
    {
     "data": {
      "application/vnd.microsoft.datawrangler.viewer.v0+json": {
       "columns": [
        {
         "name": "Start Date",
         "rawType": "datetime64[ns]",
         "type": "datetime"
        },
        {
         "name": "State",
         "rawType": "object",
         "type": "string"
        }
       ],
       "ref": "521f9ab1-8181-4134-875d-0865d7432cdf",
       "rows": [
        [
         "1774-09-01 00:00:00",
         "Massachusetts"
        ],
        [
         "1774-12-14 00:00:00",
         "New Hampshire"
        ],
        [
         "1775-04-19 00:00:00",
         "Massachusetts"
        ],
        [
         "1775-04-19 00:00:00",
         "Massachusetts"
        ],
        [
         "1775-04-20 00:00:00",
         "Virginia"
        ]
       ],
       "shape": {
        "columns": 1,
        "rows": 5
       }
      },
      "text/html": [
       "<div>\n",
       "<style scoped>\n",
       "    .dataframe tbody tr th:only-of-type {\n",
       "        vertical-align: middle;\n",
       "    }\n",
       "\n",
       "    .dataframe tbody tr th {\n",
       "        vertical-align: top;\n",
       "    }\n",
       "\n",
       "    .dataframe thead th {\n",
       "        text-align: right;\n",
       "    }\n",
       "</style>\n",
       "<table border=\"1\" class=\"dataframe\">\n",
       "  <thead>\n",
       "    <tr style=\"text-align: right;\">\n",
       "      <th></th>\n",
       "      <th>State</th>\n",
       "    </tr>\n",
       "    <tr>\n",
       "      <th>Start Date</th>\n",
       "      <th></th>\n",
       "    </tr>\n",
       "  </thead>\n",
       "  <tbody>\n",
       "    <tr>\n",
       "      <th>1774-09-01</th>\n",
       "      <td>Massachusetts</td>\n",
       "    </tr>\n",
       "    <tr>\n",
       "      <th>1774-12-14</th>\n",
       "      <td>New Hampshire</td>\n",
       "    </tr>\n",
       "    <tr>\n",
       "      <th>1775-04-19</th>\n",
       "      <td>Massachusetts</td>\n",
       "    </tr>\n",
       "    <tr>\n",
       "      <th>1775-04-19</th>\n",
       "      <td>Massachusetts</td>\n",
       "    </tr>\n",
       "    <tr>\n",
       "      <th>1775-04-20</th>\n",
       "      <td>Virginia</td>\n",
       "    </tr>\n",
       "  </tbody>\n",
       "</table>\n",
       "</div>"
      ],
      "text/plain": [
       "                    State\n",
       "Start Date               \n",
       "1774-09-01  Massachusetts\n",
       "1774-12-14  New Hampshire\n",
       "1775-04-19  Massachusetts\n",
       "1775-04-19  Massachusetts\n",
       "1775-04-20       Virginia"
      ]
     },
     "execution_count": 24,
     "metadata": {},
     "output_type": "execute_result"
    }
   ],
   "source": [
    "battles = pd.read_csv(revolutionary_war_path, index_col=[\"Start Date\"], parse_dates=[\"Start Date\"], usecols=['State', 'Start Date'])\n",
    "battles.head()"
   ]
  },
  {
   "cell_type": "code",
   "execution_count": 28,
   "id": "e87cabab",
   "metadata": {},
   "outputs": [],
   "source": [
    "# convert dataframes to series\n",
    "google_close = google[\"Close\"]\n",
    "battles_state = battles[\"State\"]\n",
    "pokemon_type = pokemon[\"Type\"]"
   ]
  },
  {
   "cell_type": "code",
   "execution_count": 30,
   "id": "b7a52e2f",
   "metadata": {},
   "outputs": [
    {
     "data": {
      "text/plain": [
       "pandas.core.series.Series"
      ]
     },
     "execution_count": 30,
     "metadata": {},
     "output_type": "execute_result"
    }
   ],
   "source": [
    "type(pokemon_type)"
   ]
  },
  {
   "cell_type": "markdown",
   "id": "666a98d2",
   "metadata": {},
   "source": [
    "#### Sorting a Series"
   ]
  },
  {
   "cell_type": "code",
   "execution_count": 33,
   "id": "26d20fb3",
   "metadata": {},
   "outputs": [
    {
     "data": {
      "application/vnd.microsoft.datawrangler.viewer.v0+json": {
       "columns": [
        {
         "name": "Date",
         "rawType": "datetime64[ns]",
         "type": "datetime"
        },
        {
         "name": "Close",
         "rawType": "float64",
         "type": "float"
        }
       ],
       "ref": "56494f21-b1ab-4b9b-9db3-6bb661b8ef54",
       "rows": [
        [
         "2004-09-03 00:00:00",
         "49.82"
        ],
        [
         "2004-09-01 00:00:00",
         "49.94"
        ],
        [
         "2004-08-19 00:00:00",
         "49.98"
        ],
        [
         "2004-09-02 00:00:00",
         "50.57"
        ],
        [
         "2004-09-07 00:00:00",
         "50.6"
        ]
       ],
       "shape": {
        "columns": 1,
        "rows": 5
       }
      },
      "text/plain": [
       "Date\n",
       "2004-09-03    49.82\n",
       "2004-09-01    49.94\n",
       "2004-08-19    49.98\n",
       "2004-09-02    50.57\n",
       "2004-09-07    50.60\n",
       "Name: Close, dtype: float64"
      ]
     },
     "execution_count": 33,
     "metadata": {},
     "output_type": "execute_result"
    }
   ],
   "source": [
    "google_close.sort_values().head()"
   ]
  },
  {
   "cell_type": "code",
   "execution_count": 32,
   "id": "b423b4cc",
   "metadata": {},
   "outputs": [
    {
     "data": {
      "application/vnd.microsoft.datawrangler.viewer.v0+json": {
       "columns": [
        {
         "name": "Start Date",
         "rawType": "datetime64[ns]",
         "type": "datetime"
        },
        {
         "name": "State",
         "rawType": "object",
         "type": "string"
        }
       ],
       "ref": "a75f51fb-041e-46c3-8073-71bfd0213667",
       "rows": [
        [
         "1783-01-22 00:00:00",
         "Virginia"
        ],
        [
         "1781-09-28 00:00:00",
         "Virginia"
        ],
        [
         "1779-05-10 00:00:00",
         "Virginia"
        ],
        [
         "1781-09-05 00:00:00",
         "Virginia"
        ],
        [
         "1781-07-06 00:00:00",
         "Virginia"
        ]
       ],
       "shape": {
        "columns": 1,
        "rows": 5
       }
      },
      "text/plain": [
       "Start Date\n",
       "1783-01-22    Virginia\n",
       "1781-09-28    Virginia\n",
       "1779-05-10    Virginia\n",
       "1781-09-05    Virginia\n",
       "1781-07-06    Virginia\n",
       "Name: State, dtype: object"
      ]
     },
     "execution_count": 32,
     "metadata": {},
     "output_type": "execute_result"
    }
   ],
   "source": [
    "battles_state.sort_values(ascending = False).head()"
   ]
  },
  {
   "cell_type": "code",
   "execution_count": 34,
   "id": "f0362b60",
   "metadata": {},
   "outputs": [
    {
     "data": {
      "application/vnd.microsoft.datawrangler.viewer.v0+json": {
       "columns": [
        {
         "name": "index",
         "rawType": "int64",
         "type": "integer"
        },
        {
         "name": "0",
         "rawType": "object",
         "type": "string"
        }
       ],
       "ref": "494e6b6b-055f-4ac7-81c8-f7944a90183f",
       "rows": [
        [
         "0",
         "Adam"
        ],
        [
         "2",
         "Ben"
        ],
        [
         "1",
         "adam"
        ]
       ],
       "shape": {
        "columns": 1,
        "rows": 3
       }
      },
      "text/plain": [
       "0    Adam\n",
       "2     Ben\n",
       "1    adam\n",
       "dtype: object"
      ]
     },
     "execution_count": 34,
     "metadata": {},
     "output_type": "execute_result"
    }
   ],
   "source": [
    "# Sorting a Series with Upper and Lower Case\n",
    "pd.Series(data = [\"Adam\", \"adam\", \"Ben\"]).sort_values()"
   ]
  },
  {
   "cell_type": "code",
   "execution_count": null,
   "id": "9832e3e1",
   "metadata": {},
   "outputs": [
    {
     "data": {
      "application/vnd.microsoft.datawrangler.viewer.v0+json": {
       "columns": [
        {
         "name": "Start Date",
         "rawType": "datetime64[ns]",
         "type": "datetime"
        },
        {
         "name": "State",
         "rawType": "object",
         "type": "unknown"
        }
       ],
       "ref": "6a678ba6-b293-408e-9553-2d8d71722101",
       "rows": [
        [
         "1782-08-08 00:00:00",
         null
        ],
        [
         "1782-08-25 00:00:00",
         null
        ],
        [
         "1782-09-13 00:00:00",
         null
        ],
        [
         "1782-10-18 00:00:00",
         null
        ],
        [
         "1782-12-06 00:00:00",
         null
        ]
       ],
       "shape": {
        "columns": 1,
        "rows": 5
       }
      },
      "text/plain": [
       "Start Date\n",
       "1782-08-08    NaN\n",
       "1782-08-25    NaN\n",
       "1782-09-13    NaN\n",
       "1782-10-18    NaN\n",
       "1782-12-06    NaN\n",
       "Name: State, dtype: object"
      ]
     },
     "execution_count": 36,
     "metadata": {},
     "output_type": "execute_result"
    }
   ],
   "source": [
    "# sort Series with na_position parameter: last  - nan will be at the bottom\n",
    "battles_state.sort_values(na_position=\"last\").tail()"
   ]
  },
  {
   "cell_type": "code",
   "execution_count": null,
   "id": "eae23905",
   "metadata": {},
   "outputs": [
    {
     "data": {
      "application/vnd.microsoft.datawrangler.viewer.v0+json": {
       "columns": [
        {
         "name": "Start Date",
         "rawType": "datetime64[ns]",
         "type": "datetime"
        },
        {
         "name": "State",
         "rawType": "object",
         "type": "unknown"
        }
       ],
       "ref": "8c50dc19-081c-407f-ae8b-0c681b172458",
       "rows": [
        [
         "1775-09-17 00:00:00",
         null
        ],
        [
         "1775-12-31 00:00:00",
         null
        ],
        [
         "1776-03-03 00:00:00",
         null
        ],
        [
         "1776-03-25 00:00:00",
         null
        ],
        [
         "1776-05-18 00:00:00",
         null
        ]
       ],
       "shape": {
        "columns": 1,
        "rows": 5
       }
      },
      "text/plain": [
       "Start Date\n",
       "1775-09-17    NaN\n",
       "1775-12-31    NaN\n",
       "1776-03-03    NaN\n",
       "1776-03-25    NaN\n",
       "1776-05-18    NaN\n",
       "Name: State, dtype: object"
      ]
     },
     "execution_count": 37,
     "metadata": {},
     "output_type": "execute_result"
    }
   ],
   "source": [
    "# sort Series with na_position parameter: first - nan will be on top\n",
    "battles_state.sort_values(na_position=\"first\").head()"
   ]
  },
  {
   "cell_type": "code",
   "execution_count": 38,
   "id": "b041383e",
   "metadata": {},
   "outputs": [
    {
     "data": {
      "application/vnd.microsoft.datawrangler.viewer.v0+json": {
       "columns": [
        {
         "name": "Start Date",
         "rawType": "datetime64[ns]",
         "type": "datetime"
        },
        {
         "name": "State",
         "rawType": "object",
         "type": "string"
        }
       ],
       "ref": "2e471d8d-ca0d-4a37-91ac-2100b9b114ea",
       "rows": [
        [
         "1781-09-06 00:00:00",
         "Connecticut"
        ],
        [
         "1779-07-05 00:00:00",
         "Connecticut"
        ],
        [
         "1777-04-27 00:00:00",
         "Connecticut"
        ],
        [
         "1777-09-03 00:00:00",
         "Delaware"
        ],
        [
         "1777-05-17 00:00:00",
         "Florida"
        ]
       ],
       "shape": {
        "columns": 1,
        "rows": 5
       }
      },
      "text/plain": [
       "Start Date\n",
       "1781-09-06    Connecticut\n",
       "1779-07-05    Connecticut\n",
       "1777-04-27    Connecticut\n",
       "1777-09-03       Delaware\n",
       "1777-05-17        Florida\n",
       "Name: State, dtype: object"
      ]
     },
     "execution_count": 38,
     "metadata": {},
     "output_type": "execute_result"
    }
   ],
   "source": [
    "# remove nan values\n",
    "battles_state.dropna().sort_values().head()"
   ]
  },
  {
   "cell_type": "code",
   "execution_count": 40,
   "id": "aef0bc59",
   "metadata": {},
   "outputs": [
    {
     "data": {
      "application/vnd.microsoft.datawrangler.viewer.v0+json": {
       "columns": [
        {
         "name": "Pokemon",
         "rawType": "object",
         "type": "string"
        },
        {
         "name": "Type",
         "rawType": "object",
         "type": "string"
        }
       ],
       "ref": "600088f7-87c1-4394-a19d-7eef4920f3b2",
       "rows": [
        [
         "Abomasnow",
         "Grass / Ice"
        ],
        [
         "Abra",
         "Psychic"
        ],
        [
         "Absol",
         "Dark"
        ],
        [
         "Accelgor",
         "Bug"
        ],
        [
         "Aegislash",
         "Steel / Ghost"
        ]
       ],
       "shape": {
        "columns": 1,
        "rows": 5
       }
      },
      "text/plain": [
       "Pokemon\n",
       "Abomasnow      Grass / Ice\n",
       "Abra               Psychic\n",
       "Absol                 Dark\n",
       "Accelgor               Bug\n",
       "Aegislash    Steel / Ghost\n",
       "Name: Type, dtype: object"
      ]
     },
     "execution_count": 40,
     "metadata": {},
     "output_type": "execute_result"
    }
   ],
   "source": [
    "# sorting by index\n",
    "pokemon_type.sort_index().head()"
   ]
  },
  {
   "cell_type": "code",
   "execution_count": 42,
   "id": "6b4453fa",
   "metadata": {},
   "outputs": [
    {
     "data": {
      "application/vnd.microsoft.datawrangler.viewer.v0+json": {
       "columns": [
        {
         "name": "Start Date",
         "rawType": "datetime64[ns]",
         "type": "datetime"
        },
        {
         "name": "State",
         "rawType": "object",
         "type": "string"
        }
       ],
       "ref": "fe6bce71-8f3f-4532-bc2e-6913aa28c16f",
       "rows": [
        [
         "1774-09-01 00:00:00",
         "Massachusetts"
        ],
        [
         "1774-12-14 00:00:00",
         "New Hampshire"
        ],
        [
         "1775-04-19 00:00:00",
         "Massachusetts"
        ],
        [
         "1775-04-19 00:00:00",
         "Massachusetts"
        ],
        [
         "1775-04-20 00:00:00",
         "Virginia"
        ]
       ],
       "shape": {
        "columns": 1,
        "rows": 5
       }
      },
      "text/plain": [
       "Start Date\n",
       "1774-09-01    Massachusetts\n",
       "1774-12-14    New Hampshire\n",
       "1775-04-19    Massachusetts\n",
       "1775-04-19    Massachusetts\n",
       "1775-04-20         Virginia\n",
       "Name: State, dtype: object"
      ]
     },
     "execution_count": 42,
     "metadata": {},
     "output_type": "execute_result"
    }
   ],
   "source": [
    "# sorting date by index will sort it chronologically\n",
    "battles_state.sort_index().head()"
   ]
  },
  {
   "cell_type": "code",
   "execution_count": null,
   "id": "1b155fa6",
   "metadata": {},
   "outputs": [
    {
     "data": {
      "application/vnd.microsoft.datawrangler.viewer.v0+json": {
       "columns": [
        {
         "name": "Start Date",
         "rawType": "datetime64[ns]",
         "type": "datetime"
        },
        {
         "name": "State",
         "rawType": "object",
         "type": "unknown"
        }
       ],
       "ref": "efcdaecf-8013-48ce-b683-6e9533f2cc3a",
       "rows": [
        [
         null,
         "New Jersey"
        ],
        [
         null,
         "Virginia"
        ],
        [
         null,
         null
        ],
        [
         null,
         null
        ],
        [
         "1774-09-01 00:00:00",
         "Massachusetts"
        ]
       ],
       "shape": {
        "columns": 1,
        "rows": 5
       }
      },
      "text/plain": [
       "Start Date\n",
       "NaT              New Jersey\n",
       "NaT                Virginia\n",
       "NaT                     NaN\n",
       "NaT                     NaN\n",
       "1774-09-01    Massachusetts\n",
       "Name: State, dtype: object"
      ]
     },
     "execution_count": 43,
     "metadata": {},
     "output_type": "execute_result"
    }
   ],
   "source": [
    "# sorting date by index with na_position parameter will return NaT - not a time - first\n",
    "battles_state.sort_index(na_position='first').head()"
   ]
  }
 ],
 "metadata": {
  "kernelspec": {
   "display_name": "base",
   "language": "python",
   "name": "python3"
  },
  "language_info": {
   "codemirror_mode": {
    "name": "ipython",
    "version": 3
   },
   "file_extension": ".py",
   "mimetype": "text/x-python",
   "name": "python",
   "nbconvert_exporter": "python",
   "pygments_lexer": "ipython3",
   "version": "3.12.2"
  }
 },
 "nbformat": 4,
 "nbformat_minor": 5
}
