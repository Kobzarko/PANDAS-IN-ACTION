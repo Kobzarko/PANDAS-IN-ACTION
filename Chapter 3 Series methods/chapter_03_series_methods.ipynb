{
 "cells": [
  {
   "cell_type": "code",
   "execution_count": 8,
   "id": "fd4aeac9",
   "metadata": {},
   "outputs": [],
   "source": [
    "import pandas as pd"
   ]
  },
  {
   "cell_type": "code",
   "execution_count": null,
   "id": "b0a06ba9",
   "metadata": {},
   "outputs": [],
   "source": [
    "# file paths\n",
    "pokemon_path = \"PANDAS IN ACTION/Chapter 3 Series methods/Data/pokemon.csv\"\n",
    "google_stocks_path = \"PANDAS IN ACTION/Chapter 3 Series methods/Data/google_stocks.csv\"\n",
    "revolutionary_war_path = \"PANDAS IN ACTION/Chapter 3 Series methods/Data/revolutionary_war.csv\""
   ]
  },
  {
   "cell_type": "markdown",
   "id": "98a195b7",
   "metadata": {},
   "source": [
    "#### Import csv files"
   ]
  },
  {
   "cell_type": "code",
   "execution_count": 10,
   "id": "87a903f7",
   "metadata": {},
   "outputs": [
    {
     "data": {
      "application/vnd.microsoft.datawrangler.viewer.v0+json": {
       "columns": [
        {
         "name": "index",
         "rawType": "int64",
         "type": "integer"
        },
        {
         "name": "Date",
         "rawType": "object",
         "type": "string"
        },
        {
         "name": "Close",
         "rawType": "float64",
         "type": "float"
        }
       ],
       "ref": "38babdf8-0a0a-4945-bf21-47bddd194a9e",
       "rows": [
        [
         "0",
         "2004-08-19",
         "49.98"
        ],
        [
         "1",
         "2004-08-20",
         "53.95"
        ],
        [
         "2",
         "2004-08-23",
         "54.5"
        ],
        [
         "3",
         "2004-08-24",
         "52.24"
        ],
        [
         "4",
         "2004-08-25",
         "52.8"
        ],
        [
         "5",
         "2004-08-26",
         "53.75"
        ],
        [
         "6",
         "2004-08-27",
         "52.88"
        ],
        [
         "7",
         "2004-08-30",
         "50.81"
        ],
        [
         "8",
         "2004-08-31",
         "50.99"
        ],
        [
         "9",
         "2004-09-01",
         "49.94"
        ],
        [
         "10",
         "2004-09-02",
         "50.57"
        ],
        [
         "11",
         "2004-09-03",
         "49.82"
        ],
        [
         "12",
         "2004-09-07",
         "50.6"
        ],
        [
         "13",
         "2004-09-08",
         "50.96"
        ],
        [
         "14",
         "2004-09-09",
         "50.96"
        ],
        [
         "15",
         "2004-09-10",
         "52.47"
        ],
        [
         "16",
         "2004-09-13",
         "53.55"
        ],
        [
         "17",
         "2004-09-14",
         "55.54"
        ],
        [
         "18",
         "2004-09-15",
         "55.79"
        ],
        [
         "19",
         "2004-09-16",
         "56.77"
        ],
        [
         "20",
         "2004-09-17",
         "58.53"
        ],
        [
         "21",
         "2004-09-20",
         "59.46"
        ],
        [
         "22",
         "2004-09-21",
         "58.7"
        ],
        [
         "23",
         "2004-09-22",
         "58.97"
        ],
        [
         "24",
         "2004-09-23",
         "60.18"
        ],
        [
         "25",
         "2004-09-24",
         "59.69"
        ],
        [
         "26",
         "2004-09-27",
         "58.91"
        ],
        [
         "27",
         "2004-09-28",
         "63.19"
        ],
        [
         "28",
         "2004-09-29",
         "65.3"
        ],
        [
         "29",
         "2004-09-30",
         "64.56"
        ],
        [
         "30",
         "2004-10-01",
         "66.04"
        ],
        [
         "31",
         "2004-10-04",
         "67.28"
        ],
        [
         "32",
         "2004-10-05",
         "68.93"
        ],
        [
         "33",
         "2004-10-06",
         "68.28"
        ],
        [
         "34",
         "2004-10-07",
         "69.17"
        ],
        [
         "35",
         "2004-10-08",
         "68.61"
        ],
        [
         "36",
         "2004-10-11",
         "67.38"
        ],
        [
         "37",
         "2004-10-12",
         "68.44"
        ],
        [
         "38",
         "2004-10-13",
         "70.19"
        ],
        [
         "39",
         "2004-10-14",
         "70.73"
        ],
        [
         "40",
         "2004-10-15",
         "71.79"
        ],
        [
         "41",
         "2004-10-18",
         "74.3"
        ],
        [
         "42",
         "2004-10-19",
         "73.69"
        ],
        [
         "43",
         "2004-10-20",
         "69.98"
        ],
        [
         "44",
         "2004-10-21",
         "74.41"
        ],
        [
         "45",
         "2004-10-22",
         "85.89"
        ],
        [
         "46",
         "2004-10-25",
         "93.35"
        ],
        [
         "47",
         "2004-10-26",
         "90.56"
        ],
        [
         "48",
         "2004-10-27",
         "92.64"
        ],
        [
         "49",
         "2004-10-28",
         "96.29"
        ]
       ],
       "shape": {
        "columns": 2,
        "rows": 3824
       }
      },
      "text/html": [
       "<div>\n",
       "<style scoped>\n",
       "    .dataframe tbody tr th:only-of-type {\n",
       "        vertical-align: middle;\n",
       "    }\n",
       "\n",
       "    .dataframe tbody tr th {\n",
       "        vertical-align: top;\n",
       "    }\n",
       "\n",
       "    .dataframe thead th {\n",
       "        text-align: right;\n",
       "    }\n",
       "</style>\n",
       "<table border=\"1\" class=\"dataframe\">\n",
       "  <thead>\n",
       "    <tr style=\"text-align: right;\">\n",
       "      <th></th>\n",
       "      <th>Date</th>\n",
       "      <th>Close</th>\n",
       "    </tr>\n",
       "  </thead>\n",
       "  <tbody>\n",
       "    <tr>\n",
       "      <th>0</th>\n",
       "      <td>2004-08-19</td>\n",
       "      <td>49.98</td>\n",
       "    </tr>\n",
       "    <tr>\n",
       "      <th>1</th>\n",
       "      <td>2004-08-20</td>\n",
       "      <td>53.95</td>\n",
       "    </tr>\n",
       "    <tr>\n",
       "      <th>2</th>\n",
       "      <td>2004-08-23</td>\n",
       "      <td>54.50</td>\n",
       "    </tr>\n",
       "    <tr>\n",
       "      <th>3</th>\n",
       "      <td>2004-08-24</td>\n",
       "      <td>52.24</td>\n",
       "    </tr>\n",
       "    <tr>\n",
       "      <th>4</th>\n",
       "      <td>2004-08-25</td>\n",
       "      <td>52.80</td>\n",
       "    </tr>\n",
       "    <tr>\n",
       "      <th>...</th>\n",
       "      <td>...</td>\n",
       "      <td>...</td>\n",
       "    </tr>\n",
       "    <tr>\n",
       "      <th>3819</th>\n",
       "      <td>2019-10-21</td>\n",
       "      <td>1246.15</td>\n",
       "    </tr>\n",
       "    <tr>\n",
       "      <th>3820</th>\n",
       "      <td>2019-10-22</td>\n",
       "      <td>1242.80</td>\n",
       "    </tr>\n",
       "    <tr>\n",
       "      <th>3821</th>\n",
       "      <td>2019-10-23</td>\n",
       "      <td>1259.13</td>\n",
       "    </tr>\n",
       "    <tr>\n",
       "      <th>3822</th>\n",
       "      <td>2019-10-24</td>\n",
       "      <td>1260.99</td>\n",
       "    </tr>\n",
       "    <tr>\n",
       "      <th>3823</th>\n",
       "      <td>2019-10-25</td>\n",
       "      <td>1265.13</td>\n",
       "    </tr>\n",
       "  </tbody>\n",
       "</table>\n",
       "<p>3824 rows × 2 columns</p>\n",
       "</div>"
      ],
      "text/plain": [
       "            Date    Close\n",
       "0     2004-08-19    49.98\n",
       "1     2004-08-20    53.95\n",
       "2     2004-08-23    54.50\n",
       "3     2004-08-24    52.24\n",
       "4     2004-08-25    52.80\n",
       "...          ...      ...\n",
       "3819  2019-10-21  1246.15\n",
       "3820  2019-10-22  1242.80\n",
       "3821  2019-10-23  1259.13\n",
       "3822  2019-10-24  1260.99\n",
       "3823  2019-10-25  1265.13\n",
       "\n",
       "[3824 rows x 2 columns]"
      ]
     },
     "execution_count": 10,
     "metadata": {},
     "output_type": "execute_result"
    }
   ],
   "source": [
    "# these two lines are equivalent\n",
    "pd.read_csv(filepath_or_buffer = google_stocks_path)\n",
    "pd.read_csv(google_stocks_path)"
   ]
  },
  {
   "cell_type": "code",
   "execution_count": 11,
   "id": "302b2b34",
   "metadata": {},
   "outputs": [
    {
     "data": {
      "application/vnd.microsoft.datawrangler.viewer.v0+json": {
       "columns": [
        {
         "name": "Pokemon",
         "rawType": "object",
         "type": "string"
        },
        {
         "name": "Type",
         "rawType": "object",
         "type": "string"
        }
       ],
       "ref": "3b897be9-ce3d-4694-b7ef-ffa49ee0f136",
       "rows": [
        [
         "Bulbasaur",
         "Grass / Poison"
        ],
        [
         "Ivysaur",
         "Grass / Poison"
        ],
        [
         "Venusaur",
         "Grass / Poison"
        ],
        [
         "Charmander",
         "Fire"
        ],
        [
         "Charmeleon",
         "Fire"
        ],
        [
         "Charizard",
         "Fire / Flying"
        ],
        [
         "Squirtle",
         "Water"
        ],
        [
         "Wartortle",
         "Water"
        ],
        [
         "Blastoise",
         "Water"
        ],
        [
         "Caterpie",
         "Bug"
        ],
        [
         "Metapod",
         "Bug"
        ],
        [
         "Butterfree",
         "Bug / Flying"
        ],
        [
         "Weedle",
         "Bug / Poison"
        ],
        [
         "Kakuna",
         "Bug / Poison"
        ],
        [
         "Beedrill",
         "Bug / Poison"
        ],
        [
         "Pidgey",
         "Normal / Flying"
        ],
        [
         "Pidgeotto",
         "Normal / Flying"
        ],
        [
         "Pidgeot",
         "Normal / Flying"
        ],
        [
         "Rattata",
         "Normal"
        ],
        [
         "Raticate",
         "Normal"
        ],
        [
         "Spearow",
         "Normal / Flying"
        ],
        [
         "Fearow",
         "Normal / Flying"
        ],
        [
         "Ekans",
         "Poison"
        ],
        [
         "Arbok",
         "Poison"
        ],
        [
         "Pikachu",
         "Electric"
        ],
        [
         "Raichu",
         "Electric"
        ],
        [
         "Sandshrew",
         "Ground"
        ],
        [
         "Sandslash",
         "Ground"
        ],
        [
         "Nidoran♀",
         "Poison"
        ],
        [
         "Nidorina",
         "Poison"
        ],
        [
         "Nidoqueen",
         "Poison / Ground"
        ],
        [
         "Nidoran♂",
         "Poison"
        ],
        [
         "Nidorino",
         "Poison"
        ],
        [
         "Nidoking",
         "Poison / Ground"
        ],
        [
         "Clefairy",
         "Fairy"
        ],
        [
         "Clefable",
         "Fairy"
        ],
        [
         "Vulpix",
         "Fire"
        ],
        [
         "Ninetales",
         "Fire"
        ],
        [
         "Jigglypuff",
         "Normal / Fairy"
        ],
        [
         "Wigglytuff",
         "Normal / Fairy"
        ],
        [
         "Zubat",
         "Poison / Flying"
        ],
        [
         "Golbat",
         "Poison / Flying"
        ],
        [
         "Oddish",
         "Grass / Poison"
        ],
        [
         "Gloom",
         "Grass / Poison"
        ],
        [
         "Vileplume",
         "Grass / Poison"
        ],
        [
         "Paras",
         "Bug / Grass"
        ],
        [
         "Parasect",
         "Bug / Grass"
        ],
        [
         "Venonat",
         "Bug / Poison"
        ],
        [
         "Venomoth",
         "Bug / Poison"
        ],
        [
         "Diglett",
         "Ground"
        ]
       ],
       "shape": {
        "columns": 1,
        "rows": 809
       }
      },
      "text/html": [
       "<div>\n",
       "<style scoped>\n",
       "    .dataframe tbody tr th:only-of-type {\n",
       "        vertical-align: middle;\n",
       "    }\n",
       "\n",
       "    .dataframe tbody tr th {\n",
       "        vertical-align: top;\n",
       "    }\n",
       "\n",
       "    .dataframe thead th {\n",
       "        text-align: right;\n",
       "    }\n",
       "</style>\n",
       "<table border=\"1\" class=\"dataframe\">\n",
       "  <thead>\n",
       "    <tr style=\"text-align: right;\">\n",
       "      <th></th>\n",
       "      <th>Type</th>\n",
       "    </tr>\n",
       "    <tr>\n",
       "      <th>Pokemon</th>\n",
       "      <th></th>\n",
       "    </tr>\n",
       "  </thead>\n",
       "  <tbody>\n",
       "    <tr>\n",
       "      <th>Bulbasaur</th>\n",
       "      <td>Grass / Poison</td>\n",
       "    </tr>\n",
       "    <tr>\n",
       "      <th>Ivysaur</th>\n",
       "      <td>Grass / Poison</td>\n",
       "    </tr>\n",
       "    <tr>\n",
       "      <th>Venusaur</th>\n",
       "      <td>Grass / Poison</td>\n",
       "    </tr>\n",
       "    <tr>\n",
       "      <th>Charmander</th>\n",
       "      <td>Fire</td>\n",
       "    </tr>\n",
       "    <tr>\n",
       "      <th>Charmeleon</th>\n",
       "      <td>Fire</td>\n",
       "    </tr>\n",
       "    <tr>\n",
       "      <th>...</th>\n",
       "      <td>...</td>\n",
       "    </tr>\n",
       "    <tr>\n",
       "      <th>Stakataka</th>\n",
       "      <td>Rock / Steel</td>\n",
       "    </tr>\n",
       "    <tr>\n",
       "      <th>Blacephalon</th>\n",
       "      <td>Fire / Ghost</td>\n",
       "    </tr>\n",
       "    <tr>\n",
       "      <th>Zeraora</th>\n",
       "      <td>Electric</td>\n",
       "    </tr>\n",
       "    <tr>\n",
       "      <th>Meltan</th>\n",
       "      <td>Steel</td>\n",
       "    </tr>\n",
       "    <tr>\n",
       "      <th>Melmetal</th>\n",
       "      <td>Steel</td>\n",
       "    </tr>\n",
       "  </tbody>\n",
       "</table>\n",
       "<p>809 rows × 1 columns</p>\n",
       "</div>"
      ],
      "text/plain": [
       "                       Type\n",
       "Pokemon                    \n",
       "Bulbasaur    Grass / Poison\n",
       "Ivysaur      Grass / Poison\n",
       "Venusaur     Grass / Poison\n",
       "Charmander             Fire\n",
       "Charmeleon             Fire\n",
       "...                     ...\n",
       "Stakataka      Rock / Steel\n",
       "Blacephalon    Fire / Ghost\n",
       "Zeraora            Electric\n",
       "Meltan                Steel\n",
       "Melmetal              Steel\n",
       "\n",
       "[809 rows x 1 columns]"
      ]
     },
     "execution_count": 11,
     "metadata": {},
     "output_type": "execute_result"
    }
   ],
   "source": [
    "# let's set the index column to be \"Pokemon\"\n",
    "pd.read_csv(filepath_or_buffer = pokemon_path,index_col = \"Pokemon\")"
   ]
  },
  {
   "cell_type": "code",
   "execution_count": 12,
   "id": "593a6415",
   "metadata": {},
   "outputs": [],
   "source": [
    "pokemon = pd.read_csv(pokemon_path, index_col = \"Pokemon\")"
   ]
  },
  {
   "cell_type": "code",
   "execution_count": 13,
   "id": "18a68f5e",
   "metadata": {},
   "outputs": [
    {
     "data": {
      "application/vnd.microsoft.datawrangler.viewer.v0+json": {
       "columns": [
        {
         "name": "Pokemon",
         "rawType": "object",
         "type": "string"
        },
        {
         "name": "Type",
         "rawType": "object",
         "type": "string"
        }
       ],
       "ref": "3b24913e-24bd-4a17-9c72-9cb304f95a16",
       "rows": [
        [
         "Bulbasaur",
         "Grass / Poison"
        ],
        [
         "Ivysaur",
         "Grass / Poison"
        ],
        [
         "Venusaur",
         "Grass / Poison"
        ],
        [
         "Charmander",
         "Fire"
        ],
        [
         "Charmeleon",
         "Fire"
        ]
       ],
       "shape": {
        "columns": 1,
        "rows": 5
       }
      },
      "text/html": [
       "<div>\n",
       "<style scoped>\n",
       "    .dataframe tbody tr th:only-of-type {\n",
       "        vertical-align: middle;\n",
       "    }\n",
       "\n",
       "    .dataframe tbody tr th {\n",
       "        vertical-align: top;\n",
       "    }\n",
       "\n",
       "    .dataframe thead th {\n",
       "        text-align: right;\n",
       "    }\n",
       "</style>\n",
       "<table border=\"1\" class=\"dataframe\">\n",
       "  <thead>\n",
       "    <tr style=\"text-align: right;\">\n",
       "      <th></th>\n",
       "      <th>Type</th>\n",
       "    </tr>\n",
       "    <tr>\n",
       "      <th>Pokemon</th>\n",
       "      <th></th>\n",
       "    </tr>\n",
       "  </thead>\n",
       "  <tbody>\n",
       "    <tr>\n",
       "      <th>Bulbasaur</th>\n",
       "      <td>Grass / Poison</td>\n",
       "    </tr>\n",
       "    <tr>\n",
       "      <th>Ivysaur</th>\n",
       "      <td>Grass / Poison</td>\n",
       "    </tr>\n",
       "    <tr>\n",
       "      <th>Venusaur</th>\n",
       "      <td>Grass / Poison</td>\n",
       "    </tr>\n",
       "    <tr>\n",
       "      <th>Charmander</th>\n",
       "      <td>Fire</td>\n",
       "    </tr>\n",
       "    <tr>\n",
       "      <th>Charmeleon</th>\n",
       "      <td>Fire</td>\n",
       "    </tr>\n",
       "  </tbody>\n",
       "</table>\n",
       "</div>"
      ],
      "text/plain": [
       "                      Type\n",
       "Pokemon                   \n",
       "Bulbasaur   Grass / Poison\n",
       "Ivysaur     Grass / Poison\n",
       "Venusaur    Grass / Poison\n",
       "Charmander            Fire\n",
       "Charmeleon            Fire"
      ]
     },
     "execution_count": 13,
     "metadata": {},
     "output_type": "execute_result"
    }
   ],
   "source": [
    "pokemon.head()\n"
   ]
  },
  {
   "cell_type": "code",
   "execution_count": 14,
   "id": "1e231a64",
   "metadata": {},
   "outputs": [
    {
     "data": {
      "application/vnd.microsoft.datawrangler.viewer.v0+json": {
       "columns": [
        {
         "name": "Date",
         "rawType": "datetime64[ns]",
         "type": "datetime"
        },
        {
         "name": "Close",
         "rawType": "float64",
         "type": "float"
        }
       ],
       "ref": "6b1c4830-9d13-4271-aebb-4a671e39a1d1",
       "rows": [
        [
         "2004-08-19 00:00:00",
         "49.98"
        ],
        [
         "2004-08-20 00:00:00",
         "53.95"
        ],
        [
         "2004-08-23 00:00:00",
         "54.5"
        ],
        [
         "2004-08-24 00:00:00",
         "52.24"
        ],
        [
         "2004-08-25 00:00:00",
         "52.8"
        ]
       ],
       "shape": {
        "columns": 1,
        "rows": 5
       }
      },
      "text/html": [
       "<div>\n",
       "<style scoped>\n",
       "    .dataframe tbody tr th:only-of-type {\n",
       "        vertical-align: middle;\n",
       "    }\n",
       "\n",
       "    .dataframe tbody tr th {\n",
       "        vertical-align: top;\n",
       "    }\n",
       "\n",
       "    .dataframe thead th {\n",
       "        text-align: right;\n",
       "    }\n",
       "</style>\n",
       "<table border=\"1\" class=\"dataframe\">\n",
       "  <thead>\n",
       "    <tr style=\"text-align: right;\">\n",
       "      <th></th>\n",
       "      <th>Close</th>\n",
       "    </tr>\n",
       "    <tr>\n",
       "      <th>Date</th>\n",
       "      <th></th>\n",
       "    </tr>\n",
       "  </thead>\n",
       "  <tbody>\n",
       "    <tr>\n",
       "      <th>2004-08-19</th>\n",
       "      <td>49.98</td>\n",
       "    </tr>\n",
       "    <tr>\n",
       "      <th>2004-08-20</th>\n",
       "      <td>53.95</td>\n",
       "    </tr>\n",
       "    <tr>\n",
       "      <th>2004-08-23</th>\n",
       "      <td>54.50</td>\n",
       "    </tr>\n",
       "    <tr>\n",
       "      <th>2004-08-24</th>\n",
       "      <td>52.24</td>\n",
       "    </tr>\n",
       "    <tr>\n",
       "      <th>2004-08-25</th>\n",
       "      <td>52.80</td>\n",
       "    </tr>\n",
       "  </tbody>\n",
       "</table>\n",
       "</div>"
      ],
      "text/plain": [
       "            Close\n",
       "Date             \n",
       "2004-08-19  49.98\n",
       "2004-08-20  53.95\n",
       "2004-08-23  54.50\n",
       "2004-08-24  52.24\n",
       "2004-08-25  52.80"
      ]
     },
     "execution_count": 14,
     "metadata": {},
     "output_type": "execute_result"
    }
   ],
   "source": [
    "google = pd.read_csv(google_stocks_path, parse_dates = [\"Date\"], index_col=[\"Date\"])\n",
    "google.head()"
   ]
  },
  {
   "cell_type": "code",
   "execution_count": 15,
   "id": "00802137",
   "metadata": {},
   "outputs": [
    {
     "data": {
      "application/vnd.microsoft.datawrangler.viewer.v0+json": {
       "columns": [
        {
         "name": "Start Date",
         "rawType": "datetime64[ns]",
         "type": "datetime"
        },
        {
         "name": "State",
         "rawType": "object",
         "type": "string"
        }
       ],
       "ref": "12277a12-840e-4bc9-8b3f-d492e8b96ff8",
       "rows": [
        [
         "1774-09-01 00:00:00",
         "Massachusetts"
        ],
        [
         "1774-12-14 00:00:00",
         "New Hampshire"
        ],
        [
         "1775-04-19 00:00:00",
         "Massachusetts"
        ],
        [
         "1775-04-19 00:00:00",
         "Massachusetts"
        ],
        [
         "1775-04-20 00:00:00",
         "Virginia"
        ]
       ],
       "shape": {
        "columns": 1,
        "rows": 5
       }
      },
      "text/html": [
       "<div>\n",
       "<style scoped>\n",
       "    .dataframe tbody tr th:only-of-type {\n",
       "        vertical-align: middle;\n",
       "    }\n",
       "\n",
       "    .dataframe tbody tr th {\n",
       "        vertical-align: top;\n",
       "    }\n",
       "\n",
       "    .dataframe thead th {\n",
       "        text-align: right;\n",
       "    }\n",
       "</style>\n",
       "<table border=\"1\" class=\"dataframe\">\n",
       "  <thead>\n",
       "    <tr style=\"text-align: right;\">\n",
       "      <th></th>\n",
       "      <th>State</th>\n",
       "    </tr>\n",
       "    <tr>\n",
       "      <th>Start Date</th>\n",
       "      <th></th>\n",
       "    </tr>\n",
       "  </thead>\n",
       "  <tbody>\n",
       "    <tr>\n",
       "      <th>1774-09-01</th>\n",
       "      <td>Massachusetts</td>\n",
       "    </tr>\n",
       "    <tr>\n",
       "      <th>1774-12-14</th>\n",
       "      <td>New Hampshire</td>\n",
       "    </tr>\n",
       "    <tr>\n",
       "      <th>1775-04-19</th>\n",
       "      <td>Massachusetts</td>\n",
       "    </tr>\n",
       "    <tr>\n",
       "      <th>1775-04-19</th>\n",
       "      <td>Massachusetts</td>\n",
       "    </tr>\n",
       "    <tr>\n",
       "      <th>1775-04-20</th>\n",
       "      <td>Virginia</td>\n",
       "    </tr>\n",
       "  </tbody>\n",
       "</table>\n",
       "</div>"
      ],
      "text/plain": [
       "                    State\n",
       "Start Date               \n",
       "1774-09-01  Massachusetts\n",
       "1774-12-14  New Hampshire\n",
       "1775-04-19  Massachusetts\n",
       "1775-04-19  Massachusetts\n",
       "1775-04-20       Virginia"
      ]
     },
     "execution_count": 15,
     "metadata": {},
     "output_type": "execute_result"
    }
   ],
   "source": [
    "battles = pd.read_csv(revolutionary_war_path, index_col=[\"Start Date\"], parse_dates=[\"Start Date\"], usecols=['State', 'Start Date'])\n",
    "battles.head()"
   ]
  },
  {
   "cell_type": "code",
   "execution_count": 16,
   "id": "e87cabab",
   "metadata": {},
   "outputs": [],
   "source": [
    "# convert dataframes to series\n",
    "google_close = google[\"Close\"]\n",
    "battles_state = battles[\"State\"]\n",
    "pokemon_type = pokemon[\"Type\"]"
   ]
  },
  {
   "cell_type": "code",
   "execution_count": 17,
   "id": "b7a52e2f",
   "metadata": {},
   "outputs": [
    {
     "data": {
      "text/plain": [
       "pandas.core.series.Series"
      ]
     },
     "execution_count": 17,
     "metadata": {},
     "output_type": "execute_result"
    }
   ],
   "source": [
    "type(pokemon_type)"
   ]
  },
  {
   "cell_type": "markdown",
   "id": "666a98d2",
   "metadata": {},
   "source": [
    "#### Sorting a Series"
   ]
  },
  {
   "cell_type": "markdown",
   "id": "d9f567b2",
   "metadata": {},
   "source": [
    "##### Sorting by Values"
   ]
  },
  {
   "cell_type": "code",
   "execution_count": 18,
   "id": "26d20fb3",
   "metadata": {},
   "outputs": [
    {
     "data": {
      "application/vnd.microsoft.datawrangler.viewer.v0+json": {
       "columns": [
        {
         "name": "Date",
         "rawType": "datetime64[ns]",
         "type": "datetime"
        },
        {
         "name": "Close",
         "rawType": "float64",
         "type": "float"
        }
       ],
       "ref": "d7368636-48ca-446a-a347-71e492cc157c",
       "rows": [
        [
         "2004-09-03 00:00:00",
         "49.82"
        ],
        [
         "2004-09-01 00:00:00",
         "49.94"
        ],
        [
         "2004-08-19 00:00:00",
         "49.98"
        ],
        [
         "2004-09-02 00:00:00",
         "50.57"
        ],
        [
         "2004-09-07 00:00:00",
         "50.6"
        ]
       ],
       "shape": {
        "columns": 1,
        "rows": 5
       }
      },
      "text/plain": [
       "Date\n",
       "2004-09-03    49.82\n",
       "2004-09-01    49.94\n",
       "2004-08-19    49.98\n",
       "2004-09-02    50.57\n",
       "2004-09-07    50.60\n",
       "Name: Close, dtype: float64"
      ]
     },
     "execution_count": 18,
     "metadata": {},
     "output_type": "execute_result"
    }
   ],
   "source": [
    "google_close.sort_values().head()"
   ]
  },
  {
   "cell_type": "code",
   "execution_count": 19,
   "id": "b423b4cc",
   "metadata": {},
   "outputs": [
    {
     "data": {
      "application/vnd.microsoft.datawrangler.viewer.v0+json": {
       "columns": [
        {
         "name": "Date",
         "rawType": "datetime64[ns]",
         "type": "datetime"
        },
        {
         "name": "Close",
         "rawType": "float64",
         "type": "float"
        }
       ],
       "ref": "4c467f0e-c19b-47d7-b152-d5b32ffbc1c5",
       "rows": [
        [
         "2019-04-29 00:00:00",
         "1287.58"
        ],
        [
         "2019-04-26 00:00:00",
         "1272.18"
        ],
        [
         "2018-07-26 00:00:00",
         "1268.33"
        ],
        [
         "2019-10-25 00:00:00",
         "1265.13"
        ],
        [
         "2019-04-23 00:00:00",
         "1264.55"
        ]
       ],
       "shape": {
        "columns": 1,
        "rows": 5
       }
      },
      "text/plain": [
       "Date\n",
       "2019-04-29    1287.58\n",
       "2019-04-26    1272.18\n",
       "2018-07-26    1268.33\n",
       "2019-10-25    1265.13\n",
       "2019-04-23    1264.55\n",
       "Name: Close, dtype: float64"
      ]
     },
     "execution_count": 19,
     "metadata": {},
     "output_type": "execute_result"
    }
   ],
   "source": [
    "google_close.sort_values(ascending = False).head()"
   ]
  },
  {
   "cell_type": "code",
   "execution_count": 20,
   "id": "f0362b60",
   "metadata": {},
   "outputs": [
    {
     "data": {
      "application/vnd.microsoft.datawrangler.viewer.v0+json": {
       "columns": [
        {
         "name": "index",
         "rawType": "int64",
         "type": "integer"
        },
        {
         "name": "0",
         "rawType": "object",
         "type": "string"
        }
       ],
       "ref": "acf3d053-6eca-47a0-9499-95cb648d3f0a",
       "rows": [
        [
         "0",
         "Adam"
        ],
        [
         "2",
         "Ben"
        ],
        [
         "1",
         "adam"
        ]
       ],
       "shape": {
        "columns": 1,
        "rows": 3
       }
      },
      "text/plain": [
       "0    Adam\n",
       "2     Ben\n",
       "1    adam\n",
       "dtype: object"
      ]
     },
     "execution_count": 20,
     "metadata": {},
     "output_type": "execute_result"
    }
   ],
   "source": [
    "# Sorting a Series with Upper and Lower Case Strings. First capital letters are sorted before lowercase letters.\n",
    "pd.Series(data = [\"Adam\", \"adam\", \"Ben\"]).sort_values()"
   ]
  },
  {
   "cell_type": "code",
   "execution_count": 21,
   "id": "9832e3e1",
   "metadata": {},
   "outputs": [
    {
     "data": {
      "application/vnd.microsoft.datawrangler.viewer.v0+json": {
       "columns": [
        {
         "name": "Start Date",
         "rawType": "datetime64[ns]",
         "type": "datetime"
        },
        {
         "name": "State",
         "rawType": "object",
         "type": "unknown"
        }
       ],
       "ref": "f1a53725-90e9-440c-ad90-14e0bc5be0ef",
       "rows": [
        [
         "1782-08-08 00:00:00",
         null
        ],
        [
         "1782-08-25 00:00:00",
         null
        ],
        [
         "1782-09-13 00:00:00",
         null
        ],
        [
         "1782-10-18 00:00:00",
         null
        ],
        [
         "1782-12-06 00:00:00",
         null
        ]
       ],
       "shape": {
        "columns": 1,
        "rows": 5
       }
      },
      "text/plain": [
       "Start Date\n",
       "1782-08-08    NaN\n",
       "1782-08-25    NaN\n",
       "1782-09-13    NaN\n",
       "1782-10-18    NaN\n",
       "1782-12-06    NaN\n",
       "Name: State, dtype: object"
      ]
     },
     "execution_count": 21,
     "metadata": {},
     "output_type": "execute_result"
    }
   ],
   "source": [
    "# sort Series with na_position parameter: last  - nan will be at the bottom\n",
    "battles_state.sort_values(na_position=\"last\").tail()"
   ]
  },
  {
   "cell_type": "code",
   "execution_count": 22,
   "id": "eae23905",
   "metadata": {},
   "outputs": [
    {
     "data": {
      "application/vnd.microsoft.datawrangler.viewer.v0+json": {
       "columns": [
        {
         "name": "Start Date",
         "rawType": "datetime64[ns]",
         "type": "datetime"
        },
        {
         "name": "State",
         "rawType": "object",
         "type": "unknown"
        }
       ],
       "ref": "22f9eaf1-dc2e-4b2a-9fea-a0e1751aff1f",
       "rows": [
        [
         "1775-09-17 00:00:00",
         null
        ],
        [
         "1775-12-31 00:00:00",
         null
        ],
        [
         "1776-03-03 00:00:00",
         null
        ],
        [
         "1776-03-25 00:00:00",
         null
        ],
        [
         "1776-05-18 00:00:00",
         null
        ]
       ],
       "shape": {
        "columns": 1,
        "rows": 5
       }
      },
      "text/plain": [
       "Start Date\n",
       "1775-09-17    NaN\n",
       "1775-12-31    NaN\n",
       "1776-03-03    NaN\n",
       "1776-03-25    NaN\n",
       "1776-05-18    NaN\n",
       "Name: State, dtype: object"
      ]
     },
     "execution_count": 22,
     "metadata": {},
     "output_type": "execute_result"
    }
   ],
   "source": [
    "# sort Series with na_position parameter: first - nan will be on top\n",
    "battles_state.sort_values(na_position=\"first\").head()"
   ]
  },
  {
   "cell_type": "code",
   "execution_count": 23,
   "id": "b041383e",
   "metadata": {},
   "outputs": [
    {
     "data": {
      "application/vnd.microsoft.datawrangler.viewer.v0+json": {
       "columns": [
        {
         "name": "Start Date",
         "rawType": "datetime64[ns]",
         "type": "datetime"
        },
        {
         "name": "State",
         "rawType": "object",
         "type": "string"
        }
       ],
       "ref": "e5732279-fa52-4ca0-bd5f-815ce4ee0839",
       "rows": [
        [
         "1781-09-06 00:00:00",
         "Connecticut"
        ],
        [
         "1779-07-05 00:00:00",
         "Connecticut"
        ],
        [
         "1777-04-27 00:00:00",
         "Connecticut"
        ],
        [
         "1777-09-03 00:00:00",
         "Delaware"
        ],
        [
         "1777-05-17 00:00:00",
         "Florida"
        ]
       ],
       "shape": {
        "columns": 1,
        "rows": 5
       }
      },
      "text/plain": [
       "Start Date\n",
       "1781-09-06    Connecticut\n",
       "1779-07-05    Connecticut\n",
       "1777-04-27    Connecticut\n",
       "1777-09-03       Delaware\n",
       "1777-05-17        Florida\n",
       "Name: State, dtype: object"
      ]
     },
     "execution_count": 23,
     "metadata": {},
     "output_type": "execute_result"
    }
   ],
   "source": [
    "# remove nan values by dropna() method\n",
    "battles_state.dropna().sort_values().head()"
   ]
  },
  {
   "cell_type": "markdown",
   "id": "7852e4af",
   "metadata": {},
   "source": [
    "##### Sorting by Index"
   ]
  },
  {
   "cell_type": "code",
   "execution_count": 24,
   "id": "aef0bc59",
   "metadata": {},
   "outputs": [
    {
     "data": {
      "application/vnd.microsoft.datawrangler.viewer.v0+json": {
       "columns": [
        {
         "name": "Pokemon",
         "rawType": "object",
         "type": "string"
        },
        {
         "name": "Type",
         "rawType": "object",
         "type": "string"
        }
       ],
       "ref": "66a6b6b0-3a64-4601-8ebe-cf8823825d04",
       "rows": [
        [
         "Abomasnow",
         "Grass / Ice"
        ],
        [
         "Abra",
         "Psychic"
        ],
        [
         "Absol",
         "Dark"
        ],
        [
         "Accelgor",
         "Bug"
        ],
        [
         "Aegislash",
         "Steel / Ghost"
        ]
       ],
       "shape": {
        "columns": 1,
        "rows": 5
       }
      },
      "text/plain": [
       "Pokemon\n",
       "Abomasnow      Grass / Ice\n",
       "Abra               Psychic\n",
       "Absol                 Dark\n",
       "Accelgor               Bug\n",
       "Aegislash    Steel / Ghost\n",
       "Name: Type, dtype: object"
      ]
     },
     "execution_count": 24,
     "metadata": {},
     "output_type": "execute_result"
    }
   ],
   "source": [
    "# sorting by index values\n",
    "pokemon_type.sort_index().head()"
   ]
  },
  {
   "cell_type": "code",
   "execution_count": 25,
   "id": "6b4453fa",
   "metadata": {},
   "outputs": [
    {
     "data": {
      "application/vnd.microsoft.datawrangler.viewer.v0+json": {
       "columns": [
        {
         "name": "Start Date",
         "rawType": "datetime64[ns]",
         "type": "datetime"
        },
        {
         "name": "State",
         "rawType": "object",
         "type": "string"
        }
       ],
       "ref": "36a82964-4638-444c-ac60-e750727526cc",
       "rows": [
        [
         "1774-09-01 00:00:00",
         "Massachusetts"
        ],
        [
         "1774-12-14 00:00:00",
         "New Hampshire"
        ],
        [
         "1775-04-19 00:00:00",
         "Massachusetts"
        ],
        [
         "1775-04-19 00:00:00",
         "Massachusetts"
        ],
        [
         "1775-04-20 00:00:00",
         "Virginia"
        ]
       ],
       "shape": {
        "columns": 1,
        "rows": 5
       }
      },
      "text/plain": [
       "Start Date\n",
       "1774-09-01    Massachusetts\n",
       "1774-12-14    New Hampshire\n",
       "1775-04-19    Massachusetts\n",
       "1775-04-19    Massachusetts\n",
       "1775-04-20         Virginia\n",
       "Name: State, dtype: object"
      ]
     },
     "execution_count": 25,
     "metadata": {},
     "output_type": "execute_result"
    }
   ],
   "source": [
    "# sorting date by index will sort it chronologically\n",
    "battles_state.sort_index().head()"
   ]
  },
  {
   "cell_type": "code",
   "execution_count": 26,
   "id": "1b155fa6",
   "metadata": {},
   "outputs": [
    {
     "data": {
      "application/vnd.microsoft.datawrangler.viewer.v0+json": {
       "columns": [
        {
         "name": "Start Date",
         "rawType": "datetime64[ns]",
         "type": "datetime"
        },
        {
         "name": "State",
         "rawType": "object",
         "type": "unknown"
        }
       ],
       "ref": "b11a98d6-e188-436a-a983-a28f71c7d1d2",
       "rows": [
        [
         null,
         "New Jersey"
        ],
        [
         null,
         "Virginia"
        ],
        [
         null,
         null
        ],
        [
         null,
         null
        ],
        [
         "1774-09-01 00:00:00",
         "Massachusetts"
        ]
       ],
       "shape": {
        "columns": 1,
        "rows": 5
       }
      },
      "text/plain": [
       "Start Date\n",
       "NaT              New Jersey\n",
       "NaT                Virginia\n",
       "NaT                     NaN\n",
       "NaT                     NaN\n",
       "1774-09-01    Massachusetts\n",
       "Name: State, dtype: object"
      ]
     },
     "execution_count": 26,
     "metadata": {},
     "output_type": "execute_result"
    }
   ],
   "source": [
    "# sorting date by index with na_position parameter will return NaT - not a time - first\n",
    "battles_state.sort_index(na_position='first').head()"
   ]
  },
  {
   "cell_type": "markdown",
   "id": "8bbfa271",
   "metadata": {},
   "source": [
    "#### Retrieving the Smallest and Largest Values with the nsmallest and nlargest Methods"
   ]
  },
  {
   "cell_type": "code",
   "execution_count": 27,
   "id": "aedd8c59",
   "metadata": {},
   "outputs": [
    {
     "data": {
      "application/vnd.microsoft.datawrangler.viewer.v0+json": {
       "columns": [
        {
         "name": "Date",
         "rawType": "datetime64[ns]",
         "type": "datetime"
        },
        {
         "name": "Close",
         "rawType": "float64",
         "type": "float"
        }
       ],
       "ref": "a90dbfc5-0665-46b4-a8df-1b1201034149",
       "rows": [
        [
         "2019-04-29 00:00:00",
         "1287.58"
        ],
        [
         "2019-04-26 00:00:00",
         "1272.18"
        ],
        [
         "2018-07-26 00:00:00",
         "1268.33"
        ],
        [
         "2019-10-25 00:00:00",
         "1265.13"
        ],
        [
         "2019-04-23 00:00:00",
         "1264.55"
        ]
       ],
       "shape": {
        "columns": 1,
        "rows": 5
       }
      },
      "text/plain": [
       "Date\n",
       "2019-04-29    1287.58\n",
       "2019-04-26    1272.18\n",
       "2018-07-26    1268.33\n",
       "2019-10-25    1265.13\n",
       "2019-04-23    1264.55\n",
       "Name: Close, dtype: float64"
      ]
     },
     "execution_count": 27,
     "metadata": {},
     "output_type": "execute_result"
    }
   ],
   "source": [
    "google_close.sort_values(ascending=False).head()"
   ]
  },
  {
   "cell_type": "markdown",
   "id": "6ae1980f",
   "metadata": {},
   "source": [
    "##### nlargest"
   ]
  },
  {
   "cell_type": "code",
   "execution_count": 28,
   "id": "82eba643",
   "metadata": {},
   "outputs": [
    {
     "data": {
      "application/vnd.microsoft.datawrangler.viewer.v0+json": {
       "columns": [
        {
         "name": "Date",
         "rawType": "datetime64[ns]",
         "type": "datetime"
        },
        {
         "name": "Close",
         "rawType": "float64",
         "type": "float"
        }
       ],
       "ref": "1093cba1-7d33-4f5f-93e8-e6efd6c31b15",
       "rows": [
        [
         "2019-04-29 00:00:00",
         "1287.58"
        ],
        [
         "2019-04-26 00:00:00",
         "1272.18"
        ],
        [
         "2018-07-26 00:00:00",
         "1268.33"
        ],
        [
         "2019-10-25 00:00:00",
         "1265.13"
        ],
        [
         "2019-04-23 00:00:00",
         "1264.55"
        ]
       ],
       "shape": {
        "columns": 1,
        "rows": 5
       }
      },
      "text/plain": [
       "Date\n",
       "2019-04-29    1287.58\n",
       "2019-04-26    1272.18\n",
       "2018-07-26    1268.33\n",
       "2019-10-25    1265.13\n",
       "2019-04-23    1264.55\n",
       "Name: Close, dtype: float64"
      ]
     },
     "execution_count": 28,
     "metadata": {},
     "output_type": "execute_result"
    }
   ],
   "source": [
    "# return n largest values two same ways\n",
    "google_close.nlargest(n = 5)\n"
   ]
  },
  {
   "cell_type": "code",
   "execution_count": 29,
   "id": "47e6ed67",
   "metadata": {},
   "outputs": [
    {
     "data": {
      "application/vnd.microsoft.datawrangler.viewer.v0+json": {
       "columns": [
        {
         "name": "Date",
         "rawType": "datetime64[ns]",
         "type": "datetime"
        },
        {
         "name": "Close",
         "rawType": "float64",
         "type": "float"
        }
       ],
       "ref": "7fe04ab7-cedd-4191-872e-a4b45484c470",
       "rows": [
        [
         "2019-04-29 00:00:00",
         "1287.58"
        ],
        [
         "2019-04-26 00:00:00",
         "1272.18"
        ],
        [
         "2018-07-26 00:00:00",
         "1268.33"
        ],
        [
         "2019-10-25 00:00:00",
         "1265.13"
        ],
        [
         "2019-04-23 00:00:00",
         "1264.55"
        ]
       ],
       "shape": {
        "columns": 1,
        "rows": 5
       }
      },
      "text/plain": [
       "Date\n",
       "2019-04-29    1287.58\n",
       "2019-04-26    1272.18\n",
       "2018-07-26    1268.33\n",
       "2019-10-25    1265.13\n",
       "2019-04-23    1264.55\n",
       "Name: Close, dtype: float64"
      ]
     },
     "execution_count": 29,
     "metadata": {},
     "output_type": "execute_result"
    }
   ],
   "source": [
    "# n has default value of 5\n",
    "google_close.nlargest()"
   ]
  },
  {
   "cell_type": "markdown",
   "id": "8a60f2df",
   "metadata": {},
   "source": [
    "##### nsmallest"
   ]
  },
  {
   "cell_type": "code",
   "execution_count": 30,
   "id": "dc369962",
   "metadata": {},
   "outputs": [
    {
     "data": {
      "application/vnd.microsoft.datawrangler.viewer.v0+json": {
       "columns": [
        {
         "name": "Date",
         "rawType": "datetime64[ns]",
         "type": "datetime"
        },
        {
         "name": "Close",
         "rawType": "float64",
         "type": "float"
        }
       ],
       "ref": "ebf91309-d23c-48ac-b4ef-d14ac53140bd",
       "rows": [
        [
         "2004-09-03 00:00:00",
         "49.82"
        ],
        [
         "2004-09-01 00:00:00",
         "49.94"
        ],
        [
         "2004-08-19 00:00:00",
         "49.98"
        ],
        [
         "2004-09-02 00:00:00",
         "50.57"
        ],
        [
         "2004-09-07 00:00:00",
         "50.6"
        ]
       ],
       "shape": {
        "columns": 1,
        "rows": 5
       }
      },
      "text/plain": [
       "Date\n",
       "2004-09-03    49.82\n",
       "2004-09-01    49.94\n",
       "2004-08-19    49.98\n",
       "2004-09-02    50.57\n",
       "2004-09-07    50.60\n",
       "Name: Close, dtype: float64"
      ]
     },
     "execution_count": 30,
     "metadata": {},
     "output_type": "execute_result"
    }
   ],
   "source": [
    "# return n largest value\n",
    "google_close.nsmallest(n = 5)"
   ]
  },
  {
   "cell_type": "code",
   "execution_count": 33,
   "id": "97bc2ef4",
   "metadata": {},
   "outputs": [
    {
     "data": {
      "application/vnd.microsoft.datawrangler.viewer.v0+json": {
       "columns": [
        {
         "name": "Date",
         "rawType": "datetime64[ns]",
         "type": "datetime"
        },
        {
         "name": "Close",
         "rawType": "float64",
         "type": "float"
        }
       ],
       "ref": "17f64cfc-3d79-47f2-ba4f-1e134a435b3a",
       "rows": [
        [
         "2004-09-03 00:00:00",
         "49.82"
        ],
        [
         "2004-09-01 00:00:00",
         "49.94"
        ],
        [
         "2004-08-19 00:00:00",
         "49.98"
        ],
        [
         "2004-09-02 00:00:00",
         "50.57"
        ],
        [
         "2004-09-07 00:00:00",
         "50.6"
        ]
       ],
       "shape": {
        "columns": 1,
        "rows": 5
       }
      },
      "text/plain": [
       "Date\n",
       "2004-09-03    49.82\n",
       "2004-09-01    49.94\n",
       "2004-08-19    49.98\n",
       "2004-09-02    50.57\n",
       "2004-09-07    50.60\n",
       "Name: Close, dtype: float64"
      ]
     },
     "execution_count": 33,
     "metadata": {},
     "output_type": "execute_result"
    }
   ],
   "source": [
    "# n has default value of 5\n",
    "google_close.nsmallest()"
   ]
  },
  {
   "cell_type": "markdown",
   "id": "0f7042d9",
   "metadata": {},
   "source": [
    "#### Overwriting a Series with the inplace Parameter"
   ]
  },
  {
   "cell_type": "code",
   "execution_count": 59,
   "id": "c33fb211",
   "metadata": {},
   "outputs": [
    {
     "data": {
      "application/vnd.microsoft.datawrangler.viewer.v0+json": {
       "columns": [
        {
         "name": "Start Date",
         "rawType": "datetime64[ns]",
         "type": "datetime"
        },
        {
         "name": "State",
         "rawType": "object",
         "type": "unknown"
        }
       ],
       "ref": "0e4cd019-de2c-4063-a8d6-f284a7b0a235",
       "rows": [
        [
         "1777-04-27 00:00:00",
         "Connecticut"
        ],
        [
         "1779-07-05 00:00:00",
         "Connecticut"
        ],
        [
         "1781-09-06 00:00:00",
         "Connecticut"
        ],
        [
         "1777-09-03 00:00:00",
         "Delaware"
        ],
        [
         "1778-06-30 00:00:00",
         "Florida"
        ],
        [
         "1781-03-09 00:00:00",
         "Florida"
        ],
        [
         "1780-03-02 00:00:00",
         "Florida"
        ],
        [
         "1779-09-20 00:00:00",
         "Florida"
        ],
        [
         "1777-05-17 00:00:00",
         "Florida"
        ],
        [
         "1779-09-07 00:00:00",
         "Florida"
        ],
        [
         "1781-01-07 00:00:00",
         "Florida"
        ],
        [
         "1779-09-10 00:00:00",
         "Florida"
        ],
        [
         "1779-03-03 00:00:00",
         "Georgia"
        ],
        [
         "1778-12-29 00:00:00",
         "Georgia"
        ],
        [
         "1776-03-02 00:00:00",
         "Georgia"
        ],
        [
         "1779-02-14 00:00:00",
         "Georgia"
        ],
        [
         "1779-09-16 00:00:00",
         "Georgia"
        ],
        [
         "1781-05-22 00:00:00",
         "Georgia"
        ],
        [
         "1779-02-23 00:00:00",
         "Indiana"
        ],
        [
         "1780-05-25 00:00:00",
         "Louisiana"
        ],
        [
         "1775-10-18 00:00:00",
         "Massachusetts"
        ],
        [
         "1777-08-13 00:00:00",
         "Massachusetts"
        ],
        [
         "1778-09-05 00:00:00",
         "Massachusetts"
        ],
        [
         "1775-04-19 00:00:00",
         "Massachusetts"
        ],
        [
         "1775-08-08 00:00:00",
         "Massachusetts"
        ],
        [
         "1774-09-01 00:00:00",
         "Massachusetts"
        ],
        [
         "1775-04-19 00:00:00",
         "Massachusetts"
        ],
        [
         "1779-07-24 00:00:00",
         "Massachusetts"
        ],
        [
         "1775-06-17 00:00:00",
         "Massachusetts"
        ],
        [
         "1775-06-11 00:00:00",
         "Massachusetts"
        ],
        [
         "1775-05-27 00:00:00",
         "Massachusetts"
        ],
        [
         "1774-12-14 00:00:00",
         "New Hampshire"
        ],
        [
         "1778-10-06 00:00:00",
         "New Jersey"
        ],
        [
         "1778-09-27 00:00:00",
         "New Jersey"
        ],
        [
         "1776-06-29 00:00:00",
         "New Jersey"
        ],
        [
         "1777-01-02 00:00:00",
         "New Jersey"
        ],
        [
         "1777-11-25 00:00:00",
         "New Jersey"
        ],
        [
         "1780-07-20 00:00:00",
         "New Jersey"
        ],
        [
         "1780-06-23 00:00:00",
         "New Jersey"
        ],
        [
         "1778-06-28 00:00:00",
         "New Jersey"
        ],
        [
         "1777-10-22 00:00:00",
         "New Jersey"
        ],
        [
         "1778-03-18 00:00:00",
         "New Jersey"
        ],
        [
         "1782-04-08 00:00:00",
         "New Jersey"
        ],
        [
         null,
         "New Jersey"
        ],
        [
         "1776-12-26 00:00:00",
         "New Jersey"
        ],
        [
         "1779-08-19 00:00:00",
         "New Jersey"
        ],
        [
         "1776-11-20 00:00:00",
         "New Jersey"
        ],
        [
         "1776-12-14 00:00:00",
         "New Jersey"
        ],
        [
         "1777-06-26 00:00:00",
         "New Jersey"
        ],
        [
         "1776-12-22 00:00:00",
         "New Jersey"
        ]
       ],
       "shape": {
        "columns": 1,
        "rows": 232
       }
      },
      "text/plain": [
       "Start Date\n",
       "1777-04-27    Connecticut\n",
       "1779-07-05    Connecticut\n",
       "1781-09-06    Connecticut\n",
       "1777-09-03       Delaware\n",
       "1778-06-30        Florida\n",
       "                 ...     \n",
       "1776-03-03            NaN\n",
       "1775-12-31            NaN\n",
       "1775-09-17            NaN\n",
       "NaT                   NaN\n",
       "NaT                   NaN\n",
       "Name: State, Length: 232, dtype: object"
      ]
     },
     "execution_count": 59,
     "metadata": {},
     "output_type": "execute_result"
    }
   ],
   "source": [
    "battles_state.sort_values()"
   ]
  },
  {
   "cell_type": "code",
   "execution_count": 65,
   "id": "3c962a13",
   "metadata": {},
   "outputs": [
    {
     "data": {
      "application/vnd.microsoft.datawrangler.viewer.v0+json": {
       "columns": [
        {
         "name": "Start Date",
         "rawType": "datetime64[ns]",
         "type": "datetime"
        },
        {
         "name": "State",
         "rawType": "object",
         "type": "unknown"
        }
       ],
       "ref": "83d0c182-3c78-4167-b2b7-a7e3ee8a8955",
       "rows": [
        [
         "1783-01-22 00:00:00",
         "Virginia"
        ],
        [
         "1782-12-06 00:00:00",
         null
        ],
        [
         "1782-10-18 00:00:00",
         null
        ],
        [
         "1782-09-13 00:00:00",
         null
        ],
        [
         "1782-09-11 00:00:00",
         "Virginia"
        ]
       ],
       "shape": {
        "columns": 1,
        "rows": 5
       }
      },
      "text/plain": [
       "Start Date\n",
       "1783-01-22    Virginia\n",
       "1782-12-06         NaN\n",
       "1782-10-18         NaN\n",
       "1782-09-13         NaN\n",
       "1782-09-11    Virginia\n",
       "Name: State, dtype: object"
      ]
     },
     "execution_count": 65,
     "metadata": {},
     "output_type": "execute_result"
    }
   ],
   "source": [
    "battles_state.head()"
   ]
  },
  {
   "cell_type": "code",
   "execution_count": null,
   "id": "b6553a77",
   "metadata": {},
   "outputs": [],
   "source": [
    "# To get a sorted Dataframe by values and save it - use sort_values() and inplace=True\n",
    "battles.sort_values(by='State', ascending=True, inplace=True)\n",
    "battles.head()"
   ]
  },
  {
   "cell_type": "code",
   "execution_count": 66,
   "id": "7c3ef525",
   "metadata": {},
   "outputs": [
    {
     "data": {
      "application/vnd.microsoft.datawrangler.viewer.v0+json": {
       "columns": [
        {
         "name": "Start Date",
         "rawType": "datetime64[ns]",
         "type": "datetime"
        },
        {
         "name": "State",
         "rawType": "object",
         "type": "unknown"
        }
       ],
       "ref": "53f4b7cd-c0b6-47d3-b411-bc99af385e56",
       "rows": [
        [
         "1783-01-22 00:00:00",
         "Virginia"
        ],
        [
         "1782-12-06 00:00:00",
         null
        ],
        [
         "1782-10-18 00:00:00",
         null
        ],
        [
         "1782-09-13 00:00:00",
         null
        ],
        [
         "1782-09-11 00:00:00",
         "Virginia"
        ]
       ],
       "shape": {
        "columns": 1,
        "rows": 5
       }
      },
      "text/plain": [
       "Start Date\n",
       "1783-01-22    Virginia\n",
       "1782-12-06         NaN\n",
       "1782-10-18         NaN\n",
       "1782-09-13         NaN\n",
       "1782-09-11    Virginia\n",
       "Name: State, dtype: object"
      ]
     },
     "execution_count": 66,
     "metadata": {},
     "output_type": "execute_result"
    }
   ],
   "source": [
    "# To get a sorted Series by Index and save it - use sort_index() and inplace=True\n",
    "battles_state.sort_index(ascending=False, inplace=True)\n",
    "battles_state.head()"
   ]
  },
  {
   "cell_type": "markdown",
   "id": "5554b413",
   "metadata": {},
   "source": [
    "**Memorize that if you change the column(Series) of Dataframe using inplace=true it will affect to the Dataframe itself**"
   ]
  },
  {
   "cell_type": "markdown",
   "id": "811e778e",
   "metadata": {},
   "source": [
    "##### Counting Values with the value_counts Method"
   ]
  },
  {
   "cell_type": "code",
   "execution_count": 73,
   "id": "23ed6964",
   "metadata": {},
   "outputs": [
    {
     "data": {
      "application/vnd.microsoft.datawrangler.viewer.v0+json": {
       "columns": [
        {
         "name": "Type",
         "rawType": "object",
         "type": "string"
        },
        {
         "name": "count",
         "rawType": "int64",
         "type": "integer"
        }
       ],
       "ref": "eb9e9219-02ce-4439-94ab-c2d211e236da",
       "rows": [
        [
         "Normal",
         "65"
        ],
        [
         "Water",
         "61"
        ],
        [
         "Grass",
         "38"
        ],
        [
         "Psychic",
         "35"
        ],
        [
         "Fire",
         "30"
        ]
       ],
       "shape": {
        "columns": 1,
        "rows": 5
       }
      },
      "text/plain": [
       "Type\n",
       "Normal     65\n",
       "Water      61\n",
       "Grass      38\n",
       "Psychic    35\n",
       "Fire       30\n",
       "Name: count, dtype: int64"
      ]
     },
     "execution_count": 73,
     "metadata": {},
     "output_type": "execute_result"
    }
   ],
   "source": [
    "# value_counts() method returns a number in a Series for each unique value\n",
    "pokemon_type.value_counts().head()"
   ]
  },
  {
   "cell_type": "code",
   "execution_count": 75,
   "id": "62d01f87",
   "metadata": {},
   "outputs": [
    {
     "data": {
      "text/plain": [
       "159"
      ]
     },
     "execution_count": 75,
     "metadata": {},
     "output_type": "execute_result"
    }
   ],
   "source": [
    "# let's see count the length of the value_counts result\n",
    "len(pokemon_type.value_counts())\n"
   ]
  },
  {
   "cell_type": "code",
   "execution_count": 76,
   "id": "bd106c7f",
   "metadata": {},
   "outputs": [
    {
     "data": {
      "text/plain": [
       "159"
      ]
     },
     "execution_count": 76,
     "metadata": {},
     "output_type": "execute_result"
    }
   ],
   "source": [
    "# check it with nunique() method\n",
    "pokemon_type.nunique()"
   ]
  },
  {
   "cell_type": "code",
   "execution_count": null,
   "id": "a3203385",
   "metadata": {},
   "outputs": [
    {
     "data": {
      "application/vnd.microsoft.datawrangler.viewer.v0+json": {
       "columns": [
        {
         "name": "Type",
         "rawType": "object",
         "type": "string"
        },
        {
         "name": "count",
         "rawType": "int64",
         "type": "integer"
        }
       ],
       "ref": "047d4235-e000-4e44-ab27-814b385c268e",
       "rows": [
        [
         "Fire / Ghost",
         "1"
        ],
        [
         "Fighting / Dark",
         "1"
        ],
        [
         "Fighting / Steel",
         "1"
        ],
        [
         "Normal / Ground",
         "1"
        ],
        [
         "Fire / Psychic",
         "1"
        ]
       ],
       "shape": {
        "columns": 1,
        "rows": 5
       }
      },
      "text/plain": [
       "Type\n",
       "Fire / Ghost        1\n",
       "Fighting / Dark     1\n",
       "Fighting / Steel    1\n",
       "Normal / Ground     1\n",
       "Fire / Psychic      1\n",
       "Name: count, dtype: int64"
      ]
     },
     "execution_count": 78,
     "metadata": {},
     "output_type": "execute_result"
    }
   ],
   "source": [
    "# ascending parameter has default value of False, so ascending=True will return the smallest counts first\n",
    "pokemon_type.value_counts(ascending=True).head()"
   ]
  },
  {
   "cell_type": "code",
   "execution_count": 79,
   "id": "fb73661b",
   "metadata": {},
   "outputs": [
    {
     "data": {
      "application/vnd.microsoft.datawrangler.viewer.v0+json": {
       "columns": [
        {
         "name": "Type",
         "rawType": "object",
         "type": "string"
        },
        {
         "name": "proportion",
         "rawType": "float64",
         "type": "float"
        }
       ],
       "ref": "36ec09e8-b50b-43d7-9c8e-b91eebba92b0",
       "rows": [
        [
         "Normal",
         "0.08034610630407911"
        ],
        [
         "Water",
         "0.0754017305315204"
        ],
        [
         "Grass",
         "0.04697156983930779"
        ],
        [
         "Psychic",
         "0.04326328800988875"
        ],
        [
         "Fire",
         "0.037082818294190356"
        ]
       ],
       "shape": {
        "columns": 1,
        "rows": 5
       }
      },
      "text/plain": [
       "Type\n",
       "Normal     0.080346\n",
       "Water      0.075402\n",
       "Grass      0.046972\n",
       "Psychic    0.043263\n",
       "Fire       0.037083\n",
       "Name: proportion, dtype: float64"
      ]
     },
     "execution_count": 79,
     "metadata": {},
     "output_type": "execute_result"
    }
   ],
   "source": [
    "# normalize parameter will return the relative frequencies of unique values - how often each unique value occurs divided by the total number of values\n",
    "pokemon_type.value_counts(normalize=True).head()"
   ]
  },
  {
   "cell_type": "code",
   "execution_count": null,
   "id": "ed54e9fe",
   "metadata": {},
   "outputs": [
    {
     "data": {
      "application/vnd.microsoft.datawrangler.viewer.v0+json": {
       "columns": [
        {
         "name": "Type",
         "rawType": "object",
         "type": "string"
        },
        {
         "name": "proportion",
         "rawType": "float64",
         "type": "float"
        }
       ],
       "ref": "8a09e056-187e-4b92-9aa4-97c467ab8c91",
       "rows": [
        [
         "Normal",
         "8.03"
        ],
        [
         "Water",
         "7.54"
        ],
        [
         "Grass",
         "4.7"
        ],
        [
         "Psychic",
         "4.33"
        ],
        [
         "Fire",
         "3.71"
        ],
        [
         "Electric",
         "3.46"
        ],
        [
         "Normal / Flying",
         "3.21"
        ],
        [
         "Fighting",
         "2.72"
        ],
        [
         "Bug",
         "2.22"
        ],
        [
         "Fairy",
         "1.98"
        ],
        [
         "Poison",
         "1.98"
        ],
        [
         "Ground",
         "1.85"
        ],
        [
         "Grass / Poison",
         "1.73"
        ],
        [
         "Bug / Flying",
         "1.61"
        ],
        [
         "Dragon",
         "1.48"
        ],
        [
         "Ice",
         "1.48"
        ],
        [
         "Rock",
         "1.36"
        ],
        [
         "Bug / Poison",
         "1.36"
        ],
        [
         "Dark",
         "1.11"
        ],
        [
         "Water / Ground",
         "1.11"
        ],
        [
         "Ghost",
         "1.11"
        ],
        [
         "Water / Flying",
         "0.87"
        ],
        [
         "Grass / Flying",
         "0.74"
        ],
        [
         "Psychic / Flying",
         "0.74"
        ],
        [
         "Rock / Water",
         "0.74"
        ],
        [
         "Fire / Fighting",
         "0.74"
        ],
        [
         "Psychic / Fairy",
         "0.74"
        ],
        [
         "Steel / Psychic",
         "0.74"
        ],
        [
         "Steel",
         "0.74"
        ],
        [
         "Bug / Grass",
         "0.74"
        ],
        [
         "Rock / Ground",
         "0.74"
        ],
        [
         "Fire / Flying",
         "0.74"
        ],
        [
         "Ghost / Grass",
         "0.62"
        ],
        [
         "Bug / Steel",
         "0.62"
        ],
        [
         "Water / Psychic",
         "0.62"
        ],
        [
         "Dark / Flying",
         "0.62"
        ],
        [
         "Grass / Fairy",
         "0.62"
        ],
        [
         "Water / Rock",
         "0.49"
        ],
        [
         "Water / Dark",
         "0.49"
        ],
        [
         "Dark / Dragon",
         "0.49"
        ],
        [
         "Dragon / Ground",
         "0.49"
        ],
        [
         "Normal / Fairy",
         "0.49"
        ],
        [
         "Water / Fairy",
         "0.49"
        ],
        [
         "Bug / Electric",
         "0.49"
        ],
        [
         "Dragon / Flying",
         "0.49"
        ],
        [
         "Rock / Flying",
         "0.49"
        ],
        [
         "Electric / Steel",
         "0.49"
        ],
        [
         "Rock / Steel",
         "0.49"
        ],
        [
         "Steel / Ghost",
         "0.37"
        ],
        [
         "Grass / Dark",
         "0.37"
        ]
       ],
       "shape": {
        "columns": 1,
        "rows": 159
       }
      },
      "text/plain": [
       "Type\n",
       "Normal                8.03\n",
       "Water                 7.54\n",
       "Grass                 4.70\n",
       "Psychic               4.33\n",
       "Fire                  3.71\n",
       "                      ... \n",
       "Fire / Psychic        0.12\n",
       "Normal / Ground       0.12\n",
       "Psychic / Fighting    0.12\n",
       "Dark / Ghost          0.12\n",
       "Fire / Ghost          0.12\n",
       "Name: proportion, Length: 159, dtype: float64"
      ]
     },
     "execution_count": 82,
     "metadata": {},
     "output_type": "execute_result"
    }
   ],
   "source": [
    "# visualize the result of value_counts() in percents   \n",
    "# Normal make up 8.03% of all Pokemon types \n",
    "(pokemon_type.value_counts(normalize=True)* 100).round(2)"
   ]
  },
  {
   "cell_type": "code",
   "execution_count": null,
   "id": "8261e2ff",
   "metadata": {},
   "outputs": [
    {
     "data": {
      "application/vnd.microsoft.datawrangler.viewer.v0+json": {
       "columns": [
        {
         "name": "index",
         "rawType": "interval[float64, right]",
         "type": "unknown"
        },
        {
         "name": "count",
         "rawType": "int64",
         "type": "integer"
        }
       ],
       "ref": "1f5966dc-3bfb-461d-9835-93c3bf79738c",
       "rows": [
        [
         "(200.0, 400.0]",
         "1568"
        ],
        [
         "(-0.001, 200.0]",
         "595"
        ],
        [
         "(400.0, 600.0]",
         "575"
        ],
        [
         "(1000.0, 1200.0]",
         "406"
        ],
        [
         "(600.0, 800.0]",
         "380"
        ],
        [
         "(800.0, 1000.0]",
         "207"
        ],
        [
         "(1200.0, 1400.0]",
         "93"
        ]
       ],
       "shape": {
        "columns": 1,
        "rows": 7
       }
      },
      "text/plain": [
       "(200.0, 400.0]      1568\n",
       "(-0.001, 200.0]      595\n",
       "(400.0, 600.0]       575\n",
       "(1000.0, 1200.0]     406\n",
       "(600.0, 800.0]       380\n",
       "(800.0, 1000.0]      207\n",
       "(1200.0, 1400.0]      93\n",
       "Name: count, dtype: int64"
      ]
     },
     "execution_count": 87,
     "metadata": {},
     "output_type": "execute_result"
    }
   ],
   "source": [
    "# Use bins parameter to sort continuous values into discrete intervals \n",
    "# 1568 values in the Series fall into the 200 - 400 range\n",
    "buckets = [0, 200, 400, 600, 800, 1000, 1200, 1400]\n",
    "google_close.value_counts(bins = buckets)"
   ]
  },
  {
   "cell_type": "code",
   "execution_count": 91,
   "id": "f3b2d1f0",
   "metadata": {},
   "outputs": [
    {
     "data": {
      "application/vnd.microsoft.datawrangler.viewer.v0+json": {
       "columns": [
        {
         "name": "Date",
         "rawType": "datetime64[ns]",
         "type": "datetime"
        },
        {
         "name": "Close",
         "rawType": "float64",
         "type": "float"
        }
       ],
       "ref": "b737e82b-e1e9-4156-bf34-e549722490bb",
       "rows": [
        [
         "2005-11-17 00:00:00",
         "200.97"
        ],
        [
         "2005-11-21 00:00:00",
         "203.92"
        ],
        [
         "2005-11-22 00:00:00",
         "207.46"
        ],
        [
         "2005-11-23 00:00:00",
         "210.64"
        ],
        [
         "2005-11-25 00:00:00",
         "213.51"
        ]
       ],
       "shape": {
        "columns": 1,
        "rows": 5
       }
      },
      "text/plain": [
       "Date\n",
       "2005-11-17    200.97\n",
       "2005-11-21    203.92\n",
       "2005-11-22    207.46\n",
       "2005-11-23    210.64\n",
       "2005-11-25    213.51\n",
       "Name: Close, dtype: float64"
      ]
     },
     "execution_count": 91,
     "metadata": {},
     "output_type": "execute_result"
    }
   ],
   "source": [
    "# retrieve values where 200 < value <= 400\n",
    "google_close[(google_close > 200) & (google_close <= 400)].head()"
   ]
  },
  {
   "cell_type": "code",
   "execution_count": null,
   "id": "aefd5b7c",
   "metadata": {},
   "outputs": [
    {
     "data": {
      "application/vnd.microsoft.datawrangler.viewer.v0+json": {
       "columns": [
        {
         "name": "index",
         "rawType": "interval[float64, right]",
         "type": "unknown"
        },
        {
         "name": "count",
         "rawType": "int64",
         "type": "integer"
        }
       ],
       "ref": "b1d901b9-aff2-4150-9007-d681ae4f926d",
       "rows": [
        [
         "(-0.001, 200.0]",
         "595"
        ],
        [
         "(200.0, 400.0]",
         "1568"
        ],
        [
         "(400.0, 600.0]",
         "575"
        ],
        [
         "(600.0, 800.0]",
         "380"
        ],
        [
         "(800.0, 1000.0]",
         "207"
        ],
        [
         "(1000.0, 1200.0]",
         "406"
        ],
        [
         "(1200.0, 1400.0]",
         "93"
        ]
       ],
       "shape": {
        "columns": 1,
        "rows": 7
       }
      },
      "text/plain": [
       "(-0.001, 200.0]      595\n",
       "(200.0, 400.0]      1568\n",
       "(400.0, 600.0]       575\n",
       "(600.0, 800.0]       380\n",
       "(800.0, 1000.0]      207\n",
       "(1000.0, 1200.0]     406\n",
       "(1200.0, 1400.0]      93\n",
       "Name: count, dtype: int64"
      ]
     },
     "execution_count": 93,
     "metadata": {},
     "output_type": "execute_result"
    }
   ],
   "source": [
    "# return the same result order by index from min to max\n",
    "google_close.value_counts(bins=buckets).sort_index()"
   ]
  },
  {
   "cell_type": "code",
   "execution_count": 94,
   "id": "1ae2044f",
   "metadata": {},
   "outputs": [
    {
     "data": {
      "application/vnd.microsoft.datawrangler.viewer.v0+json": {
       "columns": [
        {
         "name": "index",
         "rawType": "interval[float64, right]",
         "type": "unknown"
        },
        {
         "name": "count",
         "rawType": "int64",
         "type": "integer"
        }
       ],
       "ref": "c61c613b-28ba-4ad1-8622-f0ffb169f212",
       "rows": [
        [
         "(-0.001, 200.0]",
         "595"
        ],
        [
         "(200.0, 400.0]",
         "1568"
        ],
        [
         "(400.0, 600.0]",
         "575"
        ],
        [
         "(600.0, 800.0]",
         "380"
        ],
        [
         "(800.0, 1000.0]",
         "207"
        ],
        [
         "(1000.0, 1200.0]",
         "406"
        ],
        [
         "(1200.0, 1400.0]",
         "93"
        ]
       ],
       "shape": {
        "columns": 1,
        "rows": 7
       }
      },
      "text/plain": [
       "(-0.001, 200.0]      595\n",
       "(200.0, 400.0]      1568\n",
       "(400.0, 600.0]       575\n",
       "(600.0, 800.0]       380\n",
       "(800.0, 1000.0]      207\n",
       "(1000.0, 1200.0]     406\n",
       "(1200.0, 1400.0]      93\n",
       "Name: count, dtype: int64"
      ]
     },
     "execution_count": 94,
     "metadata": {},
     "output_type": "execute_result"
    }
   ],
   "source": [
    "# The same result can be achieved by using the value_counts() and sort=False parameters\n",
    "google_close.value_counts(bins=buckets, sort=False)"
   ]
  },
  {
   "cell_type": "code",
   "execution_count": 96,
   "id": "4851209a",
   "metadata": {},
   "outputs": [
    {
     "data": {
      "application/vnd.microsoft.datawrangler.viewer.v0+json": {
       "columns": [
        {
         "name": "index",
         "rawType": "interval[float64, right]",
         "type": "unknown"
        },
        {
         "name": "count",
         "rawType": "int64",
         "type": "integer"
        }
       ],
       "ref": "2ee7441d-7510-4f22-9f13-7d4058e0dd4d",
       "rows": [
        [
         "(48.581, 359.26]",
         "2086"
        ],
        [
         "(359.26, 668.7]",
         "729"
        ],
        [
         "(668.7, 978.14]",
         "495"
        ],
        [
         "(978.14, 1287.58]",
         "514"
        ]
       ],
       "shape": {
        "columns": 1,
        "rows": 4
       }
      },
      "text/plain": [
       "(48.581, 359.26]     2086\n",
       "(359.26, 668.7]       729\n",
       "(668.7, 978.14]       495\n",
       "(978.14, 1287.58]     514\n",
       "Name: count, dtype: int64"
      ]
     },
     "execution_count": 96,
     "metadata": {},
     "output_type": "execute_result"
    }
   ],
   "source": [
    "# use integer value for bins parameter to create 4 equal-width bins\n",
    "google_close.value_counts(bins=4, sort=False)"
   ]
  },
  {
   "cell_type": "markdown",
   "id": "225500c2",
   "metadata": {},
   "source": [
    "**Find how many battles were in USA**"
   ]
  },
  {
   "cell_type": "code",
   "execution_count": null,
   "id": "ffaed910",
   "metadata": {},
   "outputs": [
    {
     "data": {
      "application/vnd.microsoft.datawrangler.viewer.v0+json": {
       "columns": [
        {
         "name": "State",
         "rawType": "object",
         "type": "string"
        },
        {
         "name": "count",
         "rawType": "int64",
         "type": "integer"
        }
       ],
       "ref": "0a38f3a2-66ac-46e4-8e10-ec3d057be8fb",
       "rows": [
        [
         "South Carolina",
         "31"
        ],
        [
         "New York",
         "28"
        ],
        [
         "New Jersey",
         "24"
        ],
        [
         "Virginia",
         "21"
        ],
        [
         "Massachusetts",
         "11"
        ]
       ],
       "shape": {
        "columns": 1,
        "rows": 5
       }
      },
      "text/plain": [
       "State\n",
       "South Carolina    31\n",
       "New York          28\n",
       "New Jersey        24\n",
       "Virginia          21\n",
       "Massachusetts     11\n",
       "Name: count, dtype: int64"
      ]
     },
     "execution_count": 97,
     "metadata": {},
     "output_type": "execute_result"
    }
   ],
   "source": [
    "# The result without Nans\n",
    "battles_state.value_counts().head()"
   ]
  },
  {
   "cell_type": "code",
   "execution_count": null,
   "id": "caf4236d",
   "metadata": {},
   "outputs": [
    {
     "data": {
      "application/vnd.microsoft.datawrangler.viewer.v0+json": {
       "columns": [
        {
         "name": "State",
         "rawType": "object",
         "type": "unknown"
        },
        {
         "name": "count",
         "rawType": "int64",
         "type": "integer"
        }
       ],
       "ref": "e62a3b00-68ea-4050-a976-15f5d8c849b2",
       "rows": [
        [
         null,
         "70"
        ],
        [
         "South Carolina",
         "31"
        ],
        [
         "New York",
         "28"
        ],
        [
         "New Jersey",
         "24"
        ],
        [
         "Virginia",
         "21"
        ]
       ],
       "shape": {
        "columns": 1,
        "rows": 5
       }
      },
      "text/plain": [
       "State\n",
       "NaN               70\n",
       "South Carolina    31\n",
       "New York          28\n",
       "New Jersey        24\n",
       "Virginia          21\n",
       "Name: count, dtype: int64"
      ]
     },
     "execution_count": 98,
     "metadata": {},
     "output_type": "execute_result"
    }
   ],
   "source": [
    "# the result with Nans\n",
    "battles_state.value_counts(dropna=False).head()"
   ]
  },
  {
   "cell_type": "markdown",
   "id": "b73b57e6",
   "metadata": {},
   "source": [
    "**Use the Index object to find out the max number of battles by date**"
   ]
  },
  {
   "cell_type": "code",
   "execution_count": 101,
   "id": "c70ebd6e",
   "metadata": {},
   "outputs": [
    {
     "data": {
      "text/plain": [
       "<bound method NDFrame.head of Start Date\n",
       "1777-08-22    2\n",
       "1781-04-15    2\n",
       "1782-03-16    2\n",
       "1778-09-07    2\n",
       "1781-05-22    2\n",
       "             ..\n",
       "1780-07-21    1\n",
       "1780-07-20    1\n",
       "1780-07-12    1\n",
       "1780-06-23    1\n",
       "1774-09-01    1\n",
       "Name: count, Length: 217, dtype: int64>"
      ]
     },
     "execution_count": 101,
     "metadata": {},
     "output_type": "execute_result"
    }
   ],
   "source": [
    "battles_state.index.value_counts().head"
   ]
  },
  {
   "cell_type": "markdown",
   "id": "3f551fd3",
   "metadata": {},
   "source": [
    "##### Apply method"
   ]
  },
  {
   "cell_type": "markdown",
   "id": "d8aaa723",
   "metadata": {},
   "source": [
    "The `apply` method allows you to apply custom functions to each element in the Series."
   ]
  },
  {
   "cell_type": "code",
   "execution_count": null,
   "id": "f19d07b9",
   "metadata": {},
   "outputs": [
    {
     "data": {
      "application/vnd.microsoft.datawrangler.viewer.v0+json": {
       "columns": [
        {
         "name": "Date",
         "rawType": "datetime64[ns]",
         "type": "datetime"
        },
        {
         "name": "Close",
         "rawType": "int64",
         "type": "integer"
        }
       ],
       "ref": "5be7121e-36ca-41ee-872f-6dea01ba5447",
       "rows": [
        [
         "2004-08-19 00:00:00",
         "50"
        ],
        [
         "2004-08-20 00:00:00",
         "54"
        ],
        [
         "2004-08-23 00:00:00",
         "54"
        ],
        [
         "2004-08-24 00:00:00",
         "52"
        ],
        [
         "2004-08-25 00:00:00",
         "53"
        ]
       ],
       "shape": {
        "columns": 1,
        "rows": 5
       }
      },
      "text/plain": [
       "Date\n",
       "2004-08-19    50\n",
       "2004-08-20    54\n",
       "2004-08-23    54\n",
       "2004-08-24    52\n",
       "2004-08-25    53\n",
       "Name: Close, dtype: int64"
      ]
     },
     "execution_count": 104,
     "metadata": {},
     "output_type": "execute_result"
    }
   ],
   "source": [
    "# each element is rounded to the nearest integer\n",
    "google_close.apply(round).head()"
   ]
  },
  {
   "cell_type": "code",
   "execution_count": null,
   "id": "97743bfd",
   "metadata": {},
   "outputs": [
    {
     "data": {
      "application/vnd.microsoft.datawrangler.viewer.v0+json": {
       "columns": [
        {
         "name": "Date",
         "rawType": "datetime64[ns]",
         "type": "datetime"
        },
        {
         "name": "Close",
         "rawType": "float64",
         "type": "float"
        }
       ],
       "ref": "6970f996-1971-4e51-8751-fd233d853bf3",
       "rows": [
        [
         "2004-08-19 00:00:00",
         "49.98"
        ],
        [
         "2004-08-20 00:00:00",
         "53.95"
        ],
        [
         "2004-08-23 00:00:00",
         "54.5"
        ],
        [
         "2004-08-24 00:00:00",
         "52.24"
        ],
        [
         "2004-08-25 00:00:00",
         "52.8"
        ]
       ],
       "shape": {
        "columns": 1,
        "rows": 5
       }
      },
      "text/plain": [
       "Date\n",
       "2004-08-19    49.98\n",
       "2004-08-20    53.95\n",
       "2004-08-23    54.50\n",
       "2004-08-24    52.24\n",
       "2004-08-25    52.80\n",
       "Name: Close, dtype: float64"
      ]
     },
     "execution_count": 103,
     "metadata": {},
     "output_type": "execute_result"
    }
   ],
   "source": [
    "# we do not modify the original Series unless we assign it back\n",
    "google_close.head()"
   ]
  },
  {
   "cell_type": "markdown",
   "id": "b398c9d0",
   "metadata": {},
   "source": [
    "Find the single or multiple type for each value of Pokemon Series"
   ]
  },
  {
   "cell_type": "code",
   "execution_count": 105,
   "id": "bc241abf",
   "metadata": {},
   "outputs": [
    {
     "data": {
      "application/vnd.microsoft.datawrangler.viewer.v0+json": {
       "columns": [
        {
         "name": "Pokemon",
         "rawType": "object",
         "type": "string"
        },
        {
         "name": "Type",
         "rawType": "object",
         "type": "string"
        }
       ],
       "ref": "eb8bd880-77fd-4628-a4e2-3083e2f9ee9d",
       "rows": [
        [
         "Bulbasaur",
         "Grass / Poison"
        ],
        [
         "Ivysaur",
         "Grass / Poison"
        ],
        [
         "Venusaur",
         "Grass / Poison"
        ],
        [
         "Charmander",
         "Fire"
        ],
        [
         "Charmeleon",
         "Fire"
        ]
       ],
       "shape": {
        "columns": 1,
        "rows": 5
       }
      },
      "text/plain": [
       "Pokemon\n",
       "Bulbasaur     Grass / Poison\n",
       "Ivysaur       Grass / Poison\n",
       "Venusaur      Grass / Poison\n",
       "Charmander              Fire\n",
       "Charmeleon              Fire\n",
       "Name: Type, dtype: object"
      ]
     },
     "execution_count": 105,
     "metadata": {},
     "output_type": "execute_result"
    }
   ],
   "source": [
    "pokemon_type.head()"
   ]
  },
  {
   "cell_type": "code",
   "execution_count": 106,
   "id": "f7a5d20b",
   "metadata": {},
   "outputs": [],
   "source": [
    "# Create a function to find the single or multiple type for each value of Pokemon Series\n",
    "def single_or_multi(pokemon_type):\n",
    "    if '/' in pokemon_type:\n",
    "        return 'Multi'\n",
    "    else:\n",
    "        return 'Single'"
   ]
  },
  {
   "cell_type": "code",
   "execution_count": 107,
   "id": "3a57ffb3",
   "metadata": {},
   "outputs": [
    {
     "data": {
      "application/vnd.microsoft.datawrangler.viewer.v0+json": {
       "columns": [
        {
         "name": "Pokemon",
         "rawType": "object",
         "type": "string"
        },
        {
         "name": "Type",
         "rawType": "object",
         "type": "string"
        }
       ],
       "ref": "dfe6cd70-8dcd-4d08-9c9c-885ea8084ef9",
       "rows": [
        [
         "Bulbasaur",
         "Multi"
        ],
        [
         "Ivysaur",
         "Multi"
        ],
        [
         "Venusaur",
         "Multi"
        ],
        [
         "Charmander",
         "Single"
        ],
        [
         "Charmeleon",
         "Single"
        ]
       ],
       "shape": {
        "columns": 1,
        "rows": 5
       }
      },
      "text/plain": [
       "Pokemon\n",
       "Bulbasaur      Multi\n",
       "Ivysaur        Multi\n",
       "Venusaur       Multi\n",
       "Charmander    Single\n",
       "Charmeleon    Single\n",
       "Name: Type, dtype: object"
      ]
     },
     "execution_count": 107,
     "metadata": {},
     "output_type": "execute_result"
    }
   ],
   "source": [
    "pokemon_type.apply(single_or_multi).head()"
   ]
  },
  {
   "cell_type": "markdown",
   "id": "5037efeb",
   "metadata": {},
   "source": [
    "Count the single and multi types"
   ]
  },
  {
   "cell_type": "code",
   "execution_count": 108,
   "id": "3564a67d",
   "metadata": {},
   "outputs": [
    {
     "data": {
      "application/vnd.microsoft.datawrangler.viewer.v0+json": {
       "columns": [
        {
         "name": "Type",
         "rawType": "object",
         "type": "string"
        },
        {
         "name": "count",
         "rawType": "int64",
         "type": "integer"
        }
       ],
       "ref": "9d970c9c-5860-4499-a36a-b19738ad96bb",
       "rows": [
        [
         "Multi",
         "405"
        ],
        [
         "Single",
         "404"
        ]
       ],
       "shape": {
        "columns": 1,
        "rows": 2
       }
      },
      "text/plain": [
       "Type\n",
       "Multi     405\n",
       "Single    404\n",
       "Name: count, dtype: int64"
      ]
     },
     "execution_count": 108,
     "metadata": {},
     "output_type": "execute_result"
    }
   ],
   "source": [
    "pokemon_type.apply(single_or_multi).value_counts()"
   ]
  },
  {
   "cell_type": "markdown",
   "id": "505a7032",
   "metadata": {},
   "source": [
    "Task -which day of the week had the highest number of battles during the American Revolutionary War."
   ]
  },
  {
   "cell_type": "markdown",
   "id": "e4e62a71",
   "metadata": {},
   "source": [
    "**strftime(\"%A\") method to get the day of the week from a datetime object**"
   ]
  },
  {
   "cell_type": "code",
   "execution_count": 138,
   "id": "19ca0b1d",
   "metadata": {},
   "outputs": [
    {
     "data": {
      "text/plain": [
       "'Saturday'"
      ]
     },
     "execution_count": 138,
     "metadata": {},
     "output_type": "execute_result"
    }
   ],
   "source": [
    "# strftime(\"%A\") method to get the day of the week from a datetime object\n",
    "import datetime as dt\n",
    "today = dt.datetime(2020, 12, 26)\n",
    "today.strftime(\"%A\")"
   ]
  },
  {
   "cell_type": "code",
   "execution_count": null,
   "id": "e52d551f",
   "metadata": {},
   "outputs": [
    {
     "data": {
      "application/vnd.microsoft.datawrangler.viewer.v0+json": {
       "columns": [
        {
         "name": "index",
         "rawType": "int64",
         "type": "integer"
        },
        {
         "name": "Start Date",
         "rawType": "datetime64[ns]",
         "type": "datetime"
        }
       ],
       "ref": "171217e8-3762-4d8e-93d5-3dfe77a48dcc",
       "rows": [
        [
         "0",
         "1774-09-01 00:00:00"
        ],
        [
         "1",
         "1774-12-14 00:00:00"
        ],
        [
         "2",
         "1775-04-19 00:00:00"
        ],
        [
         "3",
         "1775-04-19 00:00:00"
        ],
        [
         "4",
         "1775-04-20 00:00:00"
        ]
       ],
       "shape": {
        "columns": 1,
        "rows": 5
       }
      },
      "text/html": [
       "<div>\n",
       "<style scoped>\n",
       "    .dataframe tbody tr th:only-of-type {\n",
       "        vertical-align: middle;\n",
       "    }\n",
       "\n",
       "    .dataframe tbody tr th {\n",
       "        vertical-align: top;\n",
       "    }\n",
       "\n",
       "    .dataframe thead th {\n",
       "        text-align: right;\n",
       "    }\n",
       "</style>\n",
       "<table border=\"1\" class=\"dataframe\">\n",
       "  <thead>\n",
       "    <tr style=\"text-align: right;\">\n",
       "      <th></th>\n",
       "      <th>Start Date</th>\n",
       "    </tr>\n",
       "  </thead>\n",
       "  <tbody>\n",
       "    <tr>\n",
       "      <th>0</th>\n",
       "      <td>1774-09-01</td>\n",
       "    </tr>\n",
       "    <tr>\n",
       "      <th>1</th>\n",
       "      <td>1774-12-14</td>\n",
       "    </tr>\n",
       "    <tr>\n",
       "      <th>2</th>\n",
       "      <td>1775-04-19</td>\n",
       "    </tr>\n",
       "    <tr>\n",
       "      <th>3</th>\n",
       "      <td>1775-04-19</td>\n",
       "    </tr>\n",
       "    <tr>\n",
       "      <th>4</th>\n",
       "      <td>1775-04-20</td>\n",
       "    </tr>\n",
       "  </tbody>\n",
       "</table>\n",
       "</div>"
      ],
      "text/plain": [
       "  Start Date\n",
       "0 1774-09-01\n",
       "1 1774-12-14\n",
       "2 1775-04-19\n",
       "3 1775-04-19\n",
       "4 1775-04-20"
      ]
     },
     "execution_count": 125,
     "metadata": {},
     "output_type": "execute_result"
    }
   ],
   "source": [
    "# create a new Series day_of_war from battles DataFrame\n",
    "day_of_war = battles = pd.read_csv(revolutionary_war_path, parse_dates=[\"Start Date\"], usecols=['Start Date'])\n",
    "day_of_war.head()"
   ]
  },
  {
   "cell_type": "code",
   "execution_count": null,
   "id": "e8573663",
   "metadata": {},
   "outputs": [],
   "source": [
    "# extract the \"Start Date\" column as a Series\n",
    "day_of_war=day_of_war[\"Start Date\"]"
   ]
  },
  {
   "cell_type": "code",
   "execution_count": null,
   "id": "0f293efe",
   "metadata": {},
   "outputs": [
    {
     "data": {
      "text/plain": [
       "pandas.core.series.Series"
      ]
     },
     "execution_count": 134,
     "metadata": {},
     "output_type": "execute_result"
    }
   ],
   "source": [
    "# check the type of day_of_war Series\n",
    "type(day_of_war)"
   ]
  },
  {
   "cell_type": "code",
   "execution_count": 139,
   "id": "f90aba67",
   "metadata": {},
   "outputs": [],
   "source": [
    "# define a function to get the day of the week from a datetime object\n",
    "def day_of_week(date):\n",
    "    return date.strftime(\"%A\")"
   ]
  },
  {
   "cell_type": "code",
   "execution_count": null,
   "id": "52b5078c",
   "metadata": {},
   "outputs": [
    {
     "data": {
      "application/vnd.microsoft.datawrangler.viewer.v0+json": {
       "columns": [
        {
         "name": "Start Date",
         "rawType": "object",
         "type": "string"
        },
        {
         "name": "count",
         "rawType": "int64",
         "type": "integer"
        }
       ],
       "ref": "869f814e-b1f2-4542-af7a-9c80eeada068",
       "rows": [
        [
         "Saturday",
         "39"
        ],
        [
         "Friday",
         "39"
        ],
        [
         "Wednesday",
         "32"
        ],
        [
         "Thursday",
         "31"
        ],
        [
         "Sunday",
         "31"
        ],
        [
         "Tuesday",
         "29"
        ],
        [
         "Monday",
         "27"
        ]
       ],
       "shape": {
        "columns": 1,
        "rows": 7
       }
      },
      "text/plain": [
       "Start Date\n",
       "Saturday     39\n",
       "Friday       39\n",
       "Wednesday    32\n",
       "Thursday     31\n",
       "Sunday       31\n",
       "Tuesday      29\n",
       "Monday       27\n",
       "Name: count, dtype: int64"
      ]
     },
     "execution_count": 137,
     "metadata": {},
     "output_type": "execute_result"
    }
   ],
   "source": [
    "# Find which day of the week had the highest number of battles during the American Revolutionary War.\n",
    "day_of_war.dropna().apply(day_of_week).value_counts()"
   ]
  }
 ],
 "metadata": {
  "kernelspec": {
   "display_name": "base",
   "language": "python",
   "name": "python3"
  },
  "language_info": {
   "codemirror_mode": {
    "name": "ipython",
    "version": 3
   },
   "file_extension": ".py",
   "mimetype": "text/x-python",
   "name": "python",
   "nbconvert_exporter": "python",
   "pygments_lexer": "ipython3",
   "version": "3.12.2"
  }
 },
 "nbformat": 4,
 "nbformat_minor": 5
}
