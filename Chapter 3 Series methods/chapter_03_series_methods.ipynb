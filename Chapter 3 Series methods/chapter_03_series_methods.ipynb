{
 "cells": [
  {
   "cell_type": "code",
   "execution_count": 1,
   "id": "fd4aeac9",
   "metadata": {},
   "outputs": [],
   "source": [
    "import pandas as pd"
   ]
  },
  {
   "cell_type": "code",
   "execution_count": null,
   "id": "b0a06ba9",
   "metadata": {},
   "outputs": [],
   "source": [
    "# file paths\n",
    "pokemon = \"/Users/ypushiev/Learning/PANDAS IN ACTION/Chapter 3 Series methods/Data/pokemon.csv\"\n",
    "google_stocks = \"/Users/ypushiev/Learning/PANDAS IN ACTION/Chapter 3 Series methods/Data/google_stocks.csv\""
   ]
  },
  {
   "cell_type": "code",
   "execution_count": 9,
   "id": "87a903f7",
   "metadata": {},
   "outputs": [
    {
     "data": {
      "application/vnd.microsoft.datawrangler.viewer.v0+json": {
       "columns": [
        {
         "name": "index",
         "rawType": "int64",
         "type": "integer"
        },
        {
         "name": "Date",
         "rawType": "object",
         "type": "string"
        },
        {
         "name": "Close",
         "rawType": "float64",
         "type": "float"
        }
       ],
       "ref": "40c5b2ab-63ea-4cec-b0b8-09d7f3c67006",
       "rows": [
        [
         "0",
         "2004-08-19",
         "49.98"
        ],
        [
         "1",
         "2004-08-20",
         "53.95"
        ],
        [
         "2",
         "2004-08-23",
         "54.5"
        ],
        [
         "3",
         "2004-08-24",
         "52.24"
        ],
        [
         "4",
         "2004-08-25",
         "52.8"
        ],
        [
         "5",
         "2004-08-26",
         "53.75"
        ],
        [
         "6",
         "2004-08-27",
         "52.88"
        ],
        [
         "7",
         "2004-08-30",
         "50.81"
        ],
        [
         "8",
         "2004-08-31",
         "50.99"
        ],
        [
         "9",
         "2004-09-01",
         "49.94"
        ],
        [
         "10",
         "2004-09-02",
         "50.57"
        ],
        [
         "11",
         "2004-09-03",
         "49.82"
        ],
        [
         "12",
         "2004-09-07",
         "50.6"
        ],
        [
         "13",
         "2004-09-08",
         "50.96"
        ],
        [
         "14",
         "2004-09-09",
         "50.96"
        ],
        [
         "15",
         "2004-09-10",
         "52.47"
        ],
        [
         "16",
         "2004-09-13",
         "53.55"
        ],
        [
         "17",
         "2004-09-14",
         "55.54"
        ],
        [
         "18",
         "2004-09-15",
         "55.79"
        ],
        [
         "19",
         "2004-09-16",
         "56.77"
        ],
        [
         "20",
         "2004-09-17",
         "58.53"
        ],
        [
         "21",
         "2004-09-20",
         "59.46"
        ],
        [
         "22",
         "2004-09-21",
         "58.7"
        ],
        [
         "23",
         "2004-09-22",
         "58.97"
        ],
        [
         "24",
         "2004-09-23",
         "60.18"
        ],
        [
         "25",
         "2004-09-24",
         "59.69"
        ],
        [
         "26",
         "2004-09-27",
         "58.91"
        ],
        [
         "27",
         "2004-09-28",
         "63.19"
        ],
        [
         "28",
         "2004-09-29",
         "65.3"
        ],
        [
         "29",
         "2004-09-30",
         "64.56"
        ],
        [
         "30",
         "2004-10-01",
         "66.04"
        ],
        [
         "31",
         "2004-10-04",
         "67.28"
        ],
        [
         "32",
         "2004-10-05",
         "68.93"
        ],
        [
         "33",
         "2004-10-06",
         "68.28"
        ],
        [
         "34",
         "2004-10-07",
         "69.17"
        ],
        [
         "35",
         "2004-10-08",
         "68.61"
        ],
        [
         "36",
         "2004-10-11",
         "67.38"
        ],
        [
         "37",
         "2004-10-12",
         "68.44"
        ],
        [
         "38",
         "2004-10-13",
         "70.19"
        ],
        [
         "39",
         "2004-10-14",
         "70.73"
        ],
        [
         "40",
         "2004-10-15",
         "71.79"
        ],
        [
         "41",
         "2004-10-18",
         "74.3"
        ],
        [
         "42",
         "2004-10-19",
         "73.69"
        ],
        [
         "43",
         "2004-10-20",
         "69.98"
        ],
        [
         "44",
         "2004-10-21",
         "74.41"
        ],
        [
         "45",
         "2004-10-22",
         "85.89"
        ],
        [
         "46",
         "2004-10-25",
         "93.35"
        ],
        [
         "47",
         "2004-10-26",
         "90.56"
        ],
        [
         "48",
         "2004-10-27",
         "92.64"
        ],
        [
         "49",
         "2004-10-28",
         "96.29"
        ]
       ],
       "shape": {
        "columns": 2,
        "rows": 3824
       }
      },
      "text/html": [
       "<div>\n",
       "<style scoped>\n",
       "    .dataframe tbody tr th:only-of-type {\n",
       "        vertical-align: middle;\n",
       "    }\n",
       "\n",
       "    .dataframe tbody tr th {\n",
       "        vertical-align: top;\n",
       "    }\n",
       "\n",
       "    .dataframe thead th {\n",
       "        text-align: right;\n",
       "    }\n",
       "</style>\n",
       "<table border=\"1\" class=\"dataframe\">\n",
       "  <thead>\n",
       "    <tr style=\"text-align: right;\">\n",
       "      <th></th>\n",
       "      <th>Date</th>\n",
       "      <th>Close</th>\n",
       "    </tr>\n",
       "  </thead>\n",
       "  <tbody>\n",
       "    <tr>\n",
       "      <th>0</th>\n",
       "      <td>2004-08-19</td>\n",
       "      <td>49.98</td>\n",
       "    </tr>\n",
       "    <tr>\n",
       "      <th>1</th>\n",
       "      <td>2004-08-20</td>\n",
       "      <td>53.95</td>\n",
       "    </tr>\n",
       "    <tr>\n",
       "      <th>2</th>\n",
       "      <td>2004-08-23</td>\n",
       "      <td>54.50</td>\n",
       "    </tr>\n",
       "    <tr>\n",
       "      <th>3</th>\n",
       "      <td>2004-08-24</td>\n",
       "      <td>52.24</td>\n",
       "    </tr>\n",
       "    <tr>\n",
       "      <th>4</th>\n",
       "      <td>2004-08-25</td>\n",
       "      <td>52.80</td>\n",
       "    </tr>\n",
       "    <tr>\n",
       "      <th>...</th>\n",
       "      <td>...</td>\n",
       "      <td>...</td>\n",
       "    </tr>\n",
       "    <tr>\n",
       "      <th>3819</th>\n",
       "      <td>2019-10-21</td>\n",
       "      <td>1246.15</td>\n",
       "    </tr>\n",
       "    <tr>\n",
       "      <th>3820</th>\n",
       "      <td>2019-10-22</td>\n",
       "      <td>1242.80</td>\n",
       "    </tr>\n",
       "    <tr>\n",
       "      <th>3821</th>\n",
       "      <td>2019-10-23</td>\n",
       "      <td>1259.13</td>\n",
       "    </tr>\n",
       "    <tr>\n",
       "      <th>3822</th>\n",
       "      <td>2019-10-24</td>\n",
       "      <td>1260.99</td>\n",
       "    </tr>\n",
       "    <tr>\n",
       "      <th>3823</th>\n",
       "      <td>2019-10-25</td>\n",
       "      <td>1265.13</td>\n",
       "    </tr>\n",
       "  </tbody>\n",
       "</table>\n",
       "<p>3824 rows × 2 columns</p>\n",
       "</div>"
      ],
      "text/plain": [
       "            Date    Close\n",
       "0     2004-08-19    49.98\n",
       "1     2004-08-20    53.95\n",
       "2     2004-08-23    54.50\n",
       "3     2004-08-24    52.24\n",
       "4     2004-08-25    52.80\n",
       "...          ...      ...\n",
       "3819  2019-10-21  1246.15\n",
       "3820  2019-10-22  1242.80\n",
       "3821  2019-10-23  1259.13\n",
       "3822  2019-10-24  1260.99\n",
       "3823  2019-10-25  1265.13\n",
       "\n",
       "[3824 rows x 2 columns]"
      ]
     },
     "execution_count": 9,
     "metadata": {},
     "output_type": "execute_result"
    }
   ],
   "source": [
    "# these two lines are equivalent\n",
    "pd.read_csv(filepath_or_buffer = google_stocks)\n",
    "pd.read_csv(google_stocks)"
   ]
  },
  {
   "cell_type": "code",
   "execution_count": 10,
   "id": "302b2b34",
   "metadata": {},
   "outputs": [
    {
     "data": {
      "application/vnd.microsoft.datawrangler.viewer.v0+json": {
       "columns": [
        {
         "name": "Pokemon",
         "rawType": "object",
         "type": "string"
        },
        {
         "name": "Type",
         "rawType": "object",
         "type": "string"
        }
       ],
       "ref": "a8585677-0d82-4673-a613-39f853c5cb2b",
       "rows": [
        [
         "Bulbasaur",
         "Grass / Poison"
        ],
        [
         "Ivysaur",
         "Grass / Poison"
        ],
        [
         "Venusaur",
         "Grass / Poison"
        ],
        [
         "Charmander",
         "Fire"
        ],
        [
         "Charmeleon",
         "Fire"
        ],
        [
         "Charizard",
         "Fire / Flying"
        ],
        [
         "Squirtle",
         "Water"
        ],
        [
         "Wartortle",
         "Water"
        ],
        [
         "Blastoise",
         "Water"
        ],
        [
         "Caterpie",
         "Bug"
        ],
        [
         "Metapod",
         "Bug"
        ],
        [
         "Butterfree",
         "Bug / Flying"
        ],
        [
         "Weedle",
         "Bug / Poison"
        ],
        [
         "Kakuna",
         "Bug / Poison"
        ],
        [
         "Beedrill",
         "Bug / Poison"
        ],
        [
         "Pidgey",
         "Normal / Flying"
        ],
        [
         "Pidgeotto",
         "Normal / Flying"
        ],
        [
         "Pidgeot",
         "Normal / Flying"
        ],
        [
         "Rattata",
         "Normal"
        ],
        [
         "Raticate",
         "Normal"
        ],
        [
         "Spearow",
         "Normal / Flying"
        ],
        [
         "Fearow",
         "Normal / Flying"
        ],
        [
         "Ekans",
         "Poison"
        ],
        [
         "Arbok",
         "Poison"
        ],
        [
         "Pikachu",
         "Electric"
        ],
        [
         "Raichu",
         "Electric"
        ],
        [
         "Sandshrew",
         "Ground"
        ],
        [
         "Sandslash",
         "Ground"
        ],
        [
         "Nidoran♀",
         "Poison"
        ],
        [
         "Nidorina",
         "Poison"
        ],
        [
         "Nidoqueen",
         "Poison / Ground"
        ],
        [
         "Nidoran♂",
         "Poison"
        ],
        [
         "Nidorino",
         "Poison"
        ],
        [
         "Nidoking",
         "Poison / Ground"
        ],
        [
         "Clefairy",
         "Fairy"
        ],
        [
         "Clefable",
         "Fairy"
        ],
        [
         "Vulpix",
         "Fire"
        ],
        [
         "Ninetales",
         "Fire"
        ],
        [
         "Jigglypuff",
         "Normal / Fairy"
        ],
        [
         "Wigglytuff",
         "Normal / Fairy"
        ],
        [
         "Zubat",
         "Poison / Flying"
        ],
        [
         "Golbat",
         "Poison / Flying"
        ],
        [
         "Oddish",
         "Grass / Poison"
        ],
        [
         "Gloom",
         "Grass / Poison"
        ],
        [
         "Vileplume",
         "Grass / Poison"
        ],
        [
         "Paras",
         "Bug / Grass"
        ],
        [
         "Parasect",
         "Bug / Grass"
        ],
        [
         "Venonat",
         "Bug / Poison"
        ],
        [
         "Venomoth",
         "Bug / Poison"
        ],
        [
         "Diglett",
         "Ground"
        ]
       ],
       "shape": {
        "columns": 1,
        "rows": 809
       }
      },
      "text/html": [
       "<div>\n",
       "<style scoped>\n",
       "    .dataframe tbody tr th:only-of-type {\n",
       "        vertical-align: middle;\n",
       "    }\n",
       "\n",
       "    .dataframe tbody tr th {\n",
       "        vertical-align: top;\n",
       "    }\n",
       "\n",
       "    .dataframe thead th {\n",
       "        text-align: right;\n",
       "    }\n",
       "</style>\n",
       "<table border=\"1\" class=\"dataframe\">\n",
       "  <thead>\n",
       "    <tr style=\"text-align: right;\">\n",
       "      <th></th>\n",
       "      <th>Type</th>\n",
       "    </tr>\n",
       "    <tr>\n",
       "      <th>Pokemon</th>\n",
       "      <th></th>\n",
       "    </tr>\n",
       "  </thead>\n",
       "  <tbody>\n",
       "    <tr>\n",
       "      <th>Bulbasaur</th>\n",
       "      <td>Grass / Poison</td>\n",
       "    </tr>\n",
       "    <tr>\n",
       "      <th>Ivysaur</th>\n",
       "      <td>Grass / Poison</td>\n",
       "    </tr>\n",
       "    <tr>\n",
       "      <th>Venusaur</th>\n",
       "      <td>Grass / Poison</td>\n",
       "    </tr>\n",
       "    <tr>\n",
       "      <th>Charmander</th>\n",
       "      <td>Fire</td>\n",
       "    </tr>\n",
       "    <tr>\n",
       "      <th>Charmeleon</th>\n",
       "      <td>Fire</td>\n",
       "    </tr>\n",
       "    <tr>\n",
       "      <th>...</th>\n",
       "      <td>...</td>\n",
       "    </tr>\n",
       "    <tr>\n",
       "      <th>Stakataka</th>\n",
       "      <td>Rock / Steel</td>\n",
       "    </tr>\n",
       "    <tr>\n",
       "      <th>Blacephalon</th>\n",
       "      <td>Fire / Ghost</td>\n",
       "    </tr>\n",
       "    <tr>\n",
       "      <th>Zeraora</th>\n",
       "      <td>Electric</td>\n",
       "    </tr>\n",
       "    <tr>\n",
       "      <th>Meltan</th>\n",
       "      <td>Steel</td>\n",
       "    </tr>\n",
       "    <tr>\n",
       "      <th>Melmetal</th>\n",
       "      <td>Steel</td>\n",
       "    </tr>\n",
       "  </tbody>\n",
       "</table>\n",
       "<p>809 rows × 1 columns</p>\n",
       "</div>"
      ],
      "text/plain": [
       "                       Type\n",
       "Pokemon                    \n",
       "Bulbasaur    Grass / Poison\n",
       "Ivysaur      Grass / Poison\n",
       "Venusaur     Grass / Poison\n",
       "Charmander             Fire\n",
       "Charmeleon             Fire\n",
       "...                     ...\n",
       "Stakataka      Rock / Steel\n",
       "Blacephalon    Fire / Ghost\n",
       "Zeraora            Electric\n",
       "Meltan                Steel\n",
       "Melmetal              Steel\n",
       "\n",
       "[809 rows x 1 columns]"
      ]
     },
     "execution_count": 10,
     "metadata": {},
     "output_type": "execute_result"
    }
   ],
   "source": [
    "# let's set the index column to be \"Pokemon\"\n",
    "pd.read_csv(filepath_or_buffer = pokemon,index_col = \"Pokemon\")"
   ]
  }
 ],
 "metadata": {
  "kernelspec": {
   "display_name": "base",
   "language": "python",
   "name": "python3"
  },
  "language_info": {
   "codemirror_mode": {
    "name": "ipython",
    "version": 3
   },
   "file_extension": ".py",
   "mimetype": "text/x-python",
   "name": "python",
   "nbconvert_exporter": "python",
   "pygments_lexer": "ipython3",
   "version": "3.12.2"
  }
 },
 "nbformat": 4,
 "nbformat_minor": 5
}
