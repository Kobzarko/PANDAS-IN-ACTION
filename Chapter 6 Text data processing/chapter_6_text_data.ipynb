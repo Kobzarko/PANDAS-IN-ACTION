{
 "cells": [
  {
   "cell_type": "code",
   "execution_count": 123,
   "id": "e7683139",
   "metadata": {},
   "outputs": [],
   "source": [
    "import pandas as pd"
   ]
  },
  {
   "cell_type": "code",
   "execution_count": 124,
   "id": "09593b8c",
   "metadata": {},
   "outputs": [],
   "source": [
    "inspections_path = '/Users/ypushiev/Learning/PANDAS IN ACTION/Chapter 6 Text data processing/Data/chicago_food_inspections.csv'"
   ]
  },
  {
   "cell_type": "code",
   "execution_count": 125,
   "id": "1a28153e",
   "metadata": {},
   "outputs": [],
   "source": [
    "df_inspections = pd.read_csv(inspections_path)"
   ]
  },
  {
   "cell_type": "code",
   "execution_count": 126,
   "id": "6aa01819",
   "metadata": {},
   "outputs": [
    {
     "data": {
      "text/plain": [
       "(153810, 2)"
      ]
     },
     "execution_count": 126,
     "metadata": {},
     "output_type": "execute_result"
    }
   ],
   "source": [
    "df_inspections.shape\n"
   ]
  },
  {
   "cell_type": "code",
   "execution_count": 127,
   "id": "a567a622",
   "metadata": {},
   "outputs": [
    {
     "name": "stdout",
     "output_type": "stream",
     "text": [
      "<class 'pandas.core.frame.DataFrame'>\n",
      "RangeIndex: 153810 entries, 0 to 153809\n",
      "Data columns (total 2 columns):\n",
      " #   Column  Non-Null Count   Dtype \n",
      "---  ------  --------------   ----- \n",
      " 0   Name    153810 non-null  object\n",
      " 1   Risk    153744 non-null  object\n",
      "dtypes: object(2)\n",
      "memory usage: 2.3+ MB\n"
     ]
    }
   ],
   "source": [
    "df_inspections.info()"
   ]
  },
  {
   "cell_type": "code",
   "execution_count": 128,
   "id": "c22b7f67",
   "metadata": {},
   "outputs": [
    {
     "data": {
      "application/vnd.microsoft.datawrangler.viewer.v0+json": {
       "columns": [
        {
         "name": "index",
         "rawType": "object",
         "type": "string"
        },
        {
         "name": "0",
         "rawType": "int64",
         "type": "integer"
        }
       ],
       "ref": "5a3c705e-44b8-4d18-bf42-785d9a491c75",
       "rows": [
        [
         "Name",
         "92553"
        ],
        [
         "Risk",
         "4"
        ]
       ],
       "shape": {
        "columns": 1,
        "rows": 2
       }
      },
      "text/plain": [
       "Name    92553\n",
       "Risk        4\n",
       "dtype: int64"
      ]
     },
     "execution_count": 128,
     "metadata": {},
     "output_type": "execute_result"
    }
   ],
   "source": [
    "df_inspections.nunique()"
   ]
  },
  {
   "cell_type": "code",
   "execution_count": 129,
   "id": "48838b14",
   "metadata": {},
   "outputs": [],
   "source": [
    "df_inspections['Risk'] = df_inspections['Risk'].astype('category')"
   ]
  },
  {
   "cell_type": "code",
   "execution_count": 130,
   "id": "11e548a5",
   "metadata": {},
   "outputs": [
    {
     "name": "stdout",
     "output_type": "stream",
     "text": [
      "<class 'pandas.core.frame.DataFrame'>\n",
      "RangeIndex: 153810 entries, 0 to 153809\n",
      "Data columns (total 2 columns):\n",
      " #   Column  Non-Null Count   Dtype   \n",
      "---  ------  --------------   -----   \n",
      " 0   Name    153810 non-null  object  \n",
      " 1   Risk    153744 non-null  category\n",
      "dtypes: category(1), object(1)\n",
      "memory usage: 1.3+ MB\n"
     ]
    }
   ],
   "source": [
    "df_inspections.info()"
   ]
  },
  {
   "cell_type": "code",
   "execution_count": 131,
   "id": "a90136ca",
   "metadata": {},
   "outputs": [
    {
     "data": {
      "application/vnd.microsoft.datawrangler.viewer.v0+json": {
       "columns": [
        {
         "name": "index",
         "rawType": "int64",
         "type": "integer"
        },
        {
         "name": "Name",
         "rawType": "object",
         "type": "string"
        },
        {
         "name": "Risk",
         "rawType": "category",
         "type": "unknown"
        }
       ],
       "ref": "e4c3f0b5-69cd-41eb-b6b1-3b808cd9df10",
       "rows": [
        [
         "0",
         " MARRIOT MARQUIS CHICAGO   ",
         "Risk 1 (High)"
        ],
        [
         "1",
         " JETS PIZZA ",
         "Risk 2 (Medium)"
        ],
        [
         "2",
         "   ROOM 1520 ",
         "Risk 3 (Low)"
        ],
        [
         "3",
         "  MARRIOT MARQUIS CHICAGO  ",
         "Risk 1 (High)"
        ],
        [
         "4",
         " CHARTWELLS   ",
         "Risk 1 (High)"
        ]
       ],
       "shape": {
        "columns": 2,
        "rows": 5
       }
      },
      "text/html": [
       "<div>\n",
       "<style scoped>\n",
       "    .dataframe tbody tr th:only-of-type {\n",
       "        vertical-align: middle;\n",
       "    }\n",
       "\n",
       "    .dataframe tbody tr th {\n",
       "        vertical-align: top;\n",
       "    }\n",
       "\n",
       "    .dataframe thead th {\n",
       "        text-align: right;\n",
       "    }\n",
       "</style>\n",
       "<table border=\"1\" class=\"dataframe\">\n",
       "  <thead>\n",
       "    <tr style=\"text-align: right;\">\n",
       "      <th></th>\n",
       "      <th>Name</th>\n",
       "      <th>Risk</th>\n",
       "    </tr>\n",
       "  </thead>\n",
       "  <tbody>\n",
       "    <tr>\n",
       "      <th>0</th>\n",
       "      <td>MARRIOT MARQUIS CHICAGO</td>\n",
       "      <td>Risk 1 (High)</td>\n",
       "    </tr>\n",
       "    <tr>\n",
       "      <th>1</th>\n",
       "      <td>JETS PIZZA</td>\n",
       "      <td>Risk 2 (Medium)</td>\n",
       "    </tr>\n",
       "    <tr>\n",
       "      <th>2</th>\n",
       "      <td>ROOM 1520</td>\n",
       "      <td>Risk 3 (Low)</td>\n",
       "    </tr>\n",
       "    <tr>\n",
       "      <th>3</th>\n",
       "      <td>MARRIOT MARQUIS CHICAGO</td>\n",
       "      <td>Risk 1 (High)</td>\n",
       "    </tr>\n",
       "    <tr>\n",
       "      <th>4</th>\n",
       "      <td>CHARTWELLS</td>\n",
       "      <td>Risk 1 (High)</td>\n",
       "    </tr>\n",
       "  </tbody>\n",
       "</table>\n",
       "</div>"
      ],
      "text/plain": [
       "                          Name             Risk\n",
       "0   MARRIOT MARQUIS CHICAGO       Risk 1 (High)\n",
       "1                  JETS PIZZA   Risk 2 (Medium)\n",
       "2                   ROOM 1520      Risk 3 (Low)\n",
       "3    MARRIOT MARQUIS CHICAGO      Risk 1 (High)\n",
       "4                CHARTWELLS       Risk 1 (High)"
      ]
     },
     "execution_count": 131,
     "metadata": {},
     "output_type": "execute_result"
    }
   ],
   "source": [
    "df_inspections.head()"
   ]
  },
  {
   "cell_type": "markdown",
   "id": "0cfcc43e",
   "metadata": {},
   "source": [
    "### Letter Casing and Whitespace"
   ]
  },
  {
   "cell_type": "markdown",
   "id": "23cb27b1",
   "metadata": {},
   "source": [
    "**Check names for extra spaces**"
   ]
  },
  {
   "cell_type": "code",
   "execution_count": 132,
   "id": "a9f19c84",
   "metadata": {},
   "outputs": [
    {
     "data": {
      "text/plain": [
       "array([' MARRIOT MARQUIS CHICAGO   ', ' JETS PIZZA ', '   ROOM 1520 ',\n",
       "       ..., ' Cafe 608 ', \"  mr.daniel's \", '   TEMPO CAFE '],\n",
       "      dtype=object)"
      ]
     },
     "execution_count": 132,
     "metadata": {},
     "output_type": "execute_result"
    }
   ],
   "source": [
    "df_inspections['Name'].values"
   ]
  },
  {
   "cell_type": "markdown",
   "id": "c1d7e600",
   "metadata": {},
   "source": [
    "#### Remove left and right extra spaces"
   ]
  },
  {
   "cell_type": "markdown",
   "id": "5df97c26",
   "metadata": {},
   "source": [
    "**Check how many spaces we got in the Name column**"
   ]
  },
  {
   "cell_type": "code",
   "execution_count": 133,
   "id": "c4a476bd",
   "metadata": {},
   "outputs": [
    {
     "data": {
      "text/plain": [
       "153809"
      ]
     },
     "execution_count": 133,
     "metadata": {},
     "output_type": "execute_result"
    }
   ],
   "source": [
    "df_inspections['Name'].str.contains(r'^\\s+|\\s+$').sum()"
   ]
  },
  {
   "cell_type": "code",
   "execution_count": 134,
   "id": "649655e0",
   "metadata": {},
   "outputs": [],
   "source": [
    "df_inspections['Name'] = df_inspections['Name'].str.lstrip().str.rstrip()"
   ]
  },
  {
   "cell_type": "code",
   "execution_count": 135,
   "id": "6f91bba3",
   "metadata": {},
   "outputs": [
    {
     "data": {
      "text/plain": [
       "array(['MARRIOT MARQUIS CHICAGO', 'JETS PIZZA', 'ROOM 1520', ...,\n",
       "       'Cafe 608', \"mr.daniel's\", 'TEMPO CAFE'], dtype=object)"
      ]
     },
     "execution_count": 135,
     "metadata": {},
     "output_type": "execute_result"
    }
   ],
   "source": [
    "df_inspections['Name'].values"
   ]
  },
  {
   "cell_type": "code",
   "execution_count": 136,
   "id": "64dd56b3",
   "metadata": {},
   "outputs": [
    {
     "data": {
      "text/plain": [
       "0"
      ]
     },
     "execution_count": 136,
     "metadata": {},
     "output_type": "execute_result"
    }
   ],
   "source": [
    "#check Name column for extra spaces from left an right\n",
    "df_inspections['Name'].str.contains(r'^\\s+|\\s+$').sum()"
   ]
  },
  {
   "cell_type": "markdown",
   "id": "449254b8",
   "metadata": {},
   "source": [
    "**Also we can use df_inspections['Name'].str.strip() - to remove spaces from both sides**"
   ]
  },
  {
   "cell_type": "markdown",
   "id": "6a1ea235",
   "metadata": {},
   "source": [
    "#### Change first letter to uppercase"
   ]
  },
  {
   "cell_type": "markdown",
   "id": "ae6183e5",
   "metadata": {},
   "source": [
    "**str.title() method changes first letter in the each word**"
   ]
  },
  {
   "cell_type": "code",
   "execution_count": 137,
   "id": "48e14765",
   "metadata": {},
   "outputs": [],
   "source": [
    "# Change first letter to uppercase\n",
    "df_inspections['Name'] = df_inspections['Name'].str.title()"
   ]
  },
  {
   "cell_type": "code",
   "execution_count": 138,
   "id": "af2da376",
   "metadata": {},
   "outputs": [
    {
     "data": {
      "application/vnd.microsoft.datawrangler.viewer.v0+json": {
       "columns": [
        {
         "name": "index",
         "rawType": "int64",
         "type": "integer"
        },
        {
         "name": "Name",
         "rawType": "object",
         "type": "string"
        },
        {
         "name": "Risk",
         "rawType": "category",
         "type": "unknown"
        }
       ],
       "ref": "a506664b-f3e2-4f09-bc65-a855697c8570",
       "rows": [
        [
         "0",
         "Marriot Marquis Chicago",
         "Risk 1 (High)"
        ],
        [
         "1",
         "Jets Pizza",
         "Risk 2 (Medium)"
        ],
        [
         "2",
         "Room 1520",
         "Risk 3 (Low)"
        ],
        [
         "3",
         "Marriot Marquis Chicago",
         "Risk 1 (High)"
        ],
        [
         "4",
         "Chartwells",
         "Risk 1 (High)"
        ],
        [
         "5",
         "Shrimp'S Fish Chicken",
         "Risk 2 (Medium)"
        ],
        [
         "6",
         "Art'S Drive Inn",
         "Risk 1 (High)"
        ],
        [
         "7",
         "Vincent",
         "Risk 1 (High)"
        ],
        [
         "8",
         "Captain Hooks Of Dan Ryan",
         "Risk 2 (Medium)"
        ],
        [
         "9",
         "Jibarito'S Y Mas",
         "Risk 1 (High)"
        ]
       ],
       "shape": {
        "columns": 2,
        "rows": 10
       }
      },
      "text/html": [
       "<div>\n",
       "<style scoped>\n",
       "    .dataframe tbody tr th:only-of-type {\n",
       "        vertical-align: middle;\n",
       "    }\n",
       "\n",
       "    .dataframe tbody tr th {\n",
       "        vertical-align: top;\n",
       "    }\n",
       "\n",
       "    .dataframe thead th {\n",
       "        text-align: right;\n",
       "    }\n",
       "</style>\n",
       "<table border=\"1\" class=\"dataframe\">\n",
       "  <thead>\n",
       "    <tr style=\"text-align: right;\">\n",
       "      <th></th>\n",
       "      <th>Name</th>\n",
       "      <th>Risk</th>\n",
       "    </tr>\n",
       "  </thead>\n",
       "  <tbody>\n",
       "    <tr>\n",
       "      <th>0</th>\n",
       "      <td>Marriot Marquis Chicago</td>\n",
       "      <td>Risk 1 (High)</td>\n",
       "    </tr>\n",
       "    <tr>\n",
       "      <th>1</th>\n",
       "      <td>Jets Pizza</td>\n",
       "      <td>Risk 2 (Medium)</td>\n",
       "    </tr>\n",
       "    <tr>\n",
       "      <th>2</th>\n",
       "      <td>Room 1520</td>\n",
       "      <td>Risk 3 (Low)</td>\n",
       "    </tr>\n",
       "    <tr>\n",
       "      <th>3</th>\n",
       "      <td>Marriot Marquis Chicago</td>\n",
       "      <td>Risk 1 (High)</td>\n",
       "    </tr>\n",
       "    <tr>\n",
       "      <th>4</th>\n",
       "      <td>Chartwells</td>\n",
       "      <td>Risk 1 (High)</td>\n",
       "    </tr>\n",
       "    <tr>\n",
       "      <th>5</th>\n",
       "      <td>Shrimp'S Fish Chicken</td>\n",
       "      <td>Risk 2 (Medium)</td>\n",
       "    </tr>\n",
       "    <tr>\n",
       "      <th>6</th>\n",
       "      <td>Art'S Drive Inn</td>\n",
       "      <td>Risk 1 (High)</td>\n",
       "    </tr>\n",
       "    <tr>\n",
       "      <th>7</th>\n",
       "      <td>Vincent</td>\n",
       "      <td>Risk 1 (High)</td>\n",
       "    </tr>\n",
       "    <tr>\n",
       "      <th>8</th>\n",
       "      <td>Captain Hooks Of Dan Ryan</td>\n",
       "      <td>Risk 2 (Medium)</td>\n",
       "    </tr>\n",
       "    <tr>\n",
       "      <th>9</th>\n",
       "      <td>Jibarito'S Y Mas</td>\n",
       "      <td>Risk 1 (High)</td>\n",
       "    </tr>\n",
       "  </tbody>\n",
       "</table>\n",
       "</div>"
      ],
      "text/plain": [
       "                        Name             Risk\n",
       "0    Marriot Marquis Chicago    Risk 1 (High)\n",
       "1                 Jets Pizza  Risk 2 (Medium)\n",
       "2                  Room 1520     Risk 3 (Low)\n",
       "3    Marriot Marquis Chicago    Risk 1 (High)\n",
       "4                 Chartwells    Risk 1 (High)\n",
       "5      Shrimp'S Fish Chicken  Risk 2 (Medium)\n",
       "6            Art'S Drive Inn    Risk 1 (High)\n",
       "7                    Vincent    Risk 1 (High)\n",
       "8  Captain Hooks Of Dan Ryan  Risk 2 (Medium)\n",
       "9           Jibarito'S Y Mas    Risk 1 (High)"
      ]
     },
     "execution_count": 138,
     "metadata": {},
     "output_type": "execute_result"
    }
   ],
   "source": [
    "df_inspections.head(10)"
   ]
  },
  {
   "cell_type": "markdown",
   "id": "e1f96a7c",
   "metadata": {},
   "source": [
    "### String Slicing"
   ]
  },
  {
   "cell_type": "code",
   "execution_count": 139,
   "id": "68a99bf6",
   "metadata": {},
   "outputs": [
    {
     "data": {
      "application/vnd.microsoft.datawrangler.viewer.v0+json": {
       "columns": [
        {
         "name": "index",
         "rawType": "int64",
         "type": "integer"
        },
        {
         "name": "Risk",
         "rawType": "category",
         "type": "unknown"
        }
       ],
       "ref": "9a73aaf6-3159-4aeb-ac1f-88edc92a4ee8",
       "rows": [
        [
         "0",
         "Risk 1 (High)"
        ],
        [
         "1",
         "Risk 2 (Medium)"
        ],
        [
         "2",
         "Risk 3 (Low)"
        ],
        [
         "3",
         "Risk 1 (High)"
        ],
        [
         "4",
         "Risk 1 (High)"
        ]
       ],
       "shape": {
        "columns": 1,
        "rows": 5
       }
      },
      "text/plain": [
       "0      Risk 1 (High)\n",
       "1    Risk 2 (Medium)\n",
       "2       Risk 3 (Low)\n",
       "3      Risk 1 (High)\n",
       "4      Risk 1 (High)\n",
       "Name: Risk, dtype: category\n",
       "Categories (4, object): ['All', 'Risk 1 (High)', 'Risk 2 (Medium)', 'Risk 3 (Low)']"
      ]
     },
     "execution_count": 139,
     "metadata": {},
     "output_type": "execute_result"
    }
   ],
   "source": [
    "df_inspections[\"Risk\"].head()"
   ]
  },
  {
   "cell_type": "markdown",
   "id": "c9bf1c0d",
   "metadata": {},
   "source": [
    "**Cut the number of symbols from each row in the column Risk**"
   ]
  },
  {
   "cell_type": "code",
   "execution_count": 140,
   "id": "90481f0c",
   "metadata": {},
   "outputs": [
    {
     "data": {
      "application/vnd.microsoft.datawrangler.viewer.v0+json": {
       "columns": [
        {
         "name": "index",
         "rawType": "int64",
         "type": "integer"
        },
        {
         "name": "Risk",
         "rawType": "object",
         "type": "string"
        }
       ],
       "ref": "65bc08bf-436f-468c-9605-c25d9792880c",
       "rows": [
        [
         "0",
         "1"
        ],
        [
         "1",
         "2"
        ],
        [
         "2",
         "3"
        ],
        [
         "3",
         "1"
        ],
        [
         "4",
         "1"
        ]
       ],
       "shape": {
        "columns": 1,
        "rows": 5
       }
      },
      "text/plain": [
       "0    1\n",
       "1    2\n",
       "2    3\n",
       "3    1\n",
       "4    1\n",
       "Name: Risk, dtype: object"
      ]
     },
     "execution_count": 140,
     "metadata": {},
     "output_type": "execute_result"
    }
   ],
   "source": [
    "df_inspections[\"Risk\"].str.slice(5, 6).head()"
   ]
  },
  {
   "cell_type": "markdown",
   "id": "8dc49640",
   "metadata": {},
   "source": [
    "**Next code returns the same result**"
   ]
  },
  {
   "cell_type": "code",
   "execution_count": 141,
   "id": "9e306e6f",
   "metadata": {},
   "outputs": [
    {
     "data": {
      "application/vnd.microsoft.datawrangler.viewer.v0+json": {
       "columns": [
        {
         "name": "index",
         "rawType": "int64",
         "type": "integer"
        },
        {
         "name": "Risk",
         "rawType": "object",
         "type": "string"
        }
       ],
       "ref": "a8b4eea5-151e-4629-a3f0-443f4bf1de30",
       "rows": [
        [
         "0",
         "1"
        ],
        [
         "1",
         "2"
        ],
        [
         "2",
         "3"
        ],
        [
         "3",
         "1"
        ],
        [
         "4",
         "1"
        ]
       ],
       "shape": {
        "columns": 1,
        "rows": 5
       }
      },
      "text/plain": [
       "0    1\n",
       "1    2\n",
       "2    3\n",
       "3    1\n",
       "4    1\n",
       "Name: Risk, dtype: object"
      ]
     },
     "execution_count": 141,
     "metadata": {},
     "output_type": "execute_result"
    }
   ],
   "source": [
    "df_inspections[\"Risk\"].str[5:6].head()"
   ]
  },
  {
   "cell_type": "markdown",
   "id": "5f32bd9c",
   "metadata": {},
   "source": [
    "#### Retrieve the type of Rysk from each column"
   ]
  },
  {
   "cell_type": "code",
   "execution_count": 142,
   "id": "46a51d18",
   "metadata": {},
   "outputs": [
    {
     "data": {
      "application/vnd.microsoft.datawrangler.viewer.v0+json": {
       "columns": [
        {
         "name": "index",
         "rawType": "int64",
         "type": "integer"
        },
        {
         "name": "Risk",
         "rawType": "category",
         "type": "unknown"
        }
       ],
       "ref": "b998fba7-24fb-4879-b27b-2a716c3e9b2a",
       "rows": [
        [
         "0",
         "Risk 1 (High)"
        ],
        [
         "1",
         "Risk 2 (Medium)"
        ],
        [
         "2",
         "Risk 3 (Low)"
        ],
        [
         "3",
         "Risk 1 (High)"
        ],
        [
         "4",
         "Risk 1 (High)"
        ]
       ],
       "shape": {
        "columns": 1,
        "rows": 5
       }
      },
      "text/plain": [
       "0      Risk 1 (High)\n",
       "1    Risk 2 (Medium)\n",
       "2       Risk 3 (Low)\n",
       "3      Risk 1 (High)\n",
       "4      Risk 1 (High)\n",
       "Name: Risk, dtype: category\n",
       "Categories (4, object): ['All', 'Risk 1 (High)', 'Risk 2 (Medium)', 'Risk 3 (Low)']"
      ]
     },
     "execution_count": 142,
     "metadata": {},
     "output_type": "execute_result"
    }
   ],
   "source": [
    "df_inspections[\"Risk\"].head()"
   ]
  },
  {
   "cell_type": "markdown",
   "id": "3350b6f8",
   "metadata": {},
   "source": [
    "**Example 1**"
   ]
  },
  {
   "cell_type": "code",
   "execution_count": 143,
   "id": "9d14ef65",
   "metadata": {},
   "outputs": [
    {
     "data": {
      "application/vnd.microsoft.datawrangler.viewer.v0+json": {
       "columns": [
        {
         "name": "index",
         "rawType": "int64",
         "type": "integer"
        },
        {
         "name": "Risk",
         "rawType": "object",
         "type": "string"
        }
       ],
       "ref": "e0b898fb-a31d-4835-8df1-c660a1a4067c",
       "rows": [
        [
         "0",
         "High"
        ],
        [
         "1",
         "Medium"
        ],
        [
         "2",
         "Low"
        ],
        [
         "3",
         "High"
        ],
        [
         "4",
         "High"
        ]
       ],
       "shape": {
        "columns": 1,
        "rows": 5
       }
      },
      "text/plain": [
       "0      High\n",
       "1    Medium\n",
       "2       Low\n",
       "3      High\n",
       "4      High\n",
       "Name: Risk, dtype: object"
      ]
     },
     "execution_count": 143,
     "metadata": {},
     "output_type": "execute_result"
    }
   ],
   "source": [
    "df_inspections[\"Risk\"].str[8:-1].head()"
   ]
  },
  {
   "cell_type": "markdown",
   "id": "76371dda",
   "metadata": {},
   "source": [
    "**Example 2**"
   ]
  },
  {
   "cell_type": "code",
   "execution_count": 144,
   "id": "9998688f",
   "metadata": {},
   "outputs": [
    {
     "data": {
      "application/vnd.microsoft.datawrangler.viewer.v0+json": {
       "columns": [
        {
         "name": "index",
         "rawType": "int64",
         "type": "integer"
        },
        {
         "name": "Risk",
         "rawType": "object",
         "type": "string"
        }
       ],
       "ref": "bf8957d5-06fb-4e48-b39d-97c01022e1c1",
       "rows": [
        [
         "0",
         "High"
        ],
        [
         "1",
         "Medium"
        ],
        [
         "2",
         "Low"
        ],
        [
         "3",
         "High"
        ],
        [
         "4",
         "High"
        ]
       ],
       "shape": {
        "columns": 1,
        "rows": 5
       }
      },
      "text/plain": [
       "0      High\n",
       "1    Medium\n",
       "2       Low\n",
       "3      High\n",
       "4      High\n",
       "Name: Risk, dtype: object"
      ]
     },
     "execution_count": 144,
     "metadata": {},
     "output_type": "execute_result"
    }
   ],
   "source": [
    "df_inspections[\"Risk\"].str.slice(8, -1).head()"
   ]
  },
  {
   "cell_type": "markdown",
   "id": "aea30ab4",
   "metadata": {},
   "source": [
    "**Example 3**"
   ]
  },
  {
   "cell_type": "code",
   "execution_count": 145,
   "id": "0867b547",
   "metadata": {},
   "outputs": [
    {
     "data": {
      "application/vnd.microsoft.datawrangler.viewer.v0+json": {
       "columns": [
        {
         "name": "index",
         "rawType": "int64",
         "type": "integer"
        },
        {
         "name": "Risk",
         "rawType": "object",
         "type": "string"
        }
       ],
       "ref": "da139e43-2012-4030-b3d4-19b28bf0d566",
       "rows": [
        [
         "0",
         "High"
        ],
        [
         "1",
         "Medium"
        ],
        [
         "2",
         "Low"
        ],
        [
         "3",
         "High"
        ],
        [
         "4",
         "High"
        ]
       ],
       "shape": {
        "columns": 1,
        "rows": 5
       }
      },
      "text/plain": [
       "0      High\n",
       "1    Medium\n",
       "2       Low\n",
       "3      High\n",
       "4      High\n",
       "Name: Risk, dtype: object"
      ]
     },
     "execution_count": 145,
     "metadata": {},
     "output_type": "execute_result"
    }
   ],
   "source": [
    "df_inspections[\"Risk\"].str.slice(8).str.rstrip(\")\").head()"
   ]
  },
  {
   "cell_type": "markdown",
   "id": "802236f1",
   "metadata": {},
   "source": [
    "**Example 4**"
   ]
  },
  {
   "cell_type": "code",
   "execution_count": 146,
   "id": "a2f8bc4e",
   "metadata": {},
   "outputs": [
    {
     "data": {
      "application/vnd.microsoft.datawrangler.viewer.v0+json": {
       "columns": [
        {
         "name": "index",
         "rawType": "int64",
         "type": "integer"
        },
        {
         "name": "Risk",
         "rawType": "object",
         "type": "string"
        }
       ],
       "ref": "2c70f162-d3a4-489e-99ad-9385048b6fdb",
       "rows": [
        [
         "0",
         "High"
        ],
        [
         "1",
         "Medium"
        ],
        [
         "2",
         "Low"
        ],
        [
         "3",
         "High"
        ],
        [
         "4",
         "High"
        ]
       ],
       "shape": {
        "columns": 1,
        "rows": 5
       }
      },
      "text/plain": [
       "0      High\n",
       "1    Medium\n",
       "2       Low\n",
       "3      High\n",
       "4      High\n",
       "Name: Risk, dtype: object"
      ]
     },
     "execution_count": 146,
     "metadata": {},
     "output_type": "execute_result"
    }
   ],
   "source": [
    "df_inspections[\"Risk\"].str.slice(8).str.replace(\")\", \"\").head()"
   ]
  },
  {
   "cell_type": "markdown",
   "id": "d5042ed0",
   "metadata": {},
   "source": [
    "### Boolean Methods"
   ]
  },
  {
   "cell_type": "markdown",
   "id": "8722fb03",
   "metadata": {},
   "source": [
    "#### Find a word \"pizza\" in the Name column"
   ]
  },
  {
   "cell_type": "markdown",
   "id": "3f1413d0",
   "metadata": {},
   "source": [
    "**Set a lower case**"
   ]
  },
  {
   "cell_type": "code",
   "execution_count": 147,
   "id": "86bdf80b",
   "metadata": {},
   "outputs": [
    {
     "data": {
      "text/plain": [
       "3993"
      ]
     },
     "execution_count": 147,
     "metadata": {},
     "output_type": "execute_result"
    }
   ],
   "source": [
    "df_inspections['Name'].str.lower().str.contains('pizza').sum()"
   ]
  },
  {
   "cell_type": "code",
   "execution_count": 148,
   "id": "b9727bc7",
   "metadata": {},
   "outputs": [
    {
     "data": {
      "application/vnd.microsoft.datawrangler.viewer.v0+json": {
       "columns": [
        {
         "name": "index",
         "rawType": "int64",
         "type": "integer"
        },
        {
         "name": "Name",
         "rawType": "bool",
         "type": "boolean"
        }
       ],
       "ref": "b374259e-cfa7-4974-b1d1-2c0cfa115dda",
       "rows": [
        [
         "0",
         "False"
        ],
        [
         "1",
         "True"
        ],
        [
         "2",
         "False"
        ],
        [
         "3",
         "False"
        ],
        [
         "4",
         "False"
        ]
       ],
       "shape": {
        "columns": 1,
        "rows": 5
       }
      },
      "text/plain": [
       "0    False\n",
       "1     True\n",
       "2    False\n",
       "3    False\n",
       "4    False\n",
       "Name: Name, dtype: bool"
      ]
     },
     "execution_count": 148,
     "metadata": {},
     "output_type": "execute_result"
    }
   ],
   "source": [
    "df_inspections['Name'].str.lower().str.contains('pizza').head()"
   ]
  },
  {
   "cell_type": "code",
   "execution_count": 149,
   "id": "d5054f30",
   "metadata": {},
   "outputs": [
    {
     "data": {
      "application/vnd.microsoft.datawrangler.viewer.v0+json": {
       "columns": [
        {
         "name": "index",
         "rawType": "int64",
         "type": "integer"
        },
        {
         "name": "Name",
         "rawType": "object",
         "type": "string"
        },
        {
         "name": "Risk",
         "rawType": "category",
         "type": "unknown"
        }
       ],
       "ref": "e212edfa-5679-4599-bccd-a4bab4583bc2",
       "rows": [
        [
         "1",
         "Jets Pizza",
         "Risk 2 (Medium)"
        ],
        [
         "19",
         "Nancy'S Home Of Stuffed Pizza",
         "Risk 1 (High)"
        ],
        [
         "27",
         "Nary'S Grill & Pizza ,Inc.",
         "Risk 1 (High)"
        ],
        [
         "29",
         "Narys Grill & Pizza",
         "Risk 1 (High)"
        ],
        [
         "68",
         "Colutas Pizza",
         "Risk 1 (High)"
        ],
        [
         "89",
         "Fat Chris'S Pizza And Such",
         "Risk 1 (High)"
        ],
        [
         "92",
         "Jet'S Pizza",
         "Risk 2 (Medium)"
        ],
        [
         "97",
         "Positanos Restaurant & Pizza, Inc.",
         "Risk 1 (High)"
        ],
        [
         "115",
         "Luganos Pizza",
         "Risk 1 (High)"
        ],
        [
         "164",
         "Little Clown Pizza & Restaurant",
         "Risk 1 (High)"
        ],
        [
         "205",
         "Nancy'S Home Of Stuffed Pizza",
         "Risk 1 (High)"
        ],
        [
         "383",
         "Plazzio'S Pizza Restaurant, Inc.",
         "Risk 1 (High)"
        ],
        [
         "520",
         "Nella Pizza Pasta",
         "Risk 3 (Low)"
        ],
        [
         "524",
         "Nella Pizza Pasta",
         "Risk 1 (High)"
        ],
        [
         "537",
         "Pizza Mania",
         "Risk 3 (Low)"
        ],
        [
         "669",
         "Danny'S Pizza Place",
         "Risk 3 (Low)"
        ],
        [
         "685",
         "Danny'S Pizza Place",
         "Risk 1 (High)"
        ],
        [
         "698",
         "Luganos Pizza",
         "Risk 2 (Medium)"
        ],
        [
         "702",
         "Lugano'S Pizza",
         "Risk 1 (High)"
        ],
        [
         "767",
         "Mod Pizza",
         "Risk 1 (High)"
        ],
        [
         "771",
         "Mod Pizza",
         "Risk 1 (High)"
        ],
        [
         "784",
         "Art Of Pizza On State Street",
         "Risk 1 (High)"
        ],
        [
         "835",
         "Domino'S Pizza",
         "Risk 1 (High)"
        ],
        [
         "905",
         "Sam'S Chicken And Ribs, Pizza",
         "Risk 1 (High)"
        ],
        [
         "926",
         "Mod Pizza",
         "Risk 1 (High)"
        ],
        [
         "931",
         "Mod Pizza",
         "Risk 1 (High)"
        ],
        [
         "1037",
         "Jet'S Pizza Illinois #21, Llc",
         "Risk 2 (Medium)"
        ],
        [
         "1039",
         "West End Tata'S Pizza",
         "Risk 1 (High)"
        ],
        [
         "1087",
         "Angelo'S Pizza",
         "Risk 1 (High)"
        ],
        [
         "1117",
         "Beggars Pizza",
         "Risk 1 (High)"
        ],
        [
         "1136",
         "Dino'S Pizza",
         "Risk 1 (High)"
        ],
        [
         "1163",
         "Papa John'S Pizza",
         "Risk 2 (Medium)"
        ],
        [
         "1179",
         "Al'S Pizza Chicago",
         "Risk 1 (High)"
        ],
        [
         "1247",
         "Pizza Hut",
         "Risk 2 (Medium)"
        ],
        [
         "1273",
         "Pizza Rustica, Inc",
         "Risk 1 (High)"
        ],
        [
         "1278",
         "Miller Pizza Co.",
         "Risk 1 (High)"
        ],
        [
         "1350",
         "Pizza Y Pan  Pa' Ya Corp.",
         "Risk 1 (High)"
        ],
        [
         "1351",
         "Angelo'S Pizza",
         "Risk 1 (High)"
        ],
        [
         "1361",
         "Little Caesars Pizza Treat #1627",
         "Risk 2 (Medium)"
        ],
        [
         "1362",
         "Little Caesar Pizza",
         "Risk 2 (Medium)"
        ],
        [
         "1365",
         "Dino'S Pizza",
         "Risk 1 (High)"
        ],
        [
         "1412",
         "Al'S Pizza Chicago",
         "Risk 1 (High)"
        ],
        [
         "1422",
         "Luganos Pizza",
         "Risk 2 (Medium)"
        ],
        [
         "1561",
         "Cugini Pizza & Eatery",
         "Risk 1 (High)"
        ],
        [
         "1585",
         "The Art Of  Pizza Inc",
         "Risk 1 (High)"
        ],
        [
         "1630",
         "Milano'S Pizza",
         "Risk 1 (High)"
        ],
        [
         "1637",
         "Waldo Cooney'S Pizza",
         "Risk 1 (High)"
        ],
        [
         "1656",
         "Pizza Hut",
         "Risk 1 (High)"
        ],
        [
         "1725",
         "Luke'S Beef & Pizza",
         "Risk 1 (High)"
        ],
        [
         "1761",
         "Roots Handmade Pizza-Lincoln Square",
         "Risk 1 (High)"
        ]
       ],
       "shape": {
        "columns": 2,
        "rows": 3993
       }
      },
      "text/html": [
       "<div>\n",
       "<style scoped>\n",
       "    .dataframe tbody tr th:only-of-type {\n",
       "        vertical-align: middle;\n",
       "    }\n",
       "\n",
       "    .dataframe tbody tr th {\n",
       "        vertical-align: top;\n",
       "    }\n",
       "\n",
       "    .dataframe thead th {\n",
       "        text-align: right;\n",
       "    }\n",
       "</style>\n",
       "<table border=\"1\" class=\"dataframe\">\n",
       "  <thead>\n",
       "    <tr style=\"text-align: right;\">\n",
       "      <th></th>\n",
       "      <th>Name</th>\n",
       "      <th>Risk</th>\n",
       "    </tr>\n",
       "  </thead>\n",
       "  <tbody>\n",
       "    <tr>\n",
       "      <th>1</th>\n",
       "      <td>Jets Pizza</td>\n",
       "      <td>Risk 2 (Medium)</td>\n",
       "    </tr>\n",
       "    <tr>\n",
       "      <th>19</th>\n",
       "      <td>Nancy'S Home Of Stuffed Pizza</td>\n",
       "      <td>Risk 1 (High)</td>\n",
       "    </tr>\n",
       "    <tr>\n",
       "      <th>27</th>\n",
       "      <td>Nary'S Grill &amp; Pizza ,Inc.</td>\n",
       "      <td>Risk 1 (High)</td>\n",
       "    </tr>\n",
       "    <tr>\n",
       "      <th>29</th>\n",
       "      <td>Narys Grill &amp; Pizza</td>\n",
       "      <td>Risk 1 (High)</td>\n",
       "    </tr>\n",
       "    <tr>\n",
       "      <th>68</th>\n",
       "      <td>Colutas Pizza</td>\n",
       "      <td>Risk 1 (High)</td>\n",
       "    </tr>\n",
       "    <tr>\n",
       "      <th>...</th>\n",
       "      <td>...</td>\n",
       "      <td>...</td>\n",
       "    </tr>\n",
       "    <tr>\n",
       "      <th>153756</th>\n",
       "      <td>Angelo'S Stuffed Pizza Corp</td>\n",
       "      <td>Risk 1 (High)</td>\n",
       "    </tr>\n",
       "    <tr>\n",
       "      <th>153764</th>\n",
       "      <td>Cochiaros Pizza #2</td>\n",
       "      <td>Risk 1 (High)</td>\n",
       "    </tr>\n",
       "    <tr>\n",
       "      <th>153772</th>\n",
       "      <td>Fernando'S Mexican Grill &amp; Pizza</td>\n",
       "      <td>Risk 1 (High)</td>\n",
       "    </tr>\n",
       "    <tr>\n",
       "      <th>153788</th>\n",
       "      <td>Reggio'S Pizza Express</td>\n",
       "      <td>Risk 1 (High)</td>\n",
       "    </tr>\n",
       "    <tr>\n",
       "      <th>153801</th>\n",
       "      <td>State Street Pizza Company</td>\n",
       "      <td>Risk 1 (High)</td>\n",
       "    </tr>\n",
       "  </tbody>\n",
       "</table>\n",
       "<p>3993 rows × 2 columns</p>\n",
       "</div>"
      ],
      "text/plain": [
       "                                    Name             Risk\n",
       "1                             Jets Pizza  Risk 2 (Medium)\n",
       "19         Nancy'S Home Of Stuffed Pizza    Risk 1 (High)\n",
       "27            Nary'S Grill & Pizza ,Inc.    Risk 1 (High)\n",
       "29                   Narys Grill & Pizza    Risk 1 (High)\n",
       "68                         Colutas Pizza    Risk 1 (High)\n",
       "...                                  ...              ...\n",
       "153756       Angelo'S Stuffed Pizza Corp    Risk 1 (High)\n",
       "153764                Cochiaros Pizza #2    Risk 1 (High)\n",
       "153772  Fernando'S Mexican Grill & Pizza    Risk 1 (High)\n",
       "153788            Reggio'S Pizza Express    Risk 1 (High)\n",
       "153801        State Street Pizza Company    Risk 1 (High)\n",
       "\n",
       "[3993 rows x 2 columns]"
      ]
     },
     "execution_count": 149,
     "metadata": {},
     "output_type": "execute_result"
    }
   ],
   "source": [
    "has_pizza=df_inspections['Name'].str.lower().str.contains('pizza')\n",
    "df_inspections[has_pizza]"
   ]
  },
  {
   "cell_type": "markdown",
   "id": "a6e81888",
   "metadata": {},
   "source": [
    "#### Find rows which begin with a Tacos word"
   ]
  },
  {
   "cell_type": "code",
   "execution_count": 150,
   "id": "14d845c3",
   "metadata": {},
   "outputs": [
    {
     "data": {
      "text/plain": [
       "105"
      ]
     },
     "execution_count": 150,
     "metadata": {},
     "output_type": "execute_result"
    }
   ],
   "source": [
    "df_inspections['Name'].str.lower().str.startswith('tacos').sum()"
   ]
  },
  {
   "cell_type": "code",
   "execution_count": 151,
   "id": "677afb66",
   "metadata": {},
   "outputs": [
    {
     "data": {
      "application/vnd.microsoft.datawrangler.viewer.v0+json": {
       "columns": [
        {
         "name": "index",
         "rawType": "int64",
         "type": "integer"
        },
        {
         "name": "Name",
         "rawType": "bool",
         "type": "boolean"
        }
       ],
       "ref": "b96a36d4-c351-43e2-9013-cae25b9c887b",
       "rows": [
        [
         "0",
         "False"
        ],
        [
         "1",
         "False"
        ],
        [
         "2",
         "False"
        ],
        [
         "3",
         "False"
        ],
        [
         "4",
         "False"
        ]
       ],
       "shape": {
        "columns": 1,
        "rows": 5
       }
      },
      "text/plain": [
       "0    False\n",
       "1    False\n",
       "2    False\n",
       "3    False\n",
       "4    False\n",
       "Name: Name, dtype: bool"
      ]
     },
     "execution_count": 151,
     "metadata": {},
     "output_type": "execute_result"
    }
   ],
   "source": [
    "df_inspections['Name'].str.lower().str.startswith('tacos').head()"
   ]
  },
  {
   "cell_type": "code",
   "execution_count": 152,
   "id": "168ae886",
   "metadata": {},
   "outputs": [
    {
     "data": {
      "application/vnd.microsoft.datawrangler.viewer.v0+json": {
       "columns": [
        {
         "name": "index",
         "rawType": "int64",
         "type": "integer"
        },
        {
         "name": "Name",
         "rawType": "object",
         "type": "string"
        },
        {
         "name": "Risk",
         "rawType": "category",
         "type": "unknown"
        }
       ],
       "ref": "70777384-0964-46ed-b07f-474a8f1ee5d6",
       "rows": [
        [
         "69",
         "Tacos Nietos",
         "Risk 1 (High)"
        ],
        [
         "556",
         "Tacos El Tio 2 Inc.",
         "Risk 1 (High)"
        ],
        [
         "675",
         "Tacos Don Gabino",
         "Risk 1 (High)"
        ],
        [
         "958",
         "Tacos El Tio 2 Inc.",
         "Risk 1 (High)"
        ],
        [
         "1036",
         "Tacos El Tio 2 Inc.",
         "Risk 1 (High)"
        ]
       ],
       "shape": {
        "columns": 2,
        "rows": 5
       }
      },
      "text/html": [
       "<div>\n",
       "<style scoped>\n",
       "    .dataframe tbody tr th:only-of-type {\n",
       "        vertical-align: middle;\n",
       "    }\n",
       "\n",
       "    .dataframe tbody tr th {\n",
       "        vertical-align: top;\n",
       "    }\n",
       "\n",
       "    .dataframe thead th {\n",
       "        text-align: right;\n",
       "    }\n",
       "</style>\n",
       "<table border=\"1\" class=\"dataframe\">\n",
       "  <thead>\n",
       "    <tr style=\"text-align: right;\">\n",
       "      <th></th>\n",
       "      <th>Name</th>\n",
       "      <th>Risk</th>\n",
       "    </tr>\n",
       "  </thead>\n",
       "  <tbody>\n",
       "    <tr>\n",
       "      <th>69</th>\n",
       "      <td>Tacos Nietos</td>\n",
       "      <td>Risk 1 (High)</td>\n",
       "    </tr>\n",
       "    <tr>\n",
       "      <th>556</th>\n",
       "      <td>Tacos El Tio 2 Inc.</td>\n",
       "      <td>Risk 1 (High)</td>\n",
       "    </tr>\n",
       "    <tr>\n",
       "      <th>675</th>\n",
       "      <td>Tacos Don Gabino</td>\n",
       "      <td>Risk 1 (High)</td>\n",
       "    </tr>\n",
       "    <tr>\n",
       "      <th>958</th>\n",
       "      <td>Tacos El Tio 2 Inc.</td>\n",
       "      <td>Risk 1 (High)</td>\n",
       "    </tr>\n",
       "    <tr>\n",
       "      <th>1036</th>\n",
       "      <td>Tacos El Tio 2 Inc.</td>\n",
       "      <td>Risk 1 (High)</td>\n",
       "    </tr>\n",
       "  </tbody>\n",
       "</table>\n",
       "</div>"
      ],
      "text/plain": [
       "                     Name           Risk\n",
       "69           Tacos Nietos  Risk 1 (High)\n",
       "556   Tacos El Tio 2 Inc.  Risk 1 (High)\n",
       "675      Tacos Don Gabino  Risk 1 (High)\n",
       "958   Tacos El Tio 2 Inc.  Risk 1 (High)\n",
       "1036  Tacos El Tio 2 Inc.  Risk 1 (High)"
      ]
     },
     "execution_count": 152,
     "metadata": {},
     "output_type": "execute_result"
    }
   ],
   "source": [
    "starts_with_tacos = df_inspections['Name'].str.lower().str.startswith('tacos')\n",
    "df_inspections[starts_with_tacos].head()"
   ]
  },
  {
   "cell_type": "markdown",
   "id": "d403309e",
   "metadata": {},
   "source": [
    "**Find a Tacos word in the end of lines**"
   ]
  },
  {
   "cell_type": "code",
   "execution_count": 153,
   "id": "b1bacf56",
   "metadata": {},
   "outputs": [
    {
     "data": {
      "application/vnd.microsoft.datawrangler.viewer.v0+json": {
       "columns": [
        {
         "name": "index",
         "rawType": "int64",
         "type": "integer"
        },
        {
         "name": "Name",
         "rawType": "object",
         "type": "string"
        },
        {
         "name": "Risk",
         "rawType": "category",
         "type": "unknown"
        }
       ],
       "ref": "6f9b80fe-6719-404c-8f44-40b1df05bfc7",
       "rows": [
        [
         "382",
         "Lazo'S Tacos",
         "Risk 1 (High)"
        ],
        [
         "569",
         "Lazo'S Tacos",
         "Risk 1 (High)"
        ],
        [
         "2652",
         "Flying Tacos",
         "Risk 3 (Low)"
        ],
        [
         "3250",
         "Jony'S Tacos",
         "Risk 1 (High)"
        ],
        [
         "3812",
         "Paco'S Tacos",
         "Risk 1 (High)"
        ]
       ],
       "shape": {
        "columns": 2,
        "rows": 5
       }
      },
      "text/html": [
       "<div>\n",
       "<style scoped>\n",
       "    .dataframe tbody tr th:only-of-type {\n",
       "        vertical-align: middle;\n",
       "    }\n",
       "\n",
       "    .dataframe tbody tr th {\n",
       "        vertical-align: top;\n",
       "    }\n",
       "\n",
       "    .dataframe thead th {\n",
       "        text-align: right;\n",
       "    }\n",
       "</style>\n",
       "<table border=\"1\" class=\"dataframe\">\n",
       "  <thead>\n",
       "    <tr style=\"text-align: right;\">\n",
       "      <th></th>\n",
       "      <th>Name</th>\n",
       "      <th>Risk</th>\n",
       "    </tr>\n",
       "  </thead>\n",
       "  <tbody>\n",
       "    <tr>\n",
       "      <th>382</th>\n",
       "      <td>Lazo'S Tacos</td>\n",
       "      <td>Risk 1 (High)</td>\n",
       "    </tr>\n",
       "    <tr>\n",
       "      <th>569</th>\n",
       "      <td>Lazo'S Tacos</td>\n",
       "      <td>Risk 1 (High)</td>\n",
       "    </tr>\n",
       "    <tr>\n",
       "      <th>2652</th>\n",
       "      <td>Flying Tacos</td>\n",
       "      <td>Risk 3 (Low)</td>\n",
       "    </tr>\n",
       "    <tr>\n",
       "      <th>3250</th>\n",
       "      <td>Jony'S Tacos</td>\n",
       "      <td>Risk 1 (High)</td>\n",
       "    </tr>\n",
       "    <tr>\n",
       "      <th>3812</th>\n",
       "      <td>Paco'S Tacos</td>\n",
       "      <td>Risk 1 (High)</td>\n",
       "    </tr>\n",
       "  </tbody>\n",
       "</table>\n",
       "</div>"
      ],
      "text/plain": [
       "              Name           Risk\n",
       "382   Lazo'S Tacos  Risk 1 (High)\n",
       "569   Lazo'S Tacos  Risk 1 (High)\n",
       "2652  Flying Tacos   Risk 3 (Low)\n",
       "3250  Jony'S Tacos  Risk 1 (High)\n",
       "3812  Paco'S Tacos  Risk 1 (High)"
      ]
     },
     "execution_count": 153,
     "metadata": {},
     "output_type": "execute_result"
    }
   ],
   "source": [
    "ends_with_tacos = df_inspections['Name'].str.lower().str.endswith('tacos')\n",
    "df_inspections[ends_with_tacos].head()"
   ]
  },
  {
   "cell_type": "markdown",
   "id": "074c5334",
   "metadata": {},
   "source": [
    "### Splitting Strings"
   ]
  },
  {
   "cell_type": "code",
   "execution_count": 154,
   "id": "4e9f173e",
   "metadata": {},
   "outputs": [],
   "source": [
    "customers_path = '/Users/ypushiev/Learning/PANDAS IN ACTION/Chapter 6 Text data processing/Data/customers.csv'"
   ]
  },
  {
   "cell_type": "code",
   "execution_count": 155,
   "id": "c1b5c962",
   "metadata": {},
   "outputs": [],
   "source": [
    "df_customers = pd.read_csv(customers_path)"
   ]
  },
  {
   "cell_type": "code",
   "execution_count": 156,
   "id": "ee311284",
   "metadata": {},
   "outputs": [
    {
     "data": {
      "text/plain": [
       "(9961, 2)"
      ]
     },
     "execution_count": 156,
     "metadata": {},
     "output_type": "execute_result"
    }
   ],
   "source": [
    "df_customers.shape"
   ]
  },
  {
   "cell_type": "code",
   "execution_count": 157,
   "id": "cd4d7a64",
   "metadata": {},
   "outputs": [
    {
     "data": {
      "application/vnd.microsoft.datawrangler.viewer.v0+json": {
       "columns": [
        {
         "name": "index",
         "rawType": "object",
         "type": "string"
        },
        {
         "name": "0",
         "rawType": "int64",
         "type": "integer"
        }
       ],
       "ref": "481afbf0-01fc-4e2c-8da3-bd251078a8d4",
       "rows": [
        [
         "Name",
         "9297"
        ],
        [
         "Address",
         "9961"
        ]
       ],
       "shape": {
        "columns": 1,
        "rows": 2
       }
      },
      "text/plain": [
       "Name       9297\n",
       "Address    9961\n",
       "dtype: int64"
      ]
     },
     "execution_count": 157,
     "metadata": {},
     "output_type": "execute_result"
    }
   ],
   "source": [
    "df_customers.nunique()"
   ]
  },
  {
   "cell_type": "code",
   "execution_count": 158,
   "id": "a0156e5b",
   "metadata": {},
   "outputs": [
    {
     "name": "stdout",
     "output_type": "stream",
     "text": [
      "<class 'pandas.core.frame.DataFrame'>\n",
      "RangeIndex: 9961 entries, 0 to 9960\n",
      "Data columns (total 2 columns):\n",
      " #   Column   Non-Null Count  Dtype \n",
      "---  ------   --------------  ----- \n",
      " 0   Name     9961 non-null   object\n",
      " 1   Address  9961 non-null   object\n",
      "dtypes: object(2)\n",
      "memory usage: 155.8+ KB\n"
     ]
    }
   ],
   "source": [
    "df_customers.info()"
   ]
  },
  {
   "cell_type": "markdown",
   "id": "4143b7b9",
   "metadata": {},
   "source": [
    "#### Get the lentgh "
   ]
  },
  {
   "cell_type": "code",
   "execution_count": 159,
   "id": "21d4a704",
   "metadata": {},
   "outputs": [
    {
     "data": {
      "application/vnd.microsoft.datawrangler.viewer.v0+json": {
       "columns": [
        {
         "name": "index",
         "rawType": "int64",
         "type": "integer"
        },
        {
         "name": "Name",
         "rawType": "int64",
         "type": "integer"
        }
       ],
       "ref": "57abe393-991c-429e-bf1e-89f278d78ab9",
       "rows": [
        [
         "0",
         "13"
        ],
        [
         "1",
         "17"
        ],
        [
         "2",
         "15"
        ],
        [
         "3",
         "19"
        ],
        [
         "4",
         "14"
        ]
       ],
       "shape": {
        "columns": 1,
        "rows": 5
       }
      },
      "text/plain": [
       "0    13\n",
       "1    17\n",
       "2    15\n",
       "3    19\n",
       "4    14\n",
       "Name: Name, dtype: int64"
      ]
     },
     "execution_count": 159,
     "metadata": {},
     "output_type": "execute_result"
    }
   ],
   "source": [
    "df_customers['Name'].str.len().head()"
   ]
  },
  {
   "cell_type": "markdown",
   "id": "80c6f74a",
   "metadata": {},
   "source": [
    "**Split and count the words**"
   ]
  },
  {
   "cell_type": "code",
   "execution_count": 160,
   "id": "ee194b0b",
   "metadata": {},
   "outputs": [
    {
     "data": {
      "application/vnd.microsoft.datawrangler.viewer.v0+json": {
       "columns": [
        {
         "name": "index",
         "rawType": "int64",
         "type": "integer"
        },
        {
         "name": "Name",
         "rawType": "object",
         "type": "unknown"
        }
       ],
       "ref": "3de14599-4090-44da-a773-f7e0f25648c6",
       "rows": [
        [
         "0",
         "['Frank', 'Manning']"
        ],
        [
         "1",
         "['Elizabeth', 'Johnson']"
        ],
        [
         "2",
         "['Donald', 'Stephens']"
        ],
        [
         "3",
         "['Michael', 'Vincent', 'III']"
        ],
        [
         "4",
         "['Jasmine', 'Zamora']"
        ]
       ],
       "shape": {
        "columns": 1,
        "rows": 5
       }
      },
      "text/plain": [
       "0           [Frank, Manning]\n",
       "1       [Elizabeth, Johnson]\n",
       "2         [Donald, Stephens]\n",
       "3    [Michael, Vincent, III]\n",
       "4          [Jasmine, Zamora]\n",
       "Name: Name, dtype: object"
      ]
     },
     "execution_count": 160,
     "metadata": {},
     "output_type": "execute_result"
    }
   ],
   "source": [
    "df_customers['Name'].str.split(' ').head()"
   ]
  },
  {
   "cell_type": "code",
   "execution_count": 161,
   "id": "ed69b88b",
   "metadata": {},
   "outputs": [
    {
     "data": {
      "application/vnd.microsoft.datawrangler.viewer.v0+json": {
       "columns": [
        {
         "name": "index",
         "rawType": "int64",
         "type": "integer"
        },
        {
         "name": "Name",
         "rawType": "int64",
         "type": "integer"
        }
       ],
       "ref": "66a21a6c-1302-43d9-a0c0-8d9846ddc592",
       "rows": [
        [
         "0",
         "2"
        ],
        [
         "1",
         "2"
        ],
        [
         "2",
         "2"
        ],
        [
         "3",
         "3"
        ],
        [
         "4",
         "2"
        ]
       ],
       "shape": {
        "columns": 1,
        "rows": 5
       }
      },
      "text/plain": [
       "0    2\n",
       "1    2\n",
       "2    2\n",
       "3    3\n",
       "4    2\n",
       "Name: Name, dtype: int64"
      ]
     },
     "execution_count": 161,
     "metadata": {},
     "output_type": "execute_result"
    }
   ],
   "source": [
    "df_customers['Name'].str.split(' ').str.len().head()"
   ]
  },
  {
   "cell_type": "markdown",
   "id": "a4011ff2",
   "metadata": {},
   "source": [
    "**Resolve the issue with name like Michael Vincent III**"
   ]
  },
  {
   "cell_type": "code",
   "execution_count": 162,
   "id": "1a6cf1f2",
   "metadata": {},
   "outputs": [
    {
     "data": {
      "application/vnd.microsoft.datawrangler.viewer.v0+json": {
       "columns": [
        {
         "name": "index",
         "rawType": "int64",
         "type": "integer"
        },
        {
         "name": "Name",
         "rawType": "object",
         "type": "unknown"
        }
       ],
       "ref": "4dc93491-3051-40c9-a5ea-f470367e7bb6",
       "rows": [
        [
         "0",
         "['Frank', 'Manning']"
        ],
        [
         "1",
         "['Elizabeth', 'Johnson']"
        ],
        [
         "2",
         "['Donald', 'Stephens']"
        ],
        [
         "3",
         "['Michael', 'Vincent III']"
        ],
        [
         "4",
         "['Jasmine', 'Zamora']"
        ]
       ],
       "shape": {
        "columns": 1,
        "rows": 5
       }
      },
      "text/plain": [
       "0          [Frank, Manning]\n",
       "1      [Elizabeth, Johnson]\n",
       "2        [Donald, Stephens]\n",
       "3    [Michael, Vincent III]\n",
       "4         [Jasmine, Zamora]\n",
       "Name: Name, dtype: object"
      ]
     },
     "execution_count": 162,
     "metadata": {},
     "output_type": "execute_result"
    }
   ],
   "source": [
    "df_customers['Name'].str.split(' ',n=1).head()"
   ]
  },
  {
   "cell_type": "code",
   "execution_count": 163,
   "id": "4dffd982",
   "metadata": {},
   "outputs": [
    {
     "data": {
      "application/vnd.microsoft.datawrangler.viewer.v0+json": {
       "columns": [
        {
         "name": "index",
         "rawType": "int64",
         "type": "integer"
        },
        {
         "name": "Name",
         "rawType": "int64",
         "type": "integer"
        }
       ],
       "ref": "38f83cda-9c66-436d-a994-ed1b7a6476e1",
       "rows": [
        [
         "0",
         "2"
        ],
        [
         "1",
         "2"
        ],
        [
         "2",
         "2"
        ],
        [
         "3",
         "2"
        ],
        [
         "4",
         "2"
        ]
       ],
       "shape": {
        "columns": 1,
        "rows": 5
       }
      },
      "text/plain": [
       "0    2\n",
       "1    2\n",
       "2    2\n",
       "3    2\n",
       "4    2\n",
       "Name: Name, dtype: int64"
      ]
     },
     "execution_count": 163,
     "metadata": {},
     "output_type": "execute_result"
    }
   ],
   "source": [
    "df_customers['Name'].str.split(' ',n=1).str.len().head()"
   ]
  },
  {
   "cell_type": "markdown",
   "id": "cafca4e2",
   "metadata": {},
   "source": [
    "#### Get only names"
   ]
  },
  {
   "cell_type": "code",
   "execution_count": 164,
   "id": "f9a027c9",
   "metadata": {},
   "outputs": [
    {
     "data": {
      "application/vnd.microsoft.datawrangler.viewer.v0+json": {
       "columns": [
        {
         "name": "index",
         "rawType": "int64",
         "type": "integer"
        },
        {
         "name": "Name",
         "rawType": "object",
         "type": "string"
        }
       ],
       "ref": "b93e9319-4998-4321-b4de-58baaed4e7cd",
       "rows": [
        [
         "0",
         "Frank"
        ],
        [
         "1",
         "Elizabeth"
        ],
        [
         "2",
         "Donald"
        ],
        [
         "3",
         "Michael"
        ],
        [
         "4",
         "Jasmine"
        ]
       ],
       "shape": {
        "columns": 1,
        "rows": 5
       }
      },
      "text/plain": [
       "0        Frank\n",
       "1    Elizabeth\n",
       "2       Donald\n",
       "3      Michael\n",
       "4      Jasmine\n",
       "Name: Name, dtype: object"
      ]
     },
     "execution_count": 164,
     "metadata": {},
     "output_type": "execute_result"
    }
   ],
   "source": [
    "df_customers['Name'].str.split(' ',n=1).str[0].head()"
   ]
  },
  {
   "cell_type": "markdown",
   "id": "aa01c3d1",
   "metadata": {},
   "source": [
    "**Get only surnames**"
   ]
  },
  {
   "cell_type": "code",
   "execution_count": 165,
   "id": "e3368533",
   "metadata": {},
   "outputs": [
    {
     "data": {
      "application/vnd.microsoft.datawrangler.viewer.v0+json": {
       "columns": [
        {
         "name": "index",
         "rawType": "int64",
         "type": "integer"
        },
        {
         "name": "Name",
         "rawType": "object",
         "type": "string"
        }
       ],
       "ref": "1dc8d1e4-bd4c-4bda-834e-8108b320089f",
       "rows": [
        [
         "0",
         "Manning"
        ],
        [
         "1",
         "Johnson"
        ],
        [
         "2",
         "Stephens"
        ],
        [
         "3",
         "Vincent III"
        ],
        [
         "4",
         "Zamora"
        ]
       ],
       "shape": {
        "columns": 1,
        "rows": 5
       }
      },
      "text/plain": [
       "0        Manning\n",
       "1        Johnson\n",
       "2       Stephens\n",
       "3    Vincent III\n",
       "4         Zamora\n",
       "Name: Name, dtype: object"
      ]
     },
     "execution_count": 165,
     "metadata": {},
     "output_type": "execute_result"
    }
   ],
   "source": [
    "df_customers['Name'].str.split(' ',n=1).str.get(1).head()"
   ]
  },
  {
   "cell_type": "markdown",
   "id": "13bf87d6",
   "metadata": {},
   "source": [
    "**Using get(-1)**"
   ]
  },
  {
   "cell_type": "code",
   "execution_count": 166,
   "id": "9e2f00c1",
   "metadata": {},
   "outputs": [
    {
     "data": {
      "application/vnd.microsoft.datawrangler.viewer.v0+json": {
       "columns": [
        {
         "name": "index",
         "rawType": "int64",
         "type": "integer"
        },
        {
         "name": "Name",
         "rawType": "object",
         "type": "string"
        }
       ],
       "ref": "00d99599-504c-4b6b-839d-0016585b0c19",
       "rows": [
        [
         "0",
         "Manning"
        ],
        [
         "1",
         "Johnson"
        ],
        [
         "2",
         "Stephens"
        ],
        [
         "3",
         "Vincent III"
        ],
        [
         "4",
         "Zamora"
        ]
       ],
       "shape": {
        "columns": 1,
        "rows": 5
       }
      },
      "text/plain": [
       "0        Manning\n",
       "1        Johnson\n",
       "2       Stephens\n",
       "3    Vincent III\n",
       "4         Zamora\n",
       "Name: Name, dtype: object"
      ]
     },
     "execution_count": 166,
     "metadata": {},
     "output_type": "execute_result"
    }
   ],
   "source": [
    "df_customers['Name'].str.split(' ',n=1).str.get(-1).head()"
   ]
  },
  {
   "cell_type": "markdown",
   "id": "b63fb196",
   "metadata": {},
   "source": [
    "**Using Expand parameter to split names and lastnames**"
   ]
  },
  {
   "cell_type": "code",
   "execution_count": 167,
   "id": "6cec780b",
   "metadata": {},
   "outputs": [
    {
     "data": {
      "application/vnd.microsoft.datawrangler.viewer.v0+json": {
       "columns": [
        {
         "name": "index",
         "rawType": "int64",
         "type": "integer"
        },
        {
         "name": "0",
         "rawType": "object",
         "type": "string"
        },
        {
         "name": "1",
         "rawType": "object",
         "type": "string"
        }
       ],
       "ref": "74637390-b0c5-4c99-b2a2-551d15b8b545",
       "rows": [
        [
         "0",
         "Frank",
         "Manning"
        ],
        [
         "1",
         "Elizabeth",
         "Johnson"
        ],
        [
         "2",
         "Donald",
         "Stephens"
        ],
        [
         "3",
         "Michael",
         "Vincent III"
        ],
        [
         "4",
         "Jasmine",
         "Zamora"
        ]
       ],
       "shape": {
        "columns": 2,
        "rows": 5
       }
      },
      "text/html": [
       "<div>\n",
       "<style scoped>\n",
       "    .dataframe tbody tr th:only-of-type {\n",
       "        vertical-align: middle;\n",
       "    }\n",
       "\n",
       "    .dataframe tbody tr th {\n",
       "        vertical-align: top;\n",
       "    }\n",
       "\n",
       "    .dataframe thead th {\n",
       "        text-align: right;\n",
       "    }\n",
       "</style>\n",
       "<table border=\"1\" class=\"dataframe\">\n",
       "  <thead>\n",
       "    <tr style=\"text-align: right;\">\n",
       "      <th></th>\n",
       "      <th>0</th>\n",
       "      <th>1</th>\n",
       "    </tr>\n",
       "  </thead>\n",
       "  <tbody>\n",
       "    <tr>\n",
       "      <th>0</th>\n",
       "      <td>Frank</td>\n",
       "      <td>Manning</td>\n",
       "    </tr>\n",
       "    <tr>\n",
       "      <th>1</th>\n",
       "      <td>Elizabeth</td>\n",
       "      <td>Johnson</td>\n",
       "    </tr>\n",
       "    <tr>\n",
       "      <th>2</th>\n",
       "      <td>Donald</td>\n",
       "      <td>Stephens</td>\n",
       "    </tr>\n",
       "    <tr>\n",
       "      <th>3</th>\n",
       "      <td>Michael</td>\n",
       "      <td>Vincent III</td>\n",
       "    </tr>\n",
       "    <tr>\n",
       "      <th>4</th>\n",
       "      <td>Jasmine</td>\n",
       "      <td>Zamora</td>\n",
       "    </tr>\n",
       "  </tbody>\n",
       "</table>\n",
       "</div>"
      ],
      "text/plain": [
       "           0            1\n",
       "0      Frank      Manning\n",
       "1  Elizabeth      Johnson\n",
       "2     Donald     Stephens\n",
       "3    Michael  Vincent III\n",
       "4    Jasmine       Zamora"
      ]
     },
     "execution_count": 167,
     "metadata": {},
     "output_type": "execute_result"
    }
   ],
   "source": [
    "df_customers['Name'].str.split(pat=' ',n=1,expand=True).head()"
   ]
  },
  {
   "cell_type": "markdown",
   "id": "c80fb0c7",
   "metadata": {},
   "source": [
    "#### Create new columns for name and lastname"
   ]
  },
  {
   "cell_type": "code",
   "execution_count": 168,
   "id": "86b8d31a",
   "metadata": {},
   "outputs": [],
   "source": [
    "df_customers[[\"First Name\", \"Last Name\"]]= df_customers['Name'].str.split(pat=' ',n=1,expand=True)"
   ]
  },
  {
   "cell_type": "code",
   "execution_count": 169,
   "id": "18c279b8",
   "metadata": {},
   "outputs": [
    {
     "data": {
      "application/vnd.microsoft.datawrangler.viewer.v0+json": {
       "columns": [
        {
         "name": "index",
         "rawType": "int64",
         "type": "integer"
        },
        {
         "name": "Name",
         "rawType": "object",
         "type": "string"
        },
        {
         "name": "Address",
         "rawType": "object",
         "type": "string"
        },
        {
         "name": "First Name",
         "rawType": "object",
         "type": "string"
        },
        {
         "name": "Last Name",
         "rawType": "object",
         "type": "string"
        }
       ],
       "ref": "9b86af6e-81ca-4146-8ddc-4ef2ed807ee0",
       "rows": [
        [
         "0",
         "Frank Manning",
         "6461 Quinn Groves, East Matthew, New Hampshire, 16656",
         "Frank",
         "Manning"
        ],
        [
         "1",
         "Elizabeth Johnson",
         "1360 Tracey Ports Apt. 419, Kyleport, Vermont, 31924",
         "Elizabeth",
         "Johnson"
        ],
        [
         "2",
         "Donald Stephens",
         "19120 Fleming Manors, Prestonstad, Montana, 23495",
         "Donald",
         "Stephens"
        ],
        [
         "3",
         "Michael Vincent III",
         "441 Olivia Creek, Jimmymouth, Georgia, 82991",
         "Michael",
         "Vincent III"
        ],
        [
         "4",
         "Jasmine Zamora",
         "4246 Chelsey Ford Apt. 310, Karamouth, Utah, 76252",
         "Jasmine",
         "Zamora"
        ]
       ],
       "shape": {
        "columns": 4,
        "rows": 5
       }
      },
      "text/html": [
       "<div>\n",
       "<style scoped>\n",
       "    .dataframe tbody tr th:only-of-type {\n",
       "        vertical-align: middle;\n",
       "    }\n",
       "\n",
       "    .dataframe tbody tr th {\n",
       "        vertical-align: top;\n",
       "    }\n",
       "\n",
       "    .dataframe thead th {\n",
       "        text-align: right;\n",
       "    }\n",
       "</style>\n",
       "<table border=\"1\" class=\"dataframe\">\n",
       "  <thead>\n",
       "    <tr style=\"text-align: right;\">\n",
       "      <th></th>\n",
       "      <th>Name</th>\n",
       "      <th>Address</th>\n",
       "      <th>First Name</th>\n",
       "      <th>Last Name</th>\n",
       "    </tr>\n",
       "  </thead>\n",
       "  <tbody>\n",
       "    <tr>\n",
       "      <th>0</th>\n",
       "      <td>Frank Manning</td>\n",
       "      <td>6461 Quinn Groves, East Matthew, New Hampshire...</td>\n",
       "      <td>Frank</td>\n",
       "      <td>Manning</td>\n",
       "    </tr>\n",
       "    <tr>\n",
       "      <th>1</th>\n",
       "      <td>Elizabeth Johnson</td>\n",
       "      <td>1360 Tracey Ports Apt. 419, Kyleport, Vermont,...</td>\n",
       "      <td>Elizabeth</td>\n",
       "      <td>Johnson</td>\n",
       "    </tr>\n",
       "    <tr>\n",
       "      <th>2</th>\n",
       "      <td>Donald Stephens</td>\n",
       "      <td>19120 Fleming Manors, Prestonstad, Montana, 23495</td>\n",
       "      <td>Donald</td>\n",
       "      <td>Stephens</td>\n",
       "    </tr>\n",
       "    <tr>\n",
       "      <th>3</th>\n",
       "      <td>Michael Vincent III</td>\n",
       "      <td>441 Olivia Creek, Jimmymouth, Georgia, 82991</td>\n",
       "      <td>Michael</td>\n",
       "      <td>Vincent III</td>\n",
       "    </tr>\n",
       "    <tr>\n",
       "      <th>4</th>\n",
       "      <td>Jasmine Zamora</td>\n",
       "      <td>4246 Chelsey Ford Apt. 310, Karamouth, Utah, 7...</td>\n",
       "      <td>Jasmine</td>\n",
       "      <td>Zamora</td>\n",
       "    </tr>\n",
       "  </tbody>\n",
       "</table>\n",
       "</div>"
      ],
      "text/plain": [
       "                  Name                                            Address  \\\n",
       "0        Frank Manning  6461 Quinn Groves, East Matthew, New Hampshire...   \n",
       "1    Elizabeth Johnson  1360 Tracey Ports Apt. 419, Kyleport, Vermont,...   \n",
       "2      Donald Stephens  19120 Fleming Manors, Prestonstad, Montana, 23495   \n",
       "3  Michael Vincent III       441 Olivia Creek, Jimmymouth, Georgia, 82991   \n",
       "4       Jasmine Zamora  4246 Chelsey Ford Apt. 310, Karamouth, Utah, 7...   \n",
       "\n",
       "  First Name    Last Name  \n",
       "0      Frank      Manning  \n",
       "1  Elizabeth      Johnson  \n",
       "2     Donald     Stephens  \n",
       "3    Michael  Vincent III  \n",
       "4    Jasmine       Zamora  "
      ]
     },
     "execution_count": 169,
     "metadata": {},
     "output_type": "execute_result"
    }
   ],
   "source": [
    "df_customers.head()"
   ]
  },
  {
   "cell_type": "markdown",
   "id": "073f62f6",
   "metadata": {},
   "source": [
    "**Drop the extra column**"
   ]
  },
  {
   "cell_type": "code",
   "execution_count": 176,
   "id": "a11c79d5",
   "metadata": {},
   "outputs": [],
   "source": [
    "df_customers=df_customers.drop(labels='Name',axis='columns')"
   ]
  },
  {
   "cell_type": "markdown",
   "id": "e2648d79",
   "metadata": {},
   "source": [
    "**Change order of columns**"
   ]
  },
  {
   "cell_type": "code",
   "execution_count": 180,
   "id": "f67ec4c5",
   "metadata": {},
   "outputs": [
    {
     "data": {
      "application/vnd.microsoft.datawrangler.viewer.v0+json": {
       "columns": [
        {
         "name": "index",
         "rawType": "int64",
         "type": "integer"
        },
        {
         "name": "First Name",
         "rawType": "object",
         "type": "string"
        },
        {
         "name": "Last Name",
         "rawType": "object",
         "type": "string"
        },
        {
         "name": "Address",
         "rawType": "object",
         "type": "string"
        }
       ],
       "ref": "83301c1e-a2ea-4b13-a295-7ca344252f8a",
       "rows": [
        [
         "0",
         "Frank",
         "Manning",
         "6461 Quinn Groves, East Matthew, New Hampshire, 16656"
        ],
        [
         "1",
         "Elizabeth",
         "Johnson",
         "1360 Tracey Ports Apt. 419, Kyleport, Vermont, 31924"
        ],
        [
         "2",
         "Donald",
         "Stephens",
         "19120 Fleming Manors, Prestonstad, Montana, 23495"
        ],
        [
         "3",
         "Michael",
         "Vincent III",
         "441 Olivia Creek, Jimmymouth, Georgia, 82991"
        ],
        [
         "4",
         "Jasmine",
         "Zamora",
         "4246 Chelsey Ford Apt. 310, Karamouth, Utah, 76252"
        ]
       ],
       "shape": {
        "columns": 3,
        "rows": 5
       }
      },
      "text/html": [
       "<div>\n",
       "<style scoped>\n",
       "    .dataframe tbody tr th:only-of-type {\n",
       "        vertical-align: middle;\n",
       "    }\n",
       "\n",
       "    .dataframe tbody tr th {\n",
       "        vertical-align: top;\n",
       "    }\n",
       "\n",
       "    .dataframe thead th {\n",
       "        text-align: right;\n",
       "    }\n",
       "</style>\n",
       "<table border=\"1\" class=\"dataframe\">\n",
       "  <thead>\n",
       "    <tr style=\"text-align: right;\">\n",
       "      <th></th>\n",
       "      <th>First Name</th>\n",
       "      <th>Last Name</th>\n",
       "      <th>Address</th>\n",
       "    </tr>\n",
       "  </thead>\n",
       "  <tbody>\n",
       "    <tr>\n",
       "      <th>0</th>\n",
       "      <td>Frank</td>\n",
       "      <td>Manning</td>\n",
       "      <td>6461 Quinn Groves, East Matthew, New Hampshire...</td>\n",
       "    </tr>\n",
       "    <tr>\n",
       "      <th>1</th>\n",
       "      <td>Elizabeth</td>\n",
       "      <td>Johnson</td>\n",
       "      <td>1360 Tracey Ports Apt. 419, Kyleport, Vermont,...</td>\n",
       "    </tr>\n",
       "    <tr>\n",
       "      <th>2</th>\n",
       "      <td>Donald</td>\n",
       "      <td>Stephens</td>\n",
       "      <td>19120 Fleming Manors, Prestonstad, Montana, 23495</td>\n",
       "    </tr>\n",
       "    <tr>\n",
       "      <th>3</th>\n",
       "      <td>Michael</td>\n",
       "      <td>Vincent III</td>\n",
       "      <td>441 Olivia Creek, Jimmymouth, Georgia, 82991</td>\n",
       "    </tr>\n",
       "    <tr>\n",
       "      <th>4</th>\n",
       "      <td>Jasmine</td>\n",
       "      <td>Zamora</td>\n",
       "      <td>4246 Chelsey Ford Apt. 310, Karamouth, Utah, 7...</td>\n",
       "    </tr>\n",
       "  </tbody>\n",
       "</table>\n",
       "</div>"
      ],
      "text/plain": [
       "  First Name    Last Name                                            Address\n",
       "0      Frank      Manning  6461 Quinn Groves, East Matthew, New Hampshire...\n",
       "1  Elizabeth      Johnson  1360 Tracey Ports Apt. 419, Kyleport, Vermont,...\n",
       "2     Donald     Stephens  19120 Fleming Manors, Prestonstad, Montana, 23495\n",
       "3    Michael  Vincent III       441 Olivia Creek, Jimmymouth, Georgia, 82991\n",
       "4    Jasmine       Zamora  4246 Chelsey Ford Apt. 310, Karamouth, Utah, 7..."
      ]
     },
     "execution_count": 180,
     "metadata": {},
     "output_type": "execute_result"
    }
   ],
   "source": [
    "df_customers=df_customers[['First Name', 'Last Name','Address']]\n",
    "df_customers.head()"
   ]
  }
 ],
 "metadata": {
  "kernelspec": {
   "display_name": "base",
   "language": "python",
   "name": "python3"
  },
  "language_info": {
   "codemirror_mode": {
    "name": "ipython",
    "version": 3
   },
   "file_extension": ".py",
   "mimetype": "text/x-python",
   "name": "python",
   "nbconvert_exporter": "python",
   "pygments_lexer": "ipython3",
   "version": "3.12.2"
  }
 },
 "nbformat": 4,
 "nbformat_minor": 5
}
