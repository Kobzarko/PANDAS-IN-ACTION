{
 "cells": [
  {
   "cell_type": "code",
   "execution_count": 1,
   "id": "e7683139",
   "metadata": {},
   "outputs": [],
   "source": [
    "import pandas as pd"
   ]
  },
  {
   "cell_type": "code",
   "execution_count": 2,
   "id": "09593b8c",
   "metadata": {},
   "outputs": [],
   "source": [
    "inspections_path = '/Users/ypushiev/Learning/PANDAS IN ACTION/Chapter 6 Text data processing/Data/chicago_food_inspections.csv'"
   ]
  },
  {
   "cell_type": "code",
   "execution_count": 3,
   "id": "1a28153e",
   "metadata": {},
   "outputs": [],
   "source": [
    "df_inspections = pd.read_csv(inspections_path)"
   ]
  },
  {
   "cell_type": "code",
   "execution_count": 4,
   "id": "6aa01819",
   "metadata": {},
   "outputs": [
    {
     "data": {
      "text/plain": [
       "(153810, 2)"
      ]
     },
     "execution_count": 4,
     "metadata": {},
     "output_type": "execute_result"
    }
   ],
   "source": [
    "df_inspections.shape\n"
   ]
  },
  {
   "cell_type": "code",
   "execution_count": 5,
   "id": "a567a622",
   "metadata": {},
   "outputs": [
    {
     "name": "stdout",
     "output_type": "stream",
     "text": [
      "<class 'pandas.core.frame.DataFrame'>\n",
      "RangeIndex: 153810 entries, 0 to 153809\n",
      "Data columns (total 2 columns):\n",
      " #   Column  Non-Null Count   Dtype \n",
      "---  ------  --------------   ----- \n",
      " 0   Name    153810 non-null  object\n",
      " 1   Risk    153744 non-null  object\n",
      "dtypes: object(2)\n",
      "memory usage: 2.3+ MB\n"
     ]
    }
   ],
   "source": [
    "df_inspections.info()"
   ]
  },
  {
   "cell_type": "code",
   "execution_count": 6,
   "id": "c22b7f67",
   "metadata": {},
   "outputs": [
    {
     "data": {
      "application/vnd.microsoft.datawrangler.viewer.v0+json": {
       "columns": [
        {
         "name": "index",
         "rawType": "object",
         "type": "string"
        },
        {
         "name": "0",
         "rawType": "int64",
         "type": "integer"
        }
       ],
       "ref": "7e8a543c-91ba-4bef-b5eb-4af72ac35b42",
       "rows": [
        [
         "Name",
         "92553"
        ],
        [
         "Risk",
         "4"
        ]
       ],
       "shape": {
        "columns": 1,
        "rows": 2
       }
      },
      "text/plain": [
       "Name    92553\n",
       "Risk        4\n",
       "dtype: int64"
      ]
     },
     "execution_count": 6,
     "metadata": {},
     "output_type": "execute_result"
    }
   ],
   "source": [
    "df_inspections.nunique()"
   ]
  },
  {
   "cell_type": "code",
   "execution_count": 7,
   "id": "48838b14",
   "metadata": {},
   "outputs": [],
   "source": [
    "df_inspections['Risk'] = df_inspections['Risk'].astype('category')"
   ]
  },
  {
   "cell_type": "code",
   "execution_count": 8,
   "id": "11e548a5",
   "metadata": {},
   "outputs": [
    {
     "name": "stdout",
     "output_type": "stream",
     "text": [
      "<class 'pandas.core.frame.DataFrame'>\n",
      "RangeIndex: 153810 entries, 0 to 153809\n",
      "Data columns (total 2 columns):\n",
      " #   Column  Non-Null Count   Dtype   \n",
      "---  ------  --------------   -----   \n",
      " 0   Name    153810 non-null  object  \n",
      " 1   Risk    153744 non-null  category\n",
      "dtypes: category(1), object(1)\n",
      "memory usage: 1.3+ MB\n"
     ]
    }
   ],
   "source": [
    "df_inspections.info()"
   ]
  },
  {
   "cell_type": "code",
   "execution_count": 9,
   "id": "a90136ca",
   "metadata": {},
   "outputs": [
    {
     "data": {
      "application/vnd.microsoft.datawrangler.viewer.v0+json": {
       "columns": [
        {
         "name": "index",
         "rawType": "int64",
         "type": "integer"
        },
        {
         "name": "Name",
         "rawType": "object",
         "type": "string"
        },
        {
         "name": "Risk",
         "rawType": "category",
         "type": "unknown"
        }
       ],
       "ref": "fc0e23fb-6160-4fc5-9625-30db82ed8c62",
       "rows": [
        [
         "0",
         " MARRIOT MARQUIS CHICAGO   ",
         "Risk 1 (High)"
        ],
        [
         "1",
         " JETS PIZZA ",
         "Risk 2 (Medium)"
        ],
        [
         "2",
         "   ROOM 1520 ",
         "Risk 3 (Low)"
        ],
        [
         "3",
         "  MARRIOT MARQUIS CHICAGO  ",
         "Risk 1 (High)"
        ],
        [
         "4",
         " CHARTWELLS   ",
         "Risk 1 (High)"
        ]
       ],
       "shape": {
        "columns": 2,
        "rows": 5
       }
      },
      "text/html": [
       "<div>\n",
       "<style scoped>\n",
       "    .dataframe tbody tr th:only-of-type {\n",
       "        vertical-align: middle;\n",
       "    }\n",
       "\n",
       "    .dataframe tbody tr th {\n",
       "        vertical-align: top;\n",
       "    }\n",
       "\n",
       "    .dataframe thead th {\n",
       "        text-align: right;\n",
       "    }\n",
       "</style>\n",
       "<table border=\"1\" class=\"dataframe\">\n",
       "  <thead>\n",
       "    <tr style=\"text-align: right;\">\n",
       "      <th></th>\n",
       "      <th>Name</th>\n",
       "      <th>Risk</th>\n",
       "    </tr>\n",
       "  </thead>\n",
       "  <tbody>\n",
       "    <tr>\n",
       "      <th>0</th>\n",
       "      <td>MARRIOT MARQUIS CHICAGO</td>\n",
       "      <td>Risk 1 (High)</td>\n",
       "    </tr>\n",
       "    <tr>\n",
       "      <th>1</th>\n",
       "      <td>JETS PIZZA</td>\n",
       "      <td>Risk 2 (Medium)</td>\n",
       "    </tr>\n",
       "    <tr>\n",
       "      <th>2</th>\n",
       "      <td>ROOM 1520</td>\n",
       "      <td>Risk 3 (Low)</td>\n",
       "    </tr>\n",
       "    <tr>\n",
       "      <th>3</th>\n",
       "      <td>MARRIOT MARQUIS CHICAGO</td>\n",
       "      <td>Risk 1 (High)</td>\n",
       "    </tr>\n",
       "    <tr>\n",
       "      <th>4</th>\n",
       "      <td>CHARTWELLS</td>\n",
       "      <td>Risk 1 (High)</td>\n",
       "    </tr>\n",
       "  </tbody>\n",
       "</table>\n",
       "</div>"
      ],
      "text/plain": [
       "                          Name             Risk\n",
       "0   MARRIOT MARQUIS CHICAGO       Risk 1 (High)\n",
       "1                  JETS PIZZA   Risk 2 (Medium)\n",
       "2                   ROOM 1520      Risk 3 (Low)\n",
       "3    MARRIOT MARQUIS CHICAGO      Risk 1 (High)\n",
       "4                CHARTWELLS       Risk 1 (High)"
      ]
     },
     "execution_count": 9,
     "metadata": {},
     "output_type": "execute_result"
    }
   ],
   "source": [
    "df_inspections.head()"
   ]
  },
  {
   "cell_type": "markdown",
   "id": "0cfcc43e",
   "metadata": {},
   "source": [
    "### Letter Casing and Whitespace"
   ]
  },
  {
   "cell_type": "markdown",
   "id": "23cb27b1",
   "metadata": {},
   "source": [
    "**Check names for extra spaces**"
   ]
  },
  {
   "cell_type": "code",
   "execution_count": 10,
   "id": "a9f19c84",
   "metadata": {},
   "outputs": [
    {
     "data": {
      "text/plain": [
       "array([' MARRIOT MARQUIS CHICAGO   ', ' JETS PIZZA ', '   ROOM 1520 ',\n",
       "       ..., ' Cafe 608 ', \"  mr.daniel's \", '   TEMPO CAFE '],\n",
       "      dtype=object)"
      ]
     },
     "execution_count": 10,
     "metadata": {},
     "output_type": "execute_result"
    }
   ],
   "source": [
    "df_inspections['Name'].values"
   ]
  },
  {
   "cell_type": "markdown",
   "id": "c1d7e600",
   "metadata": {},
   "source": [
    "#### Remove left and right extra spaces"
   ]
  },
  {
   "cell_type": "markdown",
   "id": "5df97c26",
   "metadata": {},
   "source": [
    "**Check how many spaces we got in the Name column**"
   ]
  },
  {
   "cell_type": "code",
   "execution_count": 11,
   "id": "c4a476bd",
   "metadata": {},
   "outputs": [
    {
     "data": {
      "text/plain": [
       "153809"
      ]
     },
     "execution_count": 11,
     "metadata": {},
     "output_type": "execute_result"
    }
   ],
   "source": [
    "df_inspections['Name'].str.contains(r'^\\s+|\\s+$').sum()"
   ]
  },
  {
   "cell_type": "code",
   "execution_count": 12,
   "id": "649655e0",
   "metadata": {},
   "outputs": [],
   "source": [
    "df_inspections['Name'] = df_inspections['Name'].str.lstrip().str.rstrip()"
   ]
  },
  {
   "cell_type": "code",
   "execution_count": 13,
   "id": "6f91bba3",
   "metadata": {},
   "outputs": [
    {
     "data": {
      "text/plain": [
       "array(['MARRIOT MARQUIS CHICAGO', 'JETS PIZZA', 'ROOM 1520', ...,\n",
       "       'Cafe 608', \"mr.daniel's\", 'TEMPO CAFE'], dtype=object)"
      ]
     },
     "execution_count": 13,
     "metadata": {},
     "output_type": "execute_result"
    }
   ],
   "source": [
    "df_inspections['Name'].values"
   ]
  },
  {
   "cell_type": "code",
   "execution_count": 14,
   "id": "64dd56b3",
   "metadata": {},
   "outputs": [
    {
     "data": {
      "text/plain": [
       "0"
      ]
     },
     "execution_count": 14,
     "metadata": {},
     "output_type": "execute_result"
    }
   ],
   "source": [
    "#check Name column for extra spaces from left an right\n",
    "df_inspections['Name'].str.contains(r'^\\s+|\\s+$').sum()"
   ]
  },
  {
   "cell_type": "markdown",
   "id": "449254b8",
   "metadata": {},
   "source": [
    "**Also we can use df_inspections['Name'].str.strip() - to remove spaces from both sides**"
   ]
  },
  {
   "cell_type": "markdown",
   "id": "6a1ea235",
   "metadata": {},
   "source": [
    "#### Change first letter to uppercase"
   ]
  },
  {
   "cell_type": "markdown",
   "id": "ae6183e5",
   "metadata": {},
   "source": [
    "**str.title() method changes first letter in the each word**"
   ]
  },
  {
   "cell_type": "code",
   "execution_count": 15,
   "id": "48e14765",
   "metadata": {},
   "outputs": [],
   "source": [
    "# Change first letter to uppercase\n",
    "df_inspections['Name'] = df_inspections['Name'].str.title()"
   ]
  },
  {
   "cell_type": "code",
   "execution_count": 17,
   "id": "af2da376",
   "metadata": {},
   "outputs": [
    {
     "data": {
      "application/vnd.microsoft.datawrangler.viewer.v0+json": {
       "columns": [
        {
         "name": "index",
         "rawType": "int64",
         "type": "integer"
        },
        {
         "name": "Name",
         "rawType": "object",
         "type": "string"
        },
        {
         "name": "Risk",
         "rawType": "category",
         "type": "unknown"
        }
       ],
       "ref": "557d8975-0646-49f9-9479-d3fdafdde0e3",
       "rows": [
        [
         "0",
         "Marriot Marquis Chicago",
         "Risk 1 (High)"
        ],
        [
         "1",
         "Jets Pizza",
         "Risk 2 (Medium)"
        ],
        [
         "2",
         "Room 1520",
         "Risk 3 (Low)"
        ],
        [
         "3",
         "Marriot Marquis Chicago",
         "Risk 1 (High)"
        ],
        [
         "4",
         "Chartwells",
         "Risk 1 (High)"
        ],
        [
         "5",
         "Shrimp'S Fish Chicken",
         "Risk 2 (Medium)"
        ],
        [
         "6",
         "Art'S Drive Inn",
         "Risk 1 (High)"
        ],
        [
         "7",
         "Vincent",
         "Risk 1 (High)"
        ],
        [
         "8",
         "Captain Hooks Of Dan Ryan",
         "Risk 2 (Medium)"
        ],
        [
         "9",
         "Jibarito'S Y Mas",
         "Risk 1 (High)"
        ]
       ],
       "shape": {
        "columns": 2,
        "rows": 10
       }
      },
      "text/html": [
       "<div>\n",
       "<style scoped>\n",
       "    .dataframe tbody tr th:only-of-type {\n",
       "        vertical-align: middle;\n",
       "    }\n",
       "\n",
       "    .dataframe tbody tr th {\n",
       "        vertical-align: top;\n",
       "    }\n",
       "\n",
       "    .dataframe thead th {\n",
       "        text-align: right;\n",
       "    }\n",
       "</style>\n",
       "<table border=\"1\" class=\"dataframe\">\n",
       "  <thead>\n",
       "    <tr style=\"text-align: right;\">\n",
       "      <th></th>\n",
       "      <th>Name</th>\n",
       "      <th>Risk</th>\n",
       "    </tr>\n",
       "  </thead>\n",
       "  <tbody>\n",
       "    <tr>\n",
       "      <th>0</th>\n",
       "      <td>Marriot Marquis Chicago</td>\n",
       "      <td>Risk 1 (High)</td>\n",
       "    </tr>\n",
       "    <tr>\n",
       "      <th>1</th>\n",
       "      <td>Jets Pizza</td>\n",
       "      <td>Risk 2 (Medium)</td>\n",
       "    </tr>\n",
       "    <tr>\n",
       "      <th>2</th>\n",
       "      <td>Room 1520</td>\n",
       "      <td>Risk 3 (Low)</td>\n",
       "    </tr>\n",
       "    <tr>\n",
       "      <th>3</th>\n",
       "      <td>Marriot Marquis Chicago</td>\n",
       "      <td>Risk 1 (High)</td>\n",
       "    </tr>\n",
       "    <tr>\n",
       "      <th>4</th>\n",
       "      <td>Chartwells</td>\n",
       "      <td>Risk 1 (High)</td>\n",
       "    </tr>\n",
       "    <tr>\n",
       "      <th>5</th>\n",
       "      <td>Shrimp'S Fish Chicken</td>\n",
       "      <td>Risk 2 (Medium)</td>\n",
       "    </tr>\n",
       "    <tr>\n",
       "      <th>6</th>\n",
       "      <td>Art'S Drive Inn</td>\n",
       "      <td>Risk 1 (High)</td>\n",
       "    </tr>\n",
       "    <tr>\n",
       "      <th>7</th>\n",
       "      <td>Vincent</td>\n",
       "      <td>Risk 1 (High)</td>\n",
       "    </tr>\n",
       "    <tr>\n",
       "      <th>8</th>\n",
       "      <td>Captain Hooks Of Dan Ryan</td>\n",
       "      <td>Risk 2 (Medium)</td>\n",
       "    </tr>\n",
       "    <tr>\n",
       "      <th>9</th>\n",
       "      <td>Jibarito'S Y Mas</td>\n",
       "      <td>Risk 1 (High)</td>\n",
       "    </tr>\n",
       "  </tbody>\n",
       "</table>\n",
       "</div>"
      ],
      "text/plain": [
       "                        Name             Risk\n",
       "0    Marriot Marquis Chicago    Risk 1 (High)\n",
       "1                 Jets Pizza  Risk 2 (Medium)\n",
       "2                  Room 1520     Risk 3 (Low)\n",
       "3    Marriot Marquis Chicago    Risk 1 (High)\n",
       "4                 Chartwells    Risk 1 (High)\n",
       "5      Shrimp'S Fish Chicken  Risk 2 (Medium)\n",
       "6            Art'S Drive Inn    Risk 1 (High)\n",
       "7                    Vincent    Risk 1 (High)\n",
       "8  Captain Hooks Of Dan Ryan  Risk 2 (Medium)\n",
       "9           Jibarito'S Y Mas    Risk 1 (High)"
      ]
     },
     "execution_count": 17,
     "metadata": {},
     "output_type": "execute_result"
    }
   ],
   "source": [
    "df_inspections.head(10)"
   ]
  }
 ],
 "metadata": {
  "kernelspec": {
   "display_name": "base",
   "language": "python",
   "name": "python3"
  },
  "language_info": {
   "codemirror_mode": {
    "name": "ipython",
    "version": 3
   },
   "file_extension": ".py",
   "mimetype": "text/x-python",
   "name": "python",
   "nbconvert_exporter": "python",
   "pygments_lexer": "ipython3",
   "version": "3.12.2"
  }
 },
 "nbformat": 4,
 "nbformat_minor": 5
}
