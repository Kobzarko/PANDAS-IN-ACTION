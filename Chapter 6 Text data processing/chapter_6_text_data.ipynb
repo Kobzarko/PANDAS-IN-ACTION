{
 "cells": [
  {
   "cell_type": "code",
   "execution_count": 21,
   "id": "e7683139",
   "metadata": {},
   "outputs": [],
   "source": [
    "import pandas as pd"
   ]
  },
  {
   "cell_type": "code",
   "execution_count": 22,
   "id": "09593b8c",
   "metadata": {},
   "outputs": [],
   "source": [
    "inspections_path = '/Users/ypushiev/Learning/PANDAS IN ACTION/Chapter 6 Text data processing/Data/chicago_food_inspections.csv'"
   ]
  },
  {
   "cell_type": "code",
   "execution_count": 23,
   "id": "1a28153e",
   "metadata": {},
   "outputs": [],
   "source": [
    "df_inspections = pd.read_csv(inspections_path)"
   ]
  },
  {
   "cell_type": "code",
   "execution_count": 24,
   "id": "6aa01819",
   "metadata": {},
   "outputs": [
    {
     "data": {
      "text/plain": [
       "(153810, 2)"
      ]
     },
     "execution_count": 24,
     "metadata": {},
     "output_type": "execute_result"
    }
   ],
   "source": [
    "df_inspections.shape\n"
   ]
  },
  {
   "cell_type": "code",
   "execution_count": 25,
   "id": "a567a622",
   "metadata": {},
   "outputs": [
    {
     "name": "stdout",
     "output_type": "stream",
     "text": [
      "<class 'pandas.core.frame.DataFrame'>\n",
      "RangeIndex: 153810 entries, 0 to 153809\n",
      "Data columns (total 2 columns):\n",
      " #   Column  Non-Null Count   Dtype \n",
      "---  ------  --------------   ----- \n",
      " 0   Name    153810 non-null  object\n",
      " 1   Risk    153744 non-null  object\n",
      "dtypes: object(2)\n",
      "memory usage: 2.3+ MB\n"
     ]
    }
   ],
   "source": [
    "df_inspections.info()"
   ]
  },
  {
   "cell_type": "code",
   "execution_count": 26,
   "id": "c22b7f67",
   "metadata": {},
   "outputs": [
    {
     "data": {
      "application/vnd.microsoft.datawrangler.viewer.v0+json": {
       "columns": [
        {
         "name": "index",
         "rawType": "object",
         "type": "string"
        },
        {
         "name": "0",
         "rawType": "int64",
         "type": "integer"
        }
       ],
       "ref": "df4e7b6c-74a7-41d0-840a-86e8122f55f1",
       "rows": [
        [
         "Name",
         "92553"
        ],
        [
         "Risk",
         "4"
        ]
       ],
       "shape": {
        "columns": 1,
        "rows": 2
       }
      },
      "text/plain": [
       "Name    92553\n",
       "Risk        4\n",
       "dtype: int64"
      ]
     },
     "execution_count": 26,
     "metadata": {},
     "output_type": "execute_result"
    }
   ],
   "source": [
    "df_inspections.nunique()"
   ]
  },
  {
   "cell_type": "code",
   "execution_count": 27,
   "id": "48838b14",
   "metadata": {},
   "outputs": [],
   "source": [
    "df_inspections['Risk'] = df_inspections['Risk'].astype('category')"
   ]
  },
  {
   "cell_type": "code",
   "execution_count": 28,
   "id": "11e548a5",
   "metadata": {},
   "outputs": [
    {
     "name": "stdout",
     "output_type": "stream",
     "text": [
      "<class 'pandas.core.frame.DataFrame'>\n",
      "RangeIndex: 153810 entries, 0 to 153809\n",
      "Data columns (total 2 columns):\n",
      " #   Column  Non-Null Count   Dtype   \n",
      "---  ------  --------------   -----   \n",
      " 0   Name    153810 non-null  object  \n",
      " 1   Risk    153744 non-null  category\n",
      "dtypes: category(1), object(1)\n",
      "memory usage: 1.3+ MB\n"
     ]
    }
   ],
   "source": [
    "df_inspections.info()"
   ]
  },
  {
   "cell_type": "code",
   "execution_count": 29,
   "id": "a90136ca",
   "metadata": {},
   "outputs": [
    {
     "data": {
      "application/vnd.microsoft.datawrangler.viewer.v0+json": {
       "columns": [
        {
         "name": "index",
         "rawType": "int64",
         "type": "integer"
        },
        {
         "name": "Name",
         "rawType": "object",
         "type": "string"
        },
        {
         "name": "Risk",
         "rawType": "category",
         "type": "unknown"
        }
       ],
       "ref": "9866e977-6df3-4099-bd93-2c00c293ff8f",
       "rows": [
        [
         "0",
         " MARRIOT MARQUIS CHICAGO   ",
         "Risk 1 (High)"
        ],
        [
         "1",
         " JETS PIZZA ",
         "Risk 2 (Medium)"
        ],
        [
         "2",
         "   ROOM 1520 ",
         "Risk 3 (Low)"
        ],
        [
         "3",
         "  MARRIOT MARQUIS CHICAGO  ",
         "Risk 1 (High)"
        ],
        [
         "4",
         " CHARTWELLS   ",
         "Risk 1 (High)"
        ]
       ],
       "shape": {
        "columns": 2,
        "rows": 5
       }
      },
      "text/html": [
       "<div>\n",
       "<style scoped>\n",
       "    .dataframe tbody tr th:only-of-type {\n",
       "        vertical-align: middle;\n",
       "    }\n",
       "\n",
       "    .dataframe tbody tr th {\n",
       "        vertical-align: top;\n",
       "    }\n",
       "\n",
       "    .dataframe thead th {\n",
       "        text-align: right;\n",
       "    }\n",
       "</style>\n",
       "<table border=\"1\" class=\"dataframe\">\n",
       "  <thead>\n",
       "    <tr style=\"text-align: right;\">\n",
       "      <th></th>\n",
       "      <th>Name</th>\n",
       "      <th>Risk</th>\n",
       "    </tr>\n",
       "  </thead>\n",
       "  <tbody>\n",
       "    <tr>\n",
       "      <th>0</th>\n",
       "      <td>MARRIOT MARQUIS CHICAGO</td>\n",
       "      <td>Risk 1 (High)</td>\n",
       "    </tr>\n",
       "    <tr>\n",
       "      <th>1</th>\n",
       "      <td>JETS PIZZA</td>\n",
       "      <td>Risk 2 (Medium)</td>\n",
       "    </tr>\n",
       "    <tr>\n",
       "      <th>2</th>\n",
       "      <td>ROOM 1520</td>\n",
       "      <td>Risk 3 (Low)</td>\n",
       "    </tr>\n",
       "    <tr>\n",
       "      <th>3</th>\n",
       "      <td>MARRIOT MARQUIS CHICAGO</td>\n",
       "      <td>Risk 1 (High)</td>\n",
       "    </tr>\n",
       "    <tr>\n",
       "      <th>4</th>\n",
       "      <td>CHARTWELLS</td>\n",
       "      <td>Risk 1 (High)</td>\n",
       "    </tr>\n",
       "  </tbody>\n",
       "</table>\n",
       "</div>"
      ],
      "text/plain": [
       "                          Name             Risk\n",
       "0   MARRIOT MARQUIS CHICAGO       Risk 1 (High)\n",
       "1                  JETS PIZZA   Risk 2 (Medium)\n",
       "2                   ROOM 1520      Risk 3 (Low)\n",
       "3    MARRIOT MARQUIS CHICAGO      Risk 1 (High)\n",
       "4                CHARTWELLS       Risk 1 (High)"
      ]
     },
     "execution_count": 29,
     "metadata": {},
     "output_type": "execute_result"
    }
   ],
   "source": [
    "df_inspections.head()"
   ]
  },
  {
   "cell_type": "markdown",
   "id": "0cfcc43e",
   "metadata": {},
   "source": [
    "### Letter Casing and Whitespace"
   ]
  },
  {
   "cell_type": "markdown",
   "id": "23cb27b1",
   "metadata": {},
   "source": [
    "**Check names for extra spaces**"
   ]
  },
  {
   "cell_type": "code",
   "execution_count": 30,
   "id": "a9f19c84",
   "metadata": {},
   "outputs": [
    {
     "data": {
      "text/plain": [
       "array([' MARRIOT MARQUIS CHICAGO   ', ' JETS PIZZA ', '   ROOM 1520 ',\n",
       "       ..., ' Cafe 608 ', \"  mr.daniel's \", '   TEMPO CAFE '],\n",
       "      dtype=object)"
      ]
     },
     "execution_count": 30,
     "metadata": {},
     "output_type": "execute_result"
    }
   ],
   "source": [
    "df_inspections['Name'].values"
   ]
  },
  {
   "cell_type": "markdown",
   "id": "c1d7e600",
   "metadata": {},
   "source": [
    "#### Remove left and right extra spaces"
   ]
  },
  {
   "cell_type": "markdown",
   "id": "5df97c26",
   "metadata": {},
   "source": [
    "**Check how many spaces we got in the Name column**"
   ]
  },
  {
   "cell_type": "code",
   "execution_count": 31,
   "id": "c4a476bd",
   "metadata": {},
   "outputs": [
    {
     "data": {
      "text/plain": [
       "153809"
      ]
     },
     "execution_count": 31,
     "metadata": {},
     "output_type": "execute_result"
    }
   ],
   "source": [
    "df_inspections['Name'].str.contains(r'^\\s+|\\s+$').sum()"
   ]
  },
  {
   "cell_type": "code",
   "execution_count": 32,
   "id": "649655e0",
   "metadata": {},
   "outputs": [],
   "source": [
    "df_inspections['Name'] = df_inspections['Name'].str.lstrip().str.rstrip()"
   ]
  },
  {
   "cell_type": "code",
   "execution_count": 33,
   "id": "6f91bba3",
   "metadata": {},
   "outputs": [
    {
     "data": {
      "text/plain": [
       "array(['MARRIOT MARQUIS CHICAGO', 'JETS PIZZA', 'ROOM 1520', ...,\n",
       "       'Cafe 608', \"mr.daniel's\", 'TEMPO CAFE'], dtype=object)"
      ]
     },
     "execution_count": 33,
     "metadata": {},
     "output_type": "execute_result"
    }
   ],
   "source": [
    "df_inspections['Name'].values"
   ]
  },
  {
   "cell_type": "code",
   "execution_count": 34,
   "id": "64dd56b3",
   "metadata": {},
   "outputs": [
    {
     "data": {
      "text/plain": [
       "0"
      ]
     },
     "execution_count": 34,
     "metadata": {},
     "output_type": "execute_result"
    }
   ],
   "source": [
    "#check Name column for extra spaces from left an right\n",
    "df_inspections['Name'].str.contains(r'^\\s+|\\s+$').sum()"
   ]
  },
  {
   "cell_type": "markdown",
   "id": "449254b8",
   "metadata": {},
   "source": [
    "**Also we can use df_inspections['Name'].str.strip() - to remove spaces from both sides**"
   ]
  },
  {
   "cell_type": "markdown",
   "id": "6a1ea235",
   "metadata": {},
   "source": [
    "#### Change first letter to uppercase"
   ]
  },
  {
   "cell_type": "markdown",
   "id": "ae6183e5",
   "metadata": {},
   "source": [
    "**str.title() method changes first letter in the each word**"
   ]
  },
  {
   "cell_type": "code",
   "execution_count": 35,
   "id": "48e14765",
   "metadata": {},
   "outputs": [],
   "source": [
    "# Change first letter to uppercase\n",
    "df_inspections['Name'] = df_inspections['Name'].str.title()"
   ]
  },
  {
   "cell_type": "code",
   "execution_count": 36,
   "id": "af2da376",
   "metadata": {},
   "outputs": [
    {
     "data": {
      "application/vnd.microsoft.datawrangler.viewer.v0+json": {
       "columns": [
        {
         "name": "index",
         "rawType": "int64",
         "type": "integer"
        },
        {
         "name": "Name",
         "rawType": "object",
         "type": "string"
        },
        {
         "name": "Risk",
         "rawType": "category",
         "type": "unknown"
        }
       ],
       "ref": "67a971dd-8d21-470f-ab86-dbbda3347555",
       "rows": [
        [
         "0",
         "Marriot Marquis Chicago",
         "Risk 1 (High)"
        ],
        [
         "1",
         "Jets Pizza",
         "Risk 2 (Medium)"
        ],
        [
         "2",
         "Room 1520",
         "Risk 3 (Low)"
        ],
        [
         "3",
         "Marriot Marquis Chicago",
         "Risk 1 (High)"
        ],
        [
         "4",
         "Chartwells",
         "Risk 1 (High)"
        ],
        [
         "5",
         "Shrimp'S Fish Chicken",
         "Risk 2 (Medium)"
        ],
        [
         "6",
         "Art'S Drive Inn",
         "Risk 1 (High)"
        ],
        [
         "7",
         "Vincent",
         "Risk 1 (High)"
        ],
        [
         "8",
         "Captain Hooks Of Dan Ryan",
         "Risk 2 (Medium)"
        ],
        [
         "9",
         "Jibarito'S Y Mas",
         "Risk 1 (High)"
        ]
       ],
       "shape": {
        "columns": 2,
        "rows": 10
       }
      },
      "text/html": [
       "<div>\n",
       "<style scoped>\n",
       "    .dataframe tbody tr th:only-of-type {\n",
       "        vertical-align: middle;\n",
       "    }\n",
       "\n",
       "    .dataframe tbody tr th {\n",
       "        vertical-align: top;\n",
       "    }\n",
       "\n",
       "    .dataframe thead th {\n",
       "        text-align: right;\n",
       "    }\n",
       "</style>\n",
       "<table border=\"1\" class=\"dataframe\">\n",
       "  <thead>\n",
       "    <tr style=\"text-align: right;\">\n",
       "      <th></th>\n",
       "      <th>Name</th>\n",
       "      <th>Risk</th>\n",
       "    </tr>\n",
       "  </thead>\n",
       "  <tbody>\n",
       "    <tr>\n",
       "      <th>0</th>\n",
       "      <td>Marriot Marquis Chicago</td>\n",
       "      <td>Risk 1 (High)</td>\n",
       "    </tr>\n",
       "    <tr>\n",
       "      <th>1</th>\n",
       "      <td>Jets Pizza</td>\n",
       "      <td>Risk 2 (Medium)</td>\n",
       "    </tr>\n",
       "    <tr>\n",
       "      <th>2</th>\n",
       "      <td>Room 1520</td>\n",
       "      <td>Risk 3 (Low)</td>\n",
       "    </tr>\n",
       "    <tr>\n",
       "      <th>3</th>\n",
       "      <td>Marriot Marquis Chicago</td>\n",
       "      <td>Risk 1 (High)</td>\n",
       "    </tr>\n",
       "    <tr>\n",
       "      <th>4</th>\n",
       "      <td>Chartwells</td>\n",
       "      <td>Risk 1 (High)</td>\n",
       "    </tr>\n",
       "    <tr>\n",
       "      <th>5</th>\n",
       "      <td>Shrimp'S Fish Chicken</td>\n",
       "      <td>Risk 2 (Medium)</td>\n",
       "    </tr>\n",
       "    <tr>\n",
       "      <th>6</th>\n",
       "      <td>Art'S Drive Inn</td>\n",
       "      <td>Risk 1 (High)</td>\n",
       "    </tr>\n",
       "    <tr>\n",
       "      <th>7</th>\n",
       "      <td>Vincent</td>\n",
       "      <td>Risk 1 (High)</td>\n",
       "    </tr>\n",
       "    <tr>\n",
       "      <th>8</th>\n",
       "      <td>Captain Hooks Of Dan Ryan</td>\n",
       "      <td>Risk 2 (Medium)</td>\n",
       "    </tr>\n",
       "    <tr>\n",
       "      <th>9</th>\n",
       "      <td>Jibarito'S Y Mas</td>\n",
       "      <td>Risk 1 (High)</td>\n",
       "    </tr>\n",
       "  </tbody>\n",
       "</table>\n",
       "</div>"
      ],
      "text/plain": [
       "                        Name             Risk\n",
       "0    Marriot Marquis Chicago    Risk 1 (High)\n",
       "1                 Jets Pizza  Risk 2 (Medium)\n",
       "2                  Room 1520     Risk 3 (Low)\n",
       "3    Marriot Marquis Chicago    Risk 1 (High)\n",
       "4                 Chartwells    Risk 1 (High)\n",
       "5      Shrimp'S Fish Chicken  Risk 2 (Medium)\n",
       "6            Art'S Drive Inn    Risk 1 (High)\n",
       "7                    Vincent    Risk 1 (High)\n",
       "8  Captain Hooks Of Dan Ryan  Risk 2 (Medium)\n",
       "9           Jibarito'S Y Mas    Risk 1 (High)"
      ]
     },
     "execution_count": 36,
     "metadata": {},
     "output_type": "execute_result"
    }
   ],
   "source": [
    "df_inspections.head(10)"
   ]
  },
  {
   "cell_type": "markdown",
   "id": "e1f96a7c",
   "metadata": {},
   "source": [
    "### String Slicing"
   ]
  },
  {
   "cell_type": "code",
   "execution_count": 37,
   "id": "68a99bf6",
   "metadata": {},
   "outputs": [
    {
     "data": {
      "application/vnd.microsoft.datawrangler.viewer.v0+json": {
       "columns": [
        {
         "name": "index",
         "rawType": "int64",
         "type": "integer"
        },
        {
         "name": "Risk",
         "rawType": "category",
         "type": "unknown"
        }
       ],
       "ref": "b11869d6-a4ab-45be-8244-5f0006473948",
       "rows": [
        [
         "0",
         "Risk 1 (High)"
        ],
        [
         "1",
         "Risk 2 (Medium)"
        ],
        [
         "2",
         "Risk 3 (Low)"
        ],
        [
         "3",
         "Risk 1 (High)"
        ],
        [
         "4",
         "Risk 1 (High)"
        ]
       ],
       "shape": {
        "columns": 1,
        "rows": 5
       }
      },
      "text/plain": [
       "0      Risk 1 (High)\n",
       "1    Risk 2 (Medium)\n",
       "2       Risk 3 (Low)\n",
       "3      Risk 1 (High)\n",
       "4      Risk 1 (High)\n",
       "Name: Risk, dtype: category\n",
       "Categories (4, object): ['All', 'Risk 1 (High)', 'Risk 2 (Medium)', 'Risk 3 (Low)']"
      ]
     },
     "execution_count": 37,
     "metadata": {},
     "output_type": "execute_result"
    }
   ],
   "source": [
    "df_inspections[\"Risk\"].head()"
   ]
  },
  {
   "cell_type": "markdown",
   "id": "c9bf1c0d",
   "metadata": {},
   "source": [
    "**Cut the number of symbols from each row in the column Risk**"
   ]
  },
  {
   "cell_type": "code",
   "execution_count": 38,
   "id": "90481f0c",
   "metadata": {},
   "outputs": [
    {
     "data": {
      "application/vnd.microsoft.datawrangler.viewer.v0+json": {
       "columns": [
        {
         "name": "index",
         "rawType": "int64",
         "type": "integer"
        },
        {
         "name": "Risk",
         "rawType": "object",
         "type": "string"
        }
       ],
       "ref": "3f2e160f-1aa6-4daf-aac2-acf956ad5116",
       "rows": [
        [
         "0",
         "1"
        ],
        [
         "1",
         "2"
        ],
        [
         "2",
         "3"
        ],
        [
         "3",
         "1"
        ],
        [
         "4",
         "1"
        ]
       ],
       "shape": {
        "columns": 1,
        "rows": 5
       }
      },
      "text/plain": [
       "0    1\n",
       "1    2\n",
       "2    3\n",
       "3    1\n",
       "4    1\n",
       "Name: Risk, dtype: object"
      ]
     },
     "execution_count": 38,
     "metadata": {},
     "output_type": "execute_result"
    }
   ],
   "source": [
    "df_inspections[\"Risk\"].str.slice(5, 6).head()"
   ]
  },
  {
   "cell_type": "markdown",
   "id": "8dc49640",
   "metadata": {},
   "source": [
    "**Next code returns the same result**"
   ]
  },
  {
   "cell_type": "code",
   "execution_count": 41,
   "id": "9e306e6f",
   "metadata": {},
   "outputs": [
    {
     "data": {
      "application/vnd.microsoft.datawrangler.viewer.v0+json": {
       "columns": [
        {
         "name": "index",
         "rawType": "int64",
         "type": "integer"
        },
        {
         "name": "Risk",
         "rawType": "object",
         "type": "string"
        }
       ],
       "ref": "cb4930c2-edcc-47a6-af10-2546cea4c8d0",
       "rows": [
        [
         "0",
         "1"
        ],
        [
         "1",
         "2"
        ],
        [
         "2",
         "3"
        ],
        [
         "3",
         "1"
        ],
        [
         "4",
         "1"
        ]
       ],
       "shape": {
        "columns": 1,
        "rows": 5
       }
      },
      "text/plain": [
       "0    1\n",
       "1    2\n",
       "2    3\n",
       "3    1\n",
       "4    1\n",
       "Name: Risk, dtype: object"
      ]
     },
     "execution_count": 41,
     "metadata": {},
     "output_type": "execute_result"
    }
   ],
   "source": [
    "df_inspections[\"Risk\"].str[5:6].head()"
   ]
  },
  {
   "cell_type": "markdown",
   "id": "5f32bd9c",
   "metadata": {},
   "source": [
    "#### Retrieve the type of Rysk from each column"
   ]
  },
  {
   "cell_type": "code",
   "execution_count": 44,
   "id": "46a51d18",
   "metadata": {},
   "outputs": [
    {
     "data": {
      "application/vnd.microsoft.datawrangler.viewer.v0+json": {
       "columns": [
        {
         "name": "index",
         "rawType": "int64",
         "type": "integer"
        },
        {
         "name": "Risk",
         "rawType": "category",
         "type": "unknown"
        }
       ],
       "ref": "eee31497-c104-4bb2-b5f4-14ea5d36ca2e",
       "rows": [
        [
         "0",
         "Risk 1 (High)"
        ],
        [
         "1",
         "Risk 2 (Medium)"
        ],
        [
         "2",
         "Risk 3 (Low)"
        ],
        [
         "3",
         "Risk 1 (High)"
        ],
        [
         "4",
         "Risk 1 (High)"
        ]
       ],
       "shape": {
        "columns": 1,
        "rows": 5
       }
      },
      "text/plain": [
       "0      Risk 1 (High)\n",
       "1    Risk 2 (Medium)\n",
       "2       Risk 3 (Low)\n",
       "3      Risk 1 (High)\n",
       "4      Risk 1 (High)\n",
       "Name: Risk, dtype: category\n",
       "Categories (4, object): ['All', 'Risk 1 (High)', 'Risk 2 (Medium)', 'Risk 3 (Low)']"
      ]
     },
     "execution_count": 44,
     "metadata": {},
     "output_type": "execute_result"
    }
   ],
   "source": [
    "df_inspections[\"Risk\"].head()"
   ]
  },
  {
   "cell_type": "markdown",
   "id": "3350b6f8",
   "metadata": {},
   "source": [
    "**Example 1**"
   ]
  },
  {
   "cell_type": "code",
   "execution_count": 43,
   "id": "9d14ef65",
   "metadata": {},
   "outputs": [
    {
     "data": {
      "application/vnd.microsoft.datawrangler.viewer.v0+json": {
       "columns": [
        {
         "name": "index",
         "rawType": "int64",
         "type": "integer"
        },
        {
         "name": "Risk",
         "rawType": "object",
         "type": "string"
        }
       ],
       "ref": "c71eb2ac-96ea-47f6-a08c-680961133de9",
       "rows": [
        [
         "0",
         "High"
        ],
        [
         "1",
         "Medium"
        ],
        [
         "2",
         "Low"
        ],
        [
         "3",
         "High"
        ],
        [
         "4",
         "High"
        ]
       ],
       "shape": {
        "columns": 1,
        "rows": 5
       }
      },
      "text/plain": [
       "0      High\n",
       "1    Medium\n",
       "2       Low\n",
       "3      High\n",
       "4      High\n",
       "Name: Risk, dtype: object"
      ]
     },
     "execution_count": 43,
     "metadata": {},
     "output_type": "execute_result"
    }
   ],
   "source": [
    "df_inspections[\"Risk\"].str[8:-1].head()"
   ]
  },
  {
   "cell_type": "markdown",
   "id": "76371dda",
   "metadata": {},
   "source": [
    "**Example 2**"
   ]
  },
  {
   "cell_type": "code",
   "execution_count": 46,
   "id": "9998688f",
   "metadata": {},
   "outputs": [
    {
     "data": {
      "application/vnd.microsoft.datawrangler.viewer.v0+json": {
       "columns": [
        {
         "name": "index",
         "rawType": "int64",
         "type": "integer"
        },
        {
         "name": "Risk",
         "rawType": "object",
         "type": "string"
        }
       ],
       "ref": "f0d608d5-472b-4684-8c81-5de8388f3d5e",
       "rows": [
        [
         "0",
         "High"
        ],
        [
         "1",
         "Medium"
        ],
        [
         "2",
         "Low"
        ],
        [
         "3",
         "High"
        ],
        [
         "4",
         "High"
        ]
       ],
       "shape": {
        "columns": 1,
        "rows": 5
       }
      },
      "text/plain": [
       "0      High\n",
       "1    Medium\n",
       "2       Low\n",
       "3      High\n",
       "4      High\n",
       "Name: Risk, dtype: object"
      ]
     },
     "execution_count": 46,
     "metadata": {},
     "output_type": "execute_result"
    }
   ],
   "source": [
    "df_inspections[\"Risk\"].str.slice(8, -1).head()"
   ]
  },
  {
   "cell_type": "markdown",
   "id": "aea30ab4",
   "metadata": {},
   "source": [
    "**Example 3**"
   ]
  },
  {
   "cell_type": "code",
   "execution_count": 47,
   "id": "0867b547",
   "metadata": {},
   "outputs": [
    {
     "data": {
      "application/vnd.microsoft.datawrangler.viewer.v0+json": {
       "columns": [
        {
         "name": "index",
         "rawType": "int64",
         "type": "integer"
        },
        {
         "name": "Risk",
         "rawType": "object",
         "type": "string"
        }
       ],
       "ref": "771c88be-dec6-4b7c-aa24-edee97693510",
       "rows": [
        [
         "0",
         "High"
        ],
        [
         "1",
         "Medium"
        ],
        [
         "2",
         "Low"
        ],
        [
         "3",
         "High"
        ],
        [
         "4",
         "High"
        ]
       ],
       "shape": {
        "columns": 1,
        "rows": 5
       }
      },
      "text/plain": [
       "0      High\n",
       "1    Medium\n",
       "2       Low\n",
       "3      High\n",
       "4      High\n",
       "Name: Risk, dtype: object"
      ]
     },
     "execution_count": 47,
     "metadata": {},
     "output_type": "execute_result"
    }
   ],
   "source": [
    "df_inspections[\"Risk\"].str.slice(8).str.rstrip(\")\").head()"
   ]
  },
  {
   "cell_type": "markdown",
   "id": "802236f1",
   "metadata": {},
   "source": [
    "**Example 4**"
   ]
  },
  {
   "cell_type": "code",
   "execution_count": 48,
   "id": "a2f8bc4e",
   "metadata": {},
   "outputs": [
    {
     "data": {
      "application/vnd.microsoft.datawrangler.viewer.v0+json": {
       "columns": [
        {
         "name": "index",
         "rawType": "int64",
         "type": "integer"
        },
        {
         "name": "Risk",
         "rawType": "object",
         "type": "string"
        }
       ],
       "ref": "e92f92a7-5269-483f-a084-c57cba955a50",
       "rows": [
        [
         "0",
         "High"
        ],
        [
         "1",
         "Medium"
        ],
        [
         "2",
         "Low"
        ],
        [
         "3",
         "High"
        ],
        [
         "4",
         "High"
        ]
       ],
       "shape": {
        "columns": 1,
        "rows": 5
       }
      },
      "text/plain": [
       "0      High\n",
       "1    Medium\n",
       "2       Low\n",
       "3      High\n",
       "4      High\n",
       "Name: Risk, dtype: object"
      ]
     },
     "execution_count": 48,
     "metadata": {},
     "output_type": "execute_result"
    }
   ],
   "source": [
    "df_inspections[\"Risk\"].str.slice(8).str.replace(\")\", \"\").head()"
   ]
  }
 ],
 "metadata": {
  "kernelspec": {
   "display_name": "base",
   "language": "python",
   "name": "python3"
  },
  "language_info": {
   "codemirror_mode": {
    "name": "ipython",
    "version": 3
   },
   "file_extension": ".py",
   "mimetype": "text/x-python",
   "name": "python",
   "nbconvert_exporter": "python",
   "pygments_lexer": "ipython3",
   "version": "3.12.2"
  }
 },
 "nbformat": 4,
 "nbformat_minor": 5
}
