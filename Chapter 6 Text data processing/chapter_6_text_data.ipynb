{
 "cells": [
  {
   "cell_type": "code",
   "execution_count": 187,
   "id": "e7683139",
   "metadata": {},
   "outputs": [],
   "source": [
    "import pandas as pd"
   ]
  },
  {
   "cell_type": "code",
   "execution_count": 188,
   "id": "09593b8c",
   "metadata": {},
   "outputs": [],
   "source": [
    "inspections_path = '/Users/ypushiev/Learning/PANDAS IN ACTION/Chapter 6 Text data processing/Data/chicago_food_inspections.csv'"
   ]
  },
  {
   "cell_type": "code",
   "execution_count": 189,
   "id": "1a28153e",
   "metadata": {},
   "outputs": [],
   "source": [
    "df_inspections = pd.read_csv(inspections_path)"
   ]
  },
  {
   "cell_type": "code",
   "execution_count": 190,
   "id": "6aa01819",
   "metadata": {},
   "outputs": [
    {
     "data": {
      "text/plain": [
       "(153810, 2)"
      ]
     },
     "execution_count": 190,
     "metadata": {},
     "output_type": "execute_result"
    }
   ],
   "source": [
    "df_inspections.shape\n"
   ]
  },
  {
   "cell_type": "code",
   "execution_count": 191,
   "id": "a567a622",
   "metadata": {},
   "outputs": [
    {
     "name": "stdout",
     "output_type": "stream",
     "text": [
      "<class 'pandas.core.frame.DataFrame'>\n",
      "RangeIndex: 153810 entries, 0 to 153809\n",
      "Data columns (total 2 columns):\n",
      " #   Column  Non-Null Count   Dtype \n",
      "---  ------  --------------   ----- \n",
      " 0   Name    153810 non-null  object\n",
      " 1   Risk    153744 non-null  object\n",
      "dtypes: object(2)\n",
      "memory usage: 2.3+ MB\n"
     ]
    }
   ],
   "source": [
    "df_inspections.info()"
   ]
  },
  {
   "cell_type": "code",
   "execution_count": 192,
   "id": "c22b7f67",
   "metadata": {},
   "outputs": [
    {
     "data": {
      "application/vnd.microsoft.datawrangler.viewer.v0+json": {
       "columns": [
        {
         "name": "index",
         "rawType": "object",
         "type": "string"
        },
        {
         "name": "0",
         "rawType": "int64",
         "type": "integer"
        }
       ],
       "ref": "d8c94946-4943-4745-9b94-6729fafcd57e",
       "rows": [
        [
         "Name",
         "92553"
        ],
        [
         "Risk",
         "4"
        ]
       ],
       "shape": {
        "columns": 1,
        "rows": 2
       }
      },
      "text/plain": [
       "Name    92553\n",
       "Risk        4\n",
       "dtype: int64"
      ]
     },
     "execution_count": 192,
     "metadata": {},
     "output_type": "execute_result"
    }
   ],
   "source": [
    "df_inspections.nunique()"
   ]
  },
  {
   "cell_type": "code",
   "execution_count": 193,
   "id": "48838b14",
   "metadata": {},
   "outputs": [],
   "source": [
    "df_inspections['Risk'] = df_inspections['Risk'].astype('category')"
   ]
  },
  {
   "cell_type": "code",
   "execution_count": 194,
   "id": "11e548a5",
   "metadata": {},
   "outputs": [
    {
     "name": "stdout",
     "output_type": "stream",
     "text": [
      "<class 'pandas.core.frame.DataFrame'>\n",
      "RangeIndex: 153810 entries, 0 to 153809\n",
      "Data columns (total 2 columns):\n",
      " #   Column  Non-Null Count   Dtype   \n",
      "---  ------  --------------   -----   \n",
      " 0   Name    153810 non-null  object  \n",
      " 1   Risk    153744 non-null  category\n",
      "dtypes: category(1), object(1)\n",
      "memory usage: 1.3+ MB\n"
     ]
    }
   ],
   "source": [
    "df_inspections.info()"
   ]
  },
  {
   "cell_type": "code",
   "execution_count": 195,
   "id": "a90136ca",
   "metadata": {},
   "outputs": [
    {
     "data": {
      "application/vnd.microsoft.datawrangler.viewer.v0+json": {
       "columns": [
        {
         "name": "index",
         "rawType": "int64",
         "type": "integer"
        },
        {
         "name": "Name",
         "rawType": "object",
         "type": "string"
        },
        {
         "name": "Risk",
         "rawType": "category",
         "type": "unknown"
        }
       ],
       "ref": "925f1d7e-dbe3-4896-8d50-007687201d81",
       "rows": [
        [
         "0",
         " MARRIOT MARQUIS CHICAGO   ",
         "Risk 1 (High)"
        ],
        [
         "1",
         " JETS PIZZA ",
         "Risk 2 (Medium)"
        ],
        [
         "2",
         "   ROOM 1520 ",
         "Risk 3 (Low)"
        ],
        [
         "3",
         "  MARRIOT MARQUIS CHICAGO  ",
         "Risk 1 (High)"
        ],
        [
         "4",
         " CHARTWELLS   ",
         "Risk 1 (High)"
        ]
       ],
       "shape": {
        "columns": 2,
        "rows": 5
       }
      },
      "text/html": [
       "<div>\n",
       "<style scoped>\n",
       "    .dataframe tbody tr th:only-of-type {\n",
       "        vertical-align: middle;\n",
       "    }\n",
       "\n",
       "    .dataframe tbody tr th {\n",
       "        vertical-align: top;\n",
       "    }\n",
       "\n",
       "    .dataframe thead th {\n",
       "        text-align: right;\n",
       "    }\n",
       "</style>\n",
       "<table border=\"1\" class=\"dataframe\">\n",
       "  <thead>\n",
       "    <tr style=\"text-align: right;\">\n",
       "      <th></th>\n",
       "      <th>Name</th>\n",
       "      <th>Risk</th>\n",
       "    </tr>\n",
       "  </thead>\n",
       "  <tbody>\n",
       "    <tr>\n",
       "      <th>0</th>\n",
       "      <td>MARRIOT MARQUIS CHICAGO</td>\n",
       "      <td>Risk 1 (High)</td>\n",
       "    </tr>\n",
       "    <tr>\n",
       "      <th>1</th>\n",
       "      <td>JETS PIZZA</td>\n",
       "      <td>Risk 2 (Medium)</td>\n",
       "    </tr>\n",
       "    <tr>\n",
       "      <th>2</th>\n",
       "      <td>ROOM 1520</td>\n",
       "      <td>Risk 3 (Low)</td>\n",
       "    </tr>\n",
       "    <tr>\n",
       "      <th>3</th>\n",
       "      <td>MARRIOT MARQUIS CHICAGO</td>\n",
       "      <td>Risk 1 (High)</td>\n",
       "    </tr>\n",
       "    <tr>\n",
       "      <th>4</th>\n",
       "      <td>CHARTWELLS</td>\n",
       "      <td>Risk 1 (High)</td>\n",
       "    </tr>\n",
       "  </tbody>\n",
       "</table>\n",
       "</div>"
      ],
      "text/plain": [
       "                          Name             Risk\n",
       "0   MARRIOT MARQUIS CHICAGO       Risk 1 (High)\n",
       "1                  JETS PIZZA   Risk 2 (Medium)\n",
       "2                   ROOM 1520      Risk 3 (Low)\n",
       "3    MARRIOT MARQUIS CHICAGO      Risk 1 (High)\n",
       "4                CHARTWELLS       Risk 1 (High)"
      ]
     },
     "execution_count": 195,
     "metadata": {},
     "output_type": "execute_result"
    }
   ],
   "source": [
    "df_inspections.head()"
   ]
  },
  {
   "cell_type": "markdown",
   "id": "0cfcc43e",
   "metadata": {},
   "source": [
    "### Letter Casing and Whitespace"
   ]
  },
  {
   "cell_type": "markdown",
   "id": "23cb27b1",
   "metadata": {},
   "source": [
    "**Check names for extra spaces**"
   ]
  },
  {
   "cell_type": "code",
   "execution_count": 196,
   "id": "a9f19c84",
   "metadata": {},
   "outputs": [
    {
     "data": {
      "text/plain": [
       "array([' MARRIOT MARQUIS CHICAGO   ', ' JETS PIZZA ', '   ROOM 1520 ',\n",
       "       ..., ' Cafe 608 ', \"  mr.daniel's \", '   TEMPO CAFE '],\n",
       "      dtype=object)"
      ]
     },
     "execution_count": 196,
     "metadata": {},
     "output_type": "execute_result"
    }
   ],
   "source": [
    "df_inspections['Name'].values"
   ]
  },
  {
   "cell_type": "markdown",
   "id": "c1d7e600",
   "metadata": {},
   "source": [
    "#### Remove left and right extra spaces"
   ]
  },
  {
   "cell_type": "markdown",
   "id": "5df97c26",
   "metadata": {},
   "source": [
    "**Check how many spaces we got in the Name column**"
   ]
  },
  {
   "cell_type": "code",
   "execution_count": 197,
   "id": "c4a476bd",
   "metadata": {},
   "outputs": [
    {
     "data": {
      "text/plain": [
       "153809"
      ]
     },
     "execution_count": 197,
     "metadata": {},
     "output_type": "execute_result"
    }
   ],
   "source": [
    "df_inspections['Name'].str.contains(r'^\\s+|\\s+$').sum()"
   ]
  },
  {
   "cell_type": "code",
   "execution_count": 198,
   "id": "649655e0",
   "metadata": {},
   "outputs": [],
   "source": [
    "df_inspections['Name'] = df_inspections['Name'].str.lstrip().str.rstrip()"
   ]
  },
  {
   "cell_type": "code",
   "execution_count": 199,
   "id": "6f91bba3",
   "metadata": {},
   "outputs": [
    {
     "data": {
      "text/plain": [
       "array(['MARRIOT MARQUIS CHICAGO', 'JETS PIZZA', 'ROOM 1520', ...,\n",
       "       'Cafe 608', \"mr.daniel's\", 'TEMPO CAFE'], dtype=object)"
      ]
     },
     "execution_count": 199,
     "metadata": {},
     "output_type": "execute_result"
    }
   ],
   "source": [
    "df_inspections['Name'].values"
   ]
  },
  {
   "cell_type": "code",
   "execution_count": 200,
   "id": "64dd56b3",
   "metadata": {},
   "outputs": [
    {
     "data": {
      "text/plain": [
       "0"
      ]
     },
     "execution_count": 200,
     "metadata": {},
     "output_type": "execute_result"
    }
   ],
   "source": [
    "#check Name column for extra spaces from left an right\n",
    "df_inspections['Name'].str.contains(r'^\\s+|\\s+$').sum()"
   ]
  },
  {
   "cell_type": "markdown",
   "id": "449254b8",
   "metadata": {},
   "source": [
    "**Also we can use df_inspections['Name'].str.strip() - to remove spaces from both sides**"
   ]
  },
  {
   "cell_type": "markdown",
   "id": "6a1ea235",
   "metadata": {},
   "source": [
    "#### Change first letter to uppercase"
   ]
  },
  {
   "cell_type": "markdown",
   "id": "ae6183e5",
   "metadata": {},
   "source": [
    "**str.title() method changes first letter in the each word**"
   ]
  },
  {
   "cell_type": "code",
   "execution_count": 201,
   "id": "48e14765",
   "metadata": {},
   "outputs": [],
   "source": [
    "# Change first letter to uppercase\n",
    "df_inspections['Name'] = df_inspections['Name'].str.title()"
   ]
  },
  {
   "cell_type": "code",
   "execution_count": 202,
   "id": "af2da376",
   "metadata": {},
   "outputs": [
    {
     "data": {
      "application/vnd.microsoft.datawrangler.viewer.v0+json": {
       "columns": [
        {
         "name": "index",
         "rawType": "int64",
         "type": "integer"
        },
        {
         "name": "Name",
         "rawType": "object",
         "type": "string"
        },
        {
         "name": "Risk",
         "rawType": "category",
         "type": "unknown"
        }
       ],
       "ref": "63948a78-6b7c-4591-a3a7-dc0d44b7027a",
       "rows": [
        [
         "0",
         "Marriot Marquis Chicago",
         "Risk 1 (High)"
        ],
        [
         "1",
         "Jets Pizza",
         "Risk 2 (Medium)"
        ],
        [
         "2",
         "Room 1520",
         "Risk 3 (Low)"
        ],
        [
         "3",
         "Marriot Marquis Chicago",
         "Risk 1 (High)"
        ],
        [
         "4",
         "Chartwells",
         "Risk 1 (High)"
        ],
        [
         "5",
         "Shrimp'S Fish Chicken",
         "Risk 2 (Medium)"
        ],
        [
         "6",
         "Art'S Drive Inn",
         "Risk 1 (High)"
        ],
        [
         "7",
         "Vincent",
         "Risk 1 (High)"
        ],
        [
         "8",
         "Captain Hooks Of Dan Ryan",
         "Risk 2 (Medium)"
        ],
        [
         "9",
         "Jibarito'S Y Mas",
         "Risk 1 (High)"
        ]
       ],
       "shape": {
        "columns": 2,
        "rows": 10
       }
      },
      "text/html": [
       "<div>\n",
       "<style scoped>\n",
       "    .dataframe tbody tr th:only-of-type {\n",
       "        vertical-align: middle;\n",
       "    }\n",
       "\n",
       "    .dataframe tbody tr th {\n",
       "        vertical-align: top;\n",
       "    }\n",
       "\n",
       "    .dataframe thead th {\n",
       "        text-align: right;\n",
       "    }\n",
       "</style>\n",
       "<table border=\"1\" class=\"dataframe\">\n",
       "  <thead>\n",
       "    <tr style=\"text-align: right;\">\n",
       "      <th></th>\n",
       "      <th>Name</th>\n",
       "      <th>Risk</th>\n",
       "    </tr>\n",
       "  </thead>\n",
       "  <tbody>\n",
       "    <tr>\n",
       "      <th>0</th>\n",
       "      <td>Marriot Marquis Chicago</td>\n",
       "      <td>Risk 1 (High)</td>\n",
       "    </tr>\n",
       "    <tr>\n",
       "      <th>1</th>\n",
       "      <td>Jets Pizza</td>\n",
       "      <td>Risk 2 (Medium)</td>\n",
       "    </tr>\n",
       "    <tr>\n",
       "      <th>2</th>\n",
       "      <td>Room 1520</td>\n",
       "      <td>Risk 3 (Low)</td>\n",
       "    </tr>\n",
       "    <tr>\n",
       "      <th>3</th>\n",
       "      <td>Marriot Marquis Chicago</td>\n",
       "      <td>Risk 1 (High)</td>\n",
       "    </tr>\n",
       "    <tr>\n",
       "      <th>4</th>\n",
       "      <td>Chartwells</td>\n",
       "      <td>Risk 1 (High)</td>\n",
       "    </tr>\n",
       "    <tr>\n",
       "      <th>5</th>\n",
       "      <td>Shrimp'S Fish Chicken</td>\n",
       "      <td>Risk 2 (Medium)</td>\n",
       "    </tr>\n",
       "    <tr>\n",
       "      <th>6</th>\n",
       "      <td>Art'S Drive Inn</td>\n",
       "      <td>Risk 1 (High)</td>\n",
       "    </tr>\n",
       "    <tr>\n",
       "      <th>7</th>\n",
       "      <td>Vincent</td>\n",
       "      <td>Risk 1 (High)</td>\n",
       "    </tr>\n",
       "    <tr>\n",
       "      <th>8</th>\n",
       "      <td>Captain Hooks Of Dan Ryan</td>\n",
       "      <td>Risk 2 (Medium)</td>\n",
       "    </tr>\n",
       "    <tr>\n",
       "      <th>9</th>\n",
       "      <td>Jibarito'S Y Mas</td>\n",
       "      <td>Risk 1 (High)</td>\n",
       "    </tr>\n",
       "  </tbody>\n",
       "</table>\n",
       "</div>"
      ],
      "text/plain": [
       "                        Name             Risk\n",
       "0    Marriot Marquis Chicago    Risk 1 (High)\n",
       "1                 Jets Pizza  Risk 2 (Medium)\n",
       "2                  Room 1520     Risk 3 (Low)\n",
       "3    Marriot Marquis Chicago    Risk 1 (High)\n",
       "4                 Chartwells    Risk 1 (High)\n",
       "5      Shrimp'S Fish Chicken  Risk 2 (Medium)\n",
       "6            Art'S Drive Inn    Risk 1 (High)\n",
       "7                    Vincent    Risk 1 (High)\n",
       "8  Captain Hooks Of Dan Ryan  Risk 2 (Medium)\n",
       "9           Jibarito'S Y Mas    Risk 1 (High)"
      ]
     },
     "execution_count": 202,
     "metadata": {},
     "output_type": "execute_result"
    }
   ],
   "source": [
    "df_inspections.head(10)"
   ]
  },
  {
   "cell_type": "markdown",
   "id": "e1f96a7c",
   "metadata": {},
   "source": [
    "### String Slicing"
   ]
  },
  {
   "cell_type": "code",
   "execution_count": 203,
   "id": "68a99bf6",
   "metadata": {},
   "outputs": [
    {
     "data": {
      "application/vnd.microsoft.datawrangler.viewer.v0+json": {
       "columns": [
        {
         "name": "index",
         "rawType": "int64",
         "type": "integer"
        },
        {
         "name": "Risk",
         "rawType": "category",
         "type": "unknown"
        }
       ],
       "ref": "8f2997c6-afde-4cf0-9709-3cb2bf07b6fc",
       "rows": [
        [
         "0",
         "Risk 1 (High)"
        ],
        [
         "1",
         "Risk 2 (Medium)"
        ],
        [
         "2",
         "Risk 3 (Low)"
        ],
        [
         "3",
         "Risk 1 (High)"
        ],
        [
         "4",
         "Risk 1 (High)"
        ]
       ],
       "shape": {
        "columns": 1,
        "rows": 5
       }
      },
      "text/plain": [
       "0      Risk 1 (High)\n",
       "1    Risk 2 (Medium)\n",
       "2       Risk 3 (Low)\n",
       "3      Risk 1 (High)\n",
       "4      Risk 1 (High)\n",
       "Name: Risk, dtype: category\n",
       "Categories (4, object): ['All', 'Risk 1 (High)', 'Risk 2 (Medium)', 'Risk 3 (Low)']"
      ]
     },
     "execution_count": 203,
     "metadata": {},
     "output_type": "execute_result"
    }
   ],
   "source": [
    "df_inspections[\"Risk\"].head()"
   ]
  },
  {
   "cell_type": "markdown",
   "id": "c9bf1c0d",
   "metadata": {},
   "source": [
    "**Cut the number of symbols from each row in the column Risk**"
   ]
  },
  {
   "cell_type": "code",
   "execution_count": 204,
   "id": "90481f0c",
   "metadata": {},
   "outputs": [
    {
     "data": {
      "application/vnd.microsoft.datawrangler.viewer.v0+json": {
       "columns": [
        {
         "name": "index",
         "rawType": "int64",
         "type": "integer"
        },
        {
         "name": "Risk",
         "rawType": "object",
         "type": "string"
        }
       ],
       "ref": "616d2f7a-ea8d-4fb6-9ea4-a3c365a61ca8",
       "rows": [
        [
         "0",
         "1"
        ],
        [
         "1",
         "2"
        ],
        [
         "2",
         "3"
        ],
        [
         "3",
         "1"
        ],
        [
         "4",
         "1"
        ]
       ],
       "shape": {
        "columns": 1,
        "rows": 5
       }
      },
      "text/plain": [
       "0    1\n",
       "1    2\n",
       "2    3\n",
       "3    1\n",
       "4    1\n",
       "Name: Risk, dtype: object"
      ]
     },
     "execution_count": 204,
     "metadata": {},
     "output_type": "execute_result"
    }
   ],
   "source": [
    "df_inspections[\"Risk\"].str.slice(5, 6).head()"
   ]
  },
  {
   "cell_type": "markdown",
   "id": "8dc49640",
   "metadata": {},
   "source": [
    "**Next code returns the same result**"
   ]
  },
  {
   "cell_type": "code",
   "execution_count": 205,
   "id": "9e306e6f",
   "metadata": {},
   "outputs": [
    {
     "data": {
      "application/vnd.microsoft.datawrangler.viewer.v0+json": {
       "columns": [
        {
         "name": "index",
         "rawType": "int64",
         "type": "integer"
        },
        {
         "name": "Risk",
         "rawType": "object",
         "type": "string"
        }
       ],
       "ref": "22ee1261-caaa-4694-bf90-e7b2d9521d3b",
       "rows": [
        [
         "0",
         "1"
        ],
        [
         "1",
         "2"
        ],
        [
         "2",
         "3"
        ],
        [
         "3",
         "1"
        ],
        [
         "4",
         "1"
        ]
       ],
       "shape": {
        "columns": 1,
        "rows": 5
       }
      },
      "text/plain": [
       "0    1\n",
       "1    2\n",
       "2    3\n",
       "3    1\n",
       "4    1\n",
       "Name: Risk, dtype: object"
      ]
     },
     "execution_count": 205,
     "metadata": {},
     "output_type": "execute_result"
    }
   ],
   "source": [
    "df_inspections[\"Risk\"].str[5:6].head()"
   ]
  },
  {
   "cell_type": "markdown",
   "id": "5f32bd9c",
   "metadata": {},
   "source": [
    "#### Retrieve the type of Rysk from each column"
   ]
  },
  {
   "cell_type": "code",
   "execution_count": 206,
   "id": "46a51d18",
   "metadata": {},
   "outputs": [
    {
     "data": {
      "application/vnd.microsoft.datawrangler.viewer.v0+json": {
       "columns": [
        {
         "name": "index",
         "rawType": "int64",
         "type": "integer"
        },
        {
         "name": "Risk",
         "rawType": "category",
         "type": "unknown"
        }
       ],
       "ref": "a9792392-c36a-46a6-9cf0-d6672e64c283",
       "rows": [
        [
         "0",
         "Risk 1 (High)"
        ],
        [
         "1",
         "Risk 2 (Medium)"
        ],
        [
         "2",
         "Risk 3 (Low)"
        ],
        [
         "3",
         "Risk 1 (High)"
        ],
        [
         "4",
         "Risk 1 (High)"
        ]
       ],
       "shape": {
        "columns": 1,
        "rows": 5
       }
      },
      "text/plain": [
       "0      Risk 1 (High)\n",
       "1    Risk 2 (Medium)\n",
       "2       Risk 3 (Low)\n",
       "3      Risk 1 (High)\n",
       "4      Risk 1 (High)\n",
       "Name: Risk, dtype: category\n",
       "Categories (4, object): ['All', 'Risk 1 (High)', 'Risk 2 (Medium)', 'Risk 3 (Low)']"
      ]
     },
     "execution_count": 206,
     "metadata": {},
     "output_type": "execute_result"
    }
   ],
   "source": [
    "df_inspections[\"Risk\"].head()"
   ]
  },
  {
   "cell_type": "markdown",
   "id": "3350b6f8",
   "metadata": {},
   "source": [
    "**Example 1**"
   ]
  },
  {
   "cell_type": "code",
   "execution_count": 207,
   "id": "9d14ef65",
   "metadata": {},
   "outputs": [
    {
     "data": {
      "application/vnd.microsoft.datawrangler.viewer.v0+json": {
       "columns": [
        {
         "name": "index",
         "rawType": "int64",
         "type": "integer"
        },
        {
         "name": "Risk",
         "rawType": "object",
         "type": "string"
        }
       ],
       "ref": "c6e712b3-5084-44d1-98c1-6c4285c57760",
       "rows": [
        [
         "0",
         "High"
        ],
        [
         "1",
         "Medium"
        ],
        [
         "2",
         "Low"
        ],
        [
         "3",
         "High"
        ],
        [
         "4",
         "High"
        ]
       ],
       "shape": {
        "columns": 1,
        "rows": 5
       }
      },
      "text/plain": [
       "0      High\n",
       "1    Medium\n",
       "2       Low\n",
       "3      High\n",
       "4      High\n",
       "Name: Risk, dtype: object"
      ]
     },
     "execution_count": 207,
     "metadata": {},
     "output_type": "execute_result"
    }
   ],
   "source": [
    "df_inspections[\"Risk\"].str[8:-1].head()"
   ]
  },
  {
   "cell_type": "markdown",
   "id": "76371dda",
   "metadata": {},
   "source": [
    "**Example 2**"
   ]
  },
  {
   "cell_type": "code",
   "execution_count": 208,
   "id": "9998688f",
   "metadata": {},
   "outputs": [
    {
     "data": {
      "application/vnd.microsoft.datawrangler.viewer.v0+json": {
       "columns": [
        {
         "name": "index",
         "rawType": "int64",
         "type": "integer"
        },
        {
         "name": "Risk",
         "rawType": "object",
         "type": "string"
        }
       ],
       "ref": "e9177336-7662-4e42-b367-dc980c193f57",
       "rows": [
        [
         "0",
         "High"
        ],
        [
         "1",
         "Medium"
        ],
        [
         "2",
         "Low"
        ],
        [
         "3",
         "High"
        ],
        [
         "4",
         "High"
        ]
       ],
       "shape": {
        "columns": 1,
        "rows": 5
       }
      },
      "text/plain": [
       "0      High\n",
       "1    Medium\n",
       "2       Low\n",
       "3      High\n",
       "4      High\n",
       "Name: Risk, dtype: object"
      ]
     },
     "execution_count": 208,
     "metadata": {},
     "output_type": "execute_result"
    }
   ],
   "source": [
    "df_inspections[\"Risk\"].str.slice(8, -1).head()"
   ]
  },
  {
   "cell_type": "markdown",
   "id": "aea30ab4",
   "metadata": {},
   "source": [
    "**Example 3**"
   ]
  },
  {
   "cell_type": "code",
   "execution_count": 209,
   "id": "0867b547",
   "metadata": {},
   "outputs": [
    {
     "data": {
      "application/vnd.microsoft.datawrangler.viewer.v0+json": {
       "columns": [
        {
         "name": "index",
         "rawType": "int64",
         "type": "integer"
        },
        {
         "name": "Risk",
         "rawType": "object",
         "type": "string"
        }
       ],
       "ref": "06d2e873-7a09-40bd-b7d9-16362154d570",
       "rows": [
        [
         "0",
         "High"
        ],
        [
         "1",
         "Medium"
        ],
        [
         "2",
         "Low"
        ],
        [
         "3",
         "High"
        ],
        [
         "4",
         "High"
        ]
       ],
       "shape": {
        "columns": 1,
        "rows": 5
       }
      },
      "text/plain": [
       "0      High\n",
       "1    Medium\n",
       "2       Low\n",
       "3      High\n",
       "4      High\n",
       "Name: Risk, dtype: object"
      ]
     },
     "execution_count": 209,
     "metadata": {},
     "output_type": "execute_result"
    }
   ],
   "source": [
    "df_inspections[\"Risk\"].str.slice(8).str.rstrip(\")\").head()"
   ]
  },
  {
   "cell_type": "markdown",
   "id": "802236f1",
   "metadata": {},
   "source": [
    "**Example 4**"
   ]
  },
  {
   "cell_type": "code",
   "execution_count": 210,
   "id": "a2f8bc4e",
   "metadata": {},
   "outputs": [
    {
     "data": {
      "application/vnd.microsoft.datawrangler.viewer.v0+json": {
       "columns": [
        {
         "name": "index",
         "rawType": "int64",
         "type": "integer"
        },
        {
         "name": "Risk",
         "rawType": "object",
         "type": "string"
        }
       ],
       "ref": "49329b8e-6172-4a78-9175-180189eaf196",
       "rows": [
        [
         "0",
         "High"
        ],
        [
         "1",
         "Medium"
        ],
        [
         "2",
         "Low"
        ],
        [
         "3",
         "High"
        ],
        [
         "4",
         "High"
        ]
       ],
       "shape": {
        "columns": 1,
        "rows": 5
       }
      },
      "text/plain": [
       "0      High\n",
       "1    Medium\n",
       "2       Low\n",
       "3      High\n",
       "4      High\n",
       "Name: Risk, dtype: object"
      ]
     },
     "execution_count": 210,
     "metadata": {},
     "output_type": "execute_result"
    }
   ],
   "source": [
    "df_inspections[\"Risk\"].str.slice(8).str.replace(\")\", \"\").head()"
   ]
  },
  {
   "cell_type": "markdown",
   "id": "d5042ed0",
   "metadata": {},
   "source": [
    "### Boolean Methods"
   ]
  },
  {
   "cell_type": "markdown",
   "id": "8722fb03",
   "metadata": {},
   "source": [
    "#### Find a word \"pizza\" in the Name column"
   ]
  },
  {
   "cell_type": "markdown",
   "id": "3f1413d0",
   "metadata": {},
   "source": [
    "**Set a lower case**"
   ]
  },
  {
   "cell_type": "code",
   "execution_count": 211,
   "id": "86bdf80b",
   "metadata": {},
   "outputs": [
    {
     "data": {
      "text/plain": [
       "3993"
      ]
     },
     "execution_count": 211,
     "metadata": {},
     "output_type": "execute_result"
    }
   ],
   "source": [
    "df_inspections['Name'].str.lower().str.contains('pizza').sum()"
   ]
  },
  {
   "cell_type": "code",
   "execution_count": 212,
   "id": "b9727bc7",
   "metadata": {},
   "outputs": [
    {
     "data": {
      "application/vnd.microsoft.datawrangler.viewer.v0+json": {
       "columns": [
        {
         "name": "index",
         "rawType": "int64",
         "type": "integer"
        },
        {
         "name": "Name",
         "rawType": "bool",
         "type": "boolean"
        }
       ],
       "ref": "a0502b4f-cd4f-479a-87f7-d01111e8a65d",
       "rows": [
        [
         "0",
         "False"
        ],
        [
         "1",
         "True"
        ],
        [
         "2",
         "False"
        ],
        [
         "3",
         "False"
        ],
        [
         "4",
         "False"
        ]
       ],
       "shape": {
        "columns": 1,
        "rows": 5
       }
      },
      "text/plain": [
       "0    False\n",
       "1     True\n",
       "2    False\n",
       "3    False\n",
       "4    False\n",
       "Name: Name, dtype: bool"
      ]
     },
     "execution_count": 212,
     "metadata": {},
     "output_type": "execute_result"
    }
   ],
   "source": [
    "df_inspections['Name'].str.lower().str.contains('pizza').head()"
   ]
  },
  {
   "cell_type": "code",
   "execution_count": 213,
   "id": "d5054f30",
   "metadata": {},
   "outputs": [
    {
     "data": {
      "application/vnd.microsoft.datawrangler.viewer.v0+json": {
       "columns": [
        {
         "name": "index",
         "rawType": "int64",
         "type": "integer"
        },
        {
         "name": "Name",
         "rawType": "object",
         "type": "string"
        },
        {
         "name": "Risk",
         "rawType": "category",
         "type": "unknown"
        }
       ],
       "ref": "619e7a2c-9670-4c7d-92be-f4303633a923",
       "rows": [
        [
         "1",
         "Jets Pizza",
         "Risk 2 (Medium)"
        ],
        [
         "19",
         "Nancy'S Home Of Stuffed Pizza",
         "Risk 1 (High)"
        ],
        [
         "27",
         "Nary'S Grill & Pizza ,Inc.",
         "Risk 1 (High)"
        ],
        [
         "29",
         "Narys Grill & Pizza",
         "Risk 1 (High)"
        ],
        [
         "68",
         "Colutas Pizza",
         "Risk 1 (High)"
        ],
        [
         "89",
         "Fat Chris'S Pizza And Such",
         "Risk 1 (High)"
        ],
        [
         "92",
         "Jet'S Pizza",
         "Risk 2 (Medium)"
        ],
        [
         "97",
         "Positanos Restaurant & Pizza, Inc.",
         "Risk 1 (High)"
        ],
        [
         "115",
         "Luganos Pizza",
         "Risk 1 (High)"
        ],
        [
         "164",
         "Little Clown Pizza & Restaurant",
         "Risk 1 (High)"
        ],
        [
         "205",
         "Nancy'S Home Of Stuffed Pizza",
         "Risk 1 (High)"
        ],
        [
         "383",
         "Plazzio'S Pizza Restaurant, Inc.",
         "Risk 1 (High)"
        ],
        [
         "520",
         "Nella Pizza Pasta",
         "Risk 3 (Low)"
        ],
        [
         "524",
         "Nella Pizza Pasta",
         "Risk 1 (High)"
        ],
        [
         "537",
         "Pizza Mania",
         "Risk 3 (Low)"
        ],
        [
         "669",
         "Danny'S Pizza Place",
         "Risk 3 (Low)"
        ],
        [
         "685",
         "Danny'S Pizza Place",
         "Risk 1 (High)"
        ],
        [
         "698",
         "Luganos Pizza",
         "Risk 2 (Medium)"
        ],
        [
         "702",
         "Lugano'S Pizza",
         "Risk 1 (High)"
        ],
        [
         "767",
         "Mod Pizza",
         "Risk 1 (High)"
        ],
        [
         "771",
         "Mod Pizza",
         "Risk 1 (High)"
        ],
        [
         "784",
         "Art Of Pizza On State Street",
         "Risk 1 (High)"
        ],
        [
         "835",
         "Domino'S Pizza",
         "Risk 1 (High)"
        ],
        [
         "905",
         "Sam'S Chicken And Ribs, Pizza",
         "Risk 1 (High)"
        ],
        [
         "926",
         "Mod Pizza",
         "Risk 1 (High)"
        ],
        [
         "931",
         "Mod Pizza",
         "Risk 1 (High)"
        ],
        [
         "1037",
         "Jet'S Pizza Illinois #21, Llc",
         "Risk 2 (Medium)"
        ],
        [
         "1039",
         "West End Tata'S Pizza",
         "Risk 1 (High)"
        ],
        [
         "1087",
         "Angelo'S Pizza",
         "Risk 1 (High)"
        ],
        [
         "1117",
         "Beggars Pizza",
         "Risk 1 (High)"
        ],
        [
         "1136",
         "Dino'S Pizza",
         "Risk 1 (High)"
        ],
        [
         "1163",
         "Papa John'S Pizza",
         "Risk 2 (Medium)"
        ],
        [
         "1179",
         "Al'S Pizza Chicago",
         "Risk 1 (High)"
        ],
        [
         "1247",
         "Pizza Hut",
         "Risk 2 (Medium)"
        ],
        [
         "1273",
         "Pizza Rustica, Inc",
         "Risk 1 (High)"
        ],
        [
         "1278",
         "Miller Pizza Co.",
         "Risk 1 (High)"
        ],
        [
         "1350",
         "Pizza Y Pan  Pa' Ya Corp.",
         "Risk 1 (High)"
        ],
        [
         "1351",
         "Angelo'S Pizza",
         "Risk 1 (High)"
        ],
        [
         "1361",
         "Little Caesars Pizza Treat #1627",
         "Risk 2 (Medium)"
        ],
        [
         "1362",
         "Little Caesar Pizza",
         "Risk 2 (Medium)"
        ],
        [
         "1365",
         "Dino'S Pizza",
         "Risk 1 (High)"
        ],
        [
         "1412",
         "Al'S Pizza Chicago",
         "Risk 1 (High)"
        ],
        [
         "1422",
         "Luganos Pizza",
         "Risk 2 (Medium)"
        ],
        [
         "1561",
         "Cugini Pizza & Eatery",
         "Risk 1 (High)"
        ],
        [
         "1585",
         "The Art Of  Pizza Inc",
         "Risk 1 (High)"
        ],
        [
         "1630",
         "Milano'S Pizza",
         "Risk 1 (High)"
        ],
        [
         "1637",
         "Waldo Cooney'S Pizza",
         "Risk 1 (High)"
        ],
        [
         "1656",
         "Pizza Hut",
         "Risk 1 (High)"
        ],
        [
         "1725",
         "Luke'S Beef & Pizza",
         "Risk 1 (High)"
        ],
        [
         "1761",
         "Roots Handmade Pizza-Lincoln Square",
         "Risk 1 (High)"
        ]
       ],
       "shape": {
        "columns": 2,
        "rows": 3993
       }
      },
      "text/html": [
       "<div>\n",
       "<style scoped>\n",
       "    .dataframe tbody tr th:only-of-type {\n",
       "        vertical-align: middle;\n",
       "    }\n",
       "\n",
       "    .dataframe tbody tr th {\n",
       "        vertical-align: top;\n",
       "    }\n",
       "\n",
       "    .dataframe thead th {\n",
       "        text-align: right;\n",
       "    }\n",
       "</style>\n",
       "<table border=\"1\" class=\"dataframe\">\n",
       "  <thead>\n",
       "    <tr style=\"text-align: right;\">\n",
       "      <th></th>\n",
       "      <th>Name</th>\n",
       "      <th>Risk</th>\n",
       "    </tr>\n",
       "  </thead>\n",
       "  <tbody>\n",
       "    <tr>\n",
       "      <th>1</th>\n",
       "      <td>Jets Pizza</td>\n",
       "      <td>Risk 2 (Medium)</td>\n",
       "    </tr>\n",
       "    <tr>\n",
       "      <th>19</th>\n",
       "      <td>Nancy'S Home Of Stuffed Pizza</td>\n",
       "      <td>Risk 1 (High)</td>\n",
       "    </tr>\n",
       "    <tr>\n",
       "      <th>27</th>\n",
       "      <td>Nary'S Grill &amp; Pizza ,Inc.</td>\n",
       "      <td>Risk 1 (High)</td>\n",
       "    </tr>\n",
       "    <tr>\n",
       "      <th>29</th>\n",
       "      <td>Narys Grill &amp; Pizza</td>\n",
       "      <td>Risk 1 (High)</td>\n",
       "    </tr>\n",
       "    <tr>\n",
       "      <th>68</th>\n",
       "      <td>Colutas Pizza</td>\n",
       "      <td>Risk 1 (High)</td>\n",
       "    </tr>\n",
       "    <tr>\n",
       "      <th>...</th>\n",
       "      <td>...</td>\n",
       "      <td>...</td>\n",
       "    </tr>\n",
       "    <tr>\n",
       "      <th>153756</th>\n",
       "      <td>Angelo'S Stuffed Pizza Corp</td>\n",
       "      <td>Risk 1 (High)</td>\n",
       "    </tr>\n",
       "    <tr>\n",
       "      <th>153764</th>\n",
       "      <td>Cochiaros Pizza #2</td>\n",
       "      <td>Risk 1 (High)</td>\n",
       "    </tr>\n",
       "    <tr>\n",
       "      <th>153772</th>\n",
       "      <td>Fernando'S Mexican Grill &amp; Pizza</td>\n",
       "      <td>Risk 1 (High)</td>\n",
       "    </tr>\n",
       "    <tr>\n",
       "      <th>153788</th>\n",
       "      <td>Reggio'S Pizza Express</td>\n",
       "      <td>Risk 1 (High)</td>\n",
       "    </tr>\n",
       "    <tr>\n",
       "      <th>153801</th>\n",
       "      <td>State Street Pizza Company</td>\n",
       "      <td>Risk 1 (High)</td>\n",
       "    </tr>\n",
       "  </tbody>\n",
       "</table>\n",
       "<p>3993 rows × 2 columns</p>\n",
       "</div>"
      ],
      "text/plain": [
       "                                    Name             Risk\n",
       "1                             Jets Pizza  Risk 2 (Medium)\n",
       "19         Nancy'S Home Of Stuffed Pizza    Risk 1 (High)\n",
       "27            Nary'S Grill & Pizza ,Inc.    Risk 1 (High)\n",
       "29                   Narys Grill & Pizza    Risk 1 (High)\n",
       "68                         Colutas Pizza    Risk 1 (High)\n",
       "...                                  ...              ...\n",
       "153756       Angelo'S Stuffed Pizza Corp    Risk 1 (High)\n",
       "153764                Cochiaros Pizza #2    Risk 1 (High)\n",
       "153772  Fernando'S Mexican Grill & Pizza    Risk 1 (High)\n",
       "153788            Reggio'S Pizza Express    Risk 1 (High)\n",
       "153801        State Street Pizza Company    Risk 1 (High)\n",
       "\n",
       "[3993 rows x 2 columns]"
      ]
     },
     "execution_count": 213,
     "metadata": {},
     "output_type": "execute_result"
    }
   ],
   "source": [
    "has_pizza=df_inspections['Name'].str.lower().str.contains('pizza')\n",
    "df_inspections[has_pizza]"
   ]
  },
  {
   "cell_type": "markdown",
   "id": "a6e81888",
   "metadata": {},
   "source": [
    "#### Find rows which begin with a Tacos word"
   ]
  },
  {
   "cell_type": "code",
   "execution_count": 214,
   "id": "14d845c3",
   "metadata": {},
   "outputs": [
    {
     "data": {
      "text/plain": [
       "105"
      ]
     },
     "execution_count": 214,
     "metadata": {},
     "output_type": "execute_result"
    }
   ],
   "source": [
    "df_inspections['Name'].str.lower().str.startswith('tacos').sum()"
   ]
  },
  {
   "cell_type": "code",
   "execution_count": 215,
   "id": "677afb66",
   "metadata": {},
   "outputs": [
    {
     "data": {
      "application/vnd.microsoft.datawrangler.viewer.v0+json": {
       "columns": [
        {
         "name": "index",
         "rawType": "int64",
         "type": "integer"
        },
        {
         "name": "Name",
         "rawType": "bool",
         "type": "boolean"
        }
       ],
       "ref": "f05d39e4-e686-4365-b56d-656ad623e78f",
       "rows": [
        [
         "0",
         "False"
        ],
        [
         "1",
         "False"
        ],
        [
         "2",
         "False"
        ],
        [
         "3",
         "False"
        ],
        [
         "4",
         "False"
        ]
       ],
       "shape": {
        "columns": 1,
        "rows": 5
       }
      },
      "text/plain": [
       "0    False\n",
       "1    False\n",
       "2    False\n",
       "3    False\n",
       "4    False\n",
       "Name: Name, dtype: bool"
      ]
     },
     "execution_count": 215,
     "metadata": {},
     "output_type": "execute_result"
    }
   ],
   "source": [
    "df_inspections['Name'].str.lower().str.startswith('tacos').head()"
   ]
  },
  {
   "cell_type": "code",
   "execution_count": 216,
   "id": "168ae886",
   "metadata": {},
   "outputs": [
    {
     "data": {
      "application/vnd.microsoft.datawrangler.viewer.v0+json": {
       "columns": [
        {
         "name": "index",
         "rawType": "int64",
         "type": "integer"
        },
        {
         "name": "Name",
         "rawType": "object",
         "type": "string"
        },
        {
         "name": "Risk",
         "rawType": "category",
         "type": "unknown"
        }
       ],
       "ref": "2d5d8004-c61f-48f6-b39b-ead6816c4d45",
       "rows": [
        [
         "69",
         "Tacos Nietos",
         "Risk 1 (High)"
        ],
        [
         "556",
         "Tacos El Tio 2 Inc.",
         "Risk 1 (High)"
        ],
        [
         "675",
         "Tacos Don Gabino",
         "Risk 1 (High)"
        ],
        [
         "958",
         "Tacos El Tio 2 Inc.",
         "Risk 1 (High)"
        ],
        [
         "1036",
         "Tacos El Tio 2 Inc.",
         "Risk 1 (High)"
        ]
       ],
       "shape": {
        "columns": 2,
        "rows": 5
       }
      },
      "text/html": [
       "<div>\n",
       "<style scoped>\n",
       "    .dataframe tbody tr th:only-of-type {\n",
       "        vertical-align: middle;\n",
       "    }\n",
       "\n",
       "    .dataframe tbody tr th {\n",
       "        vertical-align: top;\n",
       "    }\n",
       "\n",
       "    .dataframe thead th {\n",
       "        text-align: right;\n",
       "    }\n",
       "</style>\n",
       "<table border=\"1\" class=\"dataframe\">\n",
       "  <thead>\n",
       "    <tr style=\"text-align: right;\">\n",
       "      <th></th>\n",
       "      <th>Name</th>\n",
       "      <th>Risk</th>\n",
       "    </tr>\n",
       "  </thead>\n",
       "  <tbody>\n",
       "    <tr>\n",
       "      <th>69</th>\n",
       "      <td>Tacos Nietos</td>\n",
       "      <td>Risk 1 (High)</td>\n",
       "    </tr>\n",
       "    <tr>\n",
       "      <th>556</th>\n",
       "      <td>Tacos El Tio 2 Inc.</td>\n",
       "      <td>Risk 1 (High)</td>\n",
       "    </tr>\n",
       "    <tr>\n",
       "      <th>675</th>\n",
       "      <td>Tacos Don Gabino</td>\n",
       "      <td>Risk 1 (High)</td>\n",
       "    </tr>\n",
       "    <tr>\n",
       "      <th>958</th>\n",
       "      <td>Tacos El Tio 2 Inc.</td>\n",
       "      <td>Risk 1 (High)</td>\n",
       "    </tr>\n",
       "    <tr>\n",
       "      <th>1036</th>\n",
       "      <td>Tacos El Tio 2 Inc.</td>\n",
       "      <td>Risk 1 (High)</td>\n",
       "    </tr>\n",
       "  </tbody>\n",
       "</table>\n",
       "</div>"
      ],
      "text/plain": [
       "                     Name           Risk\n",
       "69           Tacos Nietos  Risk 1 (High)\n",
       "556   Tacos El Tio 2 Inc.  Risk 1 (High)\n",
       "675      Tacos Don Gabino  Risk 1 (High)\n",
       "958   Tacos El Tio 2 Inc.  Risk 1 (High)\n",
       "1036  Tacos El Tio 2 Inc.  Risk 1 (High)"
      ]
     },
     "execution_count": 216,
     "metadata": {},
     "output_type": "execute_result"
    }
   ],
   "source": [
    "starts_with_tacos = df_inspections['Name'].str.lower().str.startswith('tacos')\n",
    "df_inspections[starts_with_tacos].head()"
   ]
  },
  {
   "cell_type": "markdown",
   "id": "d403309e",
   "metadata": {},
   "source": [
    "**Find a Tacos word in the end of lines**"
   ]
  },
  {
   "cell_type": "code",
   "execution_count": 217,
   "id": "b1bacf56",
   "metadata": {},
   "outputs": [
    {
     "data": {
      "application/vnd.microsoft.datawrangler.viewer.v0+json": {
       "columns": [
        {
         "name": "index",
         "rawType": "int64",
         "type": "integer"
        },
        {
         "name": "Name",
         "rawType": "object",
         "type": "string"
        },
        {
         "name": "Risk",
         "rawType": "category",
         "type": "unknown"
        }
       ],
       "ref": "577454b6-9a8e-41f2-902e-dde907cca77e",
       "rows": [
        [
         "382",
         "Lazo'S Tacos",
         "Risk 1 (High)"
        ],
        [
         "569",
         "Lazo'S Tacos",
         "Risk 1 (High)"
        ],
        [
         "2652",
         "Flying Tacos",
         "Risk 3 (Low)"
        ],
        [
         "3250",
         "Jony'S Tacos",
         "Risk 1 (High)"
        ],
        [
         "3812",
         "Paco'S Tacos",
         "Risk 1 (High)"
        ]
       ],
       "shape": {
        "columns": 2,
        "rows": 5
       }
      },
      "text/html": [
       "<div>\n",
       "<style scoped>\n",
       "    .dataframe tbody tr th:only-of-type {\n",
       "        vertical-align: middle;\n",
       "    }\n",
       "\n",
       "    .dataframe tbody tr th {\n",
       "        vertical-align: top;\n",
       "    }\n",
       "\n",
       "    .dataframe thead th {\n",
       "        text-align: right;\n",
       "    }\n",
       "</style>\n",
       "<table border=\"1\" class=\"dataframe\">\n",
       "  <thead>\n",
       "    <tr style=\"text-align: right;\">\n",
       "      <th></th>\n",
       "      <th>Name</th>\n",
       "      <th>Risk</th>\n",
       "    </tr>\n",
       "  </thead>\n",
       "  <tbody>\n",
       "    <tr>\n",
       "      <th>382</th>\n",
       "      <td>Lazo'S Tacos</td>\n",
       "      <td>Risk 1 (High)</td>\n",
       "    </tr>\n",
       "    <tr>\n",
       "      <th>569</th>\n",
       "      <td>Lazo'S Tacos</td>\n",
       "      <td>Risk 1 (High)</td>\n",
       "    </tr>\n",
       "    <tr>\n",
       "      <th>2652</th>\n",
       "      <td>Flying Tacos</td>\n",
       "      <td>Risk 3 (Low)</td>\n",
       "    </tr>\n",
       "    <tr>\n",
       "      <th>3250</th>\n",
       "      <td>Jony'S Tacos</td>\n",
       "      <td>Risk 1 (High)</td>\n",
       "    </tr>\n",
       "    <tr>\n",
       "      <th>3812</th>\n",
       "      <td>Paco'S Tacos</td>\n",
       "      <td>Risk 1 (High)</td>\n",
       "    </tr>\n",
       "  </tbody>\n",
       "</table>\n",
       "</div>"
      ],
      "text/plain": [
       "              Name           Risk\n",
       "382   Lazo'S Tacos  Risk 1 (High)\n",
       "569   Lazo'S Tacos  Risk 1 (High)\n",
       "2652  Flying Tacos   Risk 3 (Low)\n",
       "3250  Jony'S Tacos  Risk 1 (High)\n",
       "3812  Paco'S Tacos  Risk 1 (High)"
      ]
     },
     "execution_count": 217,
     "metadata": {},
     "output_type": "execute_result"
    }
   ],
   "source": [
    "ends_with_tacos = df_inspections['Name'].str.lower().str.endswith('tacos')\n",
    "df_inspections[ends_with_tacos].head()"
   ]
  },
  {
   "cell_type": "markdown",
   "id": "074c5334",
   "metadata": {},
   "source": [
    "### Splitting Strings"
   ]
  },
  {
   "cell_type": "code",
   "execution_count": 218,
   "id": "4e9f173e",
   "metadata": {},
   "outputs": [],
   "source": [
    "customers_path = '/Users/ypushiev/Learning/PANDAS IN ACTION/Chapter 6 Text data processing/Data/customers.csv'"
   ]
  },
  {
   "cell_type": "code",
   "execution_count": 219,
   "id": "c1b5c962",
   "metadata": {},
   "outputs": [],
   "source": [
    "df_customers = pd.read_csv(customers_path)"
   ]
  },
  {
   "cell_type": "code",
   "execution_count": 220,
   "id": "ee311284",
   "metadata": {},
   "outputs": [
    {
     "data": {
      "text/plain": [
       "(9961, 2)"
      ]
     },
     "execution_count": 220,
     "metadata": {},
     "output_type": "execute_result"
    }
   ],
   "source": [
    "df_customers.shape"
   ]
  },
  {
   "cell_type": "code",
   "execution_count": 221,
   "id": "cd4d7a64",
   "metadata": {},
   "outputs": [
    {
     "data": {
      "application/vnd.microsoft.datawrangler.viewer.v0+json": {
       "columns": [
        {
         "name": "index",
         "rawType": "object",
         "type": "string"
        },
        {
         "name": "0",
         "rawType": "int64",
         "type": "integer"
        }
       ],
       "ref": "35500c6c-5e09-4210-95e4-e9ea2a2f78a9",
       "rows": [
        [
         "Name",
         "9297"
        ],
        [
         "Address",
         "9961"
        ]
       ],
       "shape": {
        "columns": 1,
        "rows": 2
       }
      },
      "text/plain": [
       "Name       9297\n",
       "Address    9961\n",
       "dtype: int64"
      ]
     },
     "execution_count": 221,
     "metadata": {},
     "output_type": "execute_result"
    }
   ],
   "source": [
    "df_customers.nunique()"
   ]
  },
  {
   "cell_type": "code",
   "execution_count": 222,
   "id": "a0156e5b",
   "metadata": {},
   "outputs": [
    {
     "name": "stdout",
     "output_type": "stream",
     "text": [
      "<class 'pandas.core.frame.DataFrame'>\n",
      "RangeIndex: 9961 entries, 0 to 9960\n",
      "Data columns (total 2 columns):\n",
      " #   Column   Non-Null Count  Dtype \n",
      "---  ------   --------------  ----- \n",
      " 0   Name     9961 non-null   object\n",
      " 1   Address  9961 non-null   object\n",
      "dtypes: object(2)\n",
      "memory usage: 155.8+ KB\n"
     ]
    }
   ],
   "source": [
    "df_customers.info()"
   ]
  },
  {
   "cell_type": "markdown",
   "id": "4143b7b9",
   "metadata": {},
   "source": [
    "#### Get the lentgh "
   ]
  },
  {
   "cell_type": "code",
   "execution_count": 223,
   "id": "21d4a704",
   "metadata": {},
   "outputs": [
    {
     "data": {
      "application/vnd.microsoft.datawrangler.viewer.v0+json": {
       "columns": [
        {
         "name": "index",
         "rawType": "int64",
         "type": "integer"
        },
        {
         "name": "Name",
         "rawType": "int64",
         "type": "integer"
        }
       ],
       "ref": "7adea598-2019-45b7-9a79-dffd89a44f2d",
       "rows": [
        [
         "0",
         "13"
        ],
        [
         "1",
         "17"
        ],
        [
         "2",
         "15"
        ],
        [
         "3",
         "19"
        ],
        [
         "4",
         "14"
        ]
       ],
       "shape": {
        "columns": 1,
        "rows": 5
       }
      },
      "text/plain": [
       "0    13\n",
       "1    17\n",
       "2    15\n",
       "3    19\n",
       "4    14\n",
       "Name: Name, dtype: int64"
      ]
     },
     "execution_count": 223,
     "metadata": {},
     "output_type": "execute_result"
    }
   ],
   "source": [
    "df_customers['Name'].str.len().head()"
   ]
  },
  {
   "cell_type": "markdown",
   "id": "80c6f74a",
   "metadata": {},
   "source": [
    "**Split and count the words**"
   ]
  },
  {
   "cell_type": "code",
   "execution_count": 224,
   "id": "ee194b0b",
   "metadata": {},
   "outputs": [
    {
     "data": {
      "application/vnd.microsoft.datawrangler.viewer.v0+json": {
       "columns": [
        {
         "name": "index",
         "rawType": "int64",
         "type": "integer"
        },
        {
         "name": "Name",
         "rawType": "object",
         "type": "unknown"
        }
       ],
       "ref": "87876419-17b7-4cbb-9ef2-ba218840ebd7",
       "rows": [
        [
         "0",
         "['Frank', 'Manning']"
        ],
        [
         "1",
         "['Elizabeth', 'Johnson']"
        ],
        [
         "2",
         "['Donald', 'Stephens']"
        ],
        [
         "3",
         "['Michael', 'Vincent', 'III']"
        ],
        [
         "4",
         "['Jasmine', 'Zamora']"
        ]
       ],
       "shape": {
        "columns": 1,
        "rows": 5
       }
      },
      "text/plain": [
       "0           [Frank, Manning]\n",
       "1       [Elizabeth, Johnson]\n",
       "2         [Donald, Stephens]\n",
       "3    [Michael, Vincent, III]\n",
       "4          [Jasmine, Zamora]\n",
       "Name: Name, dtype: object"
      ]
     },
     "execution_count": 224,
     "metadata": {},
     "output_type": "execute_result"
    }
   ],
   "source": [
    "df_customers['Name'].str.split(' ').head()"
   ]
  },
  {
   "cell_type": "code",
   "execution_count": 225,
   "id": "ed69b88b",
   "metadata": {},
   "outputs": [
    {
     "data": {
      "application/vnd.microsoft.datawrangler.viewer.v0+json": {
       "columns": [
        {
         "name": "index",
         "rawType": "int64",
         "type": "integer"
        },
        {
         "name": "Name",
         "rawType": "int64",
         "type": "integer"
        }
       ],
       "ref": "81f19d9a-ea10-4312-94bd-a395ef5786e3",
       "rows": [
        [
         "0",
         "2"
        ],
        [
         "1",
         "2"
        ],
        [
         "2",
         "2"
        ],
        [
         "3",
         "3"
        ],
        [
         "4",
         "2"
        ]
       ],
       "shape": {
        "columns": 1,
        "rows": 5
       }
      },
      "text/plain": [
       "0    2\n",
       "1    2\n",
       "2    2\n",
       "3    3\n",
       "4    2\n",
       "Name: Name, dtype: int64"
      ]
     },
     "execution_count": 225,
     "metadata": {},
     "output_type": "execute_result"
    }
   ],
   "source": [
    "df_customers['Name'].str.split(' ').str.len().head()"
   ]
  },
  {
   "cell_type": "markdown",
   "id": "a4011ff2",
   "metadata": {},
   "source": [
    "**Resolve the issue with name like Michael Vincent III**"
   ]
  },
  {
   "cell_type": "code",
   "execution_count": 226,
   "id": "1a6cf1f2",
   "metadata": {},
   "outputs": [
    {
     "data": {
      "application/vnd.microsoft.datawrangler.viewer.v0+json": {
       "columns": [
        {
         "name": "index",
         "rawType": "int64",
         "type": "integer"
        },
        {
         "name": "Name",
         "rawType": "object",
         "type": "unknown"
        }
       ],
       "ref": "df97de43-e828-4047-bf8d-b8bc4b6f5742",
       "rows": [
        [
         "0",
         "['Frank', 'Manning']"
        ],
        [
         "1",
         "['Elizabeth', 'Johnson']"
        ],
        [
         "2",
         "['Donald', 'Stephens']"
        ],
        [
         "3",
         "['Michael', 'Vincent III']"
        ],
        [
         "4",
         "['Jasmine', 'Zamora']"
        ]
       ],
       "shape": {
        "columns": 1,
        "rows": 5
       }
      },
      "text/plain": [
       "0          [Frank, Manning]\n",
       "1      [Elizabeth, Johnson]\n",
       "2        [Donald, Stephens]\n",
       "3    [Michael, Vincent III]\n",
       "4         [Jasmine, Zamora]\n",
       "Name: Name, dtype: object"
      ]
     },
     "execution_count": 226,
     "metadata": {},
     "output_type": "execute_result"
    }
   ],
   "source": [
    "df_customers['Name'].str.split(' ',n=1).head()"
   ]
  },
  {
   "cell_type": "code",
   "execution_count": 227,
   "id": "4dffd982",
   "metadata": {},
   "outputs": [
    {
     "data": {
      "application/vnd.microsoft.datawrangler.viewer.v0+json": {
       "columns": [
        {
         "name": "index",
         "rawType": "int64",
         "type": "integer"
        },
        {
         "name": "Name",
         "rawType": "int64",
         "type": "integer"
        }
       ],
       "ref": "dc4c1c64-80b1-46a6-872a-639056d005c3",
       "rows": [
        [
         "0",
         "2"
        ],
        [
         "1",
         "2"
        ],
        [
         "2",
         "2"
        ],
        [
         "3",
         "2"
        ],
        [
         "4",
         "2"
        ]
       ],
       "shape": {
        "columns": 1,
        "rows": 5
       }
      },
      "text/plain": [
       "0    2\n",
       "1    2\n",
       "2    2\n",
       "3    2\n",
       "4    2\n",
       "Name: Name, dtype: int64"
      ]
     },
     "execution_count": 227,
     "metadata": {},
     "output_type": "execute_result"
    }
   ],
   "source": [
    "df_customers['Name'].str.split(' ',n=1).str.len().head()"
   ]
  },
  {
   "cell_type": "markdown",
   "id": "cafca4e2",
   "metadata": {},
   "source": [
    "#### Get only names"
   ]
  },
  {
   "cell_type": "code",
   "execution_count": 228,
   "id": "f9a027c9",
   "metadata": {},
   "outputs": [
    {
     "data": {
      "application/vnd.microsoft.datawrangler.viewer.v0+json": {
       "columns": [
        {
         "name": "index",
         "rawType": "int64",
         "type": "integer"
        },
        {
         "name": "Name",
         "rawType": "object",
         "type": "string"
        }
       ],
       "ref": "72d913c8-2a83-46f0-bb18-639d3187991e",
       "rows": [
        [
         "0",
         "Frank"
        ],
        [
         "1",
         "Elizabeth"
        ],
        [
         "2",
         "Donald"
        ],
        [
         "3",
         "Michael"
        ],
        [
         "4",
         "Jasmine"
        ]
       ],
       "shape": {
        "columns": 1,
        "rows": 5
       }
      },
      "text/plain": [
       "0        Frank\n",
       "1    Elizabeth\n",
       "2       Donald\n",
       "3      Michael\n",
       "4      Jasmine\n",
       "Name: Name, dtype: object"
      ]
     },
     "execution_count": 228,
     "metadata": {},
     "output_type": "execute_result"
    }
   ],
   "source": [
    "df_customers['Name'].str.split(' ',n=1).str[0].head()"
   ]
  },
  {
   "cell_type": "markdown",
   "id": "aa01c3d1",
   "metadata": {},
   "source": [
    "**Get only surnames**"
   ]
  },
  {
   "cell_type": "code",
   "execution_count": 229,
   "id": "e3368533",
   "metadata": {},
   "outputs": [
    {
     "data": {
      "application/vnd.microsoft.datawrangler.viewer.v0+json": {
       "columns": [
        {
         "name": "index",
         "rawType": "int64",
         "type": "integer"
        },
        {
         "name": "Name",
         "rawType": "object",
         "type": "string"
        }
       ],
       "ref": "857fc2be-abfe-44cf-b7b9-55bacb598d88",
       "rows": [
        [
         "0",
         "Manning"
        ],
        [
         "1",
         "Johnson"
        ],
        [
         "2",
         "Stephens"
        ],
        [
         "3",
         "Vincent III"
        ],
        [
         "4",
         "Zamora"
        ]
       ],
       "shape": {
        "columns": 1,
        "rows": 5
       }
      },
      "text/plain": [
       "0        Manning\n",
       "1        Johnson\n",
       "2       Stephens\n",
       "3    Vincent III\n",
       "4         Zamora\n",
       "Name: Name, dtype: object"
      ]
     },
     "execution_count": 229,
     "metadata": {},
     "output_type": "execute_result"
    }
   ],
   "source": [
    "df_customers['Name'].str.split(' ',n=1).str.get(1).head()"
   ]
  },
  {
   "cell_type": "markdown",
   "id": "13bf87d6",
   "metadata": {},
   "source": [
    "**Using get(-1)**"
   ]
  },
  {
   "cell_type": "code",
   "execution_count": 230,
   "id": "9e2f00c1",
   "metadata": {},
   "outputs": [
    {
     "data": {
      "application/vnd.microsoft.datawrangler.viewer.v0+json": {
       "columns": [
        {
         "name": "index",
         "rawType": "int64",
         "type": "integer"
        },
        {
         "name": "Name",
         "rawType": "object",
         "type": "string"
        }
       ],
       "ref": "bf6ed9db-7a38-4731-b5e9-e9bd486dd103",
       "rows": [
        [
         "0",
         "Manning"
        ],
        [
         "1",
         "Johnson"
        ],
        [
         "2",
         "Stephens"
        ],
        [
         "3",
         "Vincent III"
        ],
        [
         "4",
         "Zamora"
        ]
       ],
       "shape": {
        "columns": 1,
        "rows": 5
       }
      },
      "text/plain": [
       "0        Manning\n",
       "1        Johnson\n",
       "2       Stephens\n",
       "3    Vincent III\n",
       "4         Zamora\n",
       "Name: Name, dtype: object"
      ]
     },
     "execution_count": 230,
     "metadata": {},
     "output_type": "execute_result"
    }
   ],
   "source": [
    "df_customers['Name'].str.split(' ',n=1).str.get(-1).head()"
   ]
  },
  {
   "cell_type": "markdown",
   "id": "b63fb196",
   "metadata": {},
   "source": [
    "**Using Expand parameter to split names and lastnames**"
   ]
  },
  {
   "cell_type": "code",
   "execution_count": 231,
   "id": "6cec780b",
   "metadata": {},
   "outputs": [
    {
     "data": {
      "application/vnd.microsoft.datawrangler.viewer.v0+json": {
       "columns": [
        {
         "name": "index",
         "rawType": "int64",
         "type": "integer"
        },
        {
         "name": "0",
         "rawType": "object",
         "type": "string"
        },
        {
         "name": "1",
         "rawType": "object",
         "type": "string"
        }
       ],
       "ref": "2c8e0466-ca6e-409f-9ec8-d6edd28deaf9",
       "rows": [
        [
         "0",
         "Frank",
         "Manning"
        ],
        [
         "1",
         "Elizabeth",
         "Johnson"
        ],
        [
         "2",
         "Donald",
         "Stephens"
        ],
        [
         "3",
         "Michael",
         "Vincent III"
        ],
        [
         "4",
         "Jasmine",
         "Zamora"
        ]
       ],
       "shape": {
        "columns": 2,
        "rows": 5
       }
      },
      "text/html": [
       "<div>\n",
       "<style scoped>\n",
       "    .dataframe tbody tr th:only-of-type {\n",
       "        vertical-align: middle;\n",
       "    }\n",
       "\n",
       "    .dataframe tbody tr th {\n",
       "        vertical-align: top;\n",
       "    }\n",
       "\n",
       "    .dataframe thead th {\n",
       "        text-align: right;\n",
       "    }\n",
       "</style>\n",
       "<table border=\"1\" class=\"dataframe\">\n",
       "  <thead>\n",
       "    <tr style=\"text-align: right;\">\n",
       "      <th></th>\n",
       "      <th>0</th>\n",
       "      <th>1</th>\n",
       "    </tr>\n",
       "  </thead>\n",
       "  <tbody>\n",
       "    <tr>\n",
       "      <th>0</th>\n",
       "      <td>Frank</td>\n",
       "      <td>Manning</td>\n",
       "    </tr>\n",
       "    <tr>\n",
       "      <th>1</th>\n",
       "      <td>Elizabeth</td>\n",
       "      <td>Johnson</td>\n",
       "    </tr>\n",
       "    <tr>\n",
       "      <th>2</th>\n",
       "      <td>Donald</td>\n",
       "      <td>Stephens</td>\n",
       "    </tr>\n",
       "    <tr>\n",
       "      <th>3</th>\n",
       "      <td>Michael</td>\n",
       "      <td>Vincent III</td>\n",
       "    </tr>\n",
       "    <tr>\n",
       "      <th>4</th>\n",
       "      <td>Jasmine</td>\n",
       "      <td>Zamora</td>\n",
       "    </tr>\n",
       "  </tbody>\n",
       "</table>\n",
       "</div>"
      ],
      "text/plain": [
       "           0            1\n",
       "0      Frank      Manning\n",
       "1  Elizabeth      Johnson\n",
       "2     Donald     Stephens\n",
       "3    Michael  Vincent III\n",
       "4    Jasmine       Zamora"
      ]
     },
     "execution_count": 231,
     "metadata": {},
     "output_type": "execute_result"
    }
   ],
   "source": [
    "df_customers['Name'].str.split(pat=' ',n=1,expand=True).head()"
   ]
  },
  {
   "cell_type": "markdown",
   "id": "c80fb0c7",
   "metadata": {},
   "source": [
    "#### Create new columns for name and lastname"
   ]
  },
  {
   "cell_type": "code",
   "execution_count": 232,
   "id": "86b8d31a",
   "metadata": {},
   "outputs": [],
   "source": [
    "df_customers[[\"First Name\", \"Last Name\"]]= df_customers['Name'].str.split(pat=' ',n=1,expand=True)"
   ]
  },
  {
   "cell_type": "code",
   "execution_count": 233,
   "id": "18c279b8",
   "metadata": {},
   "outputs": [
    {
     "data": {
      "application/vnd.microsoft.datawrangler.viewer.v0+json": {
       "columns": [
        {
         "name": "index",
         "rawType": "int64",
         "type": "integer"
        },
        {
         "name": "Name",
         "rawType": "object",
         "type": "string"
        },
        {
         "name": "Address",
         "rawType": "object",
         "type": "string"
        },
        {
         "name": "First Name",
         "rawType": "object",
         "type": "string"
        },
        {
         "name": "Last Name",
         "rawType": "object",
         "type": "string"
        }
       ],
       "ref": "a9e3f10e-fab5-431f-ba74-fa4c3bc8539d",
       "rows": [
        [
         "0",
         "Frank Manning",
         "6461 Quinn Groves, East Matthew, New Hampshire, 16656",
         "Frank",
         "Manning"
        ],
        [
         "1",
         "Elizabeth Johnson",
         "1360 Tracey Ports Apt. 419, Kyleport, Vermont, 31924",
         "Elizabeth",
         "Johnson"
        ],
        [
         "2",
         "Donald Stephens",
         "19120 Fleming Manors, Prestonstad, Montana, 23495",
         "Donald",
         "Stephens"
        ],
        [
         "3",
         "Michael Vincent III",
         "441 Olivia Creek, Jimmymouth, Georgia, 82991",
         "Michael",
         "Vincent III"
        ],
        [
         "4",
         "Jasmine Zamora",
         "4246 Chelsey Ford Apt. 310, Karamouth, Utah, 76252",
         "Jasmine",
         "Zamora"
        ]
       ],
       "shape": {
        "columns": 4,
        "rows": 5
       }
      },
      "text/html": [
       "<div>\n",
       "<style scoped>\n",
       "    .dataframe tbody tr th:only-of-type {\n",
       "        vertical-align: middle;\n",
       "    }\n",
       "\n",
       "    .dataframe tbody tr th {\n",
       "        vertical-align: top;\n",
       "    }\n",
       "\n",
       "    .dataframe thead th {\n",
       "        text-align: right;\n",
       "    }\n",
       "</style>\n",
       "<table border=\"1\" class=\"dataframe\">\n",
       "  <thead>\n",
       "    <tr style=\"text-align: right;\">\n",
       "      <th></th>\n",
       "      <th>Name</th>\n",
       "      <th>Address</th>\n",
       "      <th>First Name</th>\n",
       "      <th>Last Name</th>\n",
       "    </tr>\n",
       "  </thead>\n",
       "  <tbody>\n",
       "    <tr>\n",
       "      <th>0</th>\n",
       "      <td>Frank Manning</td>\n",
       "      <td>6461 Quinn Groves, East Matthew, New Hampshire...</td>\n",
       "      <td>Frank</td>\n",
       "      <td>Manning</td>\n",
       "    </tr>\n",
       "    <tr>\n",
       "      <th>1</th>\n",
       "      <td>Elizabeth Johnson</td>\n",
       "      <td>1360 Tracey Ports Apt. 419, Kyleport, Vermont,...</td>\n",
       "      <td>Elizabeth</td>\n",
       "      <td>Johnson</td>\n",
       "    </tr>\n",
       "    <tr>\n",
       "      <th>2</th>\n",
       "      <td>Donald Stephens</td>\n",
       "      <td>19120 Fleming Manors, Prestonstad, Montana, 23495</td>\n",
       "      <td>Donald</td>\n",
       "      <td>Stephens</td>\n",
       "    </tr>\n",
       "    <tr>\n",
       "      <th>3</th>\n",
       "      <td>Michael Vincent III</td>\n",
       "      <td>441 Olivia Creek, Jimmymouth, Georgia, 82991</td>\n",
       "      <td>Michael</td>\n",
       "      <td>Vincent III</td>\n",
       "    </tr>\n",
       "    <tr>\n",
       "      <th>4</th>\n",
       "      <td>Jasmine Zamora</td>\n",
       "      <td>4246 Chelsey Ford Apt. 310, Karamouth, Utah, 7...</td>\n",
       "      <td>Jasmine</td>\n",
       "      <td>Zamora</td>\n",
       "    </tr>\n",
       "  </tbody>\n",
       "</table>\n",
       "</div>"
      ],
      "text/plain": [
       "                  Name                                            Address  \\\n",
       "0        Frank Manning  6461 Quinn Groves, East Matthew, New Hampshire...   \n",
       "1    Elizabeth Johnson  1360 Tracey Ports Apt. 419, Kyleport, Vermont,...   \n",
       "2      Donald Stephens  19120 Fleming Manors, Prestonstad, Montana, 23495   \n",
       "3  Michael Vincent III       441 Olivia Creek, Jimmymouth, Georgia, 82991   \n",
       "4       Jasmine Zamora  4246 Chelsey Ford Apt. 310, Karamouth, Utah, 7...   \n",
       "\n",
       "  First Name    Last Name  \n",
       "0      Frank      Manning  \n",
       "1  Elizabeth      Johnson  \n",
       "2     Donald     Stephens  \n",
       "3    Michael  Vincent III  \n",
       "4    Jasmine       Zamora  "
      ]
     },
     "execution_count": 233,
     "metadata": {},
     "output_type": "execute_result"
    }
   ],
   "source": [
    "df_customers.head()"
   ]
  },
  {
   "cell_type": "markdown",
   "id": "073f62f6",
   "metadata": {},
   "source": [
    "**Drop the extra column**"
   ]
  },
  {
   "cell_type": "code",
   "execution_count": 234,
   "id": "a11c79d5",
   "metadata": {},
   "outputs": [],
   "source": [
    "df_customers=df_customers.drop(labels='Name',axis='columns')"
   ]
  },
  {
   "cell_type": "markdown",
   "id": "e2648d79",
   "metadata": {},
   "source": [
    "**Change order of columns**"
   ]
  },
  {
   "cell_type": "code",
   "execution_count": 235,
   "id": "f67ec4c5",
   "metadata": {},
   "outputs": [
    {
     "data": {
      "application/vnd.microsoft.datawrangler.viewer.v0+json": {
       "columns": [
        {
         "name": "index",
         "rawType": "int64",
         "type": "integer"
        },
        {
         "name": "First Name",
         "rawType": "object",
         "type": "string"
        },
        {
         "name": "Last Name",
         "rawType": "object",
         "type": "string"
        },
        {
         "name": "Address",
         "rawType": "object",
         "type": "string"
        }
       ],
       "ref": "8d0342b6-eab2-4f56-9c8f-b253f6a74ad5",
       "rows": [
        [
         "0",
         "Frank",
         "Manning",
         "6461 Quinn Groves, East Matthew, New Hampshire, 16656"
        ],
        [
         "1",
         "Elizabeth",
         "Johnson",
         "1360 Tracey Ports Apt. 419, Kyleport, Vermont, 31924"
        ],
        [
         "2",
         "Donald",
         "Stephens",
         "19120 Fleming Manors, Prestonstad, Montana, 23495"
        ],
        [
         "3",
         "Michael",
         "Vincent III",
         "441 Olivia Creek, Jimmymouth, Georgia, 82991"
        ],
        [
         "4",
         "Jasmine",
         "Zamora",
         "4246 Chelsey Ford Apt. 310, Karamouth, Utah, 76252"
        ]
       ],
       "shape": {
        "columns": 3,
        "rows": 5
       }
      },
      "text/html": [
       "<div>\n",
       "<style scoped>\n",
       "    .dataframe tbody tr th:only-of-type {\n",
       "        vertical-align: middle;\n",
       "    }\n",
       "\n",
       "    .dataframe tbody tr th {\n",
       "        vertical-align: top;\n",
       "    }\n",
       "\n",
       "    .dataframe thead th {\n",
       "        text-align: right;\n",
       "    }\n",
       "</style>\n",
       "<table border=\"1\" class=\"dataframe\">\n",
       "  <thead>\n",
       "    <tr style=\"text-align: right;\">\n",
       "      <th></th>\n",
       "      <th>First Name</th>\n",
       "      <th>Last Name</th>\n",
       "      <th>Address</th>\n",
       "    </tr>\n",
       "  </thead>\n",
       "  <tbody>\n",
       "    <tr>\n",
       "      <th>0</th>\n",
       "      <td>Frank</td>\n",
       "      <td>Manning</td>\n",
       "      <td>6461 Quinn Groves, East Matthew, New Hampshire...</td>\n",
       "    </tr>\n",
       "    <tr>\n",
       "      <th>1</th>\n",
       "      <td>Elizabeth</td>\n",
       "      <td>Johnson</td>\n",
       "      <td>1360 Tracey Ports Apt. 419, Kyleport, Vermont,...</td>\n",
       "    </tr>\n",
       "    <tr>\n",
       "      <th>2</th>\n",
       "      <td>Donald</td>\n",
       "      <td>Stephens</td>\n",
       "      <td>19120 Fleming Manors, Prestonstad, Montana, 23495</td>\n",
       "    </tr>\n",
       "    <tr>\n",
       "      <th>3</th>\n",
       "      <td>Michael</td>\n",
       "      <td>Vincent III</td>\n",
       "      <td>441 Olivia Creek, Jimmymouth, Georgia, 82991</td>\n",
       "    </tr>\n",
       "    <tr>\n",
       "      <th>4</th>\n",
       "      <td>Jasmine</td>\n",
       "      <td>Zamora</td>\n",
       "      <td>4246 Chelsey Ford Apt. 310, Karamouth, Utah, 7...</td>\n",
       "    </tr>\n",
       "  </tbody>\n",
       "</table>\n",
       "</div>"
      ],
      "text/plain": [
       "  First Name    Last Name                                            Address\n",
       "0      Frank      Manning  6461 Quinn Groves, East Matthew, New Hampshire...\n",
       "1  Elizabeth      Johnson  1360 Tracey Ports Apt. 419, Kyleport, Vermont,...\n",
       "2     Donald     Stephens  19120 Fleming Manors, Prestonstad, Montana, 23495\n",
       "3    Michael  Vincent III       441 Olivia Creek, Jimmymouth, Georgia, 82991\n",
       "4    Jasmine       Zamora  4246 Chelsey Ford Apt. 310, Karamouth, Utah, 7..."
      ]
     },
     "execution_count": 235,
     "metadata": {},
     "output_type": "execute_result"
    }
   ],
   "source": [
    "df_customers=df_customers[['First Name', 'Last Name','Address']]\n",
    "df_customers.head()"
   ]
  },
  {
   "cell_type": "markdown",
   "id": "d5e90d53",
   "metadata": {},
   "source": [
    "### Task "
   ]
  },
  {
   "cell_type": "markdown",
   "id": "62e1c779",
   "metadata": {},
   "source": [
    "#### Retrieve Street, City, State and Zip from Address column"
   ]
  },
  {
   "cell_type": "code",
   "execution_count": 236,
   "id": "78d6bdb8",
   "metadata": {},
   "outputs": [
    {
     "data": {
      "application/vnd.microsoft.datawrangler.viewer.v0+json": {
       "columns": [
        {
         "name": "index",
         "rawType": "int64",
         "type": "integer"
        },
        {
         "name": "Address",
         "rawType": "object",
         "type": "unknown"
        }
       ],
       "ref": "b375e238-fd05-4ecb-8e51-9a9def3dc550",
       "rows": [
        [
         "0",
         "['6461 Quinn Groves', ' East Matthew', ' New Hampshire', ' 16656']"
        ],
        [
         "1",
         "['1360 Tracey Ports Apt. 419', ' Kyleport', ' Vermont', ' 31924']"
        ],
        [
         "2",
         "['19120 Fleming Manors', ' Prestonstad', ' Montana', ' 23495']"
        ],
        [
         "3",
         "['441 Olivia Creek', ' Jimmymouth', ' Georgia', ' 82991']"
        ],
        [
         "4",
         "['4246 Chelsey Ford Apt. 310', ' Karamouth', ' Utah', ' 76252']"
        ]
       ],
       "shape": {
        "columns": 1,
        "rows": 5
       }
      },
      "text/plain": [
       "0    [6461 Quinn Groves,  East Matthew,  New Hampsh...\n",
       "1    [1360 Tracey Ports Apt. 419,  Kyleport,  Vermo...\n",
       "2    [19120 Fleming Manors,  Prestonstad,  Montana,...\n",
       "3    [441 Olivia Creek,  Jimmymouth,  Georgia,  82991]\n",
       "4    [4246 Chelsey Ford Apt. 310,  Karamouth,  Utah...\n",
       "Name: Address, dtype: object"
      ]
     },
     "execution_count": 236,
     "metadata": {},
     "output_type": "execute_result"
    }
   ],
   "source": [
    "df_customers['Address'].str.split(',').head()"
   ]
  },
  {
   "cell_type": "code",
   "execution_count": 237,
   "id": "5fc9f638",
   "metadata": {},
   "outputs": [
    {
     "data": {
      "application/vnd.microsoft.datawrangler.viewer.v0+json": {
       "columns": [
        {
         "name": "index",
         "rawType": "int64",
         "type": "integer"
        },
        {
         "name": "0",
         "rawType": "object",
         "type": "string"
        },
        {
         "name": "1",
         "rawType": "object",
         "type": "string"
        },
        {
         "name": "2",
         "rawType": "object",
         "type": "string"
        },
        {
         "name": "3",
         "rawType": "object",
         "type": "string"
        }
       ],
       "ref": "6617cc19-f3a4-4b06-abeb-77c679896a33",
       "rows": [
        [
         "0",
         "6461 Quinn Groves",
         " East Matthew",
         " New Hampshire",
         " 16656"
        ],
        [
         "1",
         "1360 Tracey Ports Apt. 419",
         " Kyleport",
         " Vermont",
         " 31924"
        ],
        [
         "2",
         "19120 Fleming Manors",
         " Prestonstad",
         " Montana",
         " 23495"
        ],
        [
         "3",
         "441 Olivia Creek",
         " Jimmymouth",
         " Georgia",
         " 82991"
        ],
        [
         "4",
         "4246 Chelsey Ford Apt. 310",
         " Karamouth",
         " Utah",
         " 76252"
        ]
       ],
       "shape": {
        "columns": 4,
        "rows": 5
       }
      },
      "text/html": [
       "<div>\n",
       "<style scoped>\n",
       "    .dataframe tbody tr th:only-of-type {\n",
       "        vertical-align: middle;\n",
       "    }\n",
       "\n",
       "    .dataframe tbody tr th {\n",
       "        vertical-align: top;\n",
       "    }\n",
       "\n",
       "    .dataframe thead th {\n",
       "        text-align: right;\n",
       "    }\n",
       "</style>\n",
       "<table border=\"1\" class=\"dataframe\">\n",
       "  <thead>\n",
       "    <tr style=\"text-align: right;\">\n",
       "      <th></th>\n",
       "      <th>0</th>\n",
       "      <th>1</th>\n",
       "      <th>2</th>\n",
       "      <th>3</th>\n",
       "    </tr>\n",
       "  </thead>\n",
       "  <tbody>\n",
       "    <tr>\n",
       "      <th>0</th>\n",
       "      <td>6461 Quinn Groves</td>\n",
       "      <td>East Matthew</td>\n",
       "      <td>New Hampshire</td>\n",
       "      <td>16656</td>\n",
       "    </tr>\n",
       "    <tr>\n",
       "      <th>1</th>\n",
       "      <td>1360 Tracey Ports Apt. 419</td>\n",
       "      <td>Kyleport</td>\n",
       "      <td>Vermont</td>\n",
       "      <td>31924</td>\n",
       "    </tr>\n",
       "    <tr>\n",
       "      <th>2</th>\n",
       "      <td>19120 Fleming Manors</td>\n",
       "      <td>Prestonstad</td>\n",
       "      <td>Montana</td>\n",
       "      <td>23495</td>\n",
       "    </tr>\n",
       "    <tr>\n",
       "      <th>3</th>\n",
       "      <td>441 Olivia Creek</td>\n",
       "      <td>Jimmymouth</td>\n",
       "      <td>Georgia</td>\n",
       "      <td>82991</td>\n",
       "    </tr>\n",
       "    <tr>\n",
       "      <th>4</th>\n",
       "      <td>4246 Chelsey Ford Apt. 310</td>\n",
       "      <td>Karamouth</td>\n",
       "      <td>Utah</td>\n",
       "      <td>76252</td>\n",
       "    </tr>\n",
       "  </tbody>\n",
       "</table>\n",
       "</div>"
      ],
      "text/plain": [
       "                            0              1               2       3\n",
       "0           6461 Quinn Groves   East Matthew   New Hampshire   16656\n",
       "1  1360 Tracey Ports Apt. 419       Kyleport         Vermont   31924\n",
       "2        19120 Fleming Manors    Prestonstad         Montana   23495\n",
       "3            441 Olivia Creek     Jimmymouth         Georgia   82991\n",
       "4  4246 Chelsey Ford Apt. 310      Karamouth            Utah   76252"
      ]
     },
     "execution_count": 237,
     "metadata": {},
     "output_type": "execute_result"
    }
   ],
   "source": [
    "df_customers['Address'].str.split(pat=',',n=3,expand=True).head()"
   ]
  },
  {
   "cell_type": "code",
   "execution_count": 238,
   "id": "de9d037d",
   "metadata": {},
   "outputs": [],
   "source": [
    "df_customers[[\"Street\", \"City\",\"State\",'Zip']] = df_customers['Address'].str.split(pat=',',n=3,expand=True)"
   ]
  },
  {
   "cell_type": "code",
   "execution_count": 239,
   "id": "ea09eea6",
   "metadata": {},
   "outputs": [
    {
     "data": {
      "application/vnd.microsoft.datawrangler.viewer.v0+json": {
       "columns": [
        {
         "name": "index",
         "rawType": "int64",
         "type": "integer"
        },
        {
         "name": "First Name",
         "rawType": "object",
         "type": "string"
        },
        {
         "name": "Last Name",
         "rawType": "object",
         "type": "string"
        },
        {
         "name": "Address",
         "rawType": "object",
         "type": "string"
        },
        {
         "name": "Street",
         "rawType": "object",
         "type": "string"
        },
        {
         "name": "City",
         "rawType": "object",
         "type": "string"
        },
        {
         "name": "State",
         "rawType": "object",
         "type": "string"
        },
        {
         "name": "Zip",
         "rawType": "object",
         "type": "string"
        }
       ],
       "ref": "5174d449-dd60-4df1-9f96-07ee5ba2f48a",
       "rows": [
        [
         "0",
         "Frank",
         "Manning",
         "6461 Quinn Groves, East Matthew, New Hampshire, 16656",
         "6461 Quinn Groves",
         " East Matthew",
         " New Hampshire",
         " 16656"
        ],
        [
         "1",
         "Elizabeth",
         "Johnson",
         "1360 Tracey Ports Apt. 419, Kyleport, Vermont, 31924",
         "1360 Tracey Ports Apt. 419",
         " Kyleport",
         " Vermont",
         " 31924"
        ],
        [
         "2",
         "Donald",
         "Stephens",
         "19120 Fleming Manors, Prestonstad, Montana, 23495",
         "19120 Fleming Manors",
         " Prestonstad",
         " Montana",
         " 23495"
        ],
        [
         "3",
         "Michael",
         "Vincent III",
         "441 Olivia Creek, Jimmymouth, Georgia, 82991",
         "441 Olivia Creek",
         " Jimmymouth",
         " Georgia",
         " 82991"
        ],
        [
         "4",
         "Jasmine",
         "Zamora",
         "4246 Chelsey Ford Apt. 310, Karamouth, Utah, 76252",
         "4246 Chelsey Ford Apt. 310",
         " Karamouth",
         " Utah",
         " 76252"
        ]
       ],
       "shape": {
        "columns": 7,
        "rows": 5
       }
      },
      "text/html": [
       "<div>\n",
       "<style scoped>\n",
       "    .dataframe tbody tr th:only-of-type {\n",
       "        vertical-align: middle;\n",
       "    }\n",
       "\n",
       "    .dataframe tbody tr th {\n",
       "        vertical-align: top;\n",
       "    }\n",
       "\n",
       "    .dataframe thead th {\n",
       "        text-align: right;\n",
       "    }\n",
       "</style>\n",
       "<table border=\"1\" class=\"dataframe\">\n",
       "  <thead>\n",
       "    <tr style=\"text-align: right;\">\n",
       "      <th></th>\n",
       "      <th>First Name</th>\n",
       "      <th>Last Name</th>\n",
       "      <th>Address</th>\n",
       "      <th>Street</th>\n",
       "      <th>City</th>\n",
       "      <th>State</th>\n",
       "      <th>Zip</th>\n",
       "    </tr>\n",
       "  </thead>\n",
       "  <tbody>\n",
       "    <tr>\n",
       "      <th>0</th>\n",
       "      <td>Frank</td>\n",
       "      <td>Manning</td>\n",
       "      <td>6461 Quinn Groves, East Matthew, New Hampshire...</td>\n",
       "      <td>6461 Quinn Groves</td>\n",
       "      <td>East Matthew</td>\n",
       "      <td>New Hampshire</td>\n",
       "      <td>16656</td>\n",
       "    </tr>\n",
       "    <tr>\n",
       "      <th>1</th>\n",
       "      <td>Elizabeth</td>\n",
       "      <td>Johnson</td>\n",
       "      <td>1360 Tracey Ports Apt. 419, Kyleport, Vermont,...</td>\n",
       "      <td>1360 Tracey Ports Apt. 419</td>\n",
       "      <td>Kyleport</td>\n",
       "      <td>Vermont</td>\n",
       "      <td>31924</td>\n",
       "    </tr>\n",
       "    <tr>\n",
       "      <th>2</th>\n",
       "      <td>Donald</td>\n",
       "      <td>Stephens</td>\n",
       "      <td>19120 Fleming Manors, Prestonstad, Montana, 23495</td>\n",
       "      <td>19120 Fleming Manors</td>\n",
       "      <td>Prestonstad</td>\n",
       "      <td>Montana</td>\n",
       "      <td>23495</td>\n",
       "    </tr>\n",
       "    <tr>\n",
       "      <th>3</th>\n",
       "      <td>Michael</td>\n",
       "      <td>Vincent III</td>\n",
       "      <td>441 Olivia Creek, Jimmymouth, Georgia, 82991</td>\n",
       "      <td>441 Olivia Creek</td>\n",
       "      <td>Jimmymouth</td>\n",
       "      <td>Georgia</td>\n",
       "      <td>82991</td>\n",
       "    </tr>\n",
       "    <tr>\n",
       "      <th>4</th>\n",
       "      <td>Jasmine</td>\n",
       "      <td>Zamora</td>\n",
       "      <td>4246 Chelsey Ford Apt. 310, Karamouth, Utah, 7...</td>\n",
       "      <td>4246 Chelsey Ford Apt. 310</td>\n",
       "      <td>Karamouth</td>\n",
       "      <td>Utah</td>\n",
       "      <td>76252</td>\n",
       "    </tr>\n",
       "  </tbody>\n",
       "</table>\n",
       "</div>"
      ],
      "text/plain": [
       "  First Name    Last Name                                            Address  \\\n",
       "0      Frank      Manning  6461 Quinn Groves, East Matthew, New Hampshire...   \n",
       "1  Elizabeth      Johnson  1360 Tracey Ports Apt. 419, Kyleport, Vermont,...   \n",
       "2     Donald     Stephens  19120 Fleming Manors, Prestonstad, Montana, 23495   \n",
       "3    Michael  Vincent III       441 Olivia Creek, Jimmymouth, Georgia, 82991   \n",
       "4    Jasmine       Zamora  4246 Chelsey Ford Apt. 310, Karamouth, Utah, 7...   \n",
       "\n",
       "                       Street           City           State     Zip  \n",
       "0           6461 Quinn Groves   East Matthew   New Hampshire   16656  \n",
       "1  1360 Tracey Ports Apt. 419       Kyleport         Vermont   31924  \n",
       "2        19120 Fleming Manors    Prestonstad         Montana   23495  \n",
       "3            441 Olivia Creek     Jimmymouth         Georgia   82991  \n",
       "4  4246 Chelsey Ford Apt. 310      Karamouth            Utah   76252  "
      ]
     },
     "execution_count": 239,
     "metadata": {},
     "output_type": "execute_result"
    }
   ],
   "source": [
    "df_customers.head()"
   ]
  },
  {
   "cell_type": "code",
   "execution_count": 240,
   "id": "f237b697",
   "metadata": {},
   "outputs": [],
   "source": [
    "df_customers=df_customers.drop(labels='Address',axis='columns')"
   ]
  },
  {
   "cell_type": "code",
   "execution_count": 241,
   "id": "f07c1f2e",
   "metadata": {},
   "outputs": [
    {
     "data": {
      "application/vnd.microsoft.datawrangler.viewer.v0+json": {
       "columns": [
        {
         "name": "index",
         "rawType": "int64",
         "type": "integer"
        },
        {
         "name": "First Name",
         "rawType": "object",
         "type": "string"
        },
        {
         "name": "Last Name",
         "rawType": "object",
         "type": "string"
        },
        {
         "name": "Street",
         "rawType": "object",
         "type": "string"
        },
        {
         "name": "City",
         "rawType": "object",
         "type": "string"
        },
        {
         "name": "State",
         "rawType": "object",
         "type": "string"
        },
        {
         "name": "Zip",
         "rawType": "object",
         "type": "string"
        }
       ],
       "ref": "90c87259-a387-4567-9e97-5153660d7f1a",
       "rows": [
        [
         "0",
         "Frank",
         "Manning",
         "6461 Quinn Groves",
         " East Matthew",
         " New Hampshire",
         " 16656"
        ],
        [
         "1",
         "Elizabeth",
         "Johnson",
         "1360 Tracey Ports Apt. 419",
         " Kyleport",
         " Vermont",
         " 31924"
        ],
        [
         "2",
         "Donald",
         "Stephens",
         "19120 Fleming Manors",
         " Prestonstad",
         " Montana",
         " 23495"
        ],
        [
         "3",
         "Michael",
         "Vincent III",
         "441 Olivia Creek",
         " Jimmymouth",
         " Georgia",
         " 82991"
        ],
        [
         "4",
         "Jasmine",
         "Zamora",
         "4246 Chelsey Ford Apt. 310",
         " Karamouth",
         " Utah",
         " 76252"
        ]
       ],
       "shape": {
        "columns": 6,
        "rows": 5
       }
      },
      "text/html": [
       "<div>\n",
       "<style scoped>\n",
       "    .dataframe tbody tr th:only-of-type {\n",
       "        vertical-align: middle;\n",
       "    }\n",
       "\n",
       "    .dataframe tbody tr th {\n",
       "        vertical-align: top;\n",
       "    }\n",
       "\n",
       "    .dataframe thead th {\n",
       "        text-align: right;\n",
       "    }\n",
       "</style>\n",
       "<table border=\"1\" class=\"dataframe\">\n",
       "  <thead>\n",
       "    <tr style=\"text-align: right;\">\n",
       "      <th></th>\n",
       "      <th>First Name</th>\n",
       "      <th>Last Name</th>\n",
       "      <th>Street</th>\n",
       "      <th>City</th>\n",
       "      <th>State</th>\n",
       "      <th>Zip</th>\n",
       "    </tr>\n",
       "  </thead>\n",
       "  <tbody>\n",
       "    <tr>\n",
       "      <th>0</th>\n",
       "      <td>Frank</td>\n",
       "      <td>Manning</td>\n",
       "      <td>6461 Quinn Groves</td>\n",
       "      <td>East Matthew</td>\n",
       "      <td>New Hampshire</td>\n",
       "      <td>16656</td>\n",
       "    </tr>\n",
       "    <tr>\n",
       "      <th>1</th>\n",
       "      <td>Elizabeth</td>\n",
       "      <td>Johnson</td>\n",
       "      <td>1360 Tracey Ports Apt. 419</td>\n",
       "      <td>Kyleport</td>\n",
       "      <td>Vermont</td>\n",
       "      <td>31924</td>\n",
       "    </tr>\n",
       "    <tr>\n",
       "      <th>2</th>\n",
       "      <td>Donald</td>\n",
       "      <td>Stephens</td>\n",
       "      <td>19120 Fleming Manors</td>\n",
       "      <td>Prestonstad</td>\n",
       "      <td>Montana</td>\n",
       "      <td>23495</td>\n",
       "    </tr>\n",
       "    <tr>\n",
       "      <th>3</th>\n",
       "      <td>Michael</td>\n",
       "      <td>Vincent III</td>\n",
       "      <td>441 Olivia Creek</td>\n",
       "      <td>Jimmymouth</td>\n",
       "      <td>Georgia</td>\n",
       "      <td>82991</td>\n",
       "    </tr>\n",
       "    <tr>\n",
       "      <th>4</th>\n",
       "      <td>Jasmine</td>\n",
       "      <td>Zamora</td>\n",
       "      <td>4246 Chelsey Ford Apt. 310</td>\n",
       "      <td>Karamouth</td>\n",
       "      <td>Utah</td>\n",
       "      <td>76252</td>\n",
       "    </tr>\n",
       "  </tbody>\n",
       "</table>\n",
       "</div>"
      ],
      "text/plain": [
       "  First Name    Last Name                      Street           City  \\\n",
       "0      Frank      Manning           6461 Quinn Groves   East Matthew   \n",
       "1  Elizabeth      Johnson  1360 Tracey Ports Apt. 419       Kyleport   \n",
       "2     Donald     Stephens        19120 Fleming Manors    Prestonstad   \n",
       "3    Michael  Vincent III            441 Olivia Creek     Jimmymouth   \n",
       "4    Jasmine       Zamora  4246 Chelsey Ford Apt. 310      Karamouth   \n",
       "\n",
       "            State     Zip  \n",
       "0   New Hampshire   16656  \n",
       "1         Vermont   31924  \n",
       "2         Montana   23495  \n",
       "3         Georgia   82991  \n",
       "4            Utah   76252  "
      ]
     },
     "execution_count": 241,
     "metadata": {},
     "output_type": "execute_result"
    }
   ],
   "source": [
    "df_customers.head()"
   ]
  }
 ],
 "metadata": {
  "kernelspec": {
   "display_name": "base",
   "language": "python",
   "name": "python3"
  },
  "language_info": {
   "codemirror_mode": {
    "name": "ipython",
    "version": 3
   },
   "file_extension": ".py",
   "mimetype": "text/x-python",
   "name": "python",
   "nbconvert_exporter": "python",
   "pygments_lexer": "ipython3",
   "version": "3.12.2"
  }
 },
 "nbformat": 4,
 "nbformat_minor": 5
}
